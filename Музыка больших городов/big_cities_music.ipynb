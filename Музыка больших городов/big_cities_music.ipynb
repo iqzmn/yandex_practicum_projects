{
 "cells": [
  {
   "cell_type": "markdown",
   "metadata": {
    "toc": true
   },
   "source": [
    "<h1>Содержание<span class=\"tocSkip\"></span></h1>\n",
    "<div class=\"toc\"><ul class=\"toc-item\"><li><span><a href=\"#Обзор-данных\" data-toc-modified-id=\"Обзор-данных-1\"><span class=\"toc-item-num\">1&nbsp;&nbsp;</span>Обзор данных</a></span></li><li><span><a href=\"#Предобработка-данных\" data-toc-modified-id=\"Предобработка-данных-2\"><span class=\"toc-item-num\">2&nbsp;&nbsp;</span>Предобработка данных</a></span><ul class=\"toc-item\"><li><span><a href=\"#Стиль-заголовков\" data-toc-modified-id=\"Стиль-заголовков-2.1\"><span class=\"toc-item-num\">2.1&nbsp;&nbsp;</span>Стиль заголовков</a></span></li><li><span><a href=\"#Пропуски-значений\" data-toc-modified-id=\"Пропуски-значений-2.2\"><span class=\"toc-item-num\">2.2&nbsp;&nbsp;</span>Пропуски значений</a></span></li><li><span><a href=\"#Дубликаты\" data-toc-modified-id=\"Дубликаты-2.3\"><span class=\"toc-item-num\">2.3&nbsp;&nbsp;</span>Дубликаты</a></span></li></ul></li><li><span><a href=\"#Проверка-гипотез\" data-toc-modified-id=\"Проверка-гипотез-3\"><span class=\"toc-item-num\">3&nbsp;&nbsp;</span>Проверка гипотез</a></span><ul class=\"toc-item\"><li><span><a href=\"#Сравнение-поведения-пользователей-двух-столиц\" data-toc-modified-id=\"Сравнение-поведения-пользователей-двух-столиц-3.1\"><span class=\"toc-item-num\">3.1&nbsp;&nbsp;</span>Сравнение поведения пользователей двух столиц</a></span></li><li><span><a href=\"#Музыка-в-начале-и-в-конце-недели\" data-toc-modified-id=\"Музыка-в-начале-и-в-конце-недели-3.2\"><span class=\"toc-item-num\">3.2&nbsp;&nbsp;</span>Музыка в начале и в конце недели</a></span></li><li><span><a href=\"#Жанровые-предпочтения-в-Москве-и-Петербурге\" data-toc-modified-id=\"Жанровые-предпочтения-в-Москве-и-Петербурге-3.3\"><span class=\"toc-item-num\">3.3&nbsp;&nbsp;</span>Жанровые предпочтения в Москве и Петербурге</a></span></li></ul></li><li><span><a href=\"#Итоги-исследования\" data-toc-modified-id=\"Итоги-исследования-4\"><span class=\"toc-item-num\">4&nbsp;&nbsp;</span>Итоги исследования</a></span></li></ul></div>"
   ]
  },
  {
   "cell_type": "markdown",
   "metadata": {
    "deletable": false,
    "editable": false,
    "id": "E0vqbgi9ay0H"
   },
   "source": [
    "# Яндекс Музыка"
   ]
  },
  {
   "cell_type": "markdown",
   "metadata": {
    "deletable": false,
    "editable": false,
    "id": "VUC88oWjTJw2"
   },
   "source": [
    "На данных Яндекс Музыки сравним поведение пользователей двух столиц: Москвы и Санкт-Петербурга.\n",
    "\n",
    "**Цель исследования** — проверить три гипотезы:\n",
    "1. Активность пользователей меняется в зависимости от дня недели, причём в Москве и Санкт-Петербурге эти изменения различны.\n",
    "2. В Москве и Санкт-Петербурге в понедельник утром преобладают разные музыкальные жанры. То же самое можно сказать и о вечере пятницы — выбор жанра зависит от города.\n",
    "3. Москва и Санкт-Петербург имеют разные музыкальные предпочтения: в Москве больше слушают поп-музыку, а в Петербурге — русский рэп.\n",
    "\n",
    "**Ход исследования**\n",
    "\n",
    "Данные о поведении пользователей хранятся в файле `yndx_music.csv`. О качестве данных ничего не известно.\n",
    "\n",
    "Исследование произведём в три этапа:\n",
    " 1. Обзор данных.\n",
    " 2. Предобработка данных.\n",
    " 3. Проверка гипотез."
   ]
  },
  {
   "cell_type": "markdown",
   "metadata": {
    "deletable": false,
    "editable": false,
    "id": "Ml1hmfXC_Zcs"
   },
   "source": [
    "## Обзор данных\n",
    "\n",
    "Импортируем файл и получим общую информацию о данных в таблице."
   ]
  },
  {
   "cell_type": "code",
   "execution_count": 43,
   "metadata": {
    "deletable": false,
    "id": "AXN7PHPN_Zcs"
   },
   "outputs": [],
   "source": [
    "# импортируем библиотеку pandas\n",
    "import pandas as pd"
   ]
  },
  {
   "cell_type": "code",
   "execution_count": 44,
   "metadata": {
    "deletable": false,
    "id": "fFVu7vqh_Zct"
   },
   "outputs": [],
   "source": [
    "# читаем файл с данными и сохраняем в df\n",
    "df = pd.read_csv(\"yndx_music.csv\")"
   ]
  },
  {
   "cell_type": "code",
   "execution_count": 45,
   "metadata": {
    "deletable": false,
    "id": "oWTVX3gW_Zct"
   },
   "outputs": [
    {
     "data": {
      "text/html": [
       "<div>\n",
       "<style scoped>\n",
       "    .dataframe tbody tr th:only-of-type {\n",
       "        vertical-align: middle;\n",
       "    }\n",
       "\n",
       "    .dataframe tbody tr th {\n",
       "        vertical-align: top;\n",
       "    }\n",
       "\n",
       "    .dataframe thead th {\n",
       "        text-align: right;\n",
       "    }\n",
       "</style>\n",
       "<table border=\"1\" class=\"dataframe\">\n",
       "  <thead>\n",
       "    <tr style=\"text-align: right;\">\n",
       "      <th></th>\n",
       "      <th>userID</th>\n",
       "      <th>Track</th>\n",
       "      <th>artist</th>\n",
       "      <th>genre</th>\n",
       "      <th>City</th>\n",
       "      <th>time</th>\n",
       "      <th>Day</th>\n",
       "    </tr>\n",
       "  </thead>\n",
       "  <tbody>\n",
       "    <tr>\n",
       "      <th>0</th>\n",
       "      <td>FFB692EC</td>\n",
       "      <td>Kamigata To Boots</td>\n",
       "      <td>The Mass Missile</td>\n",
       "      <td>rock</td>\n",
       "      <td>Saint-Petersburg</td>\n",
       "      <td>20:28:33</td>\n",
       "      <td>Wednesday</td>\n",
       "    </tr>\n",
       "    <tr>\n",
       "      <th>1</th>\n",
       "      <td>55204538</td>\n",
       "      <td>Delayed Because of Accident</td>\n",
       "      <td>Andreas Rönnberg</td>\n",
       "      <td>rock</td>\n",
       "      <td>Moscow</td>\n",
       "      <td>14:07:09</td>\n",
       "      <td>Friday</td>\n",
       "    </tr>\n",
       "    <tr>\n",
       "      <th>2</th>\n",
       "      <td>20EC38</td>\n",
       "      <td>Funiculì funiculà</td>\n",
       "      <td>Mario Lanza</td>\n",
       "      <td>pop</td>\n",
       "      <td>Saint-Petersburg</td>\n",
       "      <td>20:58:07</td>\n",
       "      <td>Wednesday</td>\n",
       "    </tr>\n",
       "    <tr>\n",
       "      <th>3</th>\n",
       "      <td>A3DD03C9</td>\n",
       "      <td>Dragons in the Sunset</td>\n",
       "      <td>Fire + Ice</td>\n",
       "      <td>folk</td>\n",
       "      <td>Saint-Petersburg</td>\n",
       "      <td>08:37:09</td>\n",
       "      <td>Monday</td>\n",
       "    </tr>\n",
       "    <tr>\n",
       "      <th>4</th>\n",
       "      <td>E2DC1FAE</td>\n",
       "      <td>Soul People</td>\n",
       "      <td>Space Echo</td>\n",
       "      <td>dance</td>\n",
       "      <td>Moscow</td>\n",
       "      <td>08:34:34</td>\n",
       "      <td>Monday</td>\n",
       "    </tr>\n",
       "    <tr>\n",
       "      <th>5</th>\n",
       "      <td>842029A1</td>\n",
       "      <td>Преданная</td>\n",
       "      <td>IMPERVTOR</td>\n",
       "      <td>rusrap</td>\n",
       "      <td>Saint-Petersburg</td>\n",
       "      <td>13:09:41</td>\n",
       "      <td>Friday</td>\n",
       "    </tr>\n",
       "    <tr>\n",
       "      <th>6</th>\n",
       "      <td>4CB90AA5</td>\n",
       "      <td>True</td>\n",
       "      <td>Roman Messer</td>\n",
       "      <td>dance</td>\n",
       "      <td>Moscow</td>\n",
       "      <td>13:00:07</td>\n",
       "      <td>Wednesday</td>\n",
       "    </tr>\n",
       "    <tr>\n",
       "      <th>7</th>\n",
       "      <td>F03E1C1F</td>\n",
       "      <td>Feeling This Way</td>\n",
       "      <td>Polina Griffith</td>\n",
       "      <td>dance</td>\n",
       "      <td>Moscow</td>\n",
       "      <td>20:47:49</td>\n",
       "      <td>Wednesday</td>\n",
       "    </tr>\n",
       "    <tr>\n",
       "      <th>8</th>\n",
       "      <td>8FA1D3BE</td>\n",
       "      <td>И вновь продолжается бой</td>\n",
       "      <td>NaN</td>\n",
       "      <td>ruspop</td>\n",
       "      <td>Moscow</td>\n",
       "      <td>09:17:40</td>\n",
       "      <td>Friday</td>\n",
       "    </tr>\n",
       "    <tr>\n",
       "      <th>9</th>\n",
       "      <td>E772D5C0</td>\n",
       "      <td>Pessimist</td>\n",
       "      <td>NaN</td>\n",
       "      <td>dance</td>\n",
       "      <td>Saint-Petersburg</td>\n",
       "      <td>21:20:49</td>\n",
       "      <td>Wednesday</td>\n",
       "    </tr>\n",
       "  </tbody>\n",
       "</table>\n",
       "</div>"
      ],
      "text/plain": [
       "     userID                        Track            artist   genre  \\\n",
       "0  FFB692EC            Kamigata To Boots  The Mass Missile    rock   \n",
       "1  55204538  Delayed Because of Accident  Andreas Rönnberg    rock   \n",
       "2    20EC38            Funiculì funiculà       Mario Lanza     pop   \n",
       "3  A3DD03C9        Dragons in the Sunset        Fire + Ice    folk   \n",
       "4  E2DC1FAE                  Soul People        Space Echo   dance   \n",
       "5  842029A1                    Преданная         IMPERVTOR  rusrap   \n",
       "6  4CB90AA5                         True      Roman Messer   dance   \n",
       "7  F03E1C1F             Feeling This Way   Polina Griffith   dance   \n",
       "8  8FA1D3BE     И вновь продолжается бой               NaN  ruspop   \n",
       "9  E772D5C0                    Pessimist               NaN   dance   \n",
       "\n",
       "             City        time        Day  \n",
       "0  Saint-Petersburg  20:28:33  Wednesday  \n",
       "1            Moscow  14:07:09     Friday  \n",
       "2  Saint-Petersburg  20:58:07  Wednesday  \n",
       "3  Saint-Petersburg  08:37:09     Monday  \n",
       "4            Moscow  08:34:34     Monday  \n",
       "5  Saint-Petersburg  13:09:41     Friday  \n",
       "6            Moscow  13:00:07  Wednesday  \n",
       "7            Moscow  20:47:49  Wednesday  \n",
       "8            Moscow  09:17:40     Friday  \n",
       "9  Saint-Petersburg  21:20:49  Wednesday  "
      ]
     },
     "execution_count": 45,
     "metadata": {},
     "output_type": "execute_result"
    }
   ],
   "source": [
    "# получаем первые 10 строк таблицы df\n",
    "df.head(10)"
   ]
  },
  {
   "cell_type": "code",
   "execution_count": 46,
   "metadata": {
    "deletable": false,
    "id": "DSf2kIb-_Zct"
   },
   "outputs": [
    {
     "name": "stdout",
     "output_type": "stream",
     "text": [
      "<class 'pandas.core.frame.DataFrame'>\n",
      "RangeIndex: 65079 entries, 0 to 65078\n",
      "Data columns (total 7 columns):\n",
      " #   Column    Non-Null Count  Dtype \n",
      "---  ------    --------------  ----- \n",
      " 0     userID  65079 non-null  object\n",
      " 1   Track     63848 non-null  object\n",
      " 2   artist    57876 non-null  object\n",
      " 3   genre     63881 non-null  object\n",
      " 4     City    65079 non-null  object\n",
      " 5   time      65079 non-null  object\n",
      " 6   Day       65079 non-null  object\n",
      "dtypes: object(7)\n",
      "memory usage: 3.5+ MB\n"
     ]
    }
   ],
   "source": [
    "# получаем общую информацию о данных в таблице df\n",
    "df.info()"
   ]
  },
  {
   "cell_type": "markdown",
   "metadata": {
    "deletable": false,
    "editable": false,
    "id": "TaQ2Iwbr_Zct"
   },
   "source": [
    "Итак, в таблице семь столбцов. Тип данных во всех столбцах — `object`.\n",
    "\n",
    "Согласно документации к данным:\n",
    "* `userID` — идентификатор пользователя;\n",
    "* `Track` — название трека;  \n",
    "* `artist` — имя исполнителя;\n",
    "* `genre` — название жанра;\n",
    "* `City` — город пользователя;\n",
    "* `time` — время начала прослушивания;\n",
    "* `Day` — день недели.\n",
    "\n",
    "Количество значений в столбцах различается. Значит, в данных есть пропущенные значения.\n",
    "\n",
    "В названиях колонок три типа нарушения стиля:\n",
    "1. Строчные буквы сочетаются с прописными.\n",
    "2. Встречаются пробелы.\n",
    "3. Cтруктура userID не соответствует змеиному регистру"
   ]
  },
  {
   "cell_type": "markdown",
   "metadata": {
    "deletable": false,
    "editable": false,
    "id": "MCB6-dXG_Zct"
   },
   "source": [
    "**Выводы**\n",
    "\n",
    "Каждая строка таблицы содержит информацию о прослушанном треке. Некоторые колонки описывают сам трек: его название, исполнителя и жанр. Остальные данные относятся к пользователю: его индентификатор, город и время прослушивания музыки.\n",
    "\n",
    "Можно сказать, что данных достаточно для проверки гипотез. Однако в данных есть пропуски, а названия колонок не соответствуют хорошему стилю.\n",
    "\n",
    "Чтобы продолжить работу, необходимо исправить проблемы в данных."
   ]
  },
  {
   "cell_type": "markdown",
   "metadata": {
    "deletable": false,
    "editable": false,
    "id": "SjYF6Ub9_Zct"
   },
   "source": [
    "## Предобработка данных\n",
    "\n",
    "Исправим стиль загловков столбцов таблицы. Проверим данные на пропуски и дубликаты."
   ]
  },
  {
   "cell_type": "markdown",
   "metadata": {
    "deletable": false,
    "editable": false,
    "id": "dIaKXr29_Zct",
    "tags": [
     "start_task"
    ]
   },
   "source": [
    "### Стиль заголовков"
   ]
  },
  {
   "cell_type": "code",
   "execution_count": 47,
   "metadata": {
    "deletable": false,
    "id": "oKOTdF_Q_Zct"
   },
   "outputs": [
    {
     "data": {
      "text/plain": [
       "Index(['  userID', 'Track', 'artist', 'genre', '  City  ', 'time', 'Day'], dtype='object')"
      ]
     },
     "execution_count": 47,
     "metadata": {},
     "output_type": "execute_result"
    }
   ],
   "source": [
    "# перечень названий столбцов таблицы df\n",
    "df.columns"
   ]
  },
  {
   "cell_type": "markdown",
   "metadata": {
    "deletable": false,
    "editable": false,
    "id": "zj5534cv_Zct",
    "tags": [
     "start_task"
    ]
   },
   "source": [
    "Приведём названия в соответствие с хорошим стилем:\n",
    "* несколько слов в названии запишем в «змеином регистре»,\n",
    "* все символы сделаем строчными,\n",
    "* устраним пробелы.\n",
    "\n",
    "Для этого переименуем колонки:\n",
    "* `'  userID'` → `'user_id'`;\n",
    "* `'Track'` → `'track'`;\n",
    "* `'  City  '` → `'city'`;\n",
    "* `'Day'` → `'day'`."
   ]
  },
  {
   "cell_type": "code",
   "execution_count": 48,
   "metadata": {
    "deletable": false,
    "id": "ISlFqs5y_Zct"
   },
   "outputs": [],
   "source": [
    "# переименуем столбцы\n",
    "df = df.rename(columns={'  userID':'user_id','Track':'track','  City  ':'city','Day':'day'})"
   ]
  },
  {
   "cell_type": "code",
   "execution_count": 49,
   "metadata": {
    "deletable": false,
    "id": "d4NOAmTW_Zct"
   },
   "outputs": [
    {
     "data": {
      "text/plain": [
       "Index(['user_id', 'track', 'artist', 'genre', 'city', 'time', 'day'], dtype='object')"
      ]
     },
     "execution_count": 49,
     "metadata": {},
     "output_type": "execute_result"
    }
   ],
   "source": [
    "# проверим результаты\n",
    "df.columns"
   ]
  },
  {
   "cell_type": "markdown",
   "metadata": {
    "deletable": false,
    "editable": false,
    "id": "5ISfbcfY_Zct",
    "tags": [
     "start_task"
    ]
   },
   "source": [
    "### Пропуски значений\n",
    "\n",
    "Подсчитаем, сколько в таблице пропущенных значений:"
   ]
  },
  {
   "cell_type": "code",
   "execution_count": 50,
   "metadata": {
    "deletable": false,
    "id": "RskX29qr_Zct"
   },
   "outputs": [
    {
     "data": {
      "text/plain": [
       "user_id       0\n",
       "track      1231\n",
       "artist     7203\n",
       "genre      1198\n",
       "city          0\n",
       "time          0\n",
       "day           0\n",
       "dtype: int64"
      ]
     },
     "execution_count": 50,
     "metadata": {},
     "output_type": "execute_result"
    }
   ],
   "source": [
    "# подсчитаем пропуски\n",
    "df.isna().sum()"
   ]
  },
  {
   "cell_type": "markdown",
   "metadata": {
    "deletable": false,
    "editable": false,
    "id": "qubhgnlO_Zct"
   },
   "source": [
    "Не все отсутствующие значения влияют на исследование. Например, пропуски в `track` и `artist` не важны для вашей работы и могут быть заменены явными обозначениями.\n",
    "\n",
    "Однако, пропуски в `genre` могут затруднить сравнение музыкальных предпочтений в Москве и Санкт-Петербурге. В идеале, нужно было бы определить причину пропусков и восстановить данные, но это невозможно в рамках данного проекта. Поэтому придётся:\n",
    "\n",
    "- заполнить эти пропуски явными обозначениями;\n",
    "- оценить, как это повлияет на расчёты."
   ]
  },
  {
   "cell_type": "markdown",
   "metadata": {
    "deletable": false,
    "editable": false,
    "id": "fSv2laPA_Zct",
    "tags": [
     "start_task"
    ]
   },
   "source": [
    "Заменим пропущенные значения в столбцах `track`, `artist` и `genre` на строку `'unknown'`. Для этого создадим список `columns_to_replace`, воспользуемся циклом `for` и для каждого столбца выполним замену пропущенных значений:"
   ]
  },
  {
   "cell_type": "code",
   "execution_count": 51,
   "metadata": {
    "deletable": false,
    "id": "KplB5qWs_Zct"
   },
   "outputs": [],
   "source": [
    "# перебор названий столбцов в цикле и замена пропущенных значений на 'unknown'\n",
    "columns_to_replace = ['track', 'artist', 'genre']\n",
    "for col in columns_to_replace:\n",
    "    df[col] = df[col].fillna('unknown')"
   ]
  },
  {
   "cell_type": "markdown",
   "metadata": {
    "deletable": false,
    "editable": false,
    "id": "Ilsm-MZo_Zct",
    "tags": [
     "start_task"
    ]
   },
   "source": [
    "Убедимся, что в таблице не осталось пропусков."
   ]
  },
  {
   "cell_type": "code",
   "execution_count": 52,
   "metadata": {
    "deletable": false,
    "id": "Tq4nYRX4_Zct"
   },
   "outputs": [
    {
     "data": {
      "text/plain": [
       "user_id    0\n",
       "track      0\n",
       "artist     0\n",
       "genre      0\n",
       "city       0\n",
       "time       0\n",
       "day        0\n",
       "dtype: int64"
      ]
     },
     "execution_count": 52,
     "metadata": {},
     "output_type": "execute_result"
    }
   ],
   "source": [
    "# подсчёт пропусков\n",
    "df.isna().sum()"
   ]
  },
  {
   "cell_type": "markdown",
   "metadata": {
    "deletable": false,
    "editable": false,
    "id": "BWKRtBJ3_Zct",
    "tags": [
     "start_task"
    ]
   },
   "source": [
    "### Дубликаты"
   ]
  },
  {
   "cell_type": "markdown",
   "metadata": {},
   "source": [
    "Сначала займёмся явными дубликатами"
   ]
  },
  {
   "cell_type": "code",
   "execution_count": 53,
   "metadata": {
    "deletable": false,
    "id": "36eES_S0_Zct"
   },
   "outputs": [
    {
     "data": {
      "text/plain": [
       "3826"
      ]
     },
     "execution_count": 53,
     "metadata": {},
     "output_type": "execute_result"
    }
   ],
   "source": [
    "# подсчитаем явные дубликаты\n",
    "df.duplicated().sum()"
   ]
  },
  {
   "cell_type": "code",
   "execution_count": 54,
   "metadata": {
    "deletable": false,
    "id": "exFHq6tt_Zct"
   },
   "outputs": [],
   "source": [
    "# удалим явные дубликаты\n",
    "df = df.drop_duplicates()"
   ]
  },
  {
   "cell_type": "code",
   "execution_count": 55,
   "metadata": {
    "deletable": false,
    "id": "-8PuNWQ0_Zct"
   },
   "outputs": [
    {
     "data": {
      "text/plain": [
       "0"
      ]
     },
     "execution_count": 55,
     "metadata": {},
     "output_type": "execute_result"
    }
   ],
   "source": [
    "# проверим на отсутствие дубликатов\n",
    "df.duplicated().sum()"
   ]
  },
  {
   "cell_type": "markdown",
   "metadata": {
    "deletable": false,
    "editable": false,
    "id": "QlFBsxAr_Zct"
   },
   "source": [
    "Теперь избавимся от неявных дубликатов в колонке `genre`. Название одного и того же жанра может быть записано по-разному, а такие ошибки влияют на результат исследования."
   ]
  },
  {
   "cell_type": "code",
   "execution_count": 56,
   "metadata": {
    "deletable": false,
    "id": "JIUcqzZN_Zct"
   },
   "outputs": [
    {
     "data": {
      "text/plain": [
       "array(['acid', 'acoustic', 'action', 'adult', 'africa', 'afrikaans',\n",
       "       'alternative', 'alternativepunk', 'ambient', 'americana',\n",
       "       'animated', 'anime', 'arabesk', 'arabic', 'arena',\n",
       "       'argentinetango', 'art', 'audiobook', 'author', 'avantgarde',\n",
       "       'axé', 'baile', 'balkan', 'beats', 'bigroom', 'black', 'bluegrass',\n",
       "       'blues', 'bollywood', 'bossa', 'brazilian', 'breakbeat', 'breaks',\n",
       "       'broadway', 'cantautori', 'cantopop', 'canzone', 'caribbean',\n",
       "       'caucasian', 'celtic', 'chamber', 'chanson', 'children', 'chill',\n",
       "       'chinese', 'choral', 'christian', 'christmas', 'classical',\n",
       "       'classicmetal', 'club', 'colombian', 'comedy', 'conjazz',\n",
       "       'contemporary', 'country', 'cuban', 'dance', 'dancehall',\n",
       "       'dancepop', 'dark', 'death', 'deep', 'deutschrock', 'deutschspr',\n",
       "       'dirty', 'disco', 'dnb', 'documentary', 'downbeat', 'downtempo',\n",
       "       'drum', 'dub', 'dubstep', 'eastern', 'easy', 'electronic',\n",
       "       'electropop', 'emo', 'entehno', 'epicmetal', 'estrada', 'ethnic',\n",
       "       'eurofolk', 'european', 'experimental', 'extrememetal', 'fado',\n",
       "       'fairytail', 'film', 'fitness', 'flamenco', 'folk', 'folklore',\n",
       "       'folkmetal', 'folkrock', 'folktronica', 'forró', 'frankreich',\n",
       "       'französisch', 'french', 'funk', 'future', 'gangsta', 'garage',\n",
       "       'german', 'ghazal', 'gitarre', 'glitch', 'gospel', 'gothic',\n",
       "       'grime', 'grunge', 'gypsy', 'handsup', \"hard'n'heavy\", 'hardcore',\n",
       "       'hardstyle', 'hardtechno', 'hip', 'hip-hop', 'hiphop',\n",
       "       'historisch', 'holiday', 'hop', 'horror', 'house', 'hymn', 'idm',\n",
       "       'independent', 'indian', 'indie', 'indipop', 'industrial',\n",
       "       'inspirational', 'instrumental', 'international', 'irish', 'jam',\n",
       "       'japanese', 'jazz', 'jewish', 'jpop', 'jungle', 'k-pop',\n",
       "       'karadeniz', 'karaoke', 'kayokyoku', 'korean', 'laiko', 'latin',\n",
       "       'latino', 'leftfield', 'local', 'lounge', 'loungeelectronic',\n",
       "       'lovers', 'malaysian', 'mandopop', 'marschmusik', 'meditative',\n",
       "       'mediterranean', 'melodic', 'metal', 'metalcore', 'mexican',\n",
       "       'middle', 'minimal', 'miscellaneous', 'modern', 'mood', 'mpb',\n",
       "       'muslim', 'native', 'neoklassik', 'neue', 'new', 'newage',\n",
       "       'newwave', 'nu', 'nujazz', 'numetal', 'oceania', 'old', 'opera',\n",
       "       'orchestral', 'other', 'piano', 'podcasts', 'pop', 'popdance',\n",
       "       'popelectronic', 'popeurodance', 'poprussian', 'post',\n",
       "       'posthardcore', 'postrock', 'power', 'progmetal', 'progressive',\n",
       "       'psychedelic', 'punjabi', 'punk', 'quebecois', 'ragga', 'ram',\n",
       "       'rancheras', 'rap', 'rave', 'reggae', 'reggaeton', 'regional',\n",
       "       'relax', 'religious', 'retro', 'rhythm', 'rnb', 'rnr', 'rock',\n",
       "       'rockabilly', 'rockalternative', 'rockindie', 'rockother',\n",
       "       'romance', 'roots', 'ruspop', 'rusrap', 'rusrock', 'russian',\n",
       "       'salsa', 'samba', 'scenic', 'schlager', 'self', 'sertanejo',\n",
       "       'shanson', 'shoegazing', 'showtunes', 'singer', 'ska', 'skarock',\n",
       "       'slow', 'smooth', 'soft', 'soul', 'soulful', 'sound', 'soundtrack',\n",
       "       'southern', 'specialty', 'speech', 'spiritual', 'sport',\n",
       "       'stonerrock', 'surf', 'swing', 'synthpop', 'synthrock',\n",
       "       'sängerportrait', 'tango', 'tanzorchester', 'taraftar', 'tatar',\n",
       "       'tech', 'techno', 'teen', 'thrash', 'top', 'traditional',\n",
       "       'tradjazz', 'trance', 'tribal', 'trip', 'triphop', 'tropical',\n",
       "       'türk', 'türkçe', 'ukrrock', 'unknown', 'urban', 'uzbek',\n",
       "       'variété', 'vi', 'videogame', 'vocal', 'western', 'world',\n",
       "       'worldbeat', 'ïîï', 'электроника'], dtype=object)"
      ]
     },
     "execution_count": 56,
     "metadata": {},
     "output_type": "execute_result"
    }
   ],
   "source": [
    "#просмотрим уникальные названия жанров\n",
    "df2 = df['genre'].sort_values().unique()\n",
    "df2"
   ]
  },
  {
   "cell_type": "markdown",
   "metadata": {
    "deletable": false,
    "editable": false,
    "id": "qej-Qmuo_Zct",
    "tags": [
     "start_task"
    ]
   },
   "source": [
    "Видим следующие неявные дубликаты:\n",
    "* *hip*,\n",
    "* *hop*,\n",
    "* *hip-hop*.  \n",
    "\n",
    "Заменим их на *hiphop*."
   ]
  },
  {
   "cell_type": "code",
   "execution_count": 57,
   "metadata": {
    "deletable": false,
    "id": "ErNDkmns_Zct",
    "scrolled": true
   },
   "outputs": [],
   "source": [
    "# Устранение неявных дубликатов\n",
    "duplicates = ['hip', 'hop', 'hip-hop']\n",
    "df['genre'] = df['genre'].replace(duplicates, 'hiphop')"
   ]
  },
  {
   "cell_type": "code",
   "execution_count": 58,
   "metadata": {
    "deletable": false,
    "id": "wvixALnFG15m"
   },
   "outputs": [
    {
     "data": {
      "text/plain": [
       "array(['acid', 'acoustic', 'action', 'adult', 'africa', 'afrikaans',\n",
       "       'alternative', 'alternativepunk', 'ambient', 'americana',\n",
       "       'animated', 'anime', 'arabesk', 'arabic', 'arena',\n",
       "       'argentinetango', 'art', 'audiobook', 'author', 'avantgarde',\n",
       "       'axé', 'baile', 'balkan', 'beats', 'bigroom', 'black', 'bluegrass',\n",
       "       'blues', 'bollywood', 'bossa', 'brazilian', 'breakbeat', 'breaks',\n",
       "       'broadway', 'cantautori', 'cantopop', 'canzone', 'caribbean',\n",
       "       'caucasian', 'celtic', 'chamber', 'chanson', 'children', 'chill',\n",
       "       'chinese', 'choral', 'christian', 'christmas', 'classical',\n",
       "       'classicmetal', 'club', 'colombian', 'comedy', 'conjazz',\n",
       "       'contemporary', 'country', 'cuban', 'dance', 'dancehall',\n",
       "       'dancepop', 'dark', 'death', 'deep', 'deutschrock', 'deutschspr',\n",
       "       'dirty', 'disco', 'dnb', 'documentary', 'downbeat', 'downtempo',\n",
       "       'drum', 'dub', 'dubstep', 'eastern', 'easy', 'electronic',\n",
       "       'electropop', 'emo', 'entehno', 'epicmetal', 'estrada', 'ethnic',\n",
       "       'eurofolk', 'european', 'experimental', 'extrememetal', 'fado',\n",
       "       'fairytail', 'film', 'fitness', 'flamenco', 'folk', 'folklore',\n",
       "       'folkmetal', 'folkrock', 'folktronica', 'forró', 'frankreich',\n",
       "       'französisch', 'french', 'funk', 'future', 'gangsta', 'garage',\n",
       "       'german', 'ghazal', 'gitarre', 'glitch', 'gospel', 'gothic',\n",
       "       'grime', 'grunge', 'gypsy', 'handsup', \"hard'n'heavy\", 'hardcore',\n",
       "       'hardstyle', 'hardtechno', 'hiphop', 'historisch', 'holiday',\n",
       "       'horror', 'house', 'hymn', 'idm', 'independent', 'indian', 'indie',\n",
       "       'indipop', 'industrial', 'inspirational', 'instrumental',\n",
       "       'international', 'irish', 'jam', 'japanese', 'jazz', 'jewish',\n",
       "       'jpop', 'jungle', 'k-pop', 'karadeniz', 'karaoke', 'kayokyoku',\n",
       "       'korean', 'laiko', 'latin', 'latino', 'leftfield', 'local',\n",
       "       'lounge', 'loungeelectronic', 'lovers', 'malaysian', 'mandopop',\n",
       "       'marschmusik', 'meditative', 'mediterranean', 'melodic', 'metal',\n",
       "       'metalcore', 'mexican', 'middle', 'minimal', 'miscellaneous',\n",
       "       'modern', 'mood', 'mpb', 'muslim', 'native', 'neoklassik', 'neue',\n",
       "       'new', 'newage', 'newwave', 'nu', 'nujazz', 'numetal', 'oceania',\n",
       "       'old', 'opera', 'orchestral', 'other', 'piano', 'podcasts', 'pop',\n",
       "       'popdance', 'popelectronic', 'popeurodance', 'poprussian', 'post',\n",
       "       'posthardcore', 'postrock', 'power', 'progmetal', 'progressive',\n",
       "       'psychedelic', 'punjabi', 'punk', 'quebecois', 'ragga', 'ram',\n",
       "       'rancheras', 'rap', 'rave', 'reggae', 'reggaeton', 'regional',\n",
       "       'relax', 'religious', 'retro', 'rhythm', 'rnb', 'rnr', 'rock',\n",
       "       'rockabilly', 'rockalternative', 'rockindie', 'rockother',\n",
       "       'romance', 'roots', 'ruspop', 'rusrap', 'rusrock', 'russian',\n",
       "       'salsa', 'samba', 'scenic', 'schlager', 'self', 'sertanejo',\n",
       "       'shanson', 'shoegazing', 'showtunes', 'singer', 'ska', 'skarock',\n",
       "       'slow', 'smooth', 'soft', 'soul', 'soulful', 'sound', 'soundtrack',\n",
       "       'southern', 'specialty', 'speech', 'spiritual', 'sport',\n",
       "       'stonerrock', 'surf', 'swing', 'synthpop', 'synthrock',\n",
       "       'sängerportrait', 'tango', 'tanzorchester', 'taraftar', 'tatar',\n",
       "       'tech', 'techno', 'teen', 'thrash', 'top', 'traditional',\n",
       "       'tradjazz', 'trance', 'tribal', 'trip', 'triphop', 'tropical',\n",
       "       'türk', 'türkçe', 'ukrrock', 'unknown', 'urban', 'uzbek',\n",
       "       'variété', 'vi', 'videogame', 'vocal', 'western', 'world',\n",
       "       'worldbeat', 'ïîï', 'электроника'], dtype=object)"
      ]
     },
     "execution_count": 58,
     "metadata": {},
     "output_type": "execute_result"
    }
   ],
   "source": [
    "# Проверка на неявные дубликаты\n",
    "df2 = df.sort_values(by='genre')\n",
    "df2['genre'].unique()"
   ]
  },
  {
   "cell_type": "markdown",
   "metadata": {
    "deletable": false,
    "editable": false,
    "id": "jz6a9-7HQUDd"
   },
   "source": [
    "**Выводы**\n",
    "\n",
    "В ходе предобработки данных были обнаружены и исправлены три проблемы:\n",
    "\n",
    "- нарушения в стиле названий колонок,\n",
    "- отсутствующие значения,\n",
    "- дубликаты, как явные, так и неявные."
   ]
  },
  {
   "cell_type": "markdown",
   "metadata": {
    "deletable": false,
    "editable": false,
    "id": "WttZHXH0SqKk"
   },
   "source": [
    "## Проверка гипотез"
   ]
  },
  {
   "cell_type": "markdown",
   "metadata": {
    "deletable": false,
    "editable": false,
    "id": "Im936VVi_Zcu"
   },
   "source": [
    "### Сравнение поведения пользователей двух столиц"
   ]
  },
  {
   "cell_type": "markdown",
   "metadata": {
    "deletable": false,
    "editable": false,
    "id": "nwt_MuaL_Zcu"
   },
   "source": [
    "Первая гипотеза предполагает, что музыкальные предпочтения пользователей в Москве и Санкт-Петербурге различаются. Мы можем проверить это, анализируя данные за три дня недели — понедельник, среду и пятницу.  \n",
    "Для этого:\n",
    "\n",
    "- Разграничим пользователей из Москвы и Санкт-Петербурга.\n",
    "- Сопоставим количество треков, которые каждая группа пользователей прослушала в понедельник, среду и пятницу."
   ]
  },
  {
   "cell_type": "markdown",
   "metadata": {
    "deletable": false,
    "editable": false,
    "id": "POzs8bGa_Zcu",
    "tags": [
     "start_task"
    ]
   },
   "source": [
    "Создадим функцию number_tracks(), которая будет подсчитывать количество прослушиваний для указанного дня и города. Это можно сделать с помощью последовательной фильтрации с использованием логической индексации.  \n",
    "На вход функция принимает два параметра:\n",
    "\n",
    "- день недели,\n",
    "- название города."
   ]
  },
  {
   "cell_type": "code",
   "execution_count": 59,
   "metadata": {
    "deletable": false,
    "id": "Nz3GdQB1_Zcu"
   },
   "outputs": [],
   "source": [
    "# <создаём функцию number_tracks()>\n",
    "\n",
    "def number_tracks(day, city):\n",
    "    track_list = df[df['day']==day]\n",
    "    track_list = track_list[df['city']==city]\n",
    "    track_list_count = track_list['user_id'].count()\n",
    "    return track_list_count"
   ]
  },
  {
   "cell_type": "markdown",
   "metadata": {
    "deletable": false,
    "editable": false,
    "id": "ytf7xFrFJQ2r",
    "tags": [
     "start_task"
    ]
   },
   "source": [
    "Вызовем `number_tracks()` шесть раз, т.е. для каждого города в каждый из трёх дней."
   ]
  },
  {
   "cell_type": "code",
   "execution_count": null,
   "metadata": {
    "deletable": false,
    "id": "rJcRATNQ_Zcu"
   },
   "outputs": [],
   "source": [
    "# количество прослушиваний в Москве по понедельникам\n",
    "number_tracks('Monday','Moscow')"
   ]
  },
  {
   "cell_type": "markdown",
   "metadata": {},
   "source": [
    "15740"
   ]
  },
  {
   "cell_type": "code",
   "execution_count": null,
   "metadata": {
    "deletable": false,
    "id": "hq_ncZ5T_Zcu"
   },
   "outputs": [],
   "source": [
    "# количество прослушиваний в Санкт-Петербурге по понедельникам\n",
    "number_tracks('Monday','Saint-Petersburg')"
   ]
  },
  {
   "cell_type": "markdown",
   "metadata": {},
   "source": [
    "5614"
   ]
  },
  {
   "cell_type": "code",
   "execution_count": null,
   "metadata": {
    "deletable": false,
    "id": "_NTy2VPU_Zcu"
   },
   "outputs": [],
   "source": [
    "# количество прослушиваний в Москве по средам\n",
    "number_tracks('Wednesday','Moscow')"
   ]
  },
  {
   "cell_type": "markdown",
   "metadata": {},
   "source": [
    "11056"
   ]
  },
  {
   "cell_type": "code",
   "execution_count": null,
   "metadata": {
    "deletable": false,
    "id": "j2y3TAwo_Zcu"
   },
   "outputs": [],
   "source": [
    "# количество прослушиваний в Санкт-Петербурге по средам\n",
    "number_tracks('Wednesday','Saint-Petersburg')"
   ]
  },
  {
   "cell_type": "markdown",
   "metadata": {},
   "source": [
    "7003"
   ]
  },
  {
   "cell_type": "code",
   "execution_count": null,
   "metadata": {
    "deletable": false,
    "id": "vYDw5u_K_Zcu"
   },
   "outputs": [],
   "source": [
    "# количество прослушиваний в Москве по пятницам\n",
    "number_tracks('Friday','Moscow')"
   ]
  },
  {
   "cell_type": "markdown",
   "metadata": {},
   "source": [
    "15945"
   ]
  },
  {
   "cell_type": "code",
   "execution_count": null,
   "metadata": {
    "deletable": false,
    "id": "8_yzFtW3_Zcu"
   },
   "outputs": [],
   "source": [
    "# количество прослушиваний в Санкт-Петербурге по пятницам\n",
    "number_tracks('Friday','Saint-Petersburg')"
   ]
  },
  {
   "cell_type": "markdown",
   "metadata": {},
   "source": [
    "5895"
   ]
  },
  {
   "cell_type": "markdown",
   "metadata": {
    "deletable": false,
    "editable": false,
    "id": "7QXffbO-_Zcu",
    "tags": [
     "start_task"
    ]
   },
   "source": [
    "С помощью конструктора `pd.DataFrame` создадим таблицу, где\n",
    "* названия колонок — `['city', 'monday', 'wednesday', 'friday']`;\n",
    "* данные — результаты, которые мы получили с помощью `number_tracks`."
   ]
  },
  {
   "cell_type": "code",
   "execution_count": 66,
   "metadata": {
    "deletable": false,
    "id": "APAcLpOr_Zcu"
   },
   "outputs": [
    {
     "data": {
      "text/html": [
       "<div>\n",
       "<style scoped>\n",
       "    .dataframe tbody tr th:only-of-type {\n",
       "        vertical-align: middle;\n",
       "    }\n",
       "\n",
       "    .dataframe tbody tr th {\n",
       "        vertical-align: top;\n",
       "    }\n",
       "\n",
       "    .dataframe thead th {\n",
       "        text-align: right;\n",
       "    }\n",
       "</style>\n",
       "<table border=\"1\" class=\"dataframe\">\n",
       "  <thead>\n",
       "    <tr style=\"text-align: right;\">\n",
       "      <th></th>\n",
       "      <th>city</th>\n",
       "      <th>monday</th>\n",
       "      <th>wednesday</th>\n",
       "      <th>friday</th>\n",
       "    </tr>\n",
       "  </thead>\n",
       "  <tbody>\n",
       "    <tr>\n",
       "      <th>0</th>\n",
       "      <td>Moscow</td>\n",
       "      <td>15740</td>\n",
       "      <td>11056</td>\n",
       "      <td>15945</td>\n",
       "    </tr>\n",
       "    <tr>\n",
       "      <th>1</th>\n",
       "      <td>Saint-Petersburg</td>\n",
       "      <td>5614</td>\n",
       "      <td>7003</td>\n",
       "      <td>5895</td>\n",
       "    </tr>\n",
       "  </tbody>\n",
       "</table>\n",
       "</div>"
      ],
      "text/plain": [
       "               city  monday  wednesday  friday\n",
       "0            Moscow   15740      11056   15945\n",
       "1  Saint-Petersburg    5614       7003    5895"
      ]
     },
     "execution_count": 66,
     "metadata": {},
     "output_type": "execute_result"
    }
   ],
   "source": [
    "# Таблица с результатами\n",
    "data = {'city':['Moscow', 'Saint-Petersburg'], \n",
    "        'monday':[15740,5614], \n",
    "        'wednesday':[11056,7003], \n",
    "        'friday':[15945,5895]}\n",
    "\n",
    "columns = ['city', 'monday', 'wednesday', 'friday']\n",
    "pd.DataFrame(data=data, columns=columns)"
   ]
  },
  {
   "cell_type": "markdown",
   "metadata": {
    "deletable": false,
    "editable": false,
    "id": "-EgPIHYu_Zcu"
   },
   "source": [
    "**Выводы**\n",
    "\n",
    "Данные указывают на различия в поведении пользователей:\n",
    "\n",
    "- В Москве наибольшее количество прослушиваний приходится на понедельник и пятницу, в то время как в среду наблюдается спад.\n",
    "- В Санкт-Петербурге, напротив, музыку больше слушают по средам. Активность в понедельник и пятницу здесь почти одинаково меньше, чем в среду.\n",
    "\n",
    "Таким образом, данные подтверждают первую гипотезу."
   ]
  },
  {
   "cell_type": "markdown",
   "metadata": {
    "deletable": false,
    "editable": false,
    "id": "atZAxtq4_Zcu"
   },
   "source": [
    "### Музыка в начале и в конце недели"
   ]
  },
  {
   "cell_type": "markdown",
   "metadata": {
    "deletable": false,
    "editable": false,
    "id": "eXrQqXFH_Zcu"
   },
   "source": [
    "В соответствии со второй гипотезой, утром в понедельник в Москве и Санкт-Петербурге преобладают разные музыкальные жанры. То же самое можно сказать и о вечере пятницы — выбор жанра зависит от города."
   ]
  },
  {
   "cell_type": "markdown",
   "metadata": {
    "deletable": false,
    "editable": false,
    "id": "S8UcW6Hw_Zcu",
    "tags": [
     "start_task"
    ]
   },
   "source": [
    "Сохраним таблицы с данными в две переменные:\n",
    "* по Москве — в `moscow_general`;\n",
    "* по Санкт-Петербургу — в `spb_general`."
   ]
  },
  {
   "cell_type": "code",
   "execution_count": 67,
   "metadata": {
    "deletable": false,
    "id": "qeaFfM_P_Zcu"
   },
   "outputs": [],
   "source": [
    "moscow_general = df[df['city']=='Moscow']\n",
    "spb_general = df[df['city']=='Saint-Petersburg']"
   ]
  },
  {
   "cell_type": "markdown",
   "metadata": {
    "deletable": false,
    "id": "MEJV-CX2_Zcu",
    "tags": [
     "start_task"
    ]
   },
   "source": [
    "Создадим функцию `genre_weekday()` с четырьмя параметрами:\n",
    "* таблица (датафрейм) с данными,\n",
    "* день недели,\n",
    "* начальная временная метка в формате 'hh:mm',\n",
    "* последняя временная метка в формате 'hh:mm'.\n",
    "\n",
    "Функция вернёт информацию о топ-10 жанров тех треков, которые прослушивали в указанный день, в промежутке между двумя отметками времени."
   ]
  },
  {
   "cell_type": "code",
   "execution_count": 68,
   "metadata": {
    "deletable": false,
    "id": "laJT9BYl_Zcu"
   },
   "outputs": [],
   "source": [
    "def genre_weekday(df, day, time1, time2):\n",
    "    # последовательная фильтрация\n",
    "    # оставляем в genre_df только те строки df, у которых день равен day\n",
    "    genre_df = df[df['day']==day]\n",
    "    # оставляем в genre_df только те строки genre_df, у которых время меньше time2\n",
    "    genre_df = genre_df[genre_df['time']<time2]\n",
    "    # оставляем в genre_df только те строки genre_df, у которых время больше time1\n",
    "    genre_df = genre_df[genre_df['time']>time1]\n",
    "    # сгруппируем отфильтрованный датафрейм по столбцу с названиями жанров, возьмём столбец genre и посчитаем кол-во строк для каждого жанра методом count()\n",
    "    genre_df_grouped = genre_df.groupby('genre')['genre'].count()\n",
    "    # отсортируем результат по убыванию (чтобы в начале Series оказались самые популярные жанры)\n",
    "    genre_df_sorted = genre_df_grouped.sort_values(ascending=False)\n",
    "    # вернём Series с 10 самыми популярными жанрами в указанный отрезок времени заданного дня\n",
    "    return genre_df_sorted[:10]"
   ]
  },
  {
   "cell_type": "markdown",
   "metadata": {
    "deletable": false,
    "editable": false,
    "id": "la2s2_PF_Zcu",
    "tags": [
     "start_task"
    ]
   },
   "source": [
    "Cравним результаты функции `genre_weekday()` для Москвы и Санкт-Петербурга в понедельник утром (с 7:00 до 11:00) и в пятницу вечером (с 17:00 до 23:00):"
   ]
  },
  {
   "cell_type": "code",
   "execution_count": 69,
   "metadata": {
    "deletable": false,
    "id": "yz7itPUQ_Zcu"
   },
   "outputs": [
    {
     "data": {
      "text/plain": [
       "genre\n",
       "pop            781\n",
       "dance          549\n",
       "electronic     480\n",
       "rock           474\n",
       "hiphop         286\n",
       "ruspop         186\n",
       "world          181\n",
       "rusrap         175\n",
       "alternative    164\n",
       "unknown        161\n",
       "Name: genre, dtype: int64"
      ]
     },
     "execution_count": 69,
     "metadata": {},
     "output_type": "execute_result"
    }
   ],
   "source": [
    "# вызов функции для утра понедельника в Москве\n",
    "genre_weekday(moscow_general,'Monday','07:00','11:00')"
   ]
  },
  {
   "cell_type": "code",
   "execution_count": 70,
   "metadata": {
    "deletable": false,
    "id": "kwUcHPdy_Zcu"
   },
   "outputs": [
    {
     "data": {
      "text/plain": [
       "genre\n",
       "pop            218\n",
       "dance          182\n",
       "rock           162\n",
       "electronic     147\n",
       "hiphop          80\n",
       "ruspop          64\n",
       "alternative     58\n",
       "rusrap          55\n",
       "jazz            44\n",
       "classical       40\n",
       "Name: genre, dtype: int64"
      ]
     },
     "execution_count": 70,
     "metadata": {},
     "output_type": "execute_result"
    }
   ],
   "source": [
    "# вызов функции для утра понедельника в Санкт-Петербурге\n",
    "genre_weekday(spb_general,'Monday','07:00','11:00')"
   ]
  },
  {
   "cell_type": "code",
   "execution_count": 71,
   "metadata": {
    "deletable": false,
    "id": "EzXVRE1o_Zcu"
   },
   "outputs": [
    {
     "data": {
      "text/plain": [
       "genre\n",
       "pop            713\n",
       "rock           517\n",
       "dance          495\n",
       "electronic     482\n",
       "hiphop         273\n",
       "world          208\n",
       "ruspop         170\n",
       "alternative    163\n",
       "classical      163\n",
       "rusrap         142\n",
       "Name: genre, dtype: int64"
      ]
     },
     "execution_count": 71,
     "metadata": {},
     "output_type": "execute_result"
    }
   ],
   "source": [
    "# вызов функции для вечера пятницы в Москве\n",
    "genre_weekday(moscow_general,'Friday','17:00','23:00')"
   ]
  },
  {
   "cell_type": "code",
   "execution_count": 72,
   "metadata": {
    "deletable": false,
    "id": "JZaEKu5v_Zcu"
   },
   "outputs": [
    {
     "data": {
      "text/plain": [
       "genre\n",
       "pop            256\n",
       "electronic     216\n",
       "rock           216\n",
       "dance          210\n",
       "hiphop          97\n",
       "alternative     63\n",
       "jazz            61\n",
       "classical       60\n",
       "rusrap          59\n",
       "world           54\n",
       "Name: genre, dtype: int64"
      ]
     },
     "execution_count": 72,
     "metadata": {},
     "output_type": "execute_result"
    }
   ],
   "source": [
    "# вызов функции для вечера пятницы в Санкт-Петербурге\n",
    "genre_weekday(spb_general,'Friday','17:00','23:00')"
   ]
  },
  {
   "cell_type": "markdown",
   "metadata": {
    "deletable": false,
    "editable": false,
    "id": "wrCe4MNX_Zcu"
   },
   "source": [
    "**Выводы**\n",
    "\n",
    "Сравнив топ-10 жанров в понедельник утром, можно прийти к следующим выводам:\n",
    "\n",
    "Музыкальные предпочтения в Москве и Санкт-Петербурге схожи. Единственное отличие — в московском рейтинге присутствует жанр “world”, а в петербургском — джаз и классика.\n",
    "\n",
    "В Москве количество пропущенных значений настолько велико, что значение 'unknown' заняло десятое место среди самых популярных жанров. Это означает, что пропущенные значения составляют значительную часть данных и могут угрожать достоверности исследования.\n",
    "\n",
    "Вечер пятницы не меняет общей картины. Некоторые жанры поднимаются немного выше, другие опускаются, но в целом топ-10 остаётся неизменным.\n",
    "\n",
    "Таким образом, вторая гипотеза подтвердилась только частично:\n",
    "\n",
    "- Пользователи слушают схожую музыку как в начале недели, так и в конце.\n",
    "- Разница между Москвой и Санкт-Петербургом не слишком значительна. В Москве больше слушают русскую поп-музыку, а в Санкт- Петербурге — джаз.\n",
    "\n",
    "Важно отметить,что пропуски в данных ставят под сомнение этот результат. В Москве их настолько много, что рейтинг мог бы выглядеть по-другому, если бы данные о жанрах не были утеряны."
   ]
  },
  {
   "cell_type": "markdown",
   "metadata": {
    "deletable": false,
    "editable": false,
    "id": "JolODAqr_Zcu"
   },
   "source": [
    "### Жанровые предпочтения в Москве и Петербурге\n",
    "\n",
    "Третья гипотеза предполагает, что Петербург — столица рэпа, музыку этого жанра там слушают чаще, чем в Москве.  А Москва — город контрастов, в котором, тем не менее, преобладает поп-музыка."
   ]
  },
  {
   "cell_type": "markdown",
   "metadata": {
    "deletable": false,
    "editable": false,
    "id": "DlegSvaT_Zcu",
    "tags": [
     "start_task"
    ]
   },
   "source": [
    "Сгруппируем таблицу `moscow_general` по жанру и подсчитаем прослушивания треков каждого жанра методом `count()`. Затем отсортируем результат в порядке убывания и сохраним его в таблице `moscow_genres`. Далее выведем первые десять строк `moscow_genres`"
   ]
  },
  {
   "cell_type": "code",
   "execution_count": 73,
   "metadata": {
    "deletable": false,
    "id": "r19lIPke_Zcu"
   },
   "outputs": [
    {
     "data": {
      "text/plain": [
       "genre\n",
       "pop            5892\n",
       "dance          4435\n",
       "rock           3965\n",
       "electronic     3786\n",
       "hiphop         2096\n",
       "classical      1616\n",
       "world          1432\n",
       "alternative    1379\n",
       "ruspop         1372\n",
       "rusrap         1161\n",
       "Name: genre, dtype: int64"
      ]
     },
     "execution_count": 73,
     "metadata": {},
     "output_type": "execute_result"
    }
   ],
   "source": [
    "moscow_genres = moscow_general.groupby('genre')['genre'].count().sort_values(ascending=False)\n",
    "moscow_genres.head(10)"
   ]
  },
  {
   "cell_type": "markdown",
   "metadata": {
    "deletable": false,
    "editable": false,
    "id": "cnPG2vnN_Zcv",
    "tags": [
     "start_task"
    ]
   },
   "source": [
    "Теперь повторим то же для Санкт-Петербурга, сохранив данные в таблице `spb_genres`."
   ]
  },
  {
   "cell_type": "code",
   "execution_count": 74,
   "metadata": {
    "deletable": false,
    "id": "gluLIpE7_Zcv"
   },
   "outputs": [
    {
     "data": {
      "text/plain": [
       "genre\n",
       "pop            2431\n",
       "dance          1932\n",
       "rock           1879\n",
       "electronic     1736\n",
       "hiphop          960\n",
       "alternative     649\n",
       "classical       646\n",
       "rusrap          564\n",
       "ruspop          538\n",
       "world           515\n",
       "Name: genre, dtype: int64"
      ]
     },
     "execution_count": 74,
     "metadata": {},
     "output_type": "execute_result"
    }
   ],
   "source": [
    "spb_genres = spb_general.groupby('genre')['genre'].count().sort_values(ascending=False)\n",
    "spb_genres.head(10)"
   ]
  },
  {
   "cell_type": "markdown",
   "metadata": {
    "deletable": false,
    "editable": false,
    "id": "RY51YJYu_Zcv"
   },
   "source": [
    "**Выводы**"
   ]
  },
  {
   "cell_type": "markdown",
   "metadata": {
    "deletable": false,
    "editable": false,
    "id": "nVhnJEm__Zcv"
   },
   "source": [
    "Гипотеза не подтвердилась:\n",
    "\n",
    "- Поп-музыка является самым популярным жанром в Москве, как и предполагалось в гипотезе. Кроме того, в топ-10 жанров также присутствует схожий жанр — русская поп-музыка.\n",
    "- Несмотря на ожидания, рэп пользуется одинаковой популярностью как в Москве, так и в Санкт-Петербурге."
   ]
  },
  {
   "cell_type": "markdown",
   "metadata": {
    "deletable": false,
    "editable": false,
    "id": "ykKQ0N65_Zcv"
   },
   "source": [
    "## Итоги исследования"
   ]
  },
  {
   "cell_type": "markdown",
   "metadata": {
    "deletable": false,
    "editable": false,
    "id": "tjUwbHb3_Zcv"
   },
   "source": [
    "Мы проверили три гипотезы и пришли к следующим выводам:\n",
    "\n",
    "**Первая гипотеза полностью подтвердилась.**  \n",
    "День недели по-разному влияет на активность пользователей в Москве и Санкт-Петербурге.\n",
    "\n",
    "**Вторая гипотеза подтвердилась лишь частично.**  \n",
    "Этот результат мог оказаться иным, если бы не пропуски в данных. Музыкальные предпочтения не сильно меняются в течение недели — будь то Москва или Петербург. Небольшие различия заметны в начале недели, по понедельникам:\n",
    "- в Москве слушают музыку жанра “world”,\n",
    "- в Петербурге — джаз и классику.\n",
    "\n",
    "**Третья гипотеза не подтвердилась.**  \n",
    "Если различия в предпочтениях и существуют, на основной массе пользователей они незаметны. Во вкусах пользователей Москвы и Санкт-Петербурга больше общего, чем различий. Вопреки ожиданиям, предпочтения жанров в Петербурге напоминают московские."
   ]
  }
 ],
 "metadata": {
  "ExecuteTimeLog": [
   {
    "duration": 396,
    "start_time": "2023-08-25T14:52:18.248Z"
   },
   {
    "duration": 81,
    "start_time": "2023-08-25T14:54:29.145Z"
   },
   {
    "duration": 49,
    "start_time": "2023-08-25T14:54:44.146Z"
   },
   {
    "duration": 266,
    "start_time": "2023-08-25T14:56:22.895Z"
   },
   {
    "duration": 200,
    "start_time": "2023-08-25T14:56:28.457Z"
   },
   {
    "duration": 18,
    "start_time": "2023-08-25T14:57:01.540Z"
   },
   {
    "duration": 8,
    "start_time": "2023-08-25T14:58:18.928Z"
   },
   {
    "duration": 32,
    "start_time": "2023-08-25T14:58:43.033Z"
   },
   {
    "duration": 5,
    "start_time": "2023-08-25T15:04:22.524Z"
   },
   {
    "duration": 10,
    "start_time": "2023-08-25T15:16:13.534Z"
   },
   {
    "duration": 4,
    "start_time": "2023-08-25T15:16:36.440Z"
   },
   {
    "duration": 35,
    "start_time": "2023-08-25T15:19:53.105Z"
   },
   {
    "duration": 26,
    "start_time": "2023-08-25T15:27:38.105Z"
   },
   {
    "duration": 26,
    "start_time": "2023-08-25T15:28:06.163Z"
   },
   {
    "duration": 80,
    "start_time": "2023-08-25T15:41:03.645Z"
   },
   {
    "duration": 100,
    "start_time": "2023-08-25T15:42:12.386Z"
   },
   {
    "duration": 66,
    "start_time": "2023-08-25T15:42:41.832Z"
   },
   {
    "duration": 87,
    "start_time": "2023-08-25T15:44:31.154Z"
   },
   {
    "duration": 80,
    "start_time": "2023-08-25T15:44:37.567Z"
   },
   {
    "duration": 72,
    "start_time": "2023-08-25T15:45:41.932Z"
   },
   {
    "duration": 71,
    "start_time": "2023-08-25T15:45:47.795Z"
   },
   {
    "duration": 7,
    "start_time": "2023-08-25T15:47:41.741Z"
   },
   {
    "duration": 10,
    "start_time": "2023-08-25T15:50:19.441Z"
   },
   {
    "duration": 7,
    "start_time": "2023-08-25T15:50:52.067Z"
   },
   {
    "duration": 7,
    "start_time": "2023-08-25T15:51:35.741Z"
   },
   {
    "duration": 11,
    "start_time": "2023-08-25T16:41:02.640Z"
   },
   {
    "duration": 2,
    "start_time": "2023-08-25T16:41:26.948Z"
   },
   {
    "duration": 84,
    "start_time": "2023-08-25T17:45:16.012Z"
   },
   {
    "duration": 86,
    "start_time": "2023-08-25T17:45:34.570Z"
   },
   {
    "duration": 49,
    "start_time": "2023-08-25T17:47:47.199Z"
   },
   {
    "duration": 55,
    "start_time": "2023-08-25T17:48:55.001Z"
   },
   {
    "duration": 49,
    "start_time": "2023-08-25T17:49:01.067Z"
   },
   {
    "duration": 12,
    "start_time": "2023-08-25T17:56:51.588Z"
   },
   {
    "duration": 11,
    "start_time": "2023-08-25T17:58:33.428Z"
   },
   {
    "duration": 13,
    "start_time": "2023-08-25T17:58:42.606Z"
   },
   {
    "duration": 49,
    "start_time": "2023-08-25T17:59:42.730Z"
   },
   {
    "duration": 77,
    "start_time": "2023-08-25T18:01:33.872Z"
   },
   {
    "duration": 56,
    "start_time": "2023-08-25T18:01:48.567Z"
   },
   {
    "duration": 439,
    "start_time": "2023-08-26T06:11:36.711Z"
   },
   {
    "duration": 222,
    "start_time": "2023-08-26T06:11:37.153Z"
   },
   {
    "duration": 17,
    "start_time": "2023-08-26T06:11:37.376Z"
   },
   {
    "duration": 27,
    "start_time": "2023-08-26T06:11:37.394Z"
   },
   {
    "duration": 3,
    "start_time": "2023-08-26T06:11:37.423Z"
   },
   {
    "duration": 5,
    "start_time": "2023-08-26T06:11:37.428Z"
   },
   {
    "duration": 25,
    "start_time": "2023-08-26T06:11:37.435Z"
   },
   {
    "duration": 6,
    "start_time": "2023-08-26T06:11:37.462Z"
   },
   {
    "duration": 31,
    "start_time": "2023-08-26T06:11:37.470Z"
   },
   {
    "duration": 19,
    "start_time": "2023-08-26T06:11:37.503Z"
   },
   {
    "duration": 46,
    "start_time": "2023-08-26T06:11:37.524Z"
   },
   {
    "duration": 71,
    "start_time": "2023-08-26T06:11:37.571Z"
   },
   {
    "duration": 65,
    "start_time": "2023-08-26T06:11:37.644Z"
   },
   {
    "duration": 69,
    "start_time": "2023-08-26T06:11:37.711Z"
   },
   {
    "duration": 45,
    "start_time": "2023-08-26T06:11:37.782Z"
   },
   {
    "duration": 20,
    "start_time": "2023-08-26T06:11:37.829Z"
   },
   {
    "duration": 60,
    "start_time": "2023-08-26T06:11:37.851Z"
   },
   {
    "duration": 274,
    "start_time": "2023-08-26T06:16:20.012Z"
   },
   {
    "duration": 11,
    "start_time": "2023-08-26T06:16:44.407Z"
   },
   {
    "duration": 18,
    "start_time": "2023-08-26T06:19:31.161Z"
   },
   {
    "duration": 9,
    "start_time": "2023-08-26T06:20:14.099Z"
   },
   {
    "duration": 10,
    "start_time": "2023-08-26T06:20:27.686Z"
   },
   {
    "duration": 66,
    "start_time": "2023-08-26T06:20:52.034Z"
   },
   {
    "duration": 11,
    "start_time": "2023-08-26T06:21:24.765Z"
   },
   {
    "duration": 7,
    "start_time": "2023-08-26T06:21:39.322Z"
   },
   {
    "duration": 18,
    "start_time": "2023-08-26T06:21:46.633Z"
   },
   {
    "duration": 4,
    "start_time": "2023-08-26T06:31:20.617Z"
   },
   {
    "duration": 33,
    "start_time": "2023-08-26T06:35:31.647Z"
   },
   {
    "duration": 25,
    "start_time": "2023-08-26T06:36:24.140Z"
   },
   {
    "duration": 22,
    "start_time": "2023-08-26T06:36:27.121Z"
   },
   {
    "duration": 34,
    "start_time": "2023-08-26T06:36:29.533Z"
   },
   {
    "duration": 24,
    "start_time": "2023-08-26T06:36:31.006Z"
   },
   {
    "duration": 25,
    "start_time": "2023-08-26T06:36:34.489Z"
   },
   {
    "duration": 7,
    "start_time": "2023-08-26T06:40:35.481Z"
   },
   {
    "duration": 20,
    "start_time": "2023-08-26T06:41:02.123Z"
   },
   {
    "duration": 12,
    "start_time": "2023-08-26T06:56:58.634Z"
   },
   {
    "duration": 9,
    "start_time": "2023-08-26T07:05:47.038Z"
   },
   {
    "duration": 166,
    "start_time": "2023-08-26T07:08:09.170Z"
   },
   {
    "duration": 10,
    "start_time": "2023-08-26T07:08:30.490Z"
   },
   {
    "duration": 14,
    "start_time": "2023-08-26T07:08:43.366Z"
   },
   {
    "duration": 7,
    "start_time": "2023-08-26T07:17:57.719Z"
   },
   {
    "duration": 14,
    "start_time": "2023-08-26T07:18:06.476Z"
   },
   {
    "duration": 8,
    "start_time": "2023-08-26T07:18:08.132Z"
   },
   {
    "duration": 12,
    "start_time": "2023-08-26T07:18:12.182Z"
   },
   {
    "duration": 9,
    "start_time": "2023-08-26T07:18:13.296Z"
   },
   {
    "duration": 12,
    "start_time": "2023-08-26T07:18:14.435Z"
   },
   {
    "duration": 9,
    "start_time": "2023-08-26T07:18:15.425Z"
   },
   {
    "duration": 104,
    "start_time": "2023-08-26T07:18:26.261Z"
   },
   {
    "duration": 5,
    "start_time": "2023-08-26T07:53:33.771Z"
   },
   {
    "duration": 12,
    "start_time": "2023-08-26T07:55:29.766Z"
   },
   {
    "duration": 9,
    "start_time": "2023-08-26T07:55:30.577Z"
   },
   {
    "duration": 83,
    "start_time": "2023-08-26T07:57:04.252Z"
   },
   {
    "duration": 80,
    "start_time": "2023-08-26T07:58:13.660Z"
   },
   {
    "duration": 7,
    "start_time": "2023-08-26T07:58:19.857Z"
   },
   {
    "duration": 75,
    "start_time": "2023-08-26T07:58:22.792Z"
   },
   {
    "duration": 6,
    "start_time": "2023-08-26T07:58:26.933Z"
   },
   {
    "duration": 3,
    "start_time": "2023-08-26T07:59:28.987Z"
   },
   {
    "duration": 193,
    "start_time": "2023-08-26T07:59:28.992Z"
   },
   {
    "duration": 10,
    "start_time": "2023-08-26T07:59:29.187Z"
   },
   {
    "duration": 27,
    "start_time": "2023-08-26T07:59:29.199Z"
   },
   {
    "duration": 2,
    "start_time": "2023-08-26T07:59:29.228Z"
   },
   {
    "duration": 29,
    "start_time": "2023-08-26T07:59:29.231Z"
   },
   {
    "duration": 11,
    "start_time": "2023-08-26T07:59:29.268Z"
   },
   {
    "duration": 13,
    "start_time": "2023-08-26T07:59:29.281Z"
   },
   {
    "duration": 24,
    "start_time": "2023-08-26T07:59:29.297Z"
   },
   {
    "duration": 16,
    "start_time": "2023-08-26T07:59:29.323Z"
   },
   {
    "duration": 34,
    "start_time": "2023-08-26T07:59:29.340Z"
   },
   {
    "duration": 56,
    "start_time": "2023-08-26T07:59:29.375Z"
   },
   {
    "duration": 67,
    "start_time": "2023-08-26T07:59:29.433Z"
   },
   {
    "duration": 67,
    "start_time": "2023-08-26T07:59:29.502Z"
   },
   {
    "duration": 46,
    "start_time": "2023-08-26T07:59:29.570Z"
   },
   {
    "duration": 10,
    "start_time": "2023-08-26T07:59:29.618Z"
   },
   {
    "duration": 87,
    "start_time": "2023-08-26T07:59:29.629Z"
   },
   {
    "duration": 10,
    "start_time": "2023-08-26T07:59:29.718Z"
   },
   {
    "duration": 11,
    "start_time": "2023-08-26T07:59:29.730Z"
   },
   {
    "duration": 5,
    "start_time": "2023-08-26T07:59:29.748Z"
   },
   {
    "duration": 35,
    "start_time": "2023-08-26T07:59:29.758Z"
   },
   {
    "duration": 16,
    "start_time": "2023-08-26T07:59:29.795Z"
   },
   {
    "duration": 19,
    "start_time": "2023-08-26T07:59:29.813Z"
   },
   {
    "duration": 35,
    "start_time": "2023-08-26T07:59:29.835Z"
   },
   {
    "duration": 20,
    "start_time": "2023-08-26T07:59:29.872Z"
   },
   {
    "duration": 18,
    "start_time": "2023-08-26T07:59:29.894Z"
   },
   {
    "duration": 39,
    "start_time": "2023-08-26T07:59:29.913Z"
   },
   {
    "duration": 16,
    "start_time": "2023-08-26T07:59:29.964Z"
   },
   {
    "duration": 11,
    "start_time": "2023-08-26T07:59:29.983Z"
   },
   {
    "duration": 7,
    "start_time": "2023-08-26T07:59:29.995Z"
   },
   {
    "duration": 2615,
    "start_time": "2023-08-26T08:02:23.650Z"
   },
   {
    "duration": 2098,
    "start_time": "2023-08-26T08:04:28.934Z"
   },
   {
    "duration": 5,
    "start_time": "2023-08-26T08:07:25.368Z"
   },
   {
    "duration": 4,
    "start_time": "2023-08-26T08:07:29.168Z"
   },
   {
    "duration": 4,
    "start_time": "2023-08-26T08:07:32.321Z"
   },
   {
    "duration": 17,
    "start_time": "2023-08-26T08:07:37.090Z"
   },
   {
    "duration": 18,
    "start_time": "2023-08-26T08:08:41.854Z"
   },
   {
    "duration": 16,
    "start_time": "2023-08-26T08:11:15.079Z"
   },
   {
    "duration": 15,
    "start_time": "2023-08-26T08:11:45.719Z"
   },
   {
    "duration": 8,
    "start_time": "2023-08-26T08:25:10.073Z"
   },
   {
    "duration": 5,
    "start_time": "2023-08-26T08:25:35.765Z"
   },
   {
    "duration": 8,
    "start_time": "2023-08-26T08:26:56.313Z"
   },
   {
    "duration": 5,
    "start_time": "2023-08-26T08:26:57.325Z"
   },
   {
    "duration": 9,
    "start_time": "2023-08-26T08:48:31.380Z"
   },
   {
    "duration": 9,
    "start_time": "2023-08-26T08:48:55.269Z"
   },
   {
    "duration": 26,
    "start_time": "2023-08-26T08:48:57.919Z"
   },
   {
    "duration": 30,
    "start_time": "2023-08-26T08:48:58.892Z"
   },
   {
    "duration": 54,
    "start_time": "2023-08-26T08:48:59.658Z"
   },
   {
    "duration": 26,
    "start_time": "2023-08-26T08:48:59.717Z"
   },
   {
    "duration": 33,
    "start_time": "2023-08-26T08:49:00.411Z"
   },
   {
    "duration": 25,
    "start_time": "2023-08-26T08:49:01.891Z"
   },
   {
    "duration": 401,
    "start_time": "2023-08-28T09:44:36.065Z"
   },
   {
    "duration": 266,
    "start_time": "2023-08-28T09:44:40.967Z"
   },
   {
    "duration": 794,
    "start_time": "2023-08-28T10:23:53.225Z"
   },
   {
    "duration": 68,
    "start_time": "2023-08-30T11:51:35.789Z"
   },
   {
    "duration": 424,
    "start_time": "2023-08-30T11:52:15.789Z"
   },
   {
    "duration": 1067,
    "start_time": "2023-08-30T11:52:16.216Z"
   },
   {
    "duration": 18,
    "start_time": "2023-08-30T11:52:17.284Z"
   },
   {
    "duration": 54,
    "start_time": "2023-08-30T11:52:17.303Z"
   },
   {
    "duration": 11,
    "start_time": "2023-08-30T11:52:17.360Z"
   },
   {
    "duration": 13,
    "start_time": "2023-08-30T11:52:17.372Z"
   },
   {
    "duration": 23,
    "start_time": "2023-08-30T11:52:17.386Z"
   },
   {
    "duration": 10,
    "start_time": "2023-08-30T11:52:17.411Z"
   },
   {
    "duration": 51,
    "start_time": "2023-08-30T11:52:17.423Z"
   },
   {
    "duration": 87,
    "start_time": "2023-08-30T11:52:17.476Z"
   },
   {
    "duration": 62,
    "start_time": "2023-08-30T11:52:17.565Z"
   },
   {
    "duration": 136,
    "start_time": "2023-08-30T11:52:17.634Z"
   },
   {
    "duration": 145,
    "start_time": "2023-08-30T11:52:17.772Z"
   },
   {
    "duration": 68,
    "start_time": "2023-08-30T11:52:17.919Z"
   },
   {
    "duration": 78,
    "start_time": "2023-08-30T11:52:17.988Z"
   },
   {
    "duration": 10,
    "start_time": "2023-08-30T11:52:18.068Z"
   },
   {
    "duration": 82,
    "start_time": "2023-08-30T11:52:18.079Z"
   },
   {
    "duration": 5,
    "start_time": "2023-08-30T11:52:23.013Z"
   },
   {
    "duration": 3273,
    "start_time": "2023-08-30T11:52:38.312Z"
   },
   {
    "duration": 11,
    "start_time": "2023-08-30T11:53:01.380Z"
   },
   {
    "duration": 10,
    "start_time": "2023-08-30T11:53:21.086Z"
   },
   {
    "duration": 7,
    "start_time": "2023-08-30T11:53:27.157Z"
   },
   {
    "duration": 12,
    "start_time": "2023-08-30T11:53:33.528Z"
   },
   {
    "duration": 5,
    "start_time": "2023-08-30T11:53:45.671Z"
   }
  ],
  "colab": {
   "collapsed_sections": [
    "E0vqbgi9ay0H",
    "VUC88oWjTJw2"
   ],
   "provenance": []
  },
  "kernelspec": {
   "display_name": "Python 3 (ipykernel)",
   "language": "python",
   "name": "python3"
  },
  "language_info": {
   "codemirror_mode": {
    "name": "ipython",
    "version": 3
   },
   "file_extension": ".py",
   "mimetype": "text/x-python",
   "name": "python",
   "nbconvert_exporter": "python",
   "pygments_lexer": "ipython3",
   "version": "3.11.5"
  },
  "toc": {
   "base_numbering": 1,
   "nav_menu": {
    "height": "215px",
    "width": "403px"
   },
   "number_sections": true,
   "sideBar": true,
   "skip_h1_title": true,
   "title_cell": "Содержание",
   "title_sidebar": "Contents",
   "toc_cell": true,
   "toc_position": {
    "height": "calc(100% - 180px)",
    "left": "10px",
    "top": "150px",
    "width": "285.825px"
   },
   "toc_section_display": true,
   "toc_window_display": false
  }
 },
 "nbformat": 4,
 "nbformat_minor": 1
}
