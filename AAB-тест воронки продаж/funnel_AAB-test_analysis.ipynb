{
 "cells": [
  {
   "cell_type": "markdown",
   "metadata": {},
   "source": [
    "## Анализ пользовательского поведения в мобильном приложении"
   ]
  },
  {
   "cell_type": "markdown",
   "metadata": {},
   "source": [
    "### Чтение данных"
   ]
  },
  {
   "cell_type": "code",
   "execution_count": 1,
   "metadata": {},
   "outputs": [],
   "source": [
    "# Загружаем необходимые библиотеки\n",
    "\n",
    "import pandas as pd\n",
    "import datetime as dt\n",
    "import matplotlib.pyplot as plt\n",
    "import seaborn as sns\n",
    "import numpy as np\n",
    "from scipy import stats as st\n",
    "from plotly import graph_objects as go"
   ]
  },
  {
   "cell_type": "code",
   "execution_count": 2,
   "metadata": {},
   "outputs": [],
   "source": [
    "# Читаем данные\n",
    "\n",
    "try:\n",
    "    logs = pd.read_csv('/datasets/logs_exp.csv', sep='\\t')\n",
    "except:\n",
    "    logs = pd.read_csv('https://code.s3.yandex.net/datasets/logs_exp.csv', sep='\\t')"
   ]
  },
  {
   "cell_type": "code",
   "execution_count": 3,
   "metadata": {},
   "outputs": [
    {
     "name": "stdout",
     "output_type": "stream",
     "text": [
      "<class 'pandas.core.frame.DataFrame'>\n",
      "RangeIndex: 244126 entries, 0 to 244125\n",
      "Data columns (total 4 columns):\n",
      " #   Column          Non-Null Count   Dtype \n",
      "---  ------          --------------   ----- \n",
      " 0   EventName       244126 non-null  object\n",
      " 1   DeviceIDHash    244126 non-null  int64 \n",
      " 2   EventTimestamp  244126 non-null  int64 \n",
      " 3   ExpId           244126 non-null  int64 \n",
      "dtypes: int64(3), object(1)\n",
      "memory usage: 7.5+ MB\n"
     ]
    },
    {
     "data": {
      "text/plain": [
       "None"
      ]
     },
     "metadata": {},
     "output_type": "display_data"
    },
    {
     "data": {
      "text/html": [
       "<div>\n",
       "<style scoped>\n",
       "    .dataframe tbody tr th:only-of-type {\n",
       "        vertical-align: middle;\n",
       "    }\n",
       "\n",
       "    .dataframe tbody tr th {\n",
       "        vertical-align: top;\n",
       "    }\n",
       "\n",
       "    .dataframe thead th {\n",
       "        text-align: right;\n",
       "    }\n",
       "</style>\n",
       "<table border=\"1\" class=\"dataframe\">\n",
       "  <thead>\n",
       "    <tr style=\"text-align: right;\">\n",
       "      <th></th>\n",
       "      <th>EventName</th>\n",
       "      <th>DeviceIDHash</th>\n",
       "      <th>EventTimestamp</th>\n",
       "      <th>ExpId</th>\n",
       "    </tr>\n",
       "  </thead>\n",
       "  <tbody>\n",
       "    <tr>\n",
       "      <th>0</th>\n",
       "      <td>MainScreenAppear</td>\n",
       "      <td>4575588528974610257</td>\n",
       "      <td>1564029816</td>\n",
       "      <td>246</td>\n",
       "    </tr>\n",
       "    <tr>\n",
       "      <th>1</th>\n",
       "      <td>MainScreenAppear</td>\n",
       "      <td>7416695313311560658</td>\n",
       "      <td>1564053102</td>\n",
       "      <td>246</td>\n",
       "    </tr>\n",
       "    <tr>\n",
       "      <th>2</th>\n",
       "      <td>PaymentScreenSuccessful</td>\n",
       "      <td>3518123091307005509</td>\n",
       "      <td>1564054127</td>\n",
       "      <td>248</td>\n",
       "    </tr>\n",
       "    <tr>\n",
       "      <th>3</th>\n",
       "      <td>CartScreenAppear</td>\n",
       "      <td>3518123091307005509</td>\n",
       "      <td>1564054127</td>\n",
       "      <td>248</td>\n",
       "    </tr>\n",
       "    <tr>\n",
       "      <th>4</th>\n",
       "      <td>PaymentScreenSuccessful</td>\n",
       "      <td>6217807653094995999</td>\n",
       "      <td>1564055322</td>\n",
       "      <td>248</td>\n",
       "    </tr>\n",
       "  </tbody>\n",
       "</table>\n",
       "</div>"
      ],
      "text/plain": [
       "                 EventName         DeviceIDHash  EventTimestamp  ExpId\n",
       "0         MainScreenAppear  4575588528974610257      1564029816    246\n",
       "1         MainScreenAppear  7416695313311560658      1564053102    246\n",
       "2  PaymentScreenSuccessful  3518123091307005509      1564054127    248\n",
       "3         CartScreenAppear  3518123091307005509      1564054127    248\n",
       "4  PaymentScreenSuccessful  6217807653094995999      1564055322    248"
      ]
     },
     "execution_count": 3,
     "metadata": {},
     "output_type": "execute_result"
    }
   ],
   "source": [
    "# Выведем основную информацию\n",
    "\n",
    "display(logs.info())\n",
    "logs.head()"
   ]
  },
  {
   "cell_type": "markdown",
   "metadata": {},
   "source": [
    "В наших данных содержится 244126 записей.  \n",
    "Пропусков не обнаружено.  \n",
    "Тип данных со временем события требует преобразования.  \n",
    "Для удобства анализа названия столбцов следует изменить.  \n",
    "Также требуется проверить данные на дубликаты и уникальность значений."
   ]
  },
  {
   "cell_type": "markdown",
   "metadata": {},
   "source": [
    "### Подготовка данных"
   ]
  },
  {
   "cell_type": "code",
   "execution_count": 4,
   "metadata": {},
   "outputs": [
    {
     "data": {
      "text/html": [
       "<div>\n",
       "<style scoped>\n",
       "    .dataframe tbody tr th:only-of-type {\n",
       "        vertical-align: middle;\n",
       "    }\n",
       "\n",
       "    .dataframe tbody tr th {\n",
       "        vertical-align: top;\n",
       "    }\n",
       "\n",
       "    .dataframe thead th {\n",
       "        text-align: right;\n",
       "    }\n",
       "</style>\n",
       "<table border=\"1\" class=\"dataframe\">\n",
       "  <thead>\n",
       "    <tr style=\"text-align: right;\">\n",
       "      <th></th>\n",
       "      <th>event_name</th>\n",
       "      <th>user_id</th>\n",
       "      <th>event_timestamp</th>\n",
       "      <th>group_id</th>\n",
       "    </tr>\n",
       "  </thead>\n",
       "  <tbody>\n",
       "    <tr>\n",
       "      <th>0</th>\n",
       "      <td>MainScreenAppear</td>\n",
       "      <td>4575588528974610257</td>\n",
       "      <td>1564029816</td>\n",
       "      <td>246</td>\n",
       "    </tr>\n",
       "    <tr>\n",
       "      <th>1</th>\n",
       "      <td>MainScreenAppear</td>\n",
       "      <td>7416695313311560658</td>\n",
       "      <td>1564053102</td>\n",
       "      <td>246</td>\n",
       "    </tr>\n",
       "    <tr>\n",
       "      <th>2</th>\n",
       "      <td>PaymentScreenSuccessful</td>\n",
       "      <td>3518123091307005509</td>\n",
       "      <td>1564054127</td>\n",
       "      <td>248</td>\n",
       "    </tr>\n",
       "    <tr>\n",
       "      <th>3</th>\n",
       "      <td>CartScreenAppear</td>\n",
       "      <td>3518123091307005509</td>\n",
       "      <td>1564054127</td>\n",
       "      <td>248</td>\n",
       "    </tr>\n",
       "    <tr>\n",
       "      <th>4</th>\n",
       "      <td>PaymentScreenSuccessful</td>\n",
       "      <td>6217807653094995999</td>\n",
       "      <td>1564055322</td>\n",
       "      <td>248</td>\n",
       "    </tr>\n",
       "  </tbody>\n",
       "</table>\n",
       "</div>"
      ],
      "text/plain": [
       "                event_name              user_id  event_timestamp  group_id\n",
       "0         MainScreenAppear  4575588528974610257       1564029816       246\n",
       "1         MainScreenAppear  7416695313311560658       1564053102       246\n",
       "2  PaymentScreenSuccessful  3518123091307005509       1564054127       248\n",
       "3         CartScreenAppear  3518123091307005509       1564054127       248\n",
       "4  PaymentScreenSuccessful  6217807653094995999       1564055322       248"
      ]
     },
     "execution_count": 4,
     "metadata": {},
     "output_type": "execute_result"
    }
   ],
   "source": [
    "# Преобразуем названия колонок \n",
    "\n",
    "logs.columns = ['event_name', 'user_id', 'event_timestamp','group_id']\n",
    "logs.head()"
   ]
  },
  {
   "cell_type": "code",
   "execution_count": 5,
   "metadata": {},
   "outputs": [
    {
     "data": {
      "text/html": [
       "<div>\n",
       "<style scoped>\n",
       "    .dataframe tbody tr th:only-of-type {\n",
       "        vertical-align: middle;\n",
       "    }\n",
       "\n",
       "    .dataframe tbody tr th {\n",
       "        vertical-align: top;\n",
       "    }\n",
       "\n",
       "    .dataframe thead th {\n",
       "        text-align: right;\n",
       "    }\n",
       "</style>\n",
       "<table border=\"1\" class=\"dataframe\">\n",
       "  <thead>\n",
       "    <tr style=\"text-align: right;\">\n",
       "      <th></th>\n",
       "      <th>event_name</th>\n",
       "      <th>user_id</th>\n",
       "      <th>group_id</th>\n",
       "      <th>date_time</th>\n",
       "      <th>date</th>\n",
       "    </tr>\n",
       "  </thead>\n",
       "  <tbody>\n",
       "    <tr>\n",
       "      <th>0</th>\n",
       "      <td>MainScreenAppear</td>\n",
       "      <td>4575588528974610257</td>\n",
       "      <td>246</td>\n",
       "      <td>2019-07-25 04:43:36</td>\n",
       "      <td>2019-07-25</td>\n",
       "    </tr>\n",
       "    <tr>\n",
       "      <th>1</th>\n",
       "      <td>MainScreenAppear</td>\n",
       "      <td>7416695313311560658</td>\n",
       "      <td>246</td>\n",
       "      <td>2019-07-25 11:11:42</td>\n",
       "      <td>2019-07-25</td>\n",
       "    </tr>\n",
       "    <tr>\n",
       "      <th>2</th>\n",
       "      <td>PaymentScreenSuccessful</td>\n",
       "      <td>3518123091307005509</td>\n",
       "      <td>248</td>\n",
       "      <td>2019-07-25 11:28:47</td>\n",
       "      <td>2019-07-25</td>\n",
       "    </tr>\n",
       "    <tr>\n",
       "      <th>3</th>\n",
       "      <td>CartScreenAppear</td>\n",
       "      <td>3518123091307005509</td>\n",
       "      <td>248</td>\n",
       "      <td>2019-07-25 11:28:47</td>\n",
       "      <td>2019-07-25</td>\n",
       "    </tr>\n",
       "    <tr>\n",
       "      <th>4</th>\n",
       "      <td>PaymentScreenSuccessful</td>\n",
       "      <td>6217807653094995999</td>\n",
       "      <td>248</td>\n",
       "      <td>2019-07-25 11:48:42</td>\n",
       "      <td>2019-07-25</td>\n",
       "    </tr>\n",
       "  </tbody>\n",
       "</table>\n",
       "</div>"
      ],
      "text/plain": [
       "                event_name              user_id  group_id           date_time  \\\n",
       "0         MainScreenAppear  4575588528974610257       246 2019-07-25 04:43:36   \n",
       "1         MainScreenAppear  7416695313311560658       246 2019-07-25 11:11:42   \n",
       "2  PaymentScreenSuccessful  3518123091307005509       248 2019-07-25 11:28:47   \n",
       "3         CartScreenAppear  3518123091307005509       248 2019-07-25 11:28:47   \n",
       "4  PaymentScreenSuccessful  6217807653094995999       248 2019-07-25 11:48:42   \n",
       "\n",
       "        date  \n",
       "0 2019-07-25  \n",
       "1 2019-07-25  \n",
       "2 2019-07-25  \n",
       "3 2019-07-25  \n",
       "4 2019-07-25  "
      ]
     },
     "execution_count": 5,
     "metadata": {},
     "output_type": "execute_result"
    }
   ],
   "source": [
    "# Создадим столбцы datetime и date из данных столбца event_timestamp\n",
    "\n",
    "logs['date_time'] = pd.to_datetime(logs['event_timestamp'], unit='s')\n",
    "logs['date'] = pd.to_datetime(logs['date_time'].dt.date)\n",
    "\n",
    "\n",
    "# Удалим столбец event_timestamp\n",
    "\n",
    "logs = logs.drop(columns='event_timestamp')\n",
    "logs.head()"
   ]
  },
  {
   "cell_type": "markdown",
   "metadata": {},
   "source": [
    "В результате процесса подготовки данных мы поменяли названия колонок, создали два новых столбца с временной меткой и датой и удалили ненужный столбец."
   ]
  },
  {
   "cell_type": "markdown",
   "metadata": {},
   "source": [
    "### Изучение и проверка данных"
   ]
  },
  {
   "cell_type": "code",
   "execution_count": 6,
   "metadata": {},
   "outputs": [
    {
     "name": "stdout",
     "output_type": "stream",
     "text": [
      "Количество обнаруженных дубликатов строк:  413\n"
     ]
    }
   ],
   "source": [
    "# Проверим данные на явные дубликаты\n",
    "\n",
    "print('Количество обнаруженных дубликатов строк: ', logs.duplicated().sum())"
   ]
  },
  {
   "cell_type": "code",
   "execution_count": 7,
   "metadata": {},
   "outputs": [
    {
     "name": "stdout",
     "output_type": "stream",
     "text": [
      "<class 'pandas.core.frame.DataFrame'>\n",
      "RangeIndex: 243713 entries, 0 to 243712\n",
      "Data columns (total 5 columns):\n",
      " #   Column      Non-Null Count   Dtype         \n",
      "---  ------      --------------   -----         \n",
      " 0   event_name  243713 non-null  object        \n",
      " 1   user_id     243713 non-null  int64         \n",
      " 2   group_id    243713 non-null  int64         \n",
      " 3   date_time   243713 non-null  datetime64[ns]\n",
      " 4   date        243713 non-null  datetime64[ns]\n",
      "dtypes: datetime64[ns](2), int64(2), object(1)\n",
      "memory usage: 9.3+ MB\n"
     ]
    }
   ],
   "source": [
    "# Удалим дубликаты\n",
    "\n",
    "logs = logs.drop_duplicates().reset_index(drop=True)\n",
    "logs.info()"
   ]
  },
  {
   "cell_type": "code",
   "execution_count": 8,
   "metadata": {},
   "outputs": [
    {
     "name": "stdout",
     "output_type": "stream",
     "text": [
      "Число уникальных событий:  5\n"
     ]
    }
   ],
   "source": [
    "# Посмотрим сколько разных событий есть в логах\n",
    "\n",
    "num_events = logs['event_name'].nunique()\n",
    "\n",
    "print('Число уникальных событий: ', num_events)"
   ]
  },
  {
   "cell_type": "code",
   "execution_count": 9,
   "metadata": {},
   "outputs": [
    {
     "data": {
      "text/html": [
       "<div>\n",
       "<style scoped>\n",
       "    .dataframe tbody tr th:only-of-type {\n",
       "        vertical-align: middle;\n",
       "    }\n",
       "\n",
       "    .dataframe tbody tr th {\n",
       "        vertical-align: top;\n",
       "    }\n",
       "\n",
       "    .dataframe thead th {\n",
       "        text-align: right;\n",
       "    }\n",
       "</style>\n",
       "<table border=\"1\" class=\"dataframe\">\n",
       "  <thead>\n",
       "    <tr style=\"text-align: right;\">\n",
       "      <th></th>\n",
       "      <th>event_count</th>\n",
       "    </tr>\n",
       "  </thead>\n",
       "  <tbody>\n",
       "    <tr>\n",
       "      <th>count</th>\n",
       "      <td>7551.000000</td>\n",
       "    </tr>\n",
       "    <tr>\n",
       "      <th>mean</th>\n",
       "      <td>32.275593</td>\n",
       "    </tr>\n",
       "    <tr>\n",
       "      <th>std</th>\n",
       "      <td>65.154219</td>\n",
       "    </tr>\n",
       "    <tr>\n",
       "      <th>min</th>\n",
       "      <td>1.000000</td>\n",
       "    </tr>\n",
       "    <tr>\n",
       "      <th>25%</th>\n",
       "      <td>9.000000</td>\n",
       "    </tr>\n",
       "    <tr>\n",
       "      <th>50%</th>\n",
       "      <td>20.000000</td>\n",
       "    </tr>\n",
       "    <tr>\n",
       "      <th>75%</th>\n",
       "      <td>37.000000</td>\n",
       "    </tr>\n",
       "    <tr>\n",
       "      <th>max</th>\n",
       "      <td>2307.000000</td>\n",
       "    </tr>\n",
       "  </tbody>\n",
       "</table>\n",
       "</div>"
      ],
      "text/plain": [
       "       event_count\n",
       "count  7551.000000\n",
       "mean     32.275593\n",
       "std      65.154219\n",
       "min       1.000000\n",
       "25%       9.000000\n",
       "50%      20.000000\n",
       "75%      37.000000\n",
       "max    2307.000000"
      ]
     },
     "execution_count": 9,
     "metadata": {},
     "output_type": "execute_result"
    }
   ],
   "source": [
    "# Рассмотрим статистику распределения событий на пользователя\n",
    "\n",
    "events_per_user = logs.groupby('user_id').agg(event_count = ('event_name', 'count')).reset_index()\n",
    "events_per_user['event_count'].describe().to_frame()"
   ]
  },
  {
   "cell_type": "code",
   "execution_count": 10,
   "metadata": {
    "scrolled": false
   },
   "outputs": [
    {
     "data": {
      "image/png": "[encoded data removed]",
      "text/plain": [
       "<Figure size 1800x600 with 1 Axes>"
      ]
     },
     "metadata": {},
     "output_type": "display_data"
    }
   ],
   "source": [
    "# Построим диаграмму размаха\n",
    "\n",
    "plt.figure(figsize=(18, 6))\n",
    "plt.boxplot(events_per_user['event_count'], vert=False)\n",
    "plt.xlabel('Количество событий')\n",
    "plt.title('Распределение событий на каждого пользователя' + \"\\n\", fontsize=17);\n",
    "plt.show()"
   ]
  },
  {
   "cell_type": "code",
   "execution_count": 11,
   "metadata": {},
   "outputs": [
    {
     "data": {
      "image/png": "[encoded data removed]",
      "text/plain": [
       "<Figure size 1800x600 with 1 Axes>"
      ]
     },
     "metadata": {},
     "output_type": "display_data"
    }
   ],
   "source": [
    "# Увеличм диаграмму\n",
    "\n",
    "plt.figure(figsize=(18, 6))\n",
    "plt.boxplot(events_per_user['event_count'], vert=False)\n",
    "plt.xlabel('Количество событий')\n",
    "plt.title('Распределение событий на каждого пользователя' + \"\\n\", fontsize=17);\n",
    "plt.xlim(0, 100)\n",
    "plt.show()"
   ]
  },
  {
   "cell_type": "markdown",
   "metadata": {},
   "source": [
    "В среднем на каждого из 7551 пользователя приходится 32 события. Причём, максимальное значение достигает 2307 событий на одного пользователя, минимальное - 1. Медиана значений - 20 событий. Четвёртый квартиль составляют значения с цифрой более 37 событий на пользователя."
   ]
  },
  {
   "cell_type": "code",
   "execution_count": 12,
   "metadata": {},
   "outputs": [
    {
     "data": {
      "text/plain": [
       "array([246, 248, 247], dtype=int64)"
      ]
     },
     "execution_count": 12,
     "metadata": {},
     "output_type": "execute_result"
    }
   ],
   "source": [
    "# Выведем уникальные группы\n",
    "\n",
    "logs['group_id'].unique()"
   ]
  },
  {
   "cell_type": "code",
   "execution_count": 13,
   "metadata": {},
   "outputs": [
    {
     "name": "stdout",
     "output_type": "stream",
     "text": [
      "Минимальная дата диапазона:  2019-07-25 04:43:36\n",
      "Максимальная дата диапазона:  2019-08-07 21:15:17\n"
     ]
    }
   ],
   "source": [
    "# Проверим диапазон date_time\n",
    "\n",
    "date_df = logs['date_time'].describe().loc[['min', 'max']]\n",
    "\n",
    "print('Минимальная дата диапазона: ', date_df['min'])\n",
    "print('Максимальная дата диапазона: ', date_df['max'])"
   ]
  },
  {
   "cell_type": "markdown",
   "metadata": {},
   "source": [
    "Посмотрим не присутствуют ли одни и те же пользователи сразу в нескольких группах"
   ]
  },
  {
   "cell_type": "code",
   "execution_count": 14,
   "metadata": {},
   "outputs": [
    {
     "data": {
      "text/plain": [
       "0"
      ]
     },
     "execution_count": 14,
     "metadata": {},
     "output_type": "execute_result"
    }
   ],
   "source": [
    "duplicates = logs[logs.duplicated('user_id', keep=False)]['user_id']\n",
    "result = logs[logs['user_id'].isin(duplicates)].groupby('user_id')['group_id'].nunique()\n",
    "result = result[result > 1]\n",
    "result.count()"
   ]
  },
  {
   "cell_type": "markdown",
   "metadata": {},
   "source": [
    "Изучим изменение количества данных со временем.  \n",
    "Построим столбчатые диаграммы, которые отобразят количество событий в зависимости от времени в разрезе групп."
   ]
  },
  {
   "cell_type": "code",
   "execution_count": 15,
   "metadata": {
    "scrolled": true
   },
   "outputs": [
    {
     "data": {
      "image/png": "[encoded data removed]",
      "text/plain": [
       "<Figure size 2300x700 with 3 Axes>"
      ]
     },
     "metadata": {},
     "output_type": "display_data"
    }
   ],
   "source": [
    "def plot_grouped_events(logs):\n",
    "    fig, axs = plt.subplots(1, 3, figsize=(23, 7), sharey=True)\n",
    "\n",
    "    # Первая диаграмма (Группа 246)\n",
    "    event_time_246 = logs[logs['group_id']==246].groupby('date').agg({'date_time':'count'}).reset_index()\n",
    "    axs[0].bar(event_time_246['date'], event_time_246['date_time'])\n",
    "    axs[0].set_title('Контрольная группа 246' + \"\\n\", fontsize=22, loc='left')\n",
    "    axs[0].set_xlabel('Дата', fontsize=18)\n",
    "    axs[0].set_ylabel('Количество событий', fontsize=18)\n",
    "    axs[0].tick_params(axis='x', rotation=45, labelsize=15)\n",
    "    axs[0].tick_params(axis='y', labelsize=15)\n",
    "    \n",
    "    # Вторая диаграмма (Группа 247)\n",
    "    event_time_247 = logs[logs['group_id']==247].groupby('date').agg({'date_time':'count'}).reset_index()\n",
    "    axs[1].bar(event_time_247['date'], event_time_247['date_time'])\n",
    "    axs[1].set_title('Контрольная группа 247' + \"\\n\", fontsize=22, loc='left')\n",
    "    axs[1].set_xlabel('Дата', fontsize=18)\n",
    "    axs[1].tick_params(axis='x', rotation=45, labelsize=15)\n",
    "    \n",
    "    # Третья диаграмма (Группа 248)\n",
    "    event_time_248 = logs[logs['group_id']==248].groupby('date').agg({'date_time':'count'}).reset_index()\n",
    "    axs[2].bar(event_time_248['date'], event_time_248['date_time'])\n",
    "    axs[2].set_title('Экспериментальная группа 248' + \"\\n\", fontsize=22, loc='left')\n",
    "    axs[2].set_xlabel('Дата', fontsize=18)\n",
    "    axs[2].tick_params(axis='x', rotation=45, labelsize=15)\n",
    "    \n",
    "    plt.tight_layout()\n",
    "    \n",
    "    plt.show()\n",
    "\n",
    "plot_grouped_events(logs)\n"
   ]
  },
  {
   "cell_type": "markdown",
   "metadata": {},
   "source": [
    "Построим гистограмму распределения данных на границе июля и августа без разделения на группы для более детального анализа"
   ]
  },
  {
   "cell_type": "code",
   "execution_count": 16,
   "metadata": {
    "scrolled": false
   },
   "outputs": [
    {
     "data": {
      "image/png": "[encoded data removed]",
      "text/plain": [
       "<Figure size 1500x700 with 1 Axes>"
      ]
     },
     "metadata": {},
     "output_type": "display_data"
    }
   ],
   "source": [
    "logs.query('\"2019-08-02\" > date > \"2019-07-30\"')['date_time'].hist(bins=400,  figsize=(15, 7))\n",
    "plt.title('Распределение данных по дате и времени' + \"\\n\", fontsize=22,  loc='left')\n",
    "plt.show()"
   ]
  },
  {
   "cell_type": "code",
   "execution_count": 17,
   "metadata": {},
   "outputs": [
    {
     "data": {
      "image/png": "[encoded data removed]",
      "text/plain": [
       "<Figure size 1500x700 with 1 Axes>"
      ]
     },
     "metadata": {},
     "output_type": "display_data"
    }
   ],
   "source": [
    "# суточная активность пользователей\n",
    "\n",
    "logs['date_time'].dt.hour.hist(bins=23, figsize=(15, 7))\n",
    "plt.xticks(range(0, 23))\n",
    "plt.title('Суточна активность пользователей' + \"\\n\", fontsize=22,  loc='left')\n",
    "plt.show()"
   ]
  },
  {
   "cell_type": "markdown",
   "metadata": {},
   "source": [
    "Мы видим, что до 1 августа 2019г количество данных намного меньше чем после этой даты во всех трёх группах. Это показывает, что есть неполные сведения за предшествующий период, которые могут исказить расчёты. Также, обращает на себя внимание суточная активность пользователей, которая достигает наивысших значений в районе 15:00."
   ]
  },
  {
   "cell_type": "markdown",
   "metadata": {},
   "source": [
    "Для того, чтобы производить полноценные вычисления удалим события до 1 августа 2019г и проверим какое количество событий и пользователей от общего числа, которые нам пришлось удалить."
   ]
  },
  {
   "cell_type": "code",
   "execution_count": 18,
   "metadata": {},
   "outputs": [
    {
     "name": "stdout",
     "output_type": "stream",
     "text": [
      "Доля удалённых событий:  1.16%\n",
      "Доля удалённых пользователей:  0.23%\n"
     ]
    }
   ],
   "source": [
    "# Удалённые данные\n",
    "bad_logs = logs[logs['date'] < '2019-08-01']\n",
    "\n",
    "# Расчёт доли удалённых событий\n",
    "print('Доля удалённых событий: ', \"{0:.2%}\".format(len(bad_logs)/len(logs)))\n",
    "\n",
    "# Уникальные пользователи в логе\n",
    "num_users = logs['user_id'].nunique()\n",
    "\n",
    "# Очищенные данные\n",
    "logs = logs[logs['date'] > '2019-07-31'].reset_index(drop=True)\n",
    "\n",
    "# Расчёт доли удалённых пользователей\n",
    "print('Доля удалённых пользователей: ', \"{0:.2%}\".format((num_users - logs['user_id'].nunique())/num_users))\n"
   ]
  },
  {
   "cell_type": "code",
   "execution_count": 19,
   "metadata": {},
   "outputs": [
    {
     "name": "stdout",
     "output_type": "stream",
     "text": [
      "Число уникальных пользователей в обновленном логе:  7534\n"
     ]
    }
   ],
   "source": [
    "# Число уникальных пользователей в обновленном логе \n",
    "\n",
    "num_users = logs['user_id'].nunique()\n",
    "\n",
    "print('Число уникальных пользователей в обновленном логе: ', num_users)"
   ]
  },
  {
   "cell_type": "code",
   "execution_count": 20,
   "metadata": {},
   "outputs": [
    {
     "data": {
      "text/plain": [
       "(240887, 5)"
      ]
     },
     "execution_count": 20,
     "metadata": {},
     "output_type": "execute_result"
    }
   ],
   "source": [
    "logs.shape"
   ]
  },
  {
   "cell_type": "markdown",
   "metadata": {},
   "source": [
    "Выведем обновленные данные по количеству событий во времени в разрезе групп"
   ]
  },
  {
   "cell_type": "code",
   "execution_count": 21,
   "metadata": {},
   "outputs": [
    {
     "data": {
      "image/png": "[encoded data removed]",
      "text/plain": [
       "<Figure size 2300x700 with 3 Axes>"
      ]
     },
     "metadata": {},
     "output_type": "display_data"
    }
   ],
   "source": [
    "plot_grouped_events(logs)"
   ]
  },
  {
   "cell_type": "code",
   "execution_count": 22,
   "metadata": {},
   "outputs": [
    {
     "data": {
      "text/html": [
       "<div>\n",
       "<style scoped>\n",
       "    .dataframe tbody tr th:only-of-type {\n",
       "        vertical-align: middle;\n",
       "    }\n",
       "\n",
       "    .dataframe tbody tr th {\n",
       "        vertical-align: top;\n",
       "    }\n",
       "\n",
       "    .dataframe thead th {\n",
       "        text-align: right;\n",
       "    }\n",
       "</style>\n",
       "<table border=\"1\" class=\"dataframe\">\n",
       "  <thead>\n",
       "    <tr style=\"text-align: right;\">\n",
       "      <th></th>\n",
       "      <th>group_id</th>\n",
       "      <th>user_id</th>\n",
       "    </tr>\n",
       "  </thead>\n",
       "  <tbody>\n",
       "    <tr>\n",
       "      <th>0</th>\n",
       "      <td>246</td>\n",
       "      <td>2484</td>\n",
       "    </tr>\n",
       "    <tr>\n",
       "      <th>1</th>\n",
       "      <td>247</td>\n",
       "      <td>2513</td>\n",
       "    </tr>\n",
       "    <tr>\n",
       "      <th>2</th>\n",
       "      <td>248</td>\n",
       "      <td>2537</td>\n",
       "    </tr>\n",
       "  </tbody>\n",
       "</table>\n",
       "</div>"
      ],
      "text/plain": [
       "   group_id  user_id\n",
       "0       246     2484\n",
       "1       247     2513\n",
       "2       248     2537"
      ]
     },
     "execution_count": 22,
     "metadata": {},
     "output_type": "execute_result"
    }
   ],
   "source": [
    "# Проверим наличие пользователей во всех трёх группах\n",
    "\n",
    "group_count = logs.groupby('group_id')['user_id'].nunique().to_frame().reset_index()\n",
    "group_count"
   ]
  },
  {
   "cell_type": "markdown",
   "metadata": {},
   "source": [
    "В результате изучения и проверки данных выявлено:\n",
    "- 413 дубликатов, которые были успешно удалены;\n",
    "- число уникальных значений в столбце `event_name` равно 5;\n",
    "- число уникальных пользователей - 7534;\n",
    "- среднее количество событий на одного пользователя: 32;\n",
    "- три уникальных группы: 246, 247, 248;\n",
    "- диапазон дат: 2019-07-25 - 2019-08-07;\n",
    "- наличие одинаковых пользователей в разных группах не обнаружено;\n",
    "- аномально низкое количество данных до 1 августа 2019 года. Эти данные были успешно удалены;\n",
    "- доли удалённых событий и уникальных пользователей составили соответственно: 1,16% и 0,23%."
   ]
  },
  {
   "cell_type": "markdown",
   "metadata": {},
   "source": [
    "### Изучение воронки событий"
   ]
  },
  {
   "cell_type": "markdown",
   "metadata": {},
   "source": [
    "Посмотрим, какие события есть в логах, как часто они встречаются."
   ]
  },
  {
   "cell_type": "code",
   "execution_count": 23,
   "metadata": {
    "scrolled": true
   },
   "outputs": [
    {
     "data": {
      "text/html": [
       "<div>\n",
       "<style scoped>\n",
       "    .dataframe tbody tr th:only-of-type {\n",
       "        vertical-align: middle;\n",
       "    }\n",
       "\n",
       "    .dataframe tbody tr th {\n",
       "        vertical-align: top;\n",
       "    }\n",
       "\n",
       "    .dataframe thead th {\n",
       "        text-align: right;\n",
       "    }\n",
       "</style>\n",
       "<table border=\"1\" class=\"dataframe\">\n",
       "  <thead>\n",
       "    <tr style=\"text-align: right;\">\n",
       "      <th></th>\n",
       "      <th>event</th>\n",
       "      <th>total_events</th>\n",
       "    </tr>\n",
       "  </thead>\n",
       "  <tbody>\n",
       "    <tr>\n",
       "      <th>0</th>\n",
       "      <td>MainScreenAppear</td>\n",
       "      <td>117328</td>\n",
       "    </tr>\n",
       "    <tr>\n",
       "      <th>1</th>\n",
       "      <td>OffersScreenAppear</td>\n",
       "      <td>46333</td>\n",
       "    </tr>\n",
       "    <tr>\n",
       "      <th>2</th>\n",
       "      <td>CartScreenAppear</td>\n",
       "      <td>42303</td>\n",
       "    </tr>\n",
       "    <tr>\n",
       "      <th>3</th>\n",
       "      <td>PaymentScreenSuccessful</td>\n",
       "      <td>33918</td>\n",
       "    </tr>\n",
       "    <tr>\n",
       "      <th>4</th>\n",
       "      <td>Tutorial</td>\n",
       "      <td>1005</td>\n",
       "    </tr>\n",
       "  </tbody>\n",
       "</table>\n",
       "</div>"
      ],
      "text/plain": [
       "                     event  total_events\n",
       "0         MainScreenAppear        117328\n",
       "1       OffersScreenAppear         46333\n",
       "2         CartScreenAppear         42303\n",
       "3  PaymentScreenSuccessful         33918\n",
       "4                 Tutorial          1005"
      ]
     },
     "execution_count": 23,
     "metadata": {},
     "output_type": "execute_result"
    }
   ],
   "source": [
    "events_df = logs['event_name'].value_counts().to_frame().reset_index()\n",
    "events_df.columns = ['event', 'total_events']\n",
    "events_df"
   ]
  },
  {
   "cell_type": "code",
   "execution_count": 24,
   "metadata": {},
   "outputs": [
    {
     "data": {
      "image/png": "[encoded data removed]",
      "text/plain": [
       "<Figure size 1500x500 with 1 Axes>"
      ]
     },
     "metadata": {},
     "output_type": "display_data"
    }
   ],
   "source": [
    "# Визуализируем данные\n",
    "\n",
    "plt.figure(figsize=(15, 5))\n",
    "ax = sns.barplot(x='total_events', y='event', data=events_df, orient='h')\n",
    "ax.set_title('Частота событий в логах'+ \"\\n\", fontsize=22, loc='left')\n",
    "ax.set_xlabel('Количество') \n",
    "ax.set_ylabel('')\n",
    "plt.show()"
   ]
  },
  {
   "cell_type": "markdown",
   "metadata": {},
   "source": [
    "Посчитаем, сколько пользователей совершали каждое из этих событий и посчитаем долю пользователей, которые хоть раз его совершили."
   ]
  },
  {
   "cell_type": "code",
   "execution_count": 25,
   "metadata": {},
   "outputs": [
    {
     "data": {
      "text/html": [
       "<div>\n",
       "<style scoped>\n",
       "    .dataframe tbody tr th:only-of-type {\n",
       "        vertical-align: middle;\n",
       "    }\n",
       "\n",
       "    .dataframe tbody tr th {\n",
       "        vertical-align: top;\n",
       "    }\n",
       "\n",
       "    .dataframe thead th {\n",
       "        text-align: right;\n",
       "    }\n",
       "</style>\n",
       "<table border=\"1\" class=\"dataframe\">\n",
       "  <thead>\n",
       "    <tr style=\"text-align: right;\">\n",
       "      <th></th>\n",
       "      <th>event_name</th>\n",
       "      <th>user_id</th>\n",
       "      <th>fraction,%</th>\n",
       "    </tr>\n",
       "  </thead>\n",
       "  <tbody>\n",
       "    <tr>\n",
       "      <th>0</th>\n",
       "      <td>MainScreenAppear</td>\n",
       "      <td>7419</td>\n",
       "      <td>98</td>\n",
       "    </tr>\n",
       "    <tr>\n",
       "      <th>1</th>\n",
       "      <td>OffersScreenAppear</td>\n",
       "      <td>4593</td>\n",
       "      <td>61</td>\n",
       "    </tr>\n",
       "    <tr>\n",
       "      <th>2</th>\n",
       "      <td>CartScreenAppear</td>\n",
       "      <td>3734</td>\n",
       "      <td>50</td>\n",
       "    </tr>\n",
       "    <tr>\n",
       "      <th>3</th>\n",
       "      <td>PaymentScreenSuccessful</td>\n",
       "      <td>3539</td>\n",
       "      <td>47</td>\n",
       "    </tr>\n",
       "    <tr>\n",
       "      <th>4</th>\n",
       "      <td>Tutorial</td>\n",
       "      <td>840</td>\n",
       "      <td>11</td>\n",
       "    </tr>\n",
       "  </tbody>\n",
       "</table>\n",
       "</div>"
      ],
      "text/plain": [
       "                event_name  user_id  fraction,%\n",
       "0         MainScreenAppear     7419          98\n",
       "1       OffersScreenAppear     4593          61\n",
       "2         CartScreenAppear     3734          50\n",
       "3  PaymentScreenSuccessful     3539          47\n",
       "4                 Tutorial      840          11"
      ]
     },
     "execution_count": 25,
     "metadata": {},
     "output_type": "execute_result"
    }
   ],
   "source": [
    "unique_users_per_event = (logs.groupby('event_name')\n",
    "                          .agg({'user_id':'nunique'})\n",
    "                          .sort_values('user_id', ascending=False)\n",
    "                          .reset_index())\n",
    "unique_users_per_event['fraction,%'] = (100*unique_users_per_event['user_id']/num_users).round().astype(int)\n",
    "unique_users_per_event"
   ]
  },
  {
   "cell_type": "markdown",
   "metadata": {},
   "source": [
    "В воронке событий видим, что больше всего уникальных пользователей посещают главную страницу приложения, что естественно. На втором месте - страница товара, на третьем - корзина, на четвёртом - страница оплаты. Замыкает рейтинг страница со справкой приложения. Этот порядок действий является обычным для любого интернет-магазина. Событие, которое не является обязательным для совершения покупки - это страница со инструкцией. Для дальнейшей работы мы можем убрать данные связанные с этим событием из анализа воронки событий."
   ]
  },
  {
   "cell_type": "code",
   "execution_count": 26,
   "metadata": {},
   "outputs": [
    {
     "data": {
      "text/plain": [
       "(239882, 5)"
      ]
     },
     "execution_count": 26,
     "metadata": {},
     "output_type": "execute_result"
    }
   ],
   "source": [
    "# Обновление данных\n",
    "\n",
    "logs = logs[logs['event_name']!='Tutorial']\n",
    "\n",
    "logs.shape"
   ]
  },
  {
   "cell_type": "code",
   "execution_count": 27,
   "metadata": {},
   "outputs": [
    {
     "data": {
      "text/html": [
       "<div>\n",
       "<style scoped>\n",
       "    .dataframe tbody tr th:only-of-type {\n",
       "        vertical-align: middle;\n",
       "    }\n",
       "\n",
       "    .dataframe tbody tr th {\n",
       "        vertical-align: top;\n",
       "    }\n",
       "\n",
       "    .dataframe thead th {\n",
       "        text-align: right;\n",
       "    }\n",
       "</style>\n",
       "<table border=\"1\" class=\"dataframe\">\n",
       "  <thead>\n",
       "    <tr style=\"text-align: right;\">\n",
       "      <th></th>\n",
       "      <th>event_name</th>\n",
       "      <th>user_id</th>\n",
       "      <th>fraction,%</th>\n",
       "    </tr>\n",
       "  </thead>\n",
       "  <tbody>\n",
       "    <tr>\n",
       "      <th>0</th>\n",
       "      <td>MainScreenAppear</td>\n",
       "      <td>7419</td>\n",
       "      <td>98</td>\n",
       "    </tr>\n",
       "    <tr>\n",
       "      <th>1</th>\n",
       "      <td>OffersScreenAppear</td>\n",
       "      <td>4593</td>\n",
       "      <td>61</td>\n",
       "    </tr>\n",
       "    <tr>\n",
       "      <th>2</th>\n",
       "      <td>CartScreenAppear</td>\n",
       "      <td>3734</td>\n",
       "      <td>50</td>\n",
       "    </tr>\n",
       "    <tr>\n",
       "      <th>3</th>\n",
       "      <td>PaymentScreenSuccessful</td>\n",
       "      <td>3539</td>\n",
       "      <td>47</td>\n",
       "    </tr>\n",
       "  </tbody>\n",
       "</table>\n",
       "</div>"
      ],
      "text/plain": [
       "                event_name  user_id  fraction,%\n",
       "0         MainScreenAppear     7419          98\n",
       "1       OffersScreenAppear     4593          61\n",
       "2         CartScreenAppear     3734          50\n",
       "3  PaymentScreenSuccessful     3539          47"
      ]
     },
     "execution_count": 27,
     "metadata": {},
     "output_type": "execute_result"
    }
   ],
   "source": [
    "# обновление unique_users_per_event\n",
    "\n",
    "unique_users_per_event = (logs.groupby('event_name')\n",
    "                          .agg({'user_id':'nunique'})\n",
    "                          .sort_values('user_id', ascending=False)\n",
    "                          .reset_index())\n",
    "unique_users_per_event['fraction,%'] = (100*unique_users_per_event['user_id']/num_users).round().astype(int)\n",
    "unique_users_per_event"
   ]
  },
  {
   "cell_type": "markdown",
   "metadata": {},
   "source": [
    "По воронке событий посчитаем, какая доля пользователей проходит на следующий шаг воронки (от числа пользователей на предыдущем)."
   ]
  },
  {
   "cell_type": "code",
   "execution_count": 28,
   "metadata": {
    "scrolled": false
   },
   "outputs": [
    {
     "data": {
      "text/html": [
       "<div>\n",
       "<style scoped>\n",
       "    .dataframe tbody tr th:only-of-type {\n",
       "        vertical-align: middle;\n",
       "    }\n",
       "\n",
       "    .dataframe tbody tr th {\n",
       "        vertical-align: top;\n",
       "    }\n",
       "\n",
       "    .dataframe thead th {\n",
       "        text-align: right;\n",
       "    }\n",
       "</style>\n",
       "<table border=\"1\" class=\"dataframe\">\n",
       "  <thead>\n",
       "    <tr style=\"text-align: right;\">\n",
       "      <th></th>\n",
       "      <th>event_name</th>\n",
       "      <th>user_id</th>\n",
       "      <th>share_go,%</th>\n",
       "      <th>remaining,%</th>\n",
       "    </tr>\n",
       "  </thead>\n",
       "  <tbody>\n",
       "    <tr>\n",
       "      <th>0</th>\n",
       "      <td>MainScreenAppear</td>\n",
       "      <td>7419</td>\n",
       "      <td>100</td>\n",
       "      <td>100</td>\n",
       "    </tr>\n",
       "    <tr>\n",
       "      <th>1</th>\n",
       "      <td>OffersScreenAppear</td>\n",
       "      <td>4593</td>\n",
       "      <td>62</td>\n",
       "      <td>-38</td>\n",
       "    </tr>\n",
       "    <tr>\n",
       "      <th>2</th>\n",
       "      <td>CartScreenAppear</td>\n",
       "      <td>3734</td>\n",
       "      <td>81</td>\n",
       "      <td>-19</td>\n",
       "    </tr>\n",
       "    <tr>\n",
       "      <th>3</th>\n",
       "      <td>PaymentScreenSuccessful</td>\n",
       "      <td>3539</td>\n",
       "      <td>95</td>\n",
       "      <td>-5</td>\n",
       "    </tr>\n",
       "  </tbody>\n",
       "</table>\n",
       "</div>"
      ],
      "text/plain": [
       "                event_name  user_id  share_go,%  remaining,%\n",
       "0         MainScreenAppear     7419         100          100\n",
       "1       OffersScreenAppear     4593          62          -38\n",
       "2         CartScreenAppear     3734          81          -19\n",
       "3  PaymentScreenSuccessful     3539          95           -5"
      ]
     },
     "execution_count": 28,
     "metadata": {},
     "output_type": "execute_result"
    }
   ],
   "source": [
    "funnel = unique_users_per_event\n",
    "\n",
    "# доля пользователей, которая проходит на следующий шаг воронки\n",
    "funnel['share_go,%'] = unique_users_per_event['user_id']/unique_users_per_event['user_id'].shift(1)\n",
    "funnel['share_go,%'] = (100*funnel['share_go,%']).round().astype('Int64')\n",
    "\n",
    "# доля потерь пользователей от предыдущего события\n",
    "funnel['remaining,%'] = (funnel['user_id'].pct_change() * 100).round().astype('Int64')\n",
    "funnel = funnel.fillna(100)\n",
    "funnel = funnel[['event_name', 'user_id', 'share_go,%', 'remaining,%']]\n",
    "\n",
    "funnel"
   ]
  },
  {
   "cell_type": "markdown",
   "metadata": {},
   "source": [
    "Построим воронку событий"
   ]
  },
  {
   "cell_type": "code",
   "execution_count": 29,
   "metadata": {},
   "outputs": [
    {
     "data": {
      "application/vnd.plotly.v1+json": {
       "config": {
        "plotlyServerURL": "https://plot.ly"
       },
       "data": [
        {
         "textinfo": "value+percent previous",
         "textposition": "inside",
         "type": "funnel",
         "x": [
          7419,
          4593,
          3734,
          3539
         ],
         "y": [
          "MainScreenAppear",
          "OffersScreenAppear",
          "CartScreenAppear",
          "PaymentScreenSuccessful"
         ]
        }
       ],
       "layout": {
        "template": {
         "data": {
          "bar": [
           {
            "error_x": {
             "color": "#2a3f5f"
            },
            "error_y": {
             "color": "#2a3f5f"
            },
            "marker": {
             "line": {
              "color": "#E5ECF6",
              "width": 0.5
             },
             "pattern": {
              "fillmode": "overlay",
              "size": 10,
              "solidity": 0.2
             }
            },
            "type": "bar"
           }
          ],
          "barpolar": [
           {
            "marker": {
             "line": {
              "color": "#E5ECF6",
              "width": 0.5
             },
             "pattern": {
              "fillmode": "overlay",
              "size": 10,
              "solidity": 0.2
             }
            },
            "type": "barpolar"
           }
          ],
          "carpet": [
           {
            "aaxis": {
             "endlinecolor": "#2a3f5f",
             "gridcolor": "white",
             "linecolor": "white",
             "minorgridcolor": "white",
             "startlinecolor": "#2a3f5f"
            },
            "baxis": {
             "endlinecolor": "#2a3f5f",
             "gridcolor": "white",
             "linecolor": "white",
             "minorgridcolor": "white",
             "startlinecolor": "#2a3f5f"
            },
            "type": "carpet"
           }
          ],
          "choropleth": [
           {
            "colorbar": {
             "outlinewidth": 0,
             "ticks": ""
            },
            "type": "choropleth"
           }
          ],
          "contour": [
           {
            "colorbar": {
             "outlinewidth": 0,
             "ticks": ""
            },
            "colorscale": [
             [
              0,
              "#0d0887"
             ],
             [
              0.1111111111111111,
              "#46039f"
             ],
             [
              0.2222222222222222,
              "#7201a8"
             ],
             [
              0.3333333333333333,
              "#9c179e"
             ],
             [
              0.4444444444444444,
              "#bd3786"
             ],
             [
              0.5555555555555556,
              "#d8576b"
             ],
             [
              0.6666666666666666,
              "#ed7953"
             ],
             [
              0.7777777777777778,
              "#fb9f3a"
             ],
             [
              0.8888888888888888,
              "#fdca26"
             ],
             [
              1,
              "#f0f921"
             ]
            ],
            "type": "contour"
           }
          ],
          "contourcarpet": [
           {
            "colorbar": {
             "outlinewidth": 0,
             "ticks": ""
            },
            "type": "contourcarpet"
           }
          ],
          "heatmap": [
           {
            "colorbar": {
             "outlinewidth": 0,
             "ticks": ""
            },
            "colorscale": [
             [
              0,
              "#0d0887"
             ],
             [
              0.1111111111111111,
              "#46039f"
             ],
             [
              0.2222222222222222,
              "#7201a8"
             ],
             [
              0.3333333333333333,
              "#9c179e"
             ],
             [
              0.4444444444444444,
              "#bd3786"
             ],
             [
              0.5555555555555556,
              "#d8576b"
             ],
             [
              0.6666666666666666,
              "#ed7953"
             ],
             [
              0.7777777777777778,
              "#fb9f3a"
             ],
             [
              0.8888888888888888,
              "#fdca26"
             ],
             [
              1,
              "#f0f921"
             ]
            ],
            "type": "heatmap"
           }
          ],
          "heatmapgl": [
           {
            "colorbar": {
             "outlinewidth": 0,
             "ticks": ""
            },
            "colorscale": [
             [
              0,
              "#0d0887"
             ],
             [
              0.1111111111111111,
              "#46039f"
             ],
             [
              0.2222222222222222,
              "#7201a8"
             ],
             [
              0.3333333333333333,
              "#9c179e"
             ],
             [
              0.4444444444444444,
              "#bd3786"
             ],
             [
              0.5555555555555556,
              "#d8576b"
             ],
             [
              0.6666666666666666,
              "#ed7953"
             ],
             [
              0.7777777777777778,
              "#fb9f3a"
             ],
             [
              0.8888888888888888,
              "#fdca26"
             ],
             [
              1,
              "#f0f921"
             ]
            ],
            "type": "heatmapgl"
           }
          ],
          "histogram": [
           {
            "marker": {
             "pattern": {
              "fillmode": "overlay",
              "size": 10,
              "solidity": 0.2
             }
            },
            "type": "histogram"
           }
          ],
          "histogram2d": [
           {
            "colorbar": {
             "outlinewidth": 0,
             "ticks": ""
            },
            "colorscale": [
             [
              0,
              "#0d0887"
             ],
             [
              0.1111111111111111,
              "#46039f"
             ],
             [
              0.2222222222222222,
              "#7201a8"
             ],
             [
              0.3333333333333333,
              "#9c179e"
             ],
             [
              0.4444444444444444,
              "#bd3786"
             ],
             [
              0.5555555555555556,
              "#d8576b"
             ],
             [
              0.6666666666666666,
              "#ed7953"
             ],
             [
              0.7777777777777778,
              "#fb9f3a"
             ],
             [
              0.8888888888888888,
              "#fdca26"
             ],
             [
              1,
              "#f0f921"
             ]
            ],
            "type": "histogram2d"
           }
          ],
          "histogram2dcontour": [
           {
            "colorbar": {
             "outlinewidth": 0,
             "ticks": ""
            },
            "colorscale": [
             [
              0,
              "#0d0887"
             ],
             [
              0.1111111111111111,
              "#46039f"
             ],
             [
              0.2222222222222222,
              "#7201a8"
             ],
             [
              0.3333333333333333,
              "#9c179e"
             ],
             [
              0.4444444444444444,
              "#bd3786"
             ],
             [
              0.5555555555555556,
              "#d8576b"
             ],
             [
              0.6666666666666666,
              "#ed7953"
             ],
             [
              0.7777777777777778,
              "#fb9f3a"
             ],
             [
              0.8888888888888888,
              "#fdca26"
             ],
             [
              1,
              "#f0f921"
             ]
            ],
            "type": "histogram2dcontour"
           }
          ],
          "mesh3d": [
           {
            "colorbar": {
             "outlinewidth": 0,
             "ticks": ""
            },
            "type": "mesh3d"
           }
          ],
          "parcoords": [
           {
            "line": {
             "colorbar": {
              "outlinewidth": 0,
              "ticks": ""
             }
            },
            "type": "parcoords"
           }
          ],
          "pie": [
           {
            "automargin": true,
            "type": "pie"
           }
          ],
          "scatter": [
           {
            "fillpattern": {
             "fillmode": "overlay",
             "size": 10,
             "solidity": 0.2
            },
            "type": "scatter"
           }
          ],
          "scatter3d": [
           {
            "line": {
             "colorbar": {
              "outlinewidth": 0,
              "ticks": ""
             }
            },
            "marker": {
             "colorbar": {
              "outlinewidth": 0,
              "ticks": ""
             }
            },
            "type": "scatter3d"
           }
          ],
          "scattercarpet": [
           {
            "marker": {
             "colorbar": {
              "outlinewidth": 0,
              "ticks": ""
             }
            },
            "type": "scattercarpet"
           }
          ],
          "scattergeo": [
           {
            "marker": {
             "colorbar": {
              "outlinewidth": 0,
              "ticks": ""
             }
            },
            "type": "scattergeo"
           }
          ],
          "scattergl": [
           {
            "marker": {
             "colorbar": {
              "outlinewidth": 0,
              "ticks": ""
             }
            },
            "type": "scattergl"
           }
          ],
          "scattermapbox": [
           {
            "marker": {
             "colorbar": {
              "outlinewidth": 0,
              "ticks": ""
             }
            },
            "type": "scattermapbox"
           }
          ],
          "scatterpolar": [
           {
            "marker": {
             "colorbar": {
              "outlinewidth": 0,
              "ticks": ""
             }
            },
            "type": "scatterpolar"
           }
          ],
          "scatterpolargl": [
           {
            "marker": {
             "colorbar": {
              "outlinewidth": 0,
              "ticks": ""
             }
            },
            "type": "scatterpolargl"
           }
          ],
          "scatterternary": [
           {
            "marker": {
             "colorbar": {
              "outlinewidth": 0,
              "ticks": ""
             }
            },
            "type": "scatterternary"
           }
          ],
          "surface": [
           {
            "colorbar": {
             "outlinewidth": 0,
             "ticks": ""
            },
            "colorscale": [
             [
              0,
              "#0d0887"
             ],
             [
              0.1111111111111111,
              "#46039f"
             ],
             [
              0.2222222222222222,
              "#7201a8"
             ],
             [
              0.3333333333333333,
              "#9c179e"
             ],
             [
              0.4444444444444444,
              "#bd3786"
             ],
             [
              0.5555555555555556,
              "#d8576b"
             ],
             [
              0.6666666666666666,
              "#ed7953"
             ],
             [
              0.7777777777777778,
              "#fb9f3a"
             ],
             [
              0.8888888888888888,
              "#fdca26"
             ],
             [
              1,
              "#f0f921"
             ]
            ],
            "type": "surface"
           }
          ],
          "table": [
           {
            "cells": {
             "fill": {
              "color": "#EBF0F8"
             },
             "line": {
              "color": "white"
             }
            },
            "header": {
             "fill": {
              "color": "#C8D4E3"
             },
             "line": {
              "color": "white"
             }
            },
            "type": "table"
           }
          ]
         },
         "layout": {
          "annotationdefaults": {
           "arrowcolor": "#2a3f5f",
           "arrowhead": 0,
           "arrowwidth": 1
          },
          "autotypenumbers": "strict",
          "coloraxis": {
           "colorbar": {
            "outlinewidth": 0,
            "ticks": ""
           }
          },
          "colorscale": {
           "diverging": [
            [
             0,
             "#8e0152"
            ],
            [
             0.1,
             "#c51b7d"
            ],
            [
             0.2,
             "#de77ae"
            ],
            [
             0.3,
             "#f1b6da"
            ],
            [
             0.4,
             "#fde0ef"
            ],
            [
             0.5,
             "#f7f7f7"
            ],
            [
             0.6,
             "#e6f5d0"
            ],
            [
             0.7,
             "#b8e186"
            ],
            [
             0.8,
             "#7fbc41"
            ],
            [
             0.9,
             "#4d9221"
            ],
            [
             1,
             "#276419"
            ]
           ],
           "sequential": [
            [
             0,
             "#0d0887"
            ],
            [
             0.1111111111111111,
             "#46039f"
            ],
            [
             0.2222222222222222,
             "#7201a8"
            ],
            [
             0.3333333333333333,
             "#9c179e"
            ],
            [
             0.4444444444444444,
             "#bd3786"
            ],
            [
             0.5555555555555556,
             "#d8576b"
            ],
            [
             0.6666666666666666,
             "#ed7953"
            ],
            [
             0.7777777777777778,
             "#fb9f3a"
            ],
            [
             0.8888888888888888,
             "#fdca26"
            ],
            [
             1,
             "#f0f921"
            ]
           ],
           "sequentialminus": [
            [
             0,
             "#0d0887"
            ],
            [
             0.1111111111111111,
             "#46039f"
            ],
            [
             0.2222222222222222,
             "#7201a8"
            ],
            [
             0.3333333333333333,
             "#9c179e"
            ],
            [
             0.4444444444444444,
             "#bd3786"
            ],
            [
             0.5555555555555556,
             "#d8576b"
            ],
            [
             0.6666666666666666,
             "#ed7953"
            ],
            [
             0.7777777777777778,
             "#fb9f3a"
            ],
            [
             0.8888888888888888,
             "#fdca26"
            ],
            [
             1,
             "#f0f921"
            ]
           ]
          },
          "colorway": [
           "#636efa",
           "#EF553B",
           "#00cc96",
           "#ab63fa",
           "#FFA15A",
           "#19d3f3",
           "#FF6692",
           "#B6E880",
           "#FF97FF",
           "#FECB52"
          ],
          "font": {
           "color": "#2a3f5f"
          },
          "geo": {
           "bgcolor": "white",
           "lakecolor": "white",
           "landcolor": "#E5ECF6",
           "showlakes": true,
           "showland": true,
           "subunitcolor": "white"
          },
          "hoverlabel": {
           "align": "left"
          },
          "hovermode": "closest",
          "mapbox": {
           "style": "light"
          },
          "paper_bgcolor": "white",
          "plot_bgcolor": "#E5ECF6",
          "polar": {
           "angularaxis": {
            "gridcolor": "white",
            "linecolor": "white",
            "ticks": ""
           },
           "bgcolor": "#E5ECF6",
           "radialaxis": {
            "gridcolor": "white",
            "linecolor": "white",
            "ticks": ""
           }
          },
          "scene": {
           "xaxis": {
            "backgroundcolor": "#E5ECF6",
            "gridcolor": "white",
            "gridwidth": 2,
            "linecolor": "white",
            "showbackground": true,
            "ticks": "",
            "zerolinecolor": "white"
           },
           "yaxis": {
            "backgroundcolor": "#E5ECF6",
            "gridcolor": "white",
            "gridwidth": 2,
            "linecolor": "white",
            "showbackground": true,
            "ticks": "",
            "zerolinecolor": "white"
           },
           "zaxis": {
            "backgroundcolor": "#E5ECF6",
            "gridcolor": "white",
            "gridwidth": 2,
            "linecolor": "white",
            "showbackground": true,
            "ticks": "",
            "zerolinecolor": "white"
           }
          },
          "shapedefaults": {
           "line": {
            "color": "#2a3f5f"
           }
          },
          "ternary": {
           "aaxis": {
            "gridcolor": "white",
            "linecolor": "white",
            "ticks": ""
           },
           "baxis": {
            "gridcolor": "white",
            "linecolor": "white",
            "ticks": ""
           },
           "bgcolor": "#E5ECF6",
           "caxis": {
            "gridcolor": "white",
            "linecolor": "white",
            "ticks": ""
           }
          },
          "title": {
           "x": 0.05
          },
          "xaxis": {
           "automargin": true,
           "gridcolor": "white",
           "linecolor": "white",
           "ticks": "",
           "title": {
            "standoff": 15
           },
           "zerolinecolor": "white",
           "zerolinewidth": 2
          },
          "yaxis": {
           "automargin": true,
           "gridcolor": "white",
           "linecolor": "white",
           "ticks": "",
           "title": {
            "standoff": 15
           },
           "zerolinecolor": "white",
           "zerolinewidth": 2
          }
         }
        },
        "title": {
         "text": "Воронка событий"
        }
       }
      }
     },
     "metadata": {},
     "output_type": "display_data"
    }
   ],
   "source": [
    "fig = go.Figure(go.Funnel(y = funnel['event_name'],\n",
    "                          x = funnel['user_id'],\n",
    "                          textposition = 'inside',\n",
    "                          textinfo = 'value + percent previous'))\n",
    "fig.update_layout(title_text='Воронка событий')\n",
    "fig.show()"
   ]
  },
  {
   "cell_type": "markdown",
   "metadata": {},
   "source": [
    "По результатам видим, что наибольшая доля потерь пользователей происходит на этапе перехода на страницу с товаром(38%). Это можно объяснить тем, что, возможно, пользователь не нашёл то, что искал, или его не удовлетворили цены товара. Может есть проблемы с отображением кнопки для добавления товара в корзину, разработчикам стоит проверить. Следующим этапом по размеру потерь клиентов происходит на стадии добавления товара в корзину(19%). Это может происходить из-за несоответствия ожидания посетителя в отношении характеристик товара или комментариев под этим товаром. Наименьшее число потерь посетителей происходит на этапе соверешения оплаты товара(5%)"
   ]
  },
  {
   "cell_type": "markdown",
   "metadata": {},
   "source": [
    "Определим какая доля пользователей доходит до оплаты товара от первого события, т.е. после посещения главной страницы приложения."
   ]
  },
  {
   "cell_type": "code",
   "execution_count": 30,
   "metadata": {},
   "outputs": [
    {
     "name": "stdout",
     "output_type": "stream",
     "text": [
      "Доля пользователей, которая доходит до оплаты товара:  47.7%\n"
     ]
    }
   ],
   "source": [
    "print('Доля пользователей, которая доходит до оплаты товара: ', \"{0:.1%}\".format(funnel['user_id'].min()/funnel['user_id'].max()))"
   ]
  },
  {
   "cell_type": "markdown",
   "metadata": {},
   "source": [
    "В результате изучения воронки событий:\n",
    "- Узнали, что существует пять разных событий в логах, а их порядок по частоте появления следующий:\n",
    "\t1. посещение главной страницы;\n",
    "\t2. посещение страницы с товаром;\n",
    "\t3. посещение страницы с корзиной товаров;\n",
    "\t4. посещение страницы оплаты товара;\n",
    "\t5. посещение страницы с инструкцией.\n",
    "\n",
    "- Популярность по доле пользователей, которые хоть раз совершали событие, также соответствует вышеприведённому рангу.\n",
    "- Выяснили, что наибольшее количество посетителей теряется на этапе перехода с главной страницы на страницу с товаром(38%), а наименьшее при переходе на старницу оплаты(5%).\n",
    "- Доля пользователей прошедших все этапы воронки продаж составляет 47.7%."
   ]
  },
  {
   "cell_type": "markdown",
   "metadata": {},
   "source": [
    "### Изучение результатов эксперимента"
   ]
  },
  {
   "cell_type": "markdown",
   "metadata": {},
   "source": [
    "Имеем следующие цифры количества пользователей в экспериментальных группах"
   ]
  },
  {
   "cell_type": "code",
   "execution_count": 31,
   "metadata": {},
   "outputs": [
    {
     "data": {
      "text/html": [
       "<div>\n",
       "<style scoped>\n",
       "    .dataframe tbody tr th:only-of-type {\n",
       "        vertical-align: middle;\n",
       "    }\n",
       "\n",
       "    .dataframe tbody tr th {\n",
       "        vertical-align: top;\n",
       "    }\n",
       "\n",
       "    .dataframe thead th {\n",
       "        text-align: right;\n",
       "    }\n",
       "</style>\n",
       "<table border=\"1\" class=\"dataframe\">\n",
       "  <thead>\n",
       "    <tr style=\"text-align: right;\">\n",
       "      <th></th>\n",
       "      <th>group_id</th>\n",
       "      <th>user_id</th>\n",
       "    </tr>\n",
       "  </thead>\n",
       "  <tbody>\n",
       "    <tr>\n",
       "      <th>0</th>\n",
       "      <td>246</td>\n",
       "      <td>2483</td>\n",
       "    </tr>\n",
       "    <tr>\n",
       "      <th>1</th>\n",
       "      <td>247</td>\n",
       "      <td>2512</td>\n",
       "    </tr>\n",
       "    <tr>\n",
       "      <th>2</th>\n",
       "      <td>248</td>\n",
       "      <td>2535</td>\n",
       "    </tr>\n",
       "  </tbody>\n",
       "</table>\n",
       "</div>"
      ],
      "text/plain": [
       "   group_id  user_id\n",
       "0       246     2483\n",
       "1       247     2512\n",
       "2       248     2535"
      ]
     },
     "execution_count": 31,
     "metadata": {},
     "output_type": "execute_result"
    }
   ],
   "source": [
    "exp_groups = logs.groupby('group_id')['user_id'].nunique().to_frame().reset_index()\n",
    "exp_groups"
   ]
  },
  {
   "cell_type": "markdown",
   "metadata": {},
   "source": [
    "Количество уникальных пользователей в трех группах различно. Согласно критерию успешного A/A-теста количество пользователей в группах должно различаться не более, чем на 1%. Посчитаем эту разницу между двумя контрольными группами: 247 и 246."
   ]
  },
  {
   "cell_type": "code",
   "execution_count": 32,
   "metadata": {},
   "outputs": [
    {
     "name": "stdout",
     "output_type": "stream",
     "text": [
      "Количество пользователей в группах отличается на:  1.17%\n"
     ]
    }
   ],
   "source": [
    "diff_groups = (exp_groups.loc[1,'user_id'] - exp_groups.loc[0,'user_id'])/exp_groups.loc[0,'user_id']\n",
    "print('Количество пользователей в группах отличается на: ', \"{0:.2%}\".format(diff_groups))"
   ]
  },
  {
   "cell_type": "markdown",
   "metadata": {},
   "source": [
    "Для сравнения групп с помощью статистических тестов создадим функцию упрощающую проведение расчетов. На вход функция принимает два датафрейма, интересующее событие и уровень значимости."
   ]
  },
  {
   "cell_type": "code",
   "execution_count": 33,
   "metadata": {},
   "outputs": [],
   "source": [
    "\n",
    "def stat_func(df1, df2, event, alpha):\n",
    "\n",
    "    # уровень статистической значимости c поправкой Бонферрони\n",
    "    bonferroni_alpha = alpha / 16\n",
    " \n",
    "    # число пользователей в группе 1 и группе 2:\n",
    "    n_users = np.array([df1['user_id'].nunique(), \n",
    "                        df2['user_id'].nunique()])\n",
    "\n",
    "    # число пользователей, совершивших событие в группе 1 и группе 2\n",
    "    success = np.array([df1[df1['event_name'] == event]['user_id'].nunique(), \n",
    "                        df2[df2['event_name'] == event]['user_id'].nunique()])\n",
    "\n",
    "    # пропорции успехов в группах:\n",
    "    p1 = success[0]/n_users[0]\n",
    "    p2 = success[1]/n_users[1]\n",
    "    print(success[0], success[1],n_users[0] , n_users[1])\n",
    "    \n",
    "    # пропорция успехов в комбинированном датасете:\n",
    "    p_combined = (success[0] + success[1]) / (n_users[0] + n_users[1])\n",
    "\n",
    "    # разница пропорций в датасетах\n",
    "    difference = p1 - p2 \n",
    "\n",
    "    # считаем z-статистику\n",
    "    z_value = difference / np.sqrt(p_combined * (1 - p_combined) * (1/n_users[0] + 1/n_users[1]))\n",
    "\n",
    "    # задаем стандартное нормальное распределение\n",
    "    distr = st.norm(0, 1)  \n",
    "\n",
    "    # определяем двусторонний тест\n",
    "    p_value = (1 - distr.cdf(abs(z_value))) * 2\n",
    "    \n",
    "    print('Событие:', event)\n",
    "    print('p-value: ', \"{0:.3f}\".format(p_value))\n",
    "\n",
    "    if p_value < bonferroni_alpha:\n",
    "        print('Отвергаем нулевую гипотезу: между долями есть разница')\n",
    "    else:\n",
    "        print('Не удалось отвергнуть нулевую гипотезу')\n",
    "        \n",
    "    print()\n"
   ]
  },
  {
   "cell_type": "markdown",
   "metadata": {},
   "source": [
    "Создадим таблицу и отобразим количество пользователей в разрезе групп и событий"
   ]
  },
  {
   "cell_type": "code",
   "execution_count": 34,
   "metadata": {},
   "outputs": [
    {
     "data": {
      "text/html": [
       "<div>\n",
       "<style scoped>\n",
       "    .dataframe tbody tr th:only-of-type {\n",
       "        vertical-align: middle;\n",
       "    }\n",
       "\n",
       "    .dataframe tbody tr th {\n",
       "        vertical-align: top;\n",
       "    }\n",
       "\n",
       "    .dataframe thead th {\n",
       "        text-align: right;\n",
       "    }\n",
       "</style>\n",
       "<table border=\"1\" class=\"dataframe\">\n",
       "  <thead>\n",
       "    <tr style=\"text-align: right;\">\n",
       "      <th></th>\n",
       "      <th>group_id</th>\n",
       "      <th>events</th>\n",
       "      <th>users</th>\n",
       "    </tr>\n",
       "  </thead>\n",
       "  <tbody>\n",
       "    <tr>\n",
       "      <th>0</th>\n",
       "      <td>246</td>\n",
       "      <td>PaymentScreenSuccessful</td>\n",
       "      <td>1200</td>\n",
       "    </tr>\n",
       "    <tr>\n",
       "      <th>1</th>\n",
       "      <td>246</td>\n",
       "      <td>CartScreenAppear</td>\n",
       "      <td>1266</td>\n",
       "    </tr>\n",
       "    <tr>\n",
       "      <th>2</th>\n",
       "      <td>246</td>\n",
       "      <td>OffersScreenAppear</td>\n",
       "      <td>1542</td>\n",
       "    </tr>\n",
       "    <tr>\n",
       "      <th>3</th>\n",
       "      <td>246</td>\n",
       "      <td>MainScreenAppear</td>\n",
       "      <td>2450</td>\n",
       "    </tr>\n",
       "    <tr>\n",
       "      <th>4</th>\n",
       "      <td>247</td>\n",
       "      <td>PaymentScreenSuccessful</td>\n",
       "      <td>1158</td>\n",
       "    </tr>\n",
       "    <tr>\n",
       "      <th>5</th>\n",
       "      <td>247</td>\n",
       "      <td>CartScreenAppear</td>\n",
       "      <td>1238</td>\n",
       "    </tr>\n",
       "    <tr>\n",
       "      <th>6</th>\n",
       "      <td>247</td>\n",
       "      <td>OffersScreenAppear</td>\n",
       "      <td>1520</td>\n",
       "    </tr>\n",
       "    <tr>\n",
       "      <th>7</th>\n",
       "      <td>247</td>\n",
       "      <td>MainScreenAppear</td>\n",
       "      <td>2476</td>\n",
       "    </tr>\n",
       "    <tr>\n",
       "      <th>8</th>\n",
       "      <td>248</td>\n",
       "      <td>PaymentScreenSuccessful</td>\n",
       "      <td>1181</td>\n",
       "    </tr>\n",
       "    <tr>\n",
       "      <th>9</th>\n",
       "      <td>248</td>\n",
       "      <td>CartScreenAppear</td>\n",
       "      <td>1230</td>\n",
       "    </tr>\n",
       "    <tr>\n",
       "      <th>10</th>\n",
       "      <td>248</td>\n",
       "      <td>OffersScreenAppear</td>\n",
       "      <td>1531</td>\n",
       "    </tr>\n",
       "    <tr>\n",
       "      <th>11</th>\n",
       "      <td>248</td>\n",
       "      <td>MainScreenAppear</td>\n",
       "      <td>2493</td>\n",
       "    </tr>\n",
       "  </tbody>\n",
       "</table>\n",
       "</div>"
      ],
      "text/plain": [
       "    group_id                   events  users\n",
       "0        246  PaymentScreenSuccessful   1200\n",
       "1        246         CartScreenAppear   1266\n",
       "2        246       OffersScreenAppear   1542\n",
       "3        246         MainScreenAppear   2450\n",
       "4        247  PaymentScreenSuccessful   1158\n",
       "5        247         CartScreenAppear   1238\n",
       "6        247       OffersScreenAppear   1520\n",
       "7        247         MainScreenAppear   2476\n",
       "8        248  PaymentScreenSuccessful   1181\n",
       "9        248         CartScreenAppear   1230\n",
       "10       248       OffersScreenAppear   1531\n",
       "11       248         MainScreenAppear   2493"
      ]
     },
     "execution_count": 34,
     "metadata": {},
     "output_type": "execute_result"
    }
   ],
   "source": [
    "df_funnel = (logs\n",
    "             .groupby(['group_id', 'event_name'])\n",
    "             .agg({'user_id':'nunique'})\n",
    "             .sort_values(['group_id','user_id']).reset_index())\n",
    "df_funnel.columns = ['group_id', 'events', 'users']\n",
    "df_funnel"
   ]
  },
  {
   "cell_type": "markdown",
   "metadata": {},
   "source": [
    "Проверим, есть ли статистически значимое отличие между двумя контрольными группами: 246 и 247, по всем событиям.\n",
    "- Сформулируем нулевую гипотезу: \"Различий между контрольными группами 246 и 247 в разрезе событий, нет\".  \n",
    "- Альтернативная гипотеза: \"Существет различие между контрольными группами 246 и 247 в разрезе событий\".  \n",
    "- Уровень статистической значимости примем равным 0,05.\n"
   ]
  },
  {
   "cell_type": "code",
   "execution_count": 35,
   "metadata": {},
   "outputs": [
    {
     "name": "stdout",
     "output_type": "stream",
     "text": [
      "1200 1158 2483 2512\n",
      "Событие: PaymentScreenSuccessful\n",
      "p-value:  0.114\n",
      "Не удалось отвергнуть нулевую гипотезу\n",
      "\n",
      "1266 1238 2483 2512\n",
      "Событие: CartScreenAppear\n",
      "p-value:  0.229\n",
      "Не удалось отвергнуть нулевую гипотезу\n",
      "\n",
      "1542 1520 2483 2512\n",
      "Событие: OffersScreenAppear\n",
      "p-value:  0.248\n",
      "Не удалось отвергнуть нулевую гипотезу\n",
      "\n",
      "2450 2476 2483 2512\n",
      "Событие: MainScreenAppear\n",
      "p-value:  0.753\n",
      "Не удалось отвергнуть нулевую гипотезу\n",
      "\n"
     ]
    }
   ],
   "source": [
    "for event in df_funnel['events'].unique():\n",
    "    stat_func(logs[logs['group_id'] == 246], logs[logs['group_id'] == 247], event, 0.05)"
   ]
  },
  {
   "cell_type": "markdown",
   "metadata": {},
   "source": [
    "Согласно проведённым тестам мы обнаружили, что при текущем уровне значимости в 0.05, статистически значимого различия между двумя контрольными группами нет. Это подтвердилось по всем событиям лога. Поэтому результаты A/A-теста можно считать правдоподобными и разбиение на группы работает корректно."
   ]
  },
  {
   "cell_type": "markdown",
   "metadata": {},
   "source": [
    "Далее сравним результаты с каждой из контрольных групп по отдельности по каждому событию, а также с объединенной контрольной группой:\n",
    "- 246 <> 248\n",
    "- 247 <> 248\n",
    "- 246 + 247 <> 248"
   ]
  },
  {
   "cell_type": "markdown",
   "metadata": {},
   "source": [
    "Сначала проверим, есть ли статистически значимое отличие между контрольной группой 246 и экспериментальной группой 248, т.е. с группой с изменённым шрифтом, по всем событиям.\n",
    "- Сформулируем нулевую гипотезу: \"Различий между контрольной группой 246 и экспериментальной группой 248 в разрезе событий, нет\".  \n",
    "- Альтернативная гипотеза: \"Существет различие между контрольной группой 246 и экспериментальной группой 248 в разрезе событий\".  \n",
    "- Уровень статистической значимости примем равным 0,05."
   ]
  },
  {
   "cell_type": "code",
   "execution_count": 36,
   "metadata": {},
   "outputs": [
    {
     "name": "stdout",
     "output_type": "stream",
     "text": [
      "1200 1181 2483 2535\n",
      "Событие: PaymentScreenSuccessful\n",
      "p-value:  0.217\n",
      "Не удалось отвергнуть нулевую гипотезу\n",
      "\n",
      "1266 1230 2483 2535\n",
      "Событие: CartScreenAppear\n",
      "p-value:  0.081\n",
      "Не удалось отвергнуть нулевую гипотезу\n",
      "\n",
      "1542 1531 2483 2535\n",
      "Событие: OffersScreenAppear\n",
      "p-value:  0.214\n",
      "Не удалось отвергнуть нулевую гипотезу\n",
      "\n",
      "2450 2493 2483 2535\n",
      "Событие: MainScreenAppear\n",
      "p-value:  0.339\n",
      "Не удалось отвергнуть нулевую гипотезу\n",
      "\n"
     ]
    }
   ],
   "source": [
    "for event in df_funnel['events'].unique():\n",
    "    stat_func(logs[logs['group_id'] == 246], logs[logs['group_id'] == 248], event, 0.05)"
   ]
  },
  {
   "cell_type": "markdown",
   "metadata": {},
   "source": [
    "Согласно проведённым тестам мы обнаружили, что при текущем уровне значимости в 0.05, статистически значимого различия между контрольной группой 246 и экспериментальной группой 248 нет. Подтверждение гипотезы даёт основания считать, что эксперимент с изменённым шрифтом в мобильном приложении не влияет на конверсию."
   ]
  },
  {
   "cell_type": "markdown",
   "metadata": {},
   "source": [
    "Проверим, есть ли статистически значимое отличие между контрольной группой 247 и экспериментальной группой 248, т.е. с группой с изменённым шрифтом, по всем событиям.\n",
    "- Сформулируем нулевую гипотезу: \"Различий между контрольной группой 247 и экспериментальной группой 248 в разрезе событий, нет\".  \n",
    "- Альтернативная гипотеза: \"Существет различие между контрольной группой 247 и экспериментальной группой 248 в разрезе событий\".  \n",
    "- Уровень статистической значимости примем равным 0,05."
   ]
  },
  {
   "cell_type": "code",
   "execution_count": 37,
   "metadata": {},
   "outputs": [
    {
     "name": "stdout",
     "output_type": "stream",
     "text": [
      "1158 1181 2512 2535\n",
      "Событие: PaymentScreenSuccessful\n",
      "p-value:  0.728\n",
      "Не удалось отвергнуть нулевую гипотезу\n",
      "\n",
      "1238 1230 2512 2535\n",
      "Событие: CartScreenAppear\n",
      "p-value:  0.588\n",
      "Не удалось отвергнуть нулевую гипотезу\n",
      "\n",
      "1520 1531 2512 2535\n",
      "Событие: OffersScreenAppear\n",
      "p-value:  0.933\n",
      "Не удалось отвергнуть нулевую гипотезу\n",
      "\n",
      "2476 2493 2512 2535\n",
      "Событие: MainScreenAppear\n",
      "p-value:  0.519\n",
      "Не удалось отвергнуть нулевую гипотезу\n",
      "\n"
     ]
    }
   ],
   "source": [
    "for event in df_funnel['events'].unique():\n",
    "    stat_func(logs[logs['group_id'] == 247], logs[logs['group_id'] == 248], event, 0.05)"
   ]
  },
  {
   "cell_type": "markdown",
   "metadata": {},
   "source": [
    "Согласно проведённым тестам мы обнаружили, что при текущем уровне значимости в 0.05, статистически значимого различия между контрольной группой 247 и экспериментальной группой 248 нет. Подтверждение гипотезы даёт основания считать, что эксперимент с изменённым шрифтом в мобильном приложении не влияет на конверсию."
   ]
  },
  {
   "cell_type": "markdown",
   "metadata": {},
   "source": [
    "Проверим, есть ли статистически значимое отличие между объединенными контрольными группами 246 + 247 и экспериментальной группой 248, т.е. с группой с изменённым шрифтом, по всем событиям.\n",
    "- Сформулируем нулевую гипотезу: \"Различий между объединенной контрольной группой 246 + 247 и экспериментальной группой 248 в разрезе событий, нет\".  \n",
    "- Альтернативная гипотеза: \"Существет различие между объединенной контрольной группой 246 + 247 и экспериментальной группой 248 в разрезе событий\".  \n",
    "- Уровень статистической значимости примем равным 0,05."
   ]
  },
  {
   "cell_type": "code",
   "execution_count": 38,
   "metadata": {},
   "outputs": [
    {
     "name": "stdout",
     "output_type": "stream",
     "text": [
      "2358 1181 4995 2535\n",
      "Событие: PaymentScreenSuccessful\n",
      "p-value:  0.611\n",
      "Не удалось отвергнуть нулевую гипотезу\n",
      "\n",
      "2504 1230 4995 2535\n",
      "Событие: CartScreenAppear\n",
      "p-value:  0.187\n",
      "Не удалось отвергнуть нулевую гипотезу\n",
      "\n",
      "3062 1531 4995 2535\n",
      "Событие: OffersScreenAppear\n",
      "p-value:  0.446\n",
      "Не удалось отвергнуть нулевую гипотезу\n",
      "\n",
      "4926 2493 4995 2535\n",
      "Событие: MainScreenAppear\n",
      "p-value:  0.349\n",
      "Не удалось отвергнуть нулевую гипотезу\n",
      "\n"
     ]
    }
   ],
   "source": [
    "for event in df_funnel['events'].unique():\n",
    "    stat_func(logs[logs['group_id'] != 248], logs[logs['group_id'] == 248], event, 0.05)"
   ]
  },
  {
   "cell_type": "markdown",
   "metadata": {},
   "source": [
    "Согласно проведённым тестам мы обнаружили, что при текущем уровне значимости в 0.05, статистически значимого различия между объединенной контрольной группой 246 + 247 и экспериментальной группой 248 нет. Подтверждение гипотезы даёт основания считать, что эксперимент с изменённым шрифтом в мобильном приложении не влияет на конверсию."
   ]
  },
  {
   "cell_type": "markdown",
   "metadata": {},
   "source": [
    "### Общий итог"
   ]
  },
  {
   "cell_type": "markdown",
   "metadata": {},
   "source": [
    "На этапе чтения данных выяснили, что:\n",
    "- файл с данными содержит 244126 записей и 4 столбца;\n",
    "- пропусков обнаружено не было.\n",
    "\n",
    "Для дальнейшей работы мы изменили названия колонок, добавили колонки с временной меткой и датой, а также удалили колонку-донор с сырыми временными метками.  \n",
    "В ходе изучения и проверки данных, нами были обнаружены и удалены 413 дубликатов.  \n",
    "Также выяснили, что число уникальных событий равняется 5, а именно:\n",
    "- посещение главной страницы приложения;\n",
    "- посещение страницы с товаром;\n",
    "- посещение страницы с корзиной;\n",
    "- посещение страницы оплаты;\n",
    "- посещение страницы с инструкцией. \n",
    " \n",
    "Из дальнейшего анализа страницу с инструкцией удалили т.к. её существование никак не влияет воронку событий.\n",
    "Также выяснили, что число уникальных пользователей составляет 7534, среднее количество событий на одного пользователя составляет - 32.\n",
    "Временной диапазон лога составляет период от 2019-07-25 до 2019-08-07. Т.к. мы выяснили, события до 1 августа 2019 - неполные, то данные за этот период нам пришлось удалить.  \n",
    "У нас три уникальных группы, на которые были поделены все пользователи: две группы под номерами 246 и 247 - контрольные и 248 - экспериментальная.  \n",
    "Доли удалённых событий и уникальных пользователей составили соответственно: 1,16% и 0,23%.\n",
    "Мы обнаружили, что наибольшее количество посетителей теряется на этапе перехода с главной страницы на страницу с товаром(38%), а наименьшее при переходе на страницу оплаты(5%). Доля пользователей, прошедших все этапы воронки продаж составляет 47.7%.\n",
    "Для того чтобы выяснить как изменение шрифтов влияет на конверсию нам было необходимо провести анализ A/A/B-теста, в котором необходимо сравнить совокупности пользователей в разрезе групп и событий. Но перед этим мы провели предварительный анализ A/A-теста двух контрольных групп, который не выявил различий между данными группами. Это свидетельствует, что дальнейшие результаты A/A/B-теста можно считать достоверными. Анализ результатов теста основывался на статистической значимости различий между двумя контрольными группами и одной экспериментальной.  \n",
    "Были проведено 12 статистических анализов A/A/B-теста по каждой из трех групп в разрезе по четырём событиям:\n",
    "- 4 анализа 246 и 248 групп;\n",
    "- 4 анализа 247 и 248 групп;\n",
    "- 4 анализа 246 + 247 и 248 групп.\n",
    " \n",
    "Результаты всех тестов не подтвердили статистически значимых различий между контрольными и экспериментальной группами. Поэтому можно с уверенностью сказать, что изменение шрифтов в приложении не повлияло на конверсию пользователей.\n"
   ]
  }
 ],
 "metadata": {
  "ExecuteTimeLog": [
   {
    "duration": 1319,
    "start_time": "2023-12-26T21:17:05.340Z"
   },
   {
    "duration": 531,
    "start_time": "2023-12-26T21:17:06.661Z"
   },
   {
    "duration": 34,
    "start_time": "2023-12-26T21:17:07.193Z"
   },
   {
    "duration": 7,
    "start_time": "2023-12-26T21:17:07.229Z"
   },
   {
    "duration": 146,
    "start_time": "2023-12-26T21:17:07.238Z"
   },
   {
    "duration": 79,
    "start_time": "2023-12-26T21:17:07.386Z"
   },
   {
    "duration": 118,
    "start_time": "2023-12-26T21:17:07.467Z"
   },
   {
    "duration": 37,
    "start_time": "2023-12-26T21:17:07.587Z"
   },
   {
    "duration": 7,
    "start_time": "2023-12-26T21:17:07.626Z"
   },
   {
    "duration": 3,
    "start_time": "2023-12-26T21:17:07.637Z"
   },
   {
    "duration": 14,
    "start_time": "2023-12-26T21:17:07.641Z"
   },
   {
    "duration": 142,
    "start_time": "2023-12-26T21:17:07.657Z"
   },
   {
    "duration": 0,
    "start_time": "2023-12-26T21:17:07.800Z"
   },
   {
    "duration": 0,
    "start_time": "2023-12-26T21:17:07.802Z"
   },
   {
    "duration": 0,
    "start_time": "2023-12-26T21:17:07.803Z"
   },
   {
    "duration": 0,
    "start_time": "2023-12-26T21:17:07.803Z"
   },
   {
    "duration": 0,
    "start_time": "2023-12-26T21:17:07.815Z"
   },
   {
    "duration": 0,
    "start_time": "2023-12-26T21:17:07.815Z"
   },
   {
    "duration": 0,
    "start_time": "2023-12-26T21:17:07.816Z"
   },
   {
    "duration": 0,
    "start_time": "2023-12-26T21:17:07.817Z"
   },
   {
    "duration": 0,
    "start_time": "2023-12-26T21:17:07.818Z"
   },
   {
    "duration": 0,
    "start_time": "2023-12-26T21:17:07.819Z"
   },
   {
    "duration": 0,
    "start_time": "2023-12-26T21:17:07.820Z"
   },
   {
    "duration": 0,
    "start_time": "2023-12-26T21:17:07.822Z"
   },
   {
    "duration": 0,
    "start_time": "2023-12-26T21:17:07.823Z"
   },
   {
    "duration": 0,
    "start_time": "2023-12-26T21:17:07.824Z"
   },
   {
    "duration": 0,
    "start_time": "2023-12-26T21:17:07.825Z"
   },
   {
    "duration": 0,
    "start_time": "2023-12-26T21:17:07.826Z"
   },
   {
    "duration": 0,
    "start_time": "2023-12-26T21:17:07.827Z"
   },
   {
    "duration": 0,
    "start_time": "2023-12-26T21:17:07.828Z"
   },
   {
    "duration": 0,
    "start_time": "2023-12-26T21:17:07.829Z"
   },
   {
    "duration": 0,
    "start_time": "2023-12-26T21:17:07.830Z"
   },
   {
    "duration": 33,
    "start_time": "2023-12-26T21:21:51.700Z"
   },
   {
    "duration": 33,
    "start_time": "2023-12-26T21:22:05.362Z"
   },
   {
    "duration": 33,
    "start_time": "2023-12-26T21:22:43.160Z"
   },
   {
    "duration": 35,
    "start_time": "2023-12-26T21:22:52.627Z"
   },
   {
    "duration": 34,
    "start_time": "2023-12-26T21:23:06.500Z"
   },
   {
    "duration": 5,
    "start_time": "2023-12-26T21:23:10.315Z"
   },
   {
    "duration": 78,
    "start_time": "2023-12-26T21:23:47.542Z"
   },
   {
    "duration": 32,
    "start_time": "2023-12-26T21:23:55.547Z"
   },
   {
    "duration": 26,
    "start_time": "2023-12-26T21:24:01.936Z"
   },
   {
    "duration": 2,
    "start_time": "2023-12-26T21:24:11.259Z"
   },
   {
    "duration": 81,
    "start_time": "2023-12-26T21:24:19.996Z"
   },
   {
    "duration": 6,
    "start_time": "2023-12-26T21:24:23.463Z"
   },
   {
    "duration": 26,
    "start_time": "2023-12-26T21:24:47.278Z"
   },
   {
    "duration": 73,
    "start_time": "2023-12-26T21:25:42.743Z"
   },
   {
    "duration": 24,
    "start_time": "2023-12-26T21:25:54.758Z"
   },
   {
    "duration": 25,
    "start_time": "2023-12-26T21:26:08.347Z"
   },
   {
    "duration": 25,
    "start_time": "2023-12-26T21:26:12.256Z"
   },
   {
    "duration": 25,
    "start_time": "2023-12-26T21:26:41.598Z"
   },
   {
    "duration": 3,
    "start_time": "2023-12-26T21:30:06.854Z"
   },
   {
    "duration": 3,
    "start_time": "2023-12-26T21:30:13.996Z"
   },
   {
    "duration": 183,
    "start_time": "2023-12-26T21:30:14.000Z"
   },
   {
    "duration": 32,
    "start_time": "2023-12-26T21:30:14.184Z"
   },
   {
    "duration": 8,
    "start_time": "2023-12-26T21:30:14.217Z"
   },
   {
    "duration": 139,
    "start_time": "2023-12-26T21:30:14.227Z"
   },
   {
    "duration": 77,
    "start_time": "2023-12-26T21:30:14.368Z"
   },
   {
    "duration": 95,
    "start_time": "2023-12-26T21:30:14.447Z"
   },
   {
    "duration": 32,
    "start_time": "2023-12-26T21:30:14.544Z"
   },
   {
    "duration": 7,
    "start_time": "2023-12-26T21:30:14.579Z"
   },
   {
    "duration": 4,
    "start_time": "2023-12-26T21:30:14.587Z"
   },
   {
    "duration": 5,
    "start_time": "2023-12-26T21:30:14.614Z"
   },
   {
    "duration": 25,
    "start_time": "2023-12-26T21:30:14.621Z"
   },
   {
    "duration": 878,
    "start_time": "2023-12-26T21:30:14.648Z"
   },
   {
    "duration": 28,
    "start_time": "2023-12-26T21:30:15.528Z"
   },
   {
    "duration": 9,
    "start_time": "2023-12-26T21:30:15.558Z"
   },
   {
    "duration": 15,
    "start_time": "2023-12-26T21:30:15.569Z"
   },
   {
    "duration": 644,
    "start_time": "2023-12-26T21:30:15.586Z"
   },
   {
    "duration": 33,
    "start_time": "2023-12-26T21:30:16.232Z"
   },
   {
    "duration": 49,
    "start_time": "2023-12-26T21:30:16.267Z"
   },
   {
    "duration": 71,
    "start_time": "2023-12-26T21:30:16.317Z"
   },
   {
    "duration": 35,
    "start_time": "2023-12-26T21:30:16.390Z"
   },
   {
    "duration": 56,
    "start_time": "2023-12-26T21:30:16.427Z"
   },
   {
    "duration": 32,
    "start_time": "2023-12-26T21:30:16.485Z"
   },
   {
    "duration": 23,
    "start_time": "2023-12-26T21:30:16.520Z"
   },
   {
    "duration": 40,
    "start_time": "2023-12-26T21:30:16.544Z"
   },
   {
    "duration": 4,
    "start_time": "2023-12-26T21:30:16.586Z"
   },
   {
    "duration": 9,
    "start_time": "2023-12-26T21:30:16.591Z"
   },
   {
    "duration": 74,
    "start_time": "2023-12-26T21:30:16.602Z"
   },
   {
    "duration": 110,
    "start_time": "2023-12-26T21:30:16.677Z"
   },
   {
    "duration": 135,
    "start_time": "2023-12-26T21:30:16.789Z"
   },
   {
    "duration": 119,
    "start_time": "2023-12-26T21:30:16.925Z"
   },
   {
    "duration": 152,
    "start_time": "2023-12-26T21:30:17.046Z"
   },
   {
    "duration": 3,
    "start_time": "2023-12-26T21:30:58.292Z"
   },
   {
    "duration": 197,
    "start_time": "2023-12-26T21:30:58.296Z"
   },
   {
    "duration": 26,
    "start_time": "2023-12-26T21:30:58.495Z"
   },
   {
    "duration": 7,
    "start_time": "2023-12-26T21:30:58.522Z"
   },
   {
    "duration": 137,
    "start_time": "2023-12-26T21:30:58.531Z"
   },
   {
    "duration": 74,
    "start_time": "2023-12-26T21:30:58.669Z"
   },
   {
    "duration": 107,
    "start_time": "2023-12-26T21:30:58.744Z"
   },
   {
    "duration": 34,
    "start_time": "2023-12-26T21:30:58.854Z"
   },
   {
    "duration": 24,
    "start_time": "2023-12-26T21:30:58.891Z"
   },
   {
    "duration": 3,
    "start_time": "2023-12-26T21:30:58.916Z"
   },
   {
    "duration": 16,
    "start_time": "2023-12-26T21:30:58.921Z"
   },
   {
    "duration": 27,
    "start_time": "2023-12-26T21:30:58.938Z"
   },
   {
    "duration": 662,
    "start_time": "2023-12-26T21:30:58.967Z"
   },
   {
    "duration": 23,
    "start_time": "2023-12-26T21:30:59.631Z"
   },
   {
    "duration": 7,
    "start_time": "2023-12-26T21:30:59.655Z"
   },
   {
    "duration": 41,
    "start_time": "2023-12-26T21:30:59.663Z"
   },
   {
    "duration": 677,
    "start_time": "2023-12-26T21:30:59.706Z"
   },
   {
    "duration": 40,
    "start_time": "2023-12-26T21:31:00.384Z"
   },
   {
    "duration": 27,
    "start_time": "2023-12-26T21:31:00.426Z"
   },
   {
    "duration": 83,
    "start_time": "2023-12-26T21:31:00.454Z"
   },
   {
    "duration": 21,
    "start_time": "2023-12-26T21:31:00.539Z"
   },
   {
    "duration": 70,
    "start_time": "2023-12-26T21:31:00.561Z"
   },
   {
    "duration": 16,
    "start_time": "2023-12-26T21:31:00.632Z"
   },
   {
    "duration": 49,
    "start_time": "2023-12-26T21:31:00.651Z"
   },
   {
    "duration": 59,
    "start_time": "2023-12-26T21:31:00.702Z"
   },
   {
    "duration": 6,
    "start_time": "2023-12-26T21:31:00.763Z"
   },
   {
    "duration": 44,
    "start_time": "2023-12-26T21:31:00.770Z"
   },
   {
    "duration": 116,
    "start_time": "2023-12-26T21:31:00.816Z"
   },
   {
    "duration": 125,
    "start_time": "2023-12-26T21:31:00.934Z"
   },
   {
    "duration": 103,
    "start_time": "2023-12-26T21:31:01.060Z"
   },
   {
    "duration": 112,
    "start_time": "2023-12-26T21:31:01.164Z"
   },
   {
    "duration": 144,
    "start_time": "2023-12-26T21:31:01.277Z"
   },
   {
    "duration": 684,
    "start_time": "2023-12-26T21:32:56.381Z"
   },
   {
    "duration": 3,
    "start_time": "2023-12-26T21:33:15.862Z"
   },
   {
    "duration": 167,
    "start_time": "2023-12-26T21:33:15.867Z"
   },
   {
    "duration": 28,
    "start_time": "2023-12-26T21:33:16.036Z"
   },
   {
    "duration": 8,
    "start_time": "2023-12-26T21:33:16.066Z"
   },
   {
    "duration": 154,
    "start_time": "2023-12-26T21:33:16.075Z"
   },
   {
    "duration": 62,
    "start_time": "2023-12-26T21:33:16.231Z"
   },
   {
    "duration": 108,
    "start_time": "2023-12-26T21:33:16.295Z"
   },
   {
    "duration": 36,
    "start_time": "2023-12-26T21:33:16.405Z"
   },
   {
    "duration": 7,
    "start_time": "2023-12-26T21:33:16.444Z"
   },
   {
    "duration": 12,
    "start_time": "2023-12-26T21:33:16.453Z"
   },
   {
    "duration": 6,
    "start_time": "2023-12-26T21:33:16.467Z"
   },
   {
    "duration": 50,
    "start_time": "2023-12-26T21:33:16.475Z"
   },
   {
    "duration": 675,
    "start_time": "2023-12-26T21:33:16.527Z"
   },
   {
    "duration": 31,
    "start_time": "2023-12-26T21:33:17.203Z"
   },
   {
    "duration": 7,
    "start_time": "2023-12-26T21:33:17.236Z"
   },
   {
    "duration": 4,
    "start_time": "2023-12-26T21:33:17.245Z"
   },
   {
    "duration": 625,
    "start_time": "2023-12-26T21:33:17.250Z"
   },
   {
    "duration": 41,
    "start_time": "2023-12-26T21:33:17.877Z"
   },
   {
    "duration": 28,
    "start_time": "2023-12-26T21:33:17.919Z"
   },
   {
    "duration": 66,
    "start_time": "2023-12-26T21:33:17.949Z"
   },
   {
    "duration": 24,
    "start_time": "2023-12-26T21:33:18.017Z"
   },
   {
    "duration": 56,
    "start_time": "2023-12-26T21:33:18.042Z"
   },
   {
    "duration": 28,
    "start_time": "2023-12-26T21:33:18.099Z"
   },
   {
    "duration": 4,
    "start_time": "2023-12-26T21:33:18.130Z"
   },
   {
    "duration": 35,
    "start_time": "2023-12-26T21:33:18.135Z"
   },
   {
    "duration": 5,
    "start_time": "2023-12-26T21:33:18.172Z"
   },
   {
    "duration": 38,
    "start_time": "2023-12-26T21:33:18.178Z"
   },
   {
    "duration": 61,
    "start_time": "2023-12-26T21:33:18.218Z"
   },
   {
    "duration": 118,
    "start_time": "2023-12-26T21:33:18.281Z"
   },
   {
    "duration": 114,
    "start_time": "2023-12-26T21:33:18.401Z"
   },
   {
    "duration": 118,
    "start_time": "2023-12-26T21:33:18.516Z"
   },
   {
    "duration": 135,
    "start_time": "2023-12-26T21:33:18.636Z"
   },
   {
    "duration": 1065,
    "start_time": "2023-12-26T21:47:39.149Z"
   },
   {
    "duration": 172,
    "start_time": "2023-12-26T21:47:40.216Z"
   },
   {
    "duration": 29,
    "start_time": "2023-12-26T21:47:40.390Z"
   },
   {
    "duration": 7,
    "start_time": "2023-12-26T21:47:40.421Z"
   },
   {
    "duration": 141,
    "start_time": "2023-12-26T21:47:40.429Z"
   },
   {
    "duration": 80,
    "start_time": "2023-12-26T21:47:40.572Z"
   },
   {
    "duration": 104,
    "start_time": "2023-12-26T21:47:40.654Z"
   },
   {
    "duration": 30,
    "start_time": "2023-12-26T21:47:40.760Z"
   },
   {
    "duration": 7,
    "start_time": "2023-12-26T21:47:40.791Z"
   },
   {
    "duration": 3,
    "start_time": "2023-12-26T21:47:40.814Z"
   },
   {
    "duration": 6,
    "start_time": "2023-12-26T21:47:40.819Z"
   },
   {
    "duration": 28,
    "start_time": "2023-12-26T21:47:40.827Z"
   },
   {
    "duration": 711,
    "start_time": "2023-12-26T21:47:40.856Z"
   },
   {
    "duration": 25,
    "start_time": "2023-12-26T21:47:41.568Z"
   },
   {
    "duration": 19,
    "start_time": "2023-12-26T21:47:41.595Z"
   },
   {
    "duration": 4,
    "start_time": "2023-12-26T21:47:41.616Z"
   },
   {
    "duration": 587,
    "start_time": "2023-12-26T21:47:41.621Z"
   },
   {
    "duration": 40,
    "start_time": "2023-12-26T21:47:42.214Z"
   },
   {
    "duration": 28,
    "start_time": "2023-12-26T21:47:42.256Z"
   },
   {
    "duration": 78,
    "start_time": "2023-12-26T21:47:42.285Z"
   },
   {
    "duration": 22,
    "start_time": "2023-12-26T21:47:42.364Z"
   },
   {
    "duration": 14,
    "start_time": "2023-12-26T21:47:42.388Z"
   },
   {
    "duration": 9,
    "start_time": "2023-12-26T21:47:42.414Z"
   },
   {
    "duration": 39,
    "start_time": "2023-12-26T21:47:42.424Z"
   },
   {
    "duration": 4,
    "start_time": "2023-12-26T21:47:42.464Z"
   },
   {
    "duration": 18,
    "start_time": "2023-12-26T21:47:42.469Z"
   },
   {
    "duration": 65,
    "start_time": "2023-12-26T21:47:42.489Z"
   },
   {
    "duration": 93,
    "start_time": "2023-12-26T21:47:42.556Z"
   },
   {
    "duration": 115,
    "start_time": "2023-12-26T21:47:42.650Z"
   },
   {
    "duration": 105,
    "start_time": "2023-12-26T21:47:42.767Z"
   },
   {
    "duration": 134,
    "start_time": "2023-12-26T21:47:42.874Z"
   },
   {
    "duration": 3,
    "start_time": "2023-12-26T21:49:18.755Z"
   },
   {
    "duration": 177,
    "start_time": "2023-12-26T21:49:18.760Z"
   },
   {
    "duration": 27,
    "start_time": "2023-12-26T21:49:18.938Z"
   },
   {
    "duration": 7,
    "start_time": "2023-12-26T21:49:18.967Z"
   },
   {
    "duration": 141,
    "start_time": "2023-12-26T21:49:18.975Z"
   },
   {
    "duration": 62,
    "start_time": "2023-12-26T21:49:19.118Z"
   },
   {
    "duration": 107,
    "start_time": "2023-12-26T21:49:19.182Z"
   },
   {
    "duration": 40,
    "start_time": "2023-12-26T21:49:19.290Z"
   },
   {
    "duration": 6,
    "start_time": "2023-12-26T21:49:19.332Z"
   },
   {
    "duration": 7,
    "start_time": "2023-12-26T21:49:19.340Z"
   },
   {
    "duration": 17,
    "start_time": "2023-12-26T21:49:19.348Z"
   },
   {
    "duration": 32,
    "start_time": "2023-12-26T21:49:19.366Z"
   },
   {
    "duration": 661,
    "start_time": "2023-12-26T21:49:19.400Z"
   },
   {
    "duration": 23,
    "start_time": "2023-12-26T21:49:20.062Z"
   },
   {
    "duration": 6,
    "start_time": "2023-12-26T21:49:20.087Z"
   },
   {
    "duration": 21,
    "start_time": "2023-12-26T21:49:20.094Z"
   },
   {
    "duration": 672,
    "start_time": "2023-12-26T21:49:20.117Z"
   },
   {
    "duration": 36,
    "start_time": "2023-12-26T21:49:20.791Z"
   },
   {
    "duration": 29,
    "start_time": "2023-12-26T21:49:20.828Z"
   },
   {
    "duration": 70,
    "start_time": "2023-12-26T21:49:20.859Z"
   },
   {
    "duration": 22,
    "start_time": "2023-12-26T21:49:20.931Z"
   },
   {
    "duration": 14,
    "start_time": "2023-12-26T21:49:20.954Z"
   },
   {
    "duration": 7,
    "start_time": "2023-12-26T21:49:20.969Z"
   },
   {
    "duration": 48,
    "start_time": "2023-12-26T21:49:20.978Z"
   },
   {
    "duration": 3,
    "start_time": "2023-12-26T21:49:21.028Z"
   },
   {
    "duration": 8,
    "start_time": "2023-12-26T21:49:21.032Z"
   },
   {
    "duration": 74,
    "start_time": "2023-12-26T21:49:21.041Z"
   },
   {
    "duration": 98,
    "start_time": "2023-12-26T21:49:21.117Z"
   },
   {
    "duration": 98,
    "start_time": "2023-12-26T21:49:21.216Z"
   },
   {
    "duration": 103,
    "start_time": "2023-12-26T21:49:21.316Z"
   },
   {
    "duration": 130,
    "start_time": "2023-12-26T21:49:21.421Z"
   },
   {
    "duration": 1117,
    "start_time": "2023-12-26T23:24:32.137Z"
   },
   {
    "duration": 177,
    "start_time": "2023-12-26T23:24:33.256Z"
   },
   {
    "duration": 36,
    "start_time": "2023-12-26T23:24:33.435Z"
   },
   {
    "duration": 8,
    "start_time": "2023-12-26T23:24:33.472Z"
   },
   {
    "duration": 150,
    "start_time": "2023-12-26T23:24:33.482Z"
   },
   {
    "duration": 80,
    "start_time": "2023-12-26T23:24:33.634Z"
   },
   {
    "duration": 114,
    "start_time": "2023-12-26T23:24:33.716Z"
   },
   {
    "duration": 37,
    "start_time": "2023-12-26T23:24:33.831Z"
   },
   {
    "duration": 6,
    "start_time": "2023-12-26T23:24:33.870Z"
   },
   {
    "duration": 3,
    "start_time": "2023-12-26T23:24:33.877Z"
   },
   {
    "duration": 16,
    "start_time": "2023-12-26T23:24:33.881Z"
   },
   {
    "duration": 25,
    "start_time": "2023-12-26T23:24:33.899Z"
   },
   {
    "duration": 742,
    "start_time": "2023-12-26T23:24:33.926Z"
   },
   {
    "duration": 24,
    "start_time": "2023-12-26T23:24:34.670Z"
   },
   {
    "duration": 7,
    "start_time": "2023-12-26T23:24:34.696Z"
   },
   {
    "duration": 4,
    "start_time": "2023-12-26T23:24:34.705Z"
   },
   {
    "duration": 577,
    "start_time": "2023-12-26T23:24:34.711Z"
   },
   {
    "duration": 30,
    "start_time": "2023-12-26T23:24:35.290Z"
   },
   {
    "duration": 27,
    "start_time": "2023-12-26T23:24:35.321Z"
   },
   {
    "duration": 62,
    "start_time": "2023-12-26T23:24:35.349Z"
   },
   {
    "duration": 23,
    "start_time": "2023-12-26T23:24:35.412Z"
   },
   {
    "duration": 35,
    "start_time": "2023-12-26T23:24:35.436Z"
   },
   {
    "duration": 49,
    "start_time": "2023-12-26T23:24:35.472Z"
   },
   {
    "duration": 44,
    "start_time": "2023-12-26T23:24:35.523Z"
   },
   {
    "duration": 4,
    "start_time": "2023-12-26T23:24:35.568Z"
   },
   {
    "duration": 16,
    "start_time": "2023-12-26T23:24:35.573Z"
   },
   {
    "duration": 95,
    "start_time": "2023-12-26T23:24:35.591Z"
   },
   {
    "duration": 103,
    "start_time": "2023-12-26T23:24:35.687Z"
   },
   {
    "duration": 115,
    "start_time": "2023-12-26T23:24:35.791Z"
   },
   {
    "duration": 120,
    "start_time": "2023-12-26T23:24:35.907Z"
   },
   {
    "duration": 146,
    "start_time": "2023-12-26T23:24:36.028Z"
   },
   {
    "duration": 10,
    "start_time": "2023-12-26T23:28:32.564Z"
   },
   {
    "duration": 98,
    "start_time": "2023-12-26T23:28:34.821Z"
   },
   {
    "duration": 93,
    "start_time": "2023-12-26T23:28:40.412Z"
   },
   {
    "duration": 96,
    "start_time": "2023-12-26T23:28:44.990Z"
   },
   {
    "duration": 121,
    "start_time": "2023-12-26T23:28:49.421Z"
   },
   {
    "duration": 51,
    "start_time": "2023-12-27T08:35:37.787Z"
   },
   {
    "duration": 1429,
    "start_time": "2023-12-27T08:35:44.730Z"
   },
   {
    "duration": 517,
    "start_time": "2023-12-27T08:35:46.161Z"
   },
   {
    "duration": 32,
    "start_time": "2023-12-27T08:35:46.680Z"
   },
   {
    "duration": 7,
    "start_time": "2023-12-27T08:35:46.714Z"
   },
   {
    "duration": 152,
    "start_time": "2023-12-27T08:35:46.722Z"
   },
   {
    "duration": 77,
    "start_time": "2023-12-27T08:35:46.876Z"
   },
   {
    "duration": 114,
    "start_time": "2023-12-27T08:35:46.955Z"
   },
   {
    "duration": 34,
    "start_time": "2023-12-27T08:35:47.071Z"
   },
   {
    "duration": 8,
    "start_time": "2023-12-27T08:35:47.121Z"
   },
   {
    "duration": 15,
    "start_time": "2023-12-27T08:35:47.133Z"
   },
   {
    "duration": 39,
    "start_time": "2023-12-27T08:35:47.150Z"
   },
   {
    "duration": 38,
    "start_time": "2023-12-27T08:35:47.191Z"
   },
   {
    "duration": 794,
    "start_time": "2023-12-27T08:35:47.231Z"
   },
   {
    "duration": 23,
    "start_time": "2023-12-27T08:35:48.027Z"
   },
   {
    "duration": 6,
    "start_time": "2023-12-27T08:35:48.052Z"
   },
   {
    "duration": 23,
    "start_time": "2023-12-27T08:35:48.060Z"
   },
   {
    "duration": 644,
    "start_time": "2023-12-27T08:35:48.085Z"
   },
   {
    "duration": 36,
    "start_time": "2023-12-27T08:35:48.731Z"
   },
   {
    "duration": 31,
    "start_time": "2023-12-27T08:35:48.769Z"
   },
   {
    "duration": 62,
    "start_time": "2023-12-27T08:35:48.823Z"
   },
   {
    "duration": 38,
    "start_time": "2023-12-27T08:35:48.887Z"
   },
   {
    "duration": 67,
    "start_time": "2023-12-27T08:35:48.927Z"
   },
   {
    "duration": 26,
    "start_time": "2023-12-27T08:35:48.996Z"
   },
   {
    "duration": 4,
    "start_time": "2023-12-27T08:35:49.024Z"
   },
   {
    "duration": 37,
    "start_time": "2023-12-27T08:35:49.029Z"
   },
   {
    "duration": 4,
    "start_time": "2023-12-27T08:35:49.067Z"
   },
   {
    "duration": 8,
    "start_time": "2023-12-27T08:35:49.073Z"
   },
   {
    "duration": 90,
    "start_time": "2023-12-27T08:35:49.083Z"
   },
   {
    "duration": 112,
    "start_time": "2023-12-27T08:35:49.175Z"
   },
   {
    "duration": 117,
    "start_time": "2023-12-27T08:35:49.288Z"
   },
   {
    "duration": 118,
    "start_time": "2023-12-27T08:35:49.407Z"
   },
   {
    "duration": 143,
    "start_time": "2023-12-27T08:35:49.526Z"
   },
   {
    "duration": 15,
    "start_time": "2023-12-27T08:36:47.575Z"
   },
   {
    "duration": 22,
    "start_time": "2023-12-27T08:36:56.022Z"
   },
   {
    "duration": 63,
    "start_time": "2023-12-27T08:37:11.357Z"
   },
   {
    "duration": 58,
    "start_time": "2023-12-27T08:37:26.654Z"
   },
   {
    "duration": 1223,
    "start_time": "2023-12-27T08:37:57.526Z"
   },
   {
    "duration": 184,
    "start_time": "2023-12-27T08:37:58.751Z"
   },
   {
    "duration": 34,
    "start_time": "2023-12-27T08:37:58.936Z"
   },
   {
    "duration": 9,
    "start_time": "2023-12-27T08:37:58.972Z"
   },
   {
    "duration": 183,
    "start_time": "2023-12-27T08:37:58.983Z"
   },
   {
    "duration": 75,
    "start_time": "2023-12-27T08:37:59.167Z"
   },
   {
    "duration": 112,
    "start_time": "2023-12-27T08:37:59.244Z"
   },
   {
    "duration": 33,
    "start_time": "2023-12-27T08:37:59.358Z"
   },
   {
    "duration": 8,
    "start_time": "2023-12-27T08:37:59.393Z"
   },
   {
    "duration": 3,
    "start_time": "2023-12-27T08:37:59.424Z"
   },
   {
    "duration": 8,
    "start_time": "2023-12-27T08:37:59.429Z"
   },
   {
    "duration": 26,
    "start_time": "2023-12-27T08:37:59.438Z"
   },
   {
    "duration": 803,
    "start_time": "2023-12-27T08:37:59.466Z"
   },
   {
    "duration": 32,
    "start_time": "2023-12-27T08:38:00.271Z"
   },
   {
    "duration": 93,
    "start_time": "2023-12-27T08:38:00.304Z"
   },
   {
    "duration": 96,
    "start_time": "2023-12-27T08:38:00.399Z"
   },
   {
    "duration": 719,
    "start_time": "2023-12-27T08:38:00.497Z"
   },
   {
    "duration": 35,
    "start_time": "2023-12-27T08:38:01.218Z"
   },
   {
    "duration": 30,
    "start_time": "2023-12-27T08:38:01.255Z"
   },
   {
    "duration": 104,
    "start_time": "2023-12-27T08:38:01.287Z"
   },
   {
    "duration": 25,
    "start_time": "2023-12-27T08:38:01.393Z"
   },
   {
    "duration": 67,
    "start_time": "2023-12-27T08:38:01.420Z"
   },
   {
    "duration": 15,
    "start_time": "2023-12-27T08:38:01.489Z"
   },
   {
    "duration": 88,
    "start_time": "2023-12-27T08:38:01.506Z"
   },
   {
    "duration": 95,
    "start_time": "2023-12-27T08:38:01.596Z"
   },
   {
    "duration": 219,
    "start_time": "2023-12-27T08:38:01.692Z"
   },
   {
    "duration": 246,
    "start_time": "2023-12-27T08:38:01.913Z"
   },
   {
    "duration": 169,
    "start_time": "2023-12-27T08:38:02.162Z"
   },
   {
    "duration": 372,
    "start_time": "2023-12-27T08:38:02.333Z"
   },
   {
    "duration": 181,
    "start_time": "2023-12-27T08:38:02.706Z"
   },
   {
    "duration": 538,
    "start_time": "2023-12-27T08:38:02.889Z"
   },
   {
    "duration": 147,
    "start_time": "2023-12-27T08:38:03.429Z"
   },
   {
    "duration": 58,
    "start_time": "2023-12-27T08:38:49.672Z"
   },
   {
    "duration": 14,
    "start_time": "2023-12-27T08:38:55.574Z"
   },
   {
    "duration": 55,
    "start_time": "2023-12-27T08:44:07.226Z"
   },
   {
    "duration": 264,
    "start_time": "2023-12-27T08:46:01.545Z"
   },
   {
    "duration": 11,
    "start_time": "2023-12-27T08:49:20.109Z"
   },
   {
    "duration": 9,
    "start_time": "2023-12-27T08:49:24.895Z"
   },
   {
    "duration": 10,
    "start_time": "2023-12-27T08:51:12.366Z"
   },
   {
    "duration": 10,
    "start_time": "2023-12-27T08:51:19.150Z"
   },
   {
    "duration": 10,
    "start_time": "2023-12-27T08:51:27.362Z"
   },
   {
    "duration": 10,
    "start_time": "2023-12-27T08:52:39.151Z"
   },
   {
    "duration": 71,
    "start_time": "2023-12-27T09:03:47.518Z"
   },
   {
    "duration": 27,
    "start_time": "2023-12-27T09:16:18.720Z"
   },
   {
    "duration": 29,
    "start_time": "2023-12-27T09:16:25.567Z"
   },
   {
    "duration": 119,
    "start_time": "2023-12-27T09:16:29.329Z"
   },
   {
    "duration": 28,
    "start_time": "2023-12-27T09:18:20.325Z"
   },
   {
    "duration": 28,
    "start_time": "2023-12-27T09:18:27.278Z"
   },
   {
    "duration": 31,
    "start_time": "2023-12-27T09:19:17.073Z"
   },
   {
    "duration": 16,
    "start_time": "2023-12-27T09:19:42.690Z"
   },
   {
    "duration": 31,
    "start_time": "2023-12-27T09:20:13.204Z"
   },
   {
    "duration": 17,
    "start_time": "2023-12-27T09:20:15.463Z"
   },
   {
    "duration": 35,
    "start_time": "2023-12-27T09:20:37.483Z"
   },
   {
    "duration": 238,
    "start_time": "2023-12-27T09:20:40.065Z"
   },
   {
    "duration": 152,
    "start_time": "2023-12-27T09:21:23.421Z"
   },
   {
    "duration": 144,
    "start_time": "2023-12-27T09:21:47.591Z"
   },
   {
    "duration": 149,
    "start_time": "2023-12-27T09:22:06.638Z"
   },
   {
    "duration": 161,
    "start_time": "2023-12-27T09:22:17.502Z"
   },
   {
    "duration": 1156,
    "start_time": "2023-12-27T09:55:52.285Z"
   },
   {
    "duration": 181,
    "start_time": "2023-12-27T09:55:53.443Z"
   },
   {
    "duration": 30,
    "start_time": "2023-12-27T09:55:53.626Z"
   },
   {
    "duration": 8,
    "start_time": "2023-12-27T09:55:53.658Z"
   },
   {
    "duration": 155,
    "start_time": "2023-12-27T09:55:53.668Z"
   },
   {
    "duration": 71,
    "start_time": "2023-12-27T09:55:53.825Z"
   },
   {
    "duration": 110,
    "start_time": "2023-12-27T09:55:53.898Z"
   },
   {
    "duration": 37,
    "start_time": "2023-12-27T09:55:54.010Z"
   },
   {
    "duration": 105,
    "start_time": "2023-12-27T09:55:54.048Z"
   },
   {
    "duration": 58,
    "start_time": "2023-12-27T09:55:54.156Z"
   },
   {
    "duration": 16,
    "start_time": "2023-12-27T09:55:54.216Z"
   },
   {
    "duration": 29,
    "start_time": "2023-12-27T09:55:54.233Z"
   },
   {
    "duration": 72,
    "start_time": "2023-12-27T09:55:54.263Z"
   },
   {
    "duration": 769,
    "start_time": "2023-12-27T09:55:54.337Z"
   },
   {
    "duration": 32,
    "start_time": "2023-12-27T09:55:55.107Z"
   },
   {
    "duration": 51,
    "start_time": "2023-12-27T09:55:55.140Z"
   },
   {
    "duration": 40,
    "start_time": "2023-12-27T09:55:55.193Z"
   },
   {
    "duration": 617,
    "start_time": "2023-12-27T09:55:55.234Z"
   },
   {
    "duration": 33,
    "start_time": "2023-12-27T09:55:55.853Z"
   },
   {
    "duration": 40,
    "start_time": "2023-12-27T09:55:55.888Z"
   },
   {
    "duration": 233,
    "start_time": "2023-12-27T09:55:55.929Z"
   },
   {
    "duration": 65,
    "start_time": "2023-12-27T09:55:56.163Z"
   },
   {
    "duration": 27,
    "start_time": "2023-12-27T09:55:56.229Z"
   },
   {
    "duration": 78,
    "start_time": "2023-12-27T09:55:56.257Z"
   },
   {
    "duration": 14,
    "start_time": "2023-12-27T09:55:56.337Z"
   },
   {
    "duration": 192,
    "start_time": "2023-12-27T09:55:56.353Z"
   },
   {
    "duration": 5,
    "start_time": "2023-12-27T09:55:56.546Z"
   },
   {
    "duration": 91,
    "start_time": "2023-12-27T09:55:56.554Z"
   },
   {
    "duration": 4,
    "start_time": "2023-12-27T09:55:56.646Z"
   },
   {
    "duration": 23,
    "start_time": "2023-12-27T09:55:56.652Z"
   },
   {
    "duration": 176,
    "start_time": "2023-12-27T09:55:56.677Z"
   },
   {
    "duration": 204,
    "start_time": "2023-12-27T09:55:56.855Z"
   },
   {
    "duration": 182,
    "start_time": "2023-12-27T09:55:57.060Z"
   },
   {
    "duration": 116,
    "start_time": "2023-12-27T09:55:57.244Z"
   },
   {
    "duration": 165,
    "start_time": "2023-12-27T09:55:57.363Z"
   },
   {
    "duration": 4,
    "start_time": "2023-12-27T10:08:58.401Z"
   },
   {
    "duration": 295,
    "start_time": "2023-12-27T10:11:22.880Z"
   },
   {
    "duration": 32,
    "start_time": "2023-12-27T10:16:47.479Z"
   },
   {
    "duration": 29,
    "start_time": "2023-12-27T10:17:47.202Z"
   },
   {
    "duration": 30,
    "start_time": "2023-12-27T10:19:16.891Z"
   },
   {
    "duration": 1191,
    "start_time": "2023-12-27T10:21:00.362Z"
   },
   {
    "duration": 178,
    "start_time": "2023-12-27T10:21:01.555Z"
   },
   {
    "duration": 31,
    "start_time": "2023-12-27T10:21:01.734Z"
   },
   {
    "duration": 177,
    "start_time": "2023-12-27T10:21:01.767Z"
   },
   {
    "duration": 291,
    "start_time": "2023-12-27T10:21:01.946Z"
   },
   {
    "duration": 69,
    "start_time": "2023-12-27T10:21:02.239Z"
   },
   {
    "duration": 114,
    "start_time": "2023-12-27T10:21:02.310Z"
   },
   {
    "duration": 90,
    "start_time": "2023-12-27T10:21:02.426Z"
   },
   {
    "duration": 40,
    "start_time": "2023-12-27T10:21:02.518Z"
   },
   {
    "duration": 32,
    "start_time": "2023-12-27T10:21:02.561Z"
   },
   {
    "duration": 59,
    "start_time": "2023-12-27T10:21:02.594Z"
   },
   {
    "duration": 219,
    "start_time": "2023-12-27T10:21:02.655Z"
   },
   {
    "duration": 0,
    "start_time": "2023-12-27T10:21:02.876Z"
   },
   {
    "duration": 0,
    "start_time": "2023-12-27T10:21:02.877Z"
   },
   {
    "duration": 0,
    "start_time": "2023-12-27T10:21:02.878Z"
   },
   {
    "duration": 0,
    "start_time": "2023-12-27T10:21:02.879Z"
   },
   {
    "duration": 0,
    "start_time": "2023-12-27T10:21:02.879Z"
   },
   {
    "duration": 0,
    "start_time": "2023-12-27T10:21:02.881Z"
   },
   {
    "duration": 0,
    "start_time": "2023-12-27T10:21:02.881Z"
   },
   {
    "duration": 0,
    "start_time": "2023-12-27T10:21:02.882Z"
   },
   {
    "duration": 0,
    "start_time": "2023-12-27T10:21:02.883Z"
   },
   {
    "duration": 0,
    "start_time": "2023-12-27T10:21:02.884Z"
   },
   {
    "duration": 0,
    "start_time": "2023-12-27T10:21:02.885Z"
   },
   {
    "duration": 0,
    "start_time": "2023-12-27T10:21:02.886Z"
   },
   {
    "duration": 0,
    "start_time": "2023-12-27T10:21:02.887Z"
   },
   {
    "duration": 0,
    "start_time": "2023-12-27T10:21:02.888Z"
   },
   {
    "duration": 0,
    "start_time": "2023-12-27T10:21:02.888Z"
   },
   {
    "duration": 0,
    "start_time": "2023-12-27T10:21:02.889Z"
   },
   {
    "duration": 0,
    "start_time": "2023-12-27T10:21:02.890Z"
   },
   {
    "duration": 0,
    "start_time": "2023-12-27T10:21:02.891Z"
   },
   {
    "duration": 0,
    "start_time": "2023-12-27T10:21:02.892Z"
   },
   {
    "duration": 0,
    "start_time": "2023-12-27T10:21:02.923Z"
   },
   {
    "duration": 0,
    "start_time": "2023-12-27T10:21:02.923Z"
   },
   {
    "duration": 0,
    "start_time": "2023-12-27T10:21:02.924Z"
   },
   {
    "duration": 0,
    "start_time": "2023-12-27T10:21:02.925Z"
   },
   {
    "duration": 0,
    "start_time": "2023-12-27T10:21:02.926Z"
   },
   {
    "duration": 0,
    "start_time": "2023-12-27T10:21:02.927Z"
   },
   {
    "duration": 29,
    "start_time": "2023-12-27T10:22:36.394Z"
   },
   {
    "duration": 31,
    "start_time": "2023-12-27T10:22:45.726Z"
   },
   {
    "duration": 116,
    "start_time": "2023-12-27T10:23:46.766Z"
   },
   {
    "duration": 118,
    "start_time": "2023-12-27T10:25:18.636Z"
   },
   {
    "duration": 4,
    "start_time": "2023-12-27T10:26:22.667Z"
   },
   {
    "duration": 184,
    "start_time": "2023-12-27T10:26:22.673Z"
   },
   {
    "duration": 26,
    "start_time": "2023-12-27T10:26:22.858Z"
   },
   {
    "duration": 7,
    "start_time": "2023-12-27T10:26:22.886Z"
   },
   {
    "duration": 151,
    "start_time": "2023-12-27T10:26:22.894Z"
   },
   {
    "duration": 77,
    "start_time": "2023-12-27T10:26:23.047Z"
   },
   {
    "duration": 103,
    "start_time": "2023-12-27T10:26:23.125Z"
   },
   {
    "duration": 31,
    "start_time": "2023-12-27T10:26:23.230Z"
   },
   {
    "duration": 41,
    "start_time": "2023-12-27T10:26:23.263Z"
   },
   {
    "duration": 130,
    "start_time": "2023-12-27T10:26:23.306Z"
   },
   {
    "duration": 5,
    "start_time": "2023-12-27T10:26:23.437Z"
   },
   {
    "duration": 35,
    "start_time": "2023-12-27T10:26:23.443Z"
   },
   {
    "duration": 72,
    "start_time": "2023-12-27T10:26:23.480Z"
   },
   {
    "duration": 747,
    "start_time": "2023-12-27T10:26:23.554Z"
   },
   {
    "duration": 31,
    "start_time": "2023-12-27T10:26:24.303Z"
   },
   {
    "duration": 26,
    "start_time": "2023-12-27T10:26:24.336Z"
   },
   {
    "duration": 12,
    "start_time": "2023-12-27T10:26:24.363Z"
   },
   {
    "duration": 713,
    "start_time": "2023-12-27T10:26:24.377Z"
   },
   {
    "duration": 40,
    "start_time": "2023-12-27T10:26:25.091Z"
   },
   {
    "duration": 29,
    "start_time": "2023-12-27T10:26:25.132Z"
   },
   {
    "duration": 179,
    "start_time": "2023-12-27T10:26:25.162Z"
   },
   {
    "duration": 62,
    "start_time": "2023-12-27T10:26:25.343Z"
   },
   {
    "duration": 90,
    "start_time": "2023-12-27T10:26:25.407Z"
   },
   {
    "duration": 124,
    "start_time": "2023-12-27T10:26:25.500Z"
   },
   {
    "duration": 26,
    "start_time": "2023-12-27T10:26:25.625Z"
   },
   {
    "duration": 174,
    "start_time": "2023-12-27T10:26:25.652Z"
   },
   {
    "duration": 4,
    "start_time": "2023-12-27T10:26:25.827Z"
   },
   {
    "duration": 114,
    "start_time": "2023-12-27T10:26:25.832Z"
   },
   {
    "duration": 3,
    "start_time": "2023-12-27T10:26:25.949Z"
   },
   {
    "duration": 22,
    "start_time": "2023-12-27T10:26:25.953Z"
   },
   {
    "duration": 107,
    "start_time": "2023-12-27T10:26:25.977Z"
   },
   {
    "duration": 108,
    "start_time": "2023-12-27T10:26:26.085Z"
   },
   {
    "duration": 114,
    "start_time": "2023-12-27T10:26:26.195Z"
   },
   {
    "duration": 115,
    "start_time": "2023-12-27T10:26:26.311Z"
   },
   {
    "duration": 178,
    "start_time": "2023-12-27T10:26:26.428Z"
   },
   {
    "duration": 131,
    "start_time": "2023-12-27T10:27:23.855Z"
   },
   {
    "duration": 118,
    "start_time": "2023-12-27T10:27:30.058Z"
   },
   {
    "duration": 136,
    "start_time": "2023-12-27T10:46:45.219Z"
   },
   {
    "duration": 120,
    "start_time": "2023-12-27T10:46:55.804Z"
   },
   {
    "duration": 130,
    "start_time": "2023-12-27T10:47:23.060Z"
   },
   {
    "duration": 118,
    "start_time": "2023-12-27T10:47:36.603Z"
   },
   {
    "duration": 120,
    "start_time": "2023-12-27T10:47:59.727Z"
   },
   {
    "duration": 127,
    "start_time": "2023-12-27T10:48:09.126Z"
   },
   {
    "duration": 218,
    "start_time": "2023-12-27T10:48:20.277Z"
   },
   {
    "duration": 120,
    "start_time": "2023-12-27T10:48:33.010Z"
   },
   {
    "duration": 117,
    "start_time": "2023-12-27T10:48:42.138Z"
   },
   {
    "duration": 125,
    "start_time": "2023-12-27T10:48:58.435Z"
   },
   {
    "duration": 12,
    "start_time": "2023-12-27T12:26:28.632Z"
   },
   {
    "duration": 13,
    "start_time": "2023-12-27T12:26:35.882Z"
   },
   {
    "duration": 42,
    "start_time": "2023-12-27T12:26:54.299Z"
   },
   {
    "duration": 9,
    "start_time": "2023-12-27T12:27:36.592Z"
   },
   {
    "duration": 297,
    "start_time": "2023-12-27T12:27:43.906Z"
   },
   {
    "duration": 1185,
    "start_time": "2023-12-27T12:30:42.252Z"
   },
   {
    "duration": 178,
    "start_time": "2023-12-27T12:30:43.439Z"
   },
   {
    "duration": 34,
    "start_time": "2023-12-27T12:30:43.618Z"
   },
   {
    "duration": 8,
    "start_time": "2023-12-27T12:30:43.654Z"
   },
   {
    "duration": 151,
    "start_time": "2023-12-27T12:30:43.664Z"
   },
   {
    "duration": 69,
    "start_time": "2023-12-27T12:30:43.821Z"
   },
   {
    "duration": 111,
    "start_time": "2023-12-27T12:30:43.892Z"
   },
   {
    "duration": 36,
    "start_time": "2023-12-27T12:30:44.005Z"
   },
   {
    "duration": 31,
    "start_time": "2023-12-27T12:30:44.043Z"
   },
   {
    "duration": 150,
    "start_time": "2023-12-27T12:30:44.077Z"
   },
   {
    "duration": 137,
    "start_time": "2023-12-27T12:30:44.229Z"
   },
   {
    "duration": 6,
    "start_time": "2023-12-27T12:30:44.368Z"
   },
   {
    "duration": 39,
    "start_time": "2023-12-27T12:30:44.376Z"
   },
   {
    "duration": 70,
    "start_time": "2023-12-27T12:30:44.416Z"
   },
   {
    "duration": 781,
    "start_time": "2023-12-27T12:30:44.487Z"
   },
   {
    "duration": 306,
    "start_time": "2023-12-27T12:30:45.270Z"
   },
   {
    "duration": 130,
    "start_time": "2023-12-27T12:30:45.577Z"
   },
   {
    "duration": 0,
    "start_time": "2023-12-27T12:30:45.709Z"
   },
   {
    "duration": 0,
    "start_time": "2023-12-27T12:30:45.710Z"
   },
   {
    "duration": 0,
    "start_time": "2023-12-27T12:30:45.722Z"
   },
   {
    "duration": 0,
    "start_time": "2023-12-27T12:30:45.724Z"
   },
   {
    "duration": 0,
    "start_time": "2023-12-27T12:30:45.725Z"
   },
   {
    "duration": 0,
    "start_time": "2023-12-27T12:30:45.727Z"
   },
   {
    "duration": 0,
    "start_time": "2023-12-27T12:30:45.728Z"
   },
   {
    "duration": 1,
    "start_time": "2023-12-27T12:30:45.729Z"
   },
   {
    "duration": 0,
    "start_time": "2023-12-27T12:30:45.731Z"
   },
   {
    "duration": 0,
    "start_time": "2023-12-27T12:30:45.732Z"
   },
   {
    "duration": 0,
    "start_time": "2023-12-27T12:30:45.734Z"
   },
   {
    "duration": 0,
    "start_time": "2023-12-27T12:30:45.736Z"
   },
   {
    "duration": 0,
    "start_time": "2023-12-27T12:30:45.737Z"
   },
   {
    "duration": 0,
    "start_time": "2023-12-27T12:30:45.738Z"
   },
   {
    "duration": 0,
    "start_time": "2023-12-27T12:30:45.740Z"
   },
   {
    "duration": 0,
    "start_time": "2023-12-27T12:30:45.741Z"
   },
   {
    "duration": 0,
    "start_time": "2023-12-27T12:30:45.742Z"
   },
   {
    "duration": 0,
    "start_time": "2023-12-27T12:30:45.743Z"
   },
   {
    "duration": 0,
    "start_time": "2023-12-27T12:30:45.744Z"
   },
   {
    "duration": 0,
    "start_time": "2023-12-27T12:30:45.745Z"
   },
   {
    "duration": 67,
    "start_time": "2023-12-27T12:33:12.563Z"
   },
   {
    "duration": 907,
    "start_time": "2023-12-27T12:33:32.617Z"
   },
   {
    "duration": 228,
    "start_time": "2023-12-27T12:34:02.423Z"
   },
   {
    "duration": 284,
    "start_time": "2023-12-27T12:34:21.199Z"
   },
   {
    "duration": 288,
    "start_time": "2023-12-27T12:41:21.989Z"
   },
   {
    "duration": 347,
    "start_time": "2023-12-27T12:41:58.963Z"
   },
   {
    "duration": 277,
    "start_time": "2023-12-27T12:42:07.507Z"
   },
   {
    "duration": 294,
    "start_time": "2023-12-27T12:42:18.310Z"
   },
   {
    "duration": 417,
    "start_time": "2023-12-27T12:43:01.275Z"
   },
   {
    "duration": 858,
    "start_time": "2023-12-27T12:43:09.154Z"
   },
   {
    "duration": 738,
    "start_time": "2023-12-27T12:43:51.697Z"
   },
   {
    "duration": 924,
    "start_time": "2023-12-27T12:44:10.030Z"
   },
   {
    "duration": 781,
    "start_time": "2023-12-27T12:44:14.483Z"
   },
   {
    "duration": 840,
    "start_time": "2023-12-27T12:44:23.669Z"
   },
   {
    "duration": 1237,
    "start_time": "2023-12-27T12:44:56.294Z"
   },
   {
    "duration": 174,
    "start_time": "2023-12-27T12:44:57.533Z"
   },
   {
    "duration": 35,
    "start_time": "2023-12-27T12:44:57.709Z"
   },
   {
    "duration": 7,
    "start_time": "2023-12-27T12:44:57.746Z"
   },
   {
    "duration": 150,
    "start_time": "2023-12-27T12:44:57.755Z"
   },
   {
    "duration": 90,
    "start_time": "2023-12-27T12:44:57.907Z"
   },
   {
    "duration": 136,
    "start_time": "2023-12-27T12:44:57.999Z"
   },
   {
    "duration": 29,
    "start_time": "2023-12-27T12:44:58.137Z"
   },
   {
    "duration": 78,
    "start_time": "2023-12-27T12:44:58.168Z"
   },
   {
    "duration": 139,
    "start_time": "2023-12-27T12:44:58.248Z"
   },
   {
    "duration": 134,
    "start_time": "2023-12-27T12:44:58.389Z"
   },
   {
    "duration": 5,
    "start_time": "2023-12-27T12:44:58.524Z"
   },
   {
    "duration": 50,
    "start_time": "2023-12-27T12:44:58.530Z"
   },
   {
    "duration": 82,
    "start_time": "2023-12-27T12:44:58.583Z"
   },
   {
    "duration": 716,
    "start_time": "2023-12-27T12:44:58.666Z"
   },
   {
    "duration": 843,
    "start_time": "2023-12-27T12:44:59.383Z"
   },
   {
    "duration": 147,
    "start_time": "2023-12-27T12:45:00.228Z"
   },
   {
    "duration": 0,
    "start_time": "2023-12-27T12:45:00.377Z"
   },
   {
    "duration": 0,
    "start_time": "2023-12-27T12:45:00.378Z"
   },
   {
    "duration": 0,
    "start_time": "2023-12-27T12:45:00.379Z"
   },
   {
    "duration": 0,
    "start_time": "2023-12-27T12:45:00.380Z"
   },
   {
    "duration": 0,
    "start_time": "2023-12-27T12:45:00.381Z"
   },
   {
    "duration": 0,
    "start_time": "2023-12-27T12:45:00.383Z"
   },
   {
    "duration": 0,
    "start_time": "2023-12-27T12:45:00.384Z"
   },
   {
    "duration": 0,
    "start_time": "2023-12-27T12:45:00.385Z"
   },
   {
    "duration": 0,
    "start_time": "2023-12-27T12:45:00.386Z"
   },
   {
    "duration": 0,
    "start_time": "2023-12-27T12:45:00.387Z"
   },
   {
    "duration": 0,
    "start_time": "2023-12-27T12:45:00.388Z"
   },
   {
    "duration": 0,
    "start_time": "2023-12-27T12:45:00.389Z"
   },
   {
    "duration": 0,
    "start_time": "2023-12-27T12:45:00.390Z"
   },
   {
    "duration": 0,
    "start_time": "2023-12-27T12:45:00.391Z"
   },
   {
    "duration": 0,
    "start_time": "2023-12-27T12:45:00.425Z"
   },
   {
    "duration": 0,
    "start_time": "2023-12-27T12:45:00.428Z"
   },
   {
    "duration": 0,
    "start_time": "2023-12-27T12:45:00.430Z"
   },
   {
    "duration": 0,
    "start_time": "2023-12-27T12:45:00.431Z"
   },
   {
    "duration": 0,
    "start_time": "2023-12-27T12:45:00.433Z"
   },
   {
    "duration": 0,
    "start_time": "2023-12-27T12:45:00.434Z"
   },
   {
    "duration": 1218,
    "start_time": "2023-12-27T12:52:52.535Z"
   },
   {
    "duration": 180,
    "start_time": "2023-12-27T12:52:53.755Z"
   },
   {
    "duration": 31,
    "start_time": "2023-12-27T12:52:53.936Z"
   },
   {
    "duration": 7,
    "start_time": "2023-12-27T12:52:53.970Z"
   },
   {
    "duration": 157,
    "start_time": "2023-12-27T12:52:53.979Z"
   },
   {
    "duration": 86,
    "start_time": "2023-12-27T12:52:54.138Z"
   },
   {
    "duration": 108,
    "start_time": "2023-12-27T12:52:54.226Z"
   },
   {
    "duration": 31,
    "start_time": "2023-12-27T12:52:54.335Z"
   },
   {
    "duration": 32,
    "start_time": "2023-12-27T12:52:54.368Z"
   },
   {
    "duration": 136,
    "start_time": "2023-12-27T12:52:54.421Z"
   },
   {
    "duration": 157,
    "start_time": "2023-12-27T12:52:54.559Z"
   },
   {
    "duration": 6,
    "start_time": "2023-12-27T12:52:54.722Z"
   },
   {
    "duration": 44,
    "start_time": "2023-12-27T12:52:54.729Z"
   },
   {
    "duration": 82,
    "start_time": "2023-12-27T12:52:54.775Z"
   },
   {
    "duration": 716,
    "start_time": "2023-12-27T12:52:54.859Z"
   },
   {
    "duration": 2993,
    "start_time": "2023-12-27T12:52:59.872Z"
   },
   {
    "duration": 101,
    "start_time": "2023-12-27T12:53:26.378Z"
   },
   {
    "duration": 11,
    "start_time": "2023-12-27T12:53:49.234Z"
   },
   {
    "duration": 10,
    "start_time": "2023-12-27T12:54:31.019Z"
   },
   {
    "duration": 944,
    "start_time": "2023-12-27T12:55:58.428Z"
   },
   {
    "duration": 706,
    "start_time": "2023-12-27T12:56:25.294Z"
   },
   {
    "duration": 941,
    "start_time": "2023-12-27T12:57:33.553Z"
   },
   {
    "duration": 862,
    "start_time": "2023-12-27T12:57:54.854Z"
   },
   {
    "duration": 800,
    "start_time": "2023-12-27T12:58:27.552Z"
   },
   {
    "duration": 899,
    "start_time": "2023-12-27T12:58:36.390Z"
   },
   {
    "duration": 1495,
    "start_time": "2023-12-27T13:01:56.282Z"
   },
   {
    "duration": 311,
    "start_time": "2023-12-27T13:02:13.632Z"
   },
   {
    "duration": 616,
    "start_time": "2023-12-27T13:02:22.917Z"
   },
   {
    "duration": 850,
    "start_time": "2023-12-27T13:04:19.514Z"
   },
   {
    "duration": 648,
    "start_time": "2023-12-27T13:04:43.885Z"
   },
   {
    "duration": 742,
    "start_time": "2023-12-27T13:05:15.561Z"
   },
   {
    "duration": 281,
    "start_time": "2023-12-27T13:07:36.134Z"
   },
   {
    "duration": 284,
    "start_time": "2023-12-27T13:08:25.670Z"
   },
   {
    "duration": 254,
    "start_time": "2023-12-27T13:08:32.045Z"
   },
   {
    "duration": 268,
    "start_time": "2023-12-27T13:08:35.690Z"
   },
   {
    "duration": 271,
    "start_time": "2023-12-27T13:09:30.565Z"
   },
   {
    "duration": 247,
    "start_time": "2023-12-27T13:09:37.987Z"
   },
   {
    "duration": 248,
    "start_time": "2023-12-27T13:09:44.049Z"
   },
   {
    "duration": 271,
    "start_time": "2023-12-27T13:11:43.177Z"
   },
   {
    "duration": 754,
    "start_time": "2023-12-27T13:25:25.170Z"
   },
   {
    "duration": 684,
    "start_time": "2023-12-27T13:25:44.496Z"
   },
   {
    "duration": 770,
    "start_time": "2023-12-27T13:26:18.843Z"
   },
   {
    "duration": 643,
    "start_time": "2023-12-27T13:28:04.879Z"
   },
   {
    "duration": 34,
    "start_time": "2023-12-27T13:34:36.245Z"
   },
   {
    "duration": 7,
    "start_time": "2023-12-27T13:34:55.727Z"
   },
   {
    "duration": 7,
    "start_time": "2023-12-27T13:35:16.916Z"
   },
   {
    "duration": 29,
    "start_time": "2023-12-27T13:35:16.924Z"
   },
   {
    "duration": 599,
    "start_time": "2023-12-27T13:35:16.954Z"
   },
   {
    "duration": 34,
    "start_time": "2023-12-27T13:35:17.560Z"
   },
   {
    "duration": 36,
    "start_time": "2023-12-27T13:35:17.596Z"
   },
   {
    "duration": 285,
    "start_time": "2023-12-27T13:35:17.634Z"
   },
   {
    "duration": 58,
    "start_time": "2023-12-27T13:35:17.921Z"
   },
   {
    "duration": 22,
    "start_time": "2023-12-27T13:35:17.981Z"
   },
   {
    "duration": 57,
    "start_time": "2023-12-27T13:35:18.023Z"
   },
   {
    "duration": 32,
    "start_time": "2023-12-27T13:35:18.082Z"
   },
   {
    "duration": 287,
    "start_time": "2023-12-27T13:35:18.115Z"
   },
   {
    "duration": 4,
    "start_time": "2023-12-27T13:35:18.403Z"
   },
   {
    "duration": 43,
    "start_time": "2023-12-27T13:35:18.408Z"
   },
   {
    "duration": 4,
    "start_time": "2023-12-27T13:35:18.453Z"
   },
   {
    "duration": 7,
    "start_time": "2023-12-27T13:35:18.458Z"
   },
   {
    "duration": 117,
    "start_time": "2023-12-27T13:35:18.467Z"
   },
   {
    "duration": 137,
    "start_time": "2023-12-27T13:35:18.585Z"
   },
   {
    "duration": 111,
    "start_time": "2023-12-27T13:35:18.724Z"
   },
   {
    "duration": 119,
    "start_time": "2023-12-27T13:35:18.837Z"
   },
   {
    "duration": 169,
    "start_time": "2023-12-27T13:35:18.957Z"
   },
   {
    "duration": 1119,
    "start_time": "2023-12-27T13:36:58.050Z"
   },
   {
    "duration": 178,
    "start_time": "2023-12-27T13:36:59.170Z"
   },
   {
    "duration": 33,
    "start_time": "2023-12-27T13:36:59.350Z"
   },
   {
    "duration": 8,
    "start_time": "2023-12-27T13:36:59.386Z"
   },
   {
    "duration": 160,
    "start_time": "2023-12-27T13:36:59.396Z"
   },
   {
    "duration": 75,
    "start_time": "2023-12-27T13:36:59.557Z"
   },
   {
    "duration": 105,
    "start_time": "2023-12-27T13:36:59.634Z"
   },
   {
    "duration": 29,
    "start_time": "2023-12-27T13:36:59.740Z"
   },
   {
    "duration": 29,
    "start_time": "2023-12-27T13:36:59.771Z"
   },
   {
    "duration": 147,
    "start_time": "2023-12-27T13:36:59.802Z"
   },
   {
    "duration": 125,
    "start_time": "2023-12-27T13:36:59.950Z"
   },
   {
    "duration": 5,
    "start_time": "2023-12-27T13:37:00.076Z"
   },
   {
    "duration": 98,
    "start_time": "2023-12-27T13:37:00.082Z"
   },
   {
    "duration": 123,
    "start_time": "2023-12-27T13:37:00.181Z"
   },
   {
    "duration": 1344,
    "start_time": "2023-12-27T13:37:00.305Z"
   },
   {
    "duration": 726,
    "start_time": "2023-12-27T13:37:01.651Z"
   },
   {
    "duration": 409,
    "start_time": "2023-12-27T13:37:02.379Z"
   },
   {
    "duration": 41,
    "start_time": "2023-12-27T13:37:02.790Z"
   },
   {
    "duration": 5,
    "start_time": "2023-12-27T13:37:02.833Z"
   },
   {
    "duration": 8,
    "start_time": "2023-12-27T13:37:02.840Z"
   },
   {
    "duration": 591,
    "start_time": "2023-12-27T13:37:02.849Z"
   },
   {
    "duration": 33,
    "start_time": "2023-12-27T13:37:03.441Z"
   },
   {
    "duration": 107,
    "start_time": "2023-12-27T13:37:03.475Z"
   },
   {
    "duration": 421,
    "start_time": "2023-12-27T13:37:03.584Z"
   },
   {
    "duration": 68,
    "start_time": "2023-12-27T13:37:04.006Z"
   },
   {
    "duration": 25,
    "start_time": "2023-12-27T13:37:04.076Z"
   },
   {
    "duration": 72,
    "start_time": "2023-12-27T13:37:04.102Z"
   },
   {
    "duration": 14,
    "start_time": "2023-12-27T13:37:04.177Z"
   },
   {
    "duration": 392,
    "start_time": "2023-12-27T13:37:04.192Z"
   },
   {
    "duration": 16,
    "start_time": "2023-12-27T13:37:04.586Z"
   },
   {
    "duration": 130,
    "start_time": "2023-12-27T13:37:04.603Z"
   },
   {
    "duration": 4,
    "start_time": "2023-12-27T13:37:04.735Z"
   },
   {
    "duration": 12,
    "start_time": "2023-12-27T13:37:04.741Z"
   },
   {
    "duration": 89,
    "start_time": "2023-12-27T13:37:04.754Z"
   },
   {
    "duration": 105,
    "start_time": "2023-12-27T13:37:04.845Z"
   },
   {
    "duration": 176,
    "start_time": "2023-12-27T13:37:04.951Z"
   },
   {
    "duration": 114,
    "start_time": "2023-12-27T13:37:05.129Z"
   },
   {
    "duration": 140,
    "start_time": "2023-12-27T13:37:05.244Z"
   },
   {
    "duration": 189,
    "start_time": "2023-12-27T13:40:50.464Z"
   },
   {
    "duration": 86,
    "start_time": "2023-12-27T13:40:55.143Z"
   },
   {
    "duration": 78,
    "start_time": "2023-12-27T13:55:19.184Z"
   },
   {
    "duration": 1177,
    "start_time": "2023-12-27T13:55:47.798Z"
   },
   {
    "duration": 179,
    "start_time": "2023-12-27T13:55:48.976Z"
   },
   {
    "duration": 30,
    "start_time": "2023-12-27T13:55:49.157Z"
   },
   {
    "duration": 7,
    "start_time": "2023-12-27T13:55:49.189Z"
   },
   {
    "duration": 156,
    "start_time": "2023-12-27T13:55:49.197Z"
   },
   {
    "duration": 78,
    "start_time": "2023-12-27T13:55:49.354Z"
   },
   {
    "duration": 119,
    "start_time": "2023-12-27T13:55:49.433Z"
   },
   {
    "duration": 31,
    "start_time": "2023-12-27T13:55:49.553Z"
   },
   {
    "duration": 44,
    "start_time": "2023-12-27T13:55:49.585Z"
   },
   {
    "duration": 136,
    "start_time": "2023-12-27T13:55:49.632Z"
   },
   {
    "duration": 133,
    "start_time": "2023-12-27T13:55:49.770Z"
   },
   {
    "duration": 5,
    "start_time": "2023-12-27T13:55:49.904Z"
   },
   {
    "duration": 45,
    "start_time": "2023-12-27T13:55:49.911Z"
   },
   {
    "duration": 70,
    "start_time": "2023-12-27T13:55:49.958Z"
   },
   {
    "duration": 753,
    "start_time": "2023-12-27T13:55:50.029Z"
   },
   {
    "duration": 740,
    "start_time": "2023-12-27T13:55:50.784Z"
   },
   {
    "duration": 254,
    "start_time": "2023-12-27T13:55:51.525Z"
   },
   {
    "duration": 26,
    "start_time": "2023-12-27T13:55:51.781Z"
   },
   {
    "duration": 18,
    "start_time": "2023-12-27T13:55:51.809Z"
   },
   {
    "duration": 20,
    "start_time": "2023-12-27T13:55:51.828Z"
   },
   {
    "duration": 591,
    "start_time": "2023-12-27T13:55:51.849Z"
   },
   {
    "duration": 32,
    "start_time": "2023-12-27T13:55:52.442Z"
   },
   {
    "duration": 29,
    "start_time": "2023-12-27T13:55:52.476Z"
   },
   {
    "duration": 179,
    "start_time": "2023-12-27T13:55:52.523Z"
   },
   {
    "duration": 59,
    "start_time": "2023-12-27T13:55:52.703Z"
   },
   {
    "duration": 24,
    "start_time": "2023-12-27T13:55:52.764Z"
   },
   {
    "duration": 66,
    "start_time": "2023-12-27T13:55:52.789Z"
   },
   {
    "duration": 15,
    "start_time": "2023-12-27T13:55:52.858Z"
   },
   {
    "duration": 158,
    "start_time": "2023-12-27T13:55:52.874Z"
   },
   {
    "duration": 4,
    "start_time": "2023-12-27T13:55:53.034Z"
   },
   {
    "duration": 97,
    "start_time": "2023-12-27T13:55:53.039Z"
   },
   {
    "duration": 38,
    "start_time": "2023-12-27T13:55:53.138Z"
   },
   {
    "duration": 9,
    "start_time": "2023-12-27T13:55:53.178Z"
   },
   {
    "duration": 80,
    "start_time": "2023-12-27T13:55:53.189Z"
   },
   {
    "duration": 116,
    "start_time": "2023-12-27T13:55:53.271Z"
   },
   {
    "duration": 105,
    "start_time": "2023-12-27T13:55:53.388Z"
   },
   {
    "duration": 106,
    "start_time": "2023-12-27T13:55:53.494Z"
   },
   {
    "duration": 147,
    "start_time": "2023-12-27T13:55:53.602Z"
   },
   {
    "duration": 1116,
    "start_time": "2023-12-27T19:22:11.955Z"
   },
   {
    "duration": 201,
    "start_time": "2023-12-27T19:22:13.073Z"
   },
   {
    "duration": 29,
    "start_time": "2023-12-27T19:22:13.276Z"
   },
   {
    "duration": 63,
    "start_time": "2023-12-27T19:22:13.307Z"
   },
   {
    "duration": 224,
    "start_time": "2023-12-27T19:22:13.371Z"
   },
   {
    "duration": 112,
    "start_time": "2023-12-27T19:22:13.597Z"
   },
   {
    "duration": 206,
    "start_time": "2023-12-27T19:22:13.710Z"
   },
   {
    "duration": 49,
    "start_time": "2023-12-27T19:22:13.918Z"
   },
   {
    "duration": 28,
    "start_time": "2023-12-27T19:22:13.969Z"
   },
   {
    "duration": 144,
    "start_time": "2023-12-27T19:22:14.000Z"
   },
   {
    "duration": 127,
    "start_time": "2023-12-27T19:22:14.145Z"
   },
   {
    "duration": 6,
    "start_time": "2023-12-27T19:22:14.274Z"
   },
   {
    "duration": 25,
    "start_time": "2023-12-27T19:22:14.281Z"
   },
   {
    "duration": 86,
    "start_time": "2023-12-27T19:22:14.307Z"
   },
   {
    "duration": 696,
    "start_time": "2023-12-27T19:22:14.394Z"
   },
   {
    "duration": 682,
    "start_time": "2023-12-27T19:22:15.091Z"
   },
   {
    "duration": 254,
    "start_time": "2023-12-27T19:22:15.776Z"
   },
   {
    "duration": 34,
    "start_time": "2023-12-27T19:22:16.031Z"
   },
   {
    "duration": 6,
    "start_time": "2023-12-27T19:22:16.067Z"
   },
   {
    "duration": 22,
    "start_time": "2023-12-27T19:22:16.075Z"
   },
   {
    "duration": 567,
    "start_time": "2023-12-27T19:22:16.098Z"
   },
   {
    "duration": 30,
    "start_time": "2023-12-27T19:22:16.667Z"
   },
   {
    "duration": 27,
    "start_time": "2023-12-27T19:22:16.699Z"
   },
   {
    "duration": 157,
    "start_time": "2023-12-27T19:22:16.728Z"
   },
   {
    "duration": 53,
    "start_time": "2023-12-27T19:22:16.887Z"
   },
   {
    "duration": 33,
    "start_time": "2023-12-27T19:22:16.942Z"
   },
   {
    "duration": 55,
    "start_time": "2023-12-27T19:22:16.976Z"
   },
   {
    "duration": 14,
    "start_time": "2023-12-27T19:22:17.032Z"
   },
   {
    "duration": 910,
    "start_time": "2023-12-27T19:22:17.047Z"
   },
   {
    "duration": 3,
    "start_time": "2023-12-27T19:22:17.958Z"
   },
   {
    "duration": 38,
    "start_time": "2023-12-27T19:22:17.963Z"
   },
   {
    "duration": 27,
    "start_time": "2023-12-27T19:22:18.003Z"
   },
   {
    "duration": 33,
    "start_time": "2023-12-27T19:22:18.032Z"
   },
   {
    "duration": 76,
    "start_time": "2023-12-27T19:22:18.067Z"
   },
   {
    "duration": 91,
    "start_time": "2023-12-27T19:22:18.145Z"
   },
   {
    "duration": 97,
    "start_time": "2023-12-27T19:22:18.237Z"
   },
   {
    "duration": 111,
    "start_time": "2023-12-27T19:22:18.337Z"
   },
   {
    "duration": 154,
    "start_time": "2023-12-27T19:22:18.450Z"
   }
  ],
  "kernelspec": {
   "display_name": "Python 3 (ipykernel)",
   "language": "python",
   "name": "python3"
  },
  "language_info": {
   "codemirror_mode": {
    "name": "ipython",
    "version": 3
   },
   "file_extension": ".py",
   "mimetype": "text/x-python",
   "name": "python",
   "nbconvert_exporter": "python",
   "pygments_lexer": "ipython3",
   "version": "3.11.7"
  },
  "toc": {
   "base_numbering": 1,
   "nav_menu": {},
   "number_sections": true,
   "sideBar": true,
   "skip_h1_title": true,
   "title_cell": "Table of Contents",
   "title_sidebar": "Contents",
   "toc_cell": false,
   "toc_position": {},
   "toc_section_display": true,
   "toc_window_display": true
  }
 },
 "nbformat": 4,
 "nbformat_minor": 2
}
