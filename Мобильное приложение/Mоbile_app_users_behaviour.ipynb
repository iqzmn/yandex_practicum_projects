{
 "cells": [
  {
   "cell_type": "markdown",
   "metadata": {},
   "source": [
    "## Анализ поведения пользователей в мобильном приложении"
   ]
  },
  {
   "cell_type": "markdown",
   "metadata": {},
   "source": [
    "### Предобработка данных"
   ]
  },
  {
   "cell_type": "code",
   "execution_count": 1,
   "metadata": {},
   "outputs": [],
   "source": [
    "# импорт библиотек\n",
    "import requests\n",
    "import numpy as np\n",
    "import pandas as pd\n",
    "from tqdm import tqdm\n",
    "import matplotlib.pyplot as plt\n",
    "import plotly.graph_objects as go\n",
    "from statsmodels.stats.proportion import proportions_ztest"
   ]
  },
  {
   "cell_type": "code",
   "execution_count": 2,
   "metadata": {},
   "outputs": [],
   "source": [
    "# позволяет выводить данные из ячейки подряд без print() и display()\n",
    "from IPython.core.interactiveshell import InteractiveShell\n",
    "InteractiveShell.ast_node_interactivity = \"all\"\n",
    "\n",
    "# Снимаем ограничение на количество и ширину столбцов\n",
    "pd.set_option('display.max_columns', None)\n",
    "pd.set_option('display.max_colwidth', 0)"
   ]
  },
  {
   "cell_type": "code",
   "execution_count": 3,
   "metadata": {},
   "outputs": [],
   "source": [
    "# чтение данных\n",
    "try:\n",
    "    mobile_dataset = pd.read_csv('/data/mobile_dataset.csv')\n",
    "    mobile_source = pd.read_csv('/data/mobile_sources.csv')\n",
    "except:\n",
    "    mobile_dataset = pd.read_csv('https://code.s3.yandex.net/datasets/mobile_dataset.csv')\n",
    "    mobile_source = pd.read_csv('https://code.s3.yandex.net/datasets/mobile_sources.csv')"
   ]
  },
  {
   "cell_type": "code",
   "execution_count": 4,
   "metadata": {},
   "outputs": [
    {
     "name": "stdout",
     "output_type": "stream",
     "text": [
      "<class 'pandas.core.frame.DataFrame'>\n",
      "RangeIndex: 74197 entries, 0 to 74196\n",
      "Data columns (total 3 columns):\n",
      " #   Column      Non-Null Count  Dtype \n",
      "---  ------      --------------  ----- \n",
      " 0   event.time  74197 non-null  object\n",
      " 1   event.name  74197 non-null  object\n",
      " 2   user.id     74197 non-null  object\n",
      "dtypes: object(3)\n",
      "memory usage: 1.7+ MB\n"
     ]
    },
    {
     "data": {
      "text/html": [
       "<div>\n",
       "<style scoped>\n",
       "    .dataframe tbody tr th:only-of-type {\n",
       "        vertical-align: middle;\n",
       "    }\n",
       "\n",
       "    .dataframe tbody tr th {\n",
       "        vertical-align: top;\n",
       "    }\n",
       "\n",
       "    .dataframe thead th {\n",
       "        text-align: right;\n",
       "    }\n",
       "</style>\n",
       "<table border=\"1\" class=\"dataframe\">\n",
       "  <thead>\n",
       "    <tr style=\"text-align: right;\">\n",
       "      <th></th>\n",
       "      <th>event.time</th>\n",
       "      <th>event.name</th>\n",
       "      <th>user.id</th>\n",
       "    </tr>\n",
       "  </thead>\n",
       "  <tbody>\n",
       "    <tr>\n",
       "      <th>0</th>\n",
       "      <td>2019-10-07 00:00:00.431357</td>\n",
       "      <td>advert_open</td>\n",
       "      <td>020292ab-89bc-4156-9acf-68bc2783f894</td>\n",
       "    </tr>\n",
       "    <tr>\n",
       "      <th>1</th>\n",
       "      <td>2019-10-07 00:00:01.236320</td>\n",
       "      <td>tips_show</td>\n",
       "      <td>020292ab-89bc-4156-9acf-68bc2783f894</td>\n",
       "    </tr>\n",
       "    <tr>\n",
       "      <th>2</th>\n",
       "      <td>2019-10-07 00:00:02.245341</td>\n",
       "      <td>tips_show</td>\n",
       "      <td>cf7eda61-9349-469f-ac27-e5b6f5ec475c</td>\n",
       "    </tr>\n",
       "    <tr>\n",
       "      <th>3</th>\n",
       "      <td>2019-10-07 00:00:07.039334</td>\n",
       "      <td>tips_show</td>\n",
       "      <td>020292ab-89bc-4156-9acf-68bc2783f894</td>\n",
       "    </tr>\n",
       "    <tr>\n",
       "      <th>4</th>\n",
       "      <td>2019-10-07 00:00:56.319813</td>\n",
       "      <td>advert_open</td>\n",
       "      <td>cf7eda61-9349-469f-ac27-e5b6f5ec475c</td>\n",
       "    </tr>\n",
       "  </tbody>\n",
       "</table>\n",
       "</div>"
      ],
      "text/plain": [
       "                   event.time   event.name  \\\n",
       "0  2019-10-07 00:00:00.431357  advert_open   \n",
       "1  2019-10-07 00:00:01.236320  tips_show     \n",
       "2  2019-10-07 00:00:02.245341  tips_show     \n",
       "3  2019-10-07 00:00:07.039334  tips_show     \n",
       "4  2019-10-07 00:00:56.319813  advert_open   \n",
       "\n",
       "                                user.id  \n",
       "0  020292ab-89bc-4156-9acf-68bc2783f894  \n",
       "1  020292ab-89bc-4156-9acf-68bc2783f894  \n",
       "2  cf7eda61-9349-469f-ac27-e5b6f5ec475c  \n",
       "3  020292ab-89bc-4156-9acf-68bc2783f894  \n",
       "4  cf7eda61-9349-469f-ac27-e5b6f5ec475c  "
      ]
     },
     "execution_count": 4,
     "metadata": {},
     "output_type": "execute_result"
    },
    {
     "name": "stdout",
     "output_type": "stream",
     "text": [
      "\n",
      "<class 'pandas.core.frame.DataFrame'>\n",
      "RangeIndex: 4293 entries, 0 to 4292\n",
      "Data columns (total 2 columns):\n",
      " #   Column  Non-Null Count  Dtype \n",
      "---  ------  --------------  ----- \n",
      " 0   userId  4293 non-null   object\n",
      " 1   source  4293 non-null   object\n",
      "dtypes: object(2)\n",
      "memory usage: 67.2+ KB\n"
     ]
    },
    {
     "data": {
      "text/html": [
       "<div>\n",
       "<style scoped>\n",
       "    .dataframe tbody tr th:only-of-type {\n",
       "        vertical-align: middle;\n",
       "    }\n",
       "\n",
       "    .dataframe tbody tr th {\n",
       "        vertical-align: top;\n",
       "    }\n",
       "\n",
       "    .dataframe thead th {\n",
       "        text-align: right;\n",
       "    }\n",
       "</style>\n",
       "<table border=\"1\" class=\"dataframe\">\n",
       "  <thead>\n",
       "    <tr style=\"text-align: right;\">\n",
       "      <th></th>\n",
       "      <th>userId</th>\n",
       "      <th>source</th>\n",
       "    </tr>\n",
       "  </thead>\n",
       "  <tbody>\n",
       "    <tr>\n",
       "      <th>0</th>\n",
       "      <td>020292ab-89bc-4156-9acf-68bc2783f894</td>\n",
       "      <td>other</td>\n",
       "    </tr>\n",
       "    <tr>\n",
       "      <th>1</th>\n",
       "      <td>cf7eda61-9349-469f-ac27-e5b6f5ec475c</td>\n",
       "      <td>yandex</td>\n",
       "    </tr>\n",
       "    <tr>\n",
       "      <th>2</th>\n",
       "      <td>8c356c42-3ba9-4cb6-80b8-3f868d0192c3</td>\n",
       "      <td>yandex</td>\n",
       "    </tr>\n",
       "    <tr>\n",
       "      <th>3</th>\n",
       "      <td>d9b06b47-0f36-419b-bbb0-3533e582a6cb</td>\n",
       "      <td>other</td>\n",
       "    </tr>\n",
       "    <tr>\n",
       "      <th>4</th>\n",
       "      <td>f32e1e2a-3027-4693-b793-b7b3ff274439</td>\n",
       "      <td>google</td>\n",
       "    </tr>\n",
       "  </tbody>\n",
       "</table>\n",
       "</div>"
      ],
      "text/plain": [
       "                                 userId  source\n",
       "0  020292ab-89bc-4156-9acf-68bc2783f894  other \n",
       "1  cf7eda61-9349-469f-ac27-e5b6f5ec475c  yandex\n",
       "2  8c356c42-3ba9-4cb6-80b8-3f868d0192c3  yandex\n",
       "3  d9b06b47-0f36-419b-bbb0-3533e582a6cb  other \n",
       "4  f32e1e2a-3027-4693-b793-b7b3ff274439  google"
      ]
     },
     "execution_count": 4,
     "metadata": {},
     "output_type": "execute_result"
    }
   ],
   "source": [
    "# вывод информации\n",
    "mobile_dataset.info()\n",
    "mobile_dataset.head()\n",
    "print()\n",
    "mobile_source.info()\n",
    "mobile_source.head()"
   ]
  },
  {
   "cell_type": "code",
   "execution_count": 5,
   "metadata": {},
   "outputs": [
    {
     "data": {
      "text/html": [
       "<div>\n",
       "<style scoped>\n",
       "    .dataframe tbody tr th:only-of-type {\n",
       "        vertical-align: middle;\n",
       "    }\n",
       "\n",
       "    .dataframe tbody tr th {\n",
       "        vertical-align: top;\n",
       "    }\n",
       "\n",
       "    .dataframe thead th {\n",
       "        text-align: right;\n",
       "    }\n",
       "</style>\n",
       "<table border=\"1\" class=\"dataframe\">\n",
       "  <thead>\n",
       "    <tr style=\"text-align: right;\">\n",
       "      <th></th>\n",
       "      <th>event_time</th>\n",
       "      <th>event_name</th>\n",
       "      <th>user_id</th>\n",
       "    </tr>\n",
       "  </thead>\n",
       "  <tbody>\n",
       "    <tr>\n",
       "      <th>0</th>\n",
       "      <td>2019-10-07 00:00:00.431357</td>\n",
       "      <td>advert_open</td>\n",
       "      <td>020292ab-89bc-4156-9acf-68bc2783f894</td>\n",
       "    </tr>\n",
       "  </tbody>\n",
       "</table>\n",
       "</div>"
      ],
      "text/plain": [
       "                   event_time   event_name  \\\n",
       "0  2019-10-07 00:00:00.431357  advert_open   \n",
       "\n",
       "                                user_id  \n",
       "0  020292ab-89bc-4156-9acf-68bc2783f894  "
      ]
     },
     "execution_count": 5,
     "metadata": {},
     "output_type": "execute_result"
    },
    {
     "data": {
      "text/html": [
       "<div>\n",
       "<style scoped>\n",
       "    .dataframe tbody tr th:only-of-type {\n",
       "        vertical-align: middle;\n",
       "    }\n",
       "\n",
       "    .dataframe tbody tr th {\n",
       "        vertical-align: top;\n",
       "    }\n",
       "\n",
       "    .dataframe thead th {\n",
       "        text-align: right;\n",
       "    }\n",
       "</style>\n",
       "<table border=\"1\" class=\"dataframe\">\n",
       "  <thead>\n",
       "    <tr style=\"text-align: right;\">\n",
       "      <th></th>\n",
       "      <th>user_id</th>\n",
       "      <th>source</th>\n",
       "    </tr>\n",
       "  </thead>\n",
       "  <tbody>\n",
       "    <tr>\n",
       "      <th>0</th>\n",
       "      <td>020292ab-89bc-4156-9acf-68bc2783f894</td>\n",
       "      <td>other</td>\n",
       "    </tr>\n",
       "  </tbody>\n",
       "</table>\n",
       "</div>"
      ],
      "text/plain": [
       "                                user_id source\n",
       "0  020292ab-89bc-4156-9acf-68bc2783f894  other"
      ]
     },
     "execution_count": 5,
     "metadata": {},
     "output_type": "execute_result"
    }
   ],
   "source": [
    "# изменим имена столбцов\n",
    "mobile_dataset.columns = ['event_time', 'event_name', 'user_id']\n",
    "mobile_source.columns = ['user_id', 'source']\n",
    "\n",
    "mobile_dataset.head(1)\n",
    "mobile_source.head(1)"
   ]
  },
  {
   "cell_type": "code",
   "execution_count": 6,
   "metadata": {},
   "outputs": [
    {
     "name": "stdout",
     "output_type": "stream",
     "text": [
      "<class 'pandas.core.frame.DataFrame'>\n",
      "RangeIndex: 74197 entries, 0 to 74196\n",
      "Data columns (total 3 columns):\n",
      " #   Column      Non-Null Count  Dtype         \n",
      "---  ------      --------------  -----         \n",
      " 0   event_time  74197 non-null  datetime64[ns]\n",
      " 1   event_name  74197 non-null  object        \n",
      " 2   user_id     74197 non-null  object        \n",
      "dtypes: datetime64[ns](1), object(2)\n",
      "memory usage: 1.7+ MB\n"
     ]
    }
   ],
   "source": [
    "# изменим тип данных в столбце 'event_time' на тип datetime\n",
    "mobile_dataset['event_time'] = pd.to_datetime(mobile_dataset['event_time'])\n",
    "mobile_dataset.info()"
   ]
  },
  {
   "cell_type": "code",
   "execution_count": 7,
   "metadata": {
    "scrolled": true
   },
   "outputs": [
    {
     "data": {
      "text/plain": [
       "min    2019-10-07 00:00:00.431357\n",
       "max    2019-11-03 23:58:12.532487\n",
       "Name: event_time, dtype: object"
      ]
     },
     "execution_count": 7,
     "metadata": {},
     "output_type": "execute_result"
    }
   ],
   "source": [
    "# отобразим диапазоны дат\n",
    "mobile_dataset['event_time'].describe().loc[['min', 'max']]"
   ]
  },
  {
   "cell_type": "code",
   "execution_count": 8,
   "metadata": {},
   "outputs": [
    {
     "data": {
      "text/plain": [
       "array(['advert_open', 'tips_show', 'map', 'contacts_show', 'search_4',\n",
       "       'search_5', 'tips_click', 'photos_show', 'search_1', 'search_2',\n",
       "       'search_3', 'favorites_add', 'contacts_call', 'search_6',\n",
       "       'search_7', 'show_contacts'], dtype=object)"
      ]
     },
     "execution_count": 8,
     "metadata": {},
     "output_type": "execute_result"
    }
   ],
   "source": [
    "# выведем уникальные значения event_name\n",
    "mobile_dataset['event_name'].unique()"
   ]
  },
  {
   "cell_type": "markdown",
   "metadata": {},
   "source": [
    "по условию задания значения 'contacts_show' и 'show_contacts' равнозначны"
   ]
  },
  {
   "cell_type": "code",
   "execution_count": 9,
   "metadata": {},
   "outputs": [
    {
     "data": {
      "text/plain": [
       "array(['advert_open', 'tips_show', 'map', 'contacts_show', 'search_4',\n",
       "       'search_5', 'tips_click', 'photos_show', 'search_1', 'search_2',\n",
       "       'search_3', 'favorites_add', 'contacts_call', 'search_6',\n",
       "       'search_7'], dtype=object)"
      ]
     },
     "execution_count": 9,
     "metadata": {},
     "output_type": "execute_result"
    }
   ],
   "source": [
    "# поменяем значение show_contacts на contacts_show в параметре event_name\n",
    "mobile_dataset.loc[mobile_dataset['event_name'] == 'show_contacts', 'event_name'] = 'contacts_show'\n",
    "mobile_dataset['event_name'].unique()"
   ]
  },
  {
   "cell_type": "code",
   "execution_count": 10,
   "metadata": {},
   "outputs": [
    {
     "data": {
      "text/plain": [
       "array(['other', 'yandex', 'google'], dtype=object)"
      ]
     },
     "execution_count": 10,
     "metadata": {},
     "output_type": "execute_result"
    }
   ],
   "source": [
    "# проверим source на неявные дубликаты\n",
    "mobile_source['source'].unique()"
   ]
  },
  {
   "cell_type": "markdown",
   "metadata": {},
   "source": [
    "имеем три типа источников: 'other', 'yandex', 'google'"
   ]
  },
  {
   "cell_type": "code",
   "execution_count": 11,
   "metadata": {},
   "outputs": [
    {
     "data": {
      "text/plain": [
       "event_time    0\n",
       "event_name    0\n",
       "user_id       0\n",
       "dtype: int64"
      ]
     },
     "execution_count": 11,
     "metadata": {},
     "output_type": "execute_result"
    }
   ],
   "source": [
    "# проверим данные на наличие пропусков в mobile_dataset\n",
    "mobile_dataset.isna().sum()"
   ]
  },
  {
   "cell_type": "code",
   "execution_count": 12,
   "metadata": {},
   "outputs": [
    {
     "data": {
      "text/plain": [
       "user_id    0\n",
       "source     0\n",
       "dtype: int64"
      ]
     },
     "execution_count": 12,
     "metadata": {},
     "output_type": "execute_result"
    }
   ],
   "source": [
    "# проверим данные на наличие пропусков в mobile_source\n",
    "mobile_source.isna().sum()"
   ]
  },
  {
   "cell_type": "code",
   "execution_count": 13,
   "metadata": {},
   "outputs": [
    {
     "name": "stdout",
     "output_type": "stream",
     "text": [
      "Количество обнаруженных дубликатов: 0\n"
     ]
    }
   ],
   "source": [
    "# проверим mobile_dataset на дубликаты\n",
    "print(\"Количество обнаруженных дубликатов:\", mobile_dataset.duplicated().sum())"
   ]
  },
  {
   "cell_type": "code",
   "execution_count": 14,
   "metadata": {},
   "outputs": [
    {
     "name": "stdout",
     "output_type": "stream",
     "text": [
      "Количество обнаруженных дубликатов: 0\n"
     ]
    }
   ],
   "source": [
    "# проверим mobile_source на дубликаты\n",
    "print(\"Количество обнаруженных дубликатов:\", mobile_source.duplicated().sum())"
   ]
  },
  {
   "cell_type": "code",
   "execution_count": 15,
   "metadata": {},
   "outputs": [
    {
     "name": "stdout",
     "output_type": "stream",
     "text": [
      "Уникальных значений user_id в mobile_dataset:  4293\n"
     ]
    }
   ],
   "source": [
    "# количество уникальных 'user_id' в mobile_dataset столько же сколько строк в mobile_source\n",
    "print('Уникальных значений user_id в mobile_dataset: ', mobile_dataset['user_id'].nunique())"
   ]
  },
  {
   "cell_type": "code",
   "execution_count": 16,
   "metadata": {},
   "outputs": [
    {
     "name": "stdout",
     "output_type": "stream",
     "text": [
      "<class 'pandas.core.frame.DataFrame'>\n",
      "RangeIndex: 74197 entries, 0 to 74196\n",
      "Data columns (total 4 columns):\n",
      " #   Column      Non-Null Count  Dtype         \n",
      "---  ------      --------------  -----         \n",
      " 0   event_time  74197 non-null  datetime64[ns]\n",
      " 1   event_name  74197 non-null  object        \n",
      " 2   user_id     74197 non-null  object        \n",
      " 3   source      74197 non-null  object        \n",
      "dtypes: datetime64[ns](1), object(3)\n",
      "memory usage: 2.3+ MB\n"
     ]
    }
   ],
   "source": [
    "# соединим таблицы методом merge()\n",
    "mobile_df = mobile_dataset.merge(mobile_source, on='user_id')\n",
    "mobile_df.info()"
   ]
  },
  {
   "cell_type": "markdown",
   "metadata": {},
   "source": [
    "**Вывод**  \n",
    "В результате предобработки данных мы:\n",
    "- прочитали данные из двух csv-файлов;\n",
    "- выяснили, что датафрейм mobile_dataset имеет три параметра: event_time, event_name, user_id и 74197 наблюдений;\n",
    "- выяснили, что датафрейм mobile_source имеет два параметра: userId, source и 4293 наблюдения;\n",
    "- переименовали названия столбцов в обоих датафреймах;\n",
    "- преобразовали данные в колонке event_time из типа object в тип datetime;\n",
    "- обнаружили, что временной диапазон данных от 2019-10-07 до 2019-11-03\n",
    "- поменяли значения параметра event_name show_contacts на contacts_show;\n",
    "- выявили, что пропусков и дубликатов в датафреймах не обнаружено;\n",
    "- неявных дубликатов не обнаружено;\n",
    "- уникальных значений user_id:  4293\n",
    "- объединили датафреймы mobile_dataset и mobile_source в один."
   ]
  },
  {
   "cell_type": "markdown",
   "metadata": {},
   "source": [
    "### Исследовательский анализ данных"
   ]
  },
  {
   "cell_type": "markdown",
   "metadata": {},
   "source": [
    "#### Выделение сессий"
   ]
  },
  {
   "cell_type": "markdown",
   "metadata": {},
   "source": [
    "Согласно стандарту [OWASP(Open Web Application Security Project](https://cheatsheetseries.owasp.org/cheatsheets/Session_Management_Cheat_Sheet.html#:~:text=Both%20the%20idle,and%208%20hours). рекомендуется устанавливать тайм-аут между сессиями равным 2-5 мин для приложений требующих повышенной безопасности и 15-30 минут для обычных приложений. Т.к. наше мобильное приложение \"Ненужные вещи\" не требует высокого уровня безопасности, то выберем продолжительность бездействия пользователей в 15 мин. Однако, какой таймаут был выбран для данного приложения разумнее это выяснить у разработчиков."
   ]
  },
  {
   "cell_type": "code",
   "execution_count": 17,
   "metadata": {},
   "outputs": [
    {
     "data": {
      "text/html": [
       "<div>\n",
       "<style scoped>\n",
       "    .dataframe tbody tr th:only-of-type {\n",
       "        vertical-align: middle;\n",
       "    }\n",
       "\n",
       "    .dataframe tbody tr th {\n",
       "        vertical-align: top;\n",
       "    }\n",
       "\n",
       "    .dataframe thead th {\n",
       "        text-align: right;\n",
       "    }\n",
       "</style>\n",
       "<table border=\"1\" class=\"dataframe\">\n",
       "  <thead>\n",
       "    <tr style=\"text-align: right;\">\n",
       "      <th></th>\n",
       "      <th>event_time</th>\n",
       "      <th>event_name</th>\n",
       "      <th>user_id</th>\n",
       "      <th>source</th>\n",
       "      <th>session_id</th>\n",
       "    </tr>\n",
       "  </thead>\n",
       "  <tbody>\n",
       "    <tr>\n",
       "      <th>0</th>\n",
       "      <td>2019-10-07 13:39:45.989359</td>\n",
       "      <td>tips_show</td>\n",
       "      <td>0001b1d5-b74a-4cbf-aeb0-7df5947bf349</td>\n",
       "      <td>other</td>\n",
       "      <td>1</td>\n",
       "    </tr>\n",
       "    <tr>\n",
       "      <th>1</th>\n",
       "      <td>2019-10-07 13:40:31.052909</td>\n",
       "      <td>tips_show</td>\n",
       "      <td>0001b1d5-b74a-4cbf-aeb0-7df5947bf349</td>\n",
       "      <td>other</td>\n",
       "      <td>1</td>\n",
       "    </tr>\n",
       "    <tr>\n",
       "      <th>2</th>\n",
       "      <td>2019-10-07 13:41:05.722489</td>\n",
       "      <td>tips_show</td>\n",
       "      <td>0001b1d5-b74a-4cbf-aeb0-7df5947bf349</td>\n",
       "      <td>other</td>\n",
       "      <td>1</td>\n",
       "    </tr>\n",
       "    <tr>\n",
       "      <th>3</th>\n",
       "      <td>2019-10-07 13:43:20.735461</td>\n",
       "      <td>tips_show</td>\n",
       "      <td>0001b1d5-b74a-4cbf-aeb0-7df5947bf349</td>\n",
       "      <td>other</td>\n",
       "      <td>1</td>\n",
       "    </tr>\n",
       "    <tr>\n",
       "      <th>4</th>\n",
       "      <td>2019-10-07 13:45:30.917502</td>\n",
       "      <td>tips_show</td>\n",
       "      <td>0001b1d5-b74a-4cbf-aeb0-7df5947bf349</td>\n",
       "      <td>other</td>\n",
       "      <td>1</td>\n",
       "    </tr>\n",
       "    <tr>\n",
       "      <th>...</th>\n",
       "      <td>...</td>\n",
       "      <td>...</td>\n",
       "      <td>...</td>\n",
       "      <td>...</td>\n",
       "      <td>...</td>\n",
       "    </tr>\n",
       "    <tr>\n",
       "      <th>74192</th>\n",
       "      <td>2019-11-03 15:51:23.959572</td>\n",
       "      <td>tips_show</td>\n",
       "      <td>fffb9e79-b927-4dbb-9b48-7fd09b23a62b</td>\n",
       "      <td>google</td>\n",
       "      <td>11536</td>\n",
       "    </tr>\n",
       "    <tr>\n",
       "      <th>74193</th>\n",
       "      <td>2019-11-03 15:51:57.899997</td>\n",
       "      <td>contacts_show</td>\n",
       "      <td>fffb9e79-b927-4dbb-9b48-7fd09b23a62b</td>\n",
       "      <td>google</td>\n",
       "      <td>11536</td>\n",
       "    </tr>\n",
       "    <tr>\n",
       "      <th>74194</th>\n",
       "      <td>2019-11-03 16:07:40.932077</td>\n",
       "      <td>tips_show</td>\n",
       "      <td>fffb9e79-b927-4dbb-9b48-7fd09b23a62b</td>\n",
       "      <td>google</td>\n",
       "      <td>11537</td>\n",
       "    </tr>\n",
       "    <tr>\n",
       "      <th>74195</th>\n",
       "      <td>2019-11-03 16:08:18.202734</td>\n",
       "      <td>tips_show</td>\n",
       "      <td>fffb9e79-b927-4dbb-9b48-7fd09b23a62b</td>\n",
       "      <td>google</td>\n",
       "      <td>11537</td>\n",
       "    </tr>\n",
       "    <tr>\n",
       "      <th>74196</th>\n",
       "      <td>2019-11-03 16:08:25.388712</td>\n",
       "      <td>tips_show</td>\n",
       "      <td>fffb9e79-b927-4dbb-9b48-7fd09b23a62b</td>\n",
       "      <td>google</td>\n",
       "      <td>11537</td>\n",
       "    </tr>\n",
       "  </tbody>\n",
       "</table>\n",
       "<p>74197 rows × 5 columns</p>\n",
       "</div>"
      ],
      "text/plain": [
       "                      event_time     event_name  \\\n",
       "0     2019-10-07 13:39:45.989359  tips_show       \n",
       "1     2019-10-07 13:40:31.052909  tips_show       \n",
       "2     2019-10-07 13:41:05.722489  tips_show       \n",
       "3     2019-10-07 13:43:20.735461  tips_show       \n",
       "4     2019-10-07 13:45:30.917502  tips_show       \n",
       "...                          ...        ...       \n",
       "74192 2019-11-03 15:51:23.959572  tips_show       \n",
       "74193 2019-11-03 15:51:57.899997  contacts_show   \n",
       "74194 2019-11-03 16:07:40.932077  tips_show       \n",
       "74195 2019-11-03 16:08:18.202734  tips_show       \n",
       "74196 2019-11-03 16:08:25.388712  tips_show       \n",
       "\n",
       "                                    user_id  source  session_id  \n",
       "0      0001b1d5-b74a-4cbf-aeb0-7df5947bf349  other   1           \n",
       "1      0001b1d5-b74a-4cbf-aeb0-7df5947bf349  other   1           \n",
       "2      0001b1d5-b74a-4cbf-aeb0-7df5947bf349  other   1           \n",
       "3      0001b1d5-b74a-4cbf-aeb0-7df5947bf349  other   1           \n",
       "4      0001b1d5-b74a-4cbf-aeb0-7df5947bf349  other   1           \n",
       "...                                     ...    ...  ..           \n",
       "74192  fffb9e79-b927-4dbb-9b48-7fd09b23a62b  google  11536       \n",
       "74193  fffb9e79-b927-4dbb-9b48-7fd09b23a62b  google  11536       \n",
       "74194  fffb9e79-b927-4dbb-9b48-7fd09b23a62b  google  11537       \n",
       "74195  fffb9e79-b927-4dbb-9b48-7fd09b23a62b  google  11537       \n",
       "74196  fffb9e79-b927-4dbb-9b48-7fd09b23a62b  google  11537       \n",
       "\n",
       "[74197 rows x 5 columns]"
      ]
     },
     "execution_count": 17,
     "metadata": {},
     "output_type": "execute_result"
    }
   ],
   "source": [
    "# выделение сессий для каждого пользователя\n",
    "mobile_df = mobile_df.sort_values(['user_id', 'event_time']).reset_index(drop=True)\n",
    "sessions = (mobile_df.groupby('user_id')['event_time'].diff() > pd.Timedelta('15Min')).cumsum()\n",
    "mobile_df['session_id'] = mobile_df.groupby(['user_id', sessions], sort=False).ngroup() + 1\n",
    "mobile_df"
   ]
  },
  {
   "cell_type": "markdown",
   "metadata": {},
   "source": [
    "Всего у нас 11537 сессий"
   ]
  },
  {
   "cell_type": "code",
   "execution_count": 18,
   "metadata": {},
   "outputs": [
    {
     "data": {
      "text/html": [
       "<div>\n",
       "<style scoped>\n",
       "    .dataframe tbody tr th:only-of-type {\n",
       "        vertical-align: middle;\n",
       "    }\n",
       "\n",
       "    .dataframe tbody tr th {\n",
       "        vertical-align: top;\n",
       "    }\n",
       "\n",
       "    .dataframe thead th {\n",
       "        text-align: right;\n",
       "    }\n",
       "</style>\n",
       "<table border=\"1\" class=\"dataframe\">\n",
       "  <thead>\n",
       "    <tr style=\"text-align: right;\">\n",
       "      <th></th>\n",
       "      <th>user_id</th>\n",
       "      <th>sessions_count</th>\n",
       "    </tr>\n",
       "  </thead>\n",
       "  <tbody>\n",
       "    <tr>\n",
       "      <th>2146</th>\n",
       "      <td>80a9887a-d45f-44a2-9473-1446f68b9c16</td>\n",
       "      <td>1</td>\n",
       "    </tr>\n",
       "    <tr>\n",
       "      <th>2040</th>\n",
       "      <td>7a8d8ffa-62a1-4c29-bb4c-98659c52f704</td>\n",
       "      <td>1</td>\n",
       "    </tr>\n",
       "    <tr>\n",
       "      <th>2041</th>\n",
       "      <td>7a9109a8-7b24-4cdc-a0c9-badb07548c59</td>\n",
       "      <td>1</td>\n",
       "    </tr>\n",
       "    <tr>\n",
       "      <th>2042</th>\n",
       "      <td>7a97a344-0a02-4916-918f-de1e72b22654</td>\n",
       "      <td>1</td>\n",
       "    </tr>\n",
       "    <tr>\n",
       "      <th>2044</th>\n",
       "      <td>7aadb909-92da-42ff-8a7d-e7caae129338</td>\n",
       "      <td>1</td>\n",
       "    </tr>\n",
       "    <tr>\n",
       "      <th>...</th>\n",
       "      <td>...</td>\n",
       "      <td>...</td>\n",
       "    </tr>\n",
       "    <tr>\n",
       "      <th>1668</th>\n",
       "      <td>6383ff6a-04b8-4562-a98f-bb4f760d3c39</td>\n",
       "      <td>46</td>\n",
       "    </tr>\n",
       "    <tr>\n",
       "      <th>3162</th>\n",
       "      <td>be1449f6-ca45-4f94-93a7-ea4b079b8f0f</td>\n",
       "      <td>55</td>\n",
       "    </tr>\n",
       "    <tr>\n",
       "      <th>401</th>\n",
       "      <td>1580911b-65db-4f1a-be7e-1ca39becac30</td>\n",
       "      <td>58</td>\n",
       "    </tr>\n",
       "    <tr>\n",
       "      <th>3397</th>\n",
       "      <td>cb36854f-570a-41f4-baa8-36680b396370</td>\n",
       "      <td>79</td>\n",
       "    </tr>\n",
       "    <tr>\n",
       "      <th>615</th>\n",
       "      <td>21230dd9-2f7f-4b77-a436-43d4d10388e0</td>\n",
       "      <td>116</td>\n",
       "    </tr>\n",
       "  </tbody>\n",
       "</table>\n",
       "<p>4293 rows × 2 columns</p>\n",
       "</div>"
      ],
      "text/plain": [
       "                                   user_id  sessions_count\n",
       "2146  80a9887a-d45f-44a2-9473-1446f68b9c16  1             \n",
       "2040  7a8d8ffa-62a1-4c29-bb4c-98659c52f704  1             \n",
       "2041  7a9109a8-7b24-4cdc-a0c9-badb07548c59  1             \n",
       "2042  7a97a344-0a02-4916-918f-de1e72b22654  1             \n",
       "2044  7aadb909-92da-42ff-8a7d-e7caae129338  1             \n",
       "...                                    ... ..             \n",
       "1668  6383ff6a-04b8-4562-a98f-bb4f760d3c39  46            \n",
       "3162  be1449f6-ca45-4f94-93a7-ea4b079b8f0f  55            \n",
       "401   1580911b-65db-4f1a-be7e-1ca39becac30  58            \n",
       "3397  cb36854f-570a-41f4-baa8-36680b396370  79            \n",
       "615   21230dd9-2f7f-4b77-a436-43d4d10388e0  116           \n",
       "\n",
       "[4293 rows x 2 columns]"
      ]
     },
     "execution_count": 18,
     "metadata": {},
     "output_type": "execute_result"
    }
   ],
   "source": [
    "# рассчитаем количество уникальных сессий на каждого пользователя\n",
    "sessions_per_user = mobile_df.groupby('user_id')['session_id'].nunique().to_frame().reset_index()\n",
    "sessions_per_user.columns = ['user_id', 'sessions_count']\n",
    "sessions_per_user.sort_values('sessions_count')"
   ]
  },
  {
   "cell_type": "code",
   "execution_count": 19,
   "metadata": {},
   "outputs": [
    {
     "data": {
      "text/html": [
       "<div>\n",
       "<style scoped>\n",
       "    .dataframe tbody tr th:only-of-type {\n",
       "        vertical-align: middle;\n",
       "    }\n",
       "\n",
       "    .dataframe tbody tr th {\n",
       "        vertical-align: top;\n",
       "    }\n",
       "\n",
       "    .dataframe thead th {\n",
       "        text-align: right;\n",
       "    }\n",
       "</style>\n",
       "<table border=\"1\" class=\"dataframe\">\n",
       "  <thead>\n",
       "    <tr style=\"text-align: right;\">\n",
       "      <th></th>\n",
       "      <th>sessions_count</th>\n",
       "    </tr>\n",
       "  </thead>\n",
       "  <tbody>\n",
       "    <tr>\n",
       "      <th>count</th>\n",
       "      <td>4293.000000</td>\n",
       "    </tr>\n",
       "    <tr>\n",
       "      <th>mean</th>\n",
       "      <td>2.687398</td>\n",
       "    </tr>\n",
       "    <tr>\n",
       "      <th>std</th>\n",
       "      <td>4.173946</td>\n",
       "    </tr>\n",
       "    <tr>\n",
       "      <th>min</th>\n",
       "      <td>1.000000</td>\n",
       "    </tr>\n",
       "    <tr>\n",
       "      <th>25%</th>\n",
       "      <td>1.000000</td>\n",
       "    </tr>\n",
       "    <tr>\n",
       "      <th>50%</th>\n",
       "      <td>2.000000</td>\n",
       "    </tr>\n",
       "    <tr>\n",
       "      <th>75%</th>\n",
       "      <td>3.000000</td>\n",
       "    </tr>\n",
       "    <tr>\n",
       "      <th>max</th>\n",
       "      <td>116.000000</td>\n",
       "    </tr>\n",
       "  </tbody>\n",
       "</table>\n",
       "</div>"
      ],
      "text/plain": [
       "       sessions_count\n",
       "count  4293.000000   \n",
       "mean   2.687398      \n",
       "std    4.173946      \n",
       "min    1.000000      \n",
       "25%    1.000000      \n",
       "50%    2.000000      \n",
       "75%    3.000000      \n",
       "max    116.000000    "
      ]
     },
     "execution_count": 19,
     "metadata": {},
     "output_type": "execute_result"
    }
   ],
   "source": [
    "# статистика распределения сессий\n",
    "sessions_per_user['sessions_count'].describe().to_frame()"
   ]
  },
  {
   "cell_type": "code",
   "execution_count": 20,
   "metadata": {},
   "outputs": [
    {
     "data": {
      "image/png": "[encoded data removed]",
      "text/plain": [
       "<Figure size 1800x600 with 1 Axes>"
      ]
     },
     "metadata": {},
     "output_type": "display_data"
    }
   ],
   "source": [
    "# построим диаграмму boxplot для распределения сессий для каждого пользователя\n",
    "plt.figure(figsize=(18, 6))\n",
    "plt.boxplot(sessions_per_user['sessions_count'], vert=False)\n",
    "plt.xlabel('Количество сессий')\n",
    "plt.title('Распределение количества сессий для каждого пользователя' + \"\\n\", fontsize=17)\n",
    "plt.show();"
   ]
  },
  {
   "cell_type": "code",
   "execution_count": 21,
   "metadata": {},
   "outputs": [
    {
     "data": {
      "image/png": "[encoded data removed]",
      "text/plain": [
       "<Figure size 1800x600 with 1 Axes>"
      ]
     },
     "metadata": {},
     "output_type": "display_data"
    }
   ],
   "source": [
    "# увеличим масштаб диаграммы\n",
    "plt.figure(figsize=(18, 6))\n",
    "plt.boxplot(sessions_per_user['sessions_count'], vert=False)\n",
    "plt.xlabel('Количество сессий')\n",
    "plt.title('Распределение количества сессий для каждого пользователя' + \"\\n\", fontsize=17)\n",
    "plt.xlim(0, 7.5)\n",
    "plt.show();"
   ]
  },
  {
   "cell_type": "markdown",
   "metadata": {},
   "source": [
    "Минимальное количество сессий на одного пользователя равно 1, максимальное - 116 сессий на пользователя. По медиане, на одного пользователя приходится 2 сессии."
   ]
  },
  {
   "cell_type": "markdown",
   "metadata": {},
   "source": [
    "##### Длительность сессий"
   ]
  },
  {
   "cell_type": "code",
   "execution_count": 22,
   "metadata": {},
   "outputs": [
    {
     "data": {
      "text/html": [
       "<div>\n",
       "<style scoped>\n",
       "    .dataframe tbody tr th:only-of-type {\n",
       "        vertical-align: middle;\n",
       "    }\n",
       "\n",
       "    .dataframe tbody tr th {\n",
       "        vertical-align: top;\n",
       "    }\n",
       "\n",
       "    .dataframe thead th {\n",
       "        text-align: right;\n",
       "    }\n",
       "</style>\n",
       "<table border=\"1\" class=\"dataframe\">\n",
       "  <thead>\n",
       "    <tr style=\"text-align: right;\">\n",
       "      <th></th>\n",
       "      <th>session_id</th>\n",
       "      <th>user_id</th>\n",
       "      <th>time_span</th>\n",
       "    </tr>\n",
       "  </thead>\n",
       "  <tbody>\n",
       "    <tr>\n",
       "      <th>0</th>\n",
       "      <td>1</td>\n",
       "      <td>0001b1d5-b74a-4cbf-aeb0-7df5947bf349</td>\n",
       "      <td>9.928788</td>\n",
       "    </tr>\n",
       "    <tr>\n",
       "      <th>1</th>\n",
       "      <td>2</td>\n",
       "      <td>0001b1d5-b74a-4cbf-aeb0-7df5947bf349</td>\n",
       "      <td>8.456433</td>\n",
       "    </tr>\n",
       "    <tr>\n",
       "      <th>2</th>\n",
       "      <td>3</td>\n",
       "      <td>0001b1d5-b74a-4cbf-aeb0-7df5947bf349</td>\n",
       "      <td>14.987868</td>\n",
       "    </tr>\n",
       "    <tr>\n",
       "      <th>3</th>\n",
       "      <td>4</td>\n",
       "      <td>0001b1d5-b74a-4cbf-aeb0-7df5947bf349</td>\n",
       "      <td>12.636196</td>\n",
       "    </tr>\n",
       "    <tr>\n",
       "      <th>4</th>\n",
       "      <td>5</td>\n",
       "      <td>00157779-810c-4498-9e05-a1e9e3cedf93</td>\n",
       "      <td>25.346455</td>\n",
       "    </tr>\n",
       "  </tbody>\n",
       "</table>\n",
       "</div>"
      ],
      "text/plain": [
       "   session_id                               user_id  time_span\n",
       "0  1           0001b1d5-b74a-4cbf-aeb0-7df5947bf349  9.928788 \n",
       "1  2           0001b1d5-b74a-4cbf-aeb0-7df5947bf349  8.456433 \n",
       "2  3           0001b1d5-b74a-4cbf-aeb0-7df5947bf349  14.987868\n",
       "3  4           0001b1d5-b74a-4cbf-aeb0-7df5947bf349  12.636196\n",
       "4  5           00157779-810c-4498-9e05-a1e9e3cedf93  25.346455"
      ]
     },
     "execution_count": 22,
     "metadata": {},
     "output_type": "execute_result"
    }
   ],
   "source": [
    "# рассчитаем длительность сессий\n",
    "sessions_duration = mobile_df.groupby(['session_id', 'user_id']).agg(\n",
    "    time_span=('event_time', lambda x: (x.max() - x.min())/np.timedelta64(60, 's'))\n",
    ").reset_index()\n",
    "sessions_duration.head()"
   ]
  },
  {
   "cell_type": "code",
   "execution_count": 23,
   "metadata": {},
   "outputs": [
    {
     "data": {
      "text/html": [
       "<div>\n",
       "<style scoped>\n",
       "    .dataframe tbody tr th:only-of-type {\n",
       "        vertical-align: middle;\n",
       "    }\n",
       "\n",
       "    .dataframe tbody tr th {\n",
       "        vertical-align: top;\n",
       "    }\n",
       "\n",
       "    .dataframe thead th {\n",
       "        text-align: right;\n",
       "    }\n",
       "</style>\n",
       "<table border=\"1\" class=\"dataframe\">\n",
       "  <thead>\n",
       "    <tr style=\"text-align: right;\">\n",
       "      <th></th>\n",
       "      <th>time_span</th>\n",
       "    </tr>\n",
       "  </thead>\n",
       "  <tbody>\n",
       "    <tr>\n",
       "      <th>count</th>\n",
       "      <td>11537.000000</td>\n",
       "    </tr>\n",
       "    <tr>\n",
       "      <th>mean</th>\n",
       "      <td>9.440873</td>\n",
       "    </tr>\n",
       "    <tr>\n",
       "      <th>std</th>\n",
       "      <td>14.186460</td>\n",
       "    </tr>\n",
       "    <tr>\n",
       "      <th>min</th>\n",
       "      <td>0.000000</td>\n",
       "    </tr>\n",
       "    <tr>\n",
       "      <th>25%</th>\n",
       "      <td>0.082008</td>\n",
       "    </tr>\n",
       "    <tr>\n",
       "      <th>50%</th>\n",
       "      <td>4.323255</td>\n",
       "    </tr>\n",
       "    <tr>\n",
       "      <th>75%</th>\n",
       "      <td>13.054267</td>\n",
       "    </tr>\n",
       "    <tr>\n",
       "      <th>max</th>\n",
       "      <td>233.648530</td>\n",
       "    </tr>\n",
       "  </tbody>\n",
       "</table>\n",
       "</div>"
      ],
      "text/plain": [
       "          time_span\n",
       "count  11537.000000\n",
       "mean   9.440873    \n",
       "std    14.186460   \n",
       "min    0.000000    \n",
       "25%    0.082008    \n",
       "50%    4.323255    \n",
       "75%    13.054267   \n",
       "max    233.648530  "
      ]
     },
     "execution_count": 23,
     "metadata": {},
     "output_type": "execute_result"
    }
   ],
   "source": [
    "# статистика длительности сессий\n",
    "sessions_duration['time_span'].describe().to_frame()"
   ]
  },
  {
   "cell_type": "code",
   "execution_count": 24,
   "metadata": {},
   "outputs": [
    {
     "data": {
      "image/png": "[encoded data removed]",
      "text/plain": [
       "<Figure size 1800x600 with 1 Axes>"
      ]
     },
     "metadata": {},
     "output_type": "display_data"
    }
   ],
   "source": [
    "# построим диаграмму размаха длительности сессий\n",
    "plt.figure(figsize=(18, 6))\n",
    "plt.boxplot(sessions_duration['time_span'], vert=False)\n",
    "plt.xlabel('Длительность, мин')\n",
    "plt.title('Длительность сессий' + \"\\n\", fontsize=17)\n",
    "plt.show();"
   ]
  },
  {
   "cell_type": "code",
   "execution_count": 25,
   "metadata": {},
   "outputs": [
    {
     "data": {
      "image/png": "[encoded data removed]",
      "text/plain": [
       "<Figure size 1800x600 with 1 Axes>"
      ]
     },
     "metadata": {},
     "output_type": "display_data"
    }
   ],
   "source": [
    "# увеличим масштаб диаграммы\n",
    "plt.figure(figsize=(18, 6))\n",
    "plt.boxplot(sessions_duration['time_span'], vert=False)\n",
    "plt.xlabel('Длительность, мин')\n",
    "plt.title('Длительность сессий' + \"\\n\", fontsize=17)\n",
    "plt.xlim(0, 35)\n",
    "plt.show();"
   ]
  },
  {
   "cell_type": "markdown",
   "metadata": {},
   "source": [
    "Длительность сессий варьируется от 0 до 233 минут. Медианное значение длительности сессии составляет 4 минуты, среднее значение - 9 минут."
   ]
  },
  {
   "cell_type": "markdown",
   "metadata": {},
   "source": [
    "#### Частотность событий"
   ]
  },
  {
   "cell_type": "markdown",
   "metadata": {},
   "source": [
    "##### Рассмотрим распределение событий по пользователям"
   ]
  },
  {
   "cell_type": "code",
   "execution_count": 26,
   "metadata": {},
   "outputs": [
    {
     "data": {
      "text/html": [
       "<div>\n",
       "<style scoped>\n",
       "    .dataframe tbody tr th:only-of-type {\n",
       "        vertical-align: middle;\n",
       "    }\n",
       "\n",
       "    .dataframe tbody tr th {\n",
       "        vertical-align: top;\n",
       "    }\n",
       "\n",
       "    .dataframe thead th {\n",
       "        text-align: right;\n",
       "    }\n",
       "</style>\n",
       "<table border=\"1\" class=\"dataframe\">\n",
       "  <thead>\n",
       "    <tr style=\"text-align: right;\">\n",
       "      <th></th>\n",
       "      <th>user_id</th>\n",
       "      <th>count_events</th>\n",
       "    </tr>\n",
       "  </thead>\n",
       "  <tbody>\n",
       "    <tr>\n",
       "      <th>0</th>\n",
       "      <td>0001b1d5-b74a-4cbf-aeb0-7df5947bf349</td>\n",
       "      <td>35</td>\n",
       "    </tr>\n",
       "    <tr>\n",
       "      <th>1</th>\n",
       "      <td>00157779-810c-4498-9e05-a1e9e3cedf93</td>\n",
       "      <td>71</td>\n",
       "    </tr>\n",
       "    <tr>\n",
       "      <th>2</th>\n",
       "      <td>00463033-5717-4bf1-91b4-09183923b9df</td>\n",
       "      <td>10</td>\n",
       "    </tr>\n",
       "    <tr>\n",
       "      <th>3</th>\n",
       "      <td>004690c3-5a84-4bb7-a8af-e0c8f8fca64e</td>\n",
       "      <td>32</td>\n",
       "    </tr>\n",
       "    <tr>\n",
       "      <th>4</th>\n",
       "      <td>00551e79-152e-4441-9cf7-565d7eb04090</td>\n",
       "      <td>8</td>\n",
       "    </tr>\n",
       "    <tr>\n",
       "      <th>...</th>\n",
       "      <td>...</td>\n",
       "      <td>...</td>\n",
       "    </tr>\n",
       "    <tr>\n",
       "      <th>4288</th>\n",
       "      <td>ffab8d8a-30bb-424a-a3ab-0b63ebbf7b07</td>\n",
       "      <td>17</td>\n",
       "    </tr>\n",
       "    <tr>\n",
       "      <th>4289</th>\n",
       "      <td>ffc01466-fdb1-4460-ae94-e800f52eb136</td>\n",
       "      <td>7</td>\n",
       "    </tr>\n",
       "    <tr>\n",
       "      <th>4290</th>\n",
       "      <td>ffcf50d9-293c-4254-8243-4890b030b238</td>\n",
       "      <td>2</td>\n",
       "    </tr>\n",
       "    <tr>\n",
       "      <th>4291</th>\n",
       "      <td>ffe68f10-e48e-470e-be9b-eeb93128ff1a</td>\n",
       "      <td>13</td>\n",
       "    </tr>\n",
       "    <tr>\n",
       "      <th>4292</th>\n",
       "      <td>fffb9e79-b927-4dbb-9b48-7fd09b23a62b</td>\n",
       "      <td>303</td>\n",
       "    </tr>\n",
       "  </tbody>\n",
       "</table>\n",
       "<p>4293 rows × 2 columns</p>\n",
       "</div>"
      ],
      "text/plain": [
       "                                   user_id  count_events\n",
       "0     0001b1d5-b74a-4cbf-aeb0-7df5947bf349  35          \n",
       "1     00157779-810c-4498-9e05-a1e9e3cedf93  71          \n",
       "2     00463033-5717-4bf1-91b4-09183923b9df  10          \n",
       "3     004690c3-5a84-4bb7-a8af-e0c8f8fca64e  32          \n",
       "4     00551e79-152e-4441-9cf7-565d7eb04090  8           \n",
       "...                                    ... ..           \n",
       "4288  ffab8d8a-30bb-424a-a3ab-0b63ebbf7b07  17          \n",
       "4289  ffc01466-fdb1-4460-ae94-e800f52eb136  7           \n",
       "4290  ffcf50d9-293c-4254-8243-4890b030b238  2           \n",
       "4291  ffe68f10-e48e-470e-be9b-eeb93128ff1a  13          \n",
       "4292  fffb9e79-b927-4dbb-9b48-7fd09b23a62b  303         \n",
       "\n",
       "[4293 rows x 2 columns]"
      ]
     },
     "execution_count": 26,
     "metadata": {},
     "output_type": "execute_result"
    }
   ],
   "source": [
    "# распределение событий по пользователям\n",
    "events_per_user = mobile_df.groupby('user_id')[['event_name']].count()\\\n",
    "                    .rename(columns={'event_name':'count_events'}).reset_index()\n",
    "events_per_user"
   ]
  },
  {
   "cell_type": "code",
   "execution_count": 27,
   "metadata": {},
   "outputs": [
    {
     "data": {
      "text/html": [
       "<div>\n",
       "<style scoped>\n",
       "    .dataframe tbody tr th:only-of-type {\n",
       "        vertical-align: middle;\n",
       "    }\n",
       "\n",
       "    .dataframe tbody tr th {\n",
       "        vertical-align: top;\n",
       "    }\n",
       "\n",
       "    .dataframe thead th {\n",
       "        text-align: right;\n",
       "    }\n",
       "</style>\n",
       "<table border=\"1\" class=\"dataframe\">\n",
       "  <thead>\n",
       "    <tr style=\"text-align: right;\">\n",
       "      <th></th>\n",
       "      <th>count_events</th>\n",
       "    </tr>\n",
       "  </thead>\n",
       "  <tbody>\n",
       "    <tr>\n",
       "      <th>count</th>\n",
       "      <td>4293.000000</td>\n",
       "    </tr>\n",
       "    <tr>\n",
       "      <th>mean</th>\n",
       "      <td>17.283252</td>\n",
       "    </tr>\n",
       "    <tr>\n",
       "      <th>std</th>\n",
       "      <td>29.130677</td>\n",
       "    </tr>\n",
       "    <tr>\n",
       "      <th>min</th>\n",
       "      <td>1.000000</td>\n",
       "    </tr>\n",
       "    <tr>\n",
       "      <th>25%</th>\n",
       "      <td>5.000000</td>\n",
       "    </tr>\n",
       "    <tr>\n",
       "      <th>50%</th>\n",
       "      <td>9.000000</td>\n",
       "    </tr>\n",
       "    <tr>\n",
       "      <th>75%</th>\n",
       "      <td>17.000000</td>\n",
       "    </tr>\n",
       "    <tr>\n",
       "      <th>max</th>\n",
       "      <td>478.000000</td>\n",
       "    </tr>\n",
       "  </tbody>\n",
       "</table>\n",
       "</div>"
      ],
      "text/plain": [
       "       count_events\n",
       "count  4293.000000 \n",
       "mean   17.283252   \n",
       "std    29.130677   \n",
       "min    1.000000    \n",
       "25%    5.000000    \n",
       "50%    9.000000    \n",
       "75%    17.000000   \n",
       "max    478.000000  "
      ]
     },
     "execution_count": 27,
     "metadata": {},
     "output_type": "execute_result"
    }
   ],
   "source": [
    "# статистика распределения событий по пользователям\n",
    "events_per_user['count_events'].describe().to_frame()"
   ]
  },
  {
   "cell_type": "code",
   "execution_count": 28,
   "metadata": {},
   "outputs": [
    {
     "data": {
      "image/png": "[encoded data removed]",
      "text/plain": [
       "<Figure size 1800x600 with 1 Axes>"
      ]
     },
     "metadata": {},
     "output_type": "display_data"
    }
   ],
   "source": [
    "# построим диаграмму boxplot для распределения событий на каждого пользователя\n",
    "plt.figure(figsize=(18, 6))\n",
    "plt.boxplot(events_per_user['count_events'], vert=False)\n",
    "plt.xlabel('Количество сессий')\n",
    "plt.title('Распределение количества событий на каждого пользователя' + \"\\n\", fontsize=17)\n",
    "plt.show();"
   ]
  },
  {
   "cell_type": "code",
   "execution_count": 29,
   "metadata": {},
   "outputs": [
    {
     "data": {
      "image/png": "[encoded data removed]",
      "text/plain": [
       "<Figure size 1800x600 with 1 Axes>"
      ]
     },
     "metadata": {},
     "output_type": "display_data"
    }
   ],
   "source": [
    "# увеличим масштаб диаграммы\n",
    "plt.figure(figsize=(18, 6))\n",
    "plt.boxplot(events_per_user['count_events'], vert=False)\n",
    "plt.xlabel('Количество сессий')\n",
    "plt.title('Распределение количества событий на каждого пользователя' + \"\\n\", fontsize=17)\n",
    "plt.xlim(0, 40)\n",
    "plt.show();"
   ]
  },
  {
   "cell_type": "markdown",
   "metadata": {},
   "source": [
    "Медиана событий на одного пользователя составляет 9 событий.  Минимальное количество - 1, максимальное - 478 событий на пользователя."
   ]
  },
  {
   "cell_type": "markdown",
   "metadata": {},
   "source": [
    "##### Рассмотрим распределение событий по типу"
   ]
  },
  {
   "cell_type": "code",
   "execution_count": 30,
   "metadata": {
    "scrolled": false
   },
   "outputs": [
    {
     "data": {
      "text/html": [
       "<div>\n",
       "<style scoped>\n",
       "    .dataframe tbody tr th:only-of-type {\n",
       "        vertical-align: middle;\n",
       "    }\n",
       "\n",
       "    .dataframe tbody tr th {\n",
       "        vertical-align: top;\n",
       "    }\n",
       "\n",
       "    .dataframe thead th {\n",
       "        text-align: right;\n",
       "    }\n",
       "</style>\n",
       "<table border=\"1\" class=\"dataframe\">\n",
       "  <thead>\n",
       "    <tr style=\"text-align: right;\">\n",
       "      <th></th>\n",
       "      <th>event_name</th>\n",
       "      <th>count</th>\n",
       "    </tr>\n",
       "  </thead>\n",
       "  <tbody>\n",
       "    <tr>\n",
       "      <th>0</th>\n",
       "      <td>tips_show</td>\n",
       "      <td>40055</td>\n",
       "    </tr>\n",
       "    <tr>\n",
       "      <th>1</th>\n",
       "      <td>photos_show</td>\n",
       "      <td>10012</td>\n",
       "    </tr>\n",
       "    <tr>\n",
       "      <th>2</th>\n",
       "      <td>advert_open</td>\n",
       "      <td>6164</td>\n",
       "    </tr>\n",
       "    <tr>\n",
       "      <th>3</th>\n",
       "      <td>contacts_show</td>\n",
       "      <td>4529</td>\n",
       "    </tr>\n",
       "    <tr>\n",
       "      <th>4</th>\n",
       "      <td>map</td>\n",
       "      <td>3881</td>\n",
       "    </tr>\n",
       "    <tr>\n",
       "      <th>5</th>\n",
       "      <td>search_1</td>\n",
       "      <td>3506</td>\n",
       "    </tr>\n",
       "    <tr>\n",
       "      <th>6</th>\n",
       "      <td>favorites_add</td>\n",
       "      <td>1417</td>\n",
       "    </tr>\n",
       "    <tr>\n",
       "      <th>7</th>\n",
       "      <td>search_5</td>\n",
       "      <td>1049</td>\n",
       "    </tr>\n",
       "    <tr>\n",
       "      <th>8</th>\n",
       "      <td>tips_click</td>\n",
       "      <td>814</td>\n",
       "    </tr>\n",
       "    <tr>\n",
       "      <th>9</th>\n",
       "      <td>search_4</td>\n",
       "      <td>701</td>\n",
       "    </tr>\n",
       "    <tr>\n",
       "      <th>10</th>\n",
       "      <td>contacts_call</td>\n",
       "      <td>541</td>\n",
       "    </tr>\n",
       "    <tr>\n",
       "      <th>11</th>\n",
       "      <td>search_3</td>\n",
       "      <td>522</td>\n",
       "    </tr>\n",
       "    <tr>\n",
       "      <th>12</th>\n",
       "      <td>search_6</td>\n",
       "      <td>460</td>\n",
       "    </tr>\n",
       "    <tr>\n",
       "      <th>13</th>\n",
       "      <td>search_2</td>\n",
       "      <td>324</td>\n",
       "    </tr>\n",
       "    <tr>\n",
       "      <th>14</th>\n",
       "      <td>search_7</td>\n",
       "      <td>222</td>\n",
       "    </tr>\n",
       "  </tbody>\n",
       "</table>\n",
       "</div>"
      ],
      "text/plain": [
       "       event_name  count\n",
       "0   tips_show      40055\n",
       "1   photos_show    10012\n",
       "2   advert_open    6164 \n",
       "3   contacts_show  4529 \n",
       "4   map            3881 \n",
       "5   search_1       3506 \n",
       "6   favorites_add  1417 \n",
       "7   search_5       1049 \n",
       "8   tips_click     814  \n",
       "9   search_4       701  \n",
       "10  contacts_call  541  \n",
       "11  search_3       522  \n",
       "12  search_6       460  \n",
       "13  search_2       324  \n",
       "14  search_7       222  "
      ]
     },
     "execution_count": 30,
     "metadata": {},
     "output_type": "execute_result"
    }
   ],
   "source": [
    "# распределение событий по типу\n",
    "events_distr = mobile_df.groupby('event_name').size().reset_index(name = 'count').sort_values('count', ascending =False)\n",
    "events_distr = events_distr.reset_index(drop=True)\n",
    "events_distr"
   ]
  },
  {
   "cell_type": "code",
   "execution_count": 31,
   "metadata": {},
   "outputs": [
    {
     "data": {
      "image/png": "[encoded data removed]",
      "text/plain": [
       "<Figure size 1500x700 with 1 Axes>"
      ]
     },
     "metadata": {},
     "output_type": "display_data"
    }
   ],
   "source": [
    "# построим график распределений\n",
    "\n",
    "fig, ax = plt.subplots(figsize=(15, 7))\n",
    "events_distr_sorted = events_distr.sort_values('count')\n",
    "\n",
    "ax.barh(events_distr_sorted['event_name'], events_distr_sorted['count'], color='blue')\n",
    "\n",
    "ax.set_title('Популярность событий' + \"\\n\", fontsize=22, loc='left')\n",
    "ax.set_xlabel('Количество')\n",
    "ax.set_ylabel('Тип события')\n",
    "\n",
    "plt.show();"
   ]
  },
  {
   "cell_type": "markdown",
   "metadata": {},
   "source": [
    "Самым популярным событием у пользователей являются 'tips_show', т.е. просмотр рекомендованных объявлений, вторым по популярности действием является просмотр фотографий, далее следуют 'advert_open', 'contacts_show', 'map'. Замыкают рейтинг события, связанные с поисковыми запросами. Т.к. действие tips_show отображается автоматически и не зависит от наличия предыдущего действия пользоватлей мы не будем включать его в наши некоторые расчёты."
   ]
  },
  {
   "cell_type": "markdown",
   "metadata": {},
   "source": [
    "**Вывод**  \n",
    "\n",
    "**Безопасность и таймаут сессий:**  \n",
    "Поскольку приложение не требует высокого уровня безопасности, выбор продолжительности бездействия пользователей в 15 минут разумен.  \n",
    "Однако рекомендуется уточнить у разработчиков, какой таймаут был выбран для данного приложения.  \n",
    "\n",
    "**Сессии пользователей:**  \n",
    "Минимальное количество сессий на одного пользователя составляет 1, а максимальное - 116.  \n",
    "По медиане на одного пользователя приходится 2 сессии.  \n",
    "Длительность сессий варьируется от 0 до 233 минут. Медианное значение длительности сессии составляет 4 минуты, а среднее - 9 минут.  \n",
    "\n",
    "**События в приложении:**  \n",
    "Медиана событий на одного пользователя составляет 9.  \n",
    "Самым популярным событием у пользователей является ‘tips_show’ (просмотр рекомендованных объявлений).  \n",
    "Вторым по популярности действием является просмотр фотографий.  \n",
    "Затем следуют ‘advert_open’, ‘contacts_show’ и ‘map’.  \n",
    "События, связанные с поисковыми запросами, замыкают рейтинг.  \n",
    "\n",
    "В целом, приложение “Ненужные вещи” имеет потенциал привлечь пользователей, а оптимизация сессий и событий может помочь улучшить пользовательский опыт."
   ]
  },
  {
   "cell_type": "markdown",
   "metadata": {},
   "source": [
    "### Выявление сценариев пользователей"
   ]
  },
  {
   "cell_type": "markdown",
   "metadata": {},
   "source": [
    "Избавимся от повторяющихся событий в рамках сессии"
   ]
  },
  {
   "cell_type": "code",
   "execution_count": 32,
   "metadata": {
    "scrolled": true
   },
   "outputs": [
    {
     "data": {
      "text/html": [
       "<div>\n",
       "<style scoped>\n",
       "    .dataframe tbody tr th:only-of-type {\n",
       "        vertical-align: middle;\n",
       "    }\n",
       "\n",
       "    .dataframe tbody tr th {\n",
       "        vertical-align: top;\n",
       "    }\n",
       "\n",
       "    .dataframe thead th {\n",
       "        text-align: right;\n",
       "    }\n",
       "</style>\n",
       "<table border=\"1\" class=\"dataframe\">\n",
       "  <thead>\n",
       "    <tr style=\"text-align: right;\">\n",
       "      <th></th>\n",
       "      <th>event_time</th>\n",
       "      <th>event_name</th>\n",
       "      <th>user_id</th>\n",
       "      <th>browser</th>\n",
       "      <th>session_id</th>\n",
       "    </tr>\n",
       "  </thead>\n",
       "  <tbody>\n",
       "    <tr>\n",
       "      <th>9</th>\n",
       "      <td>2019-10-09 18:33:55.577963</td>\n",
       "      <td>map</td>\n",
       "      <td>0001b1d5-b74a-4cbf-aeb0-7df5947bf349</td>\n",
       "      <td>other</td>\n",
       "      <td>2</td>\n",
       "    </tr>\n",
       "    <tr>\n",
       "      <th>35</th>\n",
       "      <td>2019-10-19 21:34:33.849769</td>\n",
       "      <td>search</td>\n",
       "      <td>00157779-810c-4498-9e05-a1e9e3cedf93</td>\n",
       "      <td>yandex</td>\n",
       "      <td>5</td>\n",
       "    </tr>\n",
       "    <tr>\n",
       "      <th>38</th>\n",
       "      <td>2019-10-19 21:40:38.990477</td>\n",
       "      <td>photos_show</td>\n",
       "      <td>00157779-810c-4498-9e05-a1e9e3cedf93</td>\n",
       "      <td>yandex</td>\n",
       "      <td>5</td>\n",
       "    </tr>\n",
       "    <tr>\n",
       "      <th>46</th>\n",
       "      <td>2019-10-20 19:03:02.030004</td>\n",
       "      <td>favorites_add</td>\n",
       "      <td>00157779-810c-4498-9e05-a1e9e3cedf93</td>\n",
       "      <td>yandex</td>\n",
       "      <td>6</td>\n",
       "    </tr>\n",
       "    <tr>\n",
       "      <th>50</th>\n",
       "      <td>2019-10-20 19:17:18.659799</td>\n",
       "      <td>contacts_show</td>\n",
       "      <td>00157779-810c-4498-9e05-a1e9e3cedf93</td>\n",
       "      <td>yandex</td>\n",
       "      <td>6</td>\n",
       "    </tr>\n",
       "    <tr>\n",
       "      <th>51</th>\n",
       "      <td>2019-10-20 19:17:24.887762</td>\n",
       "      <td>contacts_call</td>\n",
       "      <td>00157779-810c-4498-9e05-a1e9e3cedf93</td>\n",
       "      <td>yandex</td>\n",
       "      <td>6</td>\n",
       "    </tr>\n",
       "    <tr>\n",
       "      <th>64</th>\n",
       "      <td>2019-10-24 10:52:18.644065</td>\n",
       "      <td>advert_open</td>\n",
       "      <td>00157779-810c-4498-9e05-a1e9e3cedf93</td>\n",
       "      <td>yandex</td>\n",
       "      <td>8</td>\n",
       "    </tr>\n",
       "    <tr>\n",
       "      <th>106</th>\n",
       "      <td>2019-11-01 13:54:35.385028</td>\n",
       "      <td>photos_show</td>\n",
       "      <td>00463033-5717-4bf1-91b4-09183923b9df</td>\n",
       "      <td>yandex</td>\n",
       "      <td>14</td>\n",
       "    </tr>\n",
       "    <tr>\n",
       "      <th>116</th>\n",
       "      <td>2019-10-18 22:14:05.555052</td>\n",
       "      <td>search</td>\n",
       "      <td>004690c3-5a84-4bb7-a8af-e0c8f8fca64e</td>\n",
       "      <td>google</td>\n",
       "      <td>15</td>\n",
       "    </tr>\n",
       "    <tr>\n",
       "      <th>118</th>\n",
       "      <td>2019-10-18 22:17:40.719687</td>\n",
       "      <td>map</td>\n",
       "      <td>004690c3-5a84-4bb7-a8af-e0c8f8fca64e</td>\n",
       "      <td>google</td>\n",
       "      <td>15</td>\n",
       "    </tr>\n",
       "  </tbody>\n",
       "</table>\n",
       "</div>"
      ],
      "text/plain": [
       "                    event_time     event_name  \\\n",
       "9   2019-10-09 18:33:55.577963  map             \n",
       "35  2019-10-19 21:34:33.849769  search          \n",
       "38  2019-10-19 21:40:38.990477  photos_show     \n",
       "46  2019-10-20 19:03:02.030004  favorites_add   \n",
       "50  2019-10-20 19:17:18.659799  contacts_show   \n",
       "51  2019-10-20 19:17:24.887762  contacts_call   \n",
       "64  2019-10-24 10:52:18.644065  advert_open     \n",
       "106 2019-11-01 13:54:35.385028  photos_show     \n",
       "116 2019-10-18 22:14:05.555052  search          \n",
       "118 2019-10-18 22:17:40.719687  map             \n",
       "\n",
       "                                  user_id browser  session_id  \n",
       "9    0001b1d5-b74a-4cbf-aeb0-7df5947bf349  other   2           \n",
       "35   00157779-810c-4498-9e05-a1e9e3cedf93  yandex  5           \n",
       "38   00157779-810c-4498-9e05-a1e9e3cedf93  yandex  5           \n",
       "46   00157779-810c-4498-9e05-a1e9e3cedf93  yandex  6           \n",
       "50   00157779-810c-4498-9e05-a1e9e3cedf93  yandex  6           \n",
       "51   00157779-810c-4498-9e05-a1e9e3cedf93  yandex  6           \n",
       "64   00157779-810c-4498-9e05-a1e9e3cedf93  yandex  8           \n",
       "106  00463033-5717-4bf1-91b4-09183923b9df  yandex  14          \n",
       "116  004690c3-5a84-4bb7-a8af-e0c8f8fca64e  google  15          \n",
       "118  004690c3-5a84-4bb7-a8af-e0c8f8fca64e  google  15          "
      ]
     },
     "execution_count": 32,
     "metadata": {},
     "output_type": "execute_result"
    }
   ],
   "source": [
    "# унифицируем сценарии и объединим значения serch_1 ... search_7 в одно значение\n",
    "script = mobile_df[mobile_df['event_name']!='tips_show'].copy()\n",
    "script[\"event_name\"] = script[\"event_name\"].str.replace(r'search_\\d+', 'search', regex=True)\n",
    "script = script.drop_duplicates(['event_name', 'user_id'],keep='first')\n",
    "script = script.rename(columns={'source': 'browser'})\n",
    "script.head(10)"
   ]
  },
  {
   "cell_type": "markdown",
   "metadata": {},
   "source": [
    "**Для визуального анализа сценариев построим диаграмму Санкея**"
   ]
  },
  {
   "cell_type": "code",
   "execution_count": 33,
   "metadata": {},
   "outputs": [
    {
     "data": {
      "text/html": [
       "<div>\n",
       "<style scoped>\n",
       "    .dataframe tbody tr th:only-of-type {\n",
       "        vertical-align: middle;\n",
       "    }\n",
       "\n",
       "    .dataframe tbody tr th {\n",
       "        vertical-align: top;\n",
       "    }\n",
       "\n",
       "    .dataframe thead th {\n",
       "        text-align: right;\n",
       "    }\n",
       "</style>\n",
       "<table border=\"1\" class=\"dataframe\">\n",
       "  <thead>\n",
       "    <tr style=\"text-align: right;\">\n",
       "      <th></th>\n",
       "      <th>event_time</th>\n",
       "      <th>user_id</th>\n",
       "      <th>browser</th>\n",
       "      <th>session_id</th>\n",
       "      <th>step</th>\n",
       "      <th>source</th>\n",
       "      <th>target</th>\n",
       "    </tr>\n",
       "  </thead>\n",
       "  <tbody>\n",
       "    <tr>\n",
       "      <th>9</th>\n",
       "      <td>2019-10-09 18:33:55.577963</td>\n",
       "      <td>0001b1d5-b74a-4cbf-aeb0-7df5947bf349</td>\n",
       "      <td>other</td>\n",
       "      <td>2</td>\n",
       "      <td>1</td>\n",
       "      <td>map</td>\n",
       "      <td>NaN</td>\n",
       "    </tr>\n",
       "    <tr>\n",
       "      <th>35</th>\n",
       "      <td>2019-10-19 21:34:33.849769</td>\n",
       "      <td>00157779-810c-4498-9e05-a1e9e3cedf93</td>\n",
       "      <td>yandex</td>\n",
       "      <td>5</td>\n",
       "      <td>1</td>\n",
       "      <td>search</td>\n",
       "      <td>photos_show</td>\n",
       "    </tr>\n",
       "    <tr>\n",
       "      <th>38</th>\n",
       "      <td>2019-10-19 21:40:38.990477</td>\n",
       "      <td>00157779-810c-4498-9e05-a1e9e3cedf93</td>\n",
       "      <td>yandex</td>\n",
       "      <td>5</td>\n",
       "      <td>2</td>\n",
       "      <td>photos_show</td>\n",
       "      <td>NaN</td>\n",
       "    </tr>\n",
       "    <tr>\n",
       "      <th>46</th>\n",
       "      <td>2019-10-20 19:03:02.030004</td>\n",
       "      <td>00157779-810c-4498-9e05-a1e9e3cedf93</td>\n",
       "      <td>yandex</td>\n",
       "      <td>6</td>\n",
       "      <td>1</td>\n",
       "      <td>favorites_add</td>\n",
       "      <td>contacts_show</td>\n",
       "    </tr>\n",
       "    <tr>\n",
       "      <th>50</th>\n",
       "      <td>2019-10-20 19:17:18.659799</td>\n",
       "      <td>00157779-810c-4498-9e05-a1e9e3cedf93</td>\n",
       "      <td>yandex</td>\n",
       "      <td>6</td>\n",
       "      <td>2</td>\n",
       "      <td>contacts_show</td>\n",
       "      <td>contacts_call</td>\n",
       "    </tr>\n",
       "  </tbody>\n",
       "</table>\n",
       "</div>"
      ],
      "text/plain": [
       "                   event_time                               user_id browser  \\\n",
       "9  2019-10-09 18:33:55.577963  0001b1d5-b74a-4cbf-aeb0-7df5947bf349  other    \n",
       "35 2019-10-19 21:34:33.849769  00157779-810c-4498-9e05-a1e9e3cedf93  yandex   \n",
       "38 2019-10-19 21:40:38.990477  00157779-810c-4498-9e05-a1e9e3cedf93  yandex   \n",
       "46 2019-10-20 19:03:02.030004  00157779-810c-4498-9e05-a1e9e3cedf93  yandex   \n",
       "50 2019-10-20 19:17:18.659799  00157779-810c-4498-9e05-a1e9e3cedf93  yandex   \n",
       "\n",
       "    session_id  step         source         target  \n",
       "9   2           1     map            NaN            \n",
       "35  5           1     search         photos_show    \n",
       "38  5           2     photos_show    NaN            \n",
       "46  6           1     favorites_add  contacts_show  \n",
       "50  6           2     contacts_show  contacts_call  "
      ]
     },
     "execution_count": 33,
     "metadata": {},
     "output_type": "execute_result"
    }
   ],
   "source": [
    "# функция определения source-target\n",
    "\n",
    "def add_features(df):   \n",
    "    \"\"\"Функция генерации новых столбцов для исходной таблицы\n",
    "    Args: df (pd.DataFrame): исходная таблица.\n",
    "    Returns: pd.DataFrame: таблица с новыми признаками.\n",
    "    \"\"\"\n",
    "    # cортируем по session_id и времени\n",
    "    sorted_df = df.sort_values(by=['session_id', 'event_time']).copy()\n",
    "    # добавляем шаги событий\n",
    "    sorted_df['step'] = sorted_df.groupby('session_id').cumcount() + 1\n",
    "    # добавляем узлы-источники и целевые узлы\n",
    "    # узлы-источники - это сами события\n",
    "    sorted_df['source'] = sorted_df['event_name']\n",
    "    # добавляем целевые узлы\n",
    "    sorted_df['target'] = sorted_df.groupby('session_id')['source'].shift(-1)\n",
    "    # возврат таблицы без имени событий\n",
    "    return sorted_df.drop(['event_name'], axis=1)\n",
    "table = add_features(script)\n",
    "table.head()"
   ]
  },
  {
   "cell_type": "code",
   "execution_count": 34,
   "metadata": {},
   "outputs": [],
   "source": [
    "# ограничение количества шагов на диаграмме\n",
    "df_comp = table[table['step'] <= 4].copy().reset_index(drop=True)"
   ]
  },
  {
   "cell_type": "code",
   "execution_count": 35,
   "metadata": {},
   "outputs": [],
   "source": [
    "# функция создания словаря с индексами source\n",
    "\n",
    "def get_source_index(df):\n",
    "    \n",
    "    \"\"\"Функция генерации индексов source\n",
    "    Args: df (pd.DataFrame): исходная таблица с признаками step, source, target.\n",
    "    Returns: dict: словарь с индексами, именами и соответствиями индексов именам source.\n",
    "    \"\"\"\n",
    "    \n",
    "    res_dict = {}\n",
    "    \n",
    "    count = 0\n",
    "    # получаем индексы источников\n",
    "    for no, step in enumerate(df['step'].unique().tolist()):\n",
    "        # получаем уникальные наименования для шага\n",
    "        res_dict[no+1] = {}\n",
    "        res_dict[no+1]['sources'] = df[df['step'] == step]['source'].unique().tolist()\n",
    "        res_dict[no+1]['sources_index'] = []\n",
    "        for i in range(len(res_dict[no+1]['sources'])):\n",
    "            res_dict[no+1]['sources_index'].append(count)\n",
    "            count += 1\n",
    "            \n",
    "    # соединим списки\n",
    "    for key in res_dict:\n",
    "        res_dict[key]['sources_dict'] = {}\n",
    "        for name, no in zip(res_dict[key]['sources'], res_dict[key]['sources_index']):\n",
    "            res_dict[key]['sources_dict'][name] = no\n",
    "    return res_dict\n",
    "  \n",
    "\n",
    "# создаем словарь\n",
    "source_indexes = get_source_index(df_comp)"
   ]
  },
  {
   "cell_type": "code",
   "execution_count": 36,
   "metadata": {},
   "outputs": [],
   "source": [
    "# Функция случайной генерации цветов\n",
    "\n",
    "def generate_random_color():\n",
    "    \n",
    "    \"\"\"Случайная генерация цветов rgba\n",
    "    Returns: str: Строка сгенерированных параметров цвета\n",
    "    \"\"\"\n",
    "    \n",
    "    # сгенерим значение для каждого канала\n",
    "    r, g, b = np.random.randint(255, size=3)\n",
    "    return f'rgba({r}, {g}, {b}, 1)'"
   ]
  },
  {
   "cell_type": "code",
   "execution_count": 37,
   "metadata": {},
   "outputs": [],
   "source": [
    "# Создание словаря с соответствиями source: color\n",
    "\n",
    "def colors_for_sources(mode):\n",
    "    \n",
    "    \"\"\"Генерация цветов rgba\n",
    "\n",
    "    Args:mode (str): сгенерировать случайные цвета, если 'random', a если 'custom' - \n",
    "                    использовать заранее подготовленные\n",
    "    Returns: dict: словарь c цветами, соответствующими каждому индексу\n",
    "    \"\"\"\n",
    "    # словарь, в который сложим цвета в соответствии с индексом\n",
    "    colors_dict = {}\n",
    "    \n",
    "    if mode == 'random':\n",
    "        # генерим случайные цвета\n",
    "        for label in df_comp['source'].unique():\n",
    "            r, g, b = np.random.randint(255, size=3)            \n",
    "            colors_dict[label] = f'rgba({r}, {g}, {b}, 1)'\n",
    "            \n",
    "    elif mode == 'custom':\n",
    "        # присваиваем ранее подготовленные цвета\n",
    "        colors = requests.get('https://raw.githubusercontent.com/rusantsovsv/senkey_tutorial/main/json/colors_senkey.json').json()\n",
    "        for no, label in enumerate(df_comp['source'].unique()):\n",
    "            colors_dict[label] = colors['custom_colors'][no]\n",
    "            \n",
    "    return colors_dict\n",
    "  \n",
    "  \n",
    "# генерю цвета из своего списка\n",
    "colors_dict = colors_for_sources(mode='custom')"
   ]
  },
  {
   "cell_type": "code",
   "execution_count": 38,
   "metadata": {},
   "outputs": [],
   "source": [
    "# Функция расчета количества уникальных пользователей в процентах\n",
    "\n",
    "def percent_users(sources, targets, values):\n",
    "    \n",
    "    \"\"\"\n",
    "    Расчет уникальных id в процентах (для вывода в hover text каждого узла)\n",
    "    \n",
    "    Args:\n",
    "        sources (list): список с индексами source.\n",
    "        targets (list): список с индексами target.\n",
    "        values (list): список с \"объемами\" потоков.\n",
    "        \n",
    "    Returns: list: список с \"объемами\" потоков в процентах\n",
    "    \"\"\"\n",
    "    \n",
    "    # объединим источники и метки и найдем пары\n",
    "    zip_lists = list(zip(sources, targets, values))\n",
    "    \n",
    "    new_list = []\n",
    "    \n",
    "    # подготовим список словарь с общим объемом трафика в узлах\n",
    "    unique_dict = {}\n",
    "    \n",
    "    # проходим по каждому узлу\n",
    "    for source, target, value in zip_lists:\n",
    "        if source not in unique_dict:\n",
    "            # находим все источники и считаем общий трафик\n",
    "            unique_dict[source] = 0\n",
    "            for sr, tg, vl in zip_lists:\n",
    "                if sr == source:\n",
    "                    unique_dict[source] += vl\n",
    "                    \n",
    "    # считаем проценты\n",
    "    for source, target, value in zip_lists:\n",
    "        new_list.append(round(100 * value / unique_dict[source], 1))\n",
    "    \n",
    "    return new_list"
   ]
  },
  {
   "cell_type": "code",
   "execution_count": 39,
   "metadata": {},
   "outputs": [
    {
     "name": "stderr",
     "output_type": "stream",
     "text": [
      "100%|██████████| 8/8 [00:00<00:00, 32.83it/s]\n",
      "100%|██████████| 8/8 [00:00<00:00, 61.78it/s]it/s]\n",
      "100%|██████████| 8/8 [00:00<00:00, 70.07it/s]it/s]\n",
      "Шаг: 100%|██████████| 4/4 [00:00<00:00,  7.99it/s]\n"
     ]
    }
   ],
   "source": [
    "# Функция создания словаря с данными для отрисовки диаграммы\n",
    "\n",
    "def lists_for_plot(source_indexes=source_indexes, colors=colors_dict, frac=1):\n",
    "    \n",
    "    \"\"\"\n",
    "    Создаем необходимые для отрисовки диаграммы переменные списков и возвращаем\n",
    "    их в виде словаря\n",
    "    \n",
    "    Args:\n",
    "        source_indexes (dict): словарь с именами и индексами source.\n",
    "        colors (dict): словарь с цветами source.\n",
    "        frac (int): ограничение на минимальный \"объем\" между узлами.\n",
    "        \n",
    "    Returns: dict: словарь со списками, необходимыми для диаграммы.\n",
    "    \"\"\"\n",
    "    \n",
    "    sources = []\n",
    "    targets = []\n",
    "    values = []\n",
    "    labels = []\n",
    "    link_color = []\n",
    "    link_text = []\n",
    "\n",
    "    # проходим по каждому шагу\n",
    "    for step in tqdm(sorted(df_comp['step'].unique()), desc='Шаг'):\n",
    "        if step + 1 not in source_indexes:\n",
    "            continue\n",
    "\n",
    "        # получаем индекс источника\n",
    "        temp_dict_source = source_indexes[step]['sources_dict']\n",
    "\n",
    "        # получаем индексы цели\n",
    "        temp_dict_target = source_indexes[step+1]['sources_dict']\n",
    "\n",
    "        # проходим по каждой возможной паре, считаем количество таких пар\n",
    "        for source, index_source in tqdm(temp_dict_source.items()):\n",
    "            for target, index_target in temp_dict_target.items():\n",
    "                # делаем срез данных и считаем количество id            \n",
    "                temp_df = df_comp[(df_comp['step'] == step)&(df_comp['source'] == source)&(df_comp['target'] == target)]\n",
    "                value = len(temp_df)\n",
    "                # проверяем минимальный объем потока и добавляем нужные данные\n",
    "                if value > frac:\n",
    "                    sources.append(index_source)\n",
    "                    targets.append(index_target)\n",
    "                    values.append(value)\n",
    "                    # делаем поток прозрачным для лучшего отображения\n",
    "                    link_color.append(colors[source].replace(', 1)', ', 0.2)'))\n",
    "                    \n",
    "    labels = []\n",
    "    colors_labels = []\n",
    "    for key in source_indexes:\n",
    "        for name in source_indexes[key]['sources']:\n",
    "            labels.append(name)\n",
    "            colors_labels.append(colors[name])\n",
    "            \n",
    "    # посчитаем проценты всех потоков\n",
    "    perc_values = percent_users(sources, targets, values)\n",
    "    \n",
    "    # добавим значения процентов для howertext\n",
    "    link_text = []\n",
    "    for perc in perc_values:\n",
    "        link_text.append(f\"{perc}%\")\n",
    "    \n",
    "    # возвратим словарь с вложенными списками\n",
    "    return {'sources': sources, \n",
    "            'targets': targets, \n",
    "            'values': values, \n",
    "            'labels': labels, \n",
    "            'colors_labels': colors_labels, \n",
    "            'link_color': link_color, \n",
    "            'link_text': link_text}\n",
    "  \n",
    "\n",
    "# создаем словарь\n",
    "data_for_plot = lists_for_plot()"
   ]
  },
  {
   "cell_type": "code",
   "execution_count": 40,
   "metadata": {},
   "outputs": [],
   "source": [
    "# Функция создание объекта диаграммы\n",
    "\n",
    "def plot_senkey_diagram(data_dict=data_for_plot):    \n",
    "    \n",
    "    \"\"\"\n",
    "    Функция для генерации объекта диаграммы Санкей \n",
    "    \n",
    "    Args: data_dict (dict): словарь со списками данных для построения.   \n",
    "    \n",
    "    Returns: plotly.graph_objs._figure.Figure: объект изображения.\n",
    "    \"\"\"\n",
    "    \n",
    "    fig = go.Figure(data=[go.Sankey(\n",
    "        domain = dict(\n",
    "          x =  [0,1],\n",
    "          y =  [0,1]\n",
    "        ),\n",
    "        orientation = \"h\",\n",
    "        valueformat = \".0f\",\n",
    "        node = dict(\n",
    "          pad = 50,\n",
    "          thickness = 15,\n",
    "          line = dict(color = \"black\", width = 0.1),\n",
    "          label = data_dict['labels'],\n",
    "          color = data_dict['colors_labels']\n",
    "        ),\n",
    "        link = dict(\n",
    "          source = data_dict['sources'],\n",
    "          target = data_dict['targets'],\n",
    "          value = data_dict['values'],\n",
    "          label = data_dict['link_text'],\n",
    "          color = data_dict['link_color']\n",
    "      ))])\n",
    "    fig.update_layout(title_text=\"Диаграмма Sankey для пользовательских сценариев \", font_size=15, width=980, height=800)\n",
    "    \n",
    "    # возвращаем объект диаграммы\n",
    "    return fig\n",
    "  \n",
    "\n",
    "# сохраняем диаграмму в переменную\n",
    "senkey_diagram = plot_senkey_diagram()"
   ]
  },
  {
   "cell_type": "code",
   "execution_count": 41,
   "metadata": {},
   "outputs": [
    {
     "data": {
      "application/vnd.plotly.v1+json": {
       "config": {
        "plotlyServerURL": "https://plot.ly"
       },
       "data": [
        {
         "domain": {
          "x": [
           0,
           1
          ],
          "y": [
           0,
           1
          ]
         },
         "link": {
          "color": [
           "rgba(42, 157, 143, 0.2)",
           "rgba(42, 157, 143, 0.2)",
           "rgba(42, 157, 143, 0.2)",
           "rgba(42, 157, 143, 0.2)",
           "rgba(42, 157, 143, 0.2)",
           "rgba(38, 70, 83, 0.2)",
           "rgba(38, 70, 83, 0.2)",
           "rgba(38, 70, 83, 0.2)",
           "rgba(38, 70, 83, 0.2)",
           "rgba(38, 70, 83, 0.2)",
           "rgba(38, 70, 83, 0.2)",
           "rgba(38, 70, 83, 0.2)",
           "rgba(244, 162, 97, 0.2)",
           "rgba(244, 162, 97, 0.2)",
           "rgba(244, 162, 97, 0.2)",
           "rgba(244, 162, 97, 0.2)",
           "rgba(244, 162, 97, 0.2)",
           "rgba(168, 218, 220, 0.2)",
           "rgba(168, 218, 220, 0.2)",
           "rgba(168, 218, 220, 0.2)",
           "rgba(168, 218, 220, 0.2)",
           "rgba(168, 218, 220, 0.2)",
           "rgba(233, 196, 106, 0.2)",
           "rgba(233, 196, 106, 0.2)",
           "rgba(233, 196, 106, 0.2)",
           "rgba(231, 111, 81, 0.2)",
           "rgba(231, 111, 81, 0.2)",
           "rgba(231, 111, 81, 0.2)",
           "rgba(231, 111, 81, 0.2)",
           "rgba(231, 111, 81, 0.2)",
           "rgba(231, 111, 81, 0.2)",
           "rgba(231, 111, 81, 0.2)",
           "rgba(69, 123, 157, 0.2)",
           "rgba(69, 123, 157, 0.2)",
           "rgba(69, 123, 157, 0.2)",
           "rgba(69, 123, 157, 0.2)",
           "rgba(69, 123, 157, 0.2)",
           "rgba(230, 57, 70, 0.2)",
           "rgba(233, 196, 106, 0.2)",
           "rgba(233, 196, 106, 0.2)",
           "rgba(233, 196, 106, 0.2)",
           "rgba(233, 196, 106, 0.2)",
           "rgba(231, 111, 81, 0.2)",
           "rgba(231, 111, 81, 0.2)",
           "rgba(231, 111, 81, 0.2)",
           "rgba(231, 111, 81, 0.2)",
           "rgba(231, 111, 81, 0.2)",
           "rgba(231, 111, 81, 0.2)",
           "rgba(231, 111, 81, 0.2)",
           "rgba(42, 157, 143, 0.2)",
           "rgba(42, 157, 143, 0.2)",
           "rgba(42, 157, 143, 0.2)",
           "rgba(230, 57, 70, 0.2)",
           "rgba(230, 57, 70, 0.2)",
           "rgba(230, 57, 70, 0.2)",
           "rgba(38, 70, 83, 0.2)",
           "rgba(38, 70, 83, 0.2)",
           "rgba(38, 70, 83, 0.2)",
           "rgba(38, 70, 83, 0.2)",
           "rgba(38, 70, 83, 0.2)",
           "rgba(38, 70, 83, 0.2)",
           "rgba(38, 70, 83, 0.2)",
           "rgba(168, 218, 220, 0.2)",
           "rgba(168, 218, 220, 0.2)",
           "rgba(168, 218, 220, 0.2)",
           "rgba(168, 218, 220, 0.2)",
           "rgba(244, 162, 97, 0.2)",
           "rgba(244, 162, 97, 0.2)",
           "rgba(244, 162, 97, 0.2)",
           "rgba(244, 162, 97, 0.2)",
           "rgba(244, 162, 97, 0.2)",
           "rgba(69, 123, 157, 0.2)",
           "rgba(230, 57, 70, 0.2)",
           "rgba(168, 218, 220, 0.2)",
           "rgba(168, 218, 220, 0.2)",
           "rgba(168, 218, 220, 0.2)",
           "rgba(168, 218, 220, 0.2)",
           "rgba(69, 123, 157, 0.2)",
           "rgba(38, 70, 83, 0.2)",
           "rgba(38, 70, 83, 0.2)",
           "rgba(231, 111, 81, 0.2)",
           "rgba(231, 111, 81, 0.2)",
           "rgba(233, 196, 106, 0.2)",
           "rgba(244, 162, 97, 0.2)",
           "rgba(244, 162, 97, 0.2)",
           "rgba(244, 162, 97, 0.2)"
          ],
          "label": [
           "18.7%",
           "16.6%",
           "55.9%",
           "3.6%",
           "5.3%",
           "43.9%",
           "10.5%",
           "30.4%",
           "0.4%",
           "5.8%",
           "7.3%",
           "1.6%",
           "34.0%",
           "32.0%",
           "4.0%",
           "12.0%",
           "18.0%",
           "7.8%",
           "15.7%",
           "33.3%",
           "37.3%",
           "5.9%",
           "39.1%",
           "40.4%",
           "20.5%",
           "7.4%",
           "12.3%",
           "55.9%",
           "5.9%",
           "1.0%",
           "7.8%",
           "9.8%",
           "37.1%",
           "28.6%",
           "8.6%",
           "11.4%",
           "14.3%",
           "100.0%",
           "3.7%",
           "3.7%",
           "57.4%",
           "35.2%",
           "51.6%",
           "4.7%",
           "4.7%",
           "9.4%",
           "17.2%",
           "9.4%",
           "3.1%",
           "78.3%",
           "12.0%",
           "9.6%",
           "23.5%",
           "52.9%",
           "23.5%",
           "2.4%",
           "65.9%",
           "2.4%",
           "12.2%",
           "3.7%",
           "8.5%",
           "4.9%",
           "13.6%",
           "50.0%",
           "27.3%",
           "9.1%",
           "30.6%",
           "5.6%",
           "8.3%",
           "27.8%",
           "27.8%",
           "100.0%",
           "100.0%",
           "14.3%",
           "50.0%",
           "21.4%",
           "14.3%",
           "100.0%",
           "60.0%",
           "40.0%",
           "85.7%",
           "14.3%",
           "100.0%",
           "33.3%",
           "33.3%",
           "33.3%"
          ],
          "source": [
           0,
           0,
           0,
           0,
           0,
           1,
           1,
           1,
           1,
           1,
           1,
           1,
           2,
           2,
           2,
           2,
           2,
           3,
           3,
           3,
           3,
           3,
           4,
           4,
           4,
           5,
           5,
           5,
           5,
           5,
           5,
           5,
           6,
           6,
           6,
           6,
           6,
           7,
           8,
           8,
           8,
           8,
           9,
           9,
           9,
           9,
           9,
           9,
           9,
           10,
           10,
           10,
           11,
           11,
           11,
           12,
           12,
           12,
           12,
           12,
           12,
           12,
           13,
           13,
           13,
           13,
           14,
           14,
           14,
           14,
           14,
           15,
           16,
           17,
           17,
           17,
           17,
           18,
           19,
           19,
           20,
           20,
           21,
           22,
           22,
           22
          ],
          "target": [
           9,
           12,
           13,
           14,
           15,
           8,
           9,
           10,
           11,
           13,
           14,
           15,
           8,
           9,
           10,
           12,
           13,
           8,
           9,
           10,
           12,
           15,
           9,
           12,
           14,
           8,
           10,
           11,
           12,
           13,
           14,
           15,
           9,
           10,
           12,
           13,
           14,
           8,
           17,
           19,
           20,
           22,
           16,
           17,
           18,
           19,
           21,
           22,
           23,
           17,
           18,
           20,
           19,
           21,
           22,
           16,
           17,
           18,
           20,
           21,
           22,
           23,
           18,
           19,
           20,
           22,
           17,
           18,
           19,
           20,
           21,
           23,
           29,
           26,
           27,
           29,
           30,
           24,
           26,
           30,
           25,
           28,
           25,
           24,
           27,
           30
          ],
          "value": [
           89,
           79,
           266,
           17,
           25,
           296,
           71,
           205,
           3,
           39,
           49,
           11,
           17,
           16,
           2,
           6,
           9,
           4,
           8,
           17,
           19,
           3,
           59,
           61,
           31,
           15,
           25,
           114,
           12,
           2,
           16,
           20,
           13,
           10,
           3,
           4,
           5,
           2,
           2,
           2,
           31,
           19,
           33,
           3,
           3,
           6,
           11,
           6,
           2,
           65,
           10,
           8,
           4,
           9,
           4,
           2,
           54,
           2,
           10,
           3,
           7,
           4,
           6,
           22,
           12,
           4,
           11,
           2,
           3,
           10,
           10,
           2,
           2,
           2,
           7,
           3,
           2,
           3,
           3,
           2,
           12,
           2,
           2,
           2,
           2,
           2
          ]
         },
         "node": {
          "color": [
           "rgba(42, 157, 143, 1)",
           "rgba(38, 70, 83, 1)",
           "rgba(244, 162, 97, 1)",
           "rgba(168, 218, 220, 1)",
           "rgba(233, 196, 106, 1)",
           "rgba(231, 111, 81, 1)",
           "rgba(69, 123, 157, 1)",
           "rgba(230, 57, 70, 1)",
           "rgba(233, 196, 106, 1)",
           "rgba(231, 111, 81, 1)",
           "rgba(42, 157, 143, 1)",
           "rgba(230, 57, 70, 1)",
           "rgba(38, 70, 83, 1)",
           "rgba(168, 218, 220, 1)",
           "rgba(244, 162, 97, 1)",
           "rgba(69, 123, 157, 1)",
           "rgba(230, 57, 70, 1)",
           "rgba(168, 218, 220, 1)",
           "rgba(69, 123, 157, 1)",
           "rgba(38, 70, 83, 1)",
           "rgba(231, 111, 81, 1)",
           "rgba(233, 196, 106, 1)",
           "rgba(244, 162, 97, 1)",
           "rgba(42, 157, 143, 1)",
           "rgba(168, 218, 220, 1)",
           "rgba(230, 57, 70, 1)",
           "rgba(69, 123, 157, 1)",
           "rgba(231, 111, 81, 1)",
           "rgba(244, 162, 97, 1)",
           "rgba(38, 70, 83, 1)",
           "rgba(233, 196, 106, 1)",
           "rgba(42, 157, 143, 1)"
          ],
          "label": [
           "map",
           "search",
           "favorites_add",
           "advert_open",
           "photos_show",
           "contacts_show",
           "tips_click",
           "contacts_call",
           "photos_show",
           "contacts_show",
           "map",
           "contacts_call",
           "search",
           "advert_open",
           "favorites_add",
           "tips_click",
           "contacts_call",
           "advert_open",
           "tips_click",
           "search",
           "contacts_show",
           "photos_show",
           "favorites_add",
           "map",
           "advert_open",
           "contacts_call",
           "tips_click",
           "contacts_show",
           "favorites_add",
           "search",
           "photos_show",
           "map"
          ],
          "line": {
           "color": "black",
           "width": 0.1
          },
          "pad": 50,
          "thickness": 15
         },
         "orientation": "h",
         "type": "sankey",
         "valueformat": ".0f"
        }
       ],
       "layout": {
        "font": {
         "size": 15
        },
        "height": 800,
        "template": {
         "data": {
          "bar": [
           {
            "error_x": {
             "color": "#2a3f5f"
            },
            "error_y": {
             "color": "#2a3f5f"
            },
            "marker": {
             "line": {
              "color": "#E5ECF6",
              "width": 0.5
             },
             "pattern": {
              "fillmode": "overlay",
              "size": 10,
              "solidity": 0.2
             }
            },
            "type": "bar"
           }
          ],
          "barpolar": [
           {
            "marker": {
             "line": {
              "color": "#E5ECF6",
              "width": 0.5
             },
             "pattern": {
              "fillmode": "overlay",
              "size": 10,
              "solidity": 0.2
             }
            },
            "type": "barpolar"
           }
          ],
          "carpet": [
           {
            "aaxis": {
             "endlinecolor": "#2a3f5f",
             "gridcolor": "white",
             "linecolor": "white",
             "minorgridcolor": "white",
             "startlinecolor": "#2a3f5f"
            },
            "baxis": {
             "endlinecolor": "#2a3f5f",
             "gridcolor": "white",
             "linecolor": "white",
             "minorgridcolor": "white",
             "startlinecolor": "#2a3f5f"
            },
            "type": "carpet"
           }
          ],
          "choropleth": [
           {
            "colorbar": {
             "outlinewidth": 0,
             "ticks": ""
            },
            "type": "choropleth"
           }
          ],
          "contour": [
           {
            "colorbar": {
             "outlinewidth": 0,
             "ticks": ""
            },
            "colorscale": [
             [
              0,
              "#0d0887"
             ],
             [
              0.1111111111111111,
              "#46039f"
             ],
             [
              0.2222222222222222,
              "#7201a8"
             ],
             [
              0.3333333333333333,
              "#9c179e"
             ],
             [
              0.4444444444444444,
              "#bd3786"
             ],
             [
              0.5555555555555556,
              "#d8576b"
             ],
             [
              0.6666666666666666,
              "#ed7953"
             ],
             [
              0.7777777777777778,
              "#fb9f3a"
             ],
             [
              0.8888888888888888,
              "#fdca26"
             ],
             [
              1,
              "#f0f921"
             ]
            ],
            "type": "contour"
           }
          ],
          "contourcarpet": [
           {
            "colorbar": {
             "outlinewidth": 0,
             "ticks": ""
            },
            "type": "contourcarpet"
           }
          ],
          "heatmap": [
           {
            "colorbar": {
             "outlinewidth": 0,
             "ticks": ""
            },
            "colorscale": [
             [
              0,
              "#0d0887"
             ],
             [
              0.1111111111111111,
              "#46039f"
             ],
             [
              0.2222222222222222,
              "#7201a8"
             ],
             [
              0.3333333333333333,
              "#9c179e"
             ],
             [
              0.4444444444444444,
              "#bd3786"
             ],
             [
              0.5555555555555556,
              "#d8576b"
             ],
             [
              0.6666666666666666,
              "#ed7953"
             ],
             [
              0.7777777777777778,
              "#fb9f3a"
             ],
             [
              0.8888888888888888,
              "#fdca26"
             ],
             [
              1,
              "#f0f921"
             ]
            ],
            "type": "heatmap"
           }
          ],
          "heatmapgl": [
           {
            "colorbar": {
             "outlinewidth": 0,
             "ticks": ""
            },
            "colorscale": [
             [
              0,
              "#0d0887"
             ],
             [
              0.1111111111111111,
              "#46039f"
             ],
             [
              0.2222222222222222,
              "#7201a8"
             ],
             [
              0.3333333333333333,
              "#9c179e"
             ],
             [
              0.4444444444444444,
              "#bd3786"
             ],
             [
              0.5555555555555556,
              "#d8576b"
             ],
             [
              0.6666666666666666,
              "#ed7953"
             ],
             [
              0.7777777777777778,
              "#fb9f3a"
             ],
             [
              0.8888888888888888,
              "#fdca26"
             ],
             [
              1,
              "#f0f921"
             ]
            ],
            "type": "heatmapgl"
           }
          ],
          "histogram": [
           {
            "marker": {
             "pattern": {
              "fillmode": "overlay",
              "size": 10,
              "solidity": 0.2
             }
            },
            "type": "histogram"
           }
          ],
          "histogram2d": [
           {
            "colorbar": {
             "outlinewidth": 0,
             "ticks": ""
            },
            "colorscale": [
             [
              0,
              "#0d0887"
             ],
             [
              0.1111111111111111,
              "#46039f"
             ],
             [
              0.2222222222222222,
              "#7201a8"
             ],
             [
              0.3333333333333333,
              "#9c179e"
             ],
             [
              0.4444444444444444,
              "#bd3786"
             ],
             [
              0.5555555555555556,
              "#d8576b"
             ],
             [
              0.6666666666666666,
              "#ed7953"
             ],
             [
              0.7777777777777778,
              "#fb9f3a"
             ],
             [
              0.8888888888888888,
              "#fdca26"
             ],
             [
              1,
              "#f0f921"
             ]
            ],
            "type": "histogram2d"
           }
          ],
          "histogram2dcontour": [
           {
            "colorbar": {
             "outlinewidth": 0,
             "ticks": ""
            },
            "colorscale": [
             [
              0,
              "#0d0887"
             ],
             [
              0.1111111111111111,
              "#46039f"
             ],
             [
              0.2222222222222222,
              "#7201a8"
             ],
             [
              0.3333333333333333,
              "#9c179e"
             ],
             [
              0.4444444444444444,
              "#bd3786"
             ],
             [
              0.5555555555555556,
              "#d8576b"
             ],
             [
              0.6666666666666666,
              "#ed7953"
             ],
             [
              0.7777777777777778,
              "#fb9f3a"
             ],
             [
              0.8888888888888888,
              "#fdca26"
             ],
             [
              1,
              "#f0f921"
             ]
            ],
            "type": "histogram2dcontour"
           }
          ],
          "mesh3d": [
           {
            "colorbar": {
             "outlinewidth": 0,
             "ticks": ""
            },
            "type": "mesh3d"
           }
          ],
          "parcoords": [
           {
            "line": {
             "colorbar": {
              "outlinewidth": 0,
              "ticks": ""
             }
            },
            "type": "parcoords"
           }
          ],
          "pie": [
           {
            "automargin": true,
            "type": "pie"
           }
          ],
          "scatter": [
           {
            "fillpattern": {
             "fillmode": "overlay",
             "size": 10,
             "solidity": 0.2
            },
            "type": "scatter"
           }
          ],
          "scatter3d": [
           {
            "line": {
             "colorbar": {
              "outlinewidth": 0,
              "ticks": ""
             }
            },
            "marker": {
             "colorbar": {
              "outlinewidth": 0,
              "ticks": ""
             }
            },
            "type": "scatter3d"
           }
          ],
          "scattercarpet": [
           {
            "marker": {
             "colorbar": {
              "outlinewidth": 0,
              "ticks": ""
             }
            },
            "type": "scattercarpet"
           }
          ],
          "scattergeo": [
           {
            "marker": {
             "colorbar": {
              "outlinewidth": 0,
              "ticks": ""
             }
            },
            "type": "scattergeo"
           }
          ],
          "scattergl": [
           {
            "marker": {
             "colorbar": {
              "outlinewidth": 0,
              "ticks": ""
             }
            },
            "type": "scattergl"
           }
          ],
          "scattermapbox": [
           {
            "marker": {
             "colorbar": {
              "outlinewidth": 0,
              "ticks": ""
             }
            },
            "type": "scattermapbox"
           }
          ],
          "scatterpolar": [
           {
            "marker": {
             "colorbar": {
              "outlinewidth": 0,
              "ticks": ""
             }
            },
            "type": "scatterpolar"
           }
          ],
          "scatterpolargl": [
           {
            "marker": {
             "colorbar": {
              "outlinewidth": 0,
              "ticks": ""
             }
            },
            "type": "scatterpolargl"
           }
          ],
          "scatterternary": [
           {
            "marker": {
             "colorbar": {
              "outlinewidth": 0,
              "ticks": ""
             }
            },
            "type": "scatterternary"
           }
          ],
          "surface": [
           {
            "colorbar": {
             "outlinewidth": 0,
             "ticks": ""
            },
            "colorscale": [
             [
              0,
              "#0d0887"
             ],
             [
              0.1111111111111111,
              "#46039f"
             ],
             [
              0.2222222222222222,
              "#7201a8"
             ],
             [
              0.3333333333333333,
              "#9c179e"
             ],
             [
              0.4444444444444444,
              "#bd3786"
             ],
             [
              0.5555555555555556,
              "#d8576b"
             ],
             [
              0.6666666666666666,
              "#ed7953"
             ],
             [
              0.7777777777777778,
              "#fb9f3a"
             ],
             [
              0.8888888888888888,
              "#fdca26"
             ],
             [
              1,
              "#f0f921"
             ]
            ],
            "type": "surface"
           }
          ],
          "table": [
           {
            "cells": {
             "fill": {
              "color": "#EBF0F8"
             },
             "line": {
              "color": "white"
             }
            },
            "header": {
             "fill": {
              "color": "#C8D4E3"
             },
             "line": {
              "color": "white"
             }
            },
            "type": "table"
           }
          ]
         },
         "layout": {
          "annotationdefaults": {
           "arrowcolor": "#2a3f5f",
           "arrowhead": 0,
           "arrowwidth": 1
          },
          "autotypenumbers": "strict",
          "coloraxis": {
           "colorbar": {
            "outlinewidth": 0,
            "ticks": ""
           }
          },
          "colorscale": {
           "diverging": [
            [
             0,
             "#8e0152"
            ],
            [
             0.1,
             "#c51b7d"
            ],
            [
             0.2,
             "#de77ae"
            ],
            [
             0.3,
             "#f1b6da"
            ],
            [
             0.4,
             "#fde0ef"
            ],
            [
             0.5,
             "#f7f7f7"
            ],
            [
             0.6,
             "#e6f5d0"
            ],
            [
             0.7,
             "#b8e186"
            ],
            [
             0.8,
             "#7fbc41"
            ],
            [
             0.9,
             "#4d9221"
            ],
            [
             1,
             "#276419"
            ]
           ],
           "sequential": [
            [
             0,
             "#0d0887"
            ],
            [
             0.1111111111111111,
             "#46039f"
            ],
            [
             0.2222222222222222,
             "#7201a8"
            ],
            [
             0.3333333333333333,
             "#9c179e"
            ],
            [
             0.4444444444444444,
             "#bd3786"
            ],
            [
             0.5555555555555556,
             "#d8576b"
            ],
            [
             0.6666666666666666,
             "#ed7953"
            ],
            [
             0.7777777777777778,
             "#fb9f3a"
            ],
            [
             0.8888888888888888,
             "#fdca26"
            ],
            [
             1,
             "#f0f921"
            ]
           ],
           "sequentialminus": [
            [
             0,
             "#0d0887"
            ],
            [
             0.1111111111111111,
             "#46039f"
            ],
            [
             0.2222222222222222,
             "#7201a8"
            ],
            [
             0.3333333333333333,
             "#9c179e"
            ],
            [
             0.4444444444444444,
             "#bd3786"
            ],
            [
             0.5555555555555556,
             "#d8576b"
            ],
            [
             0.6666666666666666,
             "#ed7953"
            ],
            [
             0.7777777777777778,
             "#fb9f3a"
            ],
            [
             0.8888888888888888,
             "#fdca26"
            ],
            [
             1,
             "#f0f921"
            ]
           ]
          },
          "colorway": [
           "#636efa",
           "#EF553B",
           "#00cc96",
           "#ab63fa",
           "#FFA15A",
           "#19d3f3",
           "#FF6692",
           "#B6E880",
           "#FF97FF",
           "#FECB52"
          ],
          "font": {
           "color": "#2a3f5f"
          },
          "geo": {
           "bgcolor": "white",
           "lakecolor": "white",
           "landcolor": "#E5ECF6",
           "showlakes": true,
           "showland": true,
           "subunitcolor": "white"
          },
          "hoverlabel": {
           "align": "left"
          },
          "hovermode": "closest",
          "mapbox": {
           "style": "light"
          },
          "paper_bgcolor": "white",
          "plot_bgcolor": "#E5ECF6",
          "polar": {
           "angularaxis": {
            "gridcolor": "white",
            "linecolor": "white",
            "ticks": ""
           },
           "bgcolor": "#E5ECF6",
           "radialaxis": {
            "gridcolor": "white",
            "linecolor": "white",
            "ticks": ""
           }
          },
          "scene": {
           "xaxis": {
            "backgroundcolor": "#E5ECF6",
            "gridcolor": "white",
            "gridwidth": 2,
            "linecolor": "white",
            "showbackground": true,
            "ticks": "",
            "zerolinecolor": "white"
           },
           "yaxis": {
            "backgroundcolor": "#E5ECF6",
            "gridcolor": "white",
            "gridwidth": 2,
            "linecolor": "white",
            "showbackground": true,
            "ticks": "",
            "zerolinecolor": "white"
           },
           "zaxis": {
            "backgroundcolor": "#E5ECF6",
            "gridcolor": "white",
            "gridwidth": 2,
            "linecolor": "white",
            "showbackground": true,
            "ticks": "",
            "zerolinecolor": "white"
           }
          },
          "shapedefaults": {
           "line": {
            "color": "#2a3f5f"
           }
          },
          "ternary": {
           "aaxis": {
            "gridcolor": "white",
            "linecolor": "white",
            "ticks": ""
           },
           "baxis": {
            "gridcolor": "white",
            "linecolor": "white",
            "ticks": ""
           },
           "bgcolor": "#E5ECF6",
           "caxis": {
            "gridcolor": "white",
            "linecolor": "white",
            "ticks": ""
           }
          },
          "title": {
           "x": 0.05
          },
          "xaxis": {
           "automargin": true,
           "gridcolor": "white",
           "linecolor": "white",
           "ticks": "",
           "title": {
            "standoff": 15
           },
           "zerolinecolor": "white",
           "zerolinewidth": 2
          },
          "yaxis": {
           "automargin": true,
           "gridcolor": "white",
           "linecolor": "white",
           "ticks": "",
           "title": {
            "standoff": 15
           },
           "zerolinecolor": "white",
           "zerolinewidth": 2
          }
         }
        },
        "title": {
         "text": "Диаграмма Sankey для пользовательских сценариев "
        },
        "width": 980
       }
      }
     },
     "metadata": {},
     "output_type": "display_data"
    }
   ],
   "source": [
    "# Создаём диаграмму\n",
    "senkey_diagram.show()"
   ]
  },
  {
   "cell_type": "code",
   "execution_count": 42,
   "metadata": {},
   "outputs": [],
   "source": [
    "# открытие диаграммы в браузере\n",
    "# senkey_diagram.write_html('demo_senkey.html', auto_open=True)"
   ]
  },
  {
   "cell_type": "markdown",
   "metadata": {},
   "source": [
    "**Вывод**  \n",
    "\n",
    "Диаграмма Санкея даёт наглядное представления о распределение основных сценариев поведения пользователей.  \n",
    "Нас интересуют сценарии, имеющие 2 и более шагов до целевого события (ЦС) -  contacts_show.  \n",
    " \n",
    "Как показывает диаграмма мы можем выбрать следующие сценарии для анализа:\n",
    "\n",
    "Сценарий 1. **search -> photos_show -> contacts_show** (поиск по сайту => просмотрел фотографии в объявлении => посмотрел номер телефона)  \n",
    "\n",
    "Сценарий 2. **map -> advert_open -> contacts_show** (открыл карту объявлений => открыл карточку объявления => посмотрел номер телефона)  \n",
    "\n",
    "Сценарий 3. **map -> search -> contacts_show** (открыл карту объявлений => поиск => посмотрел номер телефона)  \n",
    "\n",
    "Сценарий 4. **search -> map -> contacts_show** ( поиск => открыл карту объявлений => посмотрел номер телефона)  "
   ]
  },
  {
   "cell_type": "markdown",
   "metadata": {},
   "source": [
    "### Расчёт конверсий и  воронок сценариев"
   ]
  },
  {
   "cell_type": "markdown",
   "metadata": {},
   "source": [
    "В расчетах мы используем параметр `step_interval`, который обозначает временной интервал между окончанием первого и второго события. Мы уже рассчитали, что медианное время длительности сессий 4.3 минуты, поэтому для расчёта возьмём интервал равный 5 минутам."
   ]
  },
  {
   "cell_type": "code",
   "execution_count": 43,
   "metadata": {},
   "outputs": [],
   "source": [
    "# Функция расчёта количества пользователей на этапах сценария в зависимости от продолжительности совершения событий\n",
    "\n",
    "def create_funnel_df(df, steps, from_date=None, to_date=None, step_interval=pd.Timedelta(5, \"m\")):\n",
    "    \"\"\"\n",
    "    Function used to create a dataframe that can be passed to functions for generating funnel plots\n",
    "\n",
    "    :param df: (pd.DataFrame)\n",
    "                    events df having 'distinct_id' and 'name' columns\n",
    "\n",
    "    :param steps: (list)\n",
    "                    list containing funnel steps as strings\n",
    "\n",
    "    :param from_date: (str)\n",
    "                    date with format \"yyyy-mm-dd\"\n",
    "\n",
    "    :param to_date: (str)\n",
    "                    date with format \"yyyy-mm-dd\"\n",
    "\n",
    "    :param step_interval: (pd.Timedelta)\n",
    "                    for more info:\n",
    "                    https://pandas.pydata.org/pandas-docs/version/0.23.4/generated/pandas.Timedelta.html\n",
    "\n",
    "    :return: (pd.DataFrame)\n",
    "                df with 'step', 'val', 'pct', 'val-1' columns\n",
    "    \"\"\"\n",
    "    assert isinstance(steps, list), '\"steps\" should be a list of strings'\n",
    "\n",
    "    if step_interval != 0:\n",
    "        assert isinstance(step_interval, pd.Timedelta), \\\n",
    "            '\"step_interval\" should be a valid pd.Timedelta object. For more info visit:' \\\n",
    "            'https://pandas.pydata.org/pandas-docs/version/0.23.4/generated/pandas.Timedelta.html'\n",
    "\n",
    "    # filter df for only events in the steps list\n",
    "    df = df[['distinct_id', 'name', 'time']]\n",
    "    df = df[df['name'].isin(steps)]\n",
    "\n",
    "    values = []\n",
    "    # create a dict to hold the filtered dataframe of each step\n",
    "    dfs = {}\n",
    "    # for each step, create a df and filter only for that step\n",
    "    for i, step in enumerate(steps):\n",
    "        if i == 0:\n",
    "\n",
    "            # filter for users that did the 1st event and find the minimum time\n",
    "            dfs[step] = df[df['name'] == step] \\\n",
    "                .sort_values(['distinct_id', 'time'], ascending=True) \\\n",
    "                .drop_duplicates(subset=['distinct_id', 'name'], keep='first')\n",
    "\n",
    "            # filter df of 1st step according to dates\n",
    "            # this will allow the 1st step to have started during the defined period\n",
    "            # but subsequent steps are allowed to occur at a later date so that the funnel\n",
    "            # is not penalised unfairly\n",
    "            if from_date:\n",
    "                dfs[step] = dfs[step][(dfs[step]['time'] >= from_date)]\n",
    "\n",
    "            if to_date:\n",
    "                dfs[step] = dfs[step][(dfs[step]['time'] <= to_date)]\n",
    "\n",
    "        else:\n",
    "            # filter for specific event\n",
    "            dfs[step] = df[df['name'] == step]\n",
    "\n",
    "            # left join with previous step\n",
    "            # this ensures only rows for which the distinct_ids appear in the previous step\n",
    "            merged = pd.merge(dfs[steps[i - 1]], dfs[step], on='distinct_id', how='left')\n",
    "\n",
    "            # keep only events that happened after previous step and sort by time\n",
    "            merged = merged[merged['time_y'] >=\n",
    "                            (merged['time_x'] + step_interval)].sort_values('time_y', ascending=True)\n",
    "\n",
    "            # take the minimum time of the valid ones for each user\n",
    "            merged = merged.drop_duplicates(subset=['distinct_id', 'name_x', 'name_y'], keep='first')\n",
    "\n",
    "            # keep only the necessary columns and rename them to match the original structure\n",
    "            merged = merged[['distinct_id', 'name_y', 'time_y']].rename({'name_y': 'name',\n",
    "                                                                         'time_y': 'time'}, axis=1)\n",
    "\n",
    "            # include the df in the df dictionary so that it can be joined to the next step's df\n",
    "            dfs[step] = merged\n",
    "\n",
    "        # append number of users to the \"values\" list\n",
    "        values.append(len(dfs[step]))\n",
    "\n",
    "    # create dataframe\n",
    "    funnel_df = pd.DataFrame({'step': steps, 'val': values})\n",
    "    return funnel_df"
   ]
  },
  {
   "cell_type": "code",
   "execution_count": 44,
   "metadata": {},
   "outputs": [],
   "source": [
    "# Функция построения воронки сценария\n",
    "\n",
    "def funnel_diagram(step_0, step_1, step_2, title):\n",
    "    step_name = [step_0, step_1, step_2]\n",
    "\n",
    "    df = mobile_df[['user_id', 'event_name', 'event_time']].rename(columns={'user_id': 'distinct_id', 'event_name': 'name', 'event_time': 'time'})\n",
    "    df[\"name\"] = df[\"name\"].str.replace(r'search_\\d+', 'search', regex=True)\n",
    "\n",
    "    dfx = create_funnel_df(df, step_name)\n",
    "\n",
    "    fig = go.Figure(go.Funnel(y = step_name,\n",
    "                           x = [dfx.loc[0,'val'], dfx.loc[1,'val'], dfx.loc[2,'val']],\n",
    "                           textposition=['inside', 'outside','outside'],\n",
    "                           textfont = {'size': 15}, \n",
    "                           textinfo = 'value + percent previous + percent initial'\n",
    "                           ))\n",
    "\n",
    "    fig.update_layout(title_text=f'Сценарий: {title}',\n",
    "                  height=500, width= 950, margin=dict(l=10, r=10, b=10))\n",
    "    fig.show()\n",
    "\n",
    "    print(f'Конверсия пользователей по сценарию \"{title}\" составляет {dfx.loc[2,\"val\"]/dfx.loc[0,\"val\"]:.2%}')\n"
   ]
  },
  {
   "cell_type": "markdown",
   "metadata": {},
   "source": [
    "#### Сценарий 1. Поиск по сайту => просмотрел фотографии в объявлении => посмотрел номер телефона"
   ]
  },
  {
   "cell_type": "code",
   "execution_count": 45,
   "metadata": {},
   "outputs": [
    {
     "data": {
      "application/vnd.plotly.v1+json": {
       "config": {
        "plotlyServerURL": "https://plot.ly"
       },
       "data": [
        {
         "textfont": {
          "size": 15
         },
         "textinfo": "value+percent previous+percent initial",
         "textposition": [
          "inside",
          "outside",
          "outside"
         ],
         "type": "funnel",
         "x": [
          1666,
          507,
          84
         ],
         "y": [
          "search",
          "photos_show",
          "contacts_show"
         ]
        }
       ],
       "layout": {
        "height": 500,
        "margin": {
         "b": 10,
         "l": 10,
         "r": 10
        },
        "template": {
         "data": {
          "bar": [
           {
            "error_x": {
             "color": "#2a3f5f"
            },
            "error_y": {
             "color": "#2a3f5f"
            },
            "marker": {
             "line": {
              "color": "#E5ECF6",
              "width": 0.5
             },
             "pattern": {
              "fillmode": "overlay",
              "size": 10,
              "solidity": 0.2
             }
            },
            "type": "bar"
           }
          ],
          "barpolar": [
           {
            "marker": {
             "line": {
              "color": "#E5ECF6",
              "width": 0.5
             },
             "pattern": {
              "fillmode": "overlay",
              "size": 10,
              "solidity": 0.2
             }
            },
            "type": "barpolar"
           }
          ],
          "carpet": [
           {
            "aaxis": {
             "endlinecolor": "#2a3f5f",
             "gridcolor": "white",
             "linecolor": "white",
             "minorgridcolor": "white",
             "startlinecolor": "#2a3f5f"
            },
            "baxis": {
             "endlinecolor": "#2a3f5f",
             "gridcolor": "white",
             "linecolor": "white",
             "minorgridcolor": "white",
             "startlinecolor": "#2a3f5f"
            },
            "type": "carpet"
           }
          ],
          "choropleth": [
           {
            "colorbar": {
             "outlinewidth": 0,
             "ticks": ""
            },
            "type": "choropleth"
           }
          ],
          "contour": [
           {
            "colorbar": {
             "outlinewidth": 0,
             "ticks": ""
            },
            "colorscale": [
             [
              0,
              "#0d0887"
             ],
             [
              0.1111111111111111,
              "#46039f"
             ],
             [
              0.2222222222222222,
              "#7201a8"
             ],
             [
              0.3333333333333333,
              "#9c179e"
             ],
             [
              0.4444444444444444,
              "#bd3786"
             ],
             [
              0.5555555555555556,
              "#d8576b"
             ],
             [
              0.6666666666666666,
              "#ed7953"
             ],
             [
              0.7777777777777778,
              "#fb9f3a"
             ],
             [
              0.8888888888888888,
              "#fdca26"
             ],
             [
              1,
              "#f0f921"
             ]
            ],
            "type": "contour"
           }
          ],
          "contourcarpet": [
           {
            "colorbar": {
             "outlinewidth": 0,
             "ticks": ""
            },
            "type": "contourcarpet"
           }
          ],
          "heatmap": [
           {
            "colorbar": {
             "outlinewidth": 0,
             "ticks": ""
            },
            "colorscale": [
             [
              0,
              "#0d0887"
             ],
             [
              0.1111111111111111,
              "#46039f"
             ],
             [
              0.2222222222222222,
              "#7201a8"
             ],
             [
              0.3333333333333333,
              "#9c179e"
             ],
             [
              0.4444444444444444,
              "#bd3786"
             ],
             [
              0.5555555555555556,
              "#d8576b"
             ],
             [
              0.6666666666666666,
              "#ed7953"
             ],
             [
              0.7777777777777778,
              "#fb9f3a"
             ],
             [
              0.8888888888888888,
              "#fdca26"
             ],
             [
              1,
              "#f0f921"
             ]
            ],
            "type": "heatmap"
           }
          ],
          "heatmapgl": [
           {
            "colorbar": {
             "outlinewidth": 0,
             "ticks": ""
            },
            "colorscale": [
             [
              0,
              "#0d0887"
             ],
             [
              0.1111111111111111,
              "#46039f"
             ],
             [
              0.2222222222222222,
              "#7201a8"
             ],
             [
              0.3333333333333333,
              "#9c179e"
             ],
             [
              0.4444444444444444,
              "#bd3786"
             ],
             [
              0.5555555555555556,
              "#d8576b"
             ],
             [
              0.6666666666666666,
              "#ed7953"
             ],
             [
              0.7777777777777778,
              "#fb9f3a"
             ],
             [
              0.8888888888888888,
              "#fdca26"
             ],
             [
              1,
              "#f0f921"
             ]
            ],
            "type": "heatmapgl"
           }
          ],
          "histogram": [
           {
            "marker": {
             "pattern": {
              "fillmode": "overlay",
              "size": 10,
              "solidity": 0.2
             }
            },
            "type": "histogram"
           }
          ],
          "histogram2d": [
           {
            "colorbar": {
             "outlinewidth": 0,
             "ticks": ""
            },
            "colorscale": [
             [
              0,
              "#0d0887"
             ],
             [
              0.1111111111111111,
              "#46039f"
             ],
             [
              0.2222222222222222,
              "#7201a8"
             ],
             [
              0.3333333333333333,
              "#9c179e"
             ],
             [
              0.4444444444444444,
              "#bd3786"
             ],
             [
              0.5555555555555556,
              "#d8576b"
             ],
             [
              0.6666666666666666,
              "#ed7953"
             ],
             [
              0.7777777777777778,
              "#fb9f3a"
             ],
             [
              0.8888888888888888,
              "#fdca26"
             ],
             [
              1,
              "#f0f921"
             ]
            ],
            "type": "histogram2d"
           }
          ],
          "histogram2dcontour": [
           {
            "colorbar": {
             "outlinewidth": 0,
             "ticks": ""
            },
            "colorscale": [
             [
              0,
              "#0d0887"
             ],
             [
              0.1111111111111111,
              "#46039f"
             ],
             [
              0.2222222222222222,
              "#7201a8"
             ],
             [
              0.3333333333333333,
              "#9c179e"
             ],
             [
              0.4444444444444444,
              "#bd3786"
             ],
             [
              0.5555555555555556,
              "#d8576b"
             ],
             [
              0.6666666666666666,
              "#ed7953"
             ],
             [
              0.7777777777777778,
              "#fb9f3a"
             ],
             [
              0.8888888888888888,
              "#fdca26"
             ],
             [
              1,
              "#f0f921"
             ]
            ],
            "type": "histogram2dcontour"
           }
          ],
          "mesh3d": [
           {
            "colorbar": {
             "outlinewidth": 0,
             "ticks": ""
            },
            "type": "mesh3d"
           }
          ],
          "parcoords": [
           {
            "line": {
             "colorbar": {
              "outlinewidth": 0,
              "ticks": ""
             }
            },
            "type": "parcoords"
           }
          ],
          "pie": [
           {
            "automargin": true,
            "type": "pie"
           }
          ],
          "scatter": [
           {
            "fillpattern": {
             "fillmode": "overlay",
             "size": 10,
             "solidity": 0.2
            },
            "type": "scatter"
           }
          ],
          "scatter3d": [
           {
            "line": {
             "colorbar": {
              "outlinewidth": 0,
              "ticks": ""
             }
            },
            "marker": {
             "colorbar": {
              "outlinewidth": 0,
              "ticks": ""
             }
            },
            "type": "scatter3d"
           }
          ],
          "scattercarpet": [
           {
            "marker": {
             "colorbar": {
              "outlinewidth": 0,
              "ticks": ""
             }
            },
            "type": "scattercarpet"
           }
          ],
          "scattergeo": [
           {
            "marker": {
             "colorbar": {
              "outlinewidth": 0,
              "ticks": ""
             }
            },
            "type": "scattergeo"
           }
          ],
          "scattergl": [
           {
            "marker": {
             "colorbar": {
              "outlinewidth": 0,
              "ticks": ""
             }
            },
            "type": "scattergl"
           }
          ],
          "scattermapbox": [
           {
            "marker": {
             "colorbar": {
              "outlinewidth": 0,
              "ticks": ""
             }
            },
            "type": "scattermapbox"
           }
          ],
          "scatterpolar": [
           {
            "marker": {
             "colorbar": {
              "outlinewidth": 0,
              "ticks": ""
             }
            },
            "type": "scatterpolar"
           }
          ],
          "scatterpolargl": [
           {
            "marker": {
             "colorbar": {
              "outlinewidth": 0,
              "ticks": ""
             }
            },
            "type": "scatterpolargl"
           }
          ],
          "scatterternary": [
           {
            "marker": {
             "colorbar": {
              "outlinewidth": 0,
              "ticks": ""
             }
            },
            "type": "scatterternary"
           }
          ],
          "surface": [
           {
            "colorbar": {
             "outlinewidth": 0,
             "ticks": ""
            },
            "colorscale": [
             [
              0,
              "#0d0887"
             ],
             [
              0.1111111111111111,
              "#46039f"
             ],
             [
              0.2222222222222222,
              "#7201a8"
             ],
             [
              0.3333333333333333,
              "#9c179e"
             ],
             [
              0.4444444444444444,
              "#bd3786"
             ],
             [
              0.5555555555555556,
              "#d8576b"
             ],
             [
              0.6666666666666666,
              "#ed7953"
             ],
             [
              0.7777777777777778,
              "#fb9f3a"
             ],
             [
              0.8888888888888888,
              "#fdca26"
             ],
             [
              1,
              "#f0f921"
             ]
            ],
            "type": "surface"
           }
          ],
          "table": [
           {
            "cells": {
             "fill": {
              "color": "#EBF0F8"
             },
             "line": {
              "color": "white"
             }
            },
            "header": {
             "fill": {
              "color": "#C8D4E3"
             },
             "line": {
              "color": "white"
             }
            },
            "type": "table"
           }
          ]
         },
         "layout": {
          "annotationdefaults": {
           "arrowcolor": "#2a3f5f",
           "arrowhead": 0,
           "arrowwidth": 1
          },
          "autotypenumbers": "strict",
          "coloraxis": {
           "colorbar": {
            "outlinewidth": 0,
            "ticks": ""
           }
          },
          "colorscale": {
           "diverging": [
            [
             0,
             "#8e0152"
            ],
            [
             0.1,
             "#c51b7d"
            ],
            [
             0.2,
             "#de77ae"
            ],
            [
             0.3,
             "#f1b6da"
            ],
            [
             0.4,
             "#fde0ef"
            ],
            [
             0.5,
             "#f7f7f7"
            ],
            [
             0.6,
             "#e6f5d0"
            ],
            [
             0.7,
             "#b8e186"
            ],
            [
             0.8,
             "#7fbc41"
            ],
            [
             0.9,
             "#4d9221"
            ],
            [
             1,
             "#276419"
            ]
           ],
           "sequential": [
            [
             0,
             "#0d0887"
            ],
            [
             0.1111111111111111,
             "#46039f"
            ],
            [
             0.2222222222222222,
             "#7201a8"
            ],
            [
             0.3333333333333333,
             "#9c179e"
            ],
            [
             0.4444444444444444,
             "#bd3786"
            ],
            [
             0.5555555555555556,
             "#d8576b"
            ],
            [
             0.6666666666666666,
             "#ed7953"
            ],
            [
             0.7777777777777778,
             "#fb9f3a"
            ],
            [
             0.8888888888888888,
             "#fdca26"
            ],
            [
             1,
             "#f0f921"
            ]
           ],
           "sequentialminus": [
            [
             0,
             "#0d0887"
            ],
            [
             0.1111111111111111,
             "#46039f"
            ],
            [
             0.2222222222222222,
             "#7201a8"
            ],
            [
             0.3333333333333333,
             "#9c179e"
            ],
            [
             0.4444444444444444,
             "#bd3786"
            ],
            [
             0.5555555555555556,
             "#d8576b"
            ],
            [
             0.6666666666666666,
             "#ed7953"
            ],
            [
             0.7777777777777778,
             "#fb9f3a"
            ],
            [
             0.8888888888888888,
             "#fdca26"
            ],
            [
             1,
             "#f0f921"
            ]
           ]
          },
          "colorway": [
           "#636efa",
           "#EF553B",
           "#00cc96",
           "#ab63fa",
           "#FFA15A",
           "#19d3f3",
           "#FF6692",
           "#B6E880",
           "#FF97FF",
           "#FECB52"
          ],
          "font": {
           "color": "#2a3f5f"
          },
          "geo": {
           "bgcolor": "white",
           "lakecolor": "white",
           "landcolor": "#E5ECF6",
           "showlakes": true,
           "showland": true,
           "subunitcolor": "white"
          },
          "hoverlabel": {
           "align": "left"
          },
          "hovermode": "closest",
          "mapbox": {
           "style": "light"
          },
          "paper_bgcolor": "white",
          "plot_bgcolor": "#E5ECF6",
          "polar": {
           "angularaxis": {
            "gridcolor": "white",
            "linecolor": "white",
            "ticks": ""
           },
           "bgcolor": "#E5ECF6",
           "radialaxis": {
            "gridcolor": "white",
            "linecolor": "white",
            "ticks": ""
           }
          },
          "scene": {
           "xaxis": {
            "backgroundcolor": "#E5ECF6",
            "gridcolor": "white",
            "gridwidth": 2,
            "linecolor": "white",
            "showbackground": true,
            "ticks": "",
            "zerolinecolor": "white"
           },
           "yaxis": {
            "backgroundcolor": "#E5ECF6",
            "gridcolor": "white",
            "gridwidth": 2,
            "linecolor": "white",
            "showbackground": true,
            "ticks": "",
            "zerolinecolor": "white"
           },
           "zaxis": {
            "backgroundcolor": "#E5ECF6",
            "gridcolor": "white",
            "gridwidth": 2,
            "linecolor": "white",
            "showbackground": true,
            "ticks": "",
            "zerolinecolor": "white"
           }
          },
          "shapedefaults": {
           "line": {
            "color": "#2a3f5f"
           }
          },
          "ternary": {
           "aaxis": {
            "gridcolor": "white",
            "linecolor": "white",
            "ticks": ""
           },
           "baxis": {
            "gridcolor": "white",
            "linecolor": "white",
            "ticks": ""
           },
           "bgcolor": "#E5ECF6",
           "caxis": {
            "gridcolor": "white",
            "linecolor": "white",
            "ticks": ""
           }
          },
          "title": {
           "x": 0.05
          },
          "xaxis": {
           "automargin": true,
           "gridcolor": "white",
           "linecolor": "white",
           "ticks": "",
           "title": {
            "standoff": 15
           },
           "zerolinecolor": "white",
           "zerolinewidth": 2
          },
          "yaxis": {
           "automargin": true,
           "gridcolor": "white",
           "linecolor": "white",
           "ticks": "",
           "title": {
            "standoff": 15
           },
           "zerolinecolor": "white",
           "zerolinewidth": 2
          }
         }
        },
        "title": {
         "text": "Сценарий: поиск по сайту => просмотрел фотографии в объявлении => посмотрел номер телефона"
        },
        "width": 950
       }
      }
     },
     "metadata": {},
     "output_type": "display_data"
    },
    {
     "name": "stdout",
     "output_type": "stream",
     "text": [
      "Конверсия пользователей по сценарию \"поиск по сайту => просмотрел фотографии в объявлении => посмотрел номер телефона\" составляет 5.04%\n"
     ]
    }
   ],
   "source": [
    "# построим воронку сценария 1\n",
    "\n",
    "title = \"поиск по сайту => просмотрел фотографии в объявлении => посмотрел номер телефона\"\n",
    "funnel_diagram('search', 'photos_show', 'contacts_show', title)"
   ]
  },
  {
   "cell_type": "markdown",
   "metadata": {},
   "source": [
    "#### Сценарий 2. Открыл карту объявлений => открыл карточку объявления => посмотрел номер телефона"
   ]
  },
  {
   "cell_type": "code",
   "execution_count": 46,
   "metadata": {},
   "outputs": [
    {
     "data": {
      "application/vnd.plotly.v1+json": {
       "config": {
        "plotlyServerURL": "https://plot.ly"
       },
       "data": [
        {
         "textfont": {
          "size": 15
         },
         "textinfo": "value+percent previous+percent initial",
         "textposition": [
          "inside",
          "outside",
          "outside"
         ],
         "type": "funnel",
         "x": [
          1456,
          383,
          50
         ],
         "y": [
          "map",
          "advert_open",
          "contacts_show"
         ]
        }
       ],
       "layout": {
        "height": 500,
        "margin": {
         "b": 10,
         "l": 10,
         "r": 10
        },
        "template": {
         "data": {
          "bar": [
           {
            "error_x": {
             "color": "#2a3f5f"
            },
            "error_y": {
             "color": "#2a3f5f"
            },
            "marker": {
             "line": {
              "color": "#E5ECF6",
              "width": 0.5
             },
             "pattern": {
              "fillmode": "overlay",
              "size": 10,
              "solidity": 0.2
             }
            },
            "type": "bar"
           }
          ],
          "barpolar": [
           {
            "marker": {
             "line": {
              "color": "#E5ECF6",
              "width": 0.5
             },
             "pattern": {
              "fillmode": "overlay",
              "size": 10,
              "solidity": 0.2
             }
            },
            "type": "barpolar"
           }
          ],
          "carpet": [
           {
            "aaxis": {
             "endlinecolor": "#2a3f5f",
             "gridcolor": "white",
             "linecolor": "white",
             "minorgridcolor": "white",
             "startlinecolor": "#2a3f5f"
            },
            "baxis": {
             "endlinecolor": "#2a3f5f",
             "gridcolor": "white",
             "linecolor": "white",
             "minorgridcolor": "white",
             "startlinecolor": "#2a3f5f"
            },
            "type": "carpet"
           }
          ],
          "choropleth": [
           {
            "colorbar": {
             "outlinewidth": 0,
             "ticks": ""
            },
            "type": "choropleth"
           }
          ],
          "contour": [
           {
            "colorbar": {
             "outlinewidth": 0,
             "ticks": ""
            },
            "colorscale": [
             [
              0,
              "#0d0887"
             ],
             [
              0.1111111111111111,
              "#46039f"
             ],
             [
              0.2222222222222222,
              "#7201a8"
             ],
             [
              0.3333333333333333,
              "#9c179e"
             ],
             [
              0.4444444444444444,
              "#bd3786"
             ],
             [
              0.5555555555555556,
              "#d8576b"
             ],
             [
              0.6666666666666666,
              "#ed7953"
             ],
             [
              0.7777777777777778,
              "#fb9f3a"
             ],
             [
              0.8888888888888888,
              "#fdca26"
             ],
             [
              1,
              "#f0f921"
             ]
            ],
            "type": "contour"
           }
          ],
          "contourcarpet": [
           {
            "colorbar": {
             "outlinewidth": 0,
             "ticks": ""
            },
            "type": "contourcarpet"
           }
          ],
          "heatmap": [
           {
            "colorbar": {
             "outlinewidth": 0,
             "ticks": ""
            },
            "colorscale": [
             [
              0,
              "#0d0887"
             ],
             [
              0.1111111111111111,
              "#46039f"
             ],
             [
              0.2222222222222222,
              "#7201a8"
             ],
             [
              0.3333333333333333,
              "#9c179e"
             ],
             [
              0.4444444444444444,
              "#bd3786"
             ],
             [
              0.5555555555555556,
              "#d8576b"
             ],
             [
              0.6666666666666666,
              "#ed7953"
             ],
             [
              0.7777777777777778,
              "#fb9f3a"
             ],
             [
              0.8888888888888888,
              "#fdca26"
             ],
             [
              1,
              "#f0f921"
             ]
            ],
            "type": "heatmap"
           }
          ],
          "heatmapgl": [
           {
            "colorbar": {
             "outlinewidth": 0,
             "ticks": ""
            },
            "colorscale": [
             [
              0,
              "#0d0887"
             ],
             [
              0.1111111111111111,
              "#46039f"
             ],
             [
              0.2222222222222222,
              "#7201a8"
             ],
             [
              0.3333333333333333,
              "#9c179e"
             ],
             [
              0.4444444444444444,
              "#bd3786"
             ],
             [
              0.5555555555555556,
              "#d8576b"
             ],
             [
              0.6666666666666666,
              "#ed7953"
             ],
             [
              0.7777777777777778,
              "#fb9f3a"
             ],
             [
              0.8888888888888888,
              "#fdca26"
             ],
             [
              1,
              "#f0f921"
             ]
            ],
            "type": "heatmapgl"
           }
          ],
          "histogram": [
           {
            "marker": {
             "pattern": {
              "fillmode": "overlay",
              "size": 10,
              "solidity": 0.2
             }
            },
            "type": "histogram"
           }
          ],
          "histogram2d": [
           {
            "colorbar": {
             "outlinewidth": 0,
             "ticks": ""
            },
            "colorscale": [
             [
              0,
              "#0d0887"
             ],
             [
              0.1111111111111111,
              "#46039f"
             ],
             [
              0.2222222222222222,
              "#7201a8"
             ],
             [
              0.3333333333333333,
              "#9c179e"
             ],
             [
              0.4444444444444444,
              "#bd3786"
             ],
             [
              0.5555555555555556,
              "#d8576b"
             ],
             [
              0.6666666666666666,
              "#ed7953"
             ],
             [
              0.7777777777777778,
              "#fb9f3a"
             ],
             [
              0.8888888888888888,
              "#fdca26"
             ],
             [
              1,
              "#f0f921"
             ]
            ],
            "type": "histogram2d"
           }
          ],
          "histogram2dcontour": [
           {
            "colorbar": {
             "outlinewidth": 0,
             "ticks": ""
            },
            "colorscale": [
             [
              0,
              "#0d0887"
             ],
             [
              0.1111111111111111,
              "#46039f"
             ],
             [
              0.2222222222222222,
              "#7201a8"
             ],
             [
              0.3333333333333333,
              "#9c179e"
             ],
             [
              0.4444444444444444,
              "#bd3786"
             ],
             [
              0.5555555555555556,
              "#d8576b"
             ],
             [
              0.6666666666666666,
              "#ed7953"
             ],
             [
              0.7777777777777778,
              "#fb9f3a"
             ],
             [
              0.8888888888888888,
              "#fdca26"
             ],
             [
              1,
              "#f0f921"
             ]
            ],
            "type": "histogram2dcontour"
           }
          ],
          "mesh3d": [
           {
            "colorbar": {
             "outlinewidth": 0,
             "ticks": ""
            },
            "type": "mesh3d"
           }
          ],
          "parcoords": [
           {
            "line": {
             "colorbar": {
              "outlinewidth": 0,
              "ticks": ""
             }
            },
            "type": "parcoords"
           }
          ],
          "pie": [
           {
            "automargin": true,
            "type": "pie"
           }
          ],
          "scatter": [
           {
            "fillpattern": {
             "fillmode": "overlay",
             "size": 10,
             "solidity": 0.2
            },
            "type": "scatter"
           }
          ],
          "scatter3d": [
           {
            "line": {
             "colorbar": {
              "outlinewidth": 0,
              "ticks": ""
             }
            },
            "marker": {
             "colorbar": {
              "outlinewidth": 0,
              "ticks": ""
             }
            },
            "type": "scatter3d"
           }
          ],
          "scattercarpet": [
           {
            "marker": {
             "colorbar": {
              "outlinewidth": 0,
              "ticks": ""
             }
            },
            "type": "scattercarpet"
           }
          ],
          "scattergeo": [
           {
            "marker": {
             "colorbar": {
              "outlinewidth": 0,
              "ticks": ""
             }
            },
            "type": "scattergeo"
           }
          ],
          "scattergl": [
           {
            "marker": {
             "colorbar": {
              "outlinewidth": 0,
              "ticks": ""
             }
            },
            "type": "scattergl"
           }
          ],
          "scattermapbox": [
           {
            "marker": {
             "colorbar": {
              "outlinewidth": 0,
              "ticks": ""
             }
            },
            "type": "scattermapbox"
           }
          ],
          "scatterpolar": [
           {
            "marker": {
             "colorbar": {
              "outlinewidth": 0,
              "ticks": ""
             }
            },
            "type": "scatterpolar"
           }
          ],
          "scatterpolargl": [
           {
            "marker": {
             "colorbar": {
              "outlinewidth": 0,
              "ticks": ""
             }
            },
            "type": "scatterpolargl"
           }
          ],
          "scatterternary": [
           {
            "marker": {
             "colorbar": {
              "outlinewidth": 0,
              "ticks": ""
             }
            },
            "type": "scatterternary"
           }
          ],
          "surface": [
           {
            "colorbar": {
             "outlinewidth": 0,
             "ticks": ""
            },
            "colorscale": [
             [
              0,
              "#0d0887"
             ],
             [
              0.1111111111111111,
              "#46039f"
             ],
             [
              0.2222222222222222,
              "#7201a8"
             ],
             [
              0.3333333333333333,
              "#9c179e"
             ],
             [
              0.4444444444444444,
              "#bd3786"
             ],
             [
              0.5555555555555556,
              "#d8576b"
             ],
             [
              0.6666666666666666,
              "#ed7953"
             ],
             [
              0.7777777777777778,
              "#fb9f3a"
             ],
             [
              0.8888888888888888,
              "#fdca26"
             ],
             [
              1,
              "#f0f921"
             ]
            ],
            "type": "surface"
           }
          ],
          "table": [
           {
            "cells": {
             "fill": {
              "color": "#EBF0F8"
             },
             "line": {
              "color": "white"
             }
            },
            "header": {
             "fill": {
              "color": "#C8D4E3"
             },
             "line": {
              "color": "white"
             }
            },
            "type": "table"
           }
          ]
         },
         "layout": {
          "annotationdefaults": {
           "arrowcolor": "#2a3f5f",
           "arrowhead": 0,
           "arrowwidth": 1
          },
          "autotypenumbers": "strict",
          "coloraxis": {
           "colorbar": {
            "outlinewidth": 0,
            "ticks": ""
           }
          },
          "colorscale": {
           "diverging": [
            [
             0,
             "#8e0152"
            ],
            [
             0.1,
             "#c51b7d"
            ],
            [
             0.2,
             "#de77ae"
            ],
            [
             0.3,
             "#f1b6da"
            ],
            [
             0.4,
             "#fde0ef"
            ],
            [
             0.5,
             "#f7f7f7"
            ],
            [
             0.6,
             "#e6f5d0"
            ],
            [
             0.7,
             "#b8e186"
            ],
            [
             0.8,
             "#7fbc41"
            ],
            [
             0.9,
             "#4d9221"
            ],
            [
             1,
             "#276419"
            ]
           ],
           "sequential": [
            [
             0,
             "#0d0887"
            ],
            [
             0.1111111111111111,
             "#46039f"
            ],
            [
             0.2222222222222222,
             "#7201a8"
            ],
            [
             0.3333333333333333,
             "#9c179e"
            ],
            [
             0.4444444444444444,
             "#bd3786"
            ],
            [
             0.5555555555555556,
             "#d8576b"
            ],
            [
             0.6666666666666666,
             "#ed7953"
            ],
            [
             0.7777777777777778,
             "#fb9f3a"
            ],
            [
             0.8888888888888888,
             "#fdca26"
            ],
            [
             1,
             "#f0f921"
            ]
           ],
           "sequentialminus": [
            [
             0,
             "#0d0887"
            ],
            [
             0.1111111111111111,
             "#46039f"
            ],
            [
             0.2222222222222222,
             "#7201a8"
            ],
            [
             0.3333333333333333,
             "#9c179e"
            ],
            [
             0.4444444444444444,
             "#bd3786"
            ],
            [
             0.5555555555555556,
             "#d8576b"
            ],
            [
             0.6666666666666666,
             "#ed7953"
            ],
            [
             0.7777777777777778,
             "#fb9f3a"
            ],
            [
             0.8888888888888888,
             "#fdca26"
            ],
            [
             1,
             "#f0f921"
            ]
           ]
          },
          "colorway": [
           "#636efa",
           "#EF553B",
           "#00cc96",
           "#ab63fa",
           "#FFA15A",
           "#19d3f3",
           "#FF6692",
           "#B6E880",
           "#FF97FF",
           "#FECB52"
          ],
          "font": {
           "color": "#2a3f5f"
          },
          "geo": {
           "bgcolor": "white",
           "lakecolor": "white",
           "landcolor": "#E5ECF6",
           "showlakes": true,
           "showland": true,
           "subunitcolor": "white"
          },
          "hoverlabel": {
           "align": "left"
          },
          "hovermode": "closest",
          "mapbox": {
           "style": "light"
          },
          "paper_bgcolor": "white",
          "plot_bgcolor": "#E5ECF6",
          "polar": {
           "angularaxis": {
            "gridcolor": "white",
            "linecolor": "white",
            "ticks": ""
           },
           "bgcolor": "#E5ECF6",
           "radialaxis": {
            "gridcolor": "white",
            "linecolor": "white",
            "ticks": ""
           }
          },
          "scene": {
           "xaxis": {
            "backgroundcolor": "#E5ECF6",
            "gridcolor": "white",
            "gridwidth": 2,
            "linecolor": "white",
            "showbackground": true,
            "ticks": "",
            "zerolinecolor": "white"
           },
           "yaxis": {
            "backgroundcolor": "#E5ECF6",
            "gridcolor": "white",
            "gridwidth": 2,
            "linecolor": "white",
            "showbackground": true,
            "ticks": "",
            "zerolinecolor": "white"
           },
           "zaxis": {
            "backgroundcolor": "#E5ECF6",
            "gridcolor": "white",
            "gridwidth": 2,
            "linecolor": "white",
            "showbackground": true,
            "ticks": "",
            "zerolinecolor": "white"
           }
          },
          "shapedefaults": {
           "line": {
            "color": "#2a3f5f"
           }
          },
          "ternary": {
           "aaxis": {
            "gridcolor": "white",
            "linecolor": "white",
            "ticks": ""
           },
           "baxis": {
            "gridcolor": "white",
            "linecolor": "white",
            "ticks": ""
           },
           "bgcolor": "#E5ECF6",
           "caxis": {
            "gridcolor": "white",
            "linecolor": "white",
            "ticks": ""
           }
          },
          "title": {
           "x": 0.05
          },
          "xaxis": {
           "automargin": true,
           "gridcolor": "white",
           "linecolor": "white",
           "ticks": "",
           "title": {
            "standoff": 15
           },
           "zerolinecolor": "white",
           "zerolinewidth": 2
          },
          "yaxis": {
           "automargin": true,
           "gridcolor": "white",
           "linecolor": "white",
           "ticks": "",
           "title": {
            "standoff": 15
           },
           "zerolinecolor": "white",
           "zerolinewidth": 2
          }
         }
        },
        "title": {
         "text": "Сценарий: открыл карту объявлений => открыл карточку объявления => посмотрел номер телефона"
        },
        "width": 950
       }
      }
     },
     "metadata": {},
     "output_type": "display_data"
    },
    {
     "name": "stdout",
     "output_type": "stream",
     "text": [
      "Конверсия пользователей по сценарию \"открыл карту объявлений => открыл карточку объявления => посмотрел номер телефона\" составляет 3.43%\n"
     ]
    }
   ],
   "source": [
    "# построим воронку сценария 2.\n",
    "\n",
    "title = \"открыл карту объявлений => открыл карточку объявления => посмотрел номер телефона\"\n",
    "funnel_diagram('map','advert_open','contacts_show', title)"
   ]
  },
  {
   "cell_type": "markdown",
   "metadata": {},
   "source": [
    "#### Сценарий 3. Открыл карту объявлений => поиск => посмотрел номер телефона"
   ]
  },
  {
   "cell_type": "code",
   "execution_count": 47,
   "metadata": {},
   "outputs": [
    {
     "data": {
      "application/vnd.plotly.v1+json": {
       "config": {
        "plotlyServerURL": "https://plot.ly"
       },
       "data": [
        {
         "textfont": {
          "size": 15
         },
         "textinfo": "value+percent previous+percent initial",
         "textposition": [
          "inside",
          "outside",
          "outside"
         ],
         "type": "funnel",
         "x": [
          1456,
          218,
          40
         ],
         "y": [
          "map",
          "search",
          "contacts_show"
         ]
        }
       ],
       "layout": {
        "height": 500,
        "margin": {
         "b": 10,
         "l": 10,
         "r": 10
        },
        "template": {
         "data": {
          "bar": [
           {
            "error_x": {
             "color": "#2a3f5f"
            },
            "error_y": {
             "color": "#2a3f5f"
            },
            "marker": {
             "line": {
              "color": "#E5ECF6",
              "width": 0.5
             },
             "pattern": {
              "fillmode": "overlay",
              "size": 10,
              "solidity": 0.2
             }
            },
            "type": "bar"
           }
          ],
          "barpolar": [
           {
            "marker": {
             "line": {
              "color": "#E5ECF6",
              "width": 0.5
             },
             "pattern": {
              "fillmode": "overlay",
              "size": 10,
              "solidity": 0.2
             }
            },
            "type": "barpolar"
           }
          ],
          "carpet": [
           {
            "aaxis": {
             "endlinecolor": "#2a3f5f",
             "gridcolor": "white",
             "linecolor": "white",
             "minorgridcolor": "white",
             "startlinecolor": "#2a3f5f"
            },
            "baxis": {
             "endlinecolor": "#2a3f5f",
             "gridcolor": "white",
             "linecolor": "white",
             "minorgridcolor": "white",
             "startlinecolor": "#2a3f5f"
            },
            "type": "carpet"
           }
          ],
          "choropleth": [
           {
            "colorbar": {
             "outlinewidth": 0,
             "ticks": ""
            },
            "type": "choropleth"
           }
          ],
          "contour": [
           {
            "colorbar": {
             "outlinewidth": 0,
             "ticks": ""
            },
            "colorscale": [
             [
              0,
              "#0d0887"
             ],
             [
              0.1111111111111111,
              "#46039f"
             ],
             [
              0.2222222222222222,
              "#7201a8"
             ],
             [
              0.3333333333333333,
              "#9c179e"
             ],
             [
              0.4444444444444444,
              "#bd3786"
             ],
             [
              0.5555555555555556,
              "#d8576b"
             ],
             [
              0.6666666666666666,
              "#ed7953"
             ],
             [
              0.7777777777777778,
              "#fb9f3a"
             ],
             [
              0.8888888888888888,
              "#fdca26"
             ],
             [
              1,
              "#f0f921"
             ]
            ],
            "type": "contour"
           }
          ],
          "contourcarpet": [
           {
            "colorbar": {
             "outlinewidth": 0,
             "ticks": ""
            },
            "type": "contourcarpet"
           }
          ],
          "heatmap": [
           {
            "colorbar": {
             "outlinewidth": 0,
             "ticks": ""
            },
            "colorscale": [
             [
              0,
              "#0d0887"
             ],
             [
              0.1111111111111111,
              "#46039f"
             ],
             [
              0.2222222222222222,
              "#7201a8"
             ],
             [
              0.3333333333333333,
              "#9c179e"
             ],
             [
              0.4444444444444444,
              "#bd3786"
             ],
             [
              0.5555555555555556,
              "#d8576b"
             ],
             [
              0.6666666666666666,
              "#ed7953"
             ],
             [
              0.7777777777777778,
              "#fb9f3a"
             ],
             [
              0.8888888888888888,
              "#fdca26"
             ],
             [
              1,
              "#f0f921"
             ]
            ],
            "type": "heatmap"
           }
          ],
          "heatmapgl": [
           {
            "colorbar": {
             "outlinewidth": 0,
             "ticks": ""
            },
            "colorscale": [
             [
              0,
              "#0d0887"
             ],
             [
              0.1111111111111111,
              "#46039f"
             ],
             [
              0.2222222222222222,
              "#7201a8"
             ],
             [
              0.3333333333333333,
              "#9c179e"
             ],
             [
              0.4444444444444444,
              "#bd3786"
             ],
             [
              0.5555555555555556,
              "#d8576b"
             ],
             [
              0.6666666666666666,
              "#ed7953"
             ],
             [
              0.7777777777777778,
              "#fb9f3a"
             ],
             [
              0.8888888888888888,
              "#fdca26"
             ],
             [
              1,
              "#f0f921"
             ]
            ],
            "type": "heatmapgl"
           }
          ],
          "histogram": [
           {
            "marker": {
             "pattern": {
              "fillmode": "overlay",
              "size": 10,
              "solidity": 0.2
             }
            },
            "type": "histogram"
           }
          ],
          "histogram2d": [
           {
            "colorbar": {
             "outlinewidth": 0,
             "ticks": ""
            },
            "colorscale": [
             [
              0,
              "#0d0887"
             ],
             [
              0.1111111111111111,
              "#46039f"
             ],
             [
              0.2222222222222222,
              "#7201a8"
             ],
             [
              0.3333333333333333,
              "#9c179e"
             ],
             [
              0.4444444444444444,
              "#bd3786"
             ],
             [
              0.5555555555555556,
              "#d8576b"
             ],
             [
              0.6666666666666666,
              "#ed7953"
             ],
             [
              0.7777777777777778,
              "#fb9f3a"
             ],
             [
              0.8888888888888888,
              "#fdca26"
             ],
             [
              1,
              "#f0f921"
             ]
            ],
            "type": "histogram2d"
           }
          ],
          "histogram2dcontour": [
           {
            "colorbar": {
             "outlinewidth": 0,
             "ticks": ""
            },
            "colorscale": [
             [
              0,
              "#0d0887"
             ],
             [
              0.1111111111111111,
              "#46039f"
             ],
             [
              0.2222222222222222,
              "#7201a8"
             ],
             [
              0.3333333333333333,
              "#9c179e"
             ],
             [
              0.4444444444444444,
              "#bd3786"
             ],
             [
              0.5555555555555556,
              "#d8576b"
             ],
             [
              0.6666666666666666,
              "#ed7953"
             ],
             [
              0.7777777777777778,
              "#fb9f3a"
             ],
             [
              0.8888888888888888,
              "#fdca26"
             ],
             [
              1,
              "#f0f921"
             ]
            ],
            "type": "histogram2dcontour"
           }
          ],
          "mesh3d": [
           {
            "colorbar": {
             "outlinewidth": 0,
             "ticks": ""
            },
            "type": "mesh3d"
           }
          ],
          "parcoords": [
           {
            "line": {
             "colorbar": {
              "outlinewidth": 0,
              "ticks": ""
             }
            },
            "type": "parcoords"
           }
          ],
          "pie": [
           {
            "automargin": true,
            "type": "pie"
           }
          ],
          "scatter": [
           {
            "fillpattern": {
             "fillmode": "overlay",
             "size": 10,
             "solidity": 0.2
            },
            "type": "scatter"
           }
          ],
          "scatter3d": [
           {
            "line": {
             "colorbar": {
              "outlinewidth": 0,
              "ticks": ""
             }
            },
            "marker": {
             "colorbar": {
              "outlinewidth": 0,
              "ticks": ""
             }
            },
            "type": "scatter3d"
           }
          ],
          "scattercarpet": [
           {
            "marker": {
             "colorbar": {
              "outlinewidth": 0,
              "ticks": ""
             }
            },
            "type": "scattercarpet"
           }
          ],
          "scattergeo": [
           {
            "marker": {
             "colorbar": {
              "outlinewidth": 0,
              "ticks": ""
             }
            },
            "type": "scattergeo"
           }
          ],
          "scattergl": [
           {
            "marker": {
             "colorbar": {
              "outlinewidth": 0,
              "ticks": ""
             }
            },
            "type": "scattergl"
           }
          ],
          "scattermapbox": [
           {
            "marker": {
             "colorbar": {
              "outlinewidth": 0,
              "ticks": ""
             }
            },
            "type": "scattermapbox"
           }
          ],
          "scatterpolar": [
           {
            "marker": {
             "colorbar": {
              "outlinewidth": 0,
              "ticks": ""
             }
            },
            "type": "scatterpolar"
           }
          ],
          "scatterpolargl": [
           {
            "marker": {
             "colorbar": {
              "outlinewidth": 0,
              "ticks": ""
             }
            },
            "type": "scatterpolargl"
           }
          ],
          "scatterternary": [
           {
            "marker": {
             "colorbar": {
              "outlinewidth": 0,
              "ticks": ""
             }
            },
            "type": "scatterternary"
           }
          ],
          "surface": [
           {
            "colorbar": {
             "outlinewidth": 0,
             "ticks": ""
            },
            "colorscale": [
             [
              0,
              "#0d0887"
             ],
             [
              0.1111111111111111,
              "#46039f"
             ],
             [
              0.2222222222222222,
              "#7201a8"
             ],
             [
              0.3333333333333333,
              "#9c179e"
             ],
             [
              0.4444444444444444,
              "#bd3786"
             ],
             [
              0.5555555555555556,
              "#d8576b"
             ],
             [
              0.6666666666666666,
              "#ed7953"
             ],
             [
              0.7777777777777778,
              "#fb9f3a"
             ],
             [
              0.8888888888888888,
              "#fdca26"
             ],
             [
              1,
              "#f0f921"
             ]
            ],
            "type": "surface"
           }
          ],
          "table": [
           {
            "cells": {
             "fill": {
              "color": "#EBF0F8"
             },
             "line": {
              "color": "white"
             }
            },
            "header": {
             "fill": {
              "color": "#C8D4E3"
             },
             "line": {
              "color": "white"
             }
            },
            "type": "table"
           }
          ]
         },
         "layout": {
          "annotationdefaults": {
           "arrowcolor": "#2a3f5f",
           "arrowhead": 0,
           "arrowwidth": 1
          },
          "autotypenumbers": "strict",
          "coloraxis": {
           "colorbar": {
            "outlinewidth": 0,
            "ticks": ""
           }
          },
          "colorscale": {
           "diverging": [
            [
             0,
             "#8e0152"
            ],
            [
             0.1,
             "#c51b7d"
            ],
            [
             0.2,
             "#de77ae"
            ],
            [
             0.3,
             "#f1b6da"
            ],
            [
             0.4,
             "#fde0ef"
            ],
            [
             0.5,
             "#f7f7f7"
            ],
            [
             0.6,
             "#e6f5d0"
            ],
            [
             0.7,
             "#b8e186"
            ],
            [
             0.8,
             "#7fbc41"
            ],
            [
             0.9,
             "#4d9221"
            ],
            [
             1,
             "#276419"
            ]
           ],
           "sequential": [
            [
             0,
             "#0d0887"
            ],
            [
             0.1111111111111111,
             "#46039f"
            ],
            [
             0.2222222222222222,
             "#7201a8"
            ],
            [
             0.3333333333333333,
             "#9c179e"
            ],
            [
             0.4444444444444444,
             "#bd3786"
            ],
            [
             0.5555555555555556,
             "#d8576b"
            ],
            [
             0.6666666666666666,
             "#ed7953"
            ],
            [
             0.7777777777777778,
             "#fb9f3a"
            ],
            [
             0.8888888888888888,
             "#fdca26"
            ],
            [
             1,
             "#f0f921"
            ]
           ],
           "sequentialminus": [
            [
             0,
             "#0d0887"
            ],
            [
             0.1111111111111111,
             "#46039f"
            ],
            [
             0.2222222222222222,
             "#7201a8"
            ],
            [
             0.3333333333333333,
             "#9c179e"
            ],
            [
             0.4444444444444444,
             "#bd3786"
            ],
            [
             0.5555555555555556,
             "#d8576b"
            ],
            [
             0.6666666666666666,
             "#ed7953"
            ],
            [
             0.7777777777777778,
             "#fb9f3a"
            ],
            [
             0.8888888888888888,
             "#fdca26"
            ],
            [
             1,
             "#f0f921"
            ]
           ]
          },
          "colorway": [
           "#636efa",
           "#EF553B",
           "#00cc96",
           "#ab63fa",
           "#FFA15A",
           "#19d3f3",
           "#FF6692",
           "#B6E880",
           "#FF97FF",
           "#FECB52"
          ],
          "font": {
           "color": "#2a3f5f"
          },
          "geo": {
           "bgcolor": "white",
           "lakecolor": "white",
           "landcolor": "#E5ECF6",
           "showlakes": true,
           "showland": true,
           "subunitcolor": "white"
          },
          "hoverlabel": {
           "align": "left"
          },
          "hovermode": "closest",
          "mapbox": {
           "style": "light"
          },
          "paper_bgcolor": "white",
          "plot_bgcolor": "#E5ECF6",
          "polar": {
           "angularaxis": {
            "gridcolor": "white",
            "linecolor": "white",
            "ticks": ""
           },
           "bgcolor": "#E5ECF6",
           "radialaxis": {
            "gridcolor": "white",
            "linecolor": "white",
            "ticks": ""
           }
          },
          "scene": {
           "xaxis": {
            "backgroundcolor": "#E5ECF6",
            "gridcolor": "white",
            "gridwidth": 2,
            "linecolor": "white",
            "showbackground": true,
            "ticks": "",
            "zerolinecolor": "white"
           },
           "yaxis": {
            "backgroundcolor": "#E5ECF6",
            "gridcolor": "white",
            "gridwidth": 2,
            "linecolor": "white",
            "showbackground": true,
            "ticks": "",
            "zerolinecolor": "white"
           },
           "zaxis": {
            "backgroundcolor": "#E5ECF6",
            "gridcolor": "white",
            "gridwidth": 2,
            "linecolor": "white",
            "showbackground": true,
            "ticks": "",
            "zerolinecolor": "white"
           }
          },
          "shapedefaults": {
           "line": {
            "color": "#2a3f5f"
           }
          },
          "ternary": {
           "aaxis": {
            "gridcolor": "white",
            "linecolor": "white",
            "ticks": ""
           },
           "baxis": {
            "gridcolor": "white",
            "linecolor": "white",
            "ticks": ""
           },
           "bgcolor": "#E5ECF6",
           "caxis": {
            "gridcolor": "white",
            "linecolor": "white",
            "ticks": ""
           }
          },
          "title": {
           "x": 0.05
          },
          "xaxis": {
           "automargin": true,
           "gridcolor": "white",
           "linecolor": "white",
           "ticks": "",
           "title": {
            "standoff": 15
           },
           "zerolinecolor": "white",
           "zerolinewidth": 2
          },
          "yaxis": {
           "automargin": true,
           "gridcolor": "white",
           "linecolor": "white",
           "ticks": "",
           "title": {
            "standoff": 15
           },
           "zerolinecolor": "white",
           "zerolinewidth": 2
          }
         }
        },
        "title": {
         "text": "Сценарий: открыл карту объявлений => поиск => посмотрел номер телефона"
        },
        "width": 950
       }
      }
     },
     "metadata": {},
     "output_type": "display_data"
    },
    {
     "name": "stdout",
     "output_type": "stream",
     "text": [
      "Конверсия пользователей по сценарию \"открыл карту объявлений => поиск => посмотрел номер телефона\" составляет 2.75%\n"
     ]
    }
   ],
   "source": [
    "# построим воронку сценария 3.\n",
    "\n",
    "title = \"открыл карту объявлений => поиск => посмотрел номер телефона\"\n",
    "funnel_diagram('map','search','contacts_show', title)"
   ]
  },
  {
   "cell_type": "markdown",
   "metadata": {},
   "source": [
    "#### Сценарий 4. Поиск => открыл карту объявлений => посмотрел номер телефона телефона"
   ]
  },
  {
   "cell_type": "code",
   "execution_count": 48,
   "metadata": {},
   "outputs": [
    {
     "data": {
      "application/vnd.plotly.v1+json": {
       "config": {
        "plotlyServerURL": "https://plot.ly"
       },
       "data": [
        {
         "textfont": {
          "size": 15
         },
         "textinfo": "value+percent previous+percent initial",
         "textposition": [
          "inside",
          "outside",
          "outside"
         ],
         "type": "funnel",
         "x": [
          1666,
          241,
          42
         ],
         "y": [
          "search",
          "map",
          "contacts_show"
         ]
        }
       ],
       "layout": {
        "height": 500,
        "margin": {
         "b": 10,
         "l": 10,
         "r": 10
        },
        "template": {
         "data": {
          "bar": [
           {
            "error_x": {
             "color": "#2a3f5f"
            },
            "error_y": {
             "color": "#2a3f5f"
            },
            "marker": {
             "line": {
              "color": "#E5ECF6",
              "width": 0.5
             },
             "pattern": {
              "fillmode": "overlay",
              "size": 10,
              "solidity": 0.2
             }
            },
            "type": "bar"
           }
          ],
          "barpolar": [
           {
            "marker": {
             "line": {
              "color": "#E5ECF6",
              "width": 0.5
             },
             "pattern": {
              "fillmode": "overlay",
              "size": 10,
              "solidity": 0.2
             }
            },
            "type": "barpolar"
           }
          ],
          "carpet": [
           {
            "aaxis": {
             "endlinecolor": "#2a3f5f",
             "gridcolor": "white",
             "linecolor": "white",
             "minorgridcolor": "white",
             "startlinecolor": "#2a3f5f"
            },
            "baxis": {
             "endlinecolor": "#2a3f5f",
             "gridcolor": "white",
             "linecolor": "white",
             "minorgridcolor": "white",
             "startlinecolor": "#2a3f5f"
            },
            "type": "carpet"
           }
          ],
          "choropleth": [
           {
            "colorbar": {
             "outlinewidth": 0,
             "ticks": ""
            },
            "type": "choropleth"
           }
          ],
          "contour": [
           {
            "colorbar": {
             "outlinewidth": 0,
             "ticks": ""
            },
            "colorscale": [
             [
              0,
              "#0d0887"
             ],
             [
              0.1111111111111111,
              "#46039f"
             ],
             [
              0.2222222222222222,
              "#7201a8"
             ],
             [
              0.3333333333333333,
              "#9c179e"
             ],
             [
              0.4444444444444444,
              "#bd3786"
             ],
             [
              0.5555555555555556,
              "#d8576b"
             ],
             [
              0.6666666666666666,
              "#ed7953"
             ],
             [
              0.7777777777777778,
              "#fb9f3a"
             ],
             [
              0.8888888888888888,
              "#fdca26"
             ],
             [
              1,
              "#f0f921"
             ]
            ],
            "type": "contour"
           }
          ],
          "contourcarpet": [
           {
            "colorbar": {
             "outlinewidth": 0,
             "ticks": ""
            },
            "type": "contourcarpet"
           }
          ],
          "heatmap": [
           {
            "colorbar": {
             "outlinewidth": 0,
             "ticks": ""
            },
            "colorscale": [
             [
              0,
              "#0d0887"
             ],
             [
              0.1111111111111111,
              "#46039f"
             ],
             [
              0.2222222222222222,
              "#7201a8"
             ],
             [
              0.3333333333333333,
              "#9c179e"
             ],
             [
              0.4444444444444444,
              "#bd3786"
             ],
             [
              0.5555555555555556,
              "#d8576b"
             ],
             [
              0.6666666666666666,
              "#ed7953"
             ],
             [
              0.7777777777777778,
              "#fb9f3a"
             ],
             [
              0.8888888888888888,
              "#fdca26"
             ],
             [
              1,
              "#f0f921"
             ]
            ],
            "type": "heatmap"
           }
          ],
          "heatmapgl": [
           {
            "colorbar": {
             "outlinewidth": 0,
             "ticks": ""
            },
            "colorscale": [
             [
              0,
              "#0d0887"
             ],
             [
              0.1111111111111111,
              "#46039f"
             ],
             [
              0.2222222222222222,
              "#7201a8"
             ],
             [
              0.3333333333333333,
              "#9c179e"
             ],
             [
              0.4444444444444444,
              "#bd3786"
             ],
             [
              0.5555555555555556,
              "#d8576b"
             ],
             [
              0.6666666666666666,
              "#ed7953"
             ],
             [
              0.7777777777777778,
              "#fb9f3a"
             ],
             [
              0.8888888888888888,
              "#fdca26"
             ],
             [
              1,
              "#f0f921"
             ]
            ],
            "type": "heatmapgl"
           }
          ],
          "histogram": [
           {
            "marker": {
             "pattern": {
              "fillmode": "overlay",
              "size": 10,
              "solidity": 0.2
             }
            },
            "type": "histogram"
           }
          ],
          "histogram2d": [
           {
            "colorbar": {
             "outlinewidth": 0,
             "ticks": ""
            },
            "colorscale": [
             [
              0,
              "#0d0887"
             ],
             [
              0.1111111111111111,
              "#46039f"
             ],
             [
              0.2222222222222222,
              "#7201a8"
             ],
             [
              0.3333333333333333,
              "#9c179e"
             ],
             [
              0.4444444444444444,
              "#bd3786"
             ],
             [
              0.5555555555555556,
              "#d8576b"
             ],
             [
              0.6666666666666666,
              "#ed7953"
             ],
             [
              0.7777777777777778,
              "#fb9f3a"
             ],
             [
              0.8888888888888888,
              "#fdca26"
             ],
             [
              1,
              "#f0f921"
             ]
            ],
            "type": "histogram2d"
           }
          ],
          "histogram2dcontour": [
           {
            "colorbar": {
             "outlinewidth": 0,
             "ticks": ""
            },
            "colorscale": [
             [
              0,
              "#0d0887"
             ],
             [
              0.1111111111111111,
              "#46039f"
             ],
             [
              0.2222222222222222,
              "#7201a8"
             ],
             [
              0.3333333333333333,
              "#9c179e"
             ],
             [
              0.4444444444444444,
              "#bd3786"
             ],
             [
              0.5555555555555556,
              "#d8576b"
             ],
             [
              0.6666666666666666,
              "#ed7953"
             ],
             [
              0.7777777777777778,
              "#fb9f3a"
             ],
             [
              0.8888888888888888,
              "#fdca26"
             ],
             [
              1,
              "#f0f921"
             ]
            ],
            "type": "histogram2dcontour"
           }
          ],
          "mesh3d": [
           {
            "colorbar": {
             "outlinewidth": 0,
             "ticks": ""
            },
            "type": "mesh3d"
           }
          ],
          "parcoords": [
           {
            "line": {
             "colorbar": {
              "outlinewidth": 0,
              "ticks": ""
             }
            },
            "type": "parcoords"
           }
          ],
          "pie": [
           {
            "automargin": true,
            "type": "pie"
           }
          ],
          "scatter": [
           {
            "fillpattern": {
             "fillmode": "overlay",
             "size": 10,
             "solidity": 0.2
            },
            "type": "scatter"
           }
          ],
          "scatter3d": [
           {
            "line": {
             "colorbar": {
              "outlinewidth": 0,
              "ticks": ""
             }
            },
            "marker": {
             "colorbar": {
              "outlinewidth": 0,
              "ticks": ""
             }
            },
            "type": "scatter3d"
           }
          ],
          "scattercarpet": [
           {
            "marker": {
             "colorbar": {
              "outlinewidth": 0,
              "ticks": ""
             }
            },
            "type": "scattercarpet"
           }
          ],
          "scattergeo": [
           {
            "marker": {
             "colorbar": {
              "outlinewidth": 0,
              "ticks": ""
             }
            },
            "type": "scattergeo"
           }
          ],
          "scattergl": [
           {
            "marker": {
             "colorbar": {
              "outlinewidth": 0,
              "ticks": ""
             }
            },
            "type": "scattergl"
           }
          ],
          "scattermapbox": [
           {
            "marker": {
             "colorbar": {
              "outlinewidth": 0,
              "ticks": ""
             }
            },
            "type": "scattermapbox"
           }
          ],
          "scatterpolar": [
           {
            "marker": {
             "colorbar": {
              "outlinewidth": 0,
              "ticks": ""
             }
            },
            "type": "scatterpolar"
           }
          ],
          "scatterpolargl": [
           {
            "marker": {
             "colorbar": {
              "outlinewidth": 0,
              "ticks": ""
             }
            },
            "type": "scatterpolargl"
           }
          ],
          "scatterternary": [
           {
            "marker": {
             "colorbar": {
              "outlinewidth": 0,
              "ticks": ""
             }
            },
            "type": "scatterternary"
           }
          ],
          "surface": [
           {
            "colorbar": {
             "outlinewidth": 0,
             "ticks": ""
            },
            "colorscale": [
             [
              0,
              "#0d0887"
             ],
             [
              0.1111111111111111,
              "#46039f"
             ],
             [
              0.2222222222222222,
              "#7201a8"
             ],
             [
              0.3333333333333333,
              "#9c179e"
             ],
             [
              0.4444444444444444,
              "#bd3786"
             ],
             [
              0.5555555555555556,
              "#d8576b"
             ],
             [
              0.6666666666666666,
              "#ed7953"
             ],
             [
              0.7777777777777778,
              "#fb9f3a"
             ],
             [
              0.8888888888888888,
              "#fdca26"
             ],
             [
              1,
              "#f0f921"
             ]
            ],
            "type": "surface"
           }
          ],
          "table": [
           {
            "cells": {
             "fill": {
              "color": "#EBF0F8"
             },
             "line": {
              "color": "white"
             }
            },
            "header": {
             "fill": {
              "color": "#C8D4E3"
             },
             "line": {
              "color": "white"
             }
            },
            "type": "table"
           }
          ]
         },
         "layout": {
          "annotationdefaults": {
           "arrowcolor": "#2a3f5f",
           "arrowhead": 0,
           "arrowwidth": 1
          },
          "autotypenumbers": "strict",
          "coloraxis": {
           "colorbar": {
            "outlinewidth": 0,
            "ticks": ""
           }
          },
          "colorscale": {
           "diverging": [
            [
             0,
             "#8e0152"
            ],
            [
             0.1,
             "#c51b7d"
            ],
            [
             0.2,
             "#de77ae"
            ],
            [
             0.3,
             "#f1b6da"
            ],
            [
             0.4,
             "#fde0ef"
            ],
            [
             0.5,
             "#f7f7f7"
            ],
            [
             0.6,
             "#e6f5d0"
            ],
            [
             0.7,
             "#b8e186"
            ],
            [
             0.8,
             "#7fbc41"
            ],
            [
             0.9,
             "#4d9221"
            ],
            [
             1,
             "#276419"
            ]
           ],
           "sequential": [
            [
             0,
             "#0d0887"
            ],
            [
             0.1111111111111111,
             "#46039f"
            ],
            [
             0.2222222222222222,
             "#7201a8"
            ],
            [
             0.3333333333333333,
             "#9c179e"
            ],
            [
             0.4444444444444444,
             "#bd3786"
            ],
            [
             0.5555555555555556,
             "#d8576b"
            ],
            [
             0.6666666666666666,
             "#ed7953"
            ],
            [
             0.7777777777777778,
             "#fb9f3a"
            ],
            [
             0.8888888888888888,
             "#fdca26"
            ],
            [
             1,
             "#f0f921"
            ]
           ],
           "sequentialminus": [
            [
             0,
             "#0d0887"
            ],
            [
             0.1111111111111111,
             "#46039f"
            ],
            [
             0.2222222222222222,
             "#7201a8"
            ],
            [
             0.3333333333333333,
             "#9c179e"
            ],
            [
             0.4444444444444444,
             "#bd3786"
            ],
            [
             0.5555555555555556,
             "#d8576b"
            ],
            [
             0.6666666666666666,
             "#ed7953"
            ],
            [
             0.7777777777777778,
             "#fb9f3a"
            ],
            [
             0.8888888888888888,
             "#fdca26"
            ],
            [
             1,
             "#f0f921"
            ]
           ]
          },
          "colorway": [
           "#636efa",
           "#EF553B",
           "#00cc96",
           "#ab63fa",
           "#FFA15A",
           "#19d3f3",
           "#FF6692",
           "#B6E880",
           "#FF97FF",
           "#FECB52"
          ],
          "font": {
           "color": "#2a3f5f"
          },
          "geo": {
           "bgcolor": "white",
           "lakecolor": "white",
           "landcolor": "#E5ECF6",
           "showlakes": true,
           "showland": true,
           "subunitcolor": "white"
          },
          "hoverlabel": {
           "align": "left"
          },
          "hovermode": "closest",
          "mapbox": {
           "style": "light"
          },
          "paper_bgcolor": "white",
          "plot_bgcolor": "#E5ECF6",
          "polar": {
           "angularaxis": {
            "gridcolor": "white",
            "linecolor": "white",
            "ticks": ""
           },
           "bgcolor": "#E5ECF6",
           "radialaxis": {
            "gridcolor": "white",
            "linecolor": "white",
            "ticks": ""
           }
          },
          "scene": {
           "xaxis": {
            "backgroundcolor": "#E5ECF6",
            "gridcolor": "white",
            "gridwidth": 2,
            "linecolor": "white",
            "showbackground": true,
            "ticks": "",
            "zerolinecolor": "white"
           },
           "yaxis": {
            "backgroundcolor": "#E5ECF6",
            "gridcolor": "white",
            "gridwidth": 2,
            "linecolor": "white",
            "showbackground": true,
            "ticks": "",
            "zerolinecolor": "white"
           },
           "zaxis": {
            "backgroundcolor": "#E5ECF6",
            "gridcolor": "white",
            "gridwidth": 2,
            "linecolor": "white",
            "showbackground": true,
            "ticks": "",
            "zerolinecolor": "white"
           }
          },
          "shapedefaults": {
           "line": {
            "color": "#2a3f5f"
           }
          },
          "ternary": {
           "aaxis": {
            "gridcolor": "white",
            "linecolor": "white",
            "ticks": ""
           },
           "baxis": {
            "gridcolor": "white",
            "linecolor": "white",
            "ticks": ""
           },
           "bgcolor": "#E5ECF6",
           "caxis": {
            "gridcolor": "white",
            "linecolor": "white",
            "ticks": ""
           }
          },
          "title": {
           "x": 0.05
          },
          "xaxis": {
           "automargin": true,
           "gridcolor": "white",
           "linecolor": "white",
           "ticks": "",
           "title": {
            "standoff": 15
           },
           "zerolinecolor": "white",
           "zerolinewidth": 2
          },
          "yaxis": {
           "automargin": true,
           "gridcolor": "white",
           "linecolor": "white",
           "ticks": "",
           "title": {
            "standoff": 15
           },
           "zerolinecolor": "white",
           "zerolinewidth": 2
          }
         }
        },
        "title": {
         "text": "Сценарий: поиск => открыл карту объявлений => посмотрел номер телефона"
        },
        "width": 950
       }
      }
     },
     "metadata": {},
     "output_type": "display_data"
    },
    {
     "name": "stdout",
     "output_type": "stream",
     "text": [
      "Конверсия пользователей по сценарию \"поиск => открыл карту объявлений => посмотрел номер телефона\" составляет 2.52%\n"
     ]
    }
   ],
   "source": [
    "# построим воронку сценария 4.\n",
    "\n",
    "title = \"поиск => открыл карту объявлений => посмотрел номер телефона\"\n",
    "funnel_diagram('search', 'map', 'contacts_show', title)"
   ]
  },
  {
   "cell_type": "markdown",
   "metadata": {},
   "source": [
    "**Вывод**   \n",
    "\n",
    "В результате проведённого исследования мы пришли к следующим результатам:  \n",
    "- Конверсия пользователей по сценарию **\"поиск по сайту => просмотрел фотографии в объявлении => посмотрел номер телефона\"** составляет `5.04%`  \n",
    "- Конверсия пользователей по сценарию **\"открыл карту объявлений => поиск => посмотрел номер телефона\"** составляет `2.75%`\n",
    "- Конверсия пользователей по сценарию **\"открыл карту объявлений => открыл карточку объявления => посмотрел номер телефона\"** составляет `3.43%`    \n",
    "- Конверсия пользователей по сценарию **\"поиск => открыл карту объявлений => посмотрел номер телефона\"** составляет `2.52%`  \n",
    "\n",
    "\n",
    "Конверсия пользователей в мобильном приложении варьируется в зависимости от сценария взаимодействия. Наибольшая конверсия (5.04%) наблюдается при использовании сценария \"поиск по сайту => просмотрел фотографии в объявлении => посмотрел номер телефона\", в то время как наименьшая конверсия (2.52%) достигается при сценарии \"поиск по сайту => открыл карту объявлений => посмотрел номер телефона\". Для увеличения конверсии важно оптимизировать пользовательский опыт, сделав процесс поиска и просмотра информации более интуитивным и удобным. Рекомендуется также провести дополнительные исследования для выявления потенциальных улучшений в интерфейсе приложения и механизмах стимулирования пользователей к завершению целевых действий.\n",
    "\n"
   ]
  },
  {
   "cell_type": "markdown",
   "metadata": {},
   "source": [
    "### Расчёт частоты событий в разрезе двух групп пользователей"
   ]
  },
  {
   "cell_type": "markdown",
   "metadata": {},
   "source": [
    " Оценим, какие действия чаще совершают пользователи из двух групп:  \n",
    "- группа пользователей, которые смотрели контакты - contacts_show  \n",
    "- группа пользователей, которые не смотрели контакты - contacts_show  "
   ]
  },
  {
   "cell_type": "code",
   "execution_count": 49,
   "metadata": {},
   "outputs": [
    {
     "data": {
      "text/html": [
       "<div>\n",
       "<style scoped>\n",
       "    .dataframe tbody tr th:only-of-type {\n",
       "        vertical-align: middle;\n",
       "    }\n",
       "\n",
       "    .dataframe tbody tr th {\n",
       "        vertical-align: top;\n",
       "    }\n",
       "\n",
       "    .dataframe thead th {\n",
       "        text-align: right;\n",
       "    }\n",
       "</style>\n",
       "<table border=\"1\" class=\"dataframe\">\n",
       "  <thead>\n",
       "    <tr style=\"text-align: right;\">\n",
       "      <th></th>\n",
       "      <th>event_name</th>\n",
       "      <th>pct_of_show</th>\n",
       "      <th>pct_of_notshow</th>\n",
       "    </tr>\n",
       "  </thead>\n",
       "  <tbody>\n",
       "    <tr>\n",
       "      <th>6</th>\n",
       "      <td>search</td>\n",
       "      <td>14.65</td>\n",
       "      <td>30.24</td>\n",
       "    </tr>\n",
       "    <tr>\n",
       "      <th>4</th>\n",
       "      <td>map</td>\n",
       "      <td>11.23</td>\n",
       "      <td>27.38</td>\n",
       "    </tr>\n",
       "    <tr>\n",
       "      <th>5</th>\n",
       "      <td>photos_show</td>\n",
       "      <td>13.18</td>\n",
       "      <td>17.74</td>\n",
       "    </tr>\n",
       "    <tr>\n",
       "      <th>0</th>\n",
       "      <td>advert_open</td>\n",
       "      <td>5.36</td>\n",
       "      <td>14.38</td>\n",
       "    </tr>\n",
       "    <tr>\n",
       "      <th>7</th>\n",
       "      <td>tips_click</td>\n",
       "      <td>3.89</td>\n",
       "      <td>5.21</td>\n",
       "    </tr>\n",
       "    <tr>\n",
       "      <th>3</th>\n",
       "      <td>favorites_add</td>\n",
       "      <td>5.29</td>\n",
       "      <td>5.04</td>\n",
       "    </tr>\n",
       "    <tr>\n",
       "      <th>1</th>\n",
       "      <td>contacts_call</td>\n",
       "      <td>8.28</td>\n",
       "      <td>NaN</td>\n",
       "    </tr>\n",
       "    <tr>\n",
       "      <th>2</th>\n",
       "      <td>contacts_show</td>\n",
       "      <td>38.13</td>\n",
       "      <td>NaN</td>\n",
       "    </tr>\n",
       "  </tbody>\n",
       "</table>\n",
       "</div>"
      ],
      "text/plain": [
       "      event_name  pct_of_show  pct_of_notshow\n",
       "6  search         14.65        30.24         \n",
       "4  map            11.23        27.38         \n",
       "5  photos_show    13.18        17.74         \n",
       "0  advert_open    5.36         14.38         \n",
       "7  tips_click     3.89         5.21          \n",
       "3  favorites_add  5.29         5.04          \n",
       "1  contacts_call  8.28        NaN            \n",
       "2  contacts_show  38.13       NaN            "
      ]
     },
     "execution_count": 49,
     "metadata": {},
     "output_type": "execute_result"
    }
   ],
   "source": [
    "# группа пользователей, которые смотрели контакты\n",
    "df_group = script.copy()\n",
    "df_group[\"event_name\"] = df_group[\"event_name\"].str.replace(r'search_\\d+', 'search', regex=True)\n",
    "df_group_unique = df_group.query('event_name == \"contacts_show\"')['user_id'].unique()\n",
    "contacts_show_group = df_group[df_group['user_id'].isin(df_group_unique)].groupby('event_name')\\\n",
    "                                                            .size().reset_index(name='count_of_show')\n",
    "contacts_show_group['pct_of_show'] = ((contacts_show_group['count_of_show'] / contacts_show_group['count_of_show']\\\n",
    "                                                           .sum() * 100)).round(2)\n",
    "\n",
    "# группа пользователей, которые не смотрели контакты\n",
    "no_contacts_show_group = df_group[~df_group['user_id'].isin(df_group_unique)].groupby('event_name').\\\n",
    "                                                            size().reset_index(name='count_of_notshow')\n",
    "no_contacts_show_group['pct_of_notshow'] = ((no_contacts_show_group['count_of_notshow'] / \n",
    "                                             no_contacts_show_group['count_of_notshow'].sum() * 100)).round(2)\n",
    "\n",
    "# объединение групп\n",
    "common_table = contacts_show_group.merge(no_contacts_show_group, on = 'event_name', how='left')\n",
    "common_table = common_table.drop(columns=['count_of_show', 'count_of_notshow'])\n",
    "common_table = common_table.sort_values('pct_of_notshow', ascending=False)\n",
    "common_table"
   ]
  },
  {
   "cell_type": "code",
   "execution_count": 50,
   "metadata": {},
   "outputs": [
    {
     "data": {
      "image/png": "[encoded data removed]",
      "text/plain": [
       "<Figure size 1500x700 with 1 Axes>"
      ]
     },
     "metadata": {},
     "output_type": "display_data"
    }
   ],
   "source": [
    "event_names = common_table['event_name']\n",
    "pct_of_show = common_table['pct_of_show']\n",
    "pct_of_notshow = common_table['pct_of_notshow']\n",
    "\n",
    "fig, ax = plt.subplots(figsize=(15, 7))\n",
    "bar_width = 0.35\n",
    "\n",
    "index = np.arange(len(event_names))\n",
    "\n",
    "bar1 = ax.bar(index, pct_of_show, bar_width, color='#ff7f0e', label='Смотревшие контакты')\n",
    "bar2 = ax.bar(index + bar_width, pct_of_notshow, bar_width, color='#1f77b4', label='Не смотревшие контакты')\n",
    "\n",
    "ax.set_xlabel('Событие', fontsize=12)\n",
    "ax.set_ylabel('Частота события, %', fontsize=12)\n",
    "ax.set_title('Доли событий в группах смотревших контакты и не смотревших контакты', fontsize=14, loc='left')\n",
    "\n",
    "ax.legend(title='Статус')\n",
    "\n",
    "ax.set_xticks(index + bar_width / 2)\n",
    "ax.set_xticklabels(event_names)\n",
    "\n",
    "plt.show();"
   ]
  },
  {
   "cell_type": "markdown",
   "metadata": {},
   "source": [
    "**Вывод:**  \n",
    "\n",
    "Из анализа представленной информации можно сделать вывод, что обе группы пользователей имеют схожие популярные действия. Можно отметить, что у группы просмотревшей контакты на втором месте по популярности после события search следует событие photos_show, в то время как у второй группы на втором месте событие map, а photos_show - на третьем. Также видно, что на последнем месте первой группы стоит событие tips_click, у второй группы, не смотревшей контакты - favorites_add."
   ]
  },
  {
   "cell_type": "markdown",
   "metadata": {},
   "source": [
    "### Проверка гипотез"
   ]
  },
  {
   "cell_type": "code",
   "execution_count": 51,
   "metadata": {},
   "outputs": [
    {
     "data": {
      "text/html": [
       "<div>\n",
       "<style scoped>\n",
       "    .dataframe tbody tr th:only-of-type {\n",
       "        vertical-align: middle;\n",
       "    }\n",
       "\n",
       "    .dataframe tbody tr th {\n",
       "        vertical-align: top;\n",
       "    }\n",
       "\n",
       "    .dataframe thead th {\n",
       "        text-align: right;\n",
       "    }\n",
       "</style>\n",
       "<table border=\"1\" class=\"dataframe\">\n",
       "  <thead>\n",
       "    <tr style=\"text-align: right;\">\n",
       "      <th></th>\n",
       "      <th>event_time</th>\n",
       "      <th>event_name</th>\n",
       "      <th>user_id</th>\n",
       "      <th>browser</th>\n",
       "      <th>session_id</th>\n",
       "    </tr>\n",
       "  </thead>\n",
       "  <tbody>\n",
       "    <tr>\n",
       "      <th>0</th>\n",
       "      <td>2019-10-07 13:39:45.989359</td>\n",
       "      <td>tips_show</td>\n",
       "      <td>0001b1d5-b74a-4cbf-aeb0-7df5947bf349</td>\n",
       "      <td>other</td>\n",
       "      <td>1</td>\n",
       "    </tr>\n",
       "    <tr>\n",
       "      <th>9</th>\n",
       "      <td>2019-10-09 18:33:55.577963</td>\n",
       "      <td>map</td>\n",
       "      <td>0001b1d5-b74a-4cbf-aeb0-7df5947bf349</td>\n",
       "      <td>other</td>\n",
       "      <td>2</td>\n",
       "    </tr>\n",
       "    <tr>\n",
       "      <th>35</th>\n",
       "      <td>2019-10-19 21:34:33.849769</td>\n",
       "      <td>search</td>\n",
       "      <td>00157779-810c-4498-9e05-a1e9e3cedf93</td>\n",
       "      <td>yandex</td>\n",
       "      <td>5</td>\n",
       "    </tr>\n",
       "    <tr>\n",
       "      <th>38</th>\n",
       "      <td>2019-10-19 21:40:38.990477</td>\n",
       "      <td>photos_show</td>\n",
       "      <td>00157779-810c-4498-9e05-a1e9e3cedf93</td>\n",
       "      <td>yandex</td>\n",
       "      <td>5</td>\n",
       "    </tr>\n",
       "    <tr>\n",
       "      <th>46</th>\n",
       "      <td>2019-10-20 19:03:02.030004</td>\n",
       "      <td>favorites_add</td>\n",
       "      <td>00157779-810c-4498-9e05-a1e9e3cedf93</td>\n",
       "      <td>yandex</td>\n",
       "      <td>6</td>\n",
       "    </tr>\n",
       "  </tbody>\n",
       "</table>\n",
       "</div>"
      ],
      "text/plain": [
       "                   event_time     event_name  \\\n",
       "0  2019-10-07 13:39:45.989359  tips_show       \n",
       "9  2019-10-09 18:33:55.577963  map             \n",
       "35 2019-10-19 21:34:33.849769  search          \n",
       "38 2019-10-19 21:40:38.990477  photos_show     \n",
       "46 2019-10-20 19:03:02.030004  favorites_add   \n",
       "\n",
       "                                 user_id browser  session_id  \n",
       "0   0001b1d5-b74a-4cbf-aeb0-7df5947bf349  other   1           \n",
       "9   0001b1d5-b74a-4cbf-aeb0-7df5947bf349  other   2           \n",
       "35  00157779-810c-4498-9e05-a1e9e3cedf93  yandex  5           \n",
       "38  00157779-810c-4498-9e05-a1e9e3cedf93  yandex  5           \n",
       "46  00157779-810c-4498-9e05-a1e9e3cedf93  yandex  6           "
      ]
     },
     "execution_count": 51,
     "metadata": {},
     "output_type": "execute_result"
    }
   ],
   "source": [
    "# Формируем данные \n",
    "\n",
    "conversion_model = mobile_df.copy()\n",
    "conversion_model[\"event_name\"] = conversion_model[\"event_name\"].str.replace(r'search_\\d+', 'search', regex=True)\n",
    "conversion_model = conversion_model.drop_duplicates(['event_name', 'user_id'],keep='first')\n",
    "conversion_model = conversion_model.rename(columns={'source': 'browser'})\n",
    "conversion_model.head()"
   ]
  },
  {
   "cell_type": "markdown",
   "metadata": {},
   "source": [
    "#### Гипотеза 1.\n",
    "Одни пользователи совершают действия tips_show и tips_click , другие — только tips_show.   \n",
    "Проверим гипотезу: конверсия в просмотры контактов(ЦС) различается у этих двух групп.  "
   ]
  },
  {
   "cell_type": "code",
   "execution_count": 52,
   "metadata": {},
   "outputs": [
    {
     "name": "stdout",
     "output_type": "stream",
     "text": [
      "Количество пользователей совершивших \"tips_show\" + \"tips_click\": 297\n",
      "Количество пользователей совершивших \"tips_show\" + \"tips_click\" и достигших ЦС \"contacts_show:       91\n",
      "Коэффициент конверсии \"tips_show\" => \"contacts_show\":       0.306\n"
     ]
    }
   ],
   "source": [
    "# Рассчитаем количество пользователей совершивших \"tips_show\" + \"tips_click\"\n",
    "tips_clicks_show = (conversion_model.query('event_name in [\"tips_show\", \"tips_click\"]')\n",
    "                    .groupby('user_id').size().reset_index(name='count')\n",
    "                    .loc[lambda x: x['count'] != 1]['user_id'])\n",
    "print(f'Количество пользователей совершивших \"tips_show\" + \"tips_click\": {len(tips_clicks_show)}')\n",
    "\n",
    "# Рассчитаем количество пользователей совершивших \"tips_show\" + \"tips_click\" и достигших ЦС \"contacts_show\"\n",
    "tips_clicks_contacts_show = conversion_model.query('user_id in @tips_clicks_show and event_name == \"contacts_show\"')\n",
    "print(f'Количество пользователей совершивших \"tips_show\" + \"tips_click\" и достигших ЦС \"contacts_show: \\\n",
    "      {len(tips_clicks_contacts_show)}')\n",
    "\n",
    "# Рассчитаем конверсию в ЦС\n",
    "print(f'Коэффициент конверсии \"tips_show\" => \"contacts_show\": \\\n",
    "      {round((len(tips_clicks_contacts_show)/len(tips_clicks_show)),3)}')"
   ]
  },
  {
   "cell_type": "code",
   "execution_count": 53,
   "metadata": {},
   "outputs": [
    {
     "name": "stdout",
     "output_type": "stream",
     "text": [
      "Количество пользователей совершивших \"tips_show\": 2504\n",
      "Количество пользователей совершивших \"tips_show\" и достигших ЦС \"contacts_show: 425\n",
      "Коэффициент конверсии \"tips_show\" => \"contacts_show\": 0.17\n"
     ]
    }
   ],
   "source": [
    "# Рассчитаем количество пользователей совершивших \"tips_show\"\n",
    "tips_show = conversion_model.query('event_name == \"tips_show\" and user_id not in @tips_clicks_show')['user_id']\n",
    "print(f'Количество пользователей совершивших \"tips_show\": {len(tips_show)}')\n",
    "\n",
    "# Рассчитаем количество пользователей совершивших \"tips_show\" и достигших ЦС \"contacts_show\"\n",
    "tips_contacts_show = conversion_model.query('user_id in @tips_show and event_name == \"contacts_show\"')\n",
    "print(f'Количество пользователей совершивших \"tips_show\" и достигших ЦС \"contacts_show: {len(tips_contacts_show)}')\n",
    "\n",
    "# Рассчитаем конверсию в ЦС\n",
    "print(f'Коэффициент конверсии \"tips_show\" => \"contacts_show\": {round((len(tips_contacts_show)/len(tips_show)),3)}')"
   ]
  },
  {
   "cell_type": "markdown",
   "metadata": {},
   "source": [
    "Важно отметить, что конверсия первой группы, где у пользователей в качестве дополнительного шага было действие \"tips_clicks\" выше, чем второй группы."
   ]
  },
  {
   "cell_type": "markdown",
   "metadata": {},
   "source": [
    "Сформулируем нулевую(Н0) и альтернативную(H1) гипотезы.  \n",
    "**H0**: \"Конверсии в просмотры контактов у двух групп не различаются\"  \n",
    "**H1**: \"Конверсии в просмотры контактов у двух групп различаются\"  \n",
    "Уровень статистической значимости alpha примем равным 0.05"
   ]
  },
  {
   "cell_type": "code",
   "execution_count": 54,
   "metadata": {},
   "outputs": [
    {
     "name": "stdout",
     "output_type": "stream",
     "text": [
      "Значение p_value: 9.218316568768822e-09\n",
      "Отвергаем нулевую гипотезу: конверсия в ЦС у двух групп различаются!\n"
     ]
    }
   ],
   "source": [
    "# Проводим статистический тест\n",
    "alpha = 0.05\n",
    "count = np.array([len(tips_clicks_contacts_show), len(tips_contacts_show)])\n",
    "nobs = np.array([len(tips_clicks_show), len(tips_show)])\n",
    "\n",
    "stat_value, p_value = proportions_ztest(count, nobs)\n",
    "\n",
    "\n",
    "print(f'Значение p_value: {p_value}')\n",
    "if p_value < alpha:\n",
    "    print(f'Отвергаем нулевую гипотезу: конверсия в ЦС у двух групп различаются!')\n",
    "else:\n",
    "    print(f'Принимаем нулевую гипотезу: конверсия в ЦС у двух групп не различаются!')"
   ]
  },
  {
   "cell_type": "markdown",
   "metadata": {},
   "source": [
    "**Вывод**  \n",
    "Гипотезу о том, что конверсия в просмотры контактов различается у двух групп опровергнуть не удалось. Группа \"tips_show + tips_click\" и группа \"tips_show\" имеют разные конверсии в ЦС."
   ]
  },
  {
   "cell_type": "markdown",
   "metadata": {},
   "source": [
    "#### Гипотеза 2.\n",
    "Одни пользователи совершают действия tip_show, tips_click , другие — search, advert_open.   \n",
    "Проверим гипотезу: конверсия в просмотры контактов различается у этих двух групп. "
   ]
  },
  {
   "cell_type": "code",
   "execution_count": 55,
   "metadata": {},
   "outputs": [
    {
     "name": "stdout",
     "output_type": "stream",
     "text": [
      "Количество пользователей совершивших \"tips_show\" + \"tips_click\": 297\n",
      "Количество пользователей совершивших \"tips_show\" + \"tips_click\" и достигших ЦС \"contacts_show:     91\n",
      "Коэффициент конверсии \"tips_show\" => \"contacts_show\":     0.306\n"
     ]
    }
   ],
   "source": [
    "print(f'Количество пользователей совершивших \"tips_show\" + \"tips_click\": {len(tips_clicks_show)}')\n",
    "print(f'Количество пользователей совершивших \"tips_show\" + \"tips_click\" и достигших ЦС \"contacts_show: \\\n",
    "    {len(tips_clicks_contacts_show)}')\n",
    "print(f'Коэффициент конверсии \"tips_show\" => \"contacts_show\": \\\n",
    "    {round((len(tips_clicks_contacts_show)/len(tips_clicks_show)),3)}')"
   ]
  },
  {
   "cell_type": "code",
   "execution_count": 56,
   "metadata": {},
   "outputs": [
    {
     "name": "stdout",
     "output_type": "stream",
     "text": [
      "Количество пользователей совершивших \"search\" и \"advert_open\": 307\n",
      "Количество пользователей совершивших \"search\" и \"advert_open\" и достигших ЦС \"contacts_show:     68\n",
      "Коэффициент конверсии \"search\" => \"contacts_show\": 0.221\n"
     ]
    }
   ],
   "source": [
    "# Рассчитаем количество пользователей совершивших \"search\" и \"advert_open\"\n",
    "map_df = (conversion_model.query('event_name == [\"search\", \"advert_open\"] and user_id not in @tips_clicks_show')\n",
    "                    .groupby('user_id').size().reset_index(name='count')\n",
    "                    .loc[lambda x: x['count'] != 1]['user_id'])\n",
    "print(f'Количество пользователей совершивших \"search\" и \"advert_open\": {len(map_df)}')\n",
    "\n",
    "# Рассчитаем количество пользователей совершивших \"search\" + \"advert_open\" и достигших ЦС \"contacts_show\"\n",
    "map_advert_open_df = conversion_model.query('user_id in @map_df and event_name == \"contacts_show\"')\n",
    "print(f'Количество пользователей совершивших \"search\" и \"advert_open\" и достигших ЦС \"contacts_show: \\\n",
    "    {len(map_advert_open_df)}')\n",
    "\n",
    "# Рассчитаем конверсию в ЦС\n",
    "print(f'Коэффициент конверсии \"search\" => \"contacts_show\": {round((len(map_advert_open_df)/len(map_df)),3)}')"
   ]
  },
  {
   "cell_type": "markdown",
   "metadata": {},
   "source": [
    "Конверсия в группе, где пользователи пришли к ЦС через 'search' и 'advert_open' меньше, чем в группе, в которой пользователи пришили к ЦС через 'tips_show' и 'tips_click'"
   ]
  },
  {
   "cell_type": "markdown",
   "metadata": {},
   "source": [
    "Сформулируем нулевую(Н0) и альтернативную(H1) гипотезы.  \n",
    "**H0**: \"Конверсии в просмотры контактов у двух групп не различаются\"  \n",
    "**H1**: \"Конверсии в просмотры контактов у двух групп различаются\"  \n",
    "Уровень статистической значимости alpha примем равным 0.05"
   ]
  },
  {
   "cell_type": "code",
   "execution_count": 57,
   "metadata": {},
   "outputs": [
    {
     "name": "stdout",
     "output_type": "stream",
     "text": [
      "Значение p_value: 0.017856123537999282\n",
      "Отвергаем нулевую гипотезу: конверсия в ЦС у двух групп различаются!\n"
     ]
    }
   ],
   "source": [
    "# Проводим статистический тест\n",
    "alpha = 0.05\n",
    "count = np.array([len(tips_clicks_contacts_show), len(map_advert_open_df)])\n",
    "nobs = np.array([len(tips_clicks_show), len(map_df)])\n",
    "\n",
    "stat_value, p_value = proportions_ztest(count, nobs)\n",
    "\n",
    "\n",
    "print(f'Значение p_value: {p_value}')\n",
    "if p_value < alpha:\n",
    "    print(f'Отвергаем нулевую гипотезу: конверсия в ЦС у двух групп различаются!')\n",
    "else:\n",
    "    print(f'Принимаем нулевую гипотезу: конверсия в ЦС у двух групп не различаются!')"
   ]
  },
  {
   "cell_type": "markdown",
   "metadata": {},
   "source": [
    "**Вывод**  \n",
    "Гипотезу о том, что конверсия в просмотры контактов различается у двух групп опровергнуть не удалось. Группа \"tips_show + tips_click\" и группа \"search + advert_open\" имеют разные конверсии в ЦС."
   ]
  },
  {
   "cell_type": "markdown",
   "metadata": {},
   "source": [
    "### Общий итог"
   ]
  },
  {
   "cell_type": "markdown",
   "metadata": {},
   "source": [
    "**Результаты предобработки данных:**  \n",
    "\n",
    "---\n",
    "\n",
    "1. `Чтение данных:`  \n",
    "   - Данные были извлечены из двух csv-файлов.\n",
    "2. `Датафрейм mobile_dataset:`\n",
    "   - Содержит три параметра: event_time, event_name, user_id.\n",
    "   - Объем данных составляет 74197 наблюдений.\n",
    "3. `Датафрейм mobile_source:`\n",
    "   - Содержит два параметра: userId, source.\n",
    "   - Объем данных составляет 4293 наблюдения.\n",
    "4. `Переименование столбцов:`\n",
    "   - Названия столбцов в обоих датафреймах были изменены.\n",
    "5. `Преобразование данных:`\n",
    "   - Тип данных в колонке event_time был изменен с object на datetime.\n",
    "6. `Временной диапазон данных:`\n",
    "   - Данные охватывают период с 2019-10-07 по 2019-11-03.\n",
    "7. `Изменение значения параметра:`\n",
    "   - Значение параметра event_name \"show_contacts\" было изменено на \"contacts_show\".\n",
    "8. `Проверка на пропуски и дубликаты:`\n",
    "   - В обоих датафреймах не было обнаружено пропусков или дубликатов.\n",
    "9. `Поиск неявных дубликатов:`\n",
    "   - Не было обнаружено неявных дубликатов.\n",
    "10. `Уникальные значения user_id:`\n",
    "    - Всего уникальных значений user_id: 4293.\n",
    "11. `Объединение датафреймов:`\n",
    "    - Датафреймы mobile_dataset и mobile_source были объединены в один."
   ]
  },
  {
   "cell_type": "markdown",
   "metadata": {},
   "source": [
    "**Выделение сессий**\n",
    "\n",
    "---\n",
    "\n",
    "`Выбор продолжительности тайм-аута:` для приложения, не требующего высокого уровня безопасности, рекомендуется установить тайм-аут в 15 минут.<p>\n",
    "`Пользовательские сессии:` общее количество сессий составляет 11537. Количество уникальных сессий на каждого пользователя: на одного пользователя приходится от 1 до 116 сессий, с медианным значением в 2 сессии.<p>\n",
    "`Длительность сессий:` сессии могут длиться от 0 до 233 минут, с медианным значением в 4 минуты и средним значением в 9 минут.<p>\n",
    "`Распределение событий по сессиям:` медиана событий на пользователя составляет 9, с минимальным значением в 1 и максимальным в 478 событий на пользователя.<p>\n",
    "`Распределение событий по типу:` наиболее популярным событием среди пользователей является 'tips_show' (просмотр рекомендованных объявлений), за которым следуют просмотр фотографий, 'advert_open', 'contacts_show' и 'map'. События, связанные с поисковыми запросами, занимают последнее место в рейтинге.<p>"
   ]
  },
  {
   "cell_type": "markdown",
   "metadata": {},
   "source": [
    "**Выделение сценариев пользователей**\n",
    "\n",
    "---\n",
    "\n",
    "Диаграмма Санкея предоставляет наглядное представление о том, как пользователи взаимодействуют с сайтом на различных этапах. Интерес представляют сценарии, в которых имеется два или более шагов до достижения целевого события - просмотра контактов (contacts_show). Из диаграммы мы можем выделить следующие сценарии для более детального изучения:\n",
    "\n",
    "`Сценарий 1:` поиск по сайту => просмотрел фотографии в объявлении => посмотрел номер телефона (search -> photos_show -> contacts_show)\n",
    "\n",
    "`Сценарий 2:` открыл карту объявлений => поиск по сайту => посмотрел номер телефона (map -> search -> contacts_show)\n",
    "\n",
    "`Сценарий 3:` открыл карту объявлений => открыл карточку объявления => посмотрел номер телефона (map -> advert_open -> contacts_show)\n",
    "\n",
    "`Сценарий 4:` поиск по сайту => открыл карту объявлений => посмотрел номер телефона (search -> map -> contacts_show)"
   ]
  },
  {
   "cell_type": "markdown",
   "metadata": {},
   "source": [
    "**Расчёт конверсий и  воронок**\n",
    "\n",
    "---\n",
    "\n",
    "Оцениваются четыре основных сценария, включая процент конверсии.  \n",
    "\n",
    "**\"Поиск по сайту => Просмотрел фотографии в объявлении => Посмотрел номер телефона\"**\n",
    "- Конверсия: 5.04%  \n",
    "\n",
    "**\"Открыл карту объявлений => Поиск по сайту => Посмотрел номер телефона\"**\n",
    "- Конверсия: 2.75%\n",
    "\n",
    "**\"Открыл карту объявлений => Открыл карточку объявления => Посмотрел номер телефона\"**\n",
    "- Конверсия: 3.43% \n",
    "\n",
    "**\"Поиск по сайту => Открыл карту объявлений => Посмотрел номер телефона\"**\n",
    "- Конверсия: 2.52%\n",
    "\n",
    "\n",
    "**`Рекомендации:`**  \n",
    "Учитывая, что первый шаг в большинстве случаев начинается с поиска по сайту, необходимо уделить особое внимание удобству и эффективности поисковой системы в приложении. Нужно убедиться, что поиск интуитивно понятен, быстр и точен, чтобы пользователи могли легко найти нужную информацию. Поскольку просмотра фотографий имеет высокий процент конверсии, важно сделать просмотр фотографий более удобным и привлекательным для пользователей. Также это касается и просмотра номера телефона, поэтому надо убедиться, что контактная информация легко доступна и выделена на странице объявления. Необходимо обеспечить ясное отображение всех доступных объявлений, удобную навигацию и возможность быстрого перехода к просмотру подробной информации. Тестирование A/B и мульти-вариантное тестирование поможет определить наиболее эффективные изменения для улучшения конверсии.\n"
   ]
  },
  {
   "cell_type": "markdown",
   "metadata": {},
   "source": [
    "**Расчёт частоты событий в разрезе двух групп пользователей(те, кто смотрел контакты и те, кто не смотрел контакты)**  \n",
    "\n",
    "---\n",
    "\n",
    "Из анализа представленной информации можно сделать вывод, что обе группы пользователей выполняют схожие действия, популярность которых приблизительно одинакова. Отмечается, что группа, просматривавшая контакты, чаще всего после действия \"search\" переходит к просмотру фотографий, в то время как другая группа после \"search\" чаще переходит к просмотру карты, а затем к фотографиям. Также стоит отметить, что последним действием в первой группе является \"tips_click\", а во второй - \"favorites_add\".\n",
    "\n",
    "**`Рекомендации:`**  \n",
    "Данные результаты позволяют предположить, что улучшить пользовательский опыт можно путем более активного привлечения пользователей к функциям совершения звонка, таким как contacts_call и contact_show, чтобы обеспечить им более полное взаимодействие с приложением."
   ]
  },
  {
   "cell_type": "markdown",
   "metadata": {},
   "source": [
    "**Проверка гипотез**\n",
    "\n",
    "---\n",
    "\n",
    "**Гипотеза 1**  \n",
    "Одни пользователи совершают действия tips_show и tips_click , другие — только tips_show.   \n",
    "Гипотеза: конверсия в просмотры контактов(ЦС) различается у этих двух групп.  \n",
    "Результат: гипотезу о том, что конверсия в просмотры контактов различается у двух групп опровергнуть не удалось. Гуппа \"tips_show + tips_click\" и группа \"tips_show\" имеют разные конверсии в ЦС.\n",
    "\n",
    "\n",
    "**`Рекомендации:`**  \n",
    "Из результатов статистического теста можно сделать вывод, что наличие дополнительного действия (tips_click) у пользователей повышает конверсию в просмотры контактов(0.30 vs 0.17). Это может быть связано с тем, что пользователи, которые проявляют больший интерес к контенту (достаточно кликнуть на подсказку), более склонны к дальнейшим действиям, таким как просмотр контактов.  \n",
    "Для увеличения конверсии в просмотры контактов можно предложить следующие идеи:\n",
    "- Оптимизировать контент и подсказки, чтобы привлечь внимание пользователей и стимулировать их к действиям.\n",
    "- Провести A/B тестирование с различными вариантами дополнительных действий или подсказок, чтобы определить наиболее эффективные способы увеличения конверсии.\n",
    "\n",
    "\n",
    "**Гипотеза 2**  \n",
    "Одни пользователи совершают действия tip_show, tips_click , другие — search, advert_open.   \n",
    "Гипотеза: конверсия в просмотры контактов различается у этих двух групп.  \n",
    "Результат: гипотезу о том, что конверсия в просмотры контактов различается у двух групп опровергнуть не удалось. Группа \"tips_show + tips_click\" и группа \"search + advert_open\" имеют разные конверсии в ЦС.\n",
    "Конверсия у группы tip_show, tips_click больше чем у группы search, advert_open(0.30 vs 0.22)\n",
    "\n",
    "**`Рекомендации:`**  \n",
    "Идеи для дальнейших исследований включают анализ более детальных данных о поведении пользователей после просмотра контактов, проведение A/B тестов для оптимизации процесса привлечения пользователей к просмотру контактов, а также изучение конверсии в другие целевые действия."
   ]
  },
  {
   "cell_type": "markdown",
   "metadata": {},
   "source": [
    "[Презентация на тему \"Анализ поведения пользователей в мобильном приложении\"](https://disk.yandex.ru/i/L-SuhjZ1zdvM1Q)"
   ]
  }
 ],
 "metadata": {
  "ExecuteTimeLog": [
   {
    "duration": 1412,
    "start_time": "2024-02-22T14:53:33.799Z"
   },
   {
    "duration": 5,
    "start_time": "2024-02-22T14:53:35.213Z"
   },
   {
    "duration": 430,
    "start_time": "2024-02-22T14:53:35.220Z"
   },
   {
    "duration": 38,
    "start_time": "2024-02-22T14:53:35.652Z"
   },
   {
    "duration": 12,
    "start_time": "2024-02-22T14:53:35.692Z"
   },
   {
    "duration": 31,
    "start_time": "2024-02-22T14:53:35.705Z"
   },
   {
    "duration": 127,
    "start_time": "2024-02-22T14:53:35.737Z"
   },
   {
    "duration": 0,
    "start_time": "2024-02-22T14:53:35.868Z"
   },
   {
    "duration": 0,
    "start_time": "2024-02-22T14:53:35.869Z"
   },
   {
    "duration": 0,
    "start_time": "2024-02-22T14:53:35.871Z"
   },
   {
    "duration": 0,
    "start_time": "2024-02-22T14:53:35.872Z"
   },
   {
    "duration": 0,
    "start_time": "2024-02-22T14:53:35.873Z"
   },
   {
    "duration": 0,
    "start_time": "2024-02-22T14:53:35.874Z"
   },
   {
    "duration": 0,
    "start_time": "2024-02-22T14:53:35.875Z"
   },
   {
    "duration": 0,
    "start_time": "2024-02-22T14:53:35.877Z"
   },
   {
    "duration": 0,
    "start_time": "2024-02-22T14:53:35.877Z"
   },
   {
    "duration": 0,
    "start_time": "2024-02-22T14:53:35.878Z"
   },
   {
    "duration": 0,
    "start_time": "2024-02-22T14:53:35.879Z"
   },
   {
    "duration": 0,
    "start_time": "2024-02-22T14:53:35.880Z"
   },
   {
    "duration": 0,
    "start_time": "2024-02-22T14:53:35.881Z"
   },
   {
    "duration": 0,
    "start_time": "2024-02-22T14:53:35.882Z"
   },
   {
    "duration": 0,
    "start_time": "2024-02-22T14:53:35.917Z"
   },
   {
    "duration": 0,
    "start_time": "2024-02-22T14:53:35.918Z"
   },
   {
    "duration": 0,
    "start_time": "2024-02-22T14:53:35.919Z"
   },
   {
    "duration": 0,
    "start_time": "2024-02-22T14:53:35.920Z"
   },
   {
    "duration": 0,
    "start_time": "2024-02-22T14:53:35.921Z"
   },
   {
    "duration": 0,
    "start_time": "2024-02-22T14:53:35.923Z"
   },
   {
    "duration": 0,
    "start_time": "2024-02-22T14:53:35.923Z"
   },
   {
    "duration": 0,
    "start_time": "2024-02-22T14:53:35.924Z"
   },
   {
    "duration": 0,
    "start_time": "2024-02-22T14:53:35.925Z"
   },
   {
    "duration": 0,
    "start_time": "2024-02-22T14:53:35.926Z"
   },
   {
    "duration": 0,
    "start_time": "2024-02-22T14:53:35.927Z"
   },
   {
    "duration": 0,
    "start_time": "2024-02-22T14:53:35.928Z"
   },
   {
    "duration": 0,
    "start_time": "2024-02-22T14:53:35.929Z"
   },
   {
    "duration": 0,
    "start_time": "2024-02-22T14:53:35.930Z"
   },
   {
    "duration": 0,
    "start_time": "2024-02-22T14:53:35.931Z"
   },
   {
    "duration": 0,
    "start_time": "2024-02-22T14:53:35.932Z"
   },
   {
    "duration": 0,
    "start_time": "2024-02-22T14:53:35.933Z"
   },
   {
    "duration": 0,
    "start_time": "2024-02-22T14:53:35.934Z"
   },
   {
    "duration": 0,
    "start_time": "2024-02-22T14:53:35.935Z"
   },
   {
    "duration": 0,
    "start_time": "2024-02-22T14:53:35.936Z"
   },
   {
    "duration": 0,
    "start_time": "2024-02-22T14:53:35.937Z"
   },
   {
    "duration": 0,
    "start_time": "2024-02-22T14:53:35.938Z"
   },
   {
    "duration": 0,
    "start_time": "2024-02-22T14:53:35.939Z"
   },
   {
    "duration": 0,
    "start_time": "2024-02-22T14:53:35.940Z"
   },
   {
    "duration": 0,
    "start_time": "2024-02-22T14:53:35.941Z"
   },
   {
    "duration": 0,
    "start_time": "2024-02-22T14:53:35.942Z"
   },
   {
    "duration": 0,
    "start_time": "2024-02-22T14:53:35.943Z"
   },
   {
    "duration": 0,
    "start_time": "2024-02-22T14:53:35.944Z"
   },
   {
    "duration": 0,
    "start_time": "2024-02-22T14:53:35.945Z"
   },
   {
    "duration": 0,
    "start_time": "2024-02-22T14:53:35.946Z"
   },
   {
    "duration": 0,
    "start_time": "2024-02-22T14:53:35.947Z"
   },
   {
    "duration": 0,
    "start_time": "2024-02-22T14:53:35.948Z"
   },
   {
    "duration": 0,
    "start_time": "2024-02-22T14:53:35.949Z"
   },
   {
    "duration": 0,
    "start_time": "2024-02-22T14:53:35.949Z"
   },
   {
    "duration": 22,
    "start_time": "2024-02-22T14:54:07.194Z"
   },
   {
    "duration": 12,
    "start_time": "2024-02-22T14:54:23.303Z"
   },
   {
    "duration": 12,
    "start_time": "2024-02-22T14:55:43.414Z"
   },
   {
    "duration": 15,
    "start_time": "2024-02-22T14:56:42.623Z"
   },
   {
    "duration": 8,
    "start_time": "2024-02-22T14:56:44.920Z"
   },
   {
    "duration": 25,
    "start_time": "2024-02-22T14:56:48.642Z"
   },
   {
    "duration": 11,
    "start_time": "2024-02-22T14:56:58.392Z"
   },
   {
    "duration": 18,
    "start_time": "2024-02-22T14:57:15.616Z"
   },
   {
    "duration": 12,
    "start_time": "2024-02-22T14:57:25.625Z"
   },
   {
    "duration": 13,
    "start_time": "2024-02-22T14:58:06.145Z"
   },
   {
    "duration": 12,
    "start_time": "2024-02-22T14:58:15.816Z"
   },
   {
    "duration": 15,
    "start_time": "2024-02-22T14:58:21.837Z"
   },
   {
    "duration": 8,
    "start_time": "2024-02-22T14:58:33.243Z"
   },
   {
    "duration": 9,
    "start_time": "2024-02-22T14:59:02.522Z"
   },
   {
    "duration": 3,
    "start_time": "2024-02-22T14:59:18.087Z"
   },
   {
    "duration": 11,
    "start_time": "2024-02-22T14:59:18.092Z"
   },
   {
    "duration": 280,
    "start_time": "2024-02-22T14:59:18.106Z"
   },
   {
    "duration": 32,
    "start_time": "2024-02-22T14:59:18.388Z"
   },
   {
    "duration": 10,
    "start_time": "2024-02-22T14:59:18.422Z"
   },
   {
    "duration": 31,
    "start_time": "2024-02-22T14:59:18.433Z"
   },
   {
    "duration": 9,
    "start_time": "2024-02-22T14:59:18.466Z"
   },
   {
    "duration": 9,
    "start_time": "2024-02-22T14:59:18.476Z"
   },
   {
    "duration": 40,
    "start_time": "2024-02-22T14:59:18.487Z"
   },
   {
    "duration": 4,
    "start_time": "2024-02-22T14:59:18.529Z"
   },
   {
    "duration": 11,
    "start_time": "2024-02-22T14:59:18.535Z"
   },
   {
    "duration": 13,
    "start_time": "2024-02-22T14:59:18.548Z"
   },
   {
    "duration": 26,
    "start_time": "2024-02-22T14:59:18.563Z"
   },
   {
    "duration": 4,
    "start_time": "2024-02-22T14:59:18.591Z"
   },
   {
    "duration": 34,
    "start_time": "2024-02-22T14:59:18.597Z"
   },
   {
    "duration": 26,
    "start_time": "2024-02-22T14:59:18.634Z"
   },
   {
    "duration": 739,
    "start_time": "2024-02-22T14:59:18.662Z"
   },
   {
    "duration": 23,
    "start_time": "2024-02-22T14:59:19.403Z"
   },
   {
    "duration": 7,
    "start_time": "2024-02-22T14:59:19.428Z"
   },
   {
    "duration": 159,
    "start_time": "2024-02-22T14:59:19.437Z"
   },
   {
    "duration": 147,
    "start_time": "2024-02-22T14:59:19.598Z"
   },
   {
    "duration": 1443,
    "start_time": "2024-02-22T14:59:19.747Z"
   },
   {
    "duration": 8,
    "start_time": "2024-02-22T14:59:21.192Z"
   },
   {
    "duration": 120,
    "start_time": "2024-02-22T14:59:21.202Z"
   },
   {
    "duration": 117,
    "start_time": "2024-02-22T14:59:21.324Z"
   },
   {
    "duration": 22,
    "start_time": "2024-02-22T14:59:21.443Z"
   },
   {
    "duration": 9,
    "start_time": "2024-02-22T14:59:21.466Z"
   },
   {
    "duration": 143,
    "start_time": "2024-02-22T14:59:21.476Z"
   },
   {
    "duration": 132,
    "start_time": "2024-02-22T14:59:21.621Z"
   },
   {
    "duration": 14,
    "start_time": "2024-02-22T14:59:21.754Z"
   },
   {
    "duration": 49,
    "start_time": "2024-02-22T14:59:21.770Z"
   },
   {
    "duration": 0,
    "start_time": "2024-02-22T14:59:21.820Z"
   },
   {
    "duration": 0,
    "start_time": "2024-02-22T14:59:21.822Z"
   },
   {
    "duration": 0,
    "start_time": "2024-02-22T14:59:21.823Z"
   },
   {
    "duration": 0,
    "start_time": "2024-02-22T14:59:21.824Z"
   },
   {
    "duration": 0,
    "start_time": "2024-02-22T14:59:21.824Z"
   },
   {
    "duration": 0,
    "start_time": "2024-02-22T14:59:21.826Z"
   },
   {
    "duration": 0,
    "start_time": "2024-02-22T14:59:21.827Z"
   },
   {
    "duration": 0,
    "start_time": "2024-02-22T14:59:21.828Z"
   },
   {
    "duration": 0,
    "start_time": "2024-02-22T14:59:21.829Z"
   },
   {
    "duration": 0,
    "start_time": "2024-02-22T14:59:21.830Z"
   },
   {
    "duration": 0,
    "start_time": "2024-02-22T14:59:21.831Z"
   },
   {
    "duration": 0,
    "start_time": "2024-02-22T14:59:21.832Z"
   },
   {
    "duration": 0,
    "start_time": "2024-02-22T14:59:21.833Z"
   },
   {
    "duration": 0,
    "start_time": "2024-02-22T14:59:21.834Z"
   },
   {
    "duration": 0,
    "start_time": "2024-02-22T14:59:21.836Z"
   },
   {
    "duration": 0,
    "start_time": "2024-02-22T14:59:21.837Z"
   },
   {
    "duration": 0,
    "start_time": "2024-02-22T14:59:21.838Z"
   },
   {
    "duration": 0,
    "start_time": "2024-02-22T14:59:21.838Z"
   },
   {
    "duration": 0,
    "start_time": "2024-02-22T14:59:21.839Z"
   },
   {
    "duration": 0,
    "start_time": "2024-02-22T14:59:21.840Z"
   },
   {
    "duration": 0,
    "start_time": "2024-02-22T14:59:21.842Z"
   },
   {
    "duration": 0,
    "start_time": "2024-02-22T14:59:21.842Z"
   },
   {
    "duration": 0,
    "start_time": "2024-02-22T14:59:21.844Z"
   },
   {
    "duration": 0,
    "start_time": "2024-02-22T14:59:21.845Z"
   },
   {
    "duration": 17,
    "start_time": "2024-02-22T15:00:00.026Z"
   },
   {
    "duration": 17,
    "start_time": "2024-02-22T15:00:52.266Z"
   },
   {
    "duration": 16,
    "start_time": "2024-02-22T15:01:16.186Z"
   },
   {
    "duration": 16,
    "start_time": "2024-02-22T15:01:44.644Z"
   },
   {
    "duration": 21,
    "start_time": "2024-02-22T15:02:37.634Z"
   },
   {
    "duration": 16,
    "start_time": "2024-02-22T15:03:16.314Z"
   },
   {
    "duration": 15,
    "start_time": "2024-02-22T15:04:17.675Z"
   },
   {
    "duration": 15,
    "start_time": "2024-02-22T15:04:29.823Z"
   },
   {
    "duration": 12,
    "start_time": "2024-02-22T15:05:20.107Z"
   },
   {
    "duration": 16,
    "start_time": "2024-02-22T15:05:32.667Z"
   },
   {
    "duration": 20,
    "start_time": "2024-02-22T15:05:44.531Z"
   },
   {
    "duration": 21,
    "start_time": "2024-02-22T15:06:06.427Z"
   },
   {
    "duration": 69,
    "start_time": "2024-02-22T15:07:50.939Z"
   },
   {
    "duration": 65,
    "start_time": "2024-02-22T15:12:35.692Z"
   },
   {
    "duration": 19,
    "start_time": "2024-02-22T15:12:58.190Z"
   },
   {
    "duration": 12,
    "start_time": "2024-02-22T15:14:27.653Z"
   },
   {
    "duration": 16,
    "start_time": "2024-02-22T15:14:43.311Z"
   },
   {
    "duration": 25,
    "start_time": "2024-02-22T15:14:48.549Z"
   },
   {
    "duration": 29,
    "start_time": "2024-02-22T15:18:07.861Z"
   },
   {
    "duration": 11,
    "start_time": "2024-02-22T15:18:33.768Z"
   },
   {
    "duration": 20,
    "start_time": "2024-02-22T15:19:05.126Z"
   },
   {
    "duration": 12,
    "start_time": "2024-02-22T15:19:08.574Z"
   },
   {
    "duration": 17,
    "start_time": "2024-02-22T15:19:24.259Z"
   },
   {
    "duration": 17,
    "start_time": "2024-02-22T15:19:40.873Z"
   },
   {
    "duration": 20,
    "start_time": "2024-02-22T15:19:49.114Z"
   },
   {
    "duration": 21,
    "start_time": "2024-02-22T15:20:01.949Z"
   },
   {
    "duration": 101,
    "start_time": "2024-02-22T15:20:18.072Z"
   },
   {
    "duration": 20,
    "start_time": "2024-02-22T15:20:25.432Z"
   },
   {
    "duration": 28,
    "start_time": "2024-02-22T15:20:55.637Z"
   },
   {
    "duration": 66,
    "start_time": "2024-02-22T15:22:00.455Z"
   },
   {
    "duration": 22,
    "start_time": "2024-02-22T15:22:09.297Z"
   },
   {
    "duration": 16,
    "start_time": "2024-02-22T15:22:23.293Z"
   },
   {
    "duration": 16,
    "start_time": "2024-02-22T15:24:16.592Z"
   },
   {
    "duration": 18,
    "start_time": "2024-02-22T15:24:20.976Z"
   },
   {
    "duration": 21,
    "start_time": "2024-02-22T15:24:27.984Z"
   },
   {
    "duration": 21,
    "start_time": "2024-02-22T15:25:05.814Z"
   },
   {
    "duration": 1232,
    "start_time": "2024-02-22T15:26:40.486Z"
   },
   {
    "duration": 4,
    "start_time": "2024-02-22T15:26:41.720Z"
   },
   {
    "duration": 321,
    "start_time": "2024-02-22T15:26:41.725Z"
   },
   {
    "duration": 38,
    "start_time": "2024-02-22T15:26:42.049Z"
   },
   {
    "duration": 10,
    "start_time": "2024-02-22T15:26:42.088Z"
   },
   {
    "duration": 41,
    "start_time": "2024-02-22T15:26:42.099Z"
   },
   {
    "duration": 9,
    "start_time": "2024-02-22T15:26:42.142Z"
   },
   {
    "duration": 10,
    "start_time": "2024-02-22T15:26:42.152Z"
   },
   {
    "duration": 13,
    "start_time": "2024-02-22T15:26:42.164Z"
   },
   {
    "duration": 4,
    "start_time": "2024-02-22T15:26:42.180Z"
   },
   {
    "duration": 38,
    "start_time": "2024-02-22T15:26:42.185Z"
   },
   {
    "duration": 5,
    "start_time": "2024-02-22T15:26:42.224Z"
   },
   {
    "duration": 23,
    "start_time": "2024-02-22T15:26:42.231Z"
   },
   {
    "duration": 4,
    "start_time": "2024-02-22T15:26:42.256Z"
   },
   {
    "duration": 21,
    "start_time": "2024-02-22T15:26:42.262Z"
   },
   {
    "duration": 45,
    "start_time": "2024-02-22T15:26:42.285Z"
   },
   {
    "duration": 856,
    "start_time": "2024-02-22T15:26:42.331Z"
   },
   {
    "duration": 20,
    "start_time": "2024-02-22T15:26:43.188Z"
   },
   {
    "duration": 8,
    "start_time": "2024-02-22T15:26:43.218Z"
   },
   {
    "duration": 149,
    "start_time": "2024-02-22T15:26:43.227Z"
   },
   {
    "duration": 141,
    "start_time": "2024-02-22T15:26:43.377Z"
   },
   {
    "duration": 1416,
    "start_time": "2024-02-22T15:26:43.519Z"
   },
   {
    "duration": 9,
    "start_time": "2024-02-22T15:26:44.936Z"
   },
   {
    "duration": 123,
    "start_time": "2024-02-22T15:26:44.946Z"
   },
   {
    "duration": 125,
    "start_time": "2024-02-22T15:26:45.071Z"
   },
   {
    "duration": 26,
    "start_time": "2024-02-22T15:26:45.197Z"
   },
   {
    "duration": 19,
    "start_time": "2024-02-22T15:26:45.224Z"
   },
   {
    "duration": 131,
    "start_time": "2024-02-22T15:26:45.247Z"
   },
   {
    "duration": 127,
    "start_time": "2024-02-22T15:26:45.380Z"
   },
   {
    "duration": 19,
    "start_time": "2024-02-22T15:26:45.509Z"
   },
   {
    "duration": 167,
    "start_time": "2024-02-22T15:26:45.529Z"
   },
   {
    "duration": 0,
    "start_time": "2024-02-22T15:26:45.698Z"
   },
   {
    "duration": 0,
    "start_time": "2024-02-22T15:26:45.699Z"
   },
   {
    "duration": 0,
    "start_time": "2024-02-22T15:26:45.700Z"
   },
   {
    "duration": 0,
    "start_time": "2024-02-22T15:26:45.701Z"
   },
   {
    "duration": 0,
    "start_time": "2024-02-22T15:26:45.702Z"
   },
   {
    "duration": 0,
    "start_time": "2024-02-22T15:26:45.703Z"
   },
   {
    "duration": 0,
    "start_time": "2024-02-22T15:26:45.718Z"
   },
   {
    "duration": 0,
    "start_time": "2024-02-22T15:26:45.719Z"
   },
   {
    "duration": 0,
    "start_time": "2024-02-22T15:26:45.720Z"
   },
   {
    "duration": 0,
    "start_time": "2024-02-22T15:26:45.721Z"
   },
   {
    "duration": 0,
    "start_time": "2024-02-22T15:26:45.722Z"
   },
   {
    "duration": 0,
    "start_time": "2024-02-22T15:26:45.723Z"
   },
   {
    "duration": 0,
    "start_time": "2024-02-22T15:26:45.723Z"
   },
   {
    "duration": 0,
    "start_time": "2024-02-22T15:26:45.724Z"
   },
   {
    "duration": 0,
    "start_time": "2024-02-22T15:26:45.725Z"
   },
   {
    "duration": 0,
    "start_time": "2024-02-22T15:26:45.726Z"
   },
   {
    "duration": 0,
    "start_time": "2024-02-22T15:26:45.727Z"
   },
   {
    "duration": 0,
    "start_time": "2024-02-22T15:26:45.728Z"
   },
   {
    "duration": 0,
    "start_time": "2024-02-22T15:26:45.729Z"
   },
   {
    "duration": 0,
    "start_time": "2024-02-22T15:26:45.730Z"
   },
   {
    "duration": 0,
    "start_time": "2024-02-22T15:26:45.731Z"
   },
   {
    "duration": 0,
    "start_time": "2024-02-22T15:26:45.732Z"
   },
   {
    "duration": 0,
    "start_time": "2024-02-22T15:26:45.733Z"
   },
   {
    "duration": 0,
    "start_time": "2024-02-22T15:26:45.734Z"
   },
   {
    "duration": 0,
    "start_time": "2024-02-22T15:26:45.735Z"
   },
   {
    "duration": 359,
    "start_time": "2024-02-22T15:27:26.706Z"
   },
   {
    "duration": 13,
    "start_time": "2024-02-22T15:27:58.329Z"
   },
   {
    "duration": 10,
    "start_time": "2024-02-22T15:28:18.433Z"
   },
   {
    "duration": 10,
    "start_time": "2024-02-22T15:28:28.278Z"
   },
   {
    "duration": 15,
    "start_time": "2024-02-22T15:28:43.178Z"
   },
   {
    "duration": 21,
    "start_time": "2024-02-22T15:28:52.934Z"
   },
   {
    "duration": 19,
    "start_time": "2024-02-22T15:30:04.946Z"
   },
   {
    "duration": 16,
    "start_time": "2024-02-22T15:30:16.810Z"
   },
   {
    "duration": 12,
    "start_time": "2024-02-22T15:30:24.976Z"
   },
   {
    "duration": 10,
    "start_time": "2024-02-22T15:32:45.071Z"
   },
   {
    "duration": 23,
    "start_time": "2024-02-22T15:33:00.149Z"
   },
   {
    "duration": 11,
    "start_time": "2024-02-22T15:33:13.168Z"
   },
   {
    "duration": 11,
    "start_time": "2024-02-22T15:33:40.021Z"
   },
   {
    "duration": 12,
    "start_time": "2024-02-22T15:33:55.247Z"
   },
   {
    "duration": 14,
    "start_time": "2024-02-22T15:35:06.412Z"
   },
   {
    "duration": 16,
    "start_time": "2024-02-22T15:35:25.057Z"
   },
   {
    "duration": 9,
    "start_time": "2024-02-22T15:35:54.201Z"
   },
   {
    "duration": 13,
    "start_time": "2024-02-22T15:36:02.748Z"
   },
   {
    "duration": 13,
    "start_time": "2024-02-22T15:36:20.255Z"
   },
   {
    "duration": 15,
    "start_time": "2024-02-22T15:36:33.417Z"
   },
   {
    "duration": 222,
    "start_time": "2024-02-22T15:36:52.415Z"
   },
   {
    "duration": 228,
    "start_time": "2024-02-22T15:37:12.993Z"
   },
   {
    "duration": 293,
    "start_time": "2024-02-22T15:37:54.076Z"
   },
   {
    "duration": 3,
    "start_time": "2024-02-22T15:39:07.922Z"
   },
   {
    "duration": 3,
    "start_time": "2024-02-22T15:39:07.928Z"
   },
   {
    "duration": 233,
    "start_time": "2024-02-22T15:39:07.933Z"
   },
   {
    "duration": 30,
    "start_time": "2024-02-22T15:39:08.168Z"
   },
   {
    "duration": 10,
    "start_time": "2024-02-22T15:39:08.200Z"
   },
   {
    "duration": 35,
    "start_time": "2024-02-22T15:39:08.212Z"
   },
   {
    "duration": 8,
    "start_time": "2024-02-22T15:39:08.249Z"
   },
   {
    "duration": 8,
    "start_time": "2024-02-22T15:39:08.258Z"
   },
   {
    "duration": 15,
    "start_time": "2024-02-22T15:39:08.268Z"
   },
   {
    "duration": 4,
    "start_time": "2024-02-22T15:39:08.284Z"
   },
   {
    "duration": 12,
    "start_time": "2024-02-22T15:39:08.317Z"
   },
   {
    "duration": 5,
    "start_time": "2024-02-22T15:39:08.331Z"
   },
   {
    "duration": 20,
    "start_time": "2024-02-22T15:39:08.338Z"
   },
   {
    "duration": 5,
    "start_time": "2024-02-22T15:39:08.359Z"
   },
   {
    "duration": 13,
    "start_time": "2024-02-22T15:39:08.365Z"
   },
   {
    "duration": 58,
    "start_time": "2024-02-22T15:39:08.379Z"
   },
   {
    "duration": 712,
    "start_time": "2024-02-22T15:39:08.438Z"
   },
   {
    "duration": 22,
    "start_time": "2024-02-22T15:39:09.151Z"
   },
   {
    "duration": 7,
    "start_time": "2024-02-22T15:39:09.174Z"
   },
   {
    "duration": 211,
    "start_time": "2024-02-22T15:39:09.182Z"
   },
   {
    "duration": 130,
    "start_time": "2024-02-22T15:39:09.395Z"
   },
   {
    "duration": 1447,
    "start_time": "2024-02-22T15:39:09.527Z"
   },
   {
    "duration": 9,
    "start_time": "2024-02-22T15:39:10.976Z"
   },
   {
    "duration": 123,
    "start_time": "2024-02-22T15:39:10.988Z"
   },
   {
    "duration": 124,
    "start_time": "2024-02-22T15:39:11.112Z"
   },
   {
    "duration": 21,
    "start_time": "2024-02-22T15:39:11.238Z"
   },
   {
    "duration": 8,
    "start_time": "2024-02-22T15:39:11.260Z"
   },
   {
    "duration": 135,
    "start_time": "2024-02-22T15:39:11.270Z"
   },
   {
    "duration": 136,
    "start_time": "2024-02-22T15:39:11.407Z"
   },
   {
    "duration": 13,
    "start_time": "2024-02-22T15:39:11.545Z"
   },
   {
    "duration": 270,
    "start_time": "2024-02-22T15:39:11.559Z"
   },
   {
    "duration": 58,
    "start_time": "2024-02-22T15:39:11.830Z"
   },
   {
    "duration": 37,
    "start_time": "2024-02-22T15:39:11.890Z"
   },
   {
    "duration": 4,
    "start_time": "2024-02-22T15:39:11.929Z"
   },
   {
    "duration": 10,
    "start_time": "2024-02-22T15:39:11.935Z"
   },
   {
    "duration": 4,
    "start_time": "2024-02-22T15:39:11.946Z"
   },
   {
    "duration": 290,
    "start_time": "2024-02-22T15:39:11.951Z"
   },
   {
    "duration": 4,
    "start_time": "2024-02-22T15:39:12.243Z"
   },
   {
    "duration": 423,
    "start_time": "2024-02-22T15:39:12.248Z"
   },
   {
    "duration": 46,
    "start_time": "2024-02-22T15:39:12.672Z"
   },
   {
    "duration": 117,
    "start_time": "2024-02-22T15:39:12.720Z"
   },
   {
    "duration": 2,
    "start_time": "2024-02-22T15:39:12.838Z"
   },
   {
    "duration": 5,
    "start_time": "2024-02-22T15:39:12.842Z"
   },
   {
    "duration": 73,
    "start_time": "2024-02-22T15:39:12.848Z"
   },
   {
    "duration": 20,
    "start_time": "2024-02-22T15:39:12.923Z"
   },
   {
    "duration": 81,
    "start_time": "2024-02-22T15:39:12.945Z"
   },
   {
    "duration": 29,
    "start_time": "2024-02-22T15:39:13.028Z"
   },
   {
    "duration": 110,
    "start_time": "2024-02-22T15:39:13.059Z"
   },
   {
    "duration": 301,
    "start_time": "2024-02-22T15:39:13.171Z"
   },
   {
    "duration": 14,
    "start_time": "2024-02-22T15:39:13.473Z"
   },
   {
    "duration": 10,
    "start_time": "2024-02-22T15:39:13.488Z"
   },
   {
    "duration": 22,
    "start_time": "2024-02-22T15:39:13.500Z"
   },
   {
    "duration": 5,
    "start_time": "2024-02-22T15:39:13.523Z"
   },
   {
    "duration": 14,
    "start_time": "2024-02-22T15:39:13.529Z"
   },
   {
    "duration": 5,
    "start_time": "2024-02-22T15:39:13.544Z"
   },
   {
    "duration": 76,
    "start_time": "2024-02-22T15:40:31.208Z"
   },
   {
    "duration": 22,
    "start_time": "2024-02-22T15:40:39.065Z"
   },
   {
    "duration": 23,
    "start_time": "2024-02-22T15:40:48.118Z"
   },
   {
    "duration": 18,
    "start_time": "2024-02-22T15:42:25.088Z"
   },
   {
    "duration": 17,
    "start_time": "2024-02-22T15:42:28.627Z"
   },
   {
    "duration": 17,
    "start_time": "2024-02-22T15:42:29.364Z"
   },
   {
    "duration": 8,
    "start_time": "2024-02-22T15:42:33.130Z"
   },
   {
    "duration": 17,
    "start_time": "2024-02-22T15:42:51.680Z"
   },
   {
    "duration": 17,
    "start_time": "2024-02-22T15:42:52.356Z"
   },
   {
    "duration": 7,
    "start_time": "2024-02-22T15:42:52.954Z"
   },
   {
    "duration": 206,
    "start_time": "2024-02-22T15:43:04.889Z"
   },
   {
    "duration": 237,
    "start_time": "2024-02-22T15:43:12.251Z"
   },
   {
    "duration": 58,
    "start_time": "2024-02-22T15:45:21.668Z"
   },
   {
    "duration": 10,
    "start_time": "2024-02-22T15:45:33.869Z"
   },
   {
    "duration": 208,
    "start_time": "2024-02-22T15:45:55.591Z"
   },
   {
    "duration": 17,
    "start_time": "2024-02-22T15:46:32.410Z"
   },
   {
    "duration": 7,
    "start_time": "2024-02-22T15:46:33.002Z"
   },
   {
    "duration": 5,
    "start_time": "2024-02-22T15:47:06.770Z"
   },
   {
    "duration": 5,
    "start_time": "2024-02-22T15:47:07.555Z"
   },
   {
    "duration": 18,
    "start_time": "2024-02-22T15:47:08.771Z"
   },
   {
    "duration": 6,
    "start_time": "2024-02-22T15:47:19.652Z"
   },
   {
    "duration": 5,
    "start_time": "2024-02-22T15:47:20.169Z"
   },
   {
    "duration": 19,
    "start_time": "2024-02-22T15:47:21.091Z"
   },
   {
    "duration": 5,
    "start_time": "2024-02-22T15:47:58.067Z"
   },
   {
    "duration": 18,
    "start_time": "2024-02-22T15:47:59.105Z"
   },
   {
    "duration": 5,
    "start_time": "2024-02-22T15:48:32.880Z"
   },
   {
    "duration": 19,
    "start_time": "2024-02-22T15:48:34.080Z"
   },
   {
    "duration": 53,
    "start_time": "2024-02-22T15:49:31.419Z"
   },
   {
    "duration": 54,
    "start_time": "2024-02-22T15:50:39.691Z"
   },
   {
    "duration": 57,
    "start_time": "2024-02-22T15:51:34.286Z"
   },
   {
    "duration": 83,
    "start_time": "2024-02-22T15:52:02.003Z"
   },
   {
    "duration": 76,
    "start_time": "2024-02-22T15:52:13.758Z"
   },
   {
    "duration": 16,
    "start_time": "2024-02-22T15:52:26.753Z"
   },
   {
    "duration": 3,
    "start_time": "2024-02-22T15:53:12.873Z"
   },
   {
    "duration": 4,
    "start_time": "2024-02-22T15:53:48.812Z"
   },
   {
    "duration": 6,
    "start_time": "2024-02-22T15:53:48.817Z"
   },
   {
    "duration": 274,
    "start_time": "2024-02-22T15:53:48.825Z"
   },
   {
    "duration": 32,
    "start_time": "2024-02-22T15:53:49.100Z"
   },
   {
    "duration": 10,
    "start_time": "2024-02-22T15:53:49.134Z"
   },
   {
    "duration": 35,
    "start_time": "2024-02-22T15:53:49.146Z"
   },
   {
    "duration": 7,
    "start_time": "2024-02-22T15:53:49.183Z"
   },
   {
    "duration": 26,
    "start_time": "2024-02-22T15:53:49.192Z"
   },
   {
    "duration": 12,
    "start_time": "2024-02-22T15:53:49.220Z"
   },
   {
    "duration": 4,
    "start_time": "2024-02-22T15:53:49.233Z"
   },
   {
    "duration": 20,
    "start_time": "2024-02-22T15:53:49.239Z"
   },
   {
    "duration": 9,
    "start_time": "2024-02-22T15:53:49.261Z"
   },
   {
    "duration": 20,
    "start_time": "2024-02-22T15:53:49.271Z"
   },
   {
    "duration": 4,
    "start_time": "2024-02-22T15:53:49.292Z"
   },
   {
    "duration": 31,
    "start_time": "2024-02-22T15:53:49.297Z"
   },
   {
    "duration": 28,
    "start_time": "2024-02-22T15:53:49.329Z"
   },
   {
    "duration": 805,
    "start_time": "2024-02-22T15:53:49.358Z"
   },
   {
    "duration": 18,
    "start_time": "2024-02-22T15:53:50.165Z"
   },
   {
    "duration": 7,
    "start_time": "2024-02-22T15:53:50.184Z"
   },
   {
    "duration": 137,
    "start_time": "2024-02-22T15:53:50.192Z"
   },
   {
    "duration": 131,
    "start_time": "2024-02-22T15:53:50.331Z"
   },
   {
    "duration": 1456,
    "start_time": "2024-02-22T15:53:50.463Z"
   },
   {
    "duration": 10,
    "start_time": "2024-02-22T15:53:51.920Z"
   },
   {
    "duration": 131,
    "start_time": "2024-02-22T15:53:51.932Z"
   },
   {
    "duration": 116,
    "start_time": "2024-02-22T15:53:52.065Z"
   },
   {
    "duration": 21,
    "start_time": "2024-02-22T15:53:52.183Z"
   },
   {
    "duration": 8,
    "start_time": "2024-02-22T15:53:52.218Z"
   },
   {
    "duration": 129,
    "start_time": "2024-02-22T15:53:52.227Z"
   },
   {
    "duration": 134,
    "start_time": "2024-02-22T15:53:52.359Z"
   },
   {
    "duration": 23,
    "start_time": "2024-02-22T15:53:52.495Z"
   },
   {
    "duration": 240,
    "start_time": "2024-02-22T15:53:52.519Z"
   },
   {
    "duration": 43,
    "start_time": "2024-02-22T15:53:52.761Z"
   },
   {
    "duration": 30,
    "start_time": "2024-02-22T15:53:52.805Z"
   },
   {
    "duration": 5,
    "start_time": "2024-02-22T15:53:52.836Z"
   },
   {
    "duration": 10,
    "start_time": "2024-02-22T15:53:52.842Z"
   },
   {
    "duration": 3,
    "start_time": "2024-02-22T15:53:52.853Z"
   },
   {
    "duration": 273,
    "start_time": "2024-02-22T15:53:52.858Z"
   },
   {
    "duration": 4,
    "start_time": "2024-02-22T15:53:53.133Z"
   },
   {
    "duration": 426,
    "start_time": "2024-02-22T15:53:53.139Z"
   },
   {
    "duration": 18,
    "start_time": "2024-02-22T15:53:53.567Z"
   },
   {
    "duration": 14,
    "start_time": "2024-02-22T15:53:53.587Z"
   },
   {
    "duration": 169,
    "start_time": "2024-02-22T15:53:53.603Z"
   },
   {
    "duration": 5,
    "start_time": "2024-02-22T15:53:53.774Z"
   },
   {
    "duration": 33,
    "start_time": "2024-02-22T15:53:53.780Z"
   },
   {
    "duration": 17,
    "start_time": "2024-02-22T15:53:53.814Z"
   },
   {
    "duration": 17,
    "start_time": "2024-02-22T15:53:53.832Z"
   },
   {
    "duration": 23,
    "start_time": "2024-02-22T15:53:53.851Z"
   },
   {
    "duration": 86,
    "start_time": "2024-02-22T15:53:53.875Z"
   },
   {
    "duration": 62,
    "start_time": "2024-02-22T15:53:53.962Z"
   },
   {
    "duration": 15,
    "start_time": "2024-02-22T15:53:54.025Z"
   },
   {
    "duration": 13,
    "start_time": "2024-02-22T15:53:54.042Z"
   },
   {
    "duration": 27,
    "start_time": "2024-02-22T15:53:54.056Z"
   },
   {
    "duration": 6,
    "start_time": "2024-02-22T15:53:54.084Z"
   },
   {
    "duration": 22,
    "start_time": "2024-02-22T15:53:54.091Z"
   },
   {
    "duration": 15,
    "start_time": "2024-02-22T15:53:54.117Z"
   },
   {
    "duration": 3,
    "start_time": "2024-02-22T16:00:00.645Z"
   },
   {
    "duration": 43,
    "start_time": "2024-02-22T16:00:00.650Z"
   },
   {
    "duration": 367,
    "start_time": "2024-02-22T16:00:00.695Z"
   },
   {
    "duration": 39,
    "start_time": "2024-02-22T16:00:01.063Z"
   },
   {
    "duration": 71,
    "start_time": "2024-02-22T16:00:01.104Z"
   },
   {
    "duration": 84,
    "start_time": "2024-02-22T16:00:01.177Z"
   },
   {
    "duration": 61,
    "start_time": "2024-02-22T16:00:01.263Z"
   },
   {
    "duration": 57,
    "start_time": "2024-02-22T16:00:01.325Z"
   },
   {
    "duration": 75,
    "start_time": "2024-02-22T16:00:01.383Z"
   },
   {
    "duration": 154,
    "start_time": "2024-02-22T16:00:01.460Z"
   },
   {
    "duration": 93,
    "start_time": "2024-02-22T16:00:01.618Z"
   },
   {
    "duration": 52,
    "start_time": "2024-02-22T16:00:01.712Z"
   },
   {
    "duration": 66,
    "start_time": "2024-02-22T16:00:01.765Z"
   },
   {
    "duration": 19,
    "start_time": "2024-02-22T16:00:01.832Z"
   },
   {
    "duration": 56,
    "start_time": "2024-02-22T16:00:01.853Z"
   },
   {
    "duration": 54,
    "start_time": "2024-02-22T16:00:01.910Z"
   },
   {
    "duration": 856,
    "start_time": "2024-02-22T16:00:01.965Z"
   },
   {
    "duration": 20,
    "start_time": "2024-02-22T16:00:02.823Z"
   },
   {
    "duration": 13,
    "start_time": "2024-02-22T16:00:02.844Z"
   },
   {
    "duration": 145,
    "start_time": "2024-02-22T16:00:02.858Z"
   },
   {
    "duration": 144,
    "start_time": "2024-02-22T16:00:03.004Z"
   },
   {
    "duration": 1443,
    "start_time": "2024-02-22T16:00:03.150Z"
   },
   {
    "duration": 9,
    "start_time": "2024-02-22T16:00:04.594Z"
   },
   {
    "duration": 127,
    "start_time": "2024-02-22T16:00:04.605Z"
   },
   {
    "duration": 130,
    "start_time": "2024-02-22T16:00:04.733Z"
   },
   {
    "duration": 22,
    "start_time": "2024-02-22T16:00:04.865Z"
   },
   {
    "duration": 8,
    "start_time": "2024-02-22T16:00:04.889Z"
   },
   {
    "duration": 139,
    "start_time": "2024-02-22T16:00:04.899Z"
   },
   {
    "duration": 225,
    "start_time": "2024-02-22T16:00:05.041Z"
   },
   {
    "duration": 13,
    "start_time": "2024-02-22T16:00:05.268Z"
   },
   {
    "duration": 260,
    "start_time": "2024-02-22T16:00:05.282Z"
   },
   {
    "duration": 42,
    "start_time": "2024-02-22T16:00:05.543Z"
   },
   {
    "duration": 40,
    "start_time": "2024-02-22T16:00:05.587Z"
   },
   {
    "duration": 6,
    "start_time": "2024-02-22T16:00:05.628Z"
   },
   {
    "duration": 16,
    "start_time": "2024-02-22T16:00:05.636Z"
   },
   {
    "duration": 16,
    "start_time": "2024-02-22T16:00:05.654Z"
   },
   {
    "duration": 360,
    "start_time": "2024-02-22T16:00:05.672Z"
   },
   {
    "duration": 5,
    "start_time": "2024-02-22T16:00:06.033Z"
   },
   {
    "duration": 436,
    "start_time": "2024-02-22T16:00:06.039Z"
   },
   {
    "duration": 19,
    "start_time": "2024-02-22T16:00:06.476Z"
   },
   {
    "duration": 40,
    "start_time": "2024-02-22T16:00:06.496Z"
   },
   {
    "duration": 8,
    "start_time": "2024-02-22T16:00:06.538Z"
   },
   {
    "duration": 5,
    "start_time": "2024-02-22T16:00:06.548Z"
   },
   {
    "duration": 23,
    "start_time": "2024-02-22T16:00:06.555Z"
   },
   {
    "duration": 18,
    "start_time": "2024-02-22T16:00:06.579Z"
   },
   {
    "duration": 29,
    "start_time": "2024-02-22T16:00:06.599Z"
   },
   {
    "duration": 19,
    "start_time": "2024-02-22T16:00:06.630Z"
   },
   {
    "duration": 75,
    "start_time": "2024-02-22T16:00:06.650Z"
   },
   {
    "duration": 54,
    "start_time": "2024-02-22T16:00:06.727Z"
   },
   {
    "duration": 15,
    "start_time": "2024-02-22T16:00:06.782Z"
   },
   {
    "duration": 29,
    "start_time": "2024-02-22T16:00:06.798Z"
   },
   {
    "duration": 7,
    "start_time": "2024-02-22T16:00:06.828Z"
   },
   {
    "duration": 9,
    "start_time": "2024-02-22T16:00:06.836Z"
   },
   {
    "duration": 24,
    "start_time": "2024-02-22T16:00:06.847Z"
   },
   {
    "duration": 6,
    "start_time": "2024-02-22T16:00:06.872Z"
   },
   {
    "duration": 1252,
    "start_time": "2024-02-22T16:00:50.056Z"
   },
   {
    "duration": 2,
    "start_time": "2024-02-22T16:00:51.310Z"
   },
   {
    "duration": 219,
    "start_time": "2024-02-22T16:00:51.313Z"
   },
   {
    "duration": 37,
    "start_time": "2024-02-22T16:00:51.535Z"
   },
   {
    "duration": 11,
    "start_time": "2024-02-22T16:00:51.573Z"
   },
   {
    "duration": 51,
    "start_time": "2024-02-22T16:00:51.586Z"
   },
   {
    "duration": 12,
    "start_time": "2024-02-22T16:00:51.640Z"
   },
   {
    "duration": 16,
    "start_time": "2024-02-22T16:00:51.654Z"
   },
   {
    "duration": 15,
    "start_time": "2024-02-22T16:00:51.672Z"
   },
   {
    "duration": 5,
    "start_time": "2024-02-22T16:00:51.692Z"
   },
   {
    "duration": 30,
    "start_time": "2024-02-22T16:00:51.699Z"
   },
   {
    "duration": 6,
    "start_time": "2024-02-22T16:00:51.730Z"
   },
   {
    "duration": 33,
    "start_time": "2024-02-22T16:00:51.738Z"
   },
   {
    "duration": 5,
    "start_time": "2024-02-22T16:00:51.772Z"
   },
   {
    "duration": 19,
    "start_time": "2024-02-22T16:00:51.779Z"
   },
   {
    "duration": 44,
    "start_time": "2024-02-22T16:00:51.799Z"
   },
   {
    "duration": 773,
    "start_time": "2024-02-22T16:00:51.845Z"
   },
   {
    "duration": 19,
    "start_time": "2024-02-22T16:00:52.620Z"
   },
   {
    "duration": 8,
    "start_time": "2024-02-22T16:00:52.640Z"
   },
   {
    "duration": 155,
    "start_time": "2024-02-22T16:00:52.649Z"
   },
   {
    "duration": 133,
    "start_time": "2024-02-22T16:00:52.806Z"
   },
   {
    "duration": 1432,
    "start_time": "2024-02-22T16:00:52.941Z"
   },
   {
    "duration": 9,
    "start_time": "2024-02-22T16:00:54.375Z"
   },
   {
    "duration": 127,
    "start_time": "2024-02-22T16:00:54.385Z"
   },
   {
    "duration": 123,
    "start_time": "2024-02-22T16:00:54.513Z"
   },
   {
    "duration": 21,
    "start_time": "2024-02-22T16:00:54.638Z"
   },
   {
    "duration": 8,
    "start_time": "2024-02-22T16:00:54.661Z"
   },
   {
    "duration": 135,
    "start_time": "2024-02-22T16:00:54.673Z"
   },
   {
    "duration": 134,
    "start_time": "2024-02-22T16:00:54.809Z"
   },
   {
    "duration": 13,
    "start_time": "2024-02-22T16:00:54.944Z"
   },
   {
    "duration": 238,
    "start_time": "2024-02-22T16:00:54.958Z"
   },
   {
    "duration": 45,
    "start_time": "2024-02-22T16:00:55.198Z"
   },
   {
    "duration": 21,
    "start_time": "2024-02-22T16:00:55.245Z"
   },
   {
    "duration": 4,
    "start_time": "2024-02-22T16:00:55.267Z"
   },
   {
    "duration": 9,
    "start_time": "2024-02-22T16:00:55.273Z"
   },
   {
    "duration": 14,
    "start_time": "2024-02-22T16:00:55.284Z"
   },
   {
    "duration": 287,
    "start_time": "2024-02-22T16:00:55.299Z"
   },
   {
    "duration": 4,
    "start_time": "2024-02-22T16:00:55.588Z"
   },
   {
    "duration": 468,
    "start_time": "2024-02-22T16:00:55.594Z"
   },
   {
    "duration": 32,
    "start_time": "2024-02-22T16:00:56.064Z"
   },
   {
    "duration": 178,
    "start_time": "2024-02-22T16:00:56.118Z"
   },
   {
    "duration": 1,
    "start_time": "2024-02-22T16:00:56.298Z"
   },
   {
    "duration": 17,
    "start_time": "2024-02-22T16:00:56.301Z"
   },
   {
    "duration": 26,
    "start_time": "2024-02-22T16:00:56.319Z"
   },
   {
    "duration": 18,
    "start_time": "2024-02-22T16:00:56.347Z"
   },
   {
    "duration": 20,
    "start_time": "2024-02-22T16:00:56.418Z"
   },
   {
    "duration": 17,
    "start_time": "2024-02-22T16:00:56.439Z"
   },
   {
    "duration": 100,
    "start_time": "2024-02-22T16:00:56.458Z"
   },
   {
    "duration": 210,
    "start_time": "2024-02-22T16:00:56.559Z"
   },
   {
    "duration": 15,
    "start_time": "2024-02-22T16:00:56.771Z"
   },
   {
    "duration": 31,
    "start_time": "2024-02-22T16:00:56.787Z"
   },
   {
    "duration": 5,
    "start_time": "2024-02-22T16:00:56.819Z"
   },
   {
    "duration": 5,
    "start_time": "2024-02-22T16:00:56.826Z"
   },
   {
    "duration": 16,
    "start_time": "2024-02-22T16:00:56.832Z"
   },
   {
    "duration": 5,
    "start_time": "2024-02-22T16:00:56.850Z"
   },
   {
    "duration": 1443,
    "start_time": "2024-02-23T04:06:07.327Z"
   },
   {
    "duration": 3,
    "start_time": "2024-02-23T04:06:08.772Z"
   },
   {
    "duration": 517,
    "start_time": "2024-02-23T04:06:08.777Z"
   },
   {
    "duration": 39,
    "start_time": "2024-02-23T04:06:09.296Z"
   },
   {
    "duration": 11,
    "start_time": "2024-02-23T04:06:09.336Z"
   },
   {
    "duration": 50,
    "start_time": "2024-02-23T04:06:09.349Z"
   },
   {
    "duration": 8,
    "start_time": "2024-02-23T04:06:09.401Z"
   },
   {
    "duration": 9,
    "start_time": "2024-02-23T04:06:09.411Z"
   },
   {
    "duration": 24,
    "start_time": "2024-02-23T04:06:09.422Z"
   },
   {
    "duration": 10,
    "start_time": "2024-02-23T04:06:09.447Z"
   },
   {
    "duration": 17,
    "start_time": "2024-02-23T04:06:09.458Z"
   },
   {
    "duration": 7,
    "start_time": "2024-02-23T04:06:09.477Z"
   },
   {
    "duration": 24,
    "start_time": "2024-02-23T04:06:09.485Z"
   },
   {
    "duration": 5,
    "start_time": "2024-02-23T04:06:09.512Z"
   },
   {
    "duration": 21,
    "start_time": "2024-02-23T04:06:09.518Z"
   },
   {
    "duration": 50,
    "start_time": "2024-02-23T04:06:09.540Z"
   },
   {
    "duration": 805,
    "start_time": "2024-02-23T04:06:09.592Z"
   },
   {
    "duration": 24,
    "start_time": "2024-02-23T04:06:10.398Z"
   },
   {
    "duration": 7,
    "start_time": "2024-02-23T04:06:10.423Z"
   },
   {
    "duration": 151,
    "start_time": "2024-02-23T04:06:10.432Z"
   },
   {
    "duration": 149,
    "start_time": "2024-02-23T04:06:10.585Z"
   },
   {
    "duration": 1516,
    "start_time": "2024-02-23T04:06:10.735Z"
   },
   {
    "duration": 16,
    "start_time": "2024-02-23T04:06:12.253Z"
   },
   {
    "duration": 130,
    "start_time": "2024-02-23T04:06:12.270Z"
   },
   {
    "duration": 126,
    "start_time": "2024-02-23T04:06:12.401Z"
   },
   {
    "duration": 23,
    "start_time": "2024-02-23T04:06:12.528Z"
   },
   {
    "duration": 19,
    "start_time": "2024-02-23T04:06:12.553Z"
   },
   {
    "duration": 145,
    "start_time": "2024-02-23T04:06:12.574Z"
   },
   {
    "duration": 143,
    "start_time": "2024-02-23T04:06:12.724Z"
   },
   {
    "duration": 14,
    "start_time": "2024-02-23T04:06:12.869Z"
   },
   {
    "duration": 250,
    "start_time": "2024-02-23T04:06:12.885Z"
   },
   {
    "duration": 53,
    "start_time": "2024-02-23T04:06:13.137Z"
   },
   {
    "duration": 21,
    "start_time": "2024-02-23T04:06:13.191Z"
   },
   {
    "duration": 8,
    "start_time": "2024-02-23T04:06:13.213Z"
   },
   {
    "duration": 12,
    "start_time": "2024-02-23T04:06:13.222Z"
   },
   {
    "duration": 16,
    "start_time": "2024-02-23T04:06:13.235Z"
   },
   {
    "duration": 314,
    "start_time": "2024-02-23T04:06:13.253Z"
   },
   {
    "duration": 5,
    "start_time": "2024-02-23T04:06:13.568Z"
   },
   {
    "duration": 462,
    "start_time": "2024-02-23T04:06:13.574Z"
   },
   {
    "duration": 51,
    "start_time": "2024-02-23T04:06:14.038Z"
   },
   {
    "duration": 606,
    "start_time": "2024-02-23T04:06:14.093Z"
   },
   {
    "duration": 3,
    "start_time": "2024-02-23T04:06:14.701Z"
   },
   {
    "duration": 18,
    "start_time": "2024-02-23T04:06:14.706Z"
   },
   {
    "duration": 53,
    "start_time": "2024-02-23T04:06:14.726Z"
   },
   {
    "duration": 21,
    "start_time": "2024-02-23T04:06:14.781Z"
   },
   {
    "duration": 76,
    "start_time": "2024-02-23T04:06:14.803Z"
   },
   {
    "duration": 18,
    "start_time": "2024-02-23T04:06:14.881Z"
   },
   {
    "duration": 97,
    "start_time": "2024-02-23T04:06:14.901Z"
   },
   {
    "duration": 234,
    "start_time": "2024-02-23T04:06:15.000Z"
   },
   {
    "duration": 15,
    "start_time": "2024-02-23T04:06:15.235Z"
   },
   {
    "duration": 54,
    "start_time": "2024-02-23T04:06:15.251Z"
   },
   {
    "duration": 91,
    "start_time": "2024-02-23T04:06:15.306Z"
   },
   {
    "duration": 42,
    "start_time": "2024-02-23T04:06:15.398Z"
   },
   {
    "duration": 31,
    "start_time": "2024-02-23T04:06:15.441Z"
   },
   {
    "duration": 26,
    "start_time": "2024-02-23T04:06:15.474Z"
   },
   {
    "duration": 25,
    "start_time": "2024-02-23T05:53:45.804Z"
   },
   {
    "duration": 18,
    "start_time": "2024-02-23T05:53:50.958Z"
   },
   {
    "duration": 1484,
    "start_time": "2024-02-23T08:55:41.268Z"
   },
   {
    "duration": 3,
    "start_time": "2024-02-23T08:55:42.754Z"
   },
   {
    "duration": 390,
    "start_time": "2024-02-23T08:55:42.758Z"
   },
   {
    "duration": 54,
    "start_time": "2024-02-23T08:55:43.151Z"
   },
   {
    "duration": 11,
    "start_time": "2024-02-23T08:55:43.206Z"
   },
   {
    "duration": 33,
    "start_time": "2024-02-23T08:55:43.219Z"
   },
   {
    "duration": 32,
    "start_time": "2024-02-23T08:55:43.254Z"
   },
   {
    "duration": 10,
    "start_time": "2024-02-23T08:55:43.288Z"
   },
   {
    "duration": 14,
    "start_time": "2024-02-23T08:55:43.300Z"
   },
   {
    "duration": 13,
    "start_time": "2024-02-23T08:55:43.317Z"
   },
   {
    "duration": 12,
    "start_time": "2024-02-23T08:55:43.331Z"
   },
   {
    "duration": 6,
    "start_time": "2024-02-23T08:55:43.345Z"
   },
   {
    "duration": 50,
    "start_time": "2024-02-23T08:55:43.352Z"
   },
   {
    "duration": 6,
    "start_time": "2024-02-23T08:55:43.403Z"
   },
   {
    "duration": 18,
    "start_time": "2024-02-23T08:55:43.410Z"
   },
   {
    "duration": 52,
    "start_time": "2024-02-23T08:55:43.430Z"
   },
   {
    "duration": 905,
    "start_time": "2024-02-23T08:55:43.484Z"
   },
   {
    "duration": 21,
    "start_time": "2024-02-23T08:55:44.391Z"
   },
   {
    "duration": 8,
    "start_time": "2024-02-23T08:55:44.413Z"
   },
   {
    "duration": 169,
    "start_time": "2024-02-23T08:55:44.423Z"
   },
   {
    "duration": 151,
    "start_time": "2024-02-23T08:55:44.594Z"
   },
   {
    "duration": 1664,
    "start_time": "2024-02-23T08:55:44.746Z"
   },
   {
    "duration": 9,
    "start_time": "2024-02-23T08:55:46.412Z"
   },
   {
    "duration": 146,
    "start_time": "2024-02-23T08:55:46.423Z"
   },
   {
    "duration": 145,
    "start_time": "2024-02-23T08:55:46.570Z"
   },
   {
    "duration": 24,
    "start_time": "2024-02-23T08:55:46.717Z"
   },
   {
    "duration": 31,
    "start_time": "2024-02-23T08:55:46.743Z"
   },
   {
    "duration": 137,
    "start_time": "2024-02-23T08:55:46.777Z"
   },
   {
    "duration": 156,
    "start_time": "2024-02-23T08:55:46.915Z"
   },
   {
    "duration": 19,
    "start_time": "2024-02-23T08:55:47.073Z"
   },
   {
    "duration": 261,
    "start_time": "2024-02-23T08:55:47.094Z"
   },
   {
    "duration": 53,
    "start_time": "2024-02-23T08:55:47.357Z"
   },
   {
    "duration": 23,
    "start_time": "2024-02-23T08:55:47.412Z"
   },
   {
    "duration": 5,
    "start_time": "2024-02-23T08:55:47.436Z"
   },
   {
    "duration": 10,
    "start_time": "2024-02-23T08:55:47.442Z"
   },
   {
    "duration": 28,
    "start_time": "2024-02-23T08:55:47.454Z"
   },
   {
    "duration": 313,
    "start_time": "2024-02-23T08:55:47.484Z"
   },
   {
    "duration": 6,
    "start_time": "2024-02-23T08:55:47.799Z"
   },
   {
    "duration": 502,
    "start_time": "2024-02-23T08:55:47.808Z"
   },
   {
    "duration": 36,
    "start_time": "2024-02-23T08:55:48.312Z"
   },
   {
    "duration": 250,
    "start_time": "2024-02-23T08:55:48.349Z"
   },
   {
    "duration": 3,
    "start_time": "2024-02-23T08:55:48.600Z"
   },
   {
    "duration": 7,
    "start_time": "2024-02-23T08:55:48.604Z"
   },
   {
    "duration": 70,
    "start_time": "2024-02-23T08:55:48.613Z"
   },
   {
    "duration": 20,
    "start_time": "2024-02-23T08:55:48.684Z"
   },
   {
    "duration": 19,
    "start_time": "2024-02-23T08:55:48.705Z"
   },
   {
    "duration": 72,
    "start_time": "2024-02-23T08:55:48.726Z"
   },
   {
    "duration": 55,
    "start_time": "2024-02-23T08:55:48.800Z"
   },
   {
    "duration": 264,
    "start_time": "2024-02-23T08:55:48.856Z"
   },
   {
    "duration": 16,
    "start_time": "2024-02-23T08:55:49.122Z"
   },
   {
    "duration": 20,
    "start_time": "2024-02-23T08:55:49.140Z"
   },
   {
    "duration": 21,
    "start_time": "2024-02-23T08:55:49.162Z"
   },
   {
    "duration": 11,
    "start_time": "2024-02-23T08:55:49.184Z"
   },
   {
    "duration": 19,
    "start_time": "2024-02-23T08:55:49.196Z"
   },
   {
    "duration": 5,
    "start_time": "2024-02-23T08:55:49.216Z"
   },
   {
    "duration": 18,
    "start_time": "2024-02-23T08:56:29.147Z"
   },
   {
    "duration": 8,
    "start_time": "2024-02-23T08:56:38.760Z"
   },
   {
    "duration": 21,
    "start_time": "2024-02-23T08:56:52.441Z"
   },
   {
    "duration": 19,
    "start_time": "2024-02-23T08:56:53.198Z"
   },
   {
    "duration": 8,
    "start_time": "2024-02-23T08:56:53.559Z"
   },
   {
    "duration": 20,
    "start_time": "2024-02-23T09:03:56.025Z"
   },
   {
    "duration": 72,
    "start_time": "2024-02-23T09:07:55.655Z"
   },
   {
    "duration": 3,
    "start_time": "2024-02-23T09:24:10.821Z"
   },
   {
    "duration": 15,
    "start_time": "2024-02-23T09:24:10.826Z"
   },
   {
    "duration": 374,
    "start_time": "2024-02-23T09:24:10.843Z"
   },
   {
    "duration": 34,
    "start_time": "2024-02-23T09:24:11.218Z"
   },
   {
    "duration": 12,
    "start_time": "2024-02-23T09:24:11.254Z"
   },
   {
    "duration": 33,
    "start_time": "2024-02-23T09:24:11.267Z"
   },
   {
    "duration": 9,
    "start_time": "2024-02-23T09:24:11.301Z"
   },
   {
    "duration": 10,
    "start_time": "2024-02-23T09:24:11.312Z"
   },
   {
    "duration": 15,
    "start_time": "2024-02-23T09:24:11.324Z"
   },
   {
    "duration": 5,
    "start_time": "2024-02-23T09:24:11.340Z"
   },
   {
    "duration": 13,
    "start_time": "2024-02-23T09:24:11.382Z"
   },
   {
    "duration": 6,
    "start_time": "2024-02-23T09:24:11.396Z"
   },
   {
    "duration": 23,
    "start_time": "2024-02-23T09:24:11.404Z"
   },
   {
    "duration": 5,
    "start_time": "2024-02-23T09:24:11.429Z"
   },
   {
    "duration": 47,
    "start_time": "2024-02-23T09:24:11.437Z"
   },
   {
    "duration": 36,
    "start_time": "2024-02-23T09:24:11.489Z"
   },
   {
    "duration": 910,
    "start_time": "2024-02-23T09:24:11.527Z"
   },
   {
    "duration": 26,
    "start_time": "2024-02-23T09:24:12.438Z"
   },
   {
    "duration": 23,
    "start_time": "2024-02-23T09:24:12.465Z"
   },
   {
    "duration": 167,
    "start_time": "2024-02-23T09:24:12.490Z"
   },
   {
    "duration": 163,
    "start_time": "2024-02-23T09:24:12.658Z"
   },
   {
    "duration": 1863,
    "start_time": "2024-02-23T09:24:12.824Z"
   },
   {
    "duration": 10,
    "start_time": "2024-02-23T09:24:14.689Z"
   },
   {
    "duration": 149,
    "start_time": "2024-02-23T09:24:14.700Z"
   },
   {
    "duration": 163,
    "start_time": "2024-02-23T09:24:14.851Z"
   },
   {
    "duration": 25,
    "start_time": "2024-02-23T09:24:15.016Z"
   },
   {
    "duration": 59,
    "start_time": "2024-02-23T09:24:15.043Z"
   },
   {
    "duration": 169,
    "start_time": "2024-02-23T09:24:15.104Z"
   },
   {
    "duration": 169,
    "start_time": "2024-02-23T09:24:15.277Z"
   },
   {
    "duration": 16,
    "start_time": "2024-02-23T09:24:15.448Z"
   },
   {
    "duration": 332,
    "start_time": "2024-02-23T09:24:15.466Z"
   },
   {
    "duration": 55,
    "start_time": "2024-02-23T09:24:15.801Z"
   },
   {
    "duration": 54,
    "start_time": "2024-02-23T09:24:15.859Z"
   },
   {
    "duration": 8,
    "start_time": "2024-02-23T09:24:15.915Z"
   },
   {
    "duration": 22,
    "start_time": "2024-02-23T09:24:15.924Z"
   },
   {
    "duration": 4,
    "start_time": "2024-02-23T09:24:15.948Z"
   },
   {
    "duration": 351,
    "start_time": "2024-02-23T09:24:15.953Z"
   },
   {
    "duration": 5,
    "start_time": "2024-02-23T09:24:16.305Z"
   },
   {
    "duration": 552,
    "start_time": "2024-02-23T09:24:16.312Z"
   },
   {
    "duration": 34,
    "start_time": "2024-02-23T09:24:16.865Z"
   },
   {
    "duration": 17,
    "start_time": "2024-02-23T09:24:16.901Z"
   },
   {
    "duration": 14,
    "start_time": "2024-02-23T09:24:16.920Z"
   },
   {
    "duration": 13,
    "start_time": "2024-02-23T09:24:16.936Z"
   },
   {
    "duration": 34,
    "start_time": "2024-02-23T09:24:16.951Z"
   },
   {
    "duration": 22,
    "start_time": "2024-02-23T09:24:16.987Z"
   },
   {
    "duration": 22,
    "start_time": "2024-02-23T09:24:17.010Z"
   },
   {
    "duration": 55,
    "start_time": "2024-02-23T09:24:17.034Z"
   },
   {
    "duration": 59,
    "start_time": "2024-02-23T09:24:17.091Z"
   },
   {
    "duration": 81,
    "start_time": "2024-02-23T09:24:17.152Z"
   },
   {
    "duration": 16,
    "start_time": "2024-02-23T09:24:17.235Z"
   },
   {
    "duration": 31,
    "start_time": "2024-02-23T09:24:17.252Z"
   },
   {
    "duration": 5,
    "start_time": "2024-02-23T09:24:17.285Z"
   },
   {
    "duration": 4,
    "start_time": "2024-02-23T09:24:17.292Z"
   },
   {
    "duration": 30,
    "start_time": "2024-02-23T09:24:17.299Z"
   },
   {
    "duration": 7,
    "start_time": "2024-02-23T09:24:17.331Z"
   },
   {
    "duration": 251,
    "start_time": "2024-02-23T09:48:44.469Z"
   },
   {
    "duration": 242,
    "start_time": "2024-02-23T09:50:32.820Z"
   },
   {
    "duration": 240,
    "start_time": "2024-02-23T09:50:43.205Z"
   },
   {
    "duration": 3,
    "start_time": "2024-02-23T09:51:12.975Z"
   },
   {
    "duration": 9,
    "start_time": "2024-02-23T09:51:12.980Z"
   },
   {
    "duration": 291,
    "start_time": "2024-02-23T09:51:12.991Z"
   },
   {
    "duration": 35,
    "start_time": "2024-02-23T09:51:13.283Z"
   },
   {
    "duration": 11,
    "start_time": "2024-02-23T09:51:13.320Z"
   },
   {
    "duration": 54,
    "start_time": "2024-02-23T09:51:13.332Z"
   },
   {
    "duration": 9,
    "start_time": "2024-02-23T09:51:13.388Z"
   },
   {
    "duration": 9,
    "start_time": "2024-02-23T09:51:13.399Z"
   },
   {
    "duration": 14,
    "start_time": "2024-02-23T09:51:13.410Z"
   },
   {
    "duration": 5,
    "start_time": "2024-02-23T09:51:13.426Z"
   },
   {
    "duration": 19,
    "start_time": "2024-02-23T09:51:13.434Z"
   },
   {
    "duration": 31,
    "start_time": "2024-02-23T09:51:13.455Z"
   },
   {
    "duration": 24,
    "start_time": "2024-02-23T09:51:13.487Z"
   },
   {
    "duration": 6,
    "start_time": "2024-02-23T09:51:13.513Z"
   },
   {
    "duration": 15,
    "start_time": "2024-02-23T09:51:13.521Z"
   },
   {
    "duration": 64,
    "start_time": "2024-02-23T09:51:13.538Z"
   },
   {
    "duration": 900,
    "start_time": "2024-02-23T09:51:13.604Z"
   },
   {
    "duration": 23,
    "start_time": "2024-02-23T09:51:14.505Z"
   },
   {
    "duration": 7,
    "start_time": "2024-02-23T09:51:14.529Z"
   },
   {
    "duration": 155,
    "start_time": "2024-02-23T09:51:14.538Z"
   },
   {
    "duration": 150,
    "start_time": "2024-02-23T09:51:14.695Z"
   },
   {
    "duration": 1675,
    "start_time": "2024-02-23T09:51:14.847Z"
   },
   {
    "duration": 10,
    "start_time": "2024-02-23T09:51:16.523Z"
   },
   {
    "duration": 140,
    "start_time": "2024-02-23T09:51:16.534Z"
   },
   {
    "duration": 161,
    "start_time": "2024-02-23T09:51:16.676Z"
   },
   {
    "duration": 27,
    "start_time": "2024-02-23T09:51:16.839Z"
   },
   {
    "duration": 22,
    "start_time": "2024-02-23T09:51:16.868Z"
   },
   {
    "duration": 150,
    "start_time": "2024-02-23T09:51:16.892Z"
   },
   {
    "duration": 157,
    "start_time": "2024-02-23T09:51:17.047Z"
   },
   {
    "duration": 16,
    "start_time": "2024-02-23T09:51:17.205Z"
   },
   {
    "duration": 243,
    "start_time": "2024-02-23T09:51:17.222Z"
   },
   {
    "duration": 53,
    "start_time": "2024-02-23T09:51:17.467Z"
   },
   {
    "duration": 25,
    "start_time": "2024-02-23T09:51:17.522Z"
   },
   {
    "duration": 6,
    "start_time": "2024-02-23T09:51:17.549Z"
   },
   {
    "duration": 35,
    "start_time": "2024-02-23T09:51:17.556Z"
   },
   {
    "duration": 4,
    "start_time": "2024-02-23T09:51:17.592Z"
   },
   {
    "duration": 284,
    "start_time": "2024-02-23T09:51:17.598Z"
   },
   {
    "duration": 6,
    "start_time": "2024-02-23T09:51:17.884Z"
   },
   {
    "duration": 509,
    "start_time": "2024-02-23T09:51:17.892Z"
   },
   {
    "duration": 21,
    "start_time": "2024-02-23T09:51:18.403Z"
   },
   {
    "duration": 19,
    "start_time": "2024-02-23T09:51:18.425Z"
   },
   {
    "duration": 3,
    "start_time": "2024-02-23T09:51:18.446Z"
   },
   {
    "duration": 8,
    "start_time": "2024-02-23T09:51:18.451Z"
   },
   {
    "duration": 37,
    "start_time": "2024-02-23T09:51:18.481Z"
   },
   {
    "duration": 22,
    "start_time": "2024-02-23T09:51:18.519Z"
   },
   {
    "duration": 21,
    "start_time": "2024-02-23T09:51:18.542Z"
   },
   {
    "duration": 19,
    "start_time": "2024-02-23T09:51:18.582Z"
   },
   {
    "duration": 57,
    "start_time": "2024-02-23T09:51:18.603Z"
   },
   {
    "duration": 258,
    "start_time": "2024-02-23T09:51:18.661Z"
   },
   {
    "duration": 15,
    "start_time": "2024-02-23T09:51:18.920Z"
   },
   {
    "duration": 10,
    "start_time": "2024-02-23T09:51:18.937Z"
   },
   {
    "duration": 5,
    "start_time": "2024-02-23T09:51:18.949Z"
   },
   {
    "duration": 28,
    "start_time": "2024-02-23T09:51:18.956Z"
   },
   {
    "duration": 25,
    "start_time": "2024-02-23T09:51:18.986Z"
   },
   {
    "duration": 5,
    "start_time": "2024-02-23T09:51:19.013Z"
   },
   {
    "duration": 73,
    "start_time": "2024-02-23T11:03:42.535Z"
   },
   {
    "duration": 87,
    "start_time": "2024-02-23T11:06:21.344Z"
   },
   {
    "duration": 270,
    "start_time": "2024-02-23T11:06:29.185Z"
   },
   {
    "duration": 80,
    "start_time": "2024-02-23T11:06:36.993Z"
   },
   {
    "duration": 3,
    "start_time": "2024-02-23T11:10:02.149Z"
   },
   {
    "duration": 60,
    "start_time": "2024-02-23T11:10:02.155Z"
   },
   {
    "duration": 327,
    "start_time": "2024-02-23T11:10:02.217Z"
   },
   {
    "duration": 41,
    "start_time": "2024-02-23T11:10:02.546Z"
   },
   {
    "duration": 13,
    "start_time": "2024-02-23T11:10:02.589Z"
   },
   {
    "duration": 33,
    "start_time": "2024-02-23T11:10:02.604Z"
   },
   {
    "duration": 10,
    "start_time": "2024-02-23T11:10:02.640Z"
   },
   {
    "duration": 39,
    "start_time": "2024-02-23T11:10:02.652Z"
   },
   {
    "duration": 17,
    "start_time": "2024-02-23T11:10:02.694Z"
   },
   {
    "duration": 7,
    "start_time": "2024-02-23T11:10:02.712Z"
   },
   {
    "duration": 29,
    "start_time": "2024-02-23T11:10:02.721Z"
   },
   {
    "duration": 9,
    "start_time": "2024-02-23T11:10:02.752Z"
   },
   {
    "duration": 24,
    "start_time": "2024-02-23T11:10:02.782Z"
   },
   {
    "duration": 8,
    "start_time": "2024-02-23T11:10:02.808Z"
   },
   {
    "duration": 20,
    "start_time": "2024-02-23T11:10:02.817Z"
   },
   {
    "duration": 47,
    "start_time": "2024-02-23T11:10:02.839Z"
   },
   {
    "duration": 884,
    "start_time": "2024-02-23T11:10:02.888Z"
   },
   {
    "duration": 25,
    "start_time": "2024-02-23T11:10:03.774Z"
   },
   {
    "duration": 7,
    "start_time": "2024-02-23T11:10:03.801Z"
   },
   {
    "duration": 157,
    "start_time": "2024-02-23T11:10:03.809Z"
   },
   {
    "duration": 147,
    "start_time": "2024-02-23T11:10:03.968Z"
   },
   {
    "duration": 1656,
    "start_time": "2024-02-23T11:10:04.117Z"
   },
   {
    "duration": 15,
    "start_time": "2024-02-23T11:10:05.775Z"
   },
   {
    "duration": 155,
    "start_time": "2024-02-23T11:10:05.794Z"
   },
   {
    "duration": 227,
    "start_time": "2024-02-23T11:10:05.951Z"
   },
   {
    "duration": 26,
    "start_time": "2024-02-23T11:10:06.182Z"
   },
   {
    "duration": 9,
    "start_time": "2024-02-23T11:10:06.210Z"
   },
   {
    "duration": 154,
    "start_time": "2024-02-23T11:10:06.220Z"
   },
   {
    "duration": 157,
    "start_time": "2024-02-23T11:10:06.376Z"
   },
   {
    "duration": 14,
    "start_time": "2024-02-23T11:10:06.534Z"
   },
   {
    "duration": 249,
    "start_time": "2024-02-23T11:10:06.550Z"
   },
   {
    "duration": 66,
    "start_time": "2024-02-23T11:10:06.800Z"
   },
   {
    "duration": 33,
    "start_time": "2024-02-23T11:10:06.868Z"
   },
   {
    "duration": 6,
    "start_time": "2024-02-23T11:10:06.902Z"
   },
   {
    "duration": 11,
    "start_time": "2024-02-23T11:10:06.909Z"
   },
   {
    "duration": 6,
    "start_time": "2024-02-23T11:10:06.922Z"
   },
   {
    "duration": 330,
    "start_time": "2024-02-23T11:10:06.930Z"
   },
   {
    "duration": 6,
    "start_time": "2024-02-23T11:10:07.262Z"
   },
   {
    "duration": 465,
    "start_time": "2024-02-23T11:10:07.269Z"
   },
   {
    "duration": 18,
    "start_time": "2024-02-23T11:10:07.736Z"
   },
   {
    "duration": 30,
    "start_time": "2024-02-23T11:10:07.756Z"
   },
   {
    "duration": 3,
    "start_time": "2024-02-23T11:10:07.788Z"
   },
   {
    "duration": 10,
    "start_time": "2024-02-23T11:10:07.792Z"
   },
   {
    "duration": 34,
    "start_time": "2024-02-23T11:10:07.804Z"
   },
   {
    "duration": 45,
    "start_time": "2024-02-23T11:10:07.840Z"
   },
   {
    "duration": 21,
    "start_time": "2024-02-23T11:10:07.887Z"
   },
   {
    "duration": 19,
    "start_time": "2024-02-23T11:10:07.909Z"
   },
   {
    "duration": 108,
    "start_time": "2024-02-23T11:10:07.930Z"
   },
   {
    "duration": 249,
    "start_time": "2024-02-23T11:10:08.039Z"
   },
   {
    "duration": 16,
    "start_time": "2024-02-23T11:10:08.290Z"
   },
   {
    "duration": 17,
    "start_time": "2024-02-23T11:10:08.308Z"
   },
   {
    "duration": 21,
    "start_time": "2024-02-23T11:10:08.326Z"
   },
   {
    "duration": 32,
    "start_time": "2024-02-23T11:10:08.348Z"
   },
   {
    "duration": 17,
    "start_time": "2024-02-23T11:10:08.382Z"
   },
   {
    "duration": 5,
    "start_time": "2024-02-23T11:10:08.401Z"
   },
   {
    "duration": 182,
    "start_time": "2024-02-23T11:23:06.067Z"
   },
   {
    "duration": 50,
    "start_time": "2024-02-23T11:24:19.855Z"
   },
   {
    "duration": 3,
    "start_time": "2024-02-23T11:25:10.908Z"
   },
   {
    "duration": 9,
    "start_time": "2024-02-23T11:25:10.913Z"
   },
   {
    "duration": 356,
    "start_time": "2024-02-23T11:25:10.924Z"
   },
   {
    "duration": 36,
    "start_time": "2024-02-23T11:25:11.282Z"
   },
   {
    "duration": 11,
    "start_time": "2024-02-23T11:25:11.320Z"
   },
   {
    "duration": 56,
    "start_time": "2024-02-23T11:25:11.332Z"
   },
   {
    "duration": 8,
    "start_time": "2024-02-23T11:25:11.390Z"
   },
   {
    "duration": 10,
    "start_time": "2024-02-23T11:25:11.400Z"
   },
   {
    "duration": 19,
    "start_time": "2024-02-23T11:25:11.412Z"
   },
   {
    "duration": 5,
    "start_time": "2024-02-23T11:25:11.432Z"
   },
   {
    "duration": 23,
    "start_time": "2024-02-23T11:25:11.439Z"
   },
   {
    "duration": 6,
    "start_time": "2024-02-23T11:25:11.482Z"
   },
   {
    "duration": 23,
    "start_time": "2024-02-23T11:25:11.489Z"
   },
   {
    "duration": 5,
    "start_time": "2024-02-23T11:25:11.513Z"
   },
   {
    "duration": 14,
    "start_time": "2024-02-23T11:25:11.520Z"
   },
   {
    "duration": 58,
    "start_time": "2024-02-23T11:25:11.536Z"
   },
   {
    "duration": 886,
    "start_time": "2024-02-23T11:25:11.596Z"
   },
   {
    "duration": 21,
    "start_time": "2024-02-23T11:25:12.484Z"
   },
   {
    "duration": 9,
    "start_time": "2024-02-23T11:25:12.507Z"
   },
   {
    "duration": 167,
    "start_time": "2024-02-23T11:25:12.518Z"
   },
   {
    "duration": 147,
    "start_time": "2024-02-23T11:25:12.687Z"
   },
   {
    "duration": 1730,
    "start_time": "2024-02-23T11:25:12.836Z"
   },
   {
    "duration": 17,
    "start_time": "2024-02-23T11:25:14.568Z"
   },
   {
    "duration": 139,
    "start_time": "2024-02-23T11:25:14.588Z"
   },
   {
    "duration": 143,
    "start_time": "2024-02-23T11:25:14.729Z"
   },
   {
    "duration": 30,
    "start_time": "2024-02-23T11:25:14.874Z"
   },
   {
    "duration": 10,
    "start_time": "2024-02-23T11:25:14.905Z"
   },
   {
    "duration": 166,
    "start_time": "2024-02-23T11:25:14.916Z"
   },
   {
    "duration": 173,
    "start_time": "2024-02-23T11:25:15.083Z"
   },
   {
    "duration": 25,
    "start_time": "2024-02-23T11:25:15.258Z"
   },
   {
    "duration": 276,
    "start_time": "2024-02-23T11:25:15.284Z"
   },
   {
    "duration": 52,
    "start_time": "2024-02-23T11:25:15.561Z"
   },
   {
    "duration": 23,
    "start_time": "2024-02-23T11:25:15.615Z"
   },
   {
    "duration": 12,
    "start_time": "2024-02-23T11:25:15.640Z"
   },
   {
    "duration": 29,
    "start_time": "2024-02-23T11:25:15.653Z"
   },
   {
    "duration": 17,
    "start_time": "2024-02-23T11:25:15.683Z"
   },
   {
    "duration": 342,
    "start_time": "2024-02-23T11:25:15.702Z"
   },
   {
    "duration": 5,
    "start_time": "2024-02-23T11:25:16.045Z"
   },
   {
    "duration": 346,
    "start_time": "2024-02-23T11:25:16.051Z"
   },
   {
    "duration": 17,
    "start_time": "2024-02-23T11:25:16.399Z"
   },
   {
    "duration": 33,
    "start_time": "2024-02-23T11:25:16.418Z"
   },
   {
    "duration": 12,
    "start_time": "2024-02-23T11:25:16.452Z"
   },
   {
    "duration": 5,
    "start_time": "2024-02-23T11:25:16.466Z"
   },
   {
    "duration": 28,
    "start_time": "2024-02-23T11:25:16.473Z"
   },
   {
    "duration": 20,
    "start_time": "2024-02-23T11:25:16.503Z"
   },
   {
    "duration": 29,
    "start_time": "2024-02-23T11:25:16.525Z"
   },
   {
    "duration": 55,
    "start_time": "2024-02-23T11:25:16.555Z"
   },
   {
    "duration": 0,
    "start_time": "2024-02-23T11:25:16.612Z"
   },
   {
    "duration": 0,
    "start_time": "2024-02-23T11:25:16.614Z"
   },
   {
    "duration": 0,
    "start_time": "2024-02-23T11:25:16.615Z"
   },
   {
    "duration": 0,
    "start_time": "2024-02-23T11:25:16.617Z"
   },
   {
    "duration": 0,
    "start_time": "2024-02-23T11:25:16.619Z"
   },
   {
    "duration": 0,
    "start_time": "2024-02-23T11:25:16.620Z"
   },
   {
    "duration": 0,
    "start_time": "2024-02-23T11:25:16.622Z"
   },
   {
    "duration": 0,
    "start_time": "2024-02-23T11:25:16.623Z"
   },
   {
    "duration": 22,
    "start_time": "2024-02-23T11:44:30.331Z"
   },
   {
    "duration": 18,
    "start_time": "2024-02-23T11:48:29.476Z"
   },
   {
    "duration": 3,
    "start_time": "2024-02-23T12:00:52.946Z"
   },
   {
    "duration": 4,
    "start_time": "2024-02-23T12:00:52.951Z"
   },
   {
    "duration": 322,
    "start_time": "2024-02-23T12:00:52.957Z"
   },
   {
    "duration": 35,
    "start_time": "2024-02-23T12:00:53.281Z"
   },
   {
    "duration": 11,
    "start_time": "2024-02-23T12:00:53.318Z"
   },
   {
    "duration": 51,
    "start_time": "2024-02-23T12:00:53.331Z"
   },
   {
    "duration": 9,
    "start_time": "2024-02-23T12:00:53.384Z"
   },
   {
    "duration": 10,
    "start_time": "2024-02-23T12:00:53.394Z"
   },
   {
    "duration": 14,
    "start_time": "2024-02-23T12:00:53.406Z"
   },
   {
    "duration": 4,
    "start_time": "2024-02-23T12:00:53.422Z"
   },
   {
    "duration": 12,
    "start_time": "2024-02-23T12:00:53.428Z"
   },
   {
    "duration": 41,
    "start_time": "2024-02-23T12:00:53.442Z"
   },
   {
    "duration": 31,
    "start_time": "2024-02-23T12:00:53.485Z"
   },
   {
    "duration": 5,
    "start_time": "2024-02-23T12:00:53.518Z"
   },
   {
    "duration": 15,
    "start_time": "2024-02-23T12:00:53.525Z"
   },
   {
    "duration": 60,
    "start_time": "2024-02-23T12:00:53.542Z"
   },
   {
    "duration": 883,
    "start_time": "2024-02-23T12:00:53.604Z"
   },
   {
    "duration": 22,
    "start_time": "2024-02-23T12:00:54.488Z"
   },
   {
    "duration": 7,
    "start_time": "2024-02-23T12:00:54.511Z"
   },
   {
    "duration": 159,
    "start_time": "2024-02-23T12:00:54.519Z"
   },
   {
    "duration": 147,
    "start_time": "2024-02-23T12:00:54.680Z"
   },
   {
    "duration": 1656,
    "start_time": "2024-02-23T12:00:54.828Z"
   },
   {
    "duration": 10,
    "start_time": "2024-02-23T12:00:56.485Z"
   },
   {
    "duration": 214,
    "start_time": "2024-02-23T12:00:56.496Z"
   },
   {
    "duration": 136,
    "start_time": "2024-02-23T12:00:56.712Z"
   },
   {
    "duration": 34,
    "start_time": "2024-02-23T12:00:56.850Z"
   },
   {
    "duration": 10,
    "start_time": "2024-02-23T12:00:56.885Z"
   },
   {
    "duration": 143,
    "start_time": "2024-02-23T12:00:56.896Z"
   },
   {
    "duration": 150,
    "start_time": "2024-02-23T12:00:57.043Z"
   },
   {
    "duration": 14,
    "start_time": "2024-02-23T12:00:57.195Z"
   },
   {
    "duration": 241,
    "start_time": "2024-02-23T12:00:57.210Z"
   },
   {
    "duration": 48,
    "start_time": "2024-02-23T12:00:57.453Z"
   },
   {
    "duration": 23,
    "start_time": "2024-02-23T12:00:57.502Z"
   },
   {
    "duration": 5,
    "start_time": "2024-02-23T12:00:57.526Z"
   },
   {
    "duration": 25,
    "start_time": "2024-02-23T12:00:57.533Z"
   },
   {
    "duration": 8,
    "start_time": "2024-02-23T12:00:57.559Z"
   },
   {
    "duration": 335,
    "start_time": "2024-02-23T12:00:57.568Z"
   },
   {
    "duration": 6,
    "start_time": "2024-02-23T12:00:57.905Z"
   },
   {
    "duration": 327,
    "start_time": "2024-02-23T12:00:57.913Z"
   },
   {
    "duration": 17,
    "start_time": "2024-02-23T12:00:58.241Z"
   },
   {
    "duration": 35,
    "start_time": "2024-02-23T12:00:58.260Z"
   },
   {
    "duration": 31,
    "start_time": "2024-02-23T12:00:58.297Z"
   },
   {
    "duration": 16,
    "start_time": "2024-02-23T12:00:58.330Z"
   },
   {
    "duration": 55,
    "start_time": "2024-02-23T12:00:58.348Z"
   },
   {
    "duration": 28,
    "start_time": "2024-02-23T12:00:58.405Z"
   },
   {
    "duration": 21,
    "start_time": "2024-02-23T12:00:58.435Z"
   },
   {
    "duration": 17,
    "start_time": "2024-02-23T12:00:58.458Z"
   },
   {
    "duration": 84,
    "start_time": "2024-02-23T12:00:58.482Z"
   },
   {
    "duration": 262,
    "start_time": "2024-02-23T12:00:58.567Z"
   },
   {
    "duration": 21,
    "start_time": "2024-02-23T12:00:58.831Z"
   },
   {
    "duration": 0,
    "start_time": "2024-02-23T12:00:58.853Z"
   },
   {
    "duration": 0,
    "start_time": "2024-02-23T12:00:58.854Z"
   },
   {
    "duration": 0,
    "start_time": "2024-02-23T12:00:58.855Z"
   },
   {
    "duration": 0,
    "start_time": "2024-02-23T12:00:58.856Z"
   },
   {
    "duration": 0,
    "start_time": "2024-02-23T12:00:58.858Z"
   },
   {
    "duration": 60,
    "start_time": "2024-02-23T12:25:37.379Z"
   },
   {
    "duration": 61,
    "start_time": "2024-02-23T12:25:38.591Z"
   },
   {
    "duration": 61,
    "start_time": "2024-02-23T12:25:39.627Z"
   },
   {
    "duration": 61,
    "start_time": "2024-02-23T12:26:24.087Z"
   },
   {
    "duration": 22,
    "start_time": "2024-02-23T12:26:25.014Z"
   },
   {
    "duration": 77,
    "start_time": "2024-02-23T12:27:28.835Z"
   },
   {
    "duration": 22,
    "start_time": "2024-02-23T12:28:36.543Z"
   },
   {
    "duration": 13,
    "start_time": "2024-02-23T12:28:59.178Z"
   },
   {
    "duration": 12,
    "start_time": "2024-02-23T12:29:10.245Z"
   },
   {
    "duration": 71,
    "start_time": "2024-02-23T12:30:34.319Z"
   },
   {
    "duration": 19,
    "start_time": "2024-02-23T12:30:37.344Z"
   },
   {
    "duration": 22,
    "start_time": "2024-02-23T12:32:31.032Z"
   },
   {
    "duration": 17,
    "start_time": "2024-02-23T12:32:32.552Z"
   },
   {
    "duration": 20,
    "start_time": "2024-02-23T12:32:33.397Z"
   },
   {
    "duration": 13,
    "start_time": "2024-02-23T12:33:12.913Z"
   },
   {
    "duration": 6,
    "start_time": "2024-02-23T12:33:30.322Z"
   },
   {
    "duration": 4,
    "start_time": "2024-02-23T12:34:29.248Z"
   },
   {
    "duration": 4,
    "start_time": "2024-02-23T12:34:32.557Z"
   },
   {
    "duration": 20,
    "start_time": "2024-02-23T12:34:33.317Z"
   },
   {
    "duration": 5,
    "start_time": "2024-02-23T12:34:44.323Z"
   },
   {
    "duration": 60,
    "start_time": "2024-02-23T12:37:18.357Z"
   },
   {
    "duration": 70,
    "start_time": "2024-02-23T12:37:36.046Z"
   },
   {
    "duration": 65,
    "start_time": "2024-02-23T12:37:46.881Z"
   },
   {
    "duration": 67,
    "start_time": "2024-02-23T12:38:08.508Z"
   },
   {
    "duration": 3,
    "start_time": "2024-02-23T12:38:20.698Z"
   },
   {
    "duration": 4,
    "start_time": "2024-02-23T12:38:20.702Z"
   },
   {
    "duration": 325,
    "start_time": "2024-02-23T12:38:20.708Z"
   },
   {
    "duration": 35,
    "start_time": "2024-02-23T12:38:21.035Z"
   },
   {
    "duration": 12,
    "start_time": "2024-02-23T12:38:21.072Z"
   },
   {
    "duration": 38,
    "start_time": "2024-02-23T12:38:21.085Z"
   },
   {
    "duration": 10,
    "start_time": "2024-02-23T12:38:21.125Z"
   },
   {
    "duration": 12,
    "start_time": "2024-02-23T12:38:21.136Z"
   },
   {
    "duration": 40,
    "start_time": "2024-02-23T12:38:21.149Z"
   },
   {
    "duration": 5,
    "start_time": "2024-02-23T12:38:21.191Z"
   },
   {
    "duration": 13,
    "start_time": "2024-02-23T12:38:21.200Z"
   },
   {
    "duration": 6,
    "start_time": "2024-02-23T12:38:21.214Z"
   },
   {
    "duration": 24,
    "start_time": "2024-02-23T12:38:21.221Z"
   },
   {
    "duration": 36,
    "start_time": "2024-02-23T12:38:21.246Z"
   },
   {
    "duration": 14,
    "start_time": "2024-02-23T12:38:21.283Z"
   },
   {
    "duration": 31,
    "start_time": "2024-02-23T12:38:21.299Z"
   },
   {
    "duration": 897,
    "start_time": "2024-02-23T12:38:21.332Z"
   },
   {
    "duration": 22,
    "start_time": "2024-02-23T12:38:22.230Z"
   },
   {
    "duration": 7,
    "start_time": "2024-02-23T12:38:22.254Z"
   },
   {
    "duration": 158,
    "start_time": "2024-02-23T12:38:22.262Z"
   },
   {
    "duration": 158,
    "start_time": "2024-02-23T12:38:22.422Z"
   },
   {
    "duration": 1713,
    "start_time": "2024-02-23T12:38:22.581Z"
   },
   {
    "duration": 9,
    "start_time": "2024-02-23T12:38:24.296Z"
   },
   {
    "duration": 139,
    "start_time": "2024-02-23T12:38:24.307Z"
   },
   {
    "duration": 141,
    "start_time": "2024-02-23T12:38:24.447Z"
   },
   {
    "duration": 24,
    "start_time": "2024-02-23T12:38:24.590Z"
   },
   {
    "duration": 9,
    "start_time": "2024-02-23T12:38:24.615Z"
   },
   {
    "duration": 146,
    "start_time": "2024-02-23T12:38:24.626Z"
   },
   {
    "duration": 142,
    "start_time": "2024-02-23T12:38:24.783Z"
   },
   {
    "duration": 15,
    "start_time": "2024-02-23T12:38:24.927Z"
   },
   {
    "duration": 241,
    "start_time": "2024-02-23T12:38:24.943Z"
   },
   {
    "duration": 51,
    "start_time": "2024-02-23T12:38:25.186Z"
   },
   {
    "duration": 22,
    "start_time": "2024-02-23T12:38:25.238Z"
   },
   {
    "duration": 22,
    "start_time": "2024-02-23T12:38:25.262Z"
   },
   {
    "duration": 108,
    "start_time": "2024-02-23T12:38:25.286Z"
   },
   {
    "duration": 4,
    "start_time": "2024-02-23T12:38:25.395Z"
   },
   {
    "duration": 313,
    "start_time": "2024-02-23T12:38:25.400Z"
   },
   {
    "duration": 5,
    "start_time": "2024-02-23T12:38:25.715Z"
   },
   {
    "duration": 320,
    "start_time": "2024-02-23T12:38:25.721Z"
   },
   {
    "duration": 17,
    "start_time": "2024-02-23T12:38:26.043Z"
   },
   {
    "duration": 26,
    "start_time": "2024-02-23T12:38:26.062Z"
   },
   {
    "duration": 2,
    "start_time": "2024-02-23T12:38:26.090Z"
   },
   {
    "duration": 6,
    "start_time": "2024-02-23T12:38:26.094Z"
   },
   {
    "duration": 24,
    "start_time": "2024-02-23T12:38:26.102Z"
   },
   {
    "duration": 19,
    "start_time": "2024-02-23T12:38:26.128Z"
   },
   {
    "duration": 51,
    "start_time": "2024-02-23T12:38:26.148Z"
   },
   {
    "duration": 19,
    "start_time": "2024-02-23T12:38:26.200Z"
   },
   {
    "duration": 107,
    "start_time": "2024-02-23T12:38:26.220Z"
   },
   {
    "duration": 254,
    "start_time": "2024-02-23T12:38:26.328Z"
   },
   {
    "duration": 63,
    "start_time": "2024-02-23T12:38:26.583Z"
   },
   {
    "duration": 15,
    "start_time": "2024-02-23T12:38:26.647Z"
   },
   {
    "duration": 12,
    "start_time": "2024-02-23T12:38:26.682Z"
   },
   {
    "duration": 5,
    "start_time": "2024-02-23T12:38:26.695Z"
   },
   {
    "duration": 5,
    "start_time": "2024-02-23T12:38:26.702Z"
   },
   {
    "duration": 17,
    "start_time": "2024-02-23T12:38:26.708Z"
   },
   {
    "duration": 5,
    "start_time": "2024-02-23T12:38:26.726Z"
   },
   {
    "duration": 1177,
    "start_time": "2024-02-23T12:44:40.274Z"
   },
   {
    "duration": 3,
    "start_time": "2024-02-23T12:44:41.452Z"
   },
   {
    "duration": 431,
    "start_time": "2024-02-23T12:44:41.457Z"
   },
   {
    "duration": 49,
    "start_time": "2024-02-23T12:44:41.890Z"
   },
   {
    "duration": 13,
    "start_time": "2024-02-23T12:44:41.940Z"
   },
   {
    "duration": 54,
    "start_time": "2024-02-23T12:44:41.954Z"
   },
   {
    "duration": 11,
    "start_time": "2024-02-23T12:44:42.010Z"
   },
   {
    "duration": 11,
    "start_time": "2024-02-23T12:44:42.022Z"
   },
   {
    "duration": 50,
    "start_time": "2024-02-23T12:44:42.035Z"
   },
   {
    "duration": 5,
    "start_time": "2024-02-23T12:44:42.089Z"
   },
   {
    "duration": 14,
    "start_time": "2024-02-23T12:44:42.096Z"
   },
   {
    "duration": 6,
    "start_time": "2024-02-23T12:44:42.112Z"
   },
   {
    "duration": 23,
    "start_time": "2024-02-23T12:44:42.120Z"
   },
   {
    "duration": 5,
    "start_time": "2024-02-23T12:44:42.145Z"
   },
   {
    "duration": 15,
    "start_time": "2024-02-23T12:44:42.183Z"
   },
   {
    "duration": 32,
    "start_time": "2024-02-23T12:44:42.200Z"
   },
   {
    "duration": 927,
    "start_time": "2024-02-23T12:44:42.234Z"
   },
   {
    "duration": 34,
    "start_time": "2024-02-23T12:44:43.163Z"
   },
   {
    "duration": 7,
    "start_time": "2024-02-23T12:44:43.199Z"
   },
   {
    "duration": 161,
    "start_time": "2024-02-23T12:44:43.207Z"
   },
   {
    "duration": 148,
    "start_time": "2024-02-23T12:44:43.369Z"
   },
   {
    "duration": 1644,
    "start_time": "2024-02-23T12:44:43.519Z"
   },
   {
    "duration": 11,
    "start_time": "2024-02-23T12:44:45.165Z"
   },
   {
    "duration": 136,
    "start_time": "2024-02-23T12:44:45.183Z"
   },
   {
    "duration": 136,
    "start_time": "2024-02-23T12:44:45.321Z"
   },
   {
    "duration": 35,
    "start_time": "2024-02-23T12:44:45.459Z"
   },
   {
    "duration": 14,
    "start_time": "2024-02-23T12:44:45.496Z"
   },
   {
    "duration": 147,
    "start_time": "2024-02-23T12:44:45.514Z"
   },
   {
    "duration": 150,
    "start_time": "2024-02-23T12:44:45.663Z"
   },
   {
    "duration": 15,
    "start_time": "2024-02-23T12:44:45.815Z"
   },
   {
    "duration": 252,
    "start_time": "2024-02-23T12:44:45.832Z"
   },
   {
    "duration": 45,
    "start_time": "2024-02-23T12:44:46.086Z"
   },
   {
    "duration": 21,
    "start_time": "2024-02-23T12:44:46.132Z"
   },
   {
    "duration": 30,
    "start_time": "2024-02-23T12:44:46.155Z"
   },
   {
    "duration": 18,
    "start_time": "2024-02-23T12:44:46.187Z"
   },
   {
    "duration": 21,
    "start_time": "2024-02-23T12:44:46.206Z"
   },
   {
    "duration": 328,
    "start_time": "2024-02-23T12:44:46.229Z"
   },
   {
    "duration": 5,
    "start_time": "2024-02-23T12:44:46.558Z"
   },
   {
    "duration": 330,
    "start_time": "2024-02-23T12:44:46.564Z"
   },
   {
    "duration": 39,
    "start_time": "2024-02-23T12:44:46.895Z"
   },
   {
    "duration": 162,
    "start_time": "2024-02-23T12:44:46.936Z"
   },
   {
    "duration": 2,
    "start_time": "2024-02-23T12:44:47.100Z"
   },
   {
    "duration": 5,
    "start_time": "2024-02-23T12:44:47.103Z"
   },
   {
    "duration": 29,
    "start_time": "2024-02-23T12:44:47.109Z"
   },
   {
    "duration": 20,
    "start_time": "2024-02-23T12:44:47.181Z"
   },
   {
    "duration": 21,
    "start_time": "2024-02-23T12:44:47.203Z"
   },
   {
    "duration": 73,
    "start_time": "2024-02-23T12:44:47.226Z"
   },
   {
    "duration": 118,
    "start_time": "2024-02-23T12:44:47.301Z"
   },
   {
    "duration": 249,
    "start_time": "2024-02-23T12:44:47.421Z"
   },
   {
    "duration": 67,
    "start_time": "2024-02-23T12:44:47.672Z"
   },
   {
    "duration": 14,
    "start_time": "2024-02-23T12:44:47.741Z"
   },
   {
    "duration": 27,
    "start_time": "2024-02-23T12:44:47.756Z"
   },
   {
    "duration": 5,
    "start_time": "2024-02-23T12:44:47.784Z"
   },
   {
    "duration": 8,
    "start_time": "2024-02-23T12:44:47.790Z"
   },
   {
    "duration": 122,
    "start_time": "2024-02-23T12:44:47.799Z"
   },
   {
    "duration": 8,
    "start_time": "2024-02-23T12:44:47.923Z"
   },
   {
    "duration": 34,
    "start_time": "2024-02-23T13:13:51.711Z"
   },
   {
    "duration": 231,
    "start_time": "2024-02-23T13:14:52.743Z"
   },
   {
    "duration": 98,
    "start_time": "2024-02-23T13:30:59.912Z"
   },
   {
    "duration": 247,
    "start_time": "2024-02-23T13:31:04.157Z"
   },
   {
    "duration": 49,
    "start_time": "2024-02-23T13:32:30.578Z"
   },
   {
    "duration": 246,
    "start_time": "2024-02-23T13:32:37.400Z"
   },
   {
    "duration": 31,
    "start_time": "2024-02-23T13:34:15.333Z"
   },
   {
    "duration": 257,
    "start_time": "2024-02-23T13:34:18.876Z"
   },
   {
    "duration": 32,
    "start_time": "2024-02-23T13:34:46.103Z"
   },
   {
    "duration": 42,
    "start_time": "2024-02-23T13:34:47.355Z"
   },
   {
    "duration": 32,
    "start_time": "2024-02-23T13:34:48.002Z"
   },
   {
    "duration": 32,
    "start_time": "2024-02-23T13:35:08.325Z"
   },
   {
    "duration": 33,
    "start_time": "2024-02-23T13:35:09.792Z"
   },
   {
    "duration": 240,
    "start_time": "2024-02-23T13:35:10.292Z"
   },
   {
    "duration": 31,
    "start_time": "2024-02-23T13:35:47.227Z"
   },
   {
    "duration": 240,
    "start_time": "2024-02-23T13:35:52.633Z"
   },
   {
    "duration": 38,
    "start_time": "2024-02-23T13:36:23.139Z"
   },
   {
    "duration": 257,
    "start_time": "2024-02-23T13:36:23.681Z"
   },
   {
    "duration": 35,
    "start_time": "2024-02-23T13:42:13.388Z"
   },
   {
    "duration": 253,
    "start_time": "2024-02-23T13:42:14.080Z"
   },
   {
    "duration": 42,
    "start_time": "2024-02-23T13:42:33.752Z"
   },
   {
    "duration": 237,
    "start_time": "2024-02-23T13:42:34.357Z"
   },
   {
    "duration": 4,
    "start_time": "2024-02-23T14:18:11.681Z"
   },
   {
    "duration": 7,
    "start_time": "2024-02-23T14:18:11.687Z"
   },
   {
    "duration": 296,
    "start_time": "2024-02-23T14:18:11.696Z"
   },
   {
    "duration": 49,
    "start_time": "2024-02-23T14:18:11.993Z"
   },
   {
    "duration": 16,
    "start_time": "2024-02-23T14:18:12.044Z"
   },
   {
    "duration": 34,
    "start_time": "2024-02-23T14:18:12.083Z"
   },
   {
    "duration": 14,
    "start_time": "2024-02-23T14:18:12.119Z"
   },
   {
    "duration": 19,
    "start_time": "2024-02-23T14:18:12.136Z"
   },
   {
    "duration": 38,
    "start_time": "2024-02-23T14:18:12.156Z"
   },
   {
    "duration": 28,
    "start_time": "2024-02-23T14:18:12.196Z"
   },
   {
    "duration": 21,
    "start_time": "2024-02-23T14:18:12.226Z"
   },
   {
    "duration": 19,
    "start_time": "2024-02-23T14:18:12.248Z"
   },
   {
    "duration": 48,
    "start_time": "2024-02-23T14:18:12.269Z"
   },
   {
    "duration": 6,
    "start_time": "2024-02-23T14:18:12.319Z"
   },
   {
    "duration": 32,
    "start_time": "2024-02-23T14:18:12.326Z"
   },
   {
    "duration": 42,
    "start_time": "2024-02-23T14:18:12.359Z"
   },
   {
    "duration": 937,
    "start_time": "2024-02-23T14:18:12.403Z"
   },
   {
    "duration": 22,
    "start_time": "2024-02-23T14:18:13.342Z"
   },
   {
    "duration": 21,
    "start_time": "2024-02-23T14:18:13.366Z"
   },
   {
    "duration": 158,
    "start_time": "2024-02-23T14:18:13.388Z"
   },
   {
    "duration": 170,
    "start_time": "2024-02-23T14:18:13.548Z"
   },
   {
    "duration": 1725,
    "start_time": "2024-02-23T14:18:13.719Z"
   },
   {
    "duration": 11,
    "start_time": "2024-02-23T14:18:15.445Z"
   },
   {
    "duration": 145,
    "start_time": "2024-02-23T14:18:15.457Z"
   },
   {
    "duration": 218,
    "start_time": "2024-02-23T14:18:15.604Z"
   },
   {
    "duration": 28,
    "start_time": "2024-02-23T14:18:15.824Z"
   },
   {
    "duration": 29,
    "start_time": "2024-02-23T14:18:15.854Z"
   },
   {
    "duration": 159,
    "start_time": "2024-02-23T14:18:15.886Z"
   },
   {
    "duration": 156,
    "start_time": "2024-02-23T14:18:16.049Z"
   },
   {
    "duration": 15,
    "start_time": "2024-02-23T14:18:16.207Z"
   },
   {
    "duration": 261,
    "start_time": "2024-02-23T14:18:16.224Z"
   },
   {
    "duration": 48,
    "start_time": "2024-02-23T14:18:16.486Z"
   },
   {
    "duration": 24,
    "start_time": "2024-02-23T14:18:16.536Z"
   },
   {
    "duration": 24,
    "start_time": "2024-02-23T14:18:16.561Z"
   },
   {
    "duration": 15,
    "start_time": "2024-02-23T14:18:16.587Z"
   },
   {
    "duration": 9,
    "start_time": "2024-02-23T14:18:16.604Z"
   },
   {
    "duration": 308,
    "start_time": "2024-02-23T14:18:16.614Z"
   },
   {
    "duration": 5,
    "start_time": "2024-02-23T14:18:16.924Z"
   },
   {
    "duration": 331,
    "start_time": "2024-02-23T14:18:16.931Z"
   },
   {
    "duration": 37,
    "start_time": "2024-02-23T14:18:17.264Z"
   },
   {
    "duration": 11,
    "start_time": "2024-02-23T14:18:17.303Z"
   },
   {
    "duration": 2,
    "start_time": "2024-02-23T14:18:17.317Z"
   },
   {
    "duration": 8,
    "start_time": "2024-02-23T14:18:17.321Z"
   },
   {
    "duration": 58,
    "start_time": "2024-02-23T14:18:17.332Z"
   },
   {
    "duration": 31,
    "start_time": "2024-02-23T14:18:17.392Z"
   },
   {
    "duration": 26,
    "start_time": "2024-02-23T14:18:17.425Z"
   },
   {
    "duration": 51,
    "start_time": "2024-02-23T14:18:17.453Z"
   },
   {
    "duration": 45,
    "start_time": "2024-02-23T14:18:17.507Z"
   },
   {
    "duration": 275,
    "start_time": "2024-02-23T14:18:17.554Z"
   },
   {
    "duration": 104,
    "start_time": "2024-02-23T14:18:17.831Z"
   },
   {
    "duration": 16,
    "start_time": "2024-02-23T14:18:17.936Z"
   },
   {
    "duration": 12,
    "start_time": "2024-02-23T14:18:17.953Z"
   },
   {
    "duration": 18,
    "start_time": "2024-02-23T14:18:17.983Z"
   },
   {
    "duration": 9,
    "start_time": "2024-02-23T14:18:18.003Z"
   },
   {
    "duration": 15,
    "start_time": "2024-02-23T14:18:18.014Z"
   },
   {
    "duration": 5,
    "start_time": "2024-02-23T14:18:18.031Z"
   },
   {
    "duration": 1374,
    "start_time": "2024-02-23T15:37:21.596Z"
   },
   {
    "duration": 4,
    "start_time": "2024-02-23T15:37:22.974Z"
   },
   {
    "duration": 339,
    "start_time": "2024-02-23T15:37:22.981Z"
   },
   {
    "duration": 45,
    "start_time": "2024-02-23T15:37:23.323Z"
   },
   {
    "duration": 14,
    "start_time": "2024-02-23T15:37:23.370Z"
   },
   {
    "duration": 69,
    "start_time": "2024-02-23T15:37:23.386Z"
   },
   {
    "duration": 11,
    "start_time": "2024-02-23T15:37:23.457Z"
   },
   {
    "duration": 14,
    "start_time": "2024-02-23T15:37:23.470Z"
   },
   {
    "duration": 19,
    "start_time": "2024-02-23T15:37:23.486Z"
   },
   {
    "duration": 6,
    "start_time": "2024-02-23T15:37:23.533Z"
   },
   {
    "duration": 24,
    "start_time": "2024-02-23T15:37:23.541Z"
   },
   {
    "duration": 6,
    "start_time": "2024-02-23T15:37:23.567Z"
   },
   {
    "duration": 30,
    "start_time": "2024-02-23T15:37:23.575Z"
   },
   {
    "duration": 5,
    "start_time": "2024-02-23T15:37:23.607Z"
   },
   {
    "duration": 16,
    "start_time": "2024-02-23T15:37:23.634Z"
   },
   {
    "duration": 40,
    "start_time": "2024-02-23T15:37:23.651Z"
   },
   {
    "duration": 825,
    "start_time": "2024-02-23T15:37:23.693Z"
   },
   {
    "duration": 24,
    "start_time": "2024-02-23T15:37:24.520Z"
   },
   {
    "duration": 7,
    "start_time": "2024-02-23T15:37:24.546Z"
   },
   {
    "duration": 144,
    "start_time": "2024-02-23T15:37:24.555Z"
   },
   {
    "duration": 137,
    "start_time": "2024-02-23T15:37:24.700Z"
   },
   {
    "duration": 1561,
    "start_time": "2024-02-23T15:37:24.839Z"
   },
   {
    "duration": 10,
    "start_time": "2024-02-23T15:37:26.401Z"
   },
   {
    "duration": 151,
    "start_time": "2024-02-23T15:37:26.412Z"
   },
   {
    "duration": 131,
    "start_time": "2024-02-23T15:37:26.565Z"
   },
   {
    "duration": 23,
    "start_time": "2024-02-23T15:37:26.697Z"
   },
   {
    "duration": 12,
    "start_time": "2024-02-23T15:37:26.732Z"
   },
   {
    "duration": 148,
    "start_time": "2024-02-23T15:37:26.748Z"
   },
   {
    "duration": 172,
    "start_time": "2024-02-23T15:37:26.898Z"
   },
   {
    "duration": 22,
    "start_time": "2024-02-23T15:37:27.072Z"
   },
   {
    "duration": 270,
    "start_time": "2024-02-23T15:37:27.096Z"
   },
   {
    "duration": 41,
    "start_time": "2024-02-23T15:37:27.368Z"
   },
   {
    "duration": 48,
    "start_time": "2024-02-23T15:37:27.411Z"
   },
   {
    "duration": 6,
    "start_time": "2024-02-23T15:37:27.461Z"
   },
   {
    "duration": 16,
    "start_time": "2024-02-23T15:37:27.468Z"
   },
   {
    "duration": 20,
    "start_time": "2024-02-23T15:37:27.486Z"
   },
   {
    "duration": 274,
    "start_time": "2024-02-23T15:37:27.507Z"
   },
   {
    "duration": 4,
    "start_time": "2024-02-23T15:37:27.783Z"
   },
   {
    "duration": 304,
    "start_time": "2024-02-23T15:37:27.789Z"
   },
   {
    "duration": 69,
    "start_time": "2024-02-23T15:37:28.095Z"
   },
   {
    "duration": 141,
    "start_time": "2024-02-23T15:37:28.166Z"
   },
   {
    "duration": 2,
    "start_time": "2024-02-23T15:37:28.310Z"
   },
   {
    "duration": 9,
    "start_time": "2024-02-23T15:37:28.314Z"
   },
   {
    "duration": 34,
    "start_time": "2024-02-23T15:37:28.325Z"
   },
   {
    "duration": 77,
    "start_time": "2024-02-23T15:37:28.361Z"
   },
   {
    "duration": 31,
    "start_time": "2024-02-23T15:37:28.440Z"
   },
   {
    "duration": 72,
    "start_time": "2024-02-23T15:37:28.473Z"
   },
   {
    "duration": 34,
    "start_time": "2024-02-23T15:37:28.546Z"
   },
   {
    "duration": 259,
    "start_time": "2024-02-23T15:37:28.582Z"
   },
   {
    "duration": 72,
    "start_time": "2024-02-23T15:37:28.843Z"
   },
   {
    "duration": 29,
    "start_time": "2024-02-23T15:37:28.917Z"
   },
   {
    "duration": 12,
    "start_time": "2024-02-23T15:37:28.947Z"
   },
   {
    "duration": 25,
    "start_time": "2024-02-23T15:37:28.961Z"
   },
   {
    "duration": 5,
    "start_time": "2024-02-23T15:37:28.988Z"
   },
   {
    "duration": 105,
    "start_time": "2024-02-23T15:37:28.995Z"
   },
   {
    "duration": 5,
    "start_time": "2024-02-23T15:37:29.102Z"
   },
   {
    "duration": 14,
    "start_time": "2024-02-23T15:49:03.896Z"
   },
   {
    "duration": 4,
    "start_time": "2024-02-23T23:04:49.376Z"
   },
   {
    "duration": 9,
    "start_time": "2024-02-23T23:04:49.382Z"
   },
   {
    "duration": 436,
    "start_time": "2024-02-23T23:04:49.393Z"
   },
   {
    "duration": 35,
    "start_time": "2024-02-23T23:04:49.831Z"
   },
   {
    "duration": 12,
    "start_time": "2024-02-23T23:04:49.868Z"
   },
   {
    "duration": 59,
    "start_time": "2024-02-23T23:04:49.881Z"
   },
   {
    "duration": 11,
    "start_time": "2024-02-23T23:04:49.942Z"
   },
   {
    "duration": 12,
    "start_time": "2024-02-23T23:04:49.954Z"
   },
   {
    "duration": 19,
    "start_time": "2024-02-23T23:04:49.968Z"
   },
   {
    "duration": 8,
    "start_time": "2024-02-23T23:04:49.989Z"
   },
   {
    "duration": 50,
    "start_time": "2024-02-23T23:04:50.000Z"
   },
   {
    "duration": 6,
    "start_time": "2024-02-23T23:04:50.052Z"
   },
   {
    "duration": 21,
    "start_time": "2024-02-23T23:04:50.060Z"
   },
   {
    "duration": 6,
    "start_time": "2024-02-23T23:04:50.083Z"
   },
   {
    "duration": 45,
    "start_time": "2024-02-23T23:04:50.091Z"
   },
   {
    "duration": 50,
    "start_time": "2024-02-23T23:04:50.139Z"
   },
   {
    "duration": 884,
    "start_time": "2024-02-23T23:04:50.191Z"
   },
   {
    "duration": 30,
    "start_time": "2024-02-23T23:04:51.077Z"
   },
   {
    "duration": 27,
    "start_time": "2024-02-23T23:04:51.109Z"
   },
   {
    "duration": 153,
    "start_time": "2024-02-23T23:04:51.138Z"
   },
   {
    "duration": 218,
    "start_time": "2024-02-23T23:04:51.293Z"
   },
   {
    "duration": 1648,
    "start_time": "2024-02-23T23:04:51.513Z"
   },
   {
    "duration": 13,
    "start_time": "2024-02-23T23:04:53.163Z"
   },
   {
    "duration": 180,
    "start_time": "2024-02-23T23:04:53.178Z"
   },
   {
    "duration": 141,
    "start_time": "2024-02-23T23:04:53.360Z"
   },
   {
    "duration": 45,
    "start_time": "2024-02-23T23:04:53.504Z"
   },
   {
    "duration": 14,
    "start_time": "2024-02-23T23:04:53.551Z"
   },
   {
    "duration": 206,
    "start_time": "2024-02-23T23:04:53.568Z"
   },
   {
    "duration": 162,
    "start_time": "2024-02-23T23:04:53.780Z"
   },
   {
    "duration": 25,
    "start_time": "2024-02-23T23:04:53.944Z"
   },
   {
    "duration": 245,
    "start_time": "2024-02-23T23:04:53.971Z"
   },
   {
    "duration": 50,
    "start_time": "2024-02-23T23:04:54.218Z"
   },
   {
    "duration": 33,
    "start_time": "2024-02-23T23:04:54.269Z"
   },
   {
    "duration": 29,
    "start_time": "2024-02-23T23:04:54.304Z"
   },
   {
    "duration": 16,
    "start_time": "2024-02-23T23:04:54.335Z"
   },
   {
    "duration": 8,
    "start_time": "2024-02-23T23:04:54.352Z"
   },
   {
    "duration": 166,
    "start_time": "2024-02-23T23:04:54.361Z"
   },
   {
    "duration": 4,
    "start_time": "2024-02-23T23:04:54.529Z"
   },
   {
    "duration": 336,
    "start_time": "2024-02-23T23:04:54.535Z"
   },
   {
    "duration": 14,
    "start_time": "2024-02-23T23:04:54.873Z"
   },
   {
    "duration": 25,
    "start_time": "2024-02-23T23:04:54.889Z"
   },
   {
    "duration": 18,
    "start_time": "2024-02-23T23:04:54.916Z"
   },
   {
    "duration": 9,
    "start_time": "2024-02-23T23:04:54.936Z"
   },
   {
    "duration": 11,
    "start_time": "2024-02-23T23:04:54.947Z"
   },
   {
    "duration": 156,
    "start_time": "2024-02-23T23:04:54.961Z"
   },
   {
    "duration": 141,
    "start_time": "2024-02-23T23:04:55.120Z"
   },
   {
    "duration": 86,
    "start_time": "2024-02-23T23:04:55.263Z"
   },
   {
    "duration": 145,
    "start_time": "2024-02-23T23:04:55.351Z"
   },
   {
    "duration": 47,
    "start_time": "2024-02-23T23:04:55.498Z"
   },
   {
    "duration": 317,
    "start_time": "2024-02-23T23:04:55.547Z"
   },
   {
    "duration": 79,
    "start_time": "2024-02-23T23:04:55.866Z"
   },
   {
    "duration": 15,
    "start_time": "2024-02-23T23:04:55.947Z"
   },
   {
    "duration": 11,
    "start_time": "2024-02-23T23:04:55.963Z"
   },
   {
    "duration": 4,
    "start_time": "2024-02-23T23:04:55.976Z"
   },
   {
    "duration": 20,
    "start_time": "2024-02-23T23:04:55.982Z"
   },
   {
    "duration": 32,
    "start_time": "2024-02-23T23:04:56.003Z"
   },
   {
    "duration": 5,
    "start_time": "2024-02-23T23:04:56.037Z"
   },
   {
    "duration": 3,
    "start_time": "2024-02-23T23:28:23.492Z"
   },
   {
    "duration": 8,
    "start_time": "2024-02-23T23:28:23.497Z"
   },
   {
    "duration": 297,
    "start_time": "2024-02-23T23:28:23.506Z"
   },
   {
    "duration": 38,
    "start_time": "2024-02-23T23:28:23.805Z"
   },
   {
    "duration": 13,
    "start_time": "2024-02-23T23:28:23.845Z"
   },
   {
    "duration": 52,
    "start_time": "2024-02-23T23:28:23.860Z"
   },
   {
    "duration": 19,
    "start_time": "2024-02-23T23:28:23.914Z"
   },
   {
    "duration": 11,
    "start_time": "2024-02-23T23:28:23.935Z"
   },
   {
    "duration": 22,
    "start_time": "2024-02-23T23:28:23.948Z"
   },
   {
    "duration": 6,
    "start_time": "2024-02-23T23:28:23.972Z"
   },
   {
    "duration": 19,
    "start_time": "2024-02-23T23:28:23.982Z"
   },
   {
    "duration": 34,
    "start_time": "2024-02-23T23:28:24.003Z"
   },
   {
    "duration": 23,
    "start_time": "2024-02-23T23:28:24.039Z"
   },
   {
    "duration": 6,
    "start_time": "2024-02-23T23:28:24.064Z"
   },
   {
    "duration": 20,
    "start_time": "2024-02-23T23:28:24.072Z"
   },
   {
    "duration": 76,
    "start_time": "2024-02-23T23:28:24.094Z"
   },
   {
    "duration": 868,
    "start_time": "2024-02-23T23:28:24.171Z"
   },
   {
    "duration": 21,
    "start_time": "2024-02-23T23:28:25.040Z"
   },
   {
    "duration": 7,
    "start_time": "2024-02-23T23:28:25.063Z"
   },
   {
    "duration": 143,
    "start_time": "2024-02-23T23:28:25.071Z"
   },
   {
    "duration": 147,
    "start_time": "2024-02-23T23:28:25.216Z"
   },
   {
    "duration": 1488,
    "start_time": "2024-02-23T23:28:25.364Z"
   },
   {
    "duration": 10,
    "start_time": "2024-02-23T23:28:26.854Z"
   },
   {
    "duration": 157,
    "start_time": "2024-02-23T23:28:26.865Z"
   },
   {
    "duration": 135,
    "start_time": "2024-02-23T23:28:27.023Z"
   },
   {
    "duration": 24,
    "start_time": "2024-02-23T23:28:27.160Z"
   },
   {
    "duration": 24,
    "start_time": "2024-02-23T23:28:27.186Z"
   },
   {
    "duration": 201,
    "start_time": "2024-02-23T23:28:27.212Z"
   },
   {
    "duration": 140,
    "start_time": "2024-02-23T23:28:27.416Z"
   },
   {
    "duration": 14,
    "start_time": "2024-02-23T23:28:27.558Z"
   },
   {
    "duration": 220,
    "start_time": "2024-02-23T23:28:27.573Z"
   },
   {
    "duration": 68,
    "start_time": "2024-02-23T23:28:27.796Z"
   },
   {
    "duration": 27,
    "start_time": "2024-02-23T23:28:27.865Z"
   },
   {
    "duration": 5,
    "start_time": "2024-02-23T23:28:27.894Z"
   },
   {
    "duration": 33,
    "start_time": "2024-02-23T23:28:27.900Z"
   },
   {
    "duration": 3,
    "start_time": "2024-02-23T23:28:27.935Z"
   },
   {
    "duration": 275,
    "start_time": "2024-02-23T23:28:27.939Z"
   },
   {
    "duration": 6,
    "start_time": "2024-02-23T23:28:28.217Z"
   },
   {
    "duration": 344,
    "start_time": "2024-02-23T23:28:28.226Z"
   },
   {
    "duration": 14,
    "start_time": "2024-02-23T23:28:28.572Z"
   },
   {
    "duration": 9,
    "start_time": "2024-02-23T23:28:28.587Z"
   },
   {
    "duration": 2,
    "start_time": "2024-02-23T23:28:28.598Z"
   },
   {
    "duration": 42,
    "start_time": "2024-02-23T23:28:28.602Z"
   },
   {
    "duration": 8,
    "start_time": "2024-02-23T23:28:28.646Z"
   },
   {
    "duration": 95,
    "start_time": "2024-02-23T23:28:28.656Z"
   },
   {
    "duration": 90,
    "start_time": "2024-02-23T23:28:28.753Z"
   },
   {
    "duration": 88,
    "start_time": "2024-02-23T23:28:28.845Z"
   },
   {
    "duration": 83,
    "start_time": "2024-02-23T23:28:28.935Z"
   },
   {
    "duration": 37,
    "start_time": "2024-02-23T23:28:29.020Z"
   },
   {
    "duration": 224,
    "start_time": "2024-02-23T23:28:29.059Z"
   },
   {
    "duration": 67,
    "start_time": "2024-02-23T23:28:29.284Z"
   },
   {
    "duration": 14,
    "start_time": "2024-02-23T23:28:29.352Z"
   },
   {
    "duration": 29,
    "start_time": "2024-02-23T23:28:29.367Z"
   },
   {
    "duration": 14,
    "start_time": "2024-02-23T23:28:29.398Z"
   },
   {
    "duration": 15,
    "start_time": "2024-02-23T23:28:29.415Z"
   },
   {
    "duration": 21,
    "start_time": "2024-02-23T23:28:29.431Z"
   },
   {
    "duration": 5,
    "start_time": "2024-02-23T23:28:29.453Z"
   },
   {
    "duration": 13,
    "start_time": "2024-02-24T00:00:50.658Z"
   },
   {
    "duration": 7,
    "start_time": "2024-02-24T00:00:50.673Z"
   },
   {
    "duration": 83,
    "start_time": "2024-02-24T00:00:50.682Z"
   },
   {
    "duration": 85,
    "start_time": "2024-02-24T00:00:50.767Z"
   },
   {
    "duration": 83,
    "start_time": "2024-02-24T00:00:50.854Z"
   },
   {
    "duration": 77,
    "start_time": "2024-02-24T00:00:50.939Z"
   },
   {
    "duration": 41,
    "start_time": "2024-02-24T00:00:51.018Z"
   },
   {
    "duration": 256,
    "start_time": "2024-02-24T00:00:51.061Z"
   },
   {
    "duration": 71,
    "start_time": "2024-02-24T00:00:51.319Z"
   },
   {
    "duration": 15,
    "start_time": "2024-02-24T00:00:51.393Z"
   },
   {
    "duration": 26,
    "start_time": "2024-02-24T00:00:51.409Z"
   },
   {
    "duration": 6,
    "start_time": "2024-02-24T00:00:51.436Z"
   },
   {
    "duration": 6,
    "start_time": "2024-02-24T00:00:51.443Z"
   },
   {
    "duration": 17,
    "start_time": "2024-02-24T00:00:51.451Z"
   },
   {
    "duration": 5,
    "start_time": "2024-02-24T00:00:51.469Z"
   },
   {
    "duration": 1120,
    "start_time": "2024-02-24T00:37:44.879Z"
   },
   {
    "duration": 2,
    "start_time": "2024-02-24T00:37:46.001Z"
   },
   {
    "duration": 425,
    "start_time": "2024-02-24T00:37:46.005Z"
   },
   {
    "duration": 37,
    "start_time": "2024-02-24T00:37:46.432Z"
   },
   {
    "duration": 10,
    "start_time": "2024-02-24T00:37:46.470Z"
   },
   {
    "duration": 32,
    "start_time": "2024-02-24T00:37:46.482Z"
   },
   {
    "duration": 10,
    "start_time": "2024-02-24T00:37:46.533Z"
   },
   {
    "duration": 9,
    "start_time": "2024-02-24T00:37:46.544Z"
   },
   {
    "duration": 19,
    "start_time": "2024-02-24T00:37:46.554Z"
   },
   {
    "duration": 5,
    "start_time": "2024-02-24T00:37:46.576Z"
   },
   {
    "duration": 17,
    "start_time": "2024-02-24T00:37:46.582Z"
   },
   {
    "duration": 5,
    "start_time": "2024-02-24T00:37:46.601Z"
   },
   {
    "duration": 43,
    "start_time": "2024-02-24T00:37:46.608Z"
   },
   {
    "duration": 5,
    "start_time": "2024-02-24T00:37:46.653Z"
   },
   {
    "duration": 15,
    "start_time": "2024-02-24T00:37:46.659Z"
   },
   {
    "duration": 73,
    "start_time": "2024-02-24T00:37:46.676Z"
   },
   {
    "duration": 780,
    "start_time": "2024-02-24T00:37:46.751Z"
   },
   {
    "duration": 21,
    "start_time": "2024-02-24T00:37:47.533Z"
   },
   {
    "duration": 7,
    "start_time": "2024-02-24T00:37:47.556Z"
   },
   {
    "duration": 151,
    "start_time": "2024-02-24T00:37:47.565Z"
   },
   {
    "duration": 155,
    "start_time": "2024-02-24T00:37:47.718Z"
   },
   {
    "duration": 1473,
    "start_time": "2024-02-24T00:37:47.874Z"
   },
   {
    "duration": 9,
    "start_time": "2024-02-24T00:37:49.349Z"
   },
   {
    "duration": 118,
    "start_time": "2024-02-24T00:37:49.360Z"
   },
   {
    "duration": 131,
    "start_time": "2024-02-24T00:37:49.479Z"
   },
   {
    "duration": 32,
    "start_time": "2024-02-24T00:37:49.612Z"
   },
   {
    "duration": 9,
    "start_time": "2024-02-24T00:37:49.646Z"
   },
   {
    "duration": 136,
    "start_time": "2024-02-24T00:37:49.658Z"
   },
   {
    "duration": 134,
    "start_time": "2024-02-24T00:37:49.795Z"
   },
   {
    "duration": 13,
    "start_time": "2024-02-24T00:37:49.932Z"
   },
   {
    "duration": 213,
    "start_time": "2024-02-24T00:37:49.946Z"
   },
   {
    "duration": 42,
    "start_time": "2024-02-24T00:37:50.161Z"
   },
   {
    "duration": 40,
    "start_time": "2024-02-24T00:37:50.204Z"
   },
   {
    "duration": 5,
    "start_time": "2024-02-24T00:37:50.246Z"
   },
   {
    "duration": 13,
    "start_time": "2024-02-24T00:37:50.252Z"
   },
   {
    "duration": 4,
    "start_time": "2024-02-24T00:37:50.267Z"
   },
   {
    "duration": 273,
    "start_time": "2024-02-24T00:37:50.272Z"
   },
   {
    "duration": 6,
    "start_time": "2024-02-24T00:37:50.547Z"
   },
   {
    "duration": 296,
    "start_time": "2024-02-24T00:37:50.555Z"
   },
   {
    "duration": 38,
    "start_time": "2024-02-24T00:37:50.853Z"
   },
   {
    "duration": 152,
    "start_time": "2024-02-24T00:37:50.893Z"
   },
   {
    "duration": 2,
    "start_time": "2024-02-24T00:37:51.047Z"
   },
   {
    "duration": 8,
    "start_time": "2024-02-24T00:37:51.050Z"
   },
   {
    "duration": 9,
    "start_time": "2024-02-24T00:37:51.060Z"
   },
   {
    "duration": 170,
    "start_time": "2024-02-24T00:37:51.070Z"
   },
   {
    "duration": 77,
    "start_time": "2024-02-24T00:37:51.241Z"
   },
   {
    "duration": 85,
    "start_time": "2024-02-24T00:37:51.319Z"
   },
   {
    "duration": 93,
    "start_time": "2024-02-24T00:37:51.405Z"
   },
   {
    "duration": 38,
    "start_time": "2024-02-24T00:37:51.499Z"
   },
   {
    "duration": 237,
    "start_time": "2024-02-24T00:37:51.538Z"
   },
   {
    "duration": 69,
    "start_time": "2024-02-24T00:37:51.777Z"
   },
   {
    "duration": 15,
    "start_time": "2024-02-24T00:37:51.847Z"
   },
   {
    "duration": 12,
    "start_time": "2024-02-24T00:37:51.864Z"
   },
   {
    "duration": 5,
    "start_time": "2024-02-24T00:37:51.878Z"
   },
   {
    "duration": 5,
    "start_time": "2024-02-24T00:37:51.884Z"
   },
   {
    "duration": 134,
    "start_time": "2024-02-24T00:37:51.890Z"
   },
   {
    "duration": 10,
    "start_time": "2024-02-24T00:37:52.025Z"
   },
   {
    "duration": 1046,
    "start_time": "2024-02-24T12:06:25.081Z"
   },
   {
    "duration": 3,
    "start_time": "2024-02-24T12:06:26.129Z"
   },
   {
    "duration": 308,
    "start_time": "2024-02-24T12:06:26.133Z"
   },
   {
    "duration": 30,
    "start_time": "2024-02-24T12:06:26.443Z"
   },
   {
    "duration": 9,
    "start_time": "2024-02-24T12:06:26.474Z"
   },
   {
    "duration": 50,
    "start_time": "2024-02-24T12:06:26.484Z"
   },
   {
    "duration": 7,
    "start_time": "2024-02-24T12:06:26.535Z"
   },
   {
    "duration": 8,
    "start_time": "2024-02-24T12:06:26.544Z"
   },
   {
    "duration": 10,
    "start_time": "2024-02-24T12:06:26.553Z"
   },
   {
    "duration": 3,
    "start_time": "2024-02-24T12:06:26.565Z"
   },
   {
    "duration": 10,
    "start_time": "2024-02-24T12:06:26.569Z"
   },
   {
    "duration": 25,
    "start_time": "2024-02-24T12:06:26.580Z"
   },
   {
    "duration": 25,
    "start_time": "2024-02-24T12:06:26.606Z"
   },
   {
    "duration": 4,
    "start_time": "2024-02-24T12:06:26.632Z"
   },
   {
    "duration": 17,
    "start_time": "2024-02-24T12:06:26.637Z"
   },
   {
    "duration": 26,
    "start_time": "2024-02-24T12:06:26.656Z"
   },
   {
    "duration": 780,
    "start_time": "2024-02-24T12:06:26.683Z"
   },
   {
    "duration": 17,
    "start_time": "2024-02-24T12:06:27.464Z"
   },
   {
    "duration": 24,
    "start_time": "2024-02-24T12:06:27.483Z"
   },
   {
    "duration": 133,
    "start_time": "2024-02-24T12:06:27.509Z"
   },
   {
    "duration": 122,
    "start_time": "2024-02-24T12:06:27.643Z"
   },
   {
    "duration": 1520,
    "start_time": "2024-02-24T12:06:27.766Z"
   },
   {
    "duration": 16,
    "start_time": "2024-02-24T12:06:29.287Z"
   },
   {
    "duration": 121,
    "start_time": "2024-02-24T12:06:29.305Z"
   },
   {
    "duration": 133,
    "start_time": "2024-02-24T12:06:29.428Z"
   },
   {
    "duration": 23,
    "start_time": "2024-02-24T12:06:29.562Z"
   },
   {
    "duration": 7,
    "start_time": "2024-02-24T12:06:29.586Z"
   },
   {
    "duration": 132,
    "start_time": "2024-02-24T12:06:29.601Z"
   },
   {
    "duration": 131,
    "start_time": "2024-02-24T12:06:29.734Z"
   },
   {
    "duration": 12,
    "start_time": "2024-02-24T12:06:29.866Z"
   },
   {
    "duration": 206,
    "start_time": "2024-02-24T12:06:29.879Z"
   },
   {
    "duration": 51,
    "start_time": "2024-02-24T12:06:30.087Z"
   },
   {
    "duration": 141,
    "start_time": "2024-02-24T12:06:30.140Z"
   },
   {
    "duration": 64,
    "start_time": "2024-02-24T12:06:30.283Z"
   },
   {
    "duration": 52,
    "start_time": "2024-02-24T12:06:30.348Z"
   },
   {
    "duration": 50,
    "start_time": "2024-02-24T12:06:30.405Z"
   },
   {
    "duration": 359,
    "start_time": "2024-02-24T12:06:30.456Z"
   },
   {
    "duration": 5,
    "start_time": "2024-02-24T12:06:30.816Z"
   },
   {
    "duration": 413,
    "start_time": "2024-02-24T12:06:30.822Z"
   },
   {
    "duration": 33,
    "start_time": "2024-02-24T12:06:31.236Z"
   },
   {
    "duration": 420,
    "start_time": "2024-02-24T12:06:31.270Z"
   },
   {
    "duration": 2,
    "start_time": "2024-02-24T12:06:31.691Z"
   },
   {
    "duration": 76,
    "start_time": "2024-02-24T12:06:31.694Z"
   },
   {
    "duration": 78,
    "start_time": "2024-02-24T12:06:31.771Z"
   },
   {
    "duration": 131,
    "start_time": "2024-02-24T12:06:31.851Z"
   },
   {
    "duration": 87,
    "start_time": "2024-02-24T12:06:31.983Z"
   },
   {
    "duration": 82,
    "start_time": "2024-02-24T12:06:32.072Z"
   },
   {
    "duration": 87,
    "start_time": "2024-02-24T12:06:32.155Z"
   },
   {
    "duration": 23,
    "start_time": "2024-02-24T12:06:32.244Z"
   },
   {
    "duration": 212,
    "start_time": "2024-02-24T12:06:32.269Z"
   },
   {
    "duration": 70,
    "start_time": "2024-02-24T12:06:32.482Z"
   },
   {
    "duration": 12,
    "start_time": "2024-02-24T12:06:32.553Z"
   },
   {
    "duration": 13,
    "start_time": "2024-02-24T12:06:32.566Z"
   },
   {
    "duration": 5,
    "start_time": "2024-02-24T12:06:32.580Z"
   },
   {
    "duration": 26,
    "start_time": "2024-02-24T12:06:32.587Z"
   },
   {
    "duration": 76,
    "start_time": "2024-02-24T12:06:32.615Z"
   },
   {
    "duration": 4,
    "start_time": "2024-02-24T12:06:32.692Z"
   },
   {
    "duration": 50,
    "start_time": "2024-02-24T18:37:44.107Z"
   },
   {
    "duration": 1363,
    "start_time": "2024-02-24T18:37:49.961Z"
   },
   {
    "duration": 3,
    "start_time": "2024-02-24T18:37:51.326Z"
   },
   {
    "duration": 310,
    "start_time": "2024-02-24T18:37:51.332Z"
   },
   {
    "duration": 34,
    "start_time": "2024-02-24T18:37:51.643Z"
   },
   {
    "duration": 10,
    "start_time": "2024-02-24T18:37:51.678Z"
   },
   {
    "duration": 27,
    "start_time": "2024-02-24T18:37:51.689Z"
   },
   {
    "duration": 11,
    "start_time": "2024-02-24T18:37:51.737Z"
   },
   {
    "duration": 9,
    "start_time": "2024-02-24T18:37:51.749Z"
   },
   {
    "duration": 14,
    "start_time": "2024-02-24T18:37:51.759Z"
   },
   {
    "duration": 4,
    "start_time": "2024-02-24T18:37:51.776Z"
   },
   {
    "duration": 11,
    "start_time": "2024-02-24T18:37:51.781Z"
   },
   {
    "duration": 5,
    "start_time": "2024-02-24T18:37:51.794Z"
   },
   {
    "duration": 53,
    "start_time": "2024-02-24T18:37:51.800Z"
   },
   {
    "duration": 5,
    "start_time": "2024-02-24T18:37:51.854Z"
   },
   {
    "duration": 11,
    "start_time": "2024-02-24T18:37:51.862Z"
   },
   {
    "duration": 26,
    "start_time": "2024-02-24T18:37:51.874Z"
   },
   {
    "duration": 746,
    "start_time": "2024-02-24T18:37:51.902Z"
   },
   {
    "duration": 18,
    "start_time": "2024-02-24T18:37:52.650Z"
   },
   {
    "duration": 8,
    "start_time": "2024-02-24T18:37:52.669Z"
   },
   {
    "duration": 154,
    "start_time": "2024-02-24T18:37:52.679Z"
   },
   {
    "duration": 133,
    "start_time": "2024-02-24T18:37:52.835Z"
   },
   {
    "duration": 1454,
    "start_time": "2024-02-24T18:37:52.969Z"
   },
   {
    "duration": 14,
    "start_time": "2024-02-24T18:37:54.424Z"
   },
   {
    "duration": 116,
    "start_time": "2024-02-24T18:37:54.440Z"
   },
   {
    "duration": 125,
    "start_time": "2024-02-24T18:37:54.558Z"
   },
   {
    "duration": 22,
    "start_time": "2024-02-24T18:37:54.684Z"
   },
   {
    "duration": 9,
    "start_time": "2024-02-24T18:37:54.707Z"
   },
   {
    "duration": 133,
    "start_time": "2024-02-24T18:37:54.732Z"
   },
   {
    "duration": 153,
    "start_time": "2024-02-24T18:37:54.867Z"
   },
   {
    "duration": 18,
    "start_time": "2024-02-24T18:37:55.022Z"
   },
   {
    "duration": 211,
    "start_time": "2024-02-24T18:37:55.041Z"
   },
   {
    "duration": 39,
    "start_time": "2024-02-24T18:37:55.253Z"
   },
   {
    "duration": 19,
    "start_time": "2024-02-24T18:37:55.293Z"
   },
   {
    "duration": 22,
    "start_time": "2024-02-24T18:37:55.313Z"
   },
   {
    "duration": 10,
    "start_time": "2024-02-24T18:37:55.336Z"
   },
   {
    "duration": 10,
    "start_time": "2024-02-24T18:37:55.347Z"
   },
   {
    "duration": 296,
    "start_time": "2024-02-24T18:37:55.358Z"
   },
   {
    "duration": 4,
    "start_time": "2024-02-24T18:37:55.655Z"
   },
   {
    "duration": 286,
    "start_time": "2024-02-24T18:37:55.661Z"
   },
   {
    "duration": 36,
    "start_time": "2024-02-24T18:37:55.948Z"
   },
   {
    "duration": 244,
    "start_time": "2024-02-24T18:37:55.985Z"
   },
   {
    "duration": 2,
    "start_time": "2024-02-24T18:37:56.231Z"
   },
   {
    "duration": 12,
    "start_time": "2024-02-24T18:37:56.235Z"
   },
   {
    "duration": 13,
    "start_time": "2024-02-24T18:37:56.249Z"
   },
   {
    "duration": 147,
    "start_time": "2024-02-24T18:37:56.264Z"
   },
   {
    "duration": 90,
    "start_time": "2024-02-24T18:37:56.413Z"
   },
   {
    "duration": 88,
    "start_time": "2024-02-24T18:37:56.504Z"
   },
   {
    "duration": 83,
    "start_time": "2024-02-24T18:37:56.593Z"
   },
   {
    "duration": 28,
    "start_time": "2024-02-24T18:37:56.678Z"
   },
   {
    "duration": 220,
    "start_time": "2024-02-24T18:37:56.708Z"
   },
   {
    "duration": 55,
    "start_time": "2024-02-24T18:37:56.933Z"
   },
   {
    "duration": 12,
    "start_time": "2024-02-24T18:37:56.990Z"
   },
   {
    "duration": 23,
    "start_time": "2024-02-24T18:37:57.003Z"
   },
   {
    "duration": 23,
    "start_time": "2024-02-24T18:37:57.027Z"
   },
   {
    "duration": 6,
    "start_time": "2024-02-24T18:37:57.052Z"
   },
   {
    "duration": 19,
    "start_time": "2024-02-24T18:37:57.060Z"
   },
   {
    "duration": 16,
    "start_time": "2024-02-24T18:37:57.080Z"
   },
   {
    "duration": 203,
    "start_time": "2024-02-24T18:38:35.223Z"
   },
   {
    "duration": 228,
    "start_time": "2024-02-24T19:01:52.620Z"
   },
   {
    "duration": 22,
    "start_time": "2024-02-24T19:06:13.987Z"
   },
   {
    "duration": 15,
    "start_time": "2024-02-24T19:06:16.798Z"
   },
   {
    "duration": 7,
    "start_time": "2024-02-24T19:06:17.397Z"
   },
   {
    "duration": 14,
    "start_time": "2024-02-24T19:06:27.156Z"
   },
   {
    "duration": 9,
    "start_time": "2024-02-24T19:06:27.659Z"
   },
   {
    "duration": 193,
    "start_time": "2024-02-24T19:26:46.158Z"
   },
   {
    "duration": 201,
    "start_time": "2024-02-24T19:26:53.265Z"
   },
   {
    "duration": 228,
    "start_time": "2024-02-24T19:33:14.358Z"
   },
   {
    "duration": 103,
    "start_time": "2024-02-24T19:41:32.095Z"
   },
   {
    "duration": 106,
    "start_time": "2024-02-24T19:48:51.289Z"
   },
   {
    "duration": 12,
    "start_time": "2024-02-24T19:52:39.859Z"
   },
   {
    "duration": 110,
    "start_time": "2024-02-24T19:58:46.221Z"
   }
  ],
  "kernelspec": {
   "display_name": "Python 3 (ipykernel)",
   "language": "python",
   "name": "python3"
  },
  "language_info": {
   "codemirror_mode": {
    "name": "ipython",
    "version": 3
   },
   "file_extension": ".py",
   "mimetype": "text/x-python",
   "name": "python",
   "nbconvert_exporter": "python",
   "pygments_lexer": "ipython3",
   "version": "3.11.8"
  },
  "toc": {
   "base_numbering": 1,
   "nav_menu": {},
   "number_sections": false,
   "sideBar": true,
   "skip_h1_title": false,
   "title_cell": "Table of Contents",
   "title_sidebar": "Contents",
   "toc_cell": false,
   "toc_position": {
    "height": "calc(100% - 180px)",
    "left": "10px",
    "top": "150px",
    "width": "391.188px"
   },
   "toc_section_display": true,
   "toc_window_display": false
  }
 },
 "nbformat": 4,
 "nbformat_minor": 2
}
