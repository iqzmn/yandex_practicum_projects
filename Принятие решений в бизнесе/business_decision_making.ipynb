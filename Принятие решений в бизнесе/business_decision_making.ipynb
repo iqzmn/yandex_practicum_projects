{
 "cells": [
  {
   "cell_type": "markdown",
   "metadata": {},
   "source": [
    "### Предобработка данных"
   ]
  },
  {
   "cell_type": "code",
   "execution_count": 28,
   "metadata": {},
   "outputs": [],
   "source": [
    "# Загружаем необходимые библиотеки\n",
    "\n",
    "import pandas as pd\n",
    "import datetime as dt\n",
    "import matplotlib.pyplot as plt\n",
    "import numpy as np\n",
    "from scipy import stats as st\n",
    "\n",
    "# Снимаем ограничение на ширину столбцов\n",
    "\n",
    "pd.set_option('display.max_colwidth', False)"
   ]
  },
  {
   "cell_type": "code",
   "execution_count": 29,
   "metadata": {},
   "outputs": [],
   "source": [
    "# Читаем данные\n",
    "\n",
    "try:\n",
    "    hypothesis = pd.read_csv(\"/datasets/hypothesis.csv\")\n",
    "    orders = pd.read_csv(\"/datasets/orders.csv\")\n",
    "    visitors = pd.read_csv(\"/datasets/visitors.csv\")\n",
    "except:\n",
    "    hypothesis, orders, visitors = (\n",
    "    pd.read_csv('https://code.s3.yandex.net/datasets/hypothesis.csv'),\n",
    "    pd.read_csv('https://code.s3.yandex.net/datasets/orders.csv'),\n",
    "    pd.read_csv('https://code.s3.yandex.net/datasets/visitors.csv')\n",
    "    )"
   ]
  },
  {
   "cell_type": "code",
   "execution_count": 30,
   "metadata": {},
   "outputs": [
    {
     "name": "stdout",
     "output_type": "stream",
     "text": [
      "++++++++++++++ < HYPOTHESIS > +++++++++++++++\n",
      "\n",
      "<class 'pandas.core.frame.DataFrame'>\n",
      "RangeIndex: 9 entries, 0 to 8\n",
      "Data columns (total 5 columns):\n",
      " #   Column      Non-Null Count  Dtype \n",
      "---  ------      --------------  ----- \n",
      " 0   Hypothesis  9 non-null      object\n",
      " 1   Reach       9 non-null      int64 \n",
      " 2   Impact      9 non-null      int64 \n",
      " 3   Confidence  9 non-null      int64 \n",
      " 4   Efforts     9 non-null      int64 \n",
      "dtypes: int64(4), object(1)\n",
      "memory usage: 492.0+ bytes\n"
     ]
    },
    {
     "data": {
      "text/plain": [
       "None"
      ]
     },
     "metadata": {},
     "output_type": "display_data"
    },
    {
     "data": {
      "text/html": [
       "<div>\n",
       "<style scoped>\n",
       "    .dataframe tbody tr th:only-of-type {\n",
       "        vertical-align: middle;\n",
       "    }\n",
       "\n",
       "    .dataframe tbody tr th {\n",
       "        vertical-align: top;\n",
       "    }\n",
       "\n",
       "    .dataframe thead th {\n",
       "        text-align: right;\n",
       "    }\n",
       "</style>\n",
       "<table border=\"1\" class=\"dataframe\">\n",
       "  <thead>\n",
       "    <tr style=\"text-align: right;\">\n",
       "      <th></th>\n",
       "      <th>Hypothesis</th>\n",
       "      <th>Reach</th>\n",
       "      <th>Impact</th>\n",
       "      <th>Confidence</th>\n",
       "      <th>Efforts</th>\n",
       "    </tr>\n",
       "  </thead>\n",
       "  <tbody>\n",
       "    <tr>\n",
       "      <th>0</th>\n",
       "      <td>Добавить два новых канала привлечения трафика, что позволит привлекать на 30% больше пользователей</td>\n",
       "      <td>3</td>\n",
       "      <td>10</td>\n",
       "      <td>8</td>\n",
       "      <td>6</td>\n",
       "    </tr>\n",
       "    <tr>\n",
       "      <th>1</th>\n",
       "      <td>Запустить собственную службу доставки, что сократит срок доставки заказов</td>\n",
       "      <td>2</td>\n",
       "      <td>5</td>\n",
       "      <td>4</td>\n",
       "      <td>10</td>\n",
       "    </tr>\n",
       "    <tr>\n",
       "      <th>2</th>\n",
       "      <td>Добавить блоки рекомендаций товаров на сайт интернет магазина, чтобы повысить конверсию и средний чек заказа</td>\n",
       "      <td>8</td>\n",
       "      <td>3</td>\n",
       "      <td>7</td>\n",
       "      <td>3</td>\n",
       "    </tr>\n",
       "    <tr>\n",
       "      <th>3</th>\n",
       "      <td>Изменить структура категорий, что увеличит конверсию, т.к. пользователи быстрее найдут нужный товар</td>\n",
       "      <td>8</td>\n",
       "      <td>3</td>\n",
       "      <td>3</td>\n",
       "      <td>8</td>\n",
       "    </tr>\n",
       "    <tr>\n",
       "      <th>4</th>\n",
       "      <td>Изменить цвет фона главной страницы, чтобы увеличить вовлеченность пользователей</td>\n",
       "      <td>3</td>\n",
       "      <td>1</td>\n",
       "      <td>1</td>\n",
       "      <td>1</td>\n",
       "    </tr>\n",
       "  </tbody>\n",
       "</table>\n",
       "</div>"
      ],
      "text/plain": [
       "                                                                                                     Hypothesis  \\\n",
       "0  Добавить два новых канала привлечения трафика, что позволит привлекать на 30% больше пользователей             \n",
       "1  Запустить собственную службу доставки, что сократит срок доставки заказов                                      \n",
       "2  Добавить блоки рекомендаций товаров на сайт интернет магазина, чтобы повысить конверсию и средний чек заказа   \n",
       "3  Изменить структура категорий, что увеличит конверсию, т.к. пользователи быстрее найдут нужный товар            \n",
       "4  Изменить цвет фона главной страницы, чтобы увеличить вовлеченность пользователей                               \n",
       "\n",
       "   Reach  Impact  Confidence  Efforts  \n",
       "0  3      10      8           6        \n",
       "1  2      5       4           10       \n",
       "2  8      3       7           3        \n",
       "3  8      3       3           8        \n",
       "4  3      1       1           1        "
      ]
     },
     "metadata": {},
     "output_type": "display_data"
    },
    {
     "name": "stdout",
     "output_type": "stream",
     "text": [
      "\n",
      "++++++++++++++ < ORDERS > +++++++++++++++\n",
      "\n",
      "<class 'pandas.core.frame.DataFrame'>\n",
      "RangeIndex: 1197 entries, 0 to 1196\n",
      "Data columns (total 5 columns):\n",
      " #   Column         Non-Null Count  Dtype \n",
      "---  ------         --------------  ----- \n",
      " 0   transactionId  1197 non-null   int64 \n",
      " 1   visitorId      1197 non-null   int64 \n",
      " 2   date           1197 non-null   object\n",
      " 3   revenue        1197 non-null   int64 \n",
      " 4   group          1197 non-null   object\n",
      "dtypes: int64(3), object(2)\n",
      "memory usage: 46.9+ KB\n"
     ]
    },
    {
     "data": {
      "text/plain": [
       "None"
      ]
     },
     "metadata": {},
     "output_type": "display_data"
    },
    {
     "data": {
      "text/html": [
       "<div>\n",
       "<style scoped>\n",
       "    .dataframe tbody tr th:only-of-type {\n",
       "        vertical-align: middle;\n",
       "    }\n",
       "\n",
       "    .dataframe tbody tr th {\n",
       "        vertical-align: top;\n",
       "    }\n",
       "\n",
       "    .dataframe thead th {\n",
       "        text-align: right;\n",
       "    }\n",
       "</style>\n",
       "<table border=\"1\" class=\"dataframe\">\n",
       "  <thead>\n",
       "    <tr style=\"text-align: right;\">\n",
       "      <th></th>\n",
       "      <th>transactionId</th>\n",
       "      <th>visitorId</th>\n",
       "      <th>date</th>\n",
       "      <th>revenue</th>\n",
       "      <th>group</th>\n",
       "    </tr>\n",
       "  </thead>\n",
       "  <tbody>\n",
       "    <tr>\n",
       "      <th>0</th>\n",
       "      <td>3667963787</td>\n",
       "      <td>3312258926</td>\n",
       "      <td>2019-08-15</td>\n",
       "      <td>1650</td>\n",
       "      <td>B</td>\n",
       "    </tr>\n",
       "    <tr>\n",
       "      <th>1</th>\n",
       "      <td>2804400009</td>\n",
       "      <td>3642806036</td>\n",
       "      <td>2019-08-15</td>\n",
       "      <td>730</td>\n",
       "      <td>B</td>\n",
       "    </tr>\n",
       "    <tr>\n",
       "      <th>2</th>\n",
       "      <td>2961555356</td>\n",
       "      <td>4069496402</td>\n",
       "      <td>2019-08-15</td>\n",
       "      <td>400</td>\n",
       "      <td>A</td>\n",
       "    </tr>\n",
       "    <tr>\n",
       "      <th>3</th>\n",
       "      <td>3797467345</td>\n",
       "      <td>1196621759</td>\n",
       "      <td>2019-08-15</td>\n",
       "      <td>9759</td>\n",
       "      <td>B</td>\n",
       "    </tr>\n",
       "    <tr>\n",
       "      <th>4</th>\n",
       "      <td>2282983706</td>\n",
       "      <td>2322279887</td>\n",
       "      <td>2019-08-15</td>\n",
       "      <td>2308</td>\n",
       "      <td>B</td>\n",
       "    </tr>\n",
       "  </tbody>\n",
       "</table>\n",
       "</div>"
      ],
      "text/plain": [
       "   transactionId   visitorId        date  revenue group\n",
       "0  3667963787     3312258926  2019-08-15  1650     B   \n",
       "1  2804400009     3642806036  2019-08-15  730      B   \n",
       "2  2961555356     4069496402  2019-08-15  400      A   \n",
       "3  3797467345     1196621759  2019-08-15  9759     B   \n",
       "4  2282983706     2322279887  2019-08-15  2308     B   "
      ]
     },
     "metadata": {},
     "output_type": "display_data"
    },
    {
     "name": "stdout",
     "output_type": "stream",
     "text": [
      "\n",
      "++++++++++++++ < VISITORS > +++++++++++++++\n",
      "\n",
      "<class 'pandas.core.frame.DataFrame'>\n",
      "RangeIndex: 62 entries, 0 to 61\n",
      "Data columns (total 3 columns):\n",
      " #   Column    Non-Null Count  Dtype \n",
      "---  ------    --------------  ----- \n",
      " 0   date      62 non-null     object\n",
      " 1   group     62 non-null     object\n",
      " 2   visitors  62 non-null     int64 \n",
      "dtypes: int64(1), object(2)\n",
      "memory usage: 1.6+ KB\n"
     ]
    },
    {
     "data": {
      "text/plain": [
       "None"
      ]
     },
     "metadata": {},
     "output_type": "display_data"
    },
    {
     "data": {
      "text/html": [
       "<div>\n",
       "<style scoped>\n",
       "    .dataframe tbody tr th:only-of-type {\n",
       "        vertical-align: middle;\n",
       "    }\n",
       "\n",
       "    .dataframe tbody tr th {\n",
       "        vertical-align: top;\n",
       "    }\n",
       "\n",
       "    .dataframe thead th {\n",
       "        text-align: right;\n",
       "    }\n",
       "</style>\n",
       "<table border=\"1\" class=\"dataframe\">\n",
       "  <thead>\n",
       "    <tr style=\"text-align: right;\">\n",
       "      <th></th>\n",
       "      <th>date</th>\n",
       "      <th>group</th>\n",
       "      <th>visitors</th>\n",
       "    </tr>\n",
       "  </thead>\n",
       "  <tbody>\n",
       "    <tr>\n",
       "      <th>0</th>\n",
       "      <td>2019-08-01</td>\n",
       "      <td>A</td>\n",
       "      <td>719</td>\n",
       "    </tr>\n",
       "    <tr>\n",
       "      <th>1</th>\n",
       "      <td>2019-08-02</td>\n",
       "      <td>A</td>\n",
       "      <td>619</td>\n",
       "    </tr>\n",
       "    <tr>\n",
       "      <th>2</th>\n",
       "      <td>2019-08-03</td>\n",
       "      <td>A</td>\n",
       "      <td>507</td>\n",
       "    </tr>\n",
       "    <tr>\n",
       "      <th>3</th>\n",
       "      <td>2019-08-04</td>\n",
       "      <td>A</td>\n",
       "      <td>717</td>\n",
       "    </tr>\n",
       "    <tr>\n",
       "      <th>4</th>\n",
       "      <td>2019-08-05</td>\n",
       "      <td>A</td>\n",
       "      <td>756</td>\n",
       "    </tr>\n",
       "  </tbody>\n",
       "</table>\n",
       "</div>"
      ],
      "text/plain": [
       "         date group  visitors\n",
       "0  2019-08-01  A     719     \n",
       "1  2019-08-02  A     619     \n",
       "2  2019-08-03  A     507     \n",
       "3  2019-08-04  A     717     \n",
       "4  2019-08-05  A     756     "
      ]
     },
     "metadata": {},
     "output_type": "display_data"
    },
    {
     "name": "stdout",
     "output_type": "stream",
     "text": [
      "\n"
     ]
    }
   ],
   "source": [
    "# Выведем основную информацию\n",
    "\n",
    "def data_info(name_dataset):\n",
    "    display(name_dataset.info())\n",
    "    display(name_dataset.head())\n",
    "\n",
    "nm = ['HYPOTHESIS', 'ORDERS', 'VISITORS']\n",
    "i=0\n",
    "for ds in [hypothesis, orders, visitors]:\n",
    "    print('++++++++++++++ < {0} > +++++++++++++++'.format(nm[i]))\n",
    "    i+=1\n",
    "    print()\n",
    "    data_info(ds)\n",
    "    print()"
   ]
  },
  {
   "cell_type": "markdown",
   "metadata": {},
   "source": [
    "В таблице hypothesis девять гипотез. Пропусков в данных не обнаружено. Требуется поправить названия столбцов.  \n",
    "В таблицах с заказами и посетителям пользователи поделены на две группы (А и В). Пропусков в этих таблицах также не обнаружено.  \n",
    "Требует изменения тип данных столбец с датами в обеих таблицах."
   ]
  },
  {
   "cell_type": "code",
   "execution_count": 31,
   "metadata": {},
   "outputs": [
    {
     "name": "stdout",
     "output_type": "stream",
     "text": [
      "<class 'pandas.core.frame.DataFrame'>\n",
      "RangeIndex: 9 entries, 0 to 8\n",
      "Data columns (total 5 columns):\n",
      " #   Column      Non-Null Count  Dtype \n",
      "---  ------      --------------  ----- \n",
      " 0   hypothesis  9 non-null      object\n",
      " 1   reach       9 non-null      int64 \n",
      " 2   impact      9 non-null      int64 \n",
      " 3   confidence  9 non-null      int64 \n",
      " 4   efforts     9 non-null      int64 \n",
      "dtypes: int64(4), object(1)\n",
      "memory usage: 492.0+ bytes\n"
     ]
    }
   ],
   "source": [
    "# Преобразуем названия колонок hypothesis в нижний регистр\n",
    "\n",
    "hypothesis.columns = [x.lower() for x in hypothesis.columns.values]\n",
    "hypothesis.info()"
   ]
  },
  {
   "cell_type": "code",
   "execution_count": 32,
   "metadata": {},
   "outputs": [
    {
     "name": "stdout",
     "output_type": "stream",
     "text": [
      "<class 'pandas.core.frame.DataFrame'>\n",
      "RangeIndex: 1197 entries, 0 to 1196\n",
      "Data columns (total 5 columns):\n",
      " #   Column         Non-Null Count  Dtype         \n",
      "---  ------         --------------  -----         \n",
      " 0   transactionId  1197 non-null   int64         \n",
      " 1   visitorId      1197 non-null   int64         \n",
      " 2   date           1197 non-null   datetime64[ns]\n",
      " 3   revenue        1197 non-null   int64         \n",
      " 4   group          1197 non-null   object        \n",
      "dtypes: datetime64[ns](1), int64(3), object(1)\n",
      "memory usage: 46.9+ KB\n"
     ]
    },
    {
     "data": {
      "text/plain": [
       "None"
      ]
     },
     "metadata": {},
     "output_type": "display_data"
    },
    {
     "name": "stdout",
     "output_type": "stream",
     "text": [
      "<class 'pandas.core.frame.DataFrame'>\n",
      "RangeIndex: 62 entries, 0 to 61\n",
      "Data columns (total 3 columns):\n",
      " #   Column    Non-Null Count  Dtype         \n",
      "---  ------    --------------  -----         \n",
      " 0   date      62 non-null     datetime64[ns]\n",
      " 1   group     62 non-null     object        \n",
      " 2   visitors  62 non-null     int64         \n",
      "dtypes: datetime64[ns](1), int64(1), object(1)\n",
      "memory usage: 1.6+ KB\n"
     ]
    }
   ],
   "source": [
    "# Преобразуем столбец date в таблицах orders и visitors в формат datetime\n",
    "\n",
    "orders['date'] = pd.to_datetime(orders['date'], format='%Y-%m-%d')\n",
    "visitors['date'] = pd.to_datetime(visitors['date'], format='%Y-%m-%d')\n",
    "display(orders.info())\n",
    "visitors.info()"
   ]
  },
  {
   "cell_type": "code",
   "execution_count": 33,
   "metadata": {},
   "outputs": [
    {
     "data": {
      "text/html": [
       "<div>\n",
       "<style scoped>\n",
       "    .dataframe tbody tr th:only-of-type {\n",
       "        vertical-align: middle;\n",
       "    }\n",
       "\n",
       "    .dataframe tbody tr th {\n",
       "        vertical-align: top;\n",
       "    }\n",
       "\n",
       "    .dataframe thead th {\n",
       "        text-align: right;\n",
       "    }\n",
       "</style>\n",
       "<table border=\"1\" class=\"dataframe\">\n",
       "  <thead>\n",
       "    <tr style=\"text-align: right;\">\n",
       "      <th></th>\n",
       "      <th>reach</th>\n",
       "      <th>impact</th>\n",
       "      <th>confidence</th>\n",
       "      <th>efforts</th>\n",
       "    </tr>\n",
       "  </thead>\n",
       "  <tbody>\n",
       "    <tr>\n",
       "      <th>count</th>\n",
       "      <td>9.0</td>\n",
       "      <td>9.0</td>\n",
       "      <td>9.0</td>\n",
       "      <td>9.0</td>\n",
       "    </tr>\n",
       "    <tr>\n",
       "      <th>min</th>\n",
       "      <td>1.0</td>\n",
       "      <td>1.0</td>\n",
       "      <td>1.0</td>\n",
       "      <td>1.0</td>\n",
       "    </tr>\n",
       "    <tr>\n",
       "      <th>max</th>\n",
       "      <td>10.0</td>\n",
       "      <td>10.0</td>\n",
       "      <td>9.0</td>\n",
       "      <td>10.0</td>\n",
       "    </tr>\n",
       "  </tbody>\n",
       "</table>\n",
       "</div>"
      ],
      "text/plain": [
       "       reach  impact  confidence  efforts\n",
       "count  9.0    9.0     9.0         9.0    \n",
       "min    1.0    1.0     1.0         1.0    \n",
       "max    10.0   10.0    9.0         10.0   "
      ]
     },
     "execution_count": 33,
     "metadata": {},
     "output_type": "execute_result"
    }
   ],
   "source": [
    "# Проверим диапазон значений в таблице hypothesis\n",
    "\n",
    "hypothesis[['reach','impact','confidence','efforts']].describe().loc[['count', 'min', 'max']]"
   ]
  },
  {
   "cell_type": "code",
   "execution_count": 34,
   "metadata": {},
   "outputs": [
    {
     "data": {
      "text/html": [
       "<div>\n",
       "<style scoped>\n",
       "    .dataframe tbody tr th:only-of-type {\n",
       "        vertical-align: middle;\n",
       "    }\n",
       "\n",
       "    .dataframe tbody tr th {\n",
       "        vertical-align: top;\n",
       "    }\n",
       "\n",
       "    .dataframe thead th {\n",
       "        text-align: right;\n",
       "    }\n",
       "</style>\n",
       "<table border=\"1\" class=\"dataframe\">\n",
       "  <thead>\n",
       "    <tr style=\"text-align: right;\">\n",
       "      <th></th>\n",
       "      <th>date</th>\n",
       "      <th>visitors</th>\n",
       "    </tr>\n",
       "  </thead>\n",
       "  <tbody>\n",
       "    <tr>\n",
       "      <th>count</th>\n",
       "      <td>62</td>\n",
       "      <td>62.0</td>\n",
       "    </tr>\n",
       "    <tr>\n",
       "      <th>min</th>\n",
       "      <td>2019-08-01 00:00:00</td>\n",
       "      <td>361.0</td>\n",
       "    </tr>\n",
       "    <tr>\n",
       "      <th>max</th>\n",
       "      <td>2019-08-31 00:00:00</td>\n",
       "      <td>770.0</td>\n",
       "    </tr>\n",
       "  </tbody>\n",
       "</table>\n",
       "</div>"
      ],
      "text/plain": [
       "                      date  visitors\n",
       "count  62                   62.0    \n",
       "min    2019-08-01 00:00:00  361.0   \n",
       "max    2019-08-31 00:00:00  770.0   "
      ]
     },
     "execution_count": 34,
     "metadata": {},
     "output_type": "execute_result"
    }
   ],
   "source": [
    "# Проверим диапазон значений в таблице visitors\n",
    "\n",
    "visitors.describe().loc[['count', 'min', 'max']]"
   ]
  },
  {
   "cell_type": "code",
   "execution_count": 35,
   "metadata": {},
   "outputs": [
    {
     "data": {
      "text/html": [
       "<div>\n",
       "<style scoped>\n",
       "    .dataframe tbody tr th:only-of-type {\n",
       "        vertical-align: middle;\n",
       "    }\n",
       "\n",
       "    .dataframe tbody tr th {\n",
       "        vertical-align: top;\n",
       "    }\n",
       "\n",
       "    .dataframe thead th {\n",
       "        text-align: right;\n",
       "    }\n",
       "</style>\n",
       "<table border=\"1\" class=\"dataframe\">\n",
       "  <thead>\n",
       "    <tr style=\"text-align: right;\">\n",
       "      <th></th>\n",
       "      <th>transactionId</th>\n",
       "      <th>visitorId</th>\n",
       "      <th>date</th>\n",
       "      <th>revenue</th>\n",
       "    </tr>\n",
       "  </thead>\n",
       "  <tbody>\n",
       "    <tr>\n",
       "      <th>count</th>\n",
       "      <td>1.197000e+03</td>\n",
       "      <td>1.197000e+03</td>\n",
       "      <td>1197</td>\n",
       "      <td>1197.0</td>\n",
       "    </tr>\n",
       "    <tr>\n",
       "      <th>min</th>\n",
       "      <td>1.062393e+06</td>\n",
       "      <td>5.114589e+06</td>\n",
       "      <td>2019-08-01 00:00:00</td>\n",
       "      <td>50.0</td>\n",
       "    </tr>\n",
       "    <tr>\n",
       "      <th>max</th>\n",
       "      <td>4.293856e+09</td>\n",
       "      <td>4.283872e+09</td>\n",
       "      <td>2019-08-31 00:00:00</td>\n",
       "      <td>1294500.0</td>\n",
       "    </tr>\n",
       "  </tbody>\n",
       "</table>\n",
       "</div>"
      ],
      "text/plain": [
       "       transactionId     visitorId                 date    revenue\n",
       "count  1.197000e+03   1.197000e+03  1197                 1197.0   \n",
       "min    1.062393e+06   5.114589e+06  2019-08-01 00:00:00  50.0     \n",
       "max    4.293856e+09   4.283872e+09  2019-08-31 00:00:00  1294500.0"
      ]
     },
     "execution_count": 35,
     "metadata": {},
     "output_type": "execute_result"
    }
   ],
   "source": [
    "# Проверим диапазон значений в таблице orders\n",
    "\n",
    "orders.describe().loc[['count', 'min', 'max']]"
   ]
  },
  {
   "cell_type": "markdown",
   "metadata": {},
   "source": [
    "Наблюдается аномально высокая цена заказа. Посмотрим на стоимость остальных дорогих заказов."
   ]
  },
  {
   "cell_type": "code",
   "execution_count": 36,
   "metadata": {},
   "outputs": [
    {
     "data": {
      "text/html": [
       "<div>\n",
       "<style scoped>\n",
       "    .dataframe tbody tr th:only-of-type {\n",
       "        vertical-align: middle;\n",
       "    }\n",
       "\n",
       "    .dataframe tbody tr th {\n",
       "        vertical-align: top;\n",
       "    }\n",
       "\n",
       "    .dataframe thead th {\n",
       "        text-align: right;\n",
       "    }\n",
       "</style>\n",
       "<table border=\"1\" class=\"dataframe\">\n",
       "  <thead>\n",
       "    <tr style=\"text-align: right;\">\n",
       "      <th></th>\n",
       "      <th>transactionId</th>\n",
       "      <th>visitorId</th>\n",
       "      <th>date</th>\n",
       "      <th>revenue</th>\n",
       "      <th>group</th>\n",
       "    </tr>\n",
       "  </thead>\n",
       "  <tbody>\n",
       "    <tr>\n",
       "      <th>425</th>\n",
       "      <td>590470918</td>\n",
       "      <td>1920142716</td>\n",
       "      <td>2019-08-19</td>\n",
       "      <td>1294500</td>\n",
       "      <td>B</td>\n",
       "    </tr>\n",
       "    <tr>\n",
       "      <th>1196</th>\n",
       "      <td>3936777065</td>\n",
       "      <td>2108080724</td>\n",
       "      <td>2019-08-15</td>\n",
       "      <td>202740</td>\n",
       "      <td>B</td>\n",
       "    </tr>\n",
       "    <tr>\n",
       "      <th>858</th>\n",
       "      <td>192721366</td>\n",
       "      <td>1316129916</td>\n",
       "      <td>2019-08-27</td>\n",
       "      <td>93940</td>\n",
       "      <td>A</td>\n",
       "    </tr>\n",
       "    <tr>\n",
       "      <th>1136</th>\n",
       "      <td>666610489</td>\n",
       "      <td>1307669133</td>\n",
       "      <td>2019-08-13</td>\n",
       "      <td>92550</td>\n",
       "      <td>A</td>\n",
       "    </tr>\n",
       "    <tr>\n",
       "      <th>744</th>\n",
       "      <td>3668308183</td>\n",
       "      <td>888512513</td>\n",
       "      <td>2019-08-27</td>\n",
       "      <td>86620</td>\n",
       "      <td>B</td>\n",
       "    </tr>\n",
       "  </tbody>\n",
       "</table>\n",
       "</div>"
      ],
      "text/plain": [
       "      transactionId   visitorId       date  revenue group\n",
       "425   590470918      1920142716 2019-08-19  1294500  B   \n",
       "1196  3936777065     2108080724 2019-08-15  202740   B   \n",
       "858   192721366      1316129916 2019-08-27  93940    A   \n",
       "1136  666610489      1307669133 2019-08-13  92550    A   \n",
       "744   3668308183     888512513  2019-08-27  86620    B   "
      ]
     },
     "execution_count": 36,
     "metadata": {},
     "output_type": "execute_result"
    }
   ],
   "source": [
    "# Отобразим топ-5 самых дорогих заказов\n",
    "\n",
    "orders.sort_values('revenue', ascending=False).head()"
   ]
  },
  {
   "cell_type": "markdown",
   "metadata": {},
   "source": [
    "Есть один заказ с аномально высокой стоимостью. Удалим заказ стоимостью в 1294500 из дальнейшего анализа. Такая огромная сумма - единственная и будет искажать результат."
   ]
  },
  {
   "cell_type": "code",
   "execution_count": 37,
   "metadata": {},
   "outputs": [
    {
     "data": {
      "text/html": [
       "<div>\n",
       "<style scoped>\n",
       "    .dataframe tbody tr th:only-of-type {\n",
       "        vertical-align: middle;\n",
       "    }\n",
       "\n",
       "    .dataframe tbody tr th {\n",
       "        vertical-align: top;\n",
       "    }\n",
       "\n",
       "    .dataframe thead th {\n",
       "        text-align: right;\n",
       "    }\n",
       "</style>\n",
       "<table border=\"1\" class=\"dataframe\">\n",
       "  <thead>\n",
       "    <tr style=\"text-align: right;\">\n",
       "      <th></th>\n",
       "      <th>transactionId</th>\n",
       "      <th>visitorId</th>\n",
       "      <th>date</th>\n",
       "      <th>revenue</th>\n",
       "      <th>group</th>\n",
       "    </tr>\n",
       "  </thead>\n",
       "  <tbody>\n",
       "    <tr>\n",
       "      <th>1196</th>\n",
       "      <td>3936777065</td>\n",
       "      <td>2108080724</td>\n",
       "      <td>2019-08-15</td>\n",
       "      <td>202740</td>\n",
       "      <td>B</td>\n",
       "    </tr>\n",
       "    <tr>\n",
       "      <th>858</th>\n",
       "      <td>192721366</td>\n",
       "      <td>1316129916</td>\n",
       "      <td>2019-08-27</td>\n",
       "      <td>93940</td>\n",
       "      <td>A</td>\n",
       "    </tr>\n",
       "    <tr>\n",
       "      <th>1136</th>\n",
       "      <td>666610489</td>\n",
       "      <td>1307669133</td>\n",
       "      <td>2019-08-13</td>\n",
       "      <td>92550</td>\n",
       "      <td>A</td>\n",
       "    </tr>\n",
       "    <tr>\n",
       "      <th>744</th>\n",
       "      <td>3668308183</td>\n",
       "      <td>888512513</td>\n",
       "      <td>2019-08-27</td>\n",
       "      <td>86620</td>\n",
       "      <td>B</td>\n",
       "    </tr>\n",
       "    <tr>\n",
       "      <th>662</th>\n",
       "      <td>1811671147</td>\n",
       "      <td>4266935830</td>\n",
       "      <td>2019-08-29</td>\n",
       "      <td>78990</td>\n",
       "      <td>A</td>\n",
       "    </tr>\n",
       "  </tbody>\n",
       "</table>\n",
       "</div>"
      ],
      "text/plain": [
       "      transactionId   visitorId       date  revenue group\n",
       "1196  3936777065     2108080724 2019-08-15  202740   B   \n",
       "858   192721366      1316129916 2019-08-27  93940    A   \n",
       "1136  666610489      1307669133 2019-08-13  92550    A   \n",
       "744   3668308183     888512513  2019-08-27  86620    B   \n",
       "662   1811671147     4266935830 2019-08-29  78990    A   "
      ]
     },
     "execution_count": 37,
     "metadata": {},
     "output_type": "execute_result"
    }
   ],
   "source": [
    "orders = orders[orders['transactionId'] != 590470918]\n",
    "orders.sort_values('revenue', ascending = False).head()"
   ]
  },
  {
   "cell_type": "code",
   "execution_count": 38,
   "metadata": {},
   "outputs": [
    {
     "name": "stdout",
     "output_type": "stream",
     "text": [
      "Количество дубликатов в 'hypothesis': 0\n",
      "Количество дубликатов в 'orders': 0\n",
      "Количество дубликатов в 'visitors': 0\n"
     ]
    }
   ],
   "source": [
    "# Поиск дубликатов в hypothesis, orders, visitors\n",
    "\n",
    "print(\"Количество дубликатов в 'hypothesis':\", hypothesis.duplicated().sum())\n",
    "print(\"Количество дубликатов в 'orders':\", orders.duplicated().sum())\n",
    "print(\"Количество дубликатов в 'visitors':\", visitors.duplicated().sum())"
   ]
  },
  {
   "cell_type": "code",
   "execution_count": 39,
   "metadata": {},
   "outputs": [
    {
     "data": {
      "text/plain": [
       "array(['B', 'A'], dtype=object)"
      ]
     },
     "metadata": {},
     "output_type": "display_data"
    },
    {
     "data": {
      "text/plain": [
       "array(['A', 'B'], dtype=object)"
      ]
     },
     "execution_count": 39,
     "metadata": {},
     "output_type": "execute_result"
    }
   ],
   "source": [
    "# Проверим уникальность групп в таблицах с заказами и пользователями\n",
    "\n",
    "display(orders.group.unique())\n",
    "visitors.group.unique()"
   ]
  },
  {
   "cell_type": "code",
   "execution_count": 40,
   "metadata": {
    "scrolled": false
   },
   "outputs": [
    {
     "data": {
      "text/plain": [
       "min    2019-08-01 00:00:00\n",
       "max    2019-08-31 00:00:00\n",
       "Name: date, dtype: object"
      ]
     },
     "execution_count": 40,
     "metadata": {},
     "output_type": "execute_result"
    }
   ],
   "source": [
    "# Проверим диапазон дат в таблице оrders\n",
    "\n",
    "orders['date'].describe().loc[['min', 'max']]"
   ]
  },
  {
   "cell_type": "code",
   "execution_count": 41,
   "metadata": {
    "scrolled": true
   },
   "outputs": [
    {
     "data": {
      "text/plain": [
       "min    2019-08-01 00:00:00\n",
       "max    2019-08-31 00:00:00\n",
       "Name: date, dtype: object"
      ]
     },
     "execution_count": 41,
     "metadata": {},
     "output_type": "execute_result"
    }
   ],
   "source": [
    "# Проверим диапазон дат в таблице visitors\n",
    "\n",
    "visitors['date'].describe().loc[['min', 'max']]"
   ]
  },
  {
   "cell_type": "code",
   "execution_count": 42,
   "metadata": {},
   "outputs": [
    {
     "data": {
      "text/plain": [
       "58"
      ]
     },
     "execution_count": 42,
     "metadata": {},
     "output_type": "execute_result"
    }
   ],
   "source": [
    "# В таблице orders проверим, есть ли пользователи присутствующие в обеих группах\n",
    "\n",
    "duplicates = orders[orders.duplicated('visitorId', keep=False)]['visitorId']\n",
    "result = orders[orders['visitorId'].isin(duplicates)].groupby('visitorId')['group'].nunique()\n",
    "result = result[result > 1]\n",
    "result.count()"
   ]
  },
  {
   "cell_type": "code",
   "execution_count": 43,
   "metadata": {},
   "outputs": [
    {
     "data": {
      "text/plain": [
       "'5.6%'"
      ]
     },
     "execution_count": 43,
     "metadata": {},
     "output_type": "execute_result"
    }
   ],
   "source": [
    "# Количество ошибочных visitorId от общего числа\n",
    "\n",
    "\"{0:.1%}\".format(result.count()/orders.visitorId.nunique())"
   ]
  },
  {
   "cell_type": "markdown",
   "metadata": {},
   "source": [
    "Произошло некорректное деление пользователей на группы на этапе подготовки A/B-теста. У нас 58 пользователей, которые присутствуют в обеих группах. Это составляет 5.6% от общего числа пользователей. Т.к. эта группа может сильно искажать результат исследование принято решение удалить таких пользователей из таблицы orders."
   ]
  },
  {
   "cell_type": "code",
   "execution_count": 44,
   "metadata": {},
   "outputs": [
    {
     "data": {
      "text/plain": [
       "972"
      ]
     },
     "execution_count": 44,
     "metadata": {},
     "output_type": "execute_result"
    }
   ],
   "source": [
    "# Удалим некорректные visitorId из таблицы orders\n",
    "orders = orders[~orders['visitorId'].isin(result.index)]\n",
    "\n",
    "# Всего уникальных пользоватлей\n",
    "orders['visitorId'].nunique()"
   ]
  },
  {
   "cell_type": "code",
   "execution_count": 45,
   "metadata": {},
   "outputs": [
    {
     "name": "stdout",
     "output_type": "stream",
     "text": [
      "<class 'pandas.core.frame.DataFrame'>\n",
      "Index: 1015 entries, 0 to 1196\n",
      "Data columns (total 5 columns):\n",
      " #   Column         Non-Null Count  Dtype         \n",
      "---  ------         --------------  -----         \n",
      " 0   transactionId  1015 non-null   int64         \n",
      " 1   visitorId      1015 non-null   int64         \n",
      " 2   date           1015 non-null   datetime64[ns]\n",
      " 3   revenue        1015 non-null   int64         \n",
      " 4   group          1015 non-null   object        \n",
      "dtypes: datetime64[ns](1), int64(3), object(1)\n",
      "memory usage: 47.6+ KB\n"
     ]
    }
   ],
   "source": [
    "orders.info()"
   ]
  },
  {
   "cell_type": "code",
   "execution_count": 46,
   "metadata": {
    "scrolled": true
   },
   "outputs": [
    {
     "name": "stdout",
     "output_type": "stream",
     "text": [
      "Количество пользователей в группе А: 445\n",
      "Количество пользователей в группе В: 527\n",
      "соотношение количества пользователей в группах: 18.4%\n"
     ]
    }
   ],
   "source": [
    "# Измерим количество пользователй в каждой группе\n",
    "\n",
    "ag = orders.query('group == \"A\"')['visitorId'].nunique()\n",
    "\n",
    "bg = orders.query('group == \"B\"')['visitorId'].nunique()\n",
    "\n",
    "print(f'Количество пользователей в группе А: {ag}')\n",
    "\n",
    "print(f'Количество пользователей в группе В: {bg}')\n",
    "\n",
    "print(f'соотношение количества пользователей в группах: {\"{0:.1%}\".format((bg-ag) / ag)}')"
   ]
  },
  {
   "cell_type": "markdown",
   "metadata": {},
   "source": [
    "Пользователей в группе В на 18.4% больше, чем в группе А. Это внесёт дополнительные искажения на результат анализа."
   ]
  },
  {
   "cell_type": "markdown",
   "metadata": {},
   "source": [
    "Таким образом, в результате предварительного изучения данных:\n",
    "- изменены названия колонок в таблице с гипотезами в нижний регистр;\n",
    "- типы данных в колонках с датами были преобразованы в формат datetime; \n",
    "- найдена аномальна высокая цена одного заказа, которая была удалена;\n",
    "- пропусков и дубликатов в данных обнаружено не было;\n",
    "- приоритизации требуют девять гипотез;\n",
    "- для целей теста пользователи поделены на две группы: A и B;\n",
    "- параметры reach, impact, efforts для расчёта приоритизации имеют шкалу от 1 до 10, а параметр confidence от 1 до 9;\n",
    "- количество уникальных пользователей: 972;\n",
    "- дата проведения теста: 2019-08-01 - 2019-08-31;\n",
    "- удалены пользователи присутствующие в обеих группах, что составило 5.6% от общего числа;\n",
    "- пользователей в группе В на 18.4% больше, чем в группе А."
   ]
  },
  {
   "cell_type": "markdown",
   "metadata": {},
   "source": [
    "### Часть 1. Приоритизация гипотез"
   ]
  },
  {
   "cell_type": "markdown",
   "metadata": {},
   "source": [
    "Для расчёта приоритизации гипотез воспользуемся фреймворками ICE и RICE. Для этого нам понадобятся следующие параметры:\n",
    "\n",
    "`Reach` — охват, скольких пользователей затронет изменение, которое вы хотите внести;\n",
    "\n",
    "`Impact` — насколько сильно изменение повлияет на пользователей, их опыт и удовлетворение от продукта;\n",
    "\n",
    "`Confidence` — насколько вы уверены, что это изменение повлияет на пользователей именно так;\n",
    "\n",
    "`Efforts` — сколько стоит протестировать эту гипотезу."
   ]
  },
  {
   "cell_type": "markdown",
   "metadata": {},
   "source": [
    "Применим фреймворк ICE для приоритизации гипотез и отсортируем их по убыванию приоритета."
   ]
  },
  {
   "cell_type": "code",
   "execution_count": 47,
   "metadata": {},
   "outputs": [
    {
     "data": {
      "text/html": [
       "<div>\n",
       "<style scoped>\n",
       "    .dataframe tbody tr th:only-of-type {\n",
       "        vertical-align: middle;\n",
       "    }\n",
       "\n",
       "    .dataframe tbody tr th {\n",
       "        vertical-align: top;\n",
       "    }\n",
       "\n",
       "    .dataframe thead th {\n",
       "        text-align: right;\n",
       "    }\n",
       "</style>\n",
       "<table border=\"1\" class=\"dataframe\">\n",
       "  <thead>\n",
       "    <tr style=\"text-align: right;\">\n",
       "      <th></th>\n",
       "      <th>hypothesis</th>\n",
       "      <th>reach</th>\n",
       "      <th>impact</th>\n",
       "      <th>confidence</th>\n",
       "      <th>efforts</th>\n",
       "      <th>ICE</th>\n",
       "    </tr>\n",
       "  </thead>\n",
       "  <tbody>\n",
       "    <tr>\n",
       "      <th>8</th>\n",
       "      <td>Запустить акцию, дающую скидку на товар в день рождения</td>\n",
       "      <td>1</td>\n",
       "      <td>9</td>\n",
       "      <td>9</td>\n",
       "      <td>5</td>\n",
       "      <td>16</td>\n",
       "    </tr>\n",
       "    <tr>\n",
       "      <th>0</th>\n",
       "      <td>Добавить два новых канала привлечения трафика, что позволит привлекать на 30% больше пользователей</td>\n",
       "      <td>3</td>\n",
       "      <td>10</td>\n",
       "      <td>8</td>\n",
       "      <td>6</td>\n",
       "      <td>13</td>\n",
       "    </tr>\n",
       "    <tr>\n",
       "      <th>7</th>\n",
       "      <td>Добавить форму подписки на все основные страницы, чтобы собрать базу клиентов для email-рассылок</td>\n",
       "      <td>10</td>\n",
       "      <td>7</td>\n",
       "      <td>8</td>\n",
       "      <td>5</td>\n",
       "      <td>11</td>\n",
       "    </tr>\n",
       "    <tr>\n",
       "      <th>6</th>\n",
       "      <td>Показать на главной странице баннеры с актуальными акциями и распродажами, чтобы увеличить конверсию</td>\n",
       "      <td>5</td>\n",
       "      <td>3</td>\n",
       "      <td>8</td>\n",
       "      <td>3</td>\n",
       "      <td>8</td>\n",
       "    </tr>\n",
       "    <tr>\n",
       "      <th>2</th>\n",
       "      <td>Добавить блоки рекомендаций товаров на сайт интернет магазина, чтобы повысить конверсию и средний чек заказа</td>\n",
       "      <td>8</td>\n",
       "      <td>3</td>\n",
       "      <td>7</td>\n",
       "      <td>3</td>\n",
       "      <td>7</td>\n",
       "    </tr>\n",
       "    <tr>\n",
       "      <th>1</th>\n",
       "      <td>Запустить собственную службу доставки, что сократит срок доставки заказов</td>\n",
       "      <td>2</td>\n",
       "      <td>5</td>\n",
       "      <td>4</td>\n",
       "      <td>10</td>\n",
       "      <td>2</td>\n",
       "    </tr>\n",
       "    <tr>\n",
       "      <th>3</th>\n",
       "      <td>Изменить структура категорий, что увеличит конверсию, т.к. пользователи быстрее найдут нужный товар</td>\n",
       "      <td>8</td>\n",
       "      <td>3</td>\n",
       "      <td>3</td>\n",
       "      <td>8</td>\n",
       "      <td>1</td>\n",
       "    </tr>\n",
       "    <tr>\n",
       "      <th>4</th>\n",
       "      <td>Изменить цвет фона главной страницы, чтобы увеличить вовлеченность пользователей</td>\n",
       "      <td>3</td>\n",
       "      <td>1</td>\n",
       "      <td>1</td>\n",
       "      <td>1</td>\n",
       "      <td>1</td>\n",
       "    </tr>\n",
       "    <tr>\n",
       "      <th>5</th>\n",
       "      <td>Добавить страницу отзывов клиентов о магазине, что позволит увеличить количество заказов</td>\n",
       "      <td>3</td>\n",
       "      <td>2</td>\n",
       "      <td>2</td>\n",
       "      <td>3</td>\n",
       "      <td>1</td>\n",
       "    </tr>\n",
       "  </tbody>\n",
       "</table>\n",
       "</div>"
      ],
      "text/plain": [
       "                                                                                                     hypothesis  \\\n",
       "8  Запустить акцию, дающую скидку на товар в день рождения                                                        \n",
       "0  Добавить два новых канала привлечения трафика, что позволит привлекать на 30% больше пользователей             \n",
       "7  Добавить форму подписки на все основные страницы, чтобы собрать базу клиентов для email-рассылок               \n",
       "6  Показать на главной странице баннеры с актуальными акциями и распродажами, чтобы увеличить конверсию           \n",
       "2  Добавить блоки рекомендаций товаров на сайт интернет магазина, чтобы повысить конверсию и средний чек заказа   \n",
       "1  Запустить собственную службу доставки, что сократит срок доставки заказов                                      \n",
       "3  Изменить структура категорий, что увеличит конверсию, т.к. пользователи быстрее найдут нужный товар            \n",
       "4  Изменить цвет фона главной страницы, чтобы увеличить вовлеченность пользователей                               \n",
       "5  Добавить страницу отзывов клиентов о магазине, что позволит увеличить количество заказов                       \n",
       "\n",
       "   reach  impact  confidence  efforts  ICE  \n",
       "8  1      9       9           5        16   \n",
       "0  3      10      8           6        13   \n",
       "7  10     7       8           5        11   \n",
       "6  5      3       8           3        8    \n",
       "2  8      3       7           3        7    \n",
       "1  2      5       4           10       2    \n",
       "3  8      3       3           8        1    \n",
       "4  3      1       1           1        1    \n",
       "5  3      2       2           3        1    "
      ]
     },
     "execution_count": 47,
     "metadata": {},
     "output_type": "execute_result"
    }
   ],
   "source": [
    "hypothesis['ICE'] = hypothesis['impact'] * hypothesis['confidence'] / hypothesis['efforts']\n",
    "hypothesis['ICE'] = hypothesis['ICE'].astype('int')\n",
    "hypothesis.sort_values('ICE', ascending = False)"
   ]
  },
  {
   "cell_type": "markdown",
   "metadata": {},
   "source": [
    "С точки зрения метода ICE наиболее перспективными оказываются гипотезы: 8, 0, 7, 6. Лидером становится гипотеза: \"Запустить акцию, дающую скидку на товар в день рождения\""
   ]
  },
  {
   "cell_type": "markdown",
   "metadata": {},
   "source": [
    "Применим фреймворк RICE для приоритизации гипотез и отсортируем их по убыванию приоритета."
   ]
  },
  {
   "cell_type": "code",
   "execution_count": 48,
   "metadata": {},
   "outputs": [
    {
     "data": {
      "text/html": [
       "<div>\n",
       "<style scoped>\n",
       "    .dataframe tbody tr th:only-of-type {\n",
       "        vertical-align: middle;\n",
       "    }\n",
       "\n",
       "    .dataframe tbody tr th {\n",
       "        vertical-align: top;\n",
       "    }\n",
       "\n",
       "    .dataframe thead th {\n",
       "        text-align: right;\n",
       "    }\n",
       "</style>\n",
       "<table border=\"1\" class=\"dataframe\">\n",
       "  <thead>\n",
       "    <tr style=\"text-align: right;\">\n",
       "      <th></th>\n",
       "      <th>hypothesis</th>\n",
       "      <th>reach</th>\n",
       "      <th>impact</th>\n",
       "      <th>confidence</th>\n",
       "      <th>efforts</th>\n",
       "      <th>ICE</th>\n",
       "      <th>RICE</th>\n",
       "    </tr>\n",
       "  </thead>\n",
       "  <tbody>\n",
       "    <tr>\n",
       "      <th>7</th>\n",
       "      <td>Добавить форму подписки на все основные страницы, чтобы собрать базу клиентов для email-рассылок</td>\n",
       "      <td>10</td>\n",
       "      <td>7</td>\n",
       "      <td>8</td>\n",
       "      <td>5</td>\n",
       "      <td>11</td>\n",
       "      <td>112</td>\n",
       "    </tr>\n",
       "    <tr>\n",
       "      <th>2</th>\n",
       "      <td>Добавить блоки рекомендаций товаров на сайт интернет магазина, чтобы повысить конверсию и средний чек заказа</td>\n",
       "      <td>8</td>\n",
       "      <td>3</td>\n",
       "      <td>7</td>\n",
       "      <td>3</td>\n",
       "      <td>7</td>\n",
       "      <td>56</td>\n",
       "    </tr>\n",
       "    <tr>\n",
       "      <th>0</th>\n",
       "      <td>Добавить два новых канала привлечения трафика, что позволит привлекать на 30% больше пользователей</td>\n",
       "      <td>3</td>\n",
       "      <td>10</td>\n",
       "      <td>8</td>\n",
       "      <td>6</td>\n",
       "      <td>13</td>\n",
       "      <td>40</td>\n",
       "    </tr>\n",
       "    <tr>\n",
       "      <th>6</th>\n",
       "      <td>Показать на главной странице баннеры с актуальными акциями и распродажами, чтобы увеличить конверсию</td>\n",
       "      <td>5</td>\n",
       "      <td>3</td>\n",
       "      <td>8</td>\n",
       "      <td>3</td>\n",
       "      <td>8</td>\n",
       "      <td>40</td>\n",
       "    </tr>\n",
       "    <tr>\n",
       "      <th>8</th>\n",
       "      <td>Запустить акцию, дающую скидку на товар в день рождения</td>\n",
       "      <td>1</td>\n",
       "      <td>9</td>\n",
       "      <td>9</td>\n",
       "      <td>5</td>\n",
       "      <td>16</td>\n",
       "      <td>16</td>\n",
       "    </tr>\n",
       "    <tr>\n",
       "      <th>3</th>\n",
       "      <td>Изменить структура категорий, что увеличит конверсию, т.к. пользователи быстрее найдут нужный товар</td>\n",
       "      <td>8</td>\n",
       "      <td>3</td>\n",
       "      <td>3</td>\n",
       "      <td>8</td>\n",
       "      <td>1</td>\n",
       "      <td>9</td>\n",
       "    </tr>\n",
       "    <tr>\n",
       "      <th>1</th>\n",
       "      <td>Запустить собственную службу доставки, что сократит срок доставки заказов</td>\n",
       "      <td>2</td>\n",
       "      <td>5</td>\n",
       "      <td>4</td>\n",
       "      <td>10</td>\n",
       "      <td>2</td>\n",
       "      <td>4</td>\n",
       "    </tr>\n",
       "    <tr>\n",
       "      <th>5</th>\n",
       "      <td>Добавить страницу отзывов клиентов о магазине, что позволит увеличить количество заказов</td>\n",
       "      <td>3</td>\n",
       "      <td>2</td>\n",
       "      <td>2</td>\n",
       "      <td>3</td>\n",
       "      <td>1</td>\n",
       "      <td>4</td>\n",
       "    </tr>\n",
       "    <tr>\n",
       "      <th>4</th>\n",
       "      <td>Изменить цвет фона главной страницы, чтобы увеличить вовлеченность пользователей</td>\n",
       "      <td>3</td>\n",
       "      <td>1</td>\n",
       "      <td>1</td>\n",
       "      <td>1</td>\n",
       "      <td>1</td>\n",
       "      <td>3</td>\n",
       "    </tr>\n",
       "  </tbody>\n",
       "</table>\n",
       "</div>"
      ],
      "text/plain": [
       "                                                                                                     hypothesis  \\\n",
       "7  Добавить форму подписки на все основные страницы, чтобы собрать базу клиентов для email-рассылок               \n",
       "2  Добавить блоки рекомендаций товаров на сайт интернет магазина, чтобы повысить конверсию и средний чек заказа   \n",
       "0  Добавить два новых канала привлечения трафика, что позволит привлекать на 30% больше пользователей             \n",
       "6  Показать на главной странице баннеры с актуальными акциями и распродажами, чтобы увеличить конверсию           \n",
       "8  Запустить акцию, дающую скидку на товар в день рождения                                                        \n",
       "3  Изменить структура категорий, что увеличит конверсию, т.к. пользователи быстрее найдут нужный товар            \n",
       "1  Запустить собственную службу доставки, что сократит срок доставки заказов                                      \n",
       "5  Добавить страницу отзывов клиентов о магазине, что позволит увеличить количество заказов                       \n",
       "4  Изменить цвет фона главной страницы, чтобы увеличить вовлеченность пользователей                               \n",
       "\n",
       "   reach  impact  confidence  efforts  ICE  RICE  \n",
       "7  10     7       8           5        11   112   \n",
       "2  8      3       7           3        7    56    \n",
       "0  3      10      8           6        13   40    \n",
       "6  5      3       8           3        8    40    \n",
       "8  1      9       9           5        16   16    \n",
       "3  8      3       3           8        1    9     \n",
       "1  2      5       4           10       2    4     \n",
       "5  3      2       2           3        1    4     \n",
       "4  3      1       1           1        1    3     "
      ]
     },
     "execution_count": 48,
     "metadata": {},
     "output_type": "execute_result"
    }
   ],
   "source": [
    "hypothesis['RICE'] = hypothesis['reach'] * hypothesis['impact'] * hypothesis['confidence'] / hypothesis['efforts']\n",
    "hypothesis['RICE'] = hypothesis['RICE'].astype('int')\n",
    "hypothesis.sort_values('RICE', ascending = False)"
   ]
  },
  {
   "cell_type": "markdown",
   "metadata": {},
   "source": [
    "В соответствии с методом RICE cамыми перспективными гипотезами оказались: 7, 2, 0, 6. В отличие от ICE метода, где на первом месте гипотеза под номером 8, здесь лидирует гипотеза под номером 7 благодаря параметру reach, достигающий 10. Этот параметр помимо остальных учитывает, как много пользователей затрагивают предложенные в гипотезе изменения. Лидером приоритизации становится гипотеза: \"Добавить форму подписки на все основные страницы, чтобы собрать базу клиентов для email-рассылок\"."
   ]
  },
  {
   "cell_type": "markdown",
   "metadata": {},
   "source": [
    "### Часть 2. Анализ A/B-теста"
   ]
  },
  {
   "cell_type": "markdown",
   "metadata": {},
   "source": [
    "Чтобы построить графики, нужно собрать кумулятивные данные о посетителях и о заказах по дням. "
   ]
  },
  {
   "cell_type": "code",
   "execution_count": 49,
   "metadata": {},
   "outputs": [
    {
     "data": {
      "text/html": [
       "<div>\n",
       "<style scoped>\n",
       "    .dataframe tbody tr th:only-of-type {\n",
       "        vertical-align: middle;\n",
       "    }\n",
       "\n",
       "    .dataframe tbody tr th {\n",
       "        vertical-align: top;\n",
       "    }\n",
       "\n",
       "    .dataframe thead th {\n",
       "        text-align: right;\n",
       "    }\n",
       "</style>\n",
       "<table border=\"1\" class=\"dataframe\">\n",
       "  <thead>\n",
       "    <tr style=\"text-align: right;\">\n",
       "      <th></th>\n",
       "      <th>date</th>\n",
       "      <th>group</th>\n",
       "    </tr>\n",
       "  </thead>\n",
       "  <tbody>\n",
       "    <tr>\n",
       "      <th>0</th>\n",
       "      <td>2019-08-15</td>\n",
       "      <td>B</td>\n",
       "    </tr>\n",
       "    <tr>\n",
       "      <th>7</th>\n",
       "      <td>2019-08-15</td>\n",
       "      <td>A</td>\n",
       "    </tr>\n",
       "    <tr>\n",
       "      <th>45</th>\n",
       "      <td>2019-08-16</td>\n",
       "      <td>A</td>\n",
       "    </tr>\n",
       "    <tr>\n",
       "      <th>47</th>\n",
       "      <td>2019-08-16</td>\n",
       "      <td>B</td>\n",
       "    </tr>\n",
       "    <tr>\n",
       "      <th>55</th>\n",
       "      <td>2019-08-01</td>\n",
       "      <td>A</td>\n",
       "    </tr>\n",
       "  </tbody>\n",
       "</table>\n",
       "</div>"
      ],
      "text/plain": [
       "         date group\n",
       "0  2019-08-15  B   \n",
       "7  2019-08-15  A   \n",
       "45 2019-08-16  A   \n",
       "47 2019-08-16  B   \n",
       "55 2019-08-01  A   "
      ]
     },
     "execution_count": 49,
     "metadata": {},
     "output_type": "execute_result"
    }
   ],
   "source": [
    "# Создаем массив уникальных пар значений дат и групп теста\n",
    "\n",
    "datesGroups = orders[['date','group']].drop_duplicates()\n",
    "datesGroups.head()"
   ]
  },
  {
   "cell_type": "code",
   "execution_count": 50,
   "metadata": {},
   "outputs": [
    {
     "data": {
      "text/html": [
       "<div>\n",
       "<style scoped>\n",
       "    .dataframe tbody tr th:only-of-type {\n",
       "        vertical-align: middle;\n",
       "    }\n",
       "\n",
       "    .dataframe tbody tr th {\n",
       "        vertical-align: top;\n",
       "    }\n",
       "\n",
       "    .dataframe thead th {\n",
       "        text-align: right;\n",
       "    }\n",
       "</style>\n",
       "<table border=\"1\" class=\"dataframe\">\n",
       "  <thead>\n",
       "    <tr style=\"text-align: right;\">\n",
       "      <th></th>\n",
       "      <th>date</th>\n",
       "      <th>group</th>\n",
       "      <th>transactionId</th>\n",
       "      <th>visitorId</th>\n",
       "      <th>revenue</th>\n",
       "    </tr>\n",
       "  </thead>\n",
       "  <tbody>\n",
       "    <tr>\n",
       "      <th>55</th>\n",
       "      <td>2019-08-01</td>\n",
       "      <td>A</td>\n",
       "      <td>23</td>\n",
       "      <td>19</td>\n",
       "      <td>142779</td>\n",
       "    </tr>\n",
       "    <tr>\n",
       "      <th>66</th>\n",
       "      <td>2019-08-01</td>\n",
       "      <td>B</td>\n",
       "      <td>17</td>\n",
       "      <td>17</td>\n",
       "      <td>59758</td>\n",
       "    </tr>\n",
       "    <tr>\n",
       "      <th>175</th>\n",
       "      <td>2019-08-02</td>\n",
       "      <td>A</td>\n",
       "      <td>42</td>\n",
       "      <td>36</td>\n",
       "      <td>234381</td>\n",
       "    </tr>\n",
       "    <tr>\n",
       "      <th>173</th>\n",
       "      <td>2019-08-02</td>\n",
       "      <td>B</td>\n",
       "      <td>40</td>\n",
       "      <td>39</td>\n",
       "      <td>221801</td>\n",
       "    </tr>\n",
       "    <tr>\n",
       "      <th>291</th>\n",
       "      <td>2019-08-03</td>\n",
       "      <td>A</td>\n",
       "      <td>66</td>\n",
       "      <td>60</td>\n",
       "      <td>346854</td>\n",
       "    </tr>\n",
       "  </tbody>\n",
       "</table>\n",
       "</div>"
      ],
      "text/plain": [
       "          date group  transactionId  visitorId  revenue\n",
       "55  2019-08-01  A     23             19         142779 \n",
       "66  2019-08-01  B     17             17         59758  \n",
       "175 2019-08-02  A     42             36         234381 \n",
       "173 2019-08-02  B     40             39         221801 \n",
       "291 2019-08-03  A     66             60         346854 "
      ]
     },
     "execution_count": 50,
     "metadata": {},
     "output_type": "execute_result"
    }
   ],
   "source": [
    "# Соберём агрегированные кумулятивные данные о заказах по дням\n",
    "\n",
    "ordersAggregated = (datesGroups.apply(lambda x: orders[np.logical_and(orders['date'] <= x['date'], orders['group'] == x['group'])]\n",
    "                    .agg({'date' : 'max', 'group' : 'max', 'transactionId' : 'nunique', 'visitorId' : 'nunique', 'revenue' : 'sum'})\n",
    "                    , axis=1)\n",
    "                    .sort_values(by=['date','group']))\n",
    "ordersAggregated.head()"
   ]
  },
  {
   "cell_type": "code",
   "execution_count": 51,
   "metadata": {},
   "outputs": [
    {
     "data": {
      "text/html": [
       "<div>\n",
       "<style scoped>\n",
       "    .dataframe tbody tr th:only-of-type {\n",
       "        vertical-align: middle;\n",
       "    }\n",
       "\n",
       "    .dataframe tbody tr th {\n",
       "        vertical-align: top;\n",
       "    }\n",
       "\n",
       "    .dataframe thead th {\n",
       "        text-align: right;\n",
       "    }\n",
       "</style>\n",
       "<table border=\"1\" class=\"dataframe\">\n",
       "  <thead>\n",
       "    <tr style=\"text-align: right;\">\n",
       "      <th></th>\n",
       "      <th>date</th>\n",
       "      <th>group</th>\n",
       "      <th>visitors</th>\n",
       "    </tr>\n",
       "  </thead>\n",
       "  <tbody>\n",
       "    <tr>\n",
       "      <th>55</th>\n",
       "      <td>2019-08-01</td>\n",
       "      <td>A</td>\n",
       "      <td>719</td>\n",
       "    </tr>\n",
       "    <tr>\n",
       "      <th>66</th>\n",
       "      <td>2019-08-01</td>\n",
       "      <td>B</td>\n",
       "      <td>713</td>\n",
       "    </tr>\n",
       "    <tr>\n",
       "      <th>175</th>\n",
       "      <td>2019-08-02</td>\n",
       "      <td>A</td>\n",
       "      <td>1338</td>\n",
       "    </tr>\n",
       "    <tr>\n",
       "      <th>173</th>\n",
       "      <td>2019-08-02</td>\n",
       "      <td>B</td>\n",
       "      <td>1294</td>\n",
       "    </tr>\n",
       "    <tr>\n",
       "      <th>291</th>\n",
       "      <td>2019-08-03</td>\n",
       "      <td>A</td>\n",
       "      <td>1845</td>\n",
       "    </tr>\n",
       "  </tbody>\n",
       "</table>\n",
       "</div>"
      ],
      "text/plain": [
       "          date group  visitors\n",
       "55  2019-08-01  A     719     \n",
       "66  2019-08-01  B     713     \n",
       "175 2019-08-02  A     1338    \n",
       "173 2019-08-02  B     1294    \n",
       "291 2019-08-03  A     1845    "
      ]
     },
     "execution_count": 51,
     "metadata": {},
     "output_type": "execute_result"
    }
   ],
   "source": [
    "# Соберём агрегированные кумулятивные данные о посетителях по дням\n",
    "\n",
    "visitorsAggregated = (datesGroups.apply(lambda x: visitors[np.logical_and(visitors['date'] <= x['date'], visitors['group'] == x['group'])]\n",
    "                    .agg({'date' : 'max', 'group' : 'max', 'visitors' : 'sum'}), axis=1)\n",
    "                    .sort_values(by=['date','group']))\n",
    "visitorsAggregated.head()"
   ]
  },
  {
   "cell_type": "markdown",
   "metadata": {},
   "source": [
    "Объявим датафрейм `cumulativeData` со столбцами:\n",
    "- `date` — дата;\n",
    "- `group` — группа A/B-теста (A или B);\n",
    "- `orders` — кумулятивное количество заказов на указанную дату в указанной группе;\n",
    "- `buyers` — кумулятивное количество пользователей, совершивших хотя бы один заказ, на указанную дату в указанной группе;\n",
    "- `revenue` — кумулятивная выручка на указанную дату в указанной группе (средний чек);\n",
    "- `visitors` — кумулятивное количество посетителей интернет-магазина на указанную дату в определённой группе."
   ]
  },
  {
   "cell_type": "code",
   "execution_count": 52,
   "metadata": {},
   "outputs": [
    {
     "data": {
      "text/html": [
       "<div>\n",
       "<style scoped>\n",
       "    .dataframe tbody tr th:only-of-type {\n",
       "        vertical-align: middle;\n",
       "    }\n",
       "\n",
       "    .dataframe tbody tr th {\n",
       "        vertical-align: top;\n",
       "    }\n",
       "\n",
       "    .dataframe thead th {\n",
       "        text-align: right;\n",
       "    }\n",
       "</style>\n",
       "<table border=\"1\" class=\"dataframe\">\n",
       "  <thead>\n",
       "    <tr style=\"text-align: right;\">\n",
       "      <th></th>\n",
       "      <th>date</th>\n",
       "      <th>group</th>\n",
       "      <th>orders</th>\n",
       "      <th>buyers</th>\n",
       "      <th>revenue</th>\n",
       "      <th>visitors</th>\n",
       "    </tr>\n",
       "  </thead>\n",
       "  <tbody>\n",
       "    <tr>\n",
       "      <th>0</th>\n",
       "      <td>2019-08-01</td>\n",
       "      <td>A</td>\n",
       "      <td>23</td>\n",
       "      <td>19</td>\n",
       "      <td>142779</td>\n",
       "      <td>719</td>\n",
       "    </tr>\n",
       "    <tr>\n",
       "      <th>1</th>\n",
       "      <td>2019-08-01</td>\n",
       "      <td>B</td>\n",
       "      <td>17</td>\n",
       "      <td>17</td>\n",
       "      <td>59758</td>\n",
       "      <td>713</td>\n",
       "    </tr>\n",
       "    <tr>\n",
       "      <th>2</th>\n",
       "      <td>2019-08-02</td>\n",
       "      <td>A</td>\n",
       "      <td>42</td>\n",
       "      <td>36</td>\n",
       "      <td>234381</td>\n",
       "      <td>1338</td>\n",
       "    </tr>\n",
       "    <tr>\n",
       "      <th>3</th>\n",
       "      <td>2019-08-02</td>\n",
       "      <td>B</td>\n",
       "      <td>40</td>\n",
       "      <td>39</td>\n",
       "      <td>221801</td>\n",
       "      <td>1294</td>\n",
       "    </tr>\n",
       "    <tr>\n",
       "      <th>4</th>\n",
       "      <td>2019-08-03</td>\n",
       "      <td>A</td>\n",
       "      <td>66</td>\n",
       "      <td>60</td>\n",
       "      <td>346854</td>\n",
       "      <td>1845</td>\n",
       "    </tr>\n",
       "  </tbody>\n",
       "</table>\n",
       "</div>"
      ],
      "text/plain": [
       "        date group  orders  buyers  revenue  visitors\n",
       "0 2019-08-01  A     23      19      142779   719     \n",
       "1 2019-08-01  B     17      17      59758    713     \n",
       "2 2019-08-02  A     42      36      234381   1338    \n",
       "3 2019-08-02  B     40      39      221801   1294    \n",
       "4 2019-08-03  A     66      60      346854   1845    "
      ]
     },
     "execution_count": 52,
     "metadata": {},
     "output_type": "execute_result"
    }
   ],
   "source": [
    "# Объединим кумулятивные данные в одной таблице\n",
    "\n",
    "cumulativeData = ordersAggregated.merge(visitorsAggregated, left_on=['date', 'group'], right_on=['date', 'group'])\n",
    "cumulativeData.columns = ['date', 'group', 'orders', 'buyers', 'revenue', 'visitors']\n",
    "\n",
    "cumulativeData.head()"
   ]
  },
  {
   "cell_type": "markdown",
   "metadata": {},
   "source": [
    "#### 1. Построим графики кумулятивной выручки по группам"
   ]
  },
  {
   "cell_type": "code",
   "execution_count": 53,
   "metadata": {},
   "outputs": [
    {
     "data": {
      "image/png": "[encoded data removed]",
      "text/plain": [
       "<Figure size 1500x500 with 1 Axes>"
      ]
     },
     "metadata": {},
     "output_type": "display_data"
    }
   ],
   "source": [
    "# Датафрейм с кумулятивным количеством заказов и кумулятивной выручкой по дням в группе А\n",
    "cumulativeRevenueA = cumulativeData[cumulativeData['group']=='A'][['date','revenue', 'orders']]\n",
    "\n",
    "# Датафрейм с кумулятивным количеством заказов и кумулятивной выручкой по дням в группе B\n",
    "cumulativeRevenueB = cumulativeData[cumulativeData['group']=='B'][['date','revenue', 'orders']]\n",
    "\n",
    "plt.figure(figsize=(15, 5))\n",
    "\n",
    "# Строим график выручки группы А\n",
    "plt.plot(cumulativeRevenueA['date'], cumulativeRevenueA['revenue'], label='A')\n",
    "\n",
    "# Строим график выручки группы B\n",
    "plt.plot(cumulativeRevenueB['date'], cumulativeRevenueB['revenue'], label='B')\n",
    "\n",
    "\n",
    "plt.xlabel('Дата', fontsize=10)\n",
    "plt.ylabel('Кумулятивная выручка', fontsize=10)\n",
    "plt.title('Кумулятивная выручка по группам' + \"\\n\", fontsize=17)\n",
    "plt.legend()\n",
    "plt.show()"
   ]
  },
  {
   "cell_type": "code",
   "execution_count": 54,
   "metadata": {},
   "outputs": [
    {
     "name": "stdout",
     "output_type": "stream",
     "text": [
      "Кумулятивная выручка группы В на 409816 больше кумулятивной выручки группы А\n"
     ]
    }
   ],
   "source": [
    "print(f'Кумулятивная выручка группы В на {cumulativeRevenueB.revenue.max() - cumulativeRevenueA.revenue.max()} \\\n",
    "больше кумулятивной выручки группы А')"
   ]
  },
  {
   "cell_type": "markdown",
   "metadata": {},
   "source": [
    "Выручка почти равномерно увеличивается в течение всего теста. Сегмент B вырвался вперёд в самом начале теста и продолжал лидировать весь период исследования (с 1 по 31 августа 2019 года). Возможно, на это влияют число или стоимость аномальных заказов. Для полного понимания факторов, влияющих на выручку, стоит дополнительно исследовать другие метрики, такие как средний чек и конверсию."
   ]
  },
  {
   "cell_type": "markdown",
   "metadata": {},
   "source": [
    "#### 2. Построим график кумулятивного среднего чека по группам"
   ]
  },
  {
   "cell_type": "code",
   "execution_count": 55,
   "metadata": {},
   "outputs": [
    {
     "data": {
      "image/png": "[encoded data removed]",
      "text/plain": [
       "<Figure size 1500x500 with 1 Axes>"
      ]
     },
     "metadata": {},
     "output_type": "display_data"
    }
   ],
   "source": [
    "plt.figure(figsize=(15, 5))\n",
    "\n",
    "# График кумулятивного среднего чека группы А\n",
    "plt.plot(cumulativeRevenueA['date'], cumulativeRevenueA['revenue']/cumulativeRevenueA['orders'], label='A')\n",
    "\n",
    "# График кумулятивного среднего чека группы B\n",
    "plt.plot(cumulativeRevenueB['date'], cumulativeRevenueB['revenue']/cumulativeRevenueB['orders'], label='B')\n",
    "\n",
    "\n",
    "plt.xlabel('Дата', fontsize=10)\n",
    "plt.ylabel('Кумулятивное среднее чека', fontsize=10)\n",
    "plt.title('Кумулятивное среднее чека по группам' + \"\\n\", fontsize=17)\n",
    "plt.legend()\n",
    "plt.show();"
   ]
  },
  {
   "cell_type": "markdown",
   "metadata": {},
   "source": [
    "В начале теста происходят заметные колебания значения среднего чека, но становится равномерным ближе к концу теста. Кумулятивное среднее чека для группы A установилось незначительно выше группы B, что свидетельствует о более высоком среднем чеке. Но разница не является существенной."
   ]
  },
  {
   "cell_type": "markdown",
   "metadata": {},
   "source": [
    "#### 3. Построим график относительного изменения кумулятивного среднего чека группы B к группе A"
   ]
  },
  {
   "cell_type": "code",
   "execution_count": 56,
   "metadata": {},
   "outputs": [
    {
     "data": {
      "image/png": "[encoded data removed]",
      "text/plain": [
       "<Figure size 1500x500 with 1 Axes>"
      ]
     },
     "metadata": {},
     "output_type": "display_data"
    }
   ],
   "source": [
    "# Собираем данные в одном датафрейме\n",
    "mergedCumulativeRevenue = cumulativeRevenueA.merge(cumulativeRevenueB, left_on='date', right_on='date', how='left', suffixes=['A', 'B'])\n",
    "\n",
    "plt.figure(figsize=(15, 5))\n",
    "\n",
    "# Строим отношение средних чеков\n",
    "plt.plot(mergedCumulativeRevenue['date'], (mergedCumulativeRevenue['revenueB']/mergedCumulativeRevenue['ordersB'])\n",
    "         /(mergedCumulativeRevenue['revenueA']/mergedCumulativeRevenue['ordersA'])-1)\n",
    "\n",
    "# Добавляем ось X\n",
    "plt.axhline(y=0, color='black', linestyle='--')\n",
    "\n",
    "plt.xlabel('Дата', fontsize=10)\n",
    "plt.title('Относительное изменение кумулятивного среднего чека группы B к группе A' + \"\\n\", fontsize=17)\n",
    "plt.show();"
   ]
  },
  {
   "cell_type": "markdown",
   "metadata": {},
   "source": [
    "В первые две недели график показывает неоднозначную тенденцию, возможно это влияние крупных заказов и выбросов. Как и на предыдущием графике в конце срока средний чек по группам практически сравнялся."
   ]
  },
  {
   "cell_type": "markdown",
   "metadata": {},
   "source": [
    "#### 4. Построим график кумулятивного среднего количества заказов на посетителя по группам, т.е. график конверсии посетителей в покупатели"
   ]
  },
  {
   "cell_type": "code",
   "execution_count": 57,
   "metadata": {},
   "outputs": [
    {
     "data": {
      "image/png": "[encoded data removed]",
      "text/plain": [
       "<Figure size 1500x500 with 1 Axes>"
      ]
     },
     "metadata": {},
     "output_type": "display_data"
    }
   ],
   "source": [
    "# Считаем кумулятивную конверсию\n",
    "cumulativeData['conversion'] = cumulativeData['orders']/cumulativeData['visitors']\n",
    "\n",
    "# Отделяем данные по группе A\n",
    "cumulativeDataA = cumulativeData[cumulativeData['group']=='A']\n",
    "\n",
    "# Отделяем данные по группе B\n",
    "cumulativeDataB = cumulativeData[cumulativeData['group']=='B']\n",
    "\n",
    "plt.figure(figsize=(15, 5))\n",
    "\n",
    "plt.plot(cumulativeDataA['date'], cumulativeDataA['conversion'], label='A')\n",
    "plt.plot(cumulativeDataB['date'], cumulativeDataB['conversion'], label='B')\n",
    "plt.xlabel('Дата', fontsize=10)\n",
    "plt.ylabel('Среднее кол-во заказов на посетителя', fontsize=10)\n",
    "plt.title('Кумулятивное среднее количества заказов на посетителя по группам' + \"\\n\", fontsize=17)\n",
    "plt.legend()\n",
    "plt.show();"
   ]
  },
  {
   "cell_type": "markdown",
   "metadata": {},
   "source": [
    "Конверсия в обеих группах колеблется в около 2.7%. В начале месяца конверсия в группе A была выше, чем в группе B. К концу первой недели месяца группа B показала небольшой рост, превысив конверсию группы A. Можно утверждать, что среднее количество заказов на одного посетителя в группе B больше."
   ]
  },
  {
   "cell_type": "markdown",
   "metadata": {},
   "source": [
    "#### 5. Построим график относительного изменения кумулятивного среднего количества заказов на посетителя группы B к группе A"
   ]
  },
  {
   "cell_type": "code",
   "execution_count": 58,
   "metadata": {},
   "outputs": [
    {
     "data": {
      "image/png": "[encoded data removed]",
      "text/plain": [
       "<Figure size 1500x500 with 1 Axes>"
      ]
     },
     "metadata": {},
     "output_type": "display_data"
    }
   ],
   "source": [
    "# Собираем данные в одном датафрейме\n",
    "\n",
    "mergedCumulativeConversions = (cumulativeDataA[['date','conversion']].\n",
    "                               merge(cumulativeDataB[['date','conversion']], \n",
    "                                     left_on='date', right_on='date', how='left', suffixes=['A', 'B'])\n",
    "                                )\n",
    "\n",
    "plt.figure(figsize=(15, 5))\n",
    "\n",
    "plt.plot(mergedCumulativeConversions['date'], mergedCumulativeConversions['conversionB']\n",
    "         /mergedCumulativeConversions['conversionA']-1)\n",
    "\n",
    "plt.axhline(y=0, color='black', linestyle='--')\n",
    "plt.axhline(y=0.158, color='grey', linestyle='--')\n",
    "\n",
    "plt.xlabel('Дата', fontsize=10)\n",
    "plt.title('Относительное изменение кумулятивного среднего количества заказов на посетителя группы B к группе A' + \"\\n\", fontsize=15)\n",
    "plt.show();"
   ]
  },
  {
   "cell_type": "markdown",
   "metadata": {},
   "source": [
    "Относительное изменение кумулятивного среднего количества заказов на одного поьзователя в группе B больше на 15.8%. Для более полного понимания картины построим точечный график количества заказов по пользоватлелям. Возможно, на это влияет определённая доля выбросов."
   ]
  },
  {
   "cell_type": "markdown",
   "metadata": {},
   "source": [
    "#### 6. Построим точечный график количества заказов по пользователям"
   ]
  },
  {
   "cell_type": "code",
   "execution_count": 59,
   "metadata": {},
   "outputs": [
    {
     "data": {
      "text/html": [
       "<div>\n",
       "<style scoped>\n",
       "    .dataframe tbody tr th:only-of-type {\n",
       "        vertical-align: middle;\n",
       "    }\n",
       "\n",
       "    .dataframe tbody tr th {\n",
       "        vertical-align: top;\n",
       "    }\n",
       "\n",
       "    .dataframe thead th {\n",
       "        text-align: right;\n",
       "    }\n",
       "</style>\n",
       "<table border=\"1\" class=\"dataframe\">\n",
       "  <thead>\n",
       "    <tr style=\"text-align: right;\">\n",
       "      <th></th>\n",
       "      <th>visitorId</th>\n",
       "      <th>orders</th>\n",
       "    </tr>\n",
       "  </thead>\n",
       "  <tbody>\n",
       "    <tr>\n",
       "      <th>631</th>\n",
       "      <td>2742574263</td>\n",
       "      <td>3</td>\n",
       "    </tr>\n",
       "    <tr>\n",
       "      <th>138</th>\n",
       "      <td>611059232</td>\n",
       "      <td>3</td>\n",
       "    </tr>\n",
       "    <tr>\n",
       "      <th>686</th>\n",
       "      <td>2988190573</td>\n",
       "      <td>3</td>\n",
       "    </tr>\n",
       "    <tr>\n",
       "      <th>477</th>\n",
       "      <td>2108163459</td>\n",
       "      <td>3</td>\n",
       "    </tr>\n",
       "    <tr>\n",
       "      <th>55</th>\n",
       "      <td>249864742</td>\n",
       "      <td>3</td>\n",
       "    </tr>\n",
       "    <tr>\n",
       "      <th>889</th>\n",
       "      <td>3908431265</td>\n",
       "      <td>3</td>\n",
       "    </tr>\n",
       "    <tr>\n",
       "      <th>907</th>\n",
       "      <td>3967698036</td>\n",
       "      <td>3</td>\n",
       "    </tr>\n",
       "    <tr>\n",
       "      <th>323</th>\n",
       "      <td>1404560065</td>\n",
       "      <td>2</td>\n",
       "    </tr>\n",
       "    <tr>\n",
       "      <th>157</th>\n",
       "      <td>678354126</td>\n",
       "      <td>2</td>\n",
       "    </tr>\n",
       "    <tr>\n",
       "      <th>633</th>\n",
       "      <td>2744017357</td>\n",
       "      <td>2</td>\n",
       "    </tr>\n",
       "  </tbody>\n",
       "</table>\n",
       "</div>"
      ],
      "text/plain": [
       "      visitorId  orders\n",
       "631  2742574263  3     \n",
       "138  611059232   3     \n",
       "686  2988190573  3     \n",
       "477  2108163459  3     \n",
       "55   249864742   3     \n",
       "889  3908431265  3     \n",
       "907  3967698036  3     \n",
       "323  1404560065  2     \n",
       "157  678354126   2     \n",
       "633  2744017357  2     "
      ]
     },
     "execution_count": 59,
     "metadata": {},
     "output_type": "execute_result"
    }
   ],
   "source": [
    "# Анализ количества заказов\n",
    "\n",
    "ordersByUsers = (\n",
    "    orders.groupby('visitorId', as_index=False)\n",
    "    .agg({'transactionId': 'nunique'})\n",
    ")\n",
    "\n",
    "ordersByUsers.columns = ['visitorId', 'orders']\n",
    "\n",
    "ordersByUsers.sort_values(by='orders', ascending=False).head(10)"
   ]
  },
  {
   "cell_type": "code",
   "execution_count": 60,
   "metadata": {},
   "outputs": [
    {
     "data": {
      "image/png": "[encoded data removed]",
      "text/plain": [
       "<Figure size 1500x500 with 1 Axes>"
      ]
     },
     "metadata": {},
     "output_type": "display_data"
    }
   ],
   "source": [
    "# Точечный график количества заказов на пользователя\n",
    "\n",
    "plt.figure(figsize=(15, 5))\n",
    "\n",
    "x_values = pd.Series(range(0,len(ordersByUsers)))\n",
    "plt.scatter(x_values, ordersByUsers['orders'])\n",
    "\n",
    "plt.xlabel('Пользователь', fontsize=10)\n",
    "plt.ylabel('Заказы, кол-во', fontsize=10)\n",
    "plt.title('Количество заказов по пользователям' + \"\\n\", fontsize=17)\n",
    "plt.show();"
   ]
  },
  {
   "cell_type": "markdown",
   "metadata": {},
   "source": [
    "Точечный график даёт чёткое представление, что есть определённая доля выбросов, их точное число даст нам более ясную картину. Для этого нам поможет расчёт перцентилей."
   ]
  },
  {
   "cell_type": "markdown",
   "metadata": {},
   "source": [
    "#### 7. Посчитаем 95-й и 99-й перцентили количества заказов на пользователя"
   ]
  },
  {
   "cell_type": "code",
   "execution_count": 61,
   "metadata": {},
   "outputs": [
    {
     "data": {
      "text/plain": [
       "array([1., 2.])"
      ]
     },
     "execution_count": 61,
     "metadata": {},
     "output_type": "execute_result"
    }
   ],
   "source": [
    "np.percentile(ordersByUsers['orders'], [95, 99])"
   ]
  },
  {
   "cell_type": "markdown",
   "metadata": {},
   "source": [
    "Менее 5% всех заказов состоят из более чем одного заказа. Менее 1% всех заказов состоят из более чем 2-х заказов. Выбросами будем считать более 2 заказа на пользователя."
   ]
  },
  {
   "cell_type": "markdown",
   "metadata": {},
   "source": [
    "#### 8. Построим точечный график стоимостей заказов"
   ]
  },
  {
   "cell_type": "code",
   "execution_count": 62,
   "metadata": {},
   "outputs": [
    {
     "data": {
      "image/png": "[encoded data removed]",
      "text/plain": [
       "<Figure size 1500x500 with 1 Axes>"
      ]
     },
     "metadata": {},
     "output_type": "display_data"
    }
   ],
   "source": [
    "# Точечный график стоимости заказов\n",
    "\n",
    "plt.figure(figsize=(15, 5))\n",
    "\n",
    "x_values = pd.Series(range(0,len(orders['revenue'])))\n",
    "plt.scatter(x_values, orders['revenue'])\n",
    "\n",
    "plt.xlabel('Заказ', fontsize=10)\n",
    "plt.ylabel('Стоимость', fontsize=10)\n",
    "plt.title('Стоимость заказа' + \"\\n\", fontsize=17)\n",
    "plt.show();"
   ]
  },
  {
   "cell_type": "markdown",
   "metadata": {},
   "source": [
    "Явно наблюдаются заказы с высокой стоимостью, что естественным образом будут влиять на результат анализа. Рассчитаем какую стоимость заказов составляют 5% и 1% всех заказов."
   ]
  },
  {
   "cell_type": "markdown",
   "metadata": {},
   "source": [
    "#### 9. Посчитаем 95-й и 99-й перцентили стоимости заказов"
   ]
  },
  {
   "cell_type": "code",
   "execution_count": 63,
   "metadata": {},
   "outputs": [
    {
     "data": {
      "text/plain": [
       "array([26550.  , 53763.44])"
      ]
     },
     "execution_count": 63,
     "metadata": {},
     "output_type": "execute_result"
    }
   ],
   "source": [
    "np.percentile(orders['revenue'], [95, 99])"
   ]
  },
  {
   "cell_type": "markdown",
   "metadata": {},
   "source": [
    "Менее 5% всех заказов стоят дороже 26500 и 1% всех заказов стоит более 53763. Выбросами будем считать заказы со стоимостью более 53763.44."
   ]
  },
  {
   "cell_type": "markdown",
   "metadata": {},
   "source": [
    "#### 10. Посчитаем статистическую значимость различий в среднем количестве заказов на посетителя между группами по «сырым» данным."
   ]
  },
  {
   "cell_type": "markdown",
   "metadata": {},
   "source": [
    "Т.к. значительное число аномальных значений в группах существенно влияют на результат с использованием параметров, для расчёта статистической значимости будем использовать непараметрический критерий Манна-Уитни."
   ]
  },
  {
   "cell_type": "markdown",
   "metadata": {},
   "source": [
    "- Сформулируем нулевую гипотезу: \"Различий в среднем количестве заказов на посетителя между группами по \"сырым\" данным нет\".  \n",
    "- Альтернативная гипотеза: \"Среднии количеств заказов на посетителя между группами по \"сырым\" данным отличаются\".  \n",
    "- Уровень статистической значимости примем равным 0,05."
   ]
  },
  {
   "cell_type": "markdown",
   "metadata": {},
   "source": [
    "Чтобы рассчитать статистическую значимость различий в среднем количестве заказов, передадим критерию Манна-Уитни данные о заказах по группам."
   ]
  },
  {
   "cell_type": "code",
   "execution_count": 64,
   "metadata": {},
   "outputs": [
    {
     "name": "stdout",
     "output_type": "stream",
     "text": [
      "p-value: 0.012\n",
      "относительное различие групп A и B: 0.158\n"
     ]
    }
   ],
   "source": [
    "# Список с количеством заказов для каждого из пользователей группы A\n",
    "ordersByUsersA = (\n",
    "    orders[orders['group'] == 'A']\n",
    "    .groupby('visitorId', as_index=False)\n",
    "    .agg({'transactionId': pd.Series.nunique})\n",
    ")\n",
    "ordersByUsersA.columns = ['visitorId', 'orders']\n",
    "\n",
    "# Список с количеством заказов для каждого из пользователей группы В\n",
    "ordersByUsersB = (\n",
    "    orders[orders['group'] == 'B']\n",
    "    .groupby('visitorId', as_index=False)\n",
    "    .agg({'transactionId': pd.Series.nunique})\n",
    ")\n",
    "ordersByUsersB.columns = ['visitorId', 'orders']\n",
    "\n",
    "\n",
    "# Объявим переменные `sampleA` и `sampleB`, в которых пользователям из разных групп будет соответствовать количество заказов. \n",
    "# Тем, кто ничего не заказал, будут соответствовать нули.\n",
    "sampleA = pd.concat(\n",
    "    [\n",
    "        ordersByUsersA['orders'],\n",
    "        pd.Series(\n",
    "            0,\n",
    "            index=np.arange(\n",
    "                cumulativeData.query('group == \"A\"')['visitors'].max() - len(ordersByUsersA['orders'])\n",
    "            ),\n",
    "            name='orders',\n",
    "        ),\n",
    "    ],\n",
    "    axis=0,\n",
    ")\n",
    "\n",
    "sampleB = pd.concat(\n",
    "    [\n",
    "        ordersByUsersB['orders'],\n",
    "        pd.Series(\n",
    "            0,\n",
    "            index=np.arange(\n",
    "                cumulativeData.query('group == \"B\"')['visitors'].max() - len(ordersByUsersB['orders'])\n",
    "            ),\n",
    "            name='orders',\n",
    "        ),\n",
    "    ],\n",
    "    axis=0,\n",
    ")\n",
    "\n",
    "# Применим статистический критерий Манна-Уитни к полученным группам и рассчитаем p-value\n",
    "pv_rawoders = \"{0:.3f}\".format(st.mannwhitneyu(sampleA, sampleB)[1])\n",
    "\n",
    "# относительное различие групп A и B\n",
    "diff_rawoders = \"{0:.3f}\".format(sampleB.mean() / sampleA.mean() - 1)\n",
    "\n",
    "print(f'p-value: {pv_rawoders}')\n",
    "print(f'относительное различие групп A и B: {diff_rawoders}')"
   ]
  },
  {
   "cell_type": "markdown",
   "metadata": {},
   "source": [
    "- p-value критерия Манна-Уитни оказался меньше уровня статистической значимости.  \n",
    "- Нулевая гипотеза о том, что различий в среднем количестве заказов между группами по \"сырым\" данным нет - не подтвердилась.\n",
    "- относительный выигрыш группы В составляет 15,8%\n",
    "\n",
    "Это подкрепляется графиками кумулятивного среднего количества заказов на посетителя по группам. Т.е. по сырым данным мы видим, что количество заказов в группах отличаются."
   ]
  },
  {
   "cell_type": "markdown",
   "metadata": {},
   "source": [
    "#### 11. Посчитаем статистическую значимость различий в среднем чеке заказа между группами по «сырым» данным."
   ]
  },
  {
   "cell_type": "markdown",
   "metadata": {},
   "source": [
    "- Сформулируем нулевую гипотезу: \"Различий в среднем чеке заказа между группами по 'сырым' данным нет\".  \n",
    "- Альтернативная гипотеза: \"Средний чек заказа между группами по 'сырым' данным отличается\".  \n",
    "- Уровень статистической значимости примем равным 0,05."
   ]
  },
  {
   "cell_type": "code",
   "execution_count": 65,
   "metadata": {},
   "outputs": [
    {
     "name": "stdout",
     "output_type": "stream",
     "text": [
      "p-value: 0.790\n",
      "относительное различие групп A и B: -0.040\n"
     ]
    }
   ],
   "source": [
    "# Применим статистический критерий Манна-Уитни к полученным группам и рассчитаем p-value\n",
    "pv_rawcheck = '{0:.3f}'.format(st.mannwhitneyu(orders[orders['group']=='A']['revenue'], orders[orders['group']=='B']['revenue'])[1])\n",
    "\n",
    "# относительное различие группы A и B\n",
    "diff_rawcheck = \"{0:.3f}\".format((orders[orders['group']=='B']['revenue']).mean() / (orders[orders['group']=='A']['revenue']).mean() - 1)\n",
    "\n",
    "\n",
    "print(f'p-value: {pv_rawcheck}')\n",
    "print(f'относительное различие групп A и B: {diff_rawcheck}')"
   ]
  },
  {
   "cell_type": "markdown",
   "metadata": {},
   "source": [
    "- p-value критерия Манна-Уитни оказался намного больше уровня статистической значимости.  \n",
    "- Нулевую гипотеза о том, что различий в среднем чеке заказа между группами по 'сырым' данным нет - опровергнуть не удалось.\n",
    "- относительный выигрыш группы A составляет 4%\n",
    "\n",
    "Результат по сырым данным показывает, что средний чек заказа в группах не отличается. Это также согласуется с данными из графиков по изменению кумулятивного среднего чека, где небольшая разница практически несущественна."
   ]
  },
  {
   "cell_type": "markdown",
   "metadata": {},
   "source": [
    "#### 12. Посчитаем статистическую значимость различий в среднем количестве заказов на посетителя между группами по «очищенным» данным."
   ]
  },
  {
   "cell_type": "markdown",
   "metadata": {},
   "source": [
    "- Сформулируем нулевую гипотезу: \"Различий в среднем количестве заказов на посетителя между группами по \"очищенным\" данным нет\".  \n",
    "- Альтернативная гипотеза: \"Среднии количеств заказов на посетителя между группами по \"очищенным\" данным отличаются\".  \n",
    "- Уровень статистической значимости примем равным 0,05."
   ]
  },
  {
   "cell_type": "markdown",
   "metadata": {},
   "source": [
    "Выявим т.н. аномальных пользователей с числом заказов более 2 на пользователя и стоимостью заказа более 53763.44 на пользователя."
   ]
  },
  {
   "cell_type": "code",
   "execution_count": 66,
   "metadata": {},
   "outputs": [
    {
     "data": {
      "text/plain": [
       "'Пользователей с аномальными данными: 18'"
      ]
     },
     "execution_count": 66,
     "metadata": {},
     "output_type": "execute_result"
    }
   ],
   "source": [
    "usersWithManyOrders = pd.concat(\n",
    "    [\n",
    "        ordersByUsersA[ordersByUsersA['orders'] > np.percentile(ordersByUsers['orders'], 99)]['visitorId'],\n",
    "        ordersByUsersB[ordersByUsersB['orders'] > np.percentile(ordersByUsers['orders'], 99)]['visitorId'],\n",
    "    ],\n",
    "    axis=0,\n",
    ")\n",
    "usersWithExpensiveOrders = orders[orders['revenue'] > np.percentile(orders['revenue'], 99)]['visitorId']\n",
    "abnormalUsers = (\n",
    "    pd.concat([usersWithManyOrders, usersWithExpensiveOrders], axis=0)\n",
    "    .drop_duplicates()\n",
    "    .sort_values()\n",
    ")\n",
    "\n",
    "f'Пользователей с аномальными данными: {abnormalUsers.shape[0]}'"
   ]
  },
  {
   "cell_type": "markdown",
   "metadata": {},
   "source": [
    "После отбора пользователей с аномальными данными у нас останется 954 пользователя"
   ]
  },
  {
   "cell_type": "markdown",
   "metadata": {},
   "source": [
    "Объявим переменные `sampleAFiltered` и `sampleAFiltered`, в которых пользователям из разных групп будет соответствовать количество заказов на основе отфильтрованных данных. Тем, кто ничего не заказал, будут соответствовать нули."
   ]
  },
  {
   "cell_type": "code",
   "execution_count": 67,
   "metadata": {},
   "outputs": [
    {
     "name": "stdout",
     "output_type": "stream",
     "text": [
      "p-value: 0.006\n",
      "относительное различие групп A и B: 0.192\n"
     ]
    }
   ],
   "source": [
    "sampleAFiltered = pd.concat(\n",
    "    [\n",
    "        ordersByUsersA[\n",
    "            np.logical_not(ordersByUsersA['visitorId'].isin(abnormalUsers))\n",
    "        ]['orders'],\n",
    "        pd.Series(\n",
    "            0,\n",
    "            index=np.arange(\n",
    "                cumulativeData.query('group == \"A\"')['visitors'].max() - len(ordersByUsersA['orders'])\n",
    "            ),\n",
    "            name='orders',\n",
    "        ),\n",
    "    ],\n",
    "    axis=0,\n",
    ")\n",
    "\n",
    "sampleBFiltered = pd.concat(\n",
    "    [\n",
    "        ordersByUsersB[\n",
    "            np.logical_not(ordersByUsersB['visitorId'].isin(abnormalUsers))\n",
    "        ]['orders'],\n",
    "        pd.Series(\n",
    "            0,\n",
    "            index=np.arange(\n",
    "                cumulativeData.query('group == \"B\"')['visitors'].max() - len(ordersByUsersB['orders'])\n",
    "            ),\n",
    "            name='orders',\n",
    "        ),\n",
    "    ],\n",
    "    axis=0,\n",
    ")\n",
    "\n",
    "# применим статистический критерий Манна-Уитни к полученным выборкам и рассчитаем p-value\n",
    "pv_cl_orders = \"{0:.3f}\".format(st.mannwhitneyu(sampleAFiltered, sampleBFiltered)[1])\n",
    "\n",
    "# относительное различие группы A и B\n",
    "diff_cl_orders = \"{0:.3f}\".format(sampleBFiltered.mean() / sampleAFiltered.mean() - 1)\n",
    "\n",
    "print(f'p-value: {pv_cl_orders}')\n",
    "print(f'относительное различие групп A и B: {diff_cl_orders}')"
   ]
  },
  {
   "cell_type": "markdown",
   "metadata": {},
   "source": [
    "- p-value критерия Манна-Уитни оказался значительно меньше уровня статистической значимости.  \n",
    "- Нулевая гипотеза о том, что различий в среднем количестве заказов между группами по \"очищенным\" данным нет - не подтвердилась.\n",
    "- относительный выигрыш группы В составляет 19,2%, что больше, чем по \"сырым данным\"\n",
    "\n",
    "Этот результат согласуется с сырыми данными и подтверждает, что среднее количество заказов в двух группах различаются."
   ]
  },
  {
   "cell_type": "markdown",
   "metadata": {},
   "source": [
    "#### 13. Посчитаем статистическую значимость различий в среднем чеке заказа между группами по «очищенным» данным. "
   ]
  },
  {
   "cell_type": "markdown",
   "metadata": {},
   "source": [
    "- Сформулируем нулевую гипотезу: \"Различий в среднем чеке заказа между группами по 'очищенным' данным нет\".  \n",
    "- Альтернативная гипотеза: \"Средний чек заказа между группами по 'очищенным' данным отличается\".  \n",
    "- Уровень статистической значимости примем равным 0,05."
   ]
  },
  {
   "cell_type": "code",
   "execution_count": 68,
   "metadata": {},
   "outputs": [
    {
     "name": "stdout",
     "output_type": "stream",
     "text": [
      "p-value: 0.842\n",
      "относительное различие групп A и B: -0.014\n"
     ]
    }
   ],
   "source": [
    "# рассчитываем p-value\n",
    "pv_cl_check = (\n",
    "    '{0:.3f}'.format(\n",
    "        st.mannwhitneyu(\n",
    "            orders[\n",
    "                np.logical_and(\n",
    "                    orders['group'] == 'A',\n",
    "                    np.logical_not(orders['visitorId'].isin(abnormalUsers)),\n",
    "                )\n",
    "            ]['revenue'],\n",
    "            orders[\n",
    "                np.logical_and(\n",
    "                    orders['group'] == 'B',\n",
    "                    np.logical_not(orders['visitorId'].isin(abnormalUsers)),\n",
    "                )\n",
    "            ]['revenue'],\n",
    "        )[1]\n",
    "    )\n",
    ")\n",
    "\n",
    "# относительное различие группы A и B\n",
    "diff_cl_check = (\n",
    "    \"{0:.3f}\".format((orders[\n",
    "                np.logical_and(\n",
    "                    orders['group'] == 'B',\n",
    "                    np.logical_not(orders['visitorId'].isin(abnormalUsers)),\n",
    "                )\n",
    "            ]['revenue']).mean() / (orders[\n",
    "                np.logical_and(\n",
    "                    orders['group'] == 'A',\n",
    "                    np.logical_not(orders['visitorId'].isin(abnormalUsers)),\n",
    "                )\n",
    "            ]['revenue']).mean() - 1)\n",
    "    \n",
    "\n",
    ")\n",
    "\n",
    "print(f'p-value: {pv_cl_check}')\n",
    "print(f'относительное различие групп A и B: {diff_cl_check}')\n"
   ]
  },
  {
   "cell_type": "markdown",
   "metadata": {},
   "source": [
    "- p-value критерия Манна-Уитни оказался намного больше уровня статистической значимости.  \n",
    "- Нулевую гипотеза о том, что различий в среднем чеке заказа между группами по 'очищенным' данным нет - опровергнуть не удалось.\n",
    "- относительный выигрыш группы A составил 1.4%  \n",
    "Относительная значимость различий в среднем чеке в группе А незначительно превосходит показатель группы В."
   ]
  },
  {
   "cell_type": "markdown",
   "metadata": {},
   "source": [
    "#### 14. Принятие решения по результатам теста"
   ]
  },
  {
   "cell_type": "markdown",
   "metadata": {},
   "source": [
    "Принято решение остановить тест и зафиксировать победу группы В.  \n",
    "В результате теста длиною в месяц, выручка группы В оказалась существенно больше выручки группы А. Также, анализ показал, что конверсия в B больше, несмотря на то, что средний чек в сырых данных обеих группах был одинаковый. Но после очистки данных мы видим, что кроме остальных метрик средний чек в группе В также немного увеличился. Это говорит, что число заказов, как и выручка с каждого заказа в группе В имеют тенденцию к росту. Статистические тесты на различие основных метрик также не выявили противоречий в исходе анализа.\n"
   ]
  },
  {
   "cell_type": "markdown",
   "metadata": {},
   "source": [
    "### Общий вывод"
   ]
  },
  {
   "cell_type": "markdown",
   "metadata": {},
   "source": [
    "\n",
    "В результате предварительного анализа данных были внесены необходимые коррективы. Названия колонок в таблице с гипотезами были приведены к нижнему регистру, а типы данных в колонках с датами успешно преобразованы в формат datetime. В процессе предобработки, также выявлена аномально высокая цена одного заказа, которая была устранена. Отметим, что в данных не обнаружено пропусков и дубликатов. Девять гипотез, требующих приоритизации, выделены для последующего анализа. Параметры reach, impact и efforts, используемые для расчета приоритета, оцениваются по шкале от 1 до 10, в то время как параметр confidence имеет диапазон оценок от 1 до 9. Для проведения теста пользователи были разделены на две группы: A и B.  Важно отметить, что общее количество уникальных пользователей составляет 972. Дата проведения теста с 2019-08-01 по 2019-08-31. Стоит отметить ещё одну важную особенность поступивших данных. 5.6% пользователей оказалось присутствующими в обеих группах А/В-теста, что недопустимо. Ввиду этого, в целях проведения достоверного анализа мы удалили данных пользователей. Также было выявлено превышение числа пользователей в группе В на 18,4%, что является высоким показателем, т.к. допустимая граница составляет не более 1%. Их удаление не представлялось возможным, поэтому результаты анализа будут искажены.\n",
    "\n",
    "В первой части исследования мы провели приоритизацию гипотез. Согласно методу ICE, наиболее перспективными оказываются гипотезы с номерами 8, 0, 7 и 6. В этом случае, гипотеза \"Запустить акцию, дающую скидку на товар в день рождения\" занимает лидирующую позицию, исходя из высоких значений параметров impact, confidence и efforts. Однако, при использовании метода RICE, приоритет изменяется. Самыми перспективными становятся гипотезы с номерами 7, 2, 0 и 6. Здесь основной вклад в приоритизацию вносит параметр reach, который показывает, насколько широкий охват пользователей затронут предлагаемыми изменениями. Таким образом, гипотеза \"Добавить форму подписки на все основные страницы, чтобы собрать базу клиентов для email-рассылок\" становится лидером приоритета благодаря максимальному значению параметра reach, равному 10. Этот аспект метода RICE учитывает важность охвата изменений для пользователей и делает данную гипотезу более перспективной по сравнению с другими.\n",
    "\n",
    "Далее был проведён анализ А/В-теста. Исследование выручки двух групп выявило существенное увеличение показателя для группы В. Также, число заказов в группе B значительно больше. Единственное. что сближает две группы - это средний чек заказа. Это хорошо прослеживается на построенных графиках. Чтобы подтвердить результаты, нам необходимо было избавиться от данных. которые своими высокими показателями могли исказить наши выводы. Таким образом, мы провели дополнительные расчёты между т.н. \"сырыми\" и \"очищенными\" данными. Для исключения из расчётов аномальных значений был произведен расчёт перцентилей количества заказов и стоимости заказов. Верхней границей параметров был выбран 99-й перцентиль. Количество заказов мы ограничили 2, а стоимость ограничили 53763.44. В целях подтверждения результатов анализа мы сформулировали ряд гипотез и проверили их с приемлемым уровнем статистической значимости равным 0,05. Получили следующие результаты:\n",
    "- гипотеза о том, что различий в среднем количестве заказов между группами по \"сырым\" данным нет - не подтвердилась;\n",
    "- гипотеза о том, что различий в среднем чеке заказа между группами по 'сырым' данным нет - опровергнуть не удалось;\n",
    "- гипотеза о том, что различий в среднем количестве заказов между группами по \"очищенным\" данным нет - не подтвердилась;\n",
    "- гипотеза о том, что различий в среднем чеке заказа между группами по 'очищенным' данным нет - опровергнуть не удалось.  \n",
    "\n",
    "По результатам теста принято решение остановить тест и зафиксировать результат в виде увеличения за 1 месяц выручки группы В, а также увеличении конверсии данной группы по сравнению с группой А."
   ]
  }
 ],
 "metadata": {
  "ExecuteTimeLog": [
   {
    "duration": 1217,
    "start_time": "2023-12-16T14:29:21.595Z"
   },
   {
    "duration": 187,
    "start_time": "2023-12-16T14:29:22.814Z"
   },
   {
    "duration": 47,
    "start_time": "2023-12-16T14:29:23.002Z"
   },
   {
    "duration": 10,
    "start_time": "2023-12-16T14:29:23.051Z"
   },
   {
    "duration": 26,
    "start_time": "2023-12-16T14:29:23.062Z"
   },
   {
    "duration": 21,
    "start_time": "2023-12-16T14:29:23.090Z"
   },
   {
    "duration": 32,
    "start_time": "2023-12-16T14:29:23.112Z"
   },
   {
    "duration": 32,
    "start_time": "2023-12-16T14:29:23.146Z"
   },
   {
    "duration": 11,
    "start_time": "2023-12-16T14:29:23.180Z"
   },
   {
    "duration": 36,
    "start_time": "2023-12-16T14:29:23.193Z"
   },
   {
    "duration": 17,
    "start_time": "2023-12-16T14:29:23.230Z"
   },
   {
    "duration": 8,
    "start_time": "2023-12-16T14:29:23.248Z"
   },
   {
    "duration": 25,
    "start_time": "2023-12-16T14:29:23.258Z"
   },
   {
    "duration": 22,
    "start_time": "2023-12-16T14:29:23.284Z"
   },
   {
    "duration": 25,
    "start_time": "2023-12-16T14:29:23.307Z"
   },
   {
    "duration": 28,
    "start_time": "2023-12-16T14:29:23.334Z"
   },
   {
    "duration": 177,
    "start_time": "2023-12-16T14:29:23.364Z"
   },
   {
    "duration": 127,
    "start_time": "2023-12-16T14:29:23.543Z"
   },
   {
    "duration": 13,
    "start_time": "2023-12-16T14:29:23.671Z"
   },
   {
    "duration": 294,
    "start_time": "2023-12-16T14:29:23.685Z"
   },
   {
    "duration": 4,
    "start_time": "2023-12-16T14:29:23.980Z"
   },
   {
    "duration": 221,
    "start_time": "2023-12-16T14:29:23.985Z"
   },
   {
    "duration": 379,
    "start_time": "2023-12-16T14:29:24.207Z"
   },
   {
    "duration": 243,
    "start_time": "2023-12-16T14:29:24.588Z"
   },
   {
    "duration": 349,
    "start_time": "2023-12-16T14:29:24.833Z"
   },
   {
    "duration": 11,
    "start_time": "2023-12-16T14:29:25.184Z"
   },
   {
    "duration": 165,
    "start_time": "2023-12-16T14:29:25.196Z"
   },
   {
    "duration": 6,
    "start_time": "2023-12-16T14:29:25.365Z"
   },
   {
    "duration": 183,
    "start_time": "2023-12-16T14:29:25.372Z"
   },
   {
    "duration": 5,
    "start_time": "2023-12-16T14:29:25.557Z"
   },
   {
    "duration": 205,
    "start_time": "2023-12-16T14:29:25.564Z"
   },
   {
    "duration": 15,
    "start_time": "2023-12-16T14:29:25.771Z"
   },
   {
    "duration": 11,
    "start_time": "2023-12-16T14:29:25.788Z"
   },
   {
    "duration": 69,
    "start_time": "2023-12-16T14:29:25.801Z"
   },
   {
    "duration": 15,
    "start_time": "2023-12-16T14:29:25.872Z"
   },
   {
    "duration": 46,
    "start_time": "2023-12-16T15:54:23.242Z"
   },
   {
    "duration": 1029,
    "start_time": "2023-12-16T15:54:43.585Z"
   },
   {
    "duration": 78,
    "start_time": "2023-12-16T15:54:44.616Z"
   },
   {
    "duration": 42,
    "start_time": "2023-12-16T15:54:44.695Z"
   },
   {
    "duration": 8,
    "start_time": "2023-12-16T15:54:44.740Z"
   },
   {
    "duration": 34,
    "start_time": "2023-12-16T15:54:44.750Z"
   },
   {
    "duration": 19,
    "start_time": "2023-12-16T15:54:44.786Z"
   },
   {
    "duration": 17,
    "start_time": "2023-12-16T15:54:44.806Z"
   },
   {
    "duration": 15,
    "start_time": "2023-12-16T15:54:44.824Z"
   },
   {
    "duration": 8,
    "start_time": "2023-12-16T15:54:44.840Z"
   },
   {
    "duration": 35,
    "start_time": "2023-12-16T15:54:44.851Z"
   },
   {
    "duration": 7,
    "start_time": "2023-12-16T15:54:44.887Z"
   },
   {
    "duration": 10,
    "start_time": "2023-12-16T15:54:44.896Z"
   },
   {
    "duration": 3,
    "start_time": "2023-12-16T15:54:44.907Z"
   },
   {
    "duration": 9,
    "start_time": "2023-12-16T15:54:44.912Z"
   },
   {
    "duration": 13,
    "start_time": "2023-12-16T15:54:44.923Z"
   },
   {
    "duration": 52,
    "start_time": "2023-12-16T15:54:44.938Z"
   },
   {
    "duration": 154,
    "start_time": "2023-12-16T15:54:44.991Z"
   },
   {
    "duration": 116,
    "start_time": "2023-12-16T15:54:45.146Z"
   },
   {
    "duration": 20,
    "start_time": "2023-12-16T15:54:45.264Z"
   },
   {
    "duration": 262,
    "start_time": "2023-12-16T15:54:45.286Z"
   },
   {
    "duration": 3,
    "start_time": "2023-12-16T15:54:45.550Z"
   },
   {
    "duration": 194,
    "start_time": "2023-12-16T15:54:45.554Z"
   },
   {
    "duration": 302,
    "start_time": "2023-12-16T15:54:45.750Z"
   },
   {
    "duration": 246,
    "start_time": "2023-12-16T15:54:46.053Z"
   },
   {
    "duration": 337,
    "start_time": "2023-12-16T15:54:46.301Z"
   },
   {
    "duration": 11,
    "start_time": "2023-12-16T15:54:46.640Z"
   },
   {
    "duration": 156,
    "start_time": "2023-12-16T15:54:46.652Z"
   },
   {
    "duration": 4,
    "start_time": "2023-12-16T15:54:46.811Z"
   },
   {
    "duration": 183,
    "start_time": "2023-12-16T15:54:46.817Z"
   },
   {
    "duration": 4,
    "start_time": "2023-12-16T15:54:47.002Z"
   },
   {
    "duration": 178,
    "start_time": "2023-12-16T15:54:47.007Z"
   },
   {
    "duration": 11,
    "start_time": "2023-12-16T15:54:47.187Z"
   },
   {
    "duration": 12,
    "start_time": "2023-12-16T15:54:47.200Z"
   },
   {
    "duration": 44,
    "start_time": "2023-12-16T15:54:47.213Z"
   },
   {
    "duration": 30,
    "start_time": "2023-12-16T15:54:47.258Z"
   },
   {
    "duration": 3,
    "start_time": "2023-12-16T15:55:54.612Z"
   },
   {
    "duration": 8,
    "start_time": "2023-12-16T16:00:13.048Z"
   },
   {
    "duration": 52,
    "start_time": "2023-12-16T16:01:10.933Z"
   },
   {
    "duration": 7,
    "start_time": "2023-12-16T16:01:26.365Z"
   },
   {
    "duration": 6,
    "start_time": "2023-12-16T16:01:33.238Z"
   },
   {
    "duration": 8,
    "start_time": "2023-12-16T16:01:51.297Z"
   },
   {
    "duration": 16,
    "start_time": "2023-12-16T16:02:49.535Z"
   },
   {
    "duration": 13,
    "start_time": "2023-12-16T16:09:59.594Z"
   },
   {
    "duration": 11,
    "start_time": "2023-12-16T16:10:22.079Z"
   },
   {
    "duration": 7,
    "start_time": "2023-12-16T16:11:04.609Z"
   },
   {
    "duration": 10,
    "start_time": "2023-12-16T16:13:13.958Z"
   },
   {
    "duration": 36,
    "start_time": "2023-12-16T16:19:17.970Z"
   },
   {
    "duration": 7,
    "start_time": "2023-12-16T16:19:27.506Z"
   },
   {
    "duration": 7,
    "start_time": "2023-12-16T16:20:16.627Z"
   },
   {
    "duration": 7,
    "start_time": "2023-12-16T16:21:13.920Z"
   },
   {
    "duration": 11,
    "start_time": "2023-12-16T16:22:03.188Z"
   },
   {
    "duration": 12,
    "start_time": "2023-12-16T16:22:18.106Z"
   },
   {
    "duration": 8,
    "start_time": "2023-12-16T16:25:12.702Z"
   },
   {
    "duration": 17,
    "start_time": "2023-12-16T16:26:46.551Z"
   },
   {
    "duration": 8,
    "start_time": "2023-12-16T16:27:31.611Z"
   },
   {
    "duration": 9,
    "start_time": "2023-12-16T16:30:15.299Z"
   },
   {
    "duration": 9,
    "start_time": "2023-12-16T16:31:19.250Z"
   },
   {
    "duration": 10,
    "start_time": "2023-12-16T16:37:53.231Z"
   },
   {
    "duration": 13,
    "start_time": "2023-12-16T16:46:22.357Z"
   },
   {
    "duration": 9,
    "start_time": "2023-12-16T16:46:31.551Z"
   },
   {
    "duration": 9,
    "start_time": "2023-12-16T17:54:54.096Z"
   },
   {
    "duration": 5,
    "start_time": "2023-12-16T17:56:36.478Z"
   },
   {
    "duration": 4,
    "start_time": "2023-12-16T17:57:33.619Z"
   },
   {
    "duration": 6,
    "start_time": "2023-12-16T18:16:54.165Z"
   },
   {
    "duration": 3,
    "start_time": "2023-12-16T18:19:35.930Z"
   },
   {
    "duration": 119,
    "start_time": "2023-12-16T18:22:22.001Z"
   },
   {
    "duration": 7,
    "start_time": "2023-12-16T18:23:17.563Z"
   },
   {
    "duration": 5,
    "start_time": "2023-12-16T18:23:25.694Z"
   },
   {
    "duration": 88,
    "start_time": "2023-12-16T18:24:34.281Z"
   },
   {
    "duration": 4,
    "start_time": "2023-12-16T18:24:58.441Z"
   },
   {
    "duration": 75,
    "start_time": "2023-12-16T18:25:32.852Z"
   },
   {
    "duration": 93,
    "start_time": "2023-12-16T18:25:49.680Z"
   },
   {
    "duration": 80,
    "start_time": "2023-12-16T18:26:06.599Z"
   },
   {
    "duration": 104,
    "start_time": "2023-12-16T18:26:13.866Z"
   },
   {
    "duration": 70,
    "start_time": "2023-12-16T18:26:46.625Z"
   },
   {
    "duration": 80,
    "start_time": "2023-12-16T18:27:17.795Z"
   },
   {
    "duration": 9,
    "start_time": "2023-12-16T18:30:49.644Z"
   },
   {
    "duration": 9,
    "start_time": "2023-12-16T18:35:54.823Z"
   },
   {
    "duration": 9,
    "start_time": "2023-12-16T18:37:01.325Z"
   },
   {
    "duration": 7,
    "start_time": "2023-12-16T18:39:34.174Z"
   },
   {
    "duration": 9,
    "start_time": "2023-12-16T18:47:13.690Z"
   },
   {
    "duration": 4,
    "start_time": "2023-12-16T18:48:24.710Z"
   },
   {
    "duration": 91,
    "start_time": "2023-12-16T18:48:24.716Z"
   },
   {
    "duration": 36,
    "start_time": "2023-12-16T18:48:24.809Z"
   },
   {
    "duration": 9,
    "start_time": "2023-12-16T18:48:24.847Z"
   },
   {
    "duration": 41,
    "start_time": "2023-12-16T18:48:24.857Z"
   },
   {
    "duration": 17,
    "start_time": "2023-12-16T18:48:24.899Z"
   },
   {
    "duration": 15,
    "start_time": "2023-12-16T18:48:24.918Z"
   },
   {
    "duration": 39,
    "start_time": "2023-12-16T18:48:24.934Z"
   },
   {
    "duration": 14,
    "start_time": "2023-12-16T18:48:24.975Z"
   },
   {
    "duration": 15,
    "start_time": "2023-12-16T18:48:24.991Z"
   },
   {
    "duration": 10,
    "start_time": "2023-12-16T18:48:25.008Z"
   },
   {
    "duration": 21,
    "start_time": "2023-12-16T18:48:25.020Z"
   },
   {
    "duration": 13,
    "start_time": "2023-12-16T18:48:25.043Z"
   },
   {
    "duration": 19,
    "start_time": "2023-12-16T18:48:25.058Z"
   },
   {
    "duration": 30,
    "start_time": "2023-12-16T18:48:25.079Z"
   },
   {
    "duration": 4,
    "start_time": "2023-12-16T18:48:25.111Z"
   },
   {
    "duration": 19,
    "start_time": "2023-12-16T18:48:25.116Z"
   },
   {
    "duration": 27,
    "start_time": "2023-12-16T18:48:25.136Z"
   },
   {
    "duration": 28,
    "start_time": "2023-12-16T18:48:25.164Z"
   },
   {
    "duration": 32,
    "start_time": "2023-12-16T18:48:25.194Z"
   },
   {
    "duration": 39,
    "start_time": "2023-12-16T18:48:25.228Z"
   },
   {
    "duration": 175,
    "start_time": "2023-12-16T18:48:25.269Z"
   },
   {
    "duration": 120,
    "start_time": "2023-12-16T18:48:25.446Z"
   },
   {
    "duration": 19,
    "start_time": "2023-12-16T18:48:25.569Z"
   },
   {
    "duration": 286,
    "start_time": "2023-12-16T18:48:25.589Z"
   },
   {
    "duration": 5,
    "start_time": "2023-12-16T18:48:25.877Z"
   },
   {
    "duration": 218,
    "start_time": "2023-12-16T18:48:25.884Z"
   },
   {
    "duration": 308,
    "start_time": "2023-12-16T18:48:26.103Z"
   },
   {
    "duration": 230,
    "start_time": "2023-12-16T18:48:26.413Z"
   },
   {
    "duration": 302,
    "start_time": "2023-12-16T18:48:26.645Z"
   },
   {
    "duration": 9,
    "start_time": "2023-12-16T18:48:26.949Z"
   },
   {
    "duration": 168,
    "start_time": "2023-12-16T18:48:26.959Z"
   },
   {
    "duration": 4,
    "start_time": "2023-12-16T18:48:27.128Z"
   },
   {
    "duration": 167,
    "start_time": "2023-12-16T18:48:27.133Z"
   },
   {
    "duration": 5,
    "start_time": "2023-12-16T18:48:27.301Z"
   },
   {
    "duration": 165,
    "start_time": "2023-12-16T18:48:27.307Z"
   },
   {
    "duration": 34,
    "start_time": "2023-12-16T18:48:27.474Z"
   },
   {
    "duration": 20,
    "start_time": "2023-12-16T18:48:27.510Z"
   },
   {
    "duration": 32,
    "start_time": "2023-12-16T18:48:27.531Z"
   },
   {
    "duration": 31,
    "start_time": "2023-12-16T18:48:27.564Z"
   },
   {
    "duration": 218,
    "start_time": "2023-12-16T19:07:29.176Z"
   },
   {
    "duration": 319,
    "start_time": "2023-12-16T19:10:32.047Z"
   },
   {
    "duration": 319,
    "start_time": "2023-12-16T19:11:49.746Z"
   },
   {
    "duration": 2,
    "start_time": "2023-12-16T19:15:06.207Z"
   },
   {
    "duration": 3,
    "start_time": "2023-12-16T19:15:12.767Z"
   },
   {
    "duration": 72,
    "start_time": "2023-12-16T19:26:31.996Z"
   },
   {
    "duration": 136,
    "start_time": "2023-12-16T19:38:42.103Z"
   },
   {
    "duration": 138,
    "start_time": "2023-12-16T19:39:23.114Z"
   },
   {
    "duration": 128,
    "start_time": "2023-12-16T19:40:03.642Z"
   },
   {
    "duration": 10,
    "start_time": "2023-12-16T19:43:24.160Z"
   },
   {
    "duration": 18,
    "start_time": "2023-12-16T19:52:45.979Z"
   },
   {
    "duration": 10,
    "start_time": "2023-12-16T19:53:06.348Z"
   },
   {
    "duration": 12,
    "start_time": "2023-12-16T19:54:48.839Z"
   },
   {
    "duration": 10,
    "start_time": "2023-12-16T19:54:52.105Z"
   },
   {
    "duration": 10,
    "start_time": "2023-12-16T19:55:25.946Z"
   },
   {
    "duration": 10,
    "start_time": "2023-12-16T19:55:26.766Z"
   },
   {
    "duration": 10,
    "start_time": "2023-12-16T19:55:35.650Z"
   },
   {
    "duration": 12,
    "start_time": "2023-12-16T19:58:39.856Z"
   },
   {
    "duration": 11,
    "start_time": "2023-12-16T19:58:53.314Z"
   },
   {
    "duration": 11,
    "start_time": "2023-12-16T19:59:08.092Z"
   },
   {
    "duration": 9,
    "start_time": "2023-12-16T19:59:13.514Z"
   },
   {
    "duration": 31,
    "start_time": "2023-12-16T20:02:42.926Z"
   },
   {
    "duration": 18,
    "start_time": "2023-12-16T20:04:35.879Z"
   },
   {
    "duration": 84,
    "start_time": "2023-12-16T20:12:34.435Z"
   },
   {
    "duration": 83,
    "start_time": "2023-12-16T20:52:35.237Z"
   },
   {
    "duration": 9,
    "start_time": "2023-12-16T20:57:33.646Z"
   },
   {
    "duration": 4,
    "start_time": "2023-12-16T20:58:53.812Z"
   },
   {
    "duration": 5,
    "start_time": "2023-12-16T20:59:04.135Z"
   },
   {
    "duration": 11,
    "start_time": "2023-12-16T20:59:58.290Z"
   },
   {
    "duration": 15,
    "start_time": "2023-12-16T21:00:23.850Z"
   },
   {
    "duration": 996,
    "start_time": "2023-12-16T21:03:51.735Z"
   },
   {
    "duration": 76,
    "start_time": "2023-12-16T21:03:52.733Z"
   },
   {
    "duration": 41,
    "start_time": "2023-12-16T21:03:52.811Z"
   },
   {
    "duration": 9,
    "start_time": "2023-12-16T21:03:52.853Z"
   },
   {
    "duration": 20,
    "start_time": "2023-12-16T21:03:52.864Z"
   },
   {
    "duration": 18,
    "start_time": "2023-12-16T21:03:52.886Z"
   },
   {
    "duration": 9,
    "start_time": "2023-12-16T21:03:52.906Z"
   },
   {
    "duration": 15,
    "start_time": "2023-12-16T21:03:52.916Z"
   },
   {
    "duration": 7,
    "start_time": "2023-12-16T21:03:52.933Z"
   },
   {
    "duration": 18,
    "start_time": "2023-12-16T21:03:52.941Z"
   },
   {
    "duration": 25,
    "start_time": "2023-12-16T21:03:52.960Z"
   },
   {
    "duration": 8,
    "start_time": "2023-12-16T21:03:52.987Z"
   },
   {
    "duration": 7,
    "start_time": "2023-12-16T21:03:52.996Z"
   },
   {
    "duration": 5,
    "start_time": "2023-12-16T21:03:53.006Z"
   },
   {
    "duration": 7,
    "start_time": "2023-12-16T21:03:53.013Z"
   },
   {
    "duration": 4,
    "start_time": "2023-12-16T21:03:53.022Z"
   },
   {
    "duration": 5,
    "start_time": "2023-12-16T21:03:53.027Z"
   },
   {
    "duration": 51,
    "start_time": "2023-12-16T21:03:53.034Z"
   },
   {
    "duration": 12,
    "start_time": "2023-12-16T21:03:53.087Z"
   },
   {
    "duration": 13,
    "start_time": "2023-12-16T21:03:53.100Z"
   },
   {
    "duration": 16,
    "start_time": "2023-12-16T21:03:53.115Z"
   },
   {
    "duration": 181,
    "start_time": "2023-12-16T21:03:53.133Z"
   },
   {
    "duration": 117,
    "start_time": "2023-12-16T21:03:53.316Z"
   },
   {
    "duration": 23,
    "start_time": "2023-12-16T21:03:53.434Z"
   },
   {
    "duration": 281,
    "start_time": "2023-12-16T21:03:53.458Z"
   },
   {
    "duration": 3,
    "start_time": "2023-12-16T21:03:53.741Z"
   },
   {
    "duration": 208,
    "start_time": "2023-12-16T21:03:53.745Z"
   },
   {
    "duration": 312,
    "start_time": "2023-12-16T21:03:53.954Z"
   },
   {
    "duration": 210,
    "start_time": "2023-12-16T21:03:54.268Z"
   },
   {
    "duration": 305,
    "start_time": "2023-12-16T21:03:54.479Z"
   },
   {
    "duration": 10,
    "start_time": "2023-12-16T21:03:54.786Z"
   },
   {
    "duration": 162,
    "start_time": "2023-12-16T21:03:54.798Z"
   },
   {
    "duration": 4,
    "start_time": "2023-12-16T21:03:54.961Z"
   },
   {
    "duration": 157,
    "start_time": "2023-12-16T21:03:54.966Z"
   },
   {
    "duration": 4,
    "start_time": "2023-12-16T21:03:55.125Z"
   },
   {
    "duration": 154,
    "start_time": "2023-12-16T21:03:55.130Z"
   },
   {
    "duration": 8,
    "start_time": "2023-12-16T21:03:55.286Z"
   },
   {
    "duration": 16,
    "start_time": "2023-12-16T21:03:55.295Z"
   },
   {
    "duration": 41,
    "start_time": "2023-12-16T21:03:55.312Z"
   },
   {
    "duration": 10,
    "start_time": "2023-12-16T21:03:55.355Z"
   },
   {
    "duration": 9,
    "start_time": "2023-12-16T21:09:41.037Z"
   },
   {
    "duration": 1096,
    "start_time": "2023-12-16T21:54:10.930Z"
   },
   {
    "duration": 198,
    "start_time": "2023-12-16T21:54:12.028Z"
   },
   {
    "duration": 41,
    "start_time": "2023-12-16T21:54:12.228Z"
   },
   {
    "duration": 9,
    "start_time": "2023-12-16T21:54:12.270Z"
   },
   {
    "duration": 21,
    "start_time": "2023-12-16T21:54:12.281Z"
   },
   {
    "duration": 18,
    "start_time": "2023-12-16T21:54:12.303Z"
   },
   {
    "duration": 8,
    "start_time": "2023-12-16T21:54:12.322Z"
   },
   {
    "duration": 14,
    "start_time": "2023-12-16T21:54:12.332Z"
   },
   {
    "duration": 19,
    "start_time": "2023-12-16T21:54:12.347Z"
   },
   {
    "duration": 10,
    "start_time": "2023-12-16T21:54:12.368Z"
   },
   {
    "duration": 23,
    "start_time": "2023-12-16T21:54:12.380Z"
   },
   {
    "duration": 5,
    "start_time": "2023-12-16T21:54:12.404Z"
   },
   {
    "duration": 10,
    "start_time": "2023-12-16T21:54:12.410Z"
   },
   {
    "duration": 7,
    "start_time": "2023-12-16T21:54:12.423Z"
   },
   {
    "duration": 6,
    "start_time": "2023-12-16T21:54:12.432Z"
   },
   {
    "duration": 3,
    "start_time": "2023-12-16T21:54:12.440Z"
   },
   {
    "duration": 6,
    "start_time": "2023-12-16T21:54:12.444Z"
   },
   {
    "duration": 11,
    "start_time": "2023-12-16T21:54:12.451Z"
   },
   {
    "duration": 39,
    "start_time": "2023-12-16T21:54:12.463Z"
   },
   {
    "duration": 11,
    "start_time": "2023-12-16T21:54:12.503Z"
   },
   {
    "duration": 10,
    "start_time": "2023-12-16T21:54:12.515Z"
   },
   {
    "duration": 8,
    "start_time": "2023-12-16T21:54:12.527Z"
   },
   {
    "duration": 164,
    "start_time": "2023-12-16T21:54:12.536Z"
   },
   {
    "duration": 119,
    "start_time": "2023-12-16T21:54:12.701Z"
   },
   {
    "duration": 10,
    "start_time": "2023-12-16T21:54:12.821Z"
   },
   {
    "duration": 270,
    "start_time": "2023-12-16T21:54:12.833Z"
   },
   {
    "duration": 3,
    "start_time": "2023-12-16T21:54:13.104Z"
   },
   {
    "duration": 193,
    "start_time": "2023-12-16T21:54:13.109Z"
   },
   {
    "duration": 334,
    "start_time": "2023-12-16T21:54:13.304Z"
   },
   {
    "duration": 201,
    "start_time": "2023-12-16T21:54:13.639Z"
   },
   {
    "duration": 264,
    "start_time": "2023-12-16T21:54:13.841Z"
   },
   {
    "duration": 10,
    "start_time": "2023-12-16T21:54:14.106Z"
   },
   {
    "duration": 153,
    "start_time": "2023-12-16T21:54:14.117Z"
   },
   {
    "duration": 5,
    "start_time": "2023-12-16T21:54:14.272Z"
   },
   {
    "duration": 167,
    "start_time": "2023-12-16T21:54:14.278Z"
   },
   {
    "duration": 6,
    "start_time": "2023-12-16T21:54:14.447Z"
   },
   {
    "duration": 172,
    "start_time": "2023-12-16T21:54:14.454Z"
   },
   {
    "duration": 9,
    "start_time": "2023-12-16T21:54:14.628Z"
   },
   {
    "duration": 9,
    "start_time": "2023-12-16T21:54:14.638Z"
   },
   {
    "duration": 29,
    "start_time": "2023-12-16T21:54:14.648Z"
   },
   {
    "duration": 12,
    "start_time": "2023-12-16T21:54:14.698Z"
   }
  ],
  "kernelspec": {
   "display_name": "Python 3 (ipykernel)",
   "language": "python",
   "name": "python3"
  },
  "language_info": {
   "codemirror_mode": {
    "name": "ipython",
    "version": 3
   },
   "file_extension": ".py",
   "mimetype": "text/x-python",
   "name": "python",
   "nbconvert_exporter": "python",
   "pygments_lexer": "ipython3",
   "version": "3.11.7"
  },
  "toc": {
   "base_numbering": 1,
   "nav_menu": {},
   "number_sections": true,
   "sideBar": true,
   "skip_h1_title": true,
   "title_cell": "Table of Contents",
   "title_sidebar": "Contents",
   "toc_cell": false,
   "toc_position": {},
   "toc_section_display": true,
   "toc_window_display": false
  }
 },
 "nbformat": 4,
 "nbformat_minor": 2
}
