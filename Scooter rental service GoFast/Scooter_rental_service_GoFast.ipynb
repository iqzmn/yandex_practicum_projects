{
 "cells": [
  {
   "cell_type": "markdown",
   "id": "c42cbe00",
   "metadata": {},
   "source": [
    "## Ⅰ. Загрузка данных"
   ]
  },
  {
   "cell_type": "code",
   "execution_count": 1,
   "id": "72576667",
   "metadata": {},
   "outputs": [],
   "source": [
    "# Загружаем необходимые библиотеки\n",
    "\n",
    "import pandas as pd\n",
    "import datetime as dt\n",
    "import matplotlib.pyplot as plt\n",
    "import numpy as np\n",
    "from scipy import stats as st"
   ]
  },
  {
   "cell_type": "markdown",
   "id": "75755f56",
   "metadata": {},
   "source": [
    "##### Считаем CSV-файлы с данными с помощью библиотеки pandas и сохраним их в датафреймы."
   ]
  },
  {
   "cell_type": "code",
   "execution_count": 2,
   "id": "eff9f206",
   "metadata": {
    "scrolled": true
   },
   "outputs": [],
   "source": [
    "#Загружаем данные\n",
    "\n",
    "users = pd.read_csv(\"/datasets/users_go.csv\")\n",
    "riders = pd.read_csv(\"/datasets/rides_go.csv\")\n",
    "subs = pd.read_csv(\"/datasets/subscriptions_go.csv\")"
   ]
  },
  {
   "cell_type": "markdown",
   "id": "2e73a35d",
   "metadata": {},
   "source": [
    "##### Изучим общую информацию о каждом датафрейме"
   ]
  },
  {
   "cell_type": "code",
   "execution_count": 3,
   "id": "b435b164",
   "metadata": {
    "scrolled": false
   },
   "outputs": [
    {
     "name": "stdout",
     "output_type": "stream",
     "text": [
      "++++++++++++++++++++ < USERS > +++++++++++++++++++++\n",
      "\n",
      "<class 'pandas.core.frame.DataFrame'>\n",
      "RangeIndex: 1565 entries, 0 to 1564\n",
      "Data columns (total 5 columns):\n",
      " #   Column             Non-Null Count  Dtype \n",
      "---  ------             --------------  ----- \n",
      " 0   user_id            1565 non-null   int64 \n",
      " 1   name               1565 non-null   object\n",
      " 2   age                1565 non-null   int64 \n",
      " 3   city               1565 non-null   object\n",
      " 4   subscription_type  1565 non-null   object\n",
      "dtypes: int64(2), object(3)\n",
      "memory usage: 61.3+ KB\n",
      "None\n"
     ]
    },
    {
     "data": {
      "text/html": [
       "<div>\n",
       "<style scoped>\n",
       "    .dataframe tbody tr th:only-of-type {\n",
       "        vertical-align: middle;\n",
       "    }\n",
       "\n",
       "    .dataframe tbody tr th {\n",
       "        vertical-align: top;\n",
       "    }\n",
       "\n",
       "    .dataframe thead th {\n",
       "        text-align: right;\n",
       "    }\n",
       "</style>\n",
       "<table border=\"1\" class=\"dataframe\">\n",
       "  <thead>\n",
       "    <tr style=\"text-align: right;\">\n",
       "      <th></th>\n",
       "      <th>user_id</th>\n",
       "      <th>name</th>\n",
       "      <th>age</th>\n",
       "      <th>city</th>\n",
       "      <th>subscription_type</th>\n",
       "    </tr>\n",
       "  </thead>\n",
       "  <tbody>\n",
       "    <tr>\n",
       "      <th>0</th>\n",
       "      <td>1</td>\n",
       "      <td>Кира</td>\n",
       "      <td>22</td>\n",
       "      <td>Тюмень</td>\n",
       "      <td>ultra</td>\n",
       "    </tr>\n",
       "    <tr>\n",
       "      <th>1</th>\n",
       "      <td>2</td>\n",
       "      <td>Станислав</td>\n",
       "      <td>31</td>\n",
       "      <td>Омск</td>\n",
       "      <td>ultra</td>\n",
       "    </tr>\n",
       "    <tr>\n",
       "      <th>2</th>\n",
       "      <td>3</td>\n",
       "      <td>Алексей</td>\n",
       "      <td>20</td>\n",
       "      <td>Москва</td>\n",
       "      <td>ultra</td>\n",
       "    </tr>\n",
       "    <tr>\n",
       "      <th>3</th>\n",
       "      <td>4</td>\n",
       "      <td>Константин</td>\n",
       "      <td>26</td>\n",
       "      <td>Ростов-на-Дону</td>\n",
       "      <td>ultra</td>\n",
       "    </tr>\n",
       "    <tr>\n",
       "      <th>4</th>\n",
       "      <td>5</td>\n",
       "      <td>Адель</td>\n",
       "      <td>28</td>\n",
       "      <td>Омск</td>\n",
       "      <td>ultra</td>\n",
       "    </tr>\n",
       "  </tbody>\n",
       "</table>\n",
       "</div>"
      ],
      "text/plain": [
       "   user_id        name  age            city subscription_type\n",
       "0        1        Кира   22          Тюмень             ultra\n",
       "1        2   Станислав   31            Омск             ultra\n",
       "2        3     Алексей   20          Москва             ultra\n",
       "3        4  Константин   26  Ростов-на-Дону             ultra\n",
       "4        5       Адель   28            Омск             ultra"
      ]
     },
     "metadata": {},
     "output_type": "display_data"
    },
    {
     "name": "stdout",
     "output_type": "stream",
     "text": [
      "\n",
      "++++++++++++++++++++ < RIDERS > +++++++++++++++++++++\n",
      "\n",
      "<class 'pandas.core.frame.DataFrame'>\n",
      "RangeIndex: 18068 entries, 0 to 18067\n",
      "Data columns (total 4 columns):\n",
      " #   Column    Non-Null Count  Dtype  \n",
      "---  ------    --------------  -----  \n",
      " 0   user_id   18068 non-null  int64  \n",
      " 1   distance  18068 non-null  float64\n",
      " 2   duration  18068 non-null  float64\n",
      " 3   date      18068 non-null  object \n",
      "dtypes: float64(2), int64(1), object(1)\n",
      "memory usage: 564.8+ KB\n",
      "None\n"
     ]
    },
    {
     "data": {
      "text/html": [
       "<div>\n",
       "<style scoped>\n",
       "    .dataframe tbody tr th:only-of-type {\n",
       "        vertical-align: middle;\n",
       "    }\n",
       "\n",
       "    .dataframe tbody tr th {\n",
       "        vertical-align: top;\n",
       "    }\n",
       "\n",
       "    .dataframe thead th {\n",
       "        text-align: right;\n",
       "    }\n",
       "</style>\n",
       "<table border=\"1\" class=\"dataframe\">\n",
       "  <thead>\n",
       "    <tr style=\"text-align: right;\">\n",
       "      <th></th>\n",
       "      <th>user_id</th>\n",
       "      <th>distance</th>\n",
       "      <th>duration</th>\n",
       "      <th>date</th>\n",
       "    </tr>\n",
       "  </thead>\n",
       "  <tbody>\n",
       "    <tr>\n",
       "      <th>0</th>\n",
       "      <td>1</td>\n",
       "      <td>4409.919140</td>\n",
       "      <td>25.599769</td>\n",
       "      <td>2021-01-01</td>\n",
       "    </tr>\n",
       "    <tr>\n",
       "      <th>1</th>\n",
       "      <td>1</td>\n",
       "      <td>2617.592153</td>\n",
       "      <td>15.816871</td>\n",
       "      <td>2021-01-18</td>\n",
       "    </tr>\n",
       "    <tr>\n",
       "      <th>2</th>\n",
       "      <td>1</td>\n",
       "      <td>754.159807</td>\n",
       "      <td>6.232113</td>\n",
       "      <td>2021-04-20</td>\n",
       "    </tr>\n",
       "    <tr>\n",
       "      <th>3</th>\n",
       "      <td>1</td>\n",
       "      <td>2694.783254</td>\n",
       "      <td>18.511000</td>\n",
       "      <td>2021-08-11</td>\n",
       "    </tr>\n",
       "    <tr>\n",
       "      <th>4</th>\n",
       "      <td>1</td>\n",
       "      <td>4028.687306</td>\n",
       "      <td>26.265803</td>\n",
       "      <td>2021-08-28</td>\n",
       "    </tr>\n",
       "  </tbody>\n",
       "</table>\n",
       "</div>"
      ],
      "text/plain": [
       "   user_id     distance   duration        date\n",
       "0        1  4409.919140  25.599769  2021-01-01\n",
       "1        1  2617.592153  15.816871  2021-01-18\n",
       "2        1   754.159807   6.232113  2021-04-20\n",
       "3        1  2694.783254  18.511000  2021-08-11\n",
       "4        1  4028.687306  26.265803  2021-08-28"
      ]
     },
     "metadata": {},
     "output_type": "display_data"
    },
    {
     "name": "stdout",
     "output_type": "stream",
     "text": [
      "\n",
      "++++++++++++++++++++ < SUBS > +++++++++++++++++++++\n",
      "\n",
      "<class 'pandas.core.frame.DataFrame'>\n",
      "RangeIndex: 2 entries, 0 to 1\n",
      "Data columns (total 4 columns):\n",
      " #   Column             Non-Null Count  Dtype \n",
      "---  ------             --------------  ----- \n",
      " 0   subscription_type  2 non-null      object\n",
      " 1   minute_price       2 non-null      int64 \n",
      " 2   start_ride_price   2 non-null      int64 \n",
      " 3   subscription_fee   2 non-null      int64 \n",
      "dtypes: int64(3), object(1)\n",
      "memory usage: 192.0+ bytes\n",
      "None\n"
     ]
    },
    {
     "data": {
      "text/html": [
       "<div>\n",
       "<style scoped>\n",
       "    .dataframe tbody tr th:only-of-type {\n",
       "        vertical-align: middle;\n",
       "    }\n",
       "\n",
       "    .dataframe tbody tr th {\n",
       "        vertical-align: top;\n",
       "    }\n",
       "\n",
       "    .dataframe thead th {\n",
       "        text-align: right;\n",
       "    }\n",
       "</style>\n",
       "<table border=\"1\" class=\"dataframe\">\n",
       "  <thead>\n",
       "    <tr style=\"text-align: right;\">\n",
       "      <th></th>\n",
       "      <th>subscription_type</th>\n",
       "      <th>minute_price</th>\n",
       "      <th>start_ride_price</th>\n",
       "      <th>subscription_fee</th>\n",
       "    </tr>\n",
       "  </thead>\n",
       "  <tbody>\n",
       "    <tr>\n",
       "      <th>0</th>\n",
       "      <td>free</td>\n",
       "      <td>8</td>\n",
       "      <td>50</td>\n",
       "      <td>0</td>\n",
       "    </tr>\n",
       "    <tr>\n",
       "      <th>1</th>\n",
       "      <td>ultra</td>\n",
       "      <td>6</td>\n",
       "      <td>0</td>\n",
       "      <td>199</td>\n",
       "    </tr>\n",
       "  </tbody>\n",
       "</table>\n",
       "</div>"
      ],
      "text/plain": [
       "  subscription_type  minute_price  start_ride_price  subscription_fee\n",
       "0              free             8                50                 0\n",
       "1             ultra             6                 0               199"
      ]
     },
     "metadata": {},
     "output_type": "display_data"
    },
    {
     "name": "stdout",
     "output_type": "stream",
     "text": [
      "\n"
     ]
    }
   ],
   "source": [
    "# Выводим основную информацию\n",
    "\n",
    "def data_info(name_dataset):\n",
    "    print(name_dataset.info())\n",
    "    display(name_dataset.head())\n",
    "\n",
    "nm = ['USERS', 'RIDERS', 'SUBS']\n",
    "i=0\n",
    "for ds in [users, riders, subs]:\n",
    "    print('++++++++++++++++++++ < {0} > +++++++++++++++++++++'.format(nm[i]))\n",
    "    i+=1\n",
    "    print()\n",
    "    data_info(ds)\n",
    "    print()"
   ]
  },
  {
   "cell_type": "markdown",
   "id": "93141973",
   "metadata": {},
   "source": [
    "**Вывод:**\n",
    "\n",
    "Загрузили данные о пользователях в переменную 'users', о поездках в переменную  'riders', о подписках в переменную 'subs'.  \n",
    "В данных о пользователях 1565 записей, 5 колонок.  \n",
    "В данных о поездках 18068 записей, 4 колонки.  \n",
    "В данных о подписке 2 записи, 4 колонки.  \n",
    "Все записи соответствуют своим типам, кроме 'riders', где параметр 'date' требует изменения на 'datetime'.   \n",
    "Пропусков в данных н обнаружено. "
   ]
  },
  {
   "cell_type": "markdown",
   "id": "e95ebca7",
   "metadata": {},
   "source": [
    "## Ⅱ. Предобработка данных"
   ]
  },
  {
   "cell_type": "markdown",
   "id": "4fd41862",
   "metadata": {},
   "source": [
    "##### Приведем столбец date к типу даты pandas"
   ]
  },
  {
   "cell_type": "code",
   "execution_count": 4,
   "id": "af6d202c",
   "metadata": {
    "scrolled": true
   },
   "outputs": [
    {
     "name": "stdout",
     "output_type": "stream",
     "text": [
      "<class 'pandas.core.frame.DataFrame'>\n",
      "RangeIndex: 18068 entries, 0 to 18067\n",
      "Data columns (total 4 columns):\n",
      " #   Column    Non-Null Count  Dtype         \n",
      "---  ------    --------------  -----         \n",
      " 0   user_id   18068 non-null  int64         \n",
      " 1   distance  18068 non-null  float64       \n",
      " 2   duration  18068 non-null  float64       \n",
      " 3   date      18068 non-null  datetime64[ns]\n",
      "dtypes: datetime64[ns](1), float64(2), int64(1)\n",
      "memory usage: 564.8 KB\n"
     ]
    }
   ],
   "source": [
    "# Преобразуем столбец date в riders в формат datetime\n",
    "\n",
    "riders['date'] = pd.to_datetime(riders['date'], format='%Y-%m-%d')\n",
    "riders.info()"
   ]
  },
  {
   "cell_type": "code",
   "execution_count": 5,
   "id": "bad8d65e",
   "metadata": {},
   "outputs": [
    {
     "data": {
      "text/plain": [
       "array([2021])"
      ]
     },
     "execution_count": 5,
     "metadata": {},
     "output_type": "execute_result"
    }
   ],
   "source": [
    "riders['date'].dt.year.unique()"
   ]
  },
  {
   "cell_type": "code",
   "execution_count": 6,
   "id": "0962f8e3",
   "metadata": {},
   "outputs": [
    {
     "data": {
      "text/html": [
       "<div>\n",
       "<style scoped>\n",
       "    .dataframe tbody tr th:only-of-type {\n",
       "        vertical-align: middle;\n",
       "    }\n",
       "\n",
       "    .dataframe tbody tr th {\n",
       "        vertical-align: top;\n",
       "    }\n",
       "\n",
       "    .dataframe thead th {\n",
       "        text-align: right;\n",
       "    }\n",
       "</style>\n",
       "<table border=\"1\" class=\"dataframe\">\n",
       "  <thead>\n",
       "    <tr style=\"text-align: right;\">\n",
       "      <th></th>\n",
       "      <th>user_id</th>\n",
       "      <th>distance</th>\n",
       "      <th>duration</th>\n",
       "      <th>date</th>\n",
       "    </tr>\n",
       "  </thead>\n",
       "  <tbody>\n",
       "    <tr>\n",
       "      <th>0</th>\n",
       "      <td>1</td>\n",
       "      <td>4409.919140</td>\n",
       "      <td>25.599769</td>\n",
       "      <td>2021-01-01</td>\n",
       "    </tr>\n",
       "    <tr>\n",
       "      <th>1</th>\n",
       "      <td>1</td>\n",
       "      <td>2617.592153</td>\n",
       "      <td>15.816871</td>\n",
       "      <td>2021-01-18</td>\n",
       "    </tr>\n",
       "    <tr>\n",
       "      <th>2</th>\n",
       "      <td>1</td>\n",
       "      <td>754.159807</td>\n",
       "      <td>6.232113</td>\n",
       "      <td>2021-04-20</td>\n",
       "    </tr>\n",
       "    <tr>\n",
       "      <th>3</th>\n",
       "      <td>1</td>\n",
       "      <td>2694.783254</td>\n",
       "      <td>18.511000</td>\n",
       "      <td>2021-08-11</td>\n",
       "    </tr>\n",
       "    <tr>\n",
       "      <th>4</th>\n",
       "      <td>1</td>\n",
       "      <td>4028.687306</td>\n",
       "      <td>26.265803</td>\n",
       "      <td>2021-08-28</td>\n",
       "    </tr>\n",
       "  </tbody>\n",
       "</table>\n",
       "</div>"
      ],
      "text/plain": [
       "   user_id     distance   duration       date\n",
       "0        1  4409.919140  25.599769 2021-01-01\n",
       "1        1  2617.592153  15.816871 2021-01-18\n",
       "2        1   754.159807   6.232113 2021-04-20\n",
       "3        1  2694.783254  18.511000 2021-08-11\n",
       "4        1  4028.687306  26.265803 2021-08-28"
      ]
     },
     "execution_count": 6,
     "metadata": {},
     "output_type": "execute_result"
    }
   ],
   "source": [
    "riders.head()"
   ]
  },
  {
   "cell_type": "markdown",
   "id": "22246704",
   "metadata": {},
   "source": [
    "Все предоставленные данные за период 2021 года"
   ]
  },
  {
   "cell_type": "markdown",
   "id": "3647b340",
   "metadata": {},
   "source": [
    "##### Создадим новый столбец с номером месяца на основе столбца date"
   ]
  },
  {
   "cell_type": "code",
   "execution_count": 7,
   "id": "8cd60445",
   "metadata": {},
   "outputs": [],
   "source": [
    "# Добавим в riders столбец с номером месяца \n",
    "\n",
    "riders['month'] = riders['date'].dt.month"
   ]
  },
  {
   "cell_type": "code",
   "execution_count": 8,
   "id": "85a2d1af",
   "metadata": {
    "scrolled": true
   },
   "outputs": [
    {
     "data": {
      "text/html": [
       "<div>\n",
       "<style scoped>\n",
       "    .dataframe tbody tr th:only-of-type {\n",
       "        vertical-align: middle;\n",
       "    }\n",
       "\n",
       "    .dataframe tbody tr th {\n",
       "        vertical-align: top;\n",
       "    }\n",
       "\n",
       "    .dataframe thead th {\n",
       "        text-align: right;\n",
       "    }\n",
       "</style>\n",
       "<table border=\"1\" class=\"dataframe\">\n",
       "  <thead>\n",
       "    <tr style=\"text-align: right;\">\n",
       "      <th></th>\n",
       "      <th>user_id</th>\n",
       "      <th>distance</th>\n",
       "      <th>duration</th>\n",
       "      <th>date</th>\n",
       "      <th>month</th>\n",
       "    </tr>\n",
       "  </thead>\n",
       "  <tbody>\n",
       "    <tr>\n",
       "      <th>0</th>\n",
       "      <td>1</td>\n",
       "      <td>4409.919140</td>\n",
       "      <td>25.599769</td>\n",
       "      <td>2021-01-01</td>\n",
       "      <td>1</td>\n",
       "    </tr>\n",
       "    <tr>\n",
       "      <th>1</th>\n",
       "      <td>1</td>\n",
       "      <td>2617.592153</td>\n",
       "      <td>15.816871</td>\n",
       "      <td>2021-01-18</td>\n",
       "      <td>1</td>\n",
       "    </tr>\n",
       "    <tr>\n",
       "      <th>2</th>\n",
       "      <td>1</td>\n",
       "      <td>754.159807</td>\n",
       "      <td>6.232113</td>\n",
       "      <td>2021-04-20</td>\n",
       "      <td>4</td>\n",
       "    </tr>\n",
       "    <tr>\n",
       "      <th>3</th>\n",
       "      <td>1</td>\n",
       "      <td>2694.783254</td>\n",
       "      <td>18.511000</td>\n",
       "      <td>2021-08-11</td>\n",
       "      <td>8</td>\n",
       "    </tr>\n",
       "    <tr>\n",
       "      <th>4</th>\n",
       "      <td>1</td>\n",
       "      <td>4028.687306</td>\n",
       "      <td>26.265803</td>\n",
       "      <td>2021-08-28</td>\n",
       "      <td>8</td>\n",
       "    </tr>\n",
       "  </tbody>\n",
       "</table>\n",
       "</div>"
      ],
      "text/plain": [
       "   user_id     distance   duration       date  month\n",
       "0        1  4409.919140  25.599769 2021-01-01      1\n",
       "1        1  2617.592153  15.816871 2021-01-18      1\n",
       "2        1   754.159807   6.232113 2021-04-20      4\n",
       "3        1  2694.783254  18.511000 2021-08-11      8\n",
       "4        1  4028.687306  26.265803 2021-08-28      8"
      ]
     },
     "execution_count": 8,
     "metadata": {},
     "output_type": "execute_result"
    }
   ],
   "source": [
    "riders.head()"
   ]
  },
  {
   "cell_type": "markdown",
   "id": "4be949c0",
   "metadata": {},
   "source": [
    "##### Проверим наличие дубликатов в датафреймах"
   ]
  },
  {
   "cell_type": "code",
   "execution_count": 9,
   "id": "6d859f70",
   "metadata": {
    "scrolled": true
   },
   "outputs": [
    {
     "name": "stdout",
     "output_type": "stream",
     "text": [
      "Количество дубликатов в 'users': 31\n",
      "Количество дубликатов в 'riders': 0\n"
     ]
    }
   ],
   "source": [
    "# Поиск дубликатов в users и riders\n",
    "\n",
    "print(\"Количество дубликатов в 'users':\", users.duplicated().sum())\n",
    "print(\"Количество дубликатов в 'riders':\", riders.duplicated().sum())"
   ]
  },
  {
   "cell_type": "code",
   "execution_count": 10,
   "id": "4d32e5f7",
   "metadata": {
    "scrolled": true
   },
   "outputs": [
    {
     "data": {
      "text/plain": [
       "0"
      ]
     },
     "execution_count": 10,
     "metadata": {},
     "output_type": "execute_result"
    }
   ],
   "source": [
    "# Удаление дуюликатов users\n",
    "\n",
    "users = users.drop_duplicates().reset_index(drop=True)\n",
    "riders.duplicated().sum()"
   ]
  },
  {
   "cell_type": "markdown",
   "id": "2f65ed32",
   "metadata": {},
   "source": [
    "**Вывод по разделу \"Предобработка данных\"**\n",
    "\n",
    "В ходе предобработки был изменён тип данных на 'datetime' в столбце 'date' в таблице о поездках. Дубликатов в данной таблице не обнаружено.  \n",
    "Обнаружены дубликаты в записях о пользователях в количестве 31 штуки. Дубликаты удалены.  \n",
    "Все предоставленные нам данные оказались за период 2021 года.  \n",
    "В таблицу 'riders' добавлен столбец с порядковым номера месяца, в котором совершалась поездка."
   ]
  },
  {
   "cell_type": "markdown",
   "id": "212593c7",
   "metadata": {},
   "source": [
    "## Ⅲ. Исследовательский анализ данных"
   ]
  },
  {
   "cell_type": "markdown",
   "id": "94147da9",
   "metadata": {},
   "source": [
    "##### Частота встречаемости городов"
   ]
  },
  {
   "cell_type": "code",
   "execution_count": 11,
   "id": "e3a4274c",
   "metadata": {
    "scrolled": false
   },
   "outputs": [
    {
     "name": "stdout",
     "output_type": "stream",
     "text": [
      "Пятигорск         219\n",
      "Екатеринбург      204\n",
      "Ростов-на-Дону    198\n",
      "Краснодар         193\n",
      "Сочи              189\n",
      "Омск              183\n",
      "Тюмень            180\n",
      "Москва            168\n",
      "Name: city, dtype: int64\n"
     ]
    },
    {
     "data": {
      "image/png": "[encoded data removed]",
      "text/plain": [
       "<Figure size 1080x432 with 1 Axes>"
      ]
     },
     "metadata": {
      "needs_background": "light"
     },
     "output_type": "display_data"
    }
   ],
   "source": [
    "print(users['city'].value_counts())\n",
    "users['city'].value_counts().plot.bar(figsize = (15,6), rot=30)\n",
    "plt.xlabel('Город')\n",
    "plt.ylabel('Количество')\n",
    "plt.title('Частота встречаемости городов' + \"\\n\", fontsize=17);"
   ]
  },
  {
   "cell_type": "markdown",
   "id": "18d662be",
   "metadata": {},
   "source": [
    "Вывод: сервис аренды самокатов имеет наибольшую популярность в Пятигорске, в Москве имеет наименьшую популярность."
   ]
  },
  {
   "cell_type": "markdown",
   "id": "124f591a",
   "metadata": {},
   "source": [
    "##### Cоотношение пользователей с подпиской и без подписки"
   ]
  },
  {
   "cell_type": "code",
   "execution_count": 12,
   "id": "4dc31a6d",
   "metadata": {},
   "outputs": [
    {
     "data": {
      "image/png": "[encoded data removed]",
      "text/plain": [
       "<Figure size 504x504 with 1 Axes>"
      ]
     },
     "metadata": {},
     "output_type": "display_data"
    }
   ],
   "source": [
    "# Создаем счетчик значений 'subscription_type'\n",
    "subscription_counts = users['subscription_type'].value_counts()\n",
    "\n",
    "# Рисуем круговую диаграмму\n",
    "plt.figure(figsize=(7, 7))\n",
    "plt.pie(subscription_counts, labels=subscription_counts.index, autopct='%1.1f%%', startangle=140)\n",
    "plt.axis('equal')\n",
    "plt.title('Соотношение пользователей с подпиской и без подписки' + \"\\n\", fontsize=17)\n",
    "plt.show();"
   ]
  },
  {
   "cell_type": "markdown",
   "id": "b329215b",
   "metadata": {},
   "source": [
    "Пользователей без подписки - 54,4%  \n",
    "Пользователей с подпиской - 45,6%"
   ]
  },
  {
   "cell_type": "markdown",
   "id": "9ca3ebf5",
   "metadata": {},
   "source": [
    "##### Возраст пользователей"
   ]
  },
  {
   "cell_type": "code",
   "execution_count": 13,
   "id": "d9b35bed",
   "metadata": {
    "scrolled": true
   },
   "outputs": [
    {
     "name": "stdout",
     "output_type": "stream",
     "text": [
      "count    1534.000000\n",
      "mean       24.903520\n",
      "std         4.572367\n",
      "min        12.000000\n",
      "25%        22.000000\n",
      "50%        25.000000\n",
      "75%        28.000000\n",
      "max        43.000000\n",
      "Name: age, dtype: float64\n"
     ]
    },
    {
     "data": {
      "image/png": "[encoded data removed]",
      "text/plain": [
       "<Figure size 1080x432 with 1 Axes>"
      ]
     },
     "metadata": {
      "needs_background": "light"
     },
     "output_type": "display_data"
    }
   ],
   "source": [
    "print(users['age'].describe())\n",
    "users['age'].value_counts().sort_index().plot.bar(figsize = (15,6), rot=1, width=0.8)\n",
    "plt.xlabel('Возраст')\n",
    "plt.ylabel('Количество')\n",
    "plt.title('Возраст пользователей' + \"\\n\", fontsize=17);"
   ]
  },
  {
   "cell_type": "code",
   "execution_count": 14,
   "id": "491cf92d",
   "metadata": {},
   "outputs": [
    {
     "data": {
      "image/png": "[encoded data removed]",
      "text/plain": [
       "<Figure size 1080x432 with 1 Axes>"
      ]
     },
     "metadata": {
      "needs_background": "light"
     },
     "output_type": "display_data"
    }
   ],
   "source": [
    "plt.figure(figsize=(15, 6))\n",
    "plt.boxplot(users['age'], vert=False)\n",
    "plt.xlabel('Количество лет')\n",
    "plt.title('Возраст пользователей' + \"\\n\", fontsize=17);\n",
    "plt.show()"
   ]
  },
  {
   "cell_type": "markdown",
   "id": "d05bb89a",
   "metadata": {},
   "source": [
    "Исходя из этих данных, можно сказать, что основная часть пользователей имеет возраст от 22 до 28 лет, средний возраст близок к 25 годам. Максимальный возраст пользователей сервиса - 43 года, минимальный - 12 лет."
   ]
  },
  {
   "cell_type": "markdown",
   "id": "e4fa199f",
   "metadata": {},
   "source": [
    "##### Расстояние, которое пользователь преодолел за одну поездку"
   ]
  },
  {
   "cell_type": "code",
   "execution_count": 15,
   "id": "16264a14",
   "metadata": {
    "scrolled": true
   },
   "outputs": [
    {
     "name": "stdout",
     "output_type": "stream",
     "text": [
      "count    18068.000000\n",
      "mean      3070.659976\n",
      "std       1116.831209\n",
      "min          0.855683\n",
      "25%       2543.226360\n",
      "50%       3133.609994\n",
      "75%       3776.222735\n",
      "max       7211.007745\n",
      "Name: distance, dtype: float64\n"
     ]
    },
    {
     "data": {
      "image/png": "[encoded data removed]",
      "text/plain": [
       "<Figure size 1080x432 with 1 Axes>"
      ]
     },
     "metadata": {
      "needs_background": "light"
     },
     "output_type": "display_data"
    }
   ],
   "source": [
    "print(riders['distance'].describe())\n",
    "riders['distance'].plot.hist(bins=1000, grid=True, legend=True, figsize = (15,6), color='Teal');\n",
    "plt.xlabel('Расстояние, м')\n",
    "plt.ylabel('Количество пользователей')\n",
    "plt.title('Расстояние, которое пользователь преодолел за одну поездку, метры' + \"\\n\", fontsize=17);"
   ]
  },
  {
   "cell_type": "code",
   "execution_count": 16,
   "id": "25dc9e46",
   "metadata": {},
   "outputs": [
    {
     "data": {
      "image/png": "[encoded data removed]",
      "text/plain": [
       "<Figure size 1080x432 with 1 Axes>"
      ]
     },
     "metadata": {
      "needs_background": "light"
     },
     "output_type": "display_data"
    }
   ],
   "source": [
    "plt.figure(figsize=(15, 6))\n",
    "plt.boxplot(riders['distance'], vert=False)\n",
    "plt.xlabel('Расстояние, м')\n",
    "plt.title('Расстояние, которое пользователь преодолел за одну поездку, метры' + \"\\n\", fontsize=17);\n",
    "plt.show()"
   ]
  },
  {
   "cell_type": "markdown",
   "id": "f8f7ed04",
   "metadata": {},
   "source": [
    "Вывод: на гистограмме видим большой объём значений в области 3000 м и поменьше в области 700 м. Без учёта меньшей части гистограммы рспределение напоминает нормальное."
   ]
  },
  {
   "cell_type": "markdown",
   "id": "aef2cf73",
   "metadata": {},
   "source": [
    "#####  Продолжительность поездок"
   ]
  },
  {
   "cell_type": "code",
   "execution_count": 17,
   "id": "04c56e38",
   "metadata": {
    "scrolled": false
   },
   "outputs": [
    {
     "name": "stdout",
     "output_type": "stream",
     "text": [
      "count    18068.000000\n",
      "mean        17.805011\n",
      "std          6.091051\n",
      "min          0.500000\n",
      "25%         13.597563\n",
      "50%         17.678395\n",
      "75%         21.724800\n",
      "max         40.823963\n",
      "Name: duration, dtype: float64\n"
     ]
    },
    {
     "data": {
      "image/png": "[encoded data removed]",
      "text/plain": [
       "<Figure size 1080x432 with 1 Axes>"
      ]
     },
     "metadata": {
      "needs_background": "light"
     },
     "output_type": "display_data"
    }
   ],
   "source": [
    "print(riders['duration'].describe())\n",
    "riders['duration'].plot.hist(bins=1000, grid=True, legend=True, figsize = (15,6), color='Teal');\n",
    "plt.xlabel('Продолжительность поездки, мин')\n",
    "plt.ylabel('Количество пользователей')\n",
    "plt.title('Продолжительность поездок, минуты' + \"\\n\", fontsize=17);"
   ]
  },
  {
   "cell_type": "code",
   "execution_count": 18,
   "id": "ad84f2d8",
   "metadata": {},
   "outputs": [
    {
     "data": {
      "image/png": "[encoded data removed]",
      "text/plain": [
       "<Figure size 1080x432 with 1 Axes>"
      ]
     },
     "metadata": {
      "needs_background": "light"
     },
     "output_type": "display_data"
    }
   ],
   "source": [
    "plt.figure(figsize=(15, 6))\n",
    "plt.boxplot(riders['duration'], vert=False)\n",
    "plt.xlabel('Продолжительность поездки, мин')\n",
    "plt.title('Продолжительность поездок, минуты' + \"\\n\", fontsize=17);\n",
    "plt.show()"
   ]
  },
  {
   "cell_type": "markdown",
   "id": "618f0c14",
   "metadata": {},
   "source": [
    "Средняя продолжительность поездок составляет около 17 минуты. Основная масса поездок от 13 до 21 минуты. Стандартное отклонение в 6.09 минут, означает, что продолжительность поездок варьируется относительно сильно. 25% поездок имеют продолжительность менее 13.6 минут, что говорит о наличии коротких поездок в выборке. Максимальное время поездки - 40 мин. Распределение продолжительности поездок напоминает нормальное."
   ]
  },
  {
   "cell_type": "markdown",
   "id": "68462849",
   "metadata": {},
   "source": [
    "**Вывод по разделу \"Исследовательский анализ данных\"**\n",
    "\n",
    "Итак, сервис аренды самокатов привлекает разнообразную аудиторию, но наиболее популярен среди молодых пользователей в возрасте от 22 до 28 лет. Пользователи предпочитают совершать короткие поездки на расстояниях до 5 километров, и средняя продолжительность поездок составляет около 17 минут. Сервис  наиболее популярен в городе Пятигорск, в то время как в Москве он имеет наименьшую популярность. Соотношение пользователей с подпиской и без говорит о преобладании последних."
   ]
  },
  {
   "cell_type": "markdown",
   "id": "4ef51331",
   "metadata": {},
   "source": [
    "## Ⅳ. Объединение данных"
   ]
  },
  {
   "cell_type": "markdown",
   "id": "2eb042ec",
   "metadata": {},
   "source": [
    "##### Объедините данные о пользователях, поездках и подписках в один датафрейм."
   ]
  },
  {
   "cell_type": "code",
   "execution_count": 19,
   "id": "b765452f",
   "metadata": {},
   "outputs": [
    {
     "data": {
      "text/html": [
       "<div>\n",
       "<style scoped>\n",
       "    .dataframe tbody tr th:only-of-type {\n",
       "        vertical-align: middle;\n",
       "    }\n",
       "\n",
       "    .dataframe tbody tr th {\n",
       "        vertical-align: top;\n",
       "    }\n",
       "\n",
       "    .dataframe thead th {\n",
       "        text-align: right;\n",
       "    }\n",
       "</style>\n",
       "<table border=\"1\" class=\"dataframe\">\n",
       "  <thead>\n",
       "    <tr style=\"text-align: right;\">\n",
       "      <th></th>\n",
       "      <th>Dataset</th>\n",
       "      <th>Rows</th>\n",
       "      <th>Columns</th>\n",
       "    </tr>\n",
       "  </thead>\n",
       "  <tbody>\n",
       "    <tr>\n",
       "      <th>0</th>\n",
       "      <td>users</td>\n",
       "      <td>1534</td>\n",
       "      <td>5</td>\n",
       "    </tr>\n",
       "    <tr>\n",
       "      <th>1</th>\n",
       "      <td>riders</td>\n",
       "      <td>18068</td>\n",
       "      <td>5</td>\n",
       "    </tr>\n",
       "    <tr>\n",
       "      <th>2</th>\n",
       "      <td>subs</td>\n",
       "      <td>2</td>\n",
       "      <td>4</td>\n",
       "    </tr>\n",
       "  </tbody>\n",
       "</table>\n",
       "</div>"
      ],
      "text/plain": [
       "  Dataset   Rows  Columns\n",
       "0   users   1534        5\n",
       "1  riders  18068        5\n",
       "2    subs      2        4"
      ]
     },
     "execution_count": 19,
     "metadata": {},
     "output_type": "execute_result"
    }
   ],
   "source": [
    "# Размеры датасетов до объединения\n",
    "size_df = {\n",
    "    'Dataset': ['users', 'riders', 'subs'],\n",
    "    'Rows': [users.shape[0], riders.shape[0], subs.shape[0]],\n",
    "    'Columns': [users.shape[1], riders.shape[1], subs.shape[1]]\n",
    "}\n",
    "\n",
    "pd.DataFrame(size_df)"
   ]
  },
  {
   "cell_type": "code",
   "execution_count": 20,
   "id": "5534f456",
   "metadata": {},
   "outputs": [],
   "source": [
    "full_data = users.merge(riders, on='user_id', how='left')\n",
    "full_data = full_data.merge(subs, on = 'subscription_type', how='left')"
   ]
  },
  {
   "cell_type": "code",
   "execution_count": 21,
   "id": "12f855e6",
   "metadata": {
    "scrolled": false
   },
   "outputs": [
    {
     "data": {
      "text/html": [
       "<div>\n",
       "<style scoped>\n",
       "    .dataframe tbody tr th:only-of-type {\n",
       "        vertical-align: middle;\n",
       "    }\n",
       "\n",
       "    .dataframe tbody tr th {\n",
       "        vertical-align: top;\n",
       "    }\n",
       "\n",
       "    .dataframe thead th {\n",
       "        text-align: right;\n",
       "    }\n",
       "</style>\n",
       "<table border=\"1\" class=\"dataframe\">\n",
       "  <thead>\n",
       "    <tr style=\"text-align: right;\">\n",
       "      <th></th>\n",
       "      <th>user_id</th>\n",
       "      <th>name</th>\n",
       "      <th>age</th>\n",
       "      <th>city</th>\n",
       "      <th>subscription_type</th>\n",
       "      <th>distance</th>\n",
       "      <th>duration</th>\n",
       "      <th>date</th>\n",
       "      <th>month</th>\n",
       "      <th>minute_price</th>\n",
       "      <th>start_ride_price</th>\n",
       "      <th>subscription_fee</th>\n",
       "    </tr>\n",
       "  </thead>\n",
       "  <tbody>\n",
       "    <tr>\n",
       "      <th>0</th>\n",
       "      <td>1</td>\n",
       "      <td>Кира</td>\n",
       "      <td>22</td>\n",
       "      <td>Тюмень</td>\n",
       "      <td>ultra</td>\n",
       "      <td>4409.919140</td>\n",
       "      <td>25.599769</td>\n",
       "      <td>2021-01-01</td>\n",
       "      <td>1</td>\n",
       "      <td>6</td>\n",
       "      <td>0</td>\n",
       "      <td>199</td>\n",
       "    </tr>\n",
       "    <tr>\n",
       "      <th>1</th>\n",
       "      <td>1</td>\n",
       "      <td>Кира</td>\n",
       "      <td>22</td>\n",
       "      <td>Тюмень</td>\n",
       "      <td>ultra</td>\n",
       "      <td>2617.592153</td>\n",
       "      <td>15.816871</td>\n",
       "      <td>2021-01-18</td>\n",
       "      <td>1</td>\n",
       "      <td>6</td>\n",
       "      <td>0</td>\n",
       "      <td>199</td>\n",
       "    </tr>\n",
       "    <tr>\n",
       "      <th>2</th>\n",
       "      <td>1</td>\n",
       "      <td>Кира</td>\n",
       "      <td>22</td>\n",
       "      <td>Тюмень</td>\n",
       "      <td>ultra</td>\n",
       "      <td>754.159807</td>\n",
       "      <td>6.232113</td>\n",
       "      <td>2021-04-20</td>\n",
       "      <td>4</td>\n",
       "      <td>6</td>\n",
       "      <td>0</td>\n",
       "      <td>199</td>\n",
       "    </tr>\n",
       "    <tr>\n",
       "      <th>3</th>\n",
       "      <td>1</td>\n",
       "      <td>Кира</td>\n",
       "      <td>22</td>\n",
       "      <td>Тюмень</td>\n",
       "      <td>ultra</td>\n",
       "      <td>2694.783254</td>\n",
       "      <td>18.511000</td>\n",
       "      <td>2021-08-11</td>\n",
       "      <td>8</td>\n",
       "      <td>6</td>\n",
       "      <td>0</td>\n",
       "      <td>199</td>\n",
       "    </tr>\n",
       "    <tr>\n",
       "      <th>4</th>\n",
       "      <td>1</td>\n",
       "      <td>Кира</td>\n",
       "      <td>22</td>\n",
       "      <td>Тюмень</td>\n",
       "      <td>ultra</td>\n",
       "      <td>4028.687306</td>\n",
       "      <td>26.265803</td>\n",
       "      <td>2021-08-28</td>\n",
       "      <td>8</td>\n",
       "      <td>6</td>\n",
       "      <td>0</td>\n",
       "      <td>199</td>\n",
       "    </tr>\n",
       "  </tbody>\n",
       "</table>\n",
       "</div>"
      ],
      "text/plain": [
       "   user_id  name  age    city subscription_type     distance   duration  \\\n",
       "0        1  Кира   22  Тюмень             ultra  4409.919140  25.599769   \n",
       "1        1  Кира   22  Тюмень             ultra  2617.592153  15.816871   \n",
       "2        1  Кира   22  Тюмень             ultra   754.159807   6.232113   \n",
       "3        1  Кира   22  Тюмень             ultra  2694.783254  18.511000   \n",
       "4        1  Кира   22  Тюмень             ultra  4028.687306  26.265803   \n",
       "\n",
       "        date  month  minute_price  start_ride_price  subscription_fee  \n",
       "0 2021-01-01      1             6                 0               199  \n",
       "1 2021-01-18      1             6                 0               199  \n",
       "2 2021-04-20      4             6                 0               199  \n",
       "3 2021-08-11      8             6                 0               199  \n",
       "4 2021-08-28      8             6                 0               199  "
      ]
     },
     "execution_count": 21,
     "metadata": {},
     "output_type": "execute_result"
    }
   ],
   "source": [
    "full_data.head()"
   ]
  },
  {
   "cell_type": "code",
   "execution_count": 22,
   "id": "3911e8a5",
   "metadata": {},
   "outputs": [
    {
     "data": {
      "text/html": [
       "<div>\n",
       "<style scoped>\n",
       "    .dataframe tbody tr th:only-of-type {\n",
       "        vertical-align: middle;\n",
       "    }\n",
       "\n",
       "    .dataframe tbody tr th {\n",
       "        vertical-align: top;\n",
       "    }\n",
       "\n",
       "    .dataframe thead th {\n",
       "        text-align: right;\n",
       "    }\n",
       "</style>\n",
       "<table border=\"1\" class=\"dataframe\">\n",
       "  <thead>\n",
       "    <tr style=\"text-align: right;\">\n",
       "      <th></th>\n",
       "      <th>Dataset</th>\n",
       "      <th>Rows</th>\n",
       "      <th>Columns</th>\n",
       "    </tr>\n",
       "  </thead>\n",
       "  <tbody>\n",
       "    <tr>\n",
       "      <th>0</th>\n",
       "      <td>full_data</td>\n",
       "      <td>18068</td>\n",
       "      <td>12</td>\n",
       "    </tr>\n",
       "  </tbody>\n",
       "</table>\n",
       "</div>"
      ],
      "text/plain": [
       "     Dataset   Rows  Columns\n",
       "0  full_data  18068       12"
      ]
     },
     "execution_count": 22,
     "metadata": {},
     "output_type": "execute_result"
    }
   ],
   "source": [
    "# Размер результирующего датафрейма\n",
    "size_fd = {\n",
    "    'Dataset': ['full_data'],\n",
    "    'Rows': [full_data.shape[0]],\n",
    "    'Columns': [full_data.shape[1]]\n",
    "}\n",
    "\n",
    "pd.DataFrame(size_fd)"
   ]
  },
  {
   "cell_type": "code",
   "execution_count": 23,
   "id": "e1c6e2d4",
   "metadata": {
    "scrolled": true
   },
   "outputs": [
    {
     "name": "stdout",
     "output_type": "stream",
     "text": [
      "<class 'pandas.core.frame.DataFrame'>\n",
      "Int64Index: 18068 entries, 0 to 18067\n",
      "Data columns (total 12 columns):\n",
      " #   Column             Non-Null Count  Dtype         \n",
      "---  ------             --------------  -----         \n",
      " 0   user_id            18068 non-null  int64         \n",
      " 1   name               18068 non-null  object        \n",
      " 2   age                18068 non-null  int64         \n",
      " 3   city               18068 non-null  object        \n",
      " 4   subscription_type  18068 non-null  object        \n",
      " 5   distance           18068 non-null  float64       \n",
      " 6   duration           18068 non-null  float64       \n",
      " 7   date               18068 non-null  datetime64[ns]\n",
      " 8   month              18068 non-null  int64         \n",
      " 9   minute_price       18068 non-null  int64         \n",
      " 10  start_ride_price   18068 non-null  int64         \n",
      " 11  subscription_fee   18068 non-null  int64         \n",
      "dtypes: datetime64[ns](1), float64(2), int64(6), object(3)\n",
      "memory usage: 1.8+ MB\n"
     ]
    }
   ],
   "source": [
    "# Проверим данные на пропуски\n",
    "\n",
    "full_data.info()"
   ]
  },
  {
   "cell_type": "markdown",
   "id": "efa10c70",
   "metadata": {},
   "source": [
    "##### Данные о пользователях"
   ]
  },
  {
   "cell_type": "code",
   "execution_count": 24,
   "id": "645fa7a1",
   "metadata": {
    "scrolled": true
   },
   "outputs": [
    {
     "data": {
      "text/html": [
       "<div>\n",
       "<style scoped>\n",
       "    .dataframe tbody tr th:only-of-type {\n",
       "        vertical-align: middle;\n",
       "    }\n",
       "\n",
       "    .dataframe tbody tr th {\n",
       "        vertical-align: top;\n",
       "    }\n",
       "\n",
       "    .dataframe thead th {\n",
       "        text-align: right;\n",
       "    }\n",
       "</style>\n",
       "<table border=\"1\" class=\"dataframe\">\n",
       "  <thead>\n",
       "    <tr style=\"text-align: right;\">\n",
       "      <th></th>\n",
       "      <th>user_id</th>\n",
       "      <th>name</th>\n",
       "      <th>age</th>\n",
       "      <th>city</th>\n",
       "      <th>subscription_type</th>\n",
       "      <th>distance</th>\n",
       "      <th>duration</th>\n",
       "      <th>date</th>\n",
       "      <th>month</th>\n",
       "      <th>minute_price</th>\n",
       "      <th>start_ride_price</th>\n",
       "      <th>subscription_fee</th>\n",
       "    </tr>\n",
       "  </thead>\n",
       "  <tbody>\n",
       "    <tr>\n",
       "      <th>6500</th>\n",
       "      <td>700</td>\n",
       "      <td>Айдар</td>\n",
       "      <td>22</td>\n",
       "      <td>Омск</td>\n",
       "      <td>free</td>\n",
       "      <td>2515.690719</td>\n",
       "      <td>14.944286</td>\n",
       "      <td>2021-01-02</td>\n",
       "      <td>1</td>\n",
       "      <td>8</td>\n",
       "      <td>50</td>\n",
       "      <td>0</td>\n",
       "    </tr>\n",
       "    <tr>\n",
       "      <th>6501</th>\n",
       "      <td>700</td>\n",
       "      <td>Айдар</td>\n",
       "      <td>22</td>\n",
       "      <td>Омск</td>\n",
       "      <td>free</td>\n",
       "      <td>846.932642</td>\n",
       "      <td>16.234663</td>\n",
       "      <td>2021-02-01</td>\n",
       "      <td>2</td>\n",
       "      <td>8</td>\n",
       "      <td>50</td>\n",
       "      <td>0</td>\n",
       "    </tr>\n",
       "    <tr>\n",
       "      <th>6502</th>\n",
       "      <td>700</td>\n",
       "      <td>Айдар</td>\n",
       "      <td>22</td>\n",
       "      <td>Омск</td>\n",
       "      <td>free</td>\n",
       "      <td>4004.434142</td>\n",
       "      <td>20.016628</td>\n",
       "      <td>2021-02-04</td>\n",
       "      <td>2</td>\n",
       "      <td>8</td>\n",
       "      <td>50</td>\n",
       "      <td>0</td>\n",
       "    </tr>\n",
       "    <tr>\n",
       "      <th>6503</th>\n",
       "      <td>700</td>\n",
       "      <td>Айдар</td>\n",
       "      <td>22</td>\n",
       "      <td>Омск</td>\n",
       "      <td>free</td>\n",
       "      <td>1205.911290</td>\n",
       "      <td>9.782872</td>\n",
       "      <td>2021-02-10</td>\n",
       "      <td>2</td>\n",
       "      <td>8</td>\n",
       "      <td>50</td>\n",
       "      <td>0</td>\n",
       "    </tr>\n",
       "    <tr>\n",
       "      <th>6504</th>\n",
       "      <td>700</td>\n",
       "      <td>Айдар</td>\n",
       "      <td>22</td>\n",
       "      <td>Омск</td>\n",
       "      <td>free</td>\n",
       "      <td>3047.379435</td>\n",
       "      <td>17.427673</td>\n",
       "      <td>2021-02-14</td>\n",
       "      <td>2</td>\n",
       "      <td>8</td>\n",
       "      <td>50</td>\n",
       "      <td>0</td>\n",
       "    </tr>\n",
       "  </tbody>\n",
       "</table>\n",
       "</div>"
      ],
      "text/plain": [
       "      user_id   name  age  city subscription_type     distance   duration  \\\n",
       "6500      700  Айдар   22  Омск              free  2515.690719  14.944286   \n",
       "6501      700  Айдар   22  Омск              free   846.932642  16.234663   \n",
       "6502      700  Айдар   22  Омск              free  4004.434142  20.016628   \n",
       "6503      700  Айдар   22  Омск              free  1205.911290   9.782872   \n",
       "6504      700  Айдар   22  Омск              free  3047.379435  17.427673   \n",
       "\n",
       "           date  month  minute_price  start_ride_price  subscription_fee  \n",
       "6500 2021-01-02      1             8                50                 0  \n",
       "6501 2021-02-01      2             8                50                 0  \n",
       "6502 2021-02-04      2             8                50                 0  \n",
       "6503 2021-02-10      2             8                50                 0  \n",
       "6504 2021-02-14      2             8                50                 0  "
      ]
     },
     "execution_count": 24,
     "metadata": {},
     "output_type": "execute_result"
    }
   ],
   "source": [
    "##### Данные о пользователях без подписки\n",
    "\n",
    "df_notsub = full_data.query('subscription_type == \"free\"')\n",
    "df_notsub.head()"
   ]
  },
  {
   "cell_type": "code",
   "execution_count": 25,
   "id": "a4312f8b",
   "metadata": {
    "scrolled": true
   },
   "outputs": [
    {
     "data": {
      "text/html": [
       "<div>\n",
       "<style scoped>\n",
       "    .dataframe tbody tr th:only-of-type {\n",
       "        vertical-align: middle;\n",
       "    }\n",
       "\n",
       "    .dataframe tbody tr th {\n",
       "        vertical-align: top;\n",
       "    }\n",
       "\n",
       "    .dataframe thead th {\n",
       "        text-align: right;\n",
       "    }\n",
       "</style>\n",
       "<table border=\"1\" class=\"dataframe\">\n",
       "  <thead>\n",
       "    <tr style=\"text-align: right;\">\n",
       "      <th></th>\n",
       "      <th>user_id</th>\n",
       "      <th>name</th>\n",
       "      <th>age</th>\n",
       "      <th>city</th>\n",
       "      <th>subscription_type</th>\n",
       "      <th>distance</th>\n",
       "      <th>duration</th>\n",
       "      <th>date</th>\n",
       "      <th>month</th>\n",
       "      <th>minute_price</th>\n",
       "      <th>start_ride_price</th>\n",
       "      <th>subscription_fee</th>\n",
       "    </tr>\n",
       "  </thead>\n",
       "  <tbody>\n",
       "    <tr>\n",
       "      <th>0</th>\n",
       "      <td>1</td>\n",
       "      <td>Кира</td>\n",
       "      <td>22</td>\n",
       "      <td>Тюмень</td>\n",
       "      <td>ultra</td>\n",
       "      <td>4409.919140</td>\n",
       "      <td>25.599769</td>\n",
       "      <td>2021-01-01</td>\n",
       "      <td>1</td>\n",
       "      <td>6</td>\n",
       "      <td>0</td>\n",
       "      <td>199</td>\n",
       "    </tr>\n",
       "    <tr>\n",
       "      <th>1</th>\n",
       "      <td>1</td>\n",
       "      <td>Кира</td>\n",
       "      <td>22</td>\n",
       "      <td>Тюмень</td>\n",
       "      <td>ultra</td>\n",
       "      <td>2617.592153</td>\n",
       "      <td>15.816871</td>\n",
       "      <td>2021-01-18</td>\n",
       "      <td>1</td>\n",
       "      <td>6</td>\n",
       "      <td>0</td>\n",
       "      <td>199</td>\n",
       "    </tr>\n",
       "    <tr>\n",
       "      <th>2</th>\n",
       "      <td>1</td>\n",
       "      <td>Кира</td>\n",
       "      <td>22</td>\n",
       "      <td>Тюмень</td>\n",
       "      <td>ultra</td>\n",
       "      <td>754.159807</td>\n",
       "      <td>6.232113</td>\n",
       "      <td>2021-04-20</td>\n",
       "      <td>4</td>\n",
       "      <td>6</td>\n",
       "      <td>0</td>\n",
       "      <td>199</td>\n",
       "    </tr>\n",
       "    <tr>\n",
       "      <th>3</th>\n",
       "      <td>1</td>\n",
       "      <td>Кира</td>\n",
       "      <td>22</td>\n",
       "      <td>Тюмень</td>\n",
       "      <td>ultra</td>\n",
       "      <td>2694.783254</td>\n",
       "      <td>18.511000</td>\n",
       "      <td>2021-08-11</td>\n",
       "      <td>8</td>\n",
       "      <td>6</td>\n",
       "      <td>0</td>\n",
       "      <td>199</td>\n",
       "    </tr>\n",
       "    <tr>\n",
       "      <th>4</th>\n",
       "      <td>1</td>\n",
       "      <td>Кира</td>\n",
       "      <td>22</td>\n",
       "      <td>Тюмень</td>\n",
       "      <td>ultra</td>\n",
       "      <td>4028.687306</td>\n",
       "      <td>26.265803</td>\n",
       "      <td>2021-08-28</td>\n",
       "      <td>8</td>\n",
       "      <td>6</td>\n",
       "      <td>0</td>\n",
       "      <td>199</td>\n",
       "    </tr>\n",
       "  </tbody>\n",
       "</table>\n",
       "</div>"
      ],
      "text/plain": [
       "   user_id  name  age    city subscription_type     distance   duration  \\\n",
       "0        1  Кира   22  Тюмень             ultra  4409.919140  25.599769   \n",
       "1        1  Кира   22  Тюмень             ultra  2617.592153  15.816871   \n",
       "2        1  Кира   22  Тюмень             ultra   754.159807   6.232113   \n",
       "3        1  Кира   22  Тюмень             ultra  2694.783254  18.511000   \n",
       "4        1  Кира   22  Тюмень             ultra  4028.687306  26.265803   \n",
       "\n",
       "        date  month  minute_price  start_ride_price  subscription_fee  \n",
       "0 2021-01-01      1             6                 0               199  \n",
       "1 2021-01-18      1             6                 0               199  \n",
       "2 2021-04-20      4             6                 0               199  \n",
       "3 2021-08-11      8             6                 0               199  \n",
       "4 2021-08-28      8             6                 0               199  "
      ]
     },
     "execution_count": 25,
     "metadata": {},
     "output_type": "execute_result"
    }
   ],
   "source": [
    "##### Данные о пользователях с подпиской\n",
    "\n",
    "df_sub = full_data.query('subscription_type == \"ultra\"')\n",
    "df_sub.head()"
   ]
  },
  {
   "cell_type": "markdown",
   "id": "afc5e75f",
   "metadata": {},
   "source": [
    "##### Визаулизация данных"
   ]
  },
  {
   "cell_type": "code",
   "execution_count": 26,
   "id": "09ccdd9e",
   "metadata": {
    "scrolled": false
   },
   "outputs": [
    {
     "data": {
      "text/html": [
       "<div>\n",
       "<style scoped>\n",
       "    .dataframe tbody tr th:only-of-type {\n",
       "        vertical-align: middle;\n",
       "    }\n",
       "\n",
       "    .dataframe tbody tr th {\n",
       "        vertical-align: top;\n",
       "    }\n",
       "\n",
       "    .dataframe thead th {\n",
       "        text-align: right;\n",
       "    }\n",
       "</style>\n",
       "<table border=\"1\" class=\"dataframe\">\n",
       "  <thead>\n",
       "    <tr style=\"text-align: right;\">\n",
       "      <th></th>\n",
       "      <th>distance</th>\n",
       "      <th>duration</th>\n",
       "    </tr>\n",
       "  </thead>\n",
       "  <tbody>\n",
       "    <tr>\n",
       "      <th>count</th>\n",
       "      <td>835.000000</td>\n",
       "      <td>835.000000</td>\n",
       "    </tr>\n",
       "    <tr>\n",
       "      <th>mean</th>\n",
       "      <td>42191.963375</td>\n",
       "      <td>240.931783</td>\n",
       "    </tr>\n",
       "    <tr>\n",
       "      <th>std</th>\n",
       "      <td>12106.720431</td>\n",
       "      <td>68.753039</td>\n",
       "    </tr>\n",
       "    <tr>\n",
       "      <th>min</th>\n",
       "      <td>8838.803579</td>\n",
       "      <td>56.074907</td>\n",
       "    </tr>\n",
       "    <tr>\n",
       "      <th>25%</th>\n",
       "      <td>34183.421552</td>\n",
       "      <td>194.291257</td>\n",
       "    </tr>\n",
       "    <tr>\n",
       "      <th>50%</th>\n",
       "      <td>41620.449333</td>\n",
       "      <td>235.716318</td>\n",
       "    </tr>\n",
       "    <tr>\n",
       "      <th>75%</th>\n",
       "      <td>50120.358053</td>\n",
       "      <td>286.321154</td>\n",
       "    </tr>\n",
       "    <tr>\n",
       "      <th>max</th>\n",
       "      <td>79325.846482</td>\n",
       "      <td>446.233013</td>\n",
       "    </tr>\n",
       "  </tbody>\n",
       "</table>\n",
       "</div>"
      ],
      "text/plain": [
       "           distance    duration\n",
       "count    835.000000  835.000000\n",
       "mean   42191.963375  240.931783\n",
       "std    12106.720431   68.753039\n",
       "min     8838.803579   56.074907\n",
       "25%    34183.421552  194.291257\n",
       "50%    41620.449333  235.716318\n",
       "75%    50120.358053  286.321154\n",
       "max    79325.846482  446.233013"
      ]
     },
     "metadata": {},
     "output_type": "display_data"
    },
    {
     "data": {
      "image/png": "[encoded data removed]",
      "text/plain": [
       "<Figure size 1080x432 with 1 Axes>"
      ]
     },
     "metadata": {
      "needs_background": "light"
     },
     "output_type": "display_data"
    },
    {
     "data": {
      "image/png": "[encoded data removed]",
      "text/plain": [
       "<Figure size 1080x432 with 1 Axes>"
      ]
     },
     "metadata": {
      "needs_background": "light"
     },
     "output_type": "display_data"
    }
   ],
   "source": [
    "# Статистические данных пользователей без подписки\n",
    "\n",
    "display(df_notsub.pivot_table(index=['user_id'], values=['distance', 'duration'], aggfunc='sum').describe())\n",
    "\n",
    "# Гистограмма расстояния, которое проезжает пользователь без подписки за одну сессию\n",
    "\n",
    "df_notsub.pivot_table(index=['user_id'],values='distance', aggfunc='sum')\\\n",
    "                    .plot.hist(bins=50, grid=True, legend=True, figsize = (15,6), color='Teal')\n",
    "plt.xlabel('Расстояние, м')\n",
    "plt.ylabel('Количество поездок')\n",
    "plt.title('Пользователи без подписки - расстояние за одну поездку, м' + '\\n', fontsize=17)\n",
    "plt.show();\n",
    "\n",
    "# Гистограмма продолжительности поездки пользователей без подписки\n",
    "\n",
    "df_notsub.pivot_table(index=['user_id'], values='duration', aggfunc='sum')\\\n",
    "                    .plot.hist(bins=50, grid=True, legend=True, figsize = (15,6), color='Teal')\n",
    "plt.xlabel('Продолжительность, мин')\n",
    "plt.ylabel('Количество поездок')\n",
    "plt.title('Пользователи без подписки - продолжительность поездки, мин' + '\\n', fontsize=17)\n",
    "plt.show();"
   ]
  },
  {
   "cell_type": "markdown",
   "id": "81ff5b2e",
   "metadata": {},
   "source": [
    "Для пользователей без подписки:\n",
    "- Среднее расстояние, которое они проезжают за одну поездку, составляет около 42 км.\n",
    "- Средняя продолжительность поездки составляет примерно 240,93 минуты.\n",
    "- Стандартное отклонение для расстояния и продолжительности поездки относительно невелико, что указывает на сравнительно небольшой разброс в данных.\n",
    "- Минимальное расстояние, которое проехали пользователи без подписки, составляет около 8,8 км.\n",
    "- Максимальное расстояние достигает около 79,3 км, что является выдающимся результатом."
   ]
  },
  {
   "cell_type": "code",
   "execution_count": 27,
   "id": "21ec5eb1",
   "metadata": {
    "scrolled": false
   },
   "outputs": [
    {
     "data": {
      "text/html": [
       "<div>\n",
       "<style scoped>\n",
       "    .dataframe tbody tr th:only-of-type {\n",
       "        vertical-align: middle;\n",
       "    }\n",
       "\n",
       "    .dataframe tbody tr th {\n",
       "        vertical-align: top;\n",
       "    }\n",
       "\n",
       "    .dataframe thead th {\n",
       "        text-align: right;\n",
       "    }\n",
       "</style>\n",
       "<table border=\"1\" class=\"dataframe\">\n",
       "  <thead>\n",
       "    <tr style=\"text-align: right;\">\n",
       "      <th></th>\n",
       "      <th>distance</th>\n",
       "      <th>duration</th>\n",
       "    </tr>\n",
       "  </thead>\n",
       "  <tbody>\n",
       "    <tr>\n",
       "      <th>count</th>\n",
       "      <td>699.000000</td>\n",
       "      <td>699.000000</td>\n",
       "    </tr>\n",
       "    <tr>\n",
       "      <th>mean</th>\n",
       "      <td>28970.522206</td>\n",
       "      <td>172.421894</td>\n",
       "    </tr>\n",
       "    <tr>\n",
       "      <th>std</th>\n",
       "      <td>10370.610254</td>\n",
       "      <td>61.061422</td>\n",
       "    </tr>\n",
       "    <tr>\n",
       "      <th>min</th>\n",
       "      <td>5530.344048</td>\n",
       "      <td>34.157765</td>\n",
       "    </tr>\n",
       "    <tr>\n",
       "      <th>25%</th>\n",
       "      <td>21411.243798</td>\n",
       "      <td>126.094588</td>\n",
       "    </tr>\n",
       "    <tr>\n",
       "      <th>50%</th>\n",
       "      <td>28630.341916</td>\n",
       "      <td>169.739505</td>\n",
       "    </tr>\n",
       "    <tr>\n",
       "      <th>75%</th>\n",
       "      <td>35708.654860</td>\n",
       "      <td>209.445901</td>\n",
       "    </tr>\n",
       "    <tr>\n",
       "      <th>max</th>\n",
       "      <td>65393.983354</td>\n",
       "      <td>411.822515</td>\n",
       "    </tr>\n",
       "  </tbody>\n",
       "</table>\n",
       "</div>"
      ],
      "text/plain": [
       "           distance    duration\n",
       "count    699.000000  699.000000\n",
       "mean   28970.522206  172.421894\n",
       "std    10370.610254   61.061422\n",
       "min     5530.344048   34.157765\n",
       "25%    21411.243798  126.094588\n",
       "50%    28630.341916  169.739505\n",
       "75%    35708.654860  209.445901\n",
       "max    65393.983354  411.822515"
      ]
     },
     "metadata": {},
     "output_type": "display_data"
    },
    {
     "data": {
      "image/png": "[encoded data removed]",
      "text/plain": [
       "<Figure size 1080x432 with 1 Axes>"
      ]
     },
     "metadata": {
      "needs_background": "light"
     },
     "output_type": "display_data"
    },
    {
     "data": {
      "image/png": "[encoded data removed]",
      "text/plain": [
       "<Figure size 1080x432 with 1 Axes>"
      ]
     },
     "metadata": {
      "needs_background": "light"
     },
     "output_type": "display_data"
    }
   ],
   "source": [
    "# Статистические данных пользователей с подпиской\n",
    "display(df_sub.pivot_table(index=['user_id'], values=['distance', 'duration'], aggfunc='sum').describe())\n",
    "\n",
    "# Гистограмма расстояния, которое проезжает пользователь с подпиской за одну сессию\n",
    "\n",
    "df_sub.pivot_table(index=['user_id'],values='distance', aggfunc='sum')\\\n",
    "                    .plot.hist(bins=50, grid=True, legend=True, figsize = (15,6), color='Teal')\n",
    "plt.xlabel('Расстояние, м')\n",
    "plt.ylabel('Количество поездок')\n",
    "plt.title('Пользователи с подпиской Ultra - расстояние за одну поездку, м' + '\\n', fontsize=17)\n",
    "plt.show();\n",
    "\n",
    "# Гистограмма продолжительности поездки пользователей c подпиской\n",
    "\n",
    "df_sub.pivot_table(index=['user_id'],values='duration', aggfunc='sum')\\\n",
    "                    .plot.hist(bins=50, grid=True, legend=True, figsize = (15,6), color='Teal')\n",
    "plt.xlabel('Продолжительность, мин')\n",
    "plt.ylabel('Количество поездок')\n",
    "plt.title('Пользователи с подпиской Ultra - продолжительность поездки, мин' + '\\n', fontsize=17)\n",
    "plt.show();"
   ]
  },
  {
   "cell_type": "markdown",
   "id": "d10e47a9",
   "metadata": {},
   "source": [
    "Для пользователей с подпиской Ultra:\n",
    "- Среднее расстояние, которое они проезжают за одну поездку, составляет около 29 км.\n",
    "- Средняя продолжительность поездки составляет примерно 172 минуты.\n",
    "- Стандартное отклонение для расстояния и продолжительности поездки также относительно невелико.\n",
    "- Минимальное расстояние, которое проехали пользователи с подпиской Ultra, составляет около 5,53 км.\n",
    "- Максимальное расстояние достигает около 65,4 км."
   ]
  },
  {
   "cell_type": "markdown",
   "id": "81349adc",
   "metadata": {},
   "source": [
    "**Вывод по разделу \"Объединение данных\"**\n",
    "\n",
    "Мы объединили данные о пользователях, поездках и подписках в один датафрейм. А также, проанализировали информацию отдельно о пользователях с подпиской и без. Пользователи аренды самокатов без подписки в среднем проезжают за сессию более длинные расстояния и имеют более длительные поездки по сравнению с пользователями с подпиской Ultra."
   ]
  },
  {
   "cell_type": "markdown",
   "id": "402d620f",
   "metadata": {},
   "source": [
    "## Ⅴ. Подсчёт выручки"
   ]
  },
  {
   "cell_type": "markdown",
   "id": "8481518e",
   "metadata": {},
   "source": [
    "##### Создадим датафрейм с агрегированными данными"
   ]
  },
  {
   "cell_type": "code",
   "execution_count": 28,
   "id": "bdf8a393",
   "metadata": {},
   "outputs": [],
   "source": [
    "# округлим данные в столбцах duration и distance\n",
    "\n",
    "full_data['duration'] = np.ceil(full_data['duration']).astype('int')\n",
    "full_data['distance'] = np.ceil(full_data['distance']).astype('int')"
   ]
  },
  {
   "cell_type": "code",
   "execution_count": 29,
   "id": "447989f0",
   "metadata": {},
   "outputs": [],
   "source": [
    "# Создадим датафрейм с агрегированными данными\n",
    "\n",
    "agg_data = full_data.groupby(['user_id', 'name', 'age', 'city', 'subscription_type', 'month', 'minute_price', 'start_ride_price', 'subscription_fee']).agg({\n",
    "    'distance': 'sum',\n",
    "    'duration': 'sum',\n",
    "    'name':'count'}).rename(columns={'name':'month_count'}).reset_index()"
   ]
  },
  {
   "cell_type": "code",
   "execution_count": 30,
   "id": "e7513ec9",
   "metadata": {},
   "outputs": [
    {
     "data": {
      "text/html": [
       "<div>\n",
       "<style scoped>\n",
       "    .dataframe tbody tr th:only-of-type {\n",
       "        vertical-align: middle;\n",
       "    }\n",
       "\n",
       "    .dataframe tbody tr th {\n",
       "        vertical-align: top;\n",
       "    }\n",
       "\n",
       "    .dataframe thead th {\n",
       "        text-align: right;\n",
       "    }\n",
       "</style>\n",
       "<table border=\"1\" class=\"dataframe\">\n",
       "  <thead>\n",
       "    <tr style=\"text-align: right;\">\n",
       "      <th></th>\n",
       "      <th>user_id</th>\n",
       "      <th>name</th>\n",
       "      <th>age</th>\n",
       "      <th>city</th>\n",
       "      <th>subscription_type</th>\n",
       "      <th>month</th>\n",
       "      <th>minute_price</th>\n",
       "      <th>start_ride_price</th>\n",
       "      <th>subscription_fee</th>\n",
       "      <th>distance</th>\n",
       "      <th>duration</th>\n",
       "      <th>month_count</th>\n",
       "    </tr>\n",
       "  </thead>\n",
       "  <tbody>\n",
       "    <tr>\n",
       "      <th>0</th>\n",
       "      <td>1</td>\n",
       "      <td>Кира</td>\n",
       "      <td>22</td>\n",
       "      <td>Тюмень</td>\n",
       "      <td>ultra</td>\n",
       "      <td>1</td>\n",
       "      <td>6</td>\n",
       "      <td>0</td>\n",
       "      <td>199</td>\n",
       "      <td>7028</td>\n",
       "      <td>42</td>\n",
       "      <td>2</td>\n",
       "    </tr>\n",
       "    <tr>\n",
       "      <th>1</th>\n",
       "      <td>1</td>\n",
       "      <td>Кира</td>\n",
       "      <td>22</td>\n",
       "      <td>Тюмень</td>\n",
       "      <td>ultra</td>\n",
       "      <td>4</td>\n",
       "      <td>6</td>\n",
       "      <td>0</td>\n",
       "      <td>199</td>\n",
       "      <td>755</td>\n",
       "      <td>7</td>\n",
       "      <td>1</td>\n",
       "    </tr>\n",
       "    <tr>\n",
       "      <th>2</th>\n",
       "      <td>1</td>\n",
       "      <td>Кира</td>\n",
       "      <td>22</td>\n",
       "      <td>Тюмень</td>\n",
       "      <td>ultra</td>\n",
       "      <td>8</td>\n",
       "      <td>6</td>\n",
       "      <td>0</td>\n",
       "      <td>199</td>\n",
       "      <td>6724</td>\n",
       "      <td>46</td>\n",
       "      <td>2</td>\n",
       "    </tr>\n",
       "    <tr>\n",
       "      <th>3</th>\n",
       "      <td>1</td>\n",
       "      <td>Кира</td>\n",
       "      <td>22</td>\n",
       "      <td>Тюмень</td>\n",
       "      <td>ultra</td>\n",
       "      <td>10</td>\n",
       "      <td>6</td>\n",
       "      <td>0</td>\n",
       "      <td>199</td>\n",
       "      <td>5811</td>\n",
       "      <td>32</td>\n",
       "      <td>2</td>\n",
       "    </tr>\n",
       "    <tr>\n",
       "      <th>4</th>\n",
       "      <td>1</td>\n",
       "      <td>Кира</td>\n",
       "      <td>22</td>\n",
       "      <td>Тюмень</td>\n",
       "      <td>ultra</td>\n",
       "      <td>11</td>\n",
       "      <td>6</td>\n",
       "      <td>0</td>\n",
       "      <td>199</td>\n",
       "      <td>7005</td>\n",
       "      <td>56</td>\n",
       "      <td>3</td>\n",
       "    </tr>\n",
       "  </tbody>\n",
       "</table>\n",
       "</div>"
      ],
      "text/plain": [
       "   user_id  name  age    city subscription_type  month  minute_price  \\\n",
       "0        1  Кира   22  Тюмень             ultra      1             6   \n",
       "1        1  Кира   22  Тюмень             ultra      4             6   \n",
       "2        1  Кира   22  Тюмень             ultra      8             6   \n",
       "3        1  Кира   22  Тюмень             ultra     10             6   \n",
       "4        1  Кира   22  Тюмень             ultra     11             6   \n",
       "\n",
       "   start_ride_price  subscription_fee  distance  duration  month_count  \n",
       "0                 0               199      7028        42            2  \n",
       "1                 0               199       755         7            1  \n",
       "2                 0               199      6724        46            2  \n",
       "3                 0               199      5811        32            2  \n",
       "4                 0               199      7005        56            3  "
      ]
     },
     "execution_count": 30,
     "metadata": {},
     "output_type": "execute_result"
    }
   ],
   "source": [
    "agg_data.head()"
   ]
  },
  {
   "cell_type": "markdown",
   "id": "aaaaff56",
   "metadata": {},
   "source": [
    "#####  Добавим столбец с помесячной выручкой"
   ]
  },
  {
   "cell_type": "code",
   "execution_count": 31,
   "id": "8fcd2940",
   "metadata": {},
   "outputs": [],
   "source": [
    "# Расчёт помесячной выручки\n",
    "\n",
    "agg_data['month_revenue'] = (\n",
    "    agg_data['start_ride_price'] * agg_data['month_count'] + \n",
    "    agg_data['minute_price'] * agg_data['duration'] + \n",
    "    agg_data['subscription_fee']\n",
    ")"
   ]
  },
  {
   "cell_type": "code",
   "execution_count": 32,
   "id": "514fd147",
   "metadata": {},
   "outputs": [
    {
     "data": {
      "text/html": [
       "<div>\n",
       "<style scoped>\n",
       "    .dataframe tbody tr th:only-of-type {\n",
       "        vertical-align: middle;\n",
       "    }\n",
       "\n",
       "    .dataframe tbody tr th {\n",
       "        vertical-align: top;\n",
       "    }\n",
       "\n",
       "    .dataframe thead th {\n",
       "        text-align: right;\n",
       "    }\n",
       "</style>\n",
       "<table border=\"1\" class=\"dataframe\">\n",
       "  <thead>\n",
       "    <tr style=\"text-align: right;\">\n",
       "      <th></th>\n",
       "      <th>user_id</th>\n",
       "      <th>name</th>\n",
       "      <th>age</th>\n",
       "      <th>city</th>\n",
       "      <th>subscription_type</th>\n",
       "      <th>month</th>\n",
       "      <th>distance</th>\n",
       "      <th>duration</th>\n",
       "      <th>month_revenue</th>\n",
       "    </tr>\n",
       "  </thead>\n",
       "  <tbody>\n",
       "    <tr>\n",
       "      <th>0</th>\n",
       "      <td>1</td>\n",
       "      <td>Кира</td>\n",
       "      <td>22</td>\n",
       "      <td>Тюмень</td>\n",
       "      <td>ultra</td>\n",
       "      <td>1</td>\n",
       "      <td>7028</td>\n",
       "      <td>42</td>\n",
       "      <td>451</td>\n",
       "    </tr>\n",
       "    <tr>\n",
       "      <th>1</th>\n",
       "      <td>1</td>\n",
       "      <td>Кира</td>\n",
       "      <td>22</td>\n",
       "      <td>Тюмень</td>\n",
       "      <td>ultra</td>\n",
       "      <td>4</td>\n",
       "      <td>755</td>\n",
       "      <td>7</td>\n",
       "      <td>241</td>\n",
       "    </tr>\n",
       "    <tr>\n",
       "      <th>2</th>\n",
       "      <td>1</td>\n",
       "      <td>Кира</td>\n",
       "      <td>22</td>\n",
       "      <td>Тюмень</td>\n",
       "      <td>ultra</td>\n",
       "      <td>8</td>\n",
       "      <td>6724</td>\n",
       "      <td>46</td>\n",
       "      <td>475</td>\n",
       "    </tr>\n",
       "    <tr>\n",
       "      <th>3</th>\n",
       "      <td>1</td>\n",
       "      <td>Кира</td>\n",
       "      <td>22</td>\n",
       "      <td>Тюмень</td>\n",
       "      <td>ultra</td>\n",
       "      <td>10</td>\n",
       "      <td>5811</td>\n",
       "      <td>32</td>\n",
       "      <td>391</td>\n",
       "    </tr>\n",
       "    <tr>\n",
       "      <th>4</th>\n",
       "      <td>1</td>\n",
       "      <td>Кира</td>\n",
       "      <td>22</td>\n",
       "      <td>Тюмень</td>\n",
       "      <td>ultra</td>\n",
       "      <td>11</td>\n",
       "      <td>7005</td>\n",
       "      <td>56</td>\n",
       "      <td>535</td>\n",
       "    </tr>\n",
       "    <tr>\n",
       "      <th>5</th>\n",
       "      <td>1</td>\n",
       "      <td>Кира</td>\n",
       "      <td>22</td>\n",
       "      <td>Тюмень</td>\n",
       "      <td>ultra</td>\n",
       "      <td>12</td>\n",
       "      <td>6753</td>\n",
       "      <td>28</td>\n",
       "      <td>367</td>\n",
       "    </tr>\n",
       "    <tr>\n",
       "      <th>6</th>\n",
       "      <td>2</td>\n",
       "      <td>Станислав</td>\n",
       "      <td>31</td>\n",
       "      <td>Омск</td>\n",
       "      <td>ultra</td>\n",
       "      <td>3</td>\n",
       "      <td>10190</td>\n",
       "      <td>63</td>\n",
       "      <td>577</td>\n",
       "    </tr>\n",
       "    <tr>\n",
       "      <th>7</th>\n",
       "      <td>2</td>\n",
       "      <td>Станислав</td>\n",
       "      <td>31</td>\n",
       "      <td>Омск</td>\n",
       "      <td>ultra</td>\n",
       "      <td>4</td>\n",
       "      <td>6165</td>\n",
       "      <td>40</td>\n",
       "      <td>439</td>\n",
       "    </tr>\n",
       "    <tr>\n",
       "      <th>8</th>\n",
       "      <td>2</td>\n",
       "      <td>Станислав</td>\n",
       "      <td>31</td>\n",
       "      <td>Омск</td>\n",
       "      <td>ultra</td>\n",
       "      <td>6</td>\n",
       "      <td>3256</td>\n",
       "      <td>14</td>\n",
       "      <td>283</td>\n",
       "    </tr>\n",
       "    <tr>\n",
       "      <th>9</th>\n",
       "      <td>2</td>\n",
       "      <td>Станислав</td>\n",
       "      <td>31</td>\n",
       "      <td>Омск</td>\n",
       "      <td>ultra</td>\n",
       "      <td>7</td>\n",
       "      <td>6781</td>\n",
       "      <td>48</td>\n",
       "      <td>487</td>\n",
       "    </tr>\n",
       "  </tbody>\n",
       "</table>\n",
       "</div>"
      ],
      "text/plain": [
       "   user_id       name  age    city subscription_type  month  distance  \\\n",
       "0        1       Кира   22  Тюмень             ultra      1      7028   \n",
       "1        1       Кира   22  Тюмень             ultra      4       755   \n",
       "2        1       Кира   22  Тюмень             ultra      8      6724   \n",
       "3        1       Кира   22  Тюмень             ultra     10      5811   \n",
       "4        1       Кира   22  Тюмень             ultra     11      7005   \n",
       "5        1       Кира   22  Тюмень             ultra     12      6753   \n",
       "6        2  Станислав   31    Омск             ultra      3     10190   \n",
       "7        2  Станислав   31    Омск             ultra      4      6165   \n",
       "8        2  Станислав   31    Омск             ultra      6      3256   \n",
       "9        2  Станислав   31    Омск             ultra      7      6781   \n",
       "\n",
       "   duration  month_revenue  \n",
       "0        42            451  \n",
       "1         7            241  \n",
       "2        46            475  \n",
       "3        32            391  \n",
       "4        56            535  \n",
       "5        28            367  \n",
       "6        63            577  \n",
       "7        40            439  \n",
       "8        14            283  \n",
       "9        48            487  "
      ]
     },
     "execution_count": 32,
     "metadata": {},
     "output_type": "execute_result"
    }
   ],
   "source": [
    "agg_data_pivot = agg_data.groupby(['user_id', 'name', 'age', 'city', 'subscription_type', 'month']).agg({\n",
    "    'distance': 'sum',\n",
    "    'duration': 'sum',\n",
    "    'month_revenue':'sum'}).reset_index()\n",
    "agg_data_pivot.head(10)"
   ]
  },
  {
   "cell_type": "markdown",
   "id": "0dd8c237",
   "metadata": {},
   "source": [
    "**Вывод по разделу \"Подсчёт выручки\"**\n",
    "\n",
    "Мы собрали агрегированные данные о поездках и посчитали суммарное расстояние, количество поездок и общее время в пути для каждого пользователя в течение каждого месяца. Дополнительно, мы внесли информацию о месячной выручке, полученной от каждого пользователя, в этот же датафрейм. Для более наглядной интерпретации продолжительности поездок, мы округлили их значения до ближайшего целого числа."
   ]
  },
  {
   "cell_type": "markdown",
   "id": "41545ac0",
   "metadata": {},
   "source": [
    "## Ⅵ. Проверка гипотез"
   ]
  },
  {
   "cell_type": "markdown",
   "id": "fe0958b8",
   "metadata": {},
   "source": [
    "### Гипотеза 1."
   ]
  },
  {
   "cell_type": "markdown",
   "id": "c6fd6dfd",
   "metadata": {},
   "source": [
    "##### Трятят ли пользователи с подпиской больше времени на поездки."
   ]
  },
  {
   "cell_type": "markdown",
   "id": "061081c7",
   "metadata": {},
   "source": [
    "Важно понять, тратят ли пользователи с подпиской больше времени на поездки? Если да, то пользователи с подпиской могут быть «выгоднее» для компании. Проверьте гипотезу. Используйте исходные данные о продолжительности каждой сессии — отдельно для подписчиков и тех, у кого нет подписки."
   ]
  },
  {
   "cell_type": "markdown",
   "id": "cec06156",
   "metadata": {},
   "source": [
    "У нас есть количество времени, которое пользователи тратят в сервисе: пользователи с подпиской и без. Проверим гипотезу о том, что пользователи с подпиской оставляют больше денег в приложении.\n",
    "\n",
    "Нулевая гипотеза: среднее время сессий пользователей из двух групп равны.  \n",
    "Альтернативная гипотеза: среднее время сессий пользователей с подпиской больше, чем среднее время сессий пользователей без подписки."
   ]
  },
  {
   "cell_type": "code",
   "execution_count": 33,
   "id": "5c6cc873",
   "metadata": {
    "scrolled": false
   },
   "outputs": [
    {
     "name": "stdout",
     "output_type": "stream",
     "text": [
      "Количество сессий с подпиской:  6500\n",
      "Количество сессий без подписки:  11568\n",
      "p-значение: 1.1814679253701353e-36\n",
      "Отвергаем нулевую гипотезу\n"
     ]
    }
   ],
   "source": [
    "sub_duration = full_data.query('subscription_type == \"ultra\"')['duration']\n",
    "notsub_duration = full_data.query('subscription_type == \"free\"')['duration']\n",
    "print('Количество сессий с подпиской: ', sub_duration.count())\n",
    "print('Количество сессий без подписки: ', notsub_duration.count())\n",
    "alpha =0.05\n",
    "results = st.ttest_ind(sub_duration, notsub_duration, equal_var=False, alternative='greater')\n",
    "print('p-значение:', results.pvalue)\n",
    "if results.pvalue < alpha:\n",
    "    print('Отвергаем нулевую гипотезу')\n",
    "else:\n",
    "    print('Не получилось отвергнуть нулевую гипотезу')"
   ]
  },
  {
   "cell_type": "markdown",
   "id": "53a7bc3b",
   "metadata": {},
   "source": [
    "**Вывод:** пользователи с подпиской тратят за сессию в сервисе больше времени."
   ]
  },
  {
   "cell_type": "markdown",
   "id": "acf3fc0f",
   "metadata": {},
   "source": [
    "### Гипотеза 2."
   ]
  },
  {
   "cell_type": "markdown",
   "id": "a53d81be",
   "metadata": {},
   "source": [
    "##### Cреднее расстояние, которое проезжают пользователи с подпиской за одну поездку, не превышает 3130 метров? "
   ]
  },
  {
   "cell_type": "markdown",
   "id": "6e10f022",
   "metadata": {},
   "source": [
    "Расстояние одной поездки в 3130 метров — оптимальное с точки зрения износа самоката. Можно ли сказать, что среднее расстояние, которое проезжают пользователи с подпиской за одну поездку, не превышает 3130 метров? "
   ]
  },
  {
   "cell_type": "markdown",
   "id": "5233dc85",
   "metadata": {},
   "source": [
    "Нулевая гипотеза: среднее расстояние, которое проезжают пользователи с подпиской за одну поездку не превышает оптимальных 3130 метров.  \n",
    "Альтернативная гипотеза: среднее расстояние, которое проезжают пользователи с подпиской составляет более 3130 метров."
   ]
  },
  {
   "cell_type": "code",
   "execution_count": 34,
   "id": "65a3773f",
   "metadata": {},
   "outputs": [
    {
     "name": "stdout",
     "output_type": "stream",
     "text": [
      "p-значение: 0.9120422337080507\n",
      "Не получилось отвергнуть нулевую гипотезу\n"
     ]
    }
   ],
   "source": [
    "sub_distance = full_data.query('subscription_type == \"ultra\"')['distance']\n",
    "interested_value = 3130\n",
    "alpha = 0.05 \n",
    "results = st.ttest_1samp(sub_distance, interested_value, alternative='greater')\n",
    "print('p-значение:', results.pvalue)\n",
    "if results.pvalue < alpha:\n",
    "    print('Отвергаем нулевую гипотезу')\n",
    "else:\n",
    "    print('Не получилось отвергнуть нулевую гипотезу')"
   ]
  },
  {
   "cell_type": "markdown",
   "id": "6c1b3cfa",
   "metadata": {},
   "source": [
    "**Вывод**. Можно сказать, что среднее расстояние, которое проезжают пользователи с подпиской за одну поездку не превышает оптимальных 3130 метров."
   ]
  },
  {
   "cell_type": "markdown",
   "id": "44be1670",
   "metadata": {},
   "source": [
    "### Гипотеза 3."
   ]
  },
  {
   "cell_type": "markdown",
   "id": "d43ca0b4",
   "metadata": {},
   "source": [
    "##### Будет ли помесячная выручка от пользователей с подпиской по месяцам выше, чем выручка от пользователей без подписки. "
   ]
  },
  {
   "cell_type": "markdown",
   "id": "fdc9a283",
   "metadata": {},
   "source": [
    "Нулевая гипотеза: помесячная выручка от пользователей с подпиской по месяцам не превышает выручку от пользователей без подписки.  \n",
    "Альтернативная гипотеза: помесячная выручка от пользователей с подпиской по месяцам выше, чем выручка от пользователей без подписки."
   ]
  },
  {
   "cell_type": "code",
   "execution_count": 35,
   "id": "c82288f3",
   "metadata": {
    "scrolled": true
   },
   "outputs": [
    {
     "name": "stdout",
     "output_type": "stream",
     "text": [
      "Количество месяцев с выручкой пользователей с подпиской:  4533\n",
      "Количество месяцев с выручкой пользователей без подписки:  6798\n",
      "p-значение: 8.874140893976874e-40\n",
      "Отвергаем нулевую гипотезу\n"
     ]
    }
   ],
   "source": [
    "sub_month_revenue = agg_data_pivot.query('subscription_type == \"ultra\"')['month_revenue']\n",
    "notsub_month_revenue = agg_data_pivot.query('subscription_type == \"free\"')['month_revenue']\n",
    "print('Количество месяцев с выручкой пользователей с подпиской: ', sub_month_revenue.count())\n",
    "print('Количество месяцев с выручкой пользователей без подписки: ', notsub_month_revenue.count())\n",
    "alpha = 0.05\n",
    "results = st.ttest_ind(sub_month_revenue, notsub_month_revenue, equal_var=False, alternative='greater')\n",
    "print('p-значение:', results.pvalue)\n",
    "if results.pvalue < alpha:\n",
    "    print('Отвергаем нулевую гипотезу')\n",
    "else:\n",
    "    print('Не получилось отвергнуть нулевую гипотезу')"
   ]
  },
  {
   "cell_type": "markdown",
   "id": "6e231765",
   "metadata": {},
   "source": [
    "**Вывод:** помесячная выручка от пользователей с подпиской выше, чем выручка от пользователей без подписки."
   ]
  },
  {
   "cell_type": "markdown",
   "id": "071e83f2",
   "metadata": {},
   "source": [
    "### Вопрос  \n",
    "\n",
    "Техническая команда сервиса обновила сервера, с которыми взаимодействует мобильное приложение. Она надеется, что из-за этого количество обращений в техподдержку значимо снизилось. Некоторый файл содержит для каждого пользователя данные о количестве обращений до обновления и после него. Какой тест вам понадобился бы для проверки этой гипотезы?"
   ]
  },
  {
   "cell_type": "markdown",
   "id": "07941b81",
   "metadata": {},
   "source": [
    "**Ответ**  \n",
    "\n",
    "Для проверки этой гипотезы нам понадобился бы тест о равенстве средних для зависимых выборок до и после изменения, т.к. мы имеем дело с парными выборками одного и того же объекта - количество обращений пользователей в техподдержку до обновления и после него."
   ]
  },
  {
   "cell_type": "markdown",
   "id": "17da8be2",
   "metadata": {},
   "source": [
    "**Вывод по разделу \"Проверка гипотез\"**\n",
    "\n",
    "Проверка гипотез выявила несколько важных моментов:\n",
    "\n",
    " - пользователи с подпиской тратят за сессию в сервисе больше времени;\n",
    " - среднее расстояние, которое проезжают пользователи с подпиской за одну поездку не превышает оптимальных 3130 метров;\n",
    " - помесячная выручка от пользователей с подпиской выше, чем выручка от пользователей без подписки."
   ]
  },
  {
   "cell_type": "markdown",
   "id": "61213c5e",
   "metadata": {},
   "source": [
    "### Распределения"
   ]
  },
  {
   "cell_type": "markdown",
   "id": "0a149651",
   "metadata": {},
   "source": [
    "##### Задача 1\n",
    "\n",
    "Отделу маркетинга GoFast поставили задачу: нужно провести акцию с раздачей промокодов на один бесплатный месяц подписки, в рамках которой как минимум 100 существующих клиентов должны продлить эту подписку. То есть по завершении периода действия подписки пользователь может либо отказаться от неё, либо продлить, совершив соответствующий платёж. \n",
    "Эта акция уже проводилась ранее и по итогу выяснилось, что после бесплатного пробного периода подписку продлевают 10 % пользователей. Выясните, какое минимальное количество промокодов нужно разослать, чтобы вероятность не выполнить план была примерно 5 %. Подберите параметры распределения, описывающего эту ситуацию, постройте график распределения и сформулируйте ответ на вопрос о количестве промокодов."
   ]
  },
  {
   "cell_type": "markdown",
   "id": "2a3a6d36",
   "metadata": {},
   "source": [
    "**Решение**\n",
    "\n",
    "Для решения задачи воспользуемся кумулятивной функцией распределения, а также аппроксимируем биноминальное распределение нормальным.\n",
    "\n",
    "Для нормальной аппроксимации биномиального распределения, можно использовать центральную предельную теорему. Согласно этой теореме, если размер выборки достаточно велик, то биномиальное распределение можно аппроксимировать нормальным распределением.\n",
    "\n",
    "Математическое ожидание (mu) и стандартное отклонение (sigma) биномиального распределения можно вычислить по формулам: \n",
    "\n",
    "$$\\mu = n ⋅ p$$\n",
    "\n",
    "$$\\sigma = \\sqrt(n ⋅ p ⋅ (1 - p))$$\n",
    "\n",
    "где n - количество испытаний, p - вероятность успеха.\n",
    "\n",
    "Затем воспользуемся этими значениями для создания нормального распределения и вычисления функции распределения (CDF).\n",
    "\n",
    "На основе полученного распределения построим график."
   ]
  },
  {
   "cell_type": "code",
   "execution_count": 36,
   "id": "b0e3072e",
   "metadata": {
    "scrolled": false
   },
   "outputs": [
    {
     "data": {
      "image/png": "[encoded data removed]",
      "text/plain": [
       "<Figure size 432x288 with 1 Axes>"
      ]
     },
     "metadata": {
      "needs_background": "light"
     },
     "output_type": "display_data"
    },
    {
     "name": "stdout",
     "output_type": "stream",
     "text": [
      "Минимальное количество промокодов: 1158\n"
     ]
    }
   ],
   "source": [
    "# исходные данные\n",
    "p = 0.1\n",
    "target = 100\n",
    "alpha = 0.05\n",
    "\n",
    "n = target\n",
    "\n",
    "# найдём такое минимальное количество промокодов, для которого существует вероятность не выполнить план менее 5%\n",
    "while True:\n",
    "    mu = n * p\n",
    "    sigma = np.sqrt(n * p * (1 - p))\n",
    "    distr = st.norm(mu, sigma)\n",
    "    if distr.cdf(target-1) < alpha:\n",
    "        break\n",
    "    n += 1\n",
    "\n",
    "# построим график плотности распределения вероятности\n",
    "x = np.linspace(mu - 3*sigma, mu + 3*sigma, 100)\n",
    "plt.title('График плотности распределения вероятности' + \"\\n\", fontsize=12);\n",
    "plt.plot(x, distr.pdf(x))\n",
    "plt.show()\n",
    "\n",
    "print(f\"Минимальное количество промокодов: {n}\")"
   ]
  },
  {
   "cell_type": "markdown",
   "id": "b9e9bf71",
   "metadata": {},
   "source": [
    "Необходимо разослать 1158 промокодов, чтобы вероятность не выполнить план была 5 %"
   ]
  },
  {
   "cell_type": "markdown",
   "id": "23089aa5",
   "metadata": {},
   "source": [
    "##### Задача 2\n",
    "\n",
    "Отдел маркетинга рассылает клиентам push-уведомления в мобильном приложении. Клиенты могут открыть его или не открывать. Известно, что уведомления открывают около 40 % получивших клиентов. Отдел планирует разослать 1 млн уведомлений. С помощью аппроксимации постройте примерный график распределения и оцените вероятность того, что уведомление откроют не более 399,5 тыс. пользователей."
   ]
  },
  {
   "cell_type": "markdown",
   "id": "0a6acd36",
   "metadata": {},
   "source": [
    "**Решение**  \n",
    "\n",
    "Как и в предыдущей задаче рассчитаем мат ожидание и стандартное отклонение. Далее воспользуемся методом аппроксимациии биномиального распределения нормальным и вычислим вероятность с помощью функции cdf(). В заключении построим график."
   ]
  },
  {
   "cell_type": "code",
   "execution_count": 37,
   "id": "e1c2c0eb",
   "metadata": {
    "scrolled": false
   },
   "outputs": [
    {
     "data": {
      "image/png": "[encoded data removed]",
      "text/plain": [
       "<Figure size 432x288 with 1 Axes>"
      ]
     },
     "metadata": {
      "needs_background": "light"
     },
     "output_type": "display_data"
    },
    {
     "name": "stdout",
     "output_type": "stream",
     "text": [
      "Вероятность того, что уведомление откроют не более 399,5 тыс. пользователей: 15.37%\n"
     ]
    }
   ],
   "source": [
    "# задаём параметры биномиального распределения\n",
    "n = 1000000\n",
    "p = 0.4\n",
    "\n",
    "# задаём параметры нормального распределения равными\n",
    "# мат.ожиданию и дисперсии биномиального распределения\n",
    "mu = n * p\n",
    "sigma = np.sqrt(n * p * (1 - p))\n",
    "\n",
    "# значение, для которого хотим найти вероятность\n",
    "x = 399500\n",
    "\n",
    "# задаём нормальное распределение\n",
    "distr = st.norm(mu, sigma) \n",
    "\n",
    "# считаем вероятность хвоста справа от 399,5 тысяч\n",
    "result = distr.cdf(x)\n",
    "\n",
    "# построим график плотности распределения вероятности\n",
    "x = np.linspace(mu - 3*sigma, mu + 3*sigma, 100)\n",
    "plt.plot(x, distr.pdf(x))\n",
    "plt.title('График плотности распределения вероятности' + \"\\n\", fontsize=12);\n",
    "plt.show()\n",
    "\n",
    "print(f\"Вероятность того, что уведомление откроют не более 399,5 тыс. пользователей: {(result*100).round(2)}%\")"
   ]
  },
  {
   "cell_type": "markdown",
   "id": "42f06fd0",
   "metadata": {},
   "source": [
    "## Ⅶ. Общий вывод"
   ]
  },
  {
   "cell_type": "markdown",
   "id": "34d93768",
   "metadata": {},
   "source": [
    "Мы провели анализ данных о сервисе аренды самокатов GoFast, который предлагает два варианта использования: без подписки и с подпиской Ultra. Анализ был проведен в несколько этапов согласно представленным разделам.\n",
    "\n",
    "В разделе “Описание данных” мы загрузили и изучили данные о пользователях, поездках и подписках сервиса аренды самокатов. Мы проверили типы данных, наличие пропусков и дубликатов в каждой таблице.\n",
    "\n",
    "В разделе “Предобработка данных” мы привели данные к нужным типам, удалили дубликаты в таблице о пользователях и добавили столбец с номером месяца в таблице о поездках.\n",
    "\n",
    "В разделе “Исследовательский анализ данных” мы изучили распределение пользователей по возрасту, городу, подписке, а также среднюю продолжительность и расстояние поездок. Мы выявили особенности поведения пользователей в разных городах и сравнили популярность сервиса в них.\n",
    "\n",
    "В разделе “Объединение данных” мы соединили данные о пользователях, поездках и подписках в один датафрейм. Мы также сделали срезы данных по пользователям с подпиской и без, и проанализировали различия в их характеристиках.\n",
    "\n",
    "В разделе “Подсчёт выручки” мы сгруппировали данные по пользователям и месяцам, и посчитали суммарное расстояние, количество и время поездок для каждого пользователя. Мы также добавили столбец с месячной выручкой от каждого пользователя, учитывая тарифы подписки и стоимость за километр.\n",
    "\n",
    "В разделе \"Проверка гипотез\" были выявлены следующие закономерности:\n",
    "\n",
    "- Гипотеза о том, что пользователи с подпиской тратят за сессию в сервисе больше времени подтвердилась.\n",
    "\n",
    "- Гипотеза о том, что среднее расстояние, которое проезжают пользователи с подпиской за одну поездку не превышает оптимальных 3130 метров подтвердилась.\n",
    "\n",
    "- Гипотеза, что помесячная выручка от пользователей с подпиской выше, чем выручка от пользователей без подписки подтвердилась.\n",
    "\n",
    "На основе наших результатов мы можем сделать следующий общий вывод:  \n",
    "\n",
    "- Сервис имеет разную популярность в разных городах, причём наибольший спрос на него в Пятигорске, а наименьший - в Москве. Это может быть связано с различиями в размере, инфраструктуре, климате и культуре городов, а также с уровнем конкуренции на рынке аренды самокатов.\n",
    "\n",
    "\n",
    "- Сервис пользуется примерно одинаковым интересом среди пользователей с подпиской и без подписки, хотя пользователей без подписки немного больше. Это может говорить о том, что сервис не достаточно мотивирует пользователей переходить на подписку Ultra, которая имеет более выгодные условия для частого использования сервиса.\n",
    "\n",
    "\n",
    "- Сервис привлекает в основном молодых людей, средний возраст которых составляет 25 лет. Самому старшему пользователю 43 года. Это может быть обусловлено тем, что самокаты являются более привлекательным и доступным видом транспорта для молодёжи, чем для более взрослой аудитории.\n",
    "\n",
    "\n",
    "- Среднее расстояние, которое пользователь преодолевает за одну поездку, составляет около 3000 метров, а средняя продолжительность поездки - около 17 минут. Есть явная положительная связь между расстоянием и временем поездки, то есть чем дальше едет пользователь, тем дольше он едет. Это логично, так как скорость самокатов ограничена и зависит от условий движения.\n",
    "\n",
    "\n",
    "- Пользователи без подписки ездят дольше и дальше, чем пользователи с подпиской Ultra. Среднее расстояние, которое проезжают пользователи с подпиской за одну поездку составляет менее 3115 метров. Это может объясняться тем, что пользователи без подписки платят более высокую стоимость за каждую поездку. Это может стимулировать их использовать самокаты более эффективно и на длинные расстояния.\n",
    "\n",
    "\n",
    "- Помесячная выручка от пользователей с подпиской выше, чем выручка от пользователей без подписки. Это свидетельствует о том, что подписка Ultra является более прибыльным продуктом для сервиса GoFast, чем оплата за каждую поездку отдельно. Подписка Ultra также способствует повышению лояльности клиентов и уменьшению оттока.\n",
    "\n",
    "Таким образом, мы можем заключить, что сервис GoFast имеет потенциал для роста и развития на рынке аренды самокатов, но ему необходимо учитывать специфику разных городов и целевых аудиторий, а также стимулировать пользователей переходить на подписку Ultra."
   ]
  }
 ],
 "metadata": {
  "ExecuteTimeLog": [
   {
    "duration": 405,
    "start_time": "2023-10-08T10:39:38.334Z"
   },
   {
    "duration": 261,
    "start_time": "2023-10-08T10:39:40.784Z"
   },
   {
    "duration": 66,
    "start_time": "2023-10-08T10:41:40.597Z"
   },
   {
    "duration": 8,
    "start_time": "2023-10-08T10:41:41.595Z"
   },
   {
    "duration": 48,
    "start_time": "2023-10-08T10:42:08.560Z"
   },
   {
    "duration": 13,
    "start_time": "2023-10-08T10:49:20.102Z"
   },
   {
    "duration": 49,
    "start_time": "2023-10-08T10:49:28.687Z"
   },
   {
    "duration": 25,
    "start_time": "2023-10-08T10:49:39.938Z"
   },
   {
    "duration": 3,
    "start_time": "2023-10-08T10:52:47.665Z"
   },
   {
    "duration": 5,
    "start_time": "2023-10-08T10:53:23.458Z"
   },
   {
    "duration": 9,
    "start_time": "2023-10-08T10:53:47.203Z"
   },
   {
    "duration": 2,
    "start_time": "2023-10-08T10:54:05.709Z"
   },
   {
    "duration": 95,
    "start_time": "2023-10-08T10:54:05.713Z"
   },
   {
    "duration": 40,
    "start_time": "2023-10-08T10:54:05.810Z"
   },
   {
    "duration": 49,
    "start_time": "2023-10-08T10:54:05.851Z"
   },
   {
    "duration": 6,
    "start_time": "2023-10-08T10:54:09.648Z"
   },
   {
    "duration": 9,
    "start_time": "2023-10-08T10:54:11.508Z"
   },
   {
    "duration": 9,
    "start_time": "2023-10-08T10:58:22.398Z"
   },
   {
    "duration": 9,
    "start_time": "2023-10-08T10:58:30.765Z"
   },
   {
    "duration": 9,
    "start_time": "2023-10-08T10:58:44.982Z"
   },
   {
    "duration": 7,
    "start_time": "2023-10-08T10:58:57.427Z"
   },
   {
    "duration": 6,
    "start_time": "2023-10-08T10:59:06.926Z"
   },
   {
    "duration": 9,
    "start_time": "2023-10-08T10:59:31.214Z"
   },
   {
    "duration": 9,
    "start_time": "2023-10-08T11:00:02.781Z"
   },
   {
    "duration": 11,
    "start_time": "2023-10-08T11:00:16.364Z"
   },
   {
    "duration": 10,
    "start_time": "2023-10-08T11:00:20.507Z"
   },
   {
    "duration": 8,
    "start_time": "2023-10-08T11:00:31.857Z"
   },
   {
    "duration": 7,
    "start_time": "2023-10-08T11:00:44.915Z"
   },
   {
    "duration": 7,
    "start_time": "2023-10-08T11:01:29.132Z"
   },
   {
    "duration": 6,
    "start_time": "2023-10-08T11:01:49.411Z"
   },
   {
    "duration": 10,
    "start_time": "2023-10-08T11:03:04.852Z"
   },
   {
    "duration": 17,
    "start_time": "2023-10-08T11:03:58.598Z"
   },
   {
    "duration": 10,
    "start_time": "2023-10-08T11:04:44.703Z"
   },
   {
    "duration": 11,
    "start_time": "2023-10-08T11:05:05.676Z"
   },
   {
    "duration": 13,
    "start_time": "2023-10-08T11:05:17.416Z"
   },
   {
    "duration": 11,
    "start_time": "2023-10-08T11:18:06.507Z"
   },
   {
    "duration": 29,
    "start_time": "2023-10-08T11:19:14.580Z"
   },
   {
    "duration": 8,
    "start_time": "2023-10-08T11:19:31.313Z"
   },
   {
    "duration": 7,
    "start_time": "2023-10-08T11:20:55.309Z"
   },
   {
    "duration": 5,
    "start_time": "2023-10-08T11:21:01.531Z"
   },
   {
    "duration": 5,
    "start_time": "2023-10-08T11:21:07.423Z"
   },
   {
    "duration": 6,
    "start_time": "2023-10-08T11:21:38.995Z"
   },
   {
    "duration": 7,
    "start_time": "2023-10-08T11:22:12.418Z"
   },
   {
    "duration": 8,
    "start_time": "2023-10-08T11:22:19.277Z"
   },
   {
    "duration": 5,
    "start_time": "2023-10-08T11:23:52.731Z"
   },
   {
    "duration": 8,
    "start_time": "2023-10-08T11:23:55.660Z"
   },
   {
    "duration": 9,
    "start_time": "2023-10-08T11:24:55.374Z"
   },
   {
    "duration": 84,
    "start_time": "2023-10-08T11:26:13.707Z"
   },
   {
    "duration": 9,
    "start_time": "2023-10-08T11:26:26.599Z"
   },
   {
    "duration": 3,
    "start_time": "2023-10-08T11:26:59.558Z"
   },
   {
    "duration": 107,
    "start_time": "2023-10-08T11:26:59.562Z"
   },
   {
    "duration": 44,
    "start_time": "2023-10-08T11:26:59.671Z"
   },
   {
    "duration": 10,
    "start_time": "2023-10-08T11:27:05.008Z"
   },
   {
    "duration": 15,
    "start_time": "2023-10-08T11:27:08.658Z"
   },
   {
    "duration": 20,
    "start_time": "2023-10-08T11:27:10.536Z"
   },
   {
    "duration": 4,
    "start_time": "2023-10-08T11:27:12.901Z"
   },
   {
    "duration": 9,
    "start_time": "2023-10-08T11:27:14.133Z"
   },
   {
    "duration": 6,
    "start_time": "2023-10-08T11:30:57.178Z"
   },
   {
    "duration": 6,
    "start_time": "2023-10-08T11:31:12.541Z"
   },
   {
    "duration": 9,
    "start_time": "2023-10-08T11:31:37.074Z"
   },
   {
    "duration": 8,
    "start_time": "2023-10-08T11:31:50.419Z"
   },
   {
    "duration": 9,
    "start_time": "2023-10-08T11:32:25.677Z"
   },
   {
    "duration": 9,
    "start_time": "2023-10-08T11:32:53.168Z"
   },
   {
    "duration": 9,
    "start_time": "2023-10-08T11:33:05.004Z"
   },
   {
    "duration": 10,
    "start_time": "2023-10-08T11:33:10.248Z"
   },
   {
    "duration": 12,
    "start_time": "2023-10-08T11:33:14.154Z"
   },
   {
    "duration": 13,
    "start_time": "2023-10-08T11:33:18.242Z"
   },
   {
    "duration": 8,
    "start_time": "2023-10-08T11:33:22.182Z"
   },
   {
    "duration": 8,
    "start_time": "2023-10-08T11:33:25.608Z"
   },
   {
    "duration": 10,
    "start_time": "2023-10-08T11:35:22.583Z"
   },
   {
    "duration": 12,
    "start_time": "2023-10-08T11:42:02.377Z"
   },
   {
    "duration": 6,
    "start_time": "2023-10-08T11:42:18.638Z"
   },
   {
    "duration": 608,
    "start_time": "2023-10-08T11:42:29.970Z"
   },
   {
    "duration": 4,
    "start_time": "2023-10-08T11:43:09.244Z"
   },
   {
    "duration": 121,
    "start_time": "2023-10-08T11:43:14.763Z"
   },
   {
    "duration": 205,
    "start_time": "2023-10-08T11:44:03.609Z"
   },
   {
    "duration": 140,
    "start_time": "2023-10-08T11:44:59.683Z"
   },
   {
    "duration": 130,
    "start_time": "2023-10-08T11:45:17.073Z"
   },
   {
    "duration": 149,
    "start_time": "2023-10-08T11:45:26.776Z"
   },
   {
    "duration": 125,
    "start_time": "2023-10-08T11:46:10.712Z"
   },
   {
    "duration": 134,
    "start_time": "2023-10-08T11:46:15.914Z"
   },
   {
    "duration": 140,
    "start_time": "2023-10-08T11:46:24.223Z"
   },
   {
    "duration": 146,
    "start_time": "2023-10-08T11:46:30.905Z"
   },
   {
    "duration": 138,
    "start_time": "2023-10-08T11:47:28.521Z"
   },
   {
    "duration": 3,
    "start_time": "2023-10-08T11:48:21.658Z"
   },
   {
    "duration": 72,
    "start_time": "2023-10-08T11:48:21.663Z"
   },
   {
    "duration": 49,
    "start_time": "2023-10-08T11:48:21.736Z"
   },
   {
    "duration": 13,
    "start_time": "2023-10-08T11:48:21.787Z"
   },
   {
    "duration": 5,
    "start_time": "2023-10-08T11:48:21.801Z"
   },
   {
    "duration": 40,
    "start_time": "2023-10-08T11:48:21.807Z"
   },
   {
    "duration": 20,
    "start_time": "2023-10-08T11:48:21.849Z"
   },
   {
    "duration": 10,
    "start_time": "2023-10-08T11:48:21.870Z"
   },
   {
    "duration": 166,
    "start_time": "2023-10-08T11:48:25.020Z"
   },
   {
    "duration": 147,
    "start_time": "2023-10-08T11:48:37.847Z"
   },
   {
    "duration": 220,
    "start_time": "2023-10-08T11:49:13.440Z"
   },
   {
    "duration": 150,
    "start_time": "2023-10-08T11:50:01.890Z"
   },
   {
    "duration": 160,
    "start_time": "2023-10-08T11:50:28.313Z"
   },
   {
    "duration": 131,
    "start_time": "2023-10-08T11:50:56.798Z"
   },
   {
    "duration": 209,
    "start_time": "2023-10-08T11:51:02.630Z"
   },
   {
    "duration": 220,
    "start_time": "2023-10-08T11:51:11.021Z"
   },
   {
    "duration": 191,
    "start_time": "2023-10-08T11:51:39.791Z"
   },
   {
    "duration": 191,
    "start_time": "2023-10-08T11:53:30.639Z"
   },
   {
    "duration": 172,
    "start_time": "2023-10-08T11:53:39.773Z"
   },
   {
    "duration": 198,
    "start_time": "2023-10-08T11:53:52.000Z"
   },
   {
    "duration": 200,
    "start_time": "2023-10-08T11:53:58.995Z"
   },
   {
    "duration": 191,
    "start_time": "2023-10-08T11:56:34.884Z"
   },
   {
    "duration": 12,
    "start_time": "2023-10-08T12:01:49.337Z"
   },
   {
    "duration": 9,
    "start_time": "2023-10-08T12:01:55.323Z"
   },
   {
    "duration": 5,
    "start_time": "2023-10-08T12:03:14.399Z"
   },
   {
    "duration": 8,
    "start_time": "2023-10-08T12:03:22.498Z"
   },
   {
    "duration": 12,
    "start_time": "2023-10-08T12:03:33.381Z"
   },
   {
    "duration": 38,
    "start_time": "2023-10-08T12:04:49.467Z"
   },
   {
    "duration": 4,
    "start_time": "2023-10-08T12:06:32.395Z"
   },
   {
    "duration": 4,
    "start_time": "2023-10-08T12:07:58.068Z"
   },
   {
    "duration": 4,
    "start_time": "2023-10-08T12:08:37.317Z"
   },
   {
    "duration": 11,
    "start_time": "2023-10-08T12:08:45.362Z"
   },
   {
    "duration": 42,
    "start_time": "2023-10-08T12:08:57.989Z"
   },
   {
    "duration": 46,
    "start_time": "2023-10-08T12:09:12.109Z"
   },
   {
    "duration": 5,
    "start_time": "2023-10-08T12:09:22.412Z"
   },
   {
    "duration": 68,
    "start_time": "2023-10-08T12:09:44.220Z"
   },
   {
    "duration": 119,
    "start_time": "2023-10-08T12:11:09.564Z"
   },
   {
    "duration": 4,
    "start_time": "2023-10-08T12:11:17.293Z"
   },
   {
    "duration": 42,
    "start_time": "2023-10-08T12:11:25.475Z"
   },
   {
    "duration": 142,
    "start_time": "2023-10-08T12:12:47.933Z"
   },
   {
    "duration": 100,
    "start_time": "2023-10-08T12:13:08.727Z"
   },
   {
    "duration": 231,
    "start_time": "2023-10-08T12:13:14.816Z"
   },
   {
    "duration": 164,
    "start_time": "2023-10-08T12:13:56.230Z"
   },
   {
    "duration": 49,
    "start_time": "2023-10-08T12:14:12.575Z"
   },
   {
    "duration": 96,
    "start_time": "2023-10-08T12:14:47.186Z"
   },
   {
    "duration": 43,
    "start_time": "2023-10-08T12:19:06.979Z"
   },
   {
    "duration": 95,
    "start_time": "2023-10-08T12:20:54.728Z"
   },
   {
    "duration": 9,
    "start_time": "2023-10-08T12:20:59.708Z"
   },
   {
    "duration": 48,
    "start_time": "2023-10-08T12:22:50.840Z"
   },
   {
    "duration": 95,
    "start_time": "2023-10-08T12:23:04.400Z"
   },
   {
    "duration": 101,
    "start_time": "2023-10-08T12:23:19.912Z"
   },
   {
    "duration": 84,
    "start_time": "2023-10-08T12:23:30.584Z"
   },
   {
    "duration": 86,
    "start_time": "2023-10-08T12:26:51.134Z"
   },
   {
    "duration": 38,
    "start_time": "2023-10-08T12:26:58.461Z"
   },
   {
    "duration": 97,
    "start_time": "2023-10-08T12:27:26.192Z"
   },
   {
    "duration": 11,
    "start_time": "2023-10-08T12:29:03.918Z"
   },
   {
    "duration": 40,
    "start_time": "2023-10-08T12:29:22.782Z"
   },
   {
    "duration": 55,
    "start_time": "2023-10-08T12:29:37.034Z"
   },
   {
    "duration": 42,
    "start_time": "2023-10-08T12:30:38.378Z"
   },
   {
    "duration": 88,
    "start_time": "2023-10-08T12:30:52.173Z"
   },
   {
    "duration": 51,
    "start_time": "2023-10-08T12:31:33.125Z"
   },
   {
    "duration": 44,
    "start_time": "2023-10-08T12:31:55.823Z"
   },
   {
    "duration": 48,
    "start_time": "2023-10-08T12:32:23.445Z"
   },
   {
    "duration": 65,
    "start_time": "2023-10-08T12:32:29.026Z"
   },
   {
    "duration": 60,
    "start_time": "2023-10-08T12:32:42.064Z"
   },
   {
    "duration": 77,
    "start_time": "2023-10-08T12:33:08.449Z"
   },
   {
    "duration": 64,
    "start_time": "2023-10-08T12:33:16.709Z"
   },
   {
    "duration": 11,
    "start_time": "2023-10-08T12:33:59.228Z"
   },
   {
    "duration": 9,
    "start_time": "2023-10-08T12:34:10.286Z"
   },
   {
    "duration": 11,
    "start_time": "2023-10-08T12:34:27.722Z"
   },
   {
    "duration": 102,
    "start_time": "2023-10-08T12:34:37.288Z"
   },
   {
    "duration": 12,
    "start_time": "2023-10-08T12:34:52.744Z"
   },
   {
    "duration": 59,
    "start_time": "2023-10-08T12:35:30.835Z"
   },
   {
    "duration": 59,
    "start_time": "2023-10-08T12:36:35.415Z"
   },
   {
    "duration": 43,
    "start_time": "2023-10-08T12:36:56.011Z"
   },
   {
    "duration": 50,
    "start_time": "2023-10-08T12:37:04.254Z"
   },
   {
    "duration": 3,
    "start_time": "2023-10-08T12:39:06.156Z"
   },
   {
    "duration": 102,
    "start_time": "2023-10-08T12:39:06.162Z"
   },
   {
    "duration": 43,
    "start_time": "2023-10-08T12:39:06.265Z"
   },
   {
    "duration": 16,
    "start_time": "2023-10-08T12:39:06.310Z"
   },
   {
    "duration": 93,
    "start_time": "2023-10-08T12:39:06.328Z"
   },
   {
    "duration": 17,
    "start_time": "2023-10-08T12:39:06.422Z"
   },
   {
    "duration": 19,
    "start_time": "2023-10-08T12:39:06.440Z"
   },
   {
    "duration": 11,
    "start_time": "2023-10-08T12:39:06.461Z"
   },
   {
    "duration": 195,
    "start_time": "2023-10-08T12:39:06.473Z"
   },
   {
    "duration": 6,
    "start_time": "2023-10-08T12:58:19.783Z"
   },
   {
    "duration": 106,
    "start_time": "2023-10-08T13:09:46.607Z"
   },
   {
    "duration": 143,
    "start_time": "2023-10-08T13:11:33.909Z"
   },
   {
    "duration": 183,
    "start_time": "2023-10-08T13:11:59.339Z"
   },
   {
    "duration": 189,
    "start_time": "2023-10-08T13:12:19.924Z"
   },
   {
    "duration": 151,
    "start_time": "2023-10-08T13:12:28.788Z"
   },
   {
    "duration": 167,
    "start_time": "2023-10-08T13:12:51.513Z"
   },
   {
    "duration": 157,
    "start_time": "2023-10-08T13:13:21.408Z"
   },
   {
    "duration": 279,
    "start_time": "2023-10-08T13:16:43.291Z"
   },
   {
    "duration": 375,
    "start_time": "2023-10-08T13:19:24.440Z"
   },
   {
    "duration": 154,
    "start_time": "2023-10-08T13:19:47.215Z"
   },
   {
    "duration": 257,
    "start_time": "2023-10-08T13:20:13.453Z"
   },
   {
    "duration": 153,
    "start_time": "2023-10-08T13:20:28.076Z"
   },
   {
    "duration": 149,
    "start_time": "2023-10-08T13:20:54.040Z"
   },
   {
    "duration": 342,
    "start_time": "2023-10-08T13:21:03.641Z"
   },
   {
    "duration": 8,
    "start_time": "2023-10-08T13:23:00.908Z"
   },
   {
    "duration": 13,
    "start_time": "2023-10-08T13:23:34.612Z"
   },
   {
    "duration": 127,
    "start_time": "2023-10-08T13:23:48.254Z"
   },
   {
    "duration": 124,
    "start_time": "2023-10-08T13:24:10.226Z"
   },
   {
    "duration": 8,
    "start_time": "2023-10-08T13:24:21.203Z"
   },
   {
    "duration": 141,
    "start_time": "2023-10-08T13:25:26.455Z"
   },
   {
    "duration": 158,
    "start_time": "2023-10-08T13:25:41.654Z"
   },
   {
    "duration": 74,
    "start_time": "2023-10-08T13:27:57.232Z"
   },
   {
    "duration": 76,
    "start_time": "2023-10-08T13:28:04.272Z"
   },
   {
    "duration": 369,
    "start_time": "2023-10-08T13:28:10.015Z"
   },
   {
    "duration": 515,
    "start_time": "2023-10-08T13:28:25.314Z"
   },
   {
    "duration": 385,
    "start_time": "2023-10-08T13:28:31.848Z"
   },
   {
    "duration": 381,
    "start_time": "2023-10-08T13:30:38.294Z"
   },
   {
    "duration": 325,
    "start_time": "2023-10-08T13:31:13.279Z"
   },
   {
    "duration": 413,
    "start_time": "2023-10-08T13:31:44.115Z"
   },
   {
    "duration": 393,
    "start_time": "2023-10-08T13:32:15.832Z"
   },
   {
    "duration": 521,
    "start_time": "2023-10-08T13:32:26.154Z"
   },
   {
    "duration": 301,
    "start_time": "2023-10-08T13:33:35.047Z"
   },
   {
    "duration": 375,
    "start_time": "2023-10-08T13:37:08.521Z"
   },
   {
    "duration": 359,
    "start_time": "2023-10-08T13:38:16.122Z"
   },
   {
    "duration": 343,
    "start_time": "2023-10-08T13:38:27.928Z"
   },
   {
    "duration": 650,
    "start_time": "2023-10-08T13:38:46.277Z"
   },
   {
    "duration": 702,
    "start_time": "2023-10-08T13:38:52.402Z"
   },
   {
    "duration": 1957,
    "start_time": "2023-10-08T13:39:01.123Z"
   },
   {
    "duration": 2110,
    "start_time": "2023-10-08T13:39:28.078Z"
   },
   {
    "duration": 2211,
    "start_time": "2023-10-08T13:40:25.775Z"
   },
   {
    "duration": 2164,
    "start_time": "2023-10-08T13:40:37.323Z"
   },
   {
    "duration": 19,
    "start_time": "2023-10-08T13:52:46.373Z"
   },
   {
    "duration": 15,
    "start_time": "2023-10-08T13:59:07.991Z"
   },
   {
    "duration": 16,
    "start_time": "2023-10-08T14:00:30.099Z"
   },
   {
    "duration": 13,
    "start_time": "2023-10-08T14:01:05.603Z"
   },
   {
    "duration": 15,
    "start_time": "2023-10-08T14:01:28.325Z"
   },
   {
    "duration": 16,
    "start_time": "2023-10-08T14:03:33.565Z"
   },
   {
    "duration": 16,
    "start_time": "2023-10-08T14:04:00.591Z"
   },
   {
    "duration": 17,
    "start_time": "2023-10-08T14:04:16.914Z"
   },
   {
    "duration": 20,
    "start_time": "2023-10-08T14:07:32.228Z"
   },
   {
    "duration": 85,
    "start_time": "2023-10-08T14:18:02.235Z"
   },
   {
    "duration": 119,
    "start_time": "2023-10-08T14:18:15.280Z"
   },
   {
    "duration": 41,
    "start_time": "2023-10-08T14:19:13.911Z"
   },
   {
    "duration": 13,
    "start_time": "2023-10-08T14:19:30.872Z"
   },
   {
    "duration": 22,
    "start_time": "2023-10-08T14:19:43.774Z"
   },
   {
    "duration": 16,
    "start_time": "2023-10-08T14:20:39.791Z"
   },
   {
    "duration": 17,
    "start_time": "2023-10-08T14:22:16.127Z"
   },
   {
    "duration": 16,
    "start_time": "2023-10-08T14:24:13.911Z"
   },
   {
    "duration": 16,
    "start_time": "2023-10-08T14:24:21.087Z"
   },
   {
    "duration": 201,
    "start_time": "2023-10-08T14:28:11.894Z"
   },
   {
    "duration": 183,
    "start_time": "2023-10-08T14:29:04.291Z"
   },
   {
    "duration": 221,
    "start_time": "2023-10-08T14:29:13.653Z"
   },
   {
    "duration": 184,
    "start_time": "2023-10-08T14:30:14.084Z"
   },
   {
    "duration": 338,
    "start_time": "2023-10-08T14:30:25.310Z"
   },
   {
    "duration": 1820,
    "start_time": "2023-10-08T14:30:58.773Z"
   },
   {
    "duration": 1869,
    "start_time": "2023-10-08T14:31:17.104Z"
   },
   {
    "duration": 190,
    "start_time": "2023-10-08T14:32:08.884Z"
   },
   {
    "duration": 197,
    "start_time": "2023-10-08T14:32:29.991Z"
   },
   {
    "duration": 200,
    "start_time": "2023-10-08T14:33:05.434Z"
   },
   {
    "duration": 1954,
    "start_time": "2023-10-08T14:33:16.280Z"
   },
   {
    "duration": 1839,
    "start_time": "2023-10-08T14:33:27.719Z"
   },
   {
    "duration": 1878,
    "start_time": "2023-10-08T14:33:44.850Z"
   },
   {
    "duration": 172,
    "start_time": "2023-10-08T14:34:08.324Z"
   },
   {
    "duration": 147,
    "start_time": "2023-10-08T14:34:17.222Z"
   },
   {
    "duration": 263,
    "start_time": "2023-10-08T14:34:25.127Z"
   },
   {
    "duration": 358,
    "start_time": "2023-10-08T14:35:11.824Z"
   },
   {
    "duration": 190,
    "start_time": "2023-10-08T14:35:25.517Z"
   },
   {
    "duration": 184,
    "start_time": "2023-10-08T14:36:15.943Z"
   },
   {
    "duration": 173,
    "start_time": "2023-10-08T14:36:34.812Z"
   },
   {
    "duration": 193,
    "start_time": "2023-10-08T14:37:50.001Z"
   },
   {
    "duration": 193,
    "start_time": "2023-10-08T14:37:56.157Z"
   },
   {
    "duration": 172,
    "start_time": "2023-10-08T14:37:57.521Z"
   },
   {
    "duration": 21,
    "start_time": "2023-10-08T14:38:35.060Z"
   },
   {
    "duration": 189,
    "start_time": "2023-10-08T14:39:16.522Z"
   },
   {
    "duration": 200,
    "start_time": "2023-10-08T14:39:21.552Z"
   },
   {
    "duration": 182,
    "start_time": "2023-10-08T14:39:27.902Z"
   },
   {
    "duration": 198,
    "start_time": "2023-10-08T14:40:19.051Z"
   },
   {
    "duration": 220,
    "start_time": "2023-10-08T14:40:29.039Z"
   },
   {
    "duration": 208,
    "start_time": "2023-10-08T14:41:53.204Z"
   },
   {
    "duration": 201,
    "start_time": "2023-10-08T14:42:15.924Z"
   },
   {
    "duration": 201,
    "start_time": "2023-10-08T14:43:34.718Z"
   },
   {
    "duration": 210,
    "start_time": "2023-10-08T14:44:12.194Z"
   },
   {
    "duration": 229,
    "start_time": "2023-10-08T14:44:27.982Z"
   },
   {
    "duration": 17,
    "start_time": "2023-10-08T14:58:51.564Z"
   },
   {
    "duration": 16,
    "start_time": "2023-10-08T14:58:54.900Z"
   },
   {
    "duration": 23,
    "start_time": "2023-10-08T14:58:58.326Z"
   },
   {
    "duration": 219,
    "start_time": "2023-10-08T14:58:59.513Z"
   },
   {
    "duration": 202,
    "start_time": "2023-10-08T14:59:01.042Z"
   },
   {
    "duration": 19,
    "start_time": "2023-10-08T15:02:50.186Z"
   },
   {
    "duration": 7,
    "start_time": "2023-10-08T15:05:25.881Z"
   },
   {
    "duration": 4,
    "start_time": "2023-10-08T15:06:27.382Z"
   },
   {
    "duration": 4,
    "start_time": "2023-10-08T15:06:56.735Z"
   },
   {
    "duration": 16,
    "start_time": "2023-10-08T15:14:48.532Z"
   },
   {
    "duration": 5224,
    "start_time": "2023-10-08T15:15:06.868Z"
   },
   {
    "duration": 50,
    "start_time": "2023-10-08T15:15:45.497Z"
   },
   {
    "duration": 846,
    "start_time": "2023-10-08T15:16:02.871Z"
   },
   {
    "duration": 220,
    "start_time": "2023-10-08T15:16:03.719Z"
   },
   {
    "duration": 42,
    "start_time": "2023-10-08T15:16:03.941Z"
   },
   {
    "duration": 14,
    "start_time": "2023-10-08T15:16:03.984Z"
   },
   {
    "duration": 17,
    "start_time": "2023-10-08T15:16:03.999Z"
   },
   {
    "duration": 40,
    "start_time": "2023-10-08T15:16:04.018Z"
   },
   {
    "duration": 36,
    "start_time": "2023-10-08T15:16:04.059Z"
   },
   {
    "duration": 25,
    "start_time": "2023-10-08T15:16:04.097Z"
   },
   {
    "duration": 199,
    "start_time": "2023-10-08T15:16:04.123Z"
   },
   {
    "duration": 165,
    "start_time": "2023-10-08T15:16:04.325Z"
   },
   {
    "duration": 344,
    "start_time": "2023-10-08T15:16:04.491Z"
   },
   {
    "duration": 1858,
    "start_time": "2023-10-08T15:16:04.837Z"
   },
   {
    "duration": 1716,
    "start_time": "2023-10-08T15:16:06.697Z"
   },
   {
    "duration": 18,
    "start_time": "2023-10-08T15:16:08.415Z"
   },
   {
    "duration": 41,
    "start_time": "2023-10-08T15:16:08.444Z"
   },
   {
    "duration": 24,
    "start_time": "2023-10-08T15:16:08.486Z"
   },
   {
    "duration": 224,
    "start_time": "2023-10-08T15:16:08.512Z"
   },
   {
    "duration": 199,
    "start_time": "2023-10-08T15:16:08.743Z"
   },
   {
    "duration": 3193,
    "start_time": "2023-10-08T15:16:13.691Z"
   },
   {
    "duration": 58,
    "start_time": "2023-10-08T15:17:04.560Z"
   },
   {
    "duration": 810,
    "start_time": "2023-10-08T15:17:12.815Z"
   },
   {
    "duration": 195,
    "start_time": "2023-10-08T15:17:13.626Z"
   },
   {
    "duration": 49,
    "start_time": "2023-10-08T15:17:13.823Z"
   },
   {
    "duration": 14,
    "start_time": "2023-10-08T15:17:13.874Z"
   },
   {
    "duration": 4,
    "start_time": "2023-10-08T15:17:13.890Z"
   },
   {
    "duration": 8,
    "start_time": "2023-10-08T15:17:13.896Z"
   },
   {
    "duration": 38,
    "start_time": "2023-10-08T15:17:13.906Z"
   },
   {
    "duration": 18,
    "start_time": "2023-10-08T15:17:13.945Z"
   },
   {
    "duration": 183,
    "start_time": "2023-10-08T15:17:13.964Z"
   },
   {
    "duration": 161,
    "start_time": "2023-10-08T15:17:14.148Z"
   },
   {
    "duration": 334,
    "start_time": "2023-10-08T15:17:14.311Z"
   },
   {
    "duration": 1775,
    "start_time": "2023-10-08T15:17:14.647Z"
   },
   {
    "duration": 1784,
    "start_time": "2023-10-08T15:17:16.424Z"
   },
   {
    "duration": 20,
    "start_time": "2023-10-08T15:17:18.211Z"
   },
   {
    "duration": 26,
    "start_time": "2023-10-08T15:17:18.243Z"
   },
   {
    "duration": 39,
    "start_time": "2023-10-08T15:17:18.270Z"
   },
   {
    "duration": 223,
    "start_time": "2023-10-08T15:17:18.310Z"
   },
   {
    "duration": 208,
    "start_time": "2023-10-08T15:17:18.535Z"
   },
   {
    "duration": 21,
    "start_time": "2023-10-08T15:17:21.711Z"
   },
   {
    "duration": 34,
    "start_time": "2023-10-08T15:18:19.611Z"
   },
   {
    "duration": 50,
    "start_time": "2023-10-08T15:19:10.242Z"
   },
   {
    "duration": 16,
    "start_time": "2023-10-08T15:19:27.371Z"
   },
   {
    "duration": 15,
    "start_time": "2023-10-08T15:19:36.874Z"
   },
   {
    "duration": 19,
    "start_time": "2023-10-08T15:19:45.573Z"
   },
   {
    "duration": 32,
    "start_time": "2023-10-08T15:19:58.700Z"
   },
   {
    "duration": 31,
    "start_time": "2023-10-08T15:20:16.662Z"
   },
   {
    "duration": 41,
    "start_time": "2023-10-08T15:20:24.376Z"
   },
   {
    "duration": 27,
    "start_time": "2023-10-08T15:20:55.856Z"
   },
   {
    "duration": 29,
    "start_time": "2023-10-08T15:21:07.210Z"
   },
   {
    "duration": 30,
    "start_time": "2023-10-08T15:21:13.614Z"
   },
   {
    "duration": 28,
    "start_time": "2023-10-08T15:21:19.127Z"
   },
   {
    "duration": 30,
    "start_time": "2023-10-08T15:23:02.181Z"
   },
   {
    "duration": 1509,
    "start_time": "2023-10-08T15:23:13.165Z"
   },
   {
    "duration": 12,
    "start_time": "2023-10-08T15:24:13.053Z"
   },
   {
    "duration": 33,
    "start_time": "2023-10-08T15:24:20.515Z"
   },
   {
    "duration": 29,
    "start_time": "2023-10-08T15:24:29.980Z"
   },
   {
    "duration": 110,
    "start_time": "2023-10-08T15:25:01.232Z"
   },
   {
    "duration": 77,
    "start_time": "2023-10-08T15:25:26.469Z"
   },
   {
    "duration": 10,
    "start_time": "2023-10-08T15:25:41.883Z"
   },
   {
    "duration": 16,
    "start_time": "2023-10-08T15:28:52.936Z"
   },
   {
    "duration": 8,
    "start_time": "2023-10-08T15:29:12.272Z"
   },
   {
    "duration": 8,
    "start_time": "2023-10-08T15:29:19.864Z"
   },
   {
    "duration": 122,
    "start_time": "2023-10-08T15:30:01.361Z"
   },
   {
    "duration": 9,
    "start_time": "2023-10-08T15:30:07.939Z"
   },
   {
    "duration": 3,
    "start_time": "2023-10-08T15:30:35.032Z"
   },
   {
    "duration": 16,
    "start_time": "2023-10-08T15:30:43.873Z"
   },
   {
    "duration": 25,
    "start_time": "2023-10-08T15:38:19.366Z"
   },
   {
    "duration": 32,
    "start_time": "2023-10-08T15:39:02.192Z"
   },
   {
    "duration": 31,
    "start_time": "2023-10-08T15:40:02.580Z"
   },
   {
    "duration": 24,
    "start_time": "2023-10-08T15:40:13.379Z"
   },
   {
    "duration": 22,
    "start_time": "2023-10-08T15:40:45.329Z"
   },
   {
    "duration": 12,
    "start_time": "2023-10-08T15:41:42.676Z"
   },
   {
    "duration": 24,
    "start_time": "2023-10-08T15:42:09.128Z"
   },
   {
    "duration": 13,
    "start_time": "2023-10-08T15:43:23.156Z"
   },
   {
    "duration": 17,
    "start_time": "2023-10-08T15:49:46.504Z"
   },
   {
    "duration": 20,
    "start_time": "2023-10-08T15:50:10.679Z"
   },
   {
    "duration": 20,
    "start_time": "2023-10-08T15:51:30.294Z"
   },
   {
    "duration": 19,
    "start_time": "2023-10-08T15:53:09.910Z"
   },
   {
    "duration": 16,
    "start_time": "2023-10-08T15:53:23.893Z"
   },
   {
    "duration": 11,
    "start_time": "2023-10-08T15:59:19.080Z"
   },
   {
    "duration": 20,
    "start_time": "2023-10-08T15:59:31.894Z"
   },
   {
    "duration": 30,
    "start_time": "2023-10-08T16:53:54.630Z"
   },
   {
    "duration": 10,
    "start_time": "2023-10-08T16:56:56.007Z"
   },
   {
    "duration": 7,
    "start_time": "2023-10-08T16:57:11.528Z"
   },
   {
    "duration": 172,
    "start_time": "2023-10-08T16:57:18.153Z"
   },
   {
    "duration": 9,
    "start_time": "2023-10-08T16:57:27.907Z"
   },
   {
    "duration": 123,
    "start_time": "2023-10-08T16:57:38.994Z"
   },
   {
    "duration": 10,
    "start_time": "2023-10-08T16:57:50.572Z"
   },
   {
    "duration": 8,
    "start_time": "2023-10-08T17:18:45.012Z"
   },
   {
    "duration": 7,
    "start_time": "2023-10-08T17:20:00.341Z"
   },
   {
    "duration": 7,
    "start_time": "2023-10-08T17:20:20.242Z"
   },
   {
    "duration": 6,
    "start_time": "2023-10-08T17:20:24.399Z"
   },
   {
    "duration": 6,
    "start_time": "2023-10-08T17:20:27.895Z"
   },
   {
    "duration": 6,
    "start_time": "2023-10-08T17:20:56.211Z"
   },
   {
    "duration": 7,
    "start_time": "2023-10-08T17:21:00.468Z"
   },
   {
    "duration": 22,
    "start_time": "2023-10-08T17:21:07.222Z"
   },
   {
    "duration": 21,
    "start_time": "2023-10-08T17:21:14.414Z"
   },
   {
    "duration": 12,
    "start_time": "2023-10-08T17:34:28.348Z"
   },
   {
    "duration": 13,
    "start_time": "2023-10-08T17:35:57.040Z"
   },
   {
    "duration": 11,
    "start_time": "2023-10-08T17:37:40.813Z"
   },
   {
    "duration": 26,
    "start_time": "2023-10-08T17:37:49.096Z"
   },
   {
    "duration": 27,
    "start_time": "2023-10-08T17:38:26.223Z"
   },
   {
    "duration": 17,
    "start_time": "2023-10-08T17:46:33.005Z"
   },
   {
    "duration": 141,
    "start_time": "2023-10-08T17:49:50.117Z"
   },
   {
    "duration": 42,
    "start_time": "2023-10-08T17:50:04.667Z"
   },
   {
    "duration": 44,
    "start_time": "2023-10-08T17:50:20.757Z"
   },
   {
    "duration": 22,
    "start_time": "2023-10-08T17:52:16.861Z"
   },
   {
    "duration": 5,
    "start_time": "2023-10-08T17:54:05.201Z"
   },
   {
    "duration": 11,
    "start_time": "2023-10-08T17:55:24.094Z"
   },
   {
    "duration": 18,
    "start_time": "2023-10-08T17:55:32.366Z"
   },
   {
    "duration": 1322,
    "start_time": "2023-10-08T17:56:53.310Z"
   },
   {
    "duration": 1332,
    "start_time": "2023-10-08T17:58:17.046Z"
   },
   {
    "duration": 1294,
    "start_time": "2023-10-08T17:59:35.190Z"
   },
   {
    "duration": 1364,
    "start_time": "2023-10-08T18:00:35.104Z"
   },
   {
    "duration": 30,
    "start_time": "2023-10-08T18:03:11.880Z"
   },
   {
    "duration": 7,
    "start_time": "2023-10-08T18:05:42.787Z"
   },
   {
    "duration": 8,
    "start_time": "2023-10-08T18:05:53.580Z"
   },
   {
    "duration": 18,
    "start_time": "2023-10-08T18:06:03.165Z"
   },
   {
    "duration": 11,
    "start_time": "2023-10-08T18:07:39.573Z"
   },
   {
    "duration": 28,
    "start_time": "2023-10-08T18:07:52.198Z"
   },
   {
    "duration": 71,
    "start_time": "2023-10-08T18:08:04.730Z"
   },
   {
    "duration": 21,
    "start_time": "2023-10-08T18:08:12.230Z"
   },
   {
    "duration": 14,
    "start_time": "2023-10-08T18:08:20.339Z"
   },
   {
    "duration": 11,
    "start_time": "2023-10-08T18:10:19.102Z"
   },
   {
    "duration": 48,
    "start_time": "2023-10-08T18:10:44.563Z"
   },
   {
    "duration": 4,
    "start_time": "2023-10-08T18:20:24.250Z"
   },
   {
    "duration": 84,
    "start_time": "2023-10-08T18:20:24.256Z"
   },
   {
    "duration": 40,
    "start_time": "2023-10-08T18:20:24.342Z"
   },
   {
    "duration": 14,
    "start_time": "2023-10-08T18:20:24.383Z"
   },
   {
    "duration": 27,
    "start_time": "2023-10-08T18:20:24.399Z"
   },
   {
    "duration": 44,
    "start_time": "2023-10-08T18:20:24.427Z"
   },
   {
    "duration": 43,
    "start_time": "2023-10-08T18:20:24.473Z"
   },
   {
    "duration": 12,
    "start_time": "2023-10-08T18:20:24.518Z"
   },
   {
    "duration": 29,
    "start_time": "2023-10-08T18:20:24.532Z"
   },
   {
    "duration": 210,
    "start_time": "2023-10-08T18:20:24.563Z"
   },
   {
    "duration": 161,
    "start_time": "2023-10-08T18:20:24.775Z"
   },
   {
    "duration": 322,
    "start_time": "2023-10-08T18:20:24.938Z"
   },
   {
    "duration": 1711,
    "start_time": "2023-10-08T18:20:25.262Z"
   },
   {
    "duration": 1757,
    "start_time": "2023-10-08T18:20:26.976Z"
   },
   {
    "duration": 17,
    "start_time": "2023-10-08T18:20:39.159Z"
   },
   {
    "duration": 17,
    "start_time": "2023-10-08T18:20:47.477Z"
   },
   {
    "duration": 16,
    "start_time": "2023-10-08T18:20:48.467Z"
   },
   {
    "duration": 205,
    "start_time": "2023-10-08T18:20:52.850Z"
   },
   {
    "duration": 197,
    "start_time": "2023-10-08T18:21:46.557Z"
   },
   {
    "duration": 19,
    "start_time": "2023-10-08T18:23:34.400Z"
   },
   {
    "duration": 16,
    "start_time": "2023-10-08T18:23:41.680Z"
   },
   {
    "duration": 12,
    "start_time": "2023-10-08T18:23:48.691Z"
   },
   {
    "duration": 3,
    "start_time": "2023-10-08T18:25:20.852Z"
   },
   {
    "duration": 98,
    "start_time": "2023-10-08T18:25:20.857Z"
   },
   {
    "duration": 49,
    "start_time": "2023-10-08T18:25:20.957Z"
   },
   {
    "duration": 15,
    "start_time": "2023-10-08T18:25:21.007Z"
   },
   {
    "duration": 20,
    "start_time": "2023-10-08T18:25:21.024Z"
   },
   {
    "duration": 32,
    "start_time": "2023-10-08T18:25:21.046Z"
   },
   {
    "duration": 34,
    "start_time": "2023-10-08T18:25:21.079Z"
   },
   {
    "duration": 27,
    "start_time": "2023-10-08T18:25:21.114Z"
   },
   {
    "duration": 8,
    "start_time": "2023-10-08T18:25:21.143Z"
   },
   {
    "duration": 184,
    "start_time": "2023-10-08T18:25:21.152Z"
   },
   {
    "duration": 163,
    "start_time": "2023-10-08T18:25:21.338Z"
   },
   {
    "duration": 304,
    "start_time": "2023-10-08T18:25:21.502Z"
   },
   {
    "duration": 1930,
    "start_time": "2023-10-08T18:25:21.808Z"
   },
   {
    "duration": 1998,
    "start_time": "2023-10-08T18:25:23.741Z"
   },
   {
    "duration": 17,
    "start_time": "2023-10-08T18:25:25.742Z"
   },
   {
    "duration": 22,
    "start_time": "2023-10-08T18:25:25.761Z"
   },
   {
    "duration": 41,
    "start_time": "2023-10-08T18:25:25.785Z"
   },
   {
    "duration": 227,
    "start_time": "2023-10-08T18:25:25.828Z"
   },
   {
    "duration": 210,
    "start_time": "2023-10-08T18:25:26.057Z"
   },
   {
    "duration": 12,
    "start_time": "2023-10-08T18:25:48.001Z"
   },
   {
    "duration": 19,
    "start_time": "2023-10-08T18:28:02.786Z"
   },
   {
    "duration": 674,
    "start_time": "2023-10-08T18:28:44.312Z"
   },
   {
    "duration": 73,
    "start_time": "2023-10-08T18:28:44.988Z"
   },
   {
    "duration": 53,
    "start_time": "2023-10-08T18:28:45.063Z"
   },
   {
    "duration": 14,
    "start_time": "2023-10-08T18:28:45.118Z"
   },
   {
    "duration": 24,
    "start_time": "2023-10-08T18:28:45.144Z"
   },
   {
    "duration": 20,
    "start_time": "2023-10-08T18:28:45.170Z"
   },
   {
    "duration": 24,
    "start_time": "2023-10-08T18:28:45.192Z"
   },
   {
    "duration": 10,
    "start_time": "2023-10-08T18:28:45.218Z"
   },
   {
    "duration": 24,
    "start_time": "2023-10-08T18:28:45.229Z"
   },
   {
    "duration": 178,
    "start_time": "2023-10-08T18:28:45.255Z"
   },
   {
    "duration": 158,
    "start_time": "2023-10-08T18:28:45.435Z"
   },
   {
    "duration": 293,
    "start_time": "2023-10-08T18:28:45.594Z"
   },
   {
    "duration": 1859,
    "start_time": "2023-10-08T18:28:45.888Z"
   },
   {
    "duration": 1691,
    "start_time": "2023-10-08T18:28:47.749Z"
   },
   {
    "duration": 17,
    "start_time": "2023-10-08T18:28:49.443Z"
   },
   {
    "duration": 20,
    "start_time": "2023-10-08T18:28:49.462Z"
   },
   {
    "duration": 28,
    "start_time": "2023-10-08T18:28:49.483Z"
   },
   {
    "duration": 221,
    "start_time": "2023-10-08T18:28:49.512Z"
   },
   {
    "duration": 194,
    "start_time": "2023-10-08T18:28:49.743Z"
   },
   {
    "duration": 18,
    "start_time": "2023-10-08T18:28:55.495Z"
   },
   {
    "duration": 67,
    "start_time": "2023-10-08T18:28:56.591Z"
   },
   {
    "duration": 9,
    "start_time": "2023-10-08T18:30:38.792Z"
   },
   {
    "duration": 26,
    "start_time": "2023-10-08T18:30:47.156Z"
   },
   {
    "duration": 26,
    "start_time": "2023-10-08T18:31:01.815Z"
   },
   {
    "duration": 3,
    "start_time": "2023-10-08T18:32:35.864Z"
   },
   {
    "duration": 82,
    "start_time": "2023-10-08T18:32:35.869Z"
   },
   {
    "duration": 42,
    "start_time": "2023-10-08T18:32:35.953Z"
   },
   {
    "duration": 13,
    "start_time": "2023-10-08T18:32:35.996Z"
   },
   {
    "duration": 43,
    "start_time": "2023-10-08T18:32:36.012Z"
   },
   {
    "duration": 24,
    "start_time": "2023-10-08T18:32:36.057Z"
   },
   {
    "duration": 28,
    "start_time": "2023-10-08T18:32:36.083Z"
   },
   {
    "duration": 11,
    "start_time": "2023-10-08T18:32:36.112Z"
   },
   {
    "duration": 12,
    "start_time": "2023-10-08T18:32:36.125Z"
   },
   {
    "duration": 174,
    "start_time": "2023-10-08T18:32:36.139Z"
   },
   {
    "duration": 167,
    "start_time": "2023-10-08T18:32:36.315Z"
   },
   {
    "duration": 277,
    "start_time": "2023-10-08T18:32:36.484Z"
   },
   {
    "duration": 1788,
    "start_time": "2023-10-08T18:32:36.763Z"
   },
   {
    "duration": 1710,
    "start_time": "2023-10-08T18:32:38.554Z"
   },
   {
    "duration": 16,
    "start_time": "2023-10-08T18:32:40.266Z"
   },
   {
    "duration": 30,
    "start_time": "2023-10-08T18:32:40.284Z"
   },
   {
    "duration": 36,
    "start_time": "2023-10-08T18:32:40.317Z"
   },
   {
    "duration": 220,
    "start_time": "2023-10-08T18:32:40.355Z"
   },
   {
    "duration": 209,
    "start_time": "2023-10-08T18:32:40.577Z"
   },
   {
    "duration": 17,
    "start_time": "2023-10-08T18:32:40.787Z"
   },
   {
    "duration": 7,
    "start_time": "2023-10-08T18:32:50.420Z"
   },
   {
    "duration": 27,
    "start_time": "2023-10-08T18:32:56.723Z"
   },
   {
    "duration": 20,
    "start_time": "2023-10-08T18:33:09.539Z"
   },
   {
    "duration": 15,
    "start_time": "2023-10-08T18:34:55.392Z"
   },
   {
    "duration": 3,
    "start_time": "2023-10-08T18:35:24.636Z"
   },
   {
    "duration": 84,
    "start_time": "2023-10-08T18:35:24.641Z"
   },
   {
    "duration": 44,
    "start_time": "2023-10-08T18:35:24.728Z"
   },
   {
    "duration": 16,
    "start_time": "2023-10-08T18:35:24.774Z"
   },
   {
    "duration": 6,
    "start_time": "2023-10-08T18:35:24.792Z"
   },
   {
    "duration": 10,
    "start_time": "2023-10-08T18:35:24.799Z"
   },
   {
    "duration": 37,
    "start_time": "2023-10-08T18:35:24.811Z"
   },
   {
    "duration": 10,
    "start_time": "2023-10-08T18:35:24.851Z"
   },
   {
    "duration": 8,
    "start_time": "2023-10-08T18:35:24.863Z"
   },
   {
    "duration": 211,
    "start_time": "2023-10-08T18:35:24.873Z"
   },
   {
    "duration": 180,
    "start_time": "2023-10-08T18:35:25.087Z"
   },
   {
    "duration": 299,
    "start_time": "2023-10-08T18:35:25.269Z"
   },
   {
    "duration": 1909,
    "start_time": "2023-10-08T18:35:25.571Z"
   },
   {
    "duration": 1804,
    "start_time": "2023-10-08T18:35:27.483Z"
   },
   {
    "duration": 17,
    "start_time": "2023-10-08T18:35:29.289Z"
   },
   {
    "duration": 54,
    "start_time": "2023-10-08T18:35:29.307Z"
   },
   {
    "duration": 41,
    "start_time": "2023-10-08T18:35:29.363Z"
   },
   {
    "duration": 244,
    "start_time": "2023-10-08T18:35:29.405Z"
   },
   {
    "duration": 221,
    "start_time": "2023-10-08T18:35:29.651Z"
   },
   {
    "duration": 25,
    "start_time": "2023-10-08T18:35:29.875Z"
   },
   {
    "duration": 11,
    "start_time": "2023-10-08T18:35:41.127Z"
   },
   {
    "duration": 12,
    "start_time": "2023-10-08T18:35:47.925Z"
   },
   {
    "duration": 35,
    "start_time": "2023-10-08T18:35:56.069Z"
   },
   {
    "duration": 3,
    "start_time": "2023-10-08T18:40:22.594Z"
   },
   {
    "duration": 72,
    "start_time": "2023-10-08T18:40:22.599Z"
   },
   {
    "duration": 43,
    "start_time": "2023-10-08T18:40:22.673Z"
   },
   {
    "duration": 28,
    "start_time": "2023-10-08T18:40:22.718Z"
   },
   {
    "duration": 41,
    "start_time": "2023-10-08T18:40:22.748Z"
   },
   {
    "duration": 21,
    "start_time": "2023-10-08T18:40:22.790Z"
   },
   {
    "duration": 17,
    "start_time": "2023-10-08T18:40:22.812Z"
   },
   {
    "duration": 15,
    "start_time": "2023-10-08T18:40:22.831Z"
   },
   {
    "duration": 30,
    "start_time": "2023-10-08T18:40:22.848Z"
   },
   {
    "duration": 317,
    "start_time": "2023-10-08T18:40:22.879Z"
   },
   {
    "duration": 158,
    "start_time": "2023-10-08T18:40:23.198Z"
   },
   {
    "duration": 316,
    "start_time": "2023-10-08T18:40:23.358Z"
   },
   {
    "duration": 2027,
    "start_time": "2023-10-08T18:40:23.678Z"
   },
   {
    "duration": 1852,
    "start_time": "2023-10-08T18:40:25.707Z"
   },
   {
    "duration": 18,
    "start_time": "2023-10-08T18:40:27.561Z"
   },
   {
    "duration": 18,
    "start_time": "2023-10-08T18:40:27.581Z"
   },
   {
    "duration": 43,
    "start_time": "2023-10-08T18:40:27.601Z"
   },
   {
    "duration": 215,
    "start_time": "2023-10-08T18:40:27.646Z"
   },
   {
    "duration": 205,
    "start_time": "2023-10-08T18:40:27.863Z"
   },
   {
    "duration": 19,
    "start_time": "2023-10-08T18:40:28.070Z"
   },
   {
    "duration": 32,
    "start_time": "2023-10-08T18:40:28.091Z"
   },
   {
    "duration": 30,
    "start_time": "2023-10-08T18:40:28.125Z"
   },
   {
    "duration": 134,
    "start_time": "2023-10-08T18:40:42.602Z"
   },
   {
    "duration": 11,
    "start_time": "2023-10-08T18:40:46.442Z"
   },
   {
    "duration": 592,
    "start_time": "2023-10-08T18:43:27.794Z"
   },
   {
    "duration": 69,
    "start_time": "2023-10-08T18:43:28.388Z"
   },
   {
    "duration": 44,
    "start_time": "2023-10-08T18:43:28.458Z"
   },
   {
    "duration": 15,
    "start_time": "2023-10-08T18:43:28.505Z"
   },
   {
    "duration": 21,
    "start_time": "2023-10-08T18:43:28.522Z"
   },
   {
    "duration": 10,
    "start_time": "2023-10-08T18:43:28.545Z"
   },
   {
    "duration": 23,
    "start_time": "2023-10-08T18:43:28.557Z"
   },
   {
    "duration": 15,
    "start_time": "2023-10-08T18:43:28.582Z"
   },
   {
    "duration": 14,
    "start_time": "2023-10-08T18:43:28.598Z"
   },
   {
    "duration": 181,
    "start_time": "2023-10-08T18:43:28.614Z"
   },
   {
    "duration": 165,
    "start_time": "2023-10-08T18:43:28.797Z"
   },
   {
    "duration": 285,
    "start_time": "2023-10-08T18:43:28.963Z"
   },
   {
    "duration": 1755,
    "start_time": "2023-10-08T18:43:29.249Z"
   },
   {
    "duration": 1759,
    "start_time": "2023-10-08T18:43:31.006Z"
   },
   {
    "duration": 20,
    "start_time": "2023-10-08T18:43:32.766Z"
   },
   {
    "duration": 30,
    "start_time": "2023-10-08T18:43:32.787Z"
   },
   {
    "duration": 33,
    "start_time": "2023-10-08T18:43:32.819Z"
   },
   {
    "duration": 222,
    "start_time": "2023-10-08T18:43:32.853Z"
   },
   {
    "duration": 215,
    "start_time": "2023-10-08T18:43:33.077Z"
   },
   {
    "duration": 17,
    "start_time": "2023-10-08T18:43:33.294Z"
   },
   {
    "duration": 41,
    "start_time": "2023-10-08T18:43:33.312Z"
   },
   {
    "duration": 25,
    "start_time": "2023-10-08T18:43:33.354Z"
   },
   {
    "duration": 40,
    "start_time": "2023-10-08T18:43:33.381Z"
   },
   {
    "duration": 26,
    "start_time": "2023-10-08T18:43:33.423Z"
   },
   {
    "duration": 87,
    "start_time": "2023-10-08T18:48:41.993Z"
   },
   {
    "duration": 1757,
    "start_time": "2023-10-08T18:49:01.142Z"
   },
   {
    "duration": 1395,
    "start_time": "2023-10-08T18:50:55.992Z"
   },
   {
    "duration": 1589,
    "start_time": "2023-10-08T18:51:38.908Z"
   },
   {
    "duration": 13,
    "start_time": "2023-10-08T18:51:51.098Z"
   },
   {
    "duration": 12,
    "start_time": "2023-10-08T18:52:24.574Z"
   },
   {
    "duration": 1448,
    "start_time": "2023-10-08T18:52:46.434Z"
   },
   {
    "duration": 11,
    "start_time": "2023-10-08T18:52:59.462Z"
   },
   {
    "duration": 9,
    "start_time": "2023-10-08T18:54:33.702Z"
   },
   {
    "duration": 12,
    "start_time": "2023-10-08T18:57:54.631Z"
   },
   {
    "duration": 5,
    "start_time": "2023-10-08T18:58:24.104Z"
   },
   {
    "duration": 11,
    "start_time": "2023-10-08T18:59:00.514Z"
   },
   {
    "duration": 7,
    "start_time": "2023-10-08T19:00:37.563Z"
   },
   {
    "duration": 6,
    "start_time": "2023-10-08T19:01:11.623Z"
   },
   {
    "duration": 1013,
    "start_time": "2023-10-08T19:01:23.554Z"
   },
   {
    "duration": 1201,
    "start_time": "2023-10-08T19:01:40.193Z"
   },
   {
    "duration": 6,
    "start_time": "2023-10-08T19:02:35.128Z"
   },
   {
    "duration": 20,
    "start_time": "2023-10-08T19:02:39.466Z"
   },
   {
    "duration": 9,
    "start_time": "2023-10-08T19:03:59.718Z"
   },
   {
    "duration": 8,
    "start_time": "2023-10-08T19:04:09.462Z"
   },
   {
    "duration": 18,
    "start_time": "2023-10-08T19:04:28.262Z"
   },
   {
    "duration": 6,
    "start_time": "2023-10-08T19:05:55.907Z"
   },
   {
    "duration": 10,
    "start_time": "2023-10-08T19:06:02.197Z"
   },
   {
    "duration": 19,
    "start_time": "2023-10-08T19:06:07.059Z"
   },
   {
    "duration": 666,
    "start_time": "2023-10-08T19:10:06.991Z"
   },
   {
    "duration": 69,
    "start_time": "2023-10-08T19:10:07.659Z"
   },
   {
    "duration": 56,
    "start_time": "2023-10-08T19:10:07.730Z"
   },
   {
    "duration": 13,
    "start_time": "2023-10-08T19:10:07.788Z"
   },
   {
    "duration": 22,
    "start_time": "2023-10-08T19:10:07.803Z"
   },
   {
    "duration": 35,
    "start_time": "2023-10-08T19:10:07.827Z"
   },
   {
    "duration": 49,
    "start_time": "2023-10-08T19:10:07.863Z"
   },
   {
    "duration": 25,
    "start_time": "2023-10-08T19:10:07.914Z"
   },
   {
    "duration": 22,
    "start_time": "2023-10-08T19:10:07.941Z"
   },
   {
    "duration": 228,
    "start_time": "2023-10-08T19:10:07.964Z"
   },
   {
    "duration": 200,
    "start_time": "2023-10-08T19:10:08.194Z"
   },
   {
    "duration": 313,
    "start_time": "2023-10-08T19:10:08.396Z"
   },
   {
    "duration": 1961,
    "start_time": "2023-10-08T19:10:08.711Z"
   },
   {
    "duration": 1911,
    "start_time": "2023-10-08T19:10:10.674Z"
   },
   {
    "duration": 79,
    "start_time": "2023-10-08T19:12:15.996Z"
   },
   {
    "duration": 10,
    "start_time": "2023-10-08T19:12:25.789Z"
   },
   {
    "duration": 17,
    "start_time": "2023-10-08T19:12:34.130Z"
   },
   {
    "duration": 14,
    "start_time": "2023-10-08T19:12:40.818Z"
   },
   {
    "duration": 9,
    "start_time": "2023-10-08T19:14:11.429Z"
   },
   {
    "duration": 19,
    "start_time": "2023-10-08T19:14:21.047Z"
   },
   {
    "duration": 19,
    "start_time": "2023-10-08T19:18:04.987Z"
   },
   {
    "duration": 71,
    "start_time": "2023-10-08T19:19:03.985Z"
   },
   {
    "duration": 15,
    "start_time": "2023-10-08T19:19:16.072Z"
   },
   {
    "duration": 16,
    "start_time": "2023-10-08T19:26:05.698Z"
   },
   {
    "duration": 211,
    "start_time": "2023-10-08T19:26:57.389Z"
   },
   {
    "duration": 247,
    "start_time": "2023-10-08T19:28:18.532Z"
   },
   {
    "duration": 200,
    "start_time": "2023-10-08T19:28:45.095Z"
   },
   {
    "duration": 220,
    "start_time": "2023-10-08T19:28:48.605Z"
   },
   {
    "duration": 11,
    "start_time": "2023-10-08T19:30:20.185Z"
   },
   {
    "duration": 11,
    "start_time": "2023-10-08T19:30:36.209Z"
   },
   {
    "duration": 190,
    "start_time": "2023-10-08T19:32:36.434Z"
   },
   {
    "duration": 20,
    "start_time": "2023-10-08T19:33:23.899Z"
   },
   {
    "duration": 15,
    "start_time": "2023-10-08T19:33:31.087Z"
   },
   {
    "duration": 353,
    "start_time": "2023-10-08T19:34:00.439Z"
   },
   {
    "duration": 204,
    "start_time": "2023-10-08T19:34:20.068Z"
   },
   {
    "duration": 217,
    "start_time": "2023-10-08T19:34:54.091Z"
   },
   {
    "duration": 213,
    "start_time": "2023-10-08T19:35:09.268Z"
   },
   {
    "duration": 195,
    "start_time": "2023-10-08T19:35:40.494Z"
   },
   {
    "duration": 3,
    "start_time": "2023-10-08T19:36:50.528Z"
   },
   {
    "duration": 76,
    "start_time": "2023-10-08T19:36:50.532Z"
   },
   {
    "duration": 43,
    "start_time": "2023-10-08T19:36:50.609Z"
   },
   {
    "duration": 14,
    "start_time": "2023-10-08T19:36:50.654Z"
   },
   {
    "duration": 9,
    "start_time": "2023-10-08T19:36:50.670Z"
   },
   {
    "duration": 18,
    "start_time": "2023-10-08T19:36:50.681Z"
   },
   {
    "duration": 13,
    "start_time": "2023-10-08T19:36:50.701Z"
   },
   {
    "duration": 22,
    "start_time": "2023-10-08T19:36:50.715Z"
   },
   {
    "duration": 9,
    "start_time": "2023-10-08T19:36:50.739Z"
   },
   {
    "duration": 176,
    "start_time": "2023-10-08T19:36:50.750Z"
   },
   {
    "duration": 166,
    "start_time": "2023-10-08T19:36:50.927Z"
   },
   {
    "duration": 283,
    "start_time": "2023-10-08T19:36:51.094Z"
   },
   {
    "duration": 1645,
    "start_time": "2023-10-08T19:36:51.379Z"
   },
   {
    "duration": 1889,
    "start_time": "2023-10-08T19:36:53.026Z"
   },
   {
    "duration": 21,
    "start_time": "2023-10-08T19:37:05.251Z"
   },
   {
    "duration": 3,
    "start_time": "2023-10-08T19:37:36.624Z"
   },
   {
    "duration": 97,
    "start_time": "2023-10-08T19:37:36.629Z"
   },
   {
    "duration": 41,
    "start_time": "2023-10-08T19:37:36.728Z"
   },
   {
    "duration": 13,
    "start_time": "2023-10-08T19:37:36.771Z"
   },
   {
    "duration": 12,
    "start_time": "2023-10-08T19:37:36.786Z"
   },
   {
    "duration": 24,
    "start_time": "2023-10-08T19:37:36.799Z"
   },
   {
    "duration": 23,
    "start_time": "2023-10-08T19:37:36.824Z"
   },
   {
    "duration": 24,
    "start_time": "2023-10-08T19:37:36.848Z"
   },
   {
    "duration": 10,
    "start_time": "2023-10-08T19:37:36.874Z"
   },
   {
    "duration": 186,
    "start_time": "2023-10-08T19:37:36.886Z"
   },
   {
    "duration": 156,
    "start_time": "2023-10-08T19:37:37.074Z"
   },
   {
    "duration": 274,
    "start_time": "2023-10-08T19:37:37.232Z"
   },
   {
    "duration": 1703,
    "start_time": "2023-10-08T19:37:37.507Z"
   },
   {
    "duration": 1795,
    "start_time": "2023-10-08T19:37:39.211Z"
   },
   {
    "duration": 18,
    "start_time": "2023-10-08T19:37:44.953Z"
   },
   {
    "duration": 15,
    "start_time": "2023-10-08T19:37:46.108Z"
   },
   {
    "duration": 18,
    "start_time": "2023-10-08T19:37:54.679Z"
   },
   {
    "duration": 17,
    "start_time": "2023-10-08T19:37:57.363Z"
   },
   {
    "duration": 218,
    "start_time": "2023-10-08T19:38:11.074Z"
   },
   {
    "duration": 193,
    "start_time": "2023-10-08T19:38:12.828Z"
   },
   {
    "duration": 12,
    "start_time": "2023-10-08T19:44:32.621Z"
   },
   {
    "duration": 16,
    "start_time": "2023-10-08T19:54:04.261Z"
   },
   {
    "duration": 7,
    "start_time": "2023-10-08T19:59:23.253Z"
   },
   {
    "duration": 16,
    "start_time": "2023-10-08T19:59:27.176Z"
   },
   {
    "duration": 12,
    "start_time": "2023-10-08T20:00:05.149Z"
   },
   {
    "duration": 16,
    "start_time": "2023-10-08T20:00:09.270Z"
   },
   {
    "duration": 29,
    "start_time": "2023-10-08T20:00:20.074Z"
   },
   {
    "duration": 17,
    "start_time": "2023-10-08T20:00:23.217Z"
   },
   {
    "duration": 9,
    "start_time": "2023-10-08T20:04:42.344Z"
   },
   {
    "duration": 6,
    "start_time": "2023-10-08T20:05:12.603Z"
   },
   {
    "duration": 3,
    "start_time": "2023-10-08T20:05:35.220Z"
   },
   {
    "duration": 81,
    "start_time": "2023-10-08T20:05:35.225Z"
   },
   {
    "duration": 40,
    "start_time": "2023-10-08T20:05:35.307Z"
   },
   {
    "duration": 12,
    "start_time": "2023-10-08T20:05:35.350Z"
   },
   {
    "duration": 37,
    "start_time": "2023-10-08T20:05:35.364Z"
   },
   {
    "duration": 37,
    "start_time": "2023-10-08T20:05:35.403Z"
   },
   {
    "duration": 33,
    "start_time": "2023-10-08T20:05:35.441Z"
   },
   {
    "duration": 26,
    "start_time": "2023-10-08T20:05:35.475Z"
   },
   {
    "duration": 19,
    "start_time": "2023-10-08T20:05:35.503Z"
   },
   {
    "duration": 180,
    "start_time": "2023-10-08T20:05:35.525Z"
   },
   {
    "duration": 153,
    "start_time": "2023-10-08T20:05:35.707Z"
   },
   {
    "duration": 270,
    "start_time": "2023-10-08T20:05:35.862Z"
   },
   {
    "duration": 1732,
    "start_time": "2023-10-08T20:05:36.143Z"
   },
   {
    "duration": 1816,
    "start_time": "2023-10-08T20:05:37.877Z"
   },
   {
    "duration": 16,
    "start_time": "2023-10-08T20:05:39.695Z"
   },
   {
    "duration": 31,
    "start_time": "2023-10-08T20:05:39.712Z"
   },
   {
    "duration": 23,
    "start_time": "2023-10-08T20:05:39.745Z"
   },
   {
    "duration": 16,
    "start_time": "2023-10-08T20:05:39.770Z"
   },
   {
    "duration": 229,
    "start_time": "2023-10-08T20:05:39.789Z"
   },
   {
    "duration": 208,
    "start_time": "2023-10-08T20:05:40.020Z"
   },
   {
    "duration": 20,
    "start_time": "2023-10-08T20:05:44.432Z"
   },
   {
    "duration": 5,
    "start_time": "2023-10-08T20:06:26.128Z"
   },
   {
    "duration": 15,
    "start_time": "2023-10-08T20:06:29.534Z"
   },
   {
    "duration": 7,
    "start_time": "2023-10-08T20:08:02.637Z"
   },
   {
    "duration": 3,
    "start_time": "2023-10-08T20:08:46.495Z"
   },
   {
    "duration": 106,
    "start_time": "2023-10-08T20:08:46.500Z"
   },
   {
    "duration": 40,
    "start_time": "2023-10-08T20:08:46.608Z"
   },
   {
    "duration": 13,
    "start_time": "2023-10-08T20:08:46.649Z"
   },
   {
    "duration": 21,
    "start_time": "2023-10-08T20:08:46.663Z"
   },
   {
    "duration": 20,
    "start_time": "2023-10-08T20:08:46.686Z"
   },
   {
    "duration": 17,
    "start_time": "2023-10-08T20:08:46.708Z"
   },
   {
    "duration": 10,
    "start_time": "2023-10-08T20:08:46.727Z"
   },
   {
    "duration": 15,
    "start_time": "2023-10-08T20:08:46.739Z"
   },
   {
    "duration": 166,
    "start_time": "2023-10-08T20:08:46.755Z"
   },
   {
    "duration": 167,
    "start_time": "2023-10-08T20:08:46.923Z"
   },
   {
    "duration": 263,
    "start_time": "2023-10-08T20:08:47.092Z"
   },
   {
    "duration": 1768,
    "start_time": "2023-10-08T20:08:47.357Z"
   },
   {
    "duration": 1798,
    "start_time": "2023-10-08T20:08:49.127Z"
   },
   {
    "duration": 24,
    "start_time": "2023-10-08T20:08:50.927Z"
   },
   {
    "duration": 46,
    "start_time": "2023-10-08T20:08:50.953Z"
   },
   {
    "duration": 215,
    "start_time": "2023-10-08T20:08:51.001Z"
   },
   {
    "duration": 186,
    "start_time": "2023-10-08T20:08:51.217Z"
   },
   {
    "duration": 349,
    "start_time": "2023-10-08T20:08:51.405Z"
   },
   {
    "duration": 202,
    "start_time": "2023-10-08T20:08:51.756Z"
   },
   {
    "duration": 15,
    "start_time": "2023-10-08T20:10:11.439Z"
   },
   {
    "duration": 9,
    "start_time": "2023-10-08T20:12:10.416Z"
   },
   {
    "duration": 8,
    "start_time": "2023-10-08T20:12:27.374Z"
   },
   {
    "duration": 88,
    "start_time": "2023-10-08T20:12:36.507Z"
   },
   {
    "duration": 18,
    "start_time": "2023-10-08T20:12:43.920Z"
   },
   {
    "duration": 3,
    "start_time": "2023-10-08T20:12:56.901Z"
   },
   {
    "duration": 105,
    "start_time": "2023-10-08T20:12:56.906Z"
   },
   {
    "duration": 43,
    "start_time": "2023-10-08T20:12:57.013Z"
   },
   {
    "duration": 13,
    "start_time": "2023-10-08T20:12:57.058Z"
   },
   {
    "duration": 14,
    "start_time": "2023-10-08T20:12:57.073Z"
   },
   {
    "duration": 28,
    "start_time": "2023-10-08T20:12:57.088Z"
   },
   {
    "duration": 14,
    "start_time": "2023-10-08T20:12:57.117Z"
   },
   {
    "duration": 8,
    "start_time": "2023-10-08T20:12:57.132Z"
   },
   {
    "duration": 7,
    "start_time": "2023-10-08T20:12:57.141Z"
   },
   {
    "duration": 177,
    "start_time": "2023-10-08T20:12:57.149Z"
   },
   {
    "duration": 154,
    "start_time": "2023-10-08T20:12:57.327Z"
   },
   {
    "duration": 280,
    "start_time": "2023-10-08T20:12:57.483Z"
   },
   {
    "duration": 1769,
    "start_time": "2023-10-08T20:12:57.766Z"
   },
   {
    "duration": 1787,
    "start_time": "2023-10-08T20:12:59.537Z"
   },
   {
    "duration": 19,
    "start_time": "2023-10-08T20:13:01.326Z"
   },
   {
    "duration": 73,
    "start_time": "2023-10-08T20:13:01.347Z"
   },
   {
    "duration": 76,
    "start_time": "2023-10-08T20:13:01.422Z"
   },
   {
    "duration": 113,
    "start_time": "2023-10-08T20:13:01.499Z"
   },
   {
    "duration": 302,
    "start_time": "2023-10-08T20:13:01.614Z"
   },
   {
    "duration": 206,
    "start_time": "2023-10-08T20:13:01.918Z"
   },
   {
    "duration": 84,
    "start_time": "2023-10-08T20:13:18.923Z"
   },
   {
    "duration": 14,
    "start_time": "2023-10-08T20:13:26.459Z"
   },
   {
    "duration": 89,
    "start_time": "2023-10-08T20:13:46.403Z"
   },
   {
    "duration": 11,
    "start_time": "2023-10-08T20:15:05.276Z"
   },
   {
    "duration": 394,
    "start_time": "2023-10-08T20:15:51.708Z"
   },
   {
    "duration": 7,
    "start_time": "2023-10-08T20:16:19.073Z"
   },
   {
    "duration": 13,
    "start_time": "2023-10-08T20:16:22.448Z"
   },
   {
    "duration": 13,
    "start_time": "2023-10-08T20:17:03.274Z"
   },
   {
    "duration": 13,
    "start_time": "2023-10-08T20:17:31.902Z"
   },
   {
    "duration": 10,
    "start_time": "2023-10-08T20:17:45.253Z"
   },
   {
    "duration": 12,
    "start_time": "2023-10-08T20:17:51.959Z"
   },
   {
    "duration": 14,
    "start_time": "2023-10-08T20:18:52.089Z"
   },
   {
    "duration": 42,
    "start_time": "2023-10-08T20:20:17.147Z"
   },
   {
    "duration": 60,
    "start_time": "2023-10-08T20:20:23.717Z"
   },
   {
    "duration": 35,
    "start_time": "2023-10-08T20:21:00.381Z"
   },
   {
    "duration": 14,
    "start_time": "2023-10-08T20:24:47.486Z"
   },
   {
    "duration": 7,
    "start_time": "2023-10-08T20:25:15.190Z"
   },
   {
    "duration": 14,
    "start_time": "2023-10-08T20:25:18.223Z"
   },
   {
    "duration": 17,
    "start_time": "2023-10-08T20:25:48.178Z"
   },
   {
    "duration": 6,
    "start_time": "2023-10-08T20:27:21.071Z"
   },
   {
    "duration": 20,
    "start_time": "2023-10-08T20:27:25.956Z"
   },
   {
    "duration": 3,
    "start_time": "2023-10-08T20:33:33.067Z"
   },
   {
    "duration": 81,
    "start_time": "2023-10-08T20:33:33.073Z"
   },
   {
    "duration": 39,
    "start_time": "2023-10-08T20:33:33.157Z"
   },
   {
    "duration": 13,
    "start_time": "2023-10-08T20:33:33.198Z"
   },
   {
    "duration": 6,
    "start_time": "2023-10-08T20:33:33.212Z"
   },
   {
    "duration": 31,
    "start_time": "2023-10-08T20:33:33.220Z"
   },
   {
    "duration": 16,
    "start_time": "2023-10-08T20:33:33.253Z"
   },
   {
    "duration": 11,
    "start_time": "2023-10-08T20:33:33.272Z"
   },
   {
    "duration": 8,
    "start_time": "2023-10-08T20:33:33.285Z"
   },
   {
    "duration": 196,
    "start_time": "2023-10-08T20:33:33.296Z"
   },
   {
    "duration": 172,
    "start_time": "2023-10-08T20:33:33.494Z"
   },
   {
    "duration": 310,
    "start_time": "2023-10-08T20:33:33.668Z"
   },
   {
    "duration": 1831,
    "start_time": "2023-10-08T20:33:33.980Z"
   },
   {
    "duration": 1863,
    "start_time": "2023-10-08T20:33:35.813Z"
   },
   {
    "duration": 16,
    "start_time": "2023-10-08T20:33:37.678Z"
   },
   {
    "duration": 14,
    "start_time": "2023-10-08T20:33:37.695Z"
   },
   {
    "duration": 36,
    "start_time": "2023-10-08T20:33:37.710Z"
   },
   {
    "duration": 16,
    "start_time": "2023-10-08T20:33:37.748Z"
   },
   {
    "duration": 233,
    "start_time": "2023-10-08T20:33:37.766Z"
   },
   {
    "duration": 210,
    "start_time": "2023-10-08T20:33:38.001Z"
   },
   {
    "duration": 12,
    "start_time": "2023-10-08T20:33:46.004Z"
   },
   {
    "duration": 34,
    "start_time": "2023-10-08T20:38:25.657Z"
   },
   {
    "duration": 3,
    "start_time": "2023-10-08T20:38:54.100Z"
   },
   {
    "duration": 74,
    "start_time": "2023-10-08T20:38:54.105Z"
   },
   {
    "duration": 44,
    "start_time": "2023-10-08T20:38:54.181Z"
   },
   {
    "duration": 15,
    "start_time": "2023-10-08T20:38:54.227Z"
   },
   {
    "duration": 5,
    "start_time": "2023-10-08T20:38:54.243Z"
   },
   {
    "duration": 16,
    "start_time": "2023-10-08T20:38:54.250Z"
   },
   {
    "duration": 32,
    "start_time": "2023-10-08T20:38:54.268Z"
   },
   {
    "duration": 13,
    "start_time": "2023-10-08T20:38:54.302Z"
   },
   {
    "duration": 11,
    "start_time": "2023-10-08T20:38:54.318Z"
   },
   {
    "duration": 201,
    "start_time": "2023-10-08T20:38:54.331Z"
   },
   {
    "duration": 179,
    "start_time": "2023-10-08T20:38:54.543Z"
   },
   {
    "duration": 267,
    "start_time": "2023-10-08T20:38:54.724Z"
   },
   {
    "duration": 1783,
    "start_time": "2023-10-08T20:38:54.993Z"
   },
   {
    "duration": 1869,
    "start_time": "2023-10-08T20:38:56.778Z"
   },
   {
    "duration": 17,
    "start_time": "2023-10-08T20:38:58.649Z"
   },
   {
    "duration": 11,
    "start_time": "2023-10-08T20:38:58.668Z"
   },
   {
    "duration": 17,
    "start_time": "2023-10-08T20:38:58.680Z"
   },
   {
    "duration": 14,
    "start_time": "2023-10-08T20:38:58.699Z"
   },
   {
    "duration": 251,
    "start_time": "2023-10-08T20:38:58.714Z"
   },
   {
    "duration": 222,
    "start_time": "2023-10-08T20:38:58.967Z"
   },
   {
    "duration": 12,
    "start_time": "2023-10-08T20:38:59.191Z"
   },
   {
    "duration": 30,
    "start_time": "2023-10-08T20:39:08.230Z"
   },
   {
    "duration": 27,
    "start_time": "2023-10-08T20:39:14.367Z"
   },
   {
    "duration": 24,
    "start_time": "2023-10-08T20:43:26.178Z"
   },
   {
    "duration": 18,
    "start_time": "2023-10-08T20:43:33.035Z"
   },
   {
    "duration": 27,
    "start_time": "2023-10-08T20:45:24.027Z"
   },
   {
    "duration": 23,
    "start_time": "2023-10-08T20:45:27.159Z"
   },
   {
    "duration": 18,
    "start_time": "2023-10-08T20:45:32.763Z"
   },
   {
    "duration": 5,
    "start_time": "2023-10-08T20:46:13.107Z"
   },
   {
    "duration": 16,
    "start_time": "2023-10-08T20:46:17.495Z"
   },
   {
    "duration": 6,
    "start_time": "2023-10-08T20:46:45.170Z"
   },
   {
    "duration": 13,
    "start_time": "2023-10-08T20:46:45.715Z"
   },
   {
    "duration": 19,
    "start_time": "2023-10-08T20:47:42.115Z"
   },
   {
    "duration": 5,
    "start_time": "2023-10-08T20:47:43.022Z"
   },
   {
    "duration": 13,
    "start_time": "2023-10-08T20:47:44.227Z"
   },
   {
    "duration": 15,
    "start_time": "2023-10-08T20:48:45.348Z"
   },
   {
    "duration": 14,
    "start_time": "2023-10-08T20:49:02.817Z"
   },
   {
    "duration": 6,
    "start_time": "2023-10-08T20:49:03.449Z"
   },
   {
    "duration": 14,
    "start_time": "2023-10-08T20:49:04.082Z"
   },
   {
    "duration": 13,
    "start_time": "2023-10-08T20:54:08.174Z"
   },
   {
    "duration": 12,
    "start_time": "2023-10-08T20:54:41.400Z"
   },
   {
    "duration": 13,
    "start_time": "2023-10-08T20:54:55.746Z"
   },
   {
    "duration": 29,
    "start_time": "2023-10-08T20:55:06.733Z"
   },
   {
    "duration": 18,
    "start_time": "2023-10-08T20:56:04.259Z"
   },
   {
    "duration": 20,
    "start_time": "2023-10-08T20:56:14.641Z"
   },
   {
    "duration": 23,
    "start_time": "2023-10-08T20:56:59.579Z"
   },
   {
    "duration": 623,
    "start_time": "2023-10-08T20:57:51.791Z"
   },
   {
    "duration": 72,
    "start_time": "2023-10-08T20:57:52.417Z"
   },
   {
    "duration": 44,
    "start_time": "2023-10-08T20:57:52.490Z"
   },
   {
    "duration": 14,
    "start_time": "2023-10-08T20:57:52.535Z"
   },
   {
    "duration": 33,
    "start_time": "2023-10-08T20:57:52.551Z"
   },
   {
    "duration": 64,
    "start_time": "2023-10-08T20:57:52.586Z"
   },
   {
    "duration": 21,
    "start_time": "2023-10-08T20:57:52.651Z"
   },
   {
    "duration": 9,
    "start_time": "2023-10-08T20:57:52.674Z"
   },
   {
    "duration": 9,
    "start_time": "2023-10-08T20:57:52.684Z"
   },
   {
    "duration": 194,
    "start_time": "2023-10-08T20:57:52.694Z"
   },
   {
    "duration": 167,
    "start_time": "2023-10-08T20:57:52.890Z"
   },
   {
    "duration": 277,
    "start_time": "2023-10-08T20:57:53.060Z"
   },
   {
    "duration": 1840,
    "start_time": "2023-10-08T20:57:53.344Z"
   },
   {
    "duration": 1747,
    "start_time": "2023-10-08T20:57:55.188Z"
   },
   {
    "duration": 17,
    "start_time": "2023-10-08T20:57:56.938Z"
   },
   {
    "duration": 18,
    "start_time": "2023-10-08T20:57:56.957Z"
   },
   {
    "duration": 26,
    "start_time": "2023-10-08T20:57:56.977Z"
   },
   {
    "duration": 15,
    "start_time": "2023-10-08T20:57:57.005Z"
   },
   {
    "duration": 229,
    "start_time": "2023-10-08T20:57:57.022Z"
   },
   {
    "duration": 198,
    "start_time": "2023-10-08T20:57:57.253Z"
   },
   {
    "duration": 14,
    "start_time": "2023-10-08T20:57:57.453Z"
   },
   {
    "duration": 60,
    "start_time": "2023-10-08T20:57:57.468Z"
   },
   {
    "duration": 42,
    "start_time": "2023-10-08T20:57:57.529Z"
   },
   {
    "duration": 46,
    "start_time": "2023-10-08T20:57:57.573Z"
   },
   {
    "duration": 8,
    "start_time": "2023-10-08T20:57:57.621Z"
   },
   {
    "duration": 23,
    "start_time": "2023-10-08T20:57:57.631Z"
   },
   {
    "duration": 38,
    "start_time": "2023-10-08T20:57:57.655Z"
   },
   {
    "duration": 3,
    "start_time": "2023-10-08T20:59:07.368Z"
   },
   {
    "duration": 98,
    "start_time": "2023-10-08T20:59:07.373Z"
   },
   {
    "duration": 40,
    "start_time": "2023-10-08T20:59:07.472Z"
   },
   {
    "duration": 17,
    "start_time": "2023-10-08T20:59:07.514Z"
   },
   {
    "duration": 5,
    "start_time": "2023-10-08T20:59:07.543Z"
   },
   {
    "duration": 12,
    "start_time": "2023-10-08T20:59:07.550Z"
   },
   {
    "duration": 26,
    "start_time": "2023-10-08T20:59:07.564Z"
   },
   {
    "duration": 17,
    "start_time": "2023-10-08T20:59:07.591Z"
   },
   {
    "duration": 19,
    "start_time": "2023-10-08T20:59:07.609Z"
   },
   {
    "duration": 175,
    "start_time": "2023-10-08T20:59:07.629Z"
   },
   {
    "duration": 156,
    "start_time": "2023-10-08T20:59:07.806Z"
   },
   {
    "duration": 288,
    "start_time": "2023-10-08T20:59:07.964Z"
   },
   {
    "duration": 1792,
    "start_time": "2023-10-08T20:59:08.255Z"
   },
   {
    "duration": 1710,
    "start_time": "2023-10-08T20:59:10.049Z"
   },
   {
    "duration": 16,
    "start_time": "2023-10-08T20:59:11.761Z"
   },
   {
    "duration": 18,
    "start_time": "2023-10-08T20:59:11.778Z"
   },
   {
    "duration": 32,
    "start_time": "2023-10-08T20:59:11.798Z"
   },
   {
    "duration": 22,
    "start_time": "2023-10-08T20:59:11.832Z"
   },
   {
    "duration": 227,
    "start_time": "2023-10-08T20:59:11.856Z"
   },
   {
    "duration": 216,
    "start_time": "2023-10-08T20:59:12.084Z"
   },
   {
    "duration": 28,
    "start_time": "2023-10-08T20:59:12.302Z"
   },
   {
    "duration": 17,
    "start_time": "2023-10-08T20:59:12.332Z"
   },
   {
    "duration": 36,
    "start_time": "2023-10-08T20:59:12.350Z"
   },
   {
    "duration": 47,
    "start_time": "2023-10-08T20:59:12.388Z"
   },
   {
    "duration": 3,
    "start_time": "2023-10-08T21:00:48.929Z"
   },
   {
    "duration": 75,
    "start_time": "2023-10-08T21:00:48.934Z"
   },
   {
    "duration": 42,
    "start_time": "2023-10-08T21:00:49.010Z"
   },
   {
    "duration": 15,
    "start_time": "2023-10-08T21:00:49.053Z"
   },
   {
    "duration": 5,
    "start_time": "2023-10-08T21:00:49.070Z"
   },
   {
    "duration": 12,
    "start_time": "2023-10-08T21:00:49.077Z"
   },
   {
    "duration": 39,
    "start_time": "2023-10-08T21:00:49.091Z"
   },
   {
    "duration": 21,
    "start_time": "2023-10-08T21:00:49.132Z"
   },
   {
    "duration": 19,
    "start_time": "2023-10-08T21:00:49.154Z"
   },
   {
    "duration": 221,
    "start_time": "2023-10-08T21:00:49.175Z"
   },
   {
    "duration": 162,
    "start_time": "2023-10-08T21:00:49.398Z"
   },
   {
    "duration": 278,
    "start_time": "2023-10-08T21:00:49.562Z"
   },
   {
    "duration": 1809,
    "start_time": "2023-10-08T21:00:49.842Z"
   },
   {
    "duration": 1791,
    "start_time": "2023-10-08T21:00:51.654Z"
   },
   {
    "duration": 15,
    "start_time": "2023-10-08T21:00:53.447Z"
   },
   {
    "duration": 16,
    "start_time": "2023-10-08T21:00:53.464Z"
   },
   {
    "duration": 19,
    "start_time": "2023-10-08T21:00:53.482Z"
   },
   {
    "duration": 13,
    "start_time": "2023-10-08T21:00:53.503Z"
   },
   {
    "duration": 254,
    "start_time": "2023-10-08T21:00:53.517Z"
   },
   {
    "duration": 244,
    "start_time": "2023-10-08T21:00:53.776Z"
   },
   {
    "duration": 44,
    "start_time": "2023-10-08T21:00:54.021Z"
   },
   {
    "duration": 6,
    "start_time": "2023-10-08T21:00:54.067Z"
   },
   {
    "duration": 33,
    "start_time": "2023-10-08T21:00:54.075Z"
   },
   {
    "duration": 56,
    "start_time": "2023-10-09T06:52:56.612Z"
   },
   {
    "duration": 767,
    "start_time": "2023-10-09T06:53:06.226Z"
   },
   {
    "duration": 207,
    "start_time": "2023-10-09T06:53:06.995Z"
   },
   {
    "duration": 71,
    "start_time": "2023-10-09T06:53:07.204Z"
   },
   {
    "duration": 17,
    "start_time": "2023-10-09T06:53:07.277Z"
   },
   {
    "duration": 41,
    "start_time": "2023-10-09T06:53:07.296Z"
   },
   {
    "duration": 63,
    "start_time": "2023-10-09T06:53:07.339Z"
   },
   {
    "duration": 69,
    "start_time": "2023-10-09T06:53:07.403Z"
   },
   {
    "duration": 27,
    "start_time": "2023-10-09T06:53:07.474Z"
   },
   {
    "duration": 72,
    "start_time": "2023-10-09T06:53:07.502Z"
   },
   {
    "duration": 211,
    "start_time": "2023-10-09T06:53:07.575Z"
   },
   {
    "duration": 182,
    "start_time": "2023-10-09T06:53:07.787Z"
   },
   {
    "duration": 286,
    "start_time": "2023-10-09T06:53:07.971Z"
   },
   {
    "duration": 1619,
    "start_time": "2023-10-09T06:53:08.259Z"
   },
   {
    "duration": 1589,
    "start_time": "2023-10-09T06:53:09.880Z"
   },
   {
    "duration": 15,
    "start_time": "2023-10-09T06:53:11.470Z"
   },
   {
    "duration": 10,
    "start_time": "2023-10-09T06:53:11.487Z"
   },
   {
    "duration": 16,
    "start_time": "2023-10-09T06:53:11.498Z"
   },
   {
    "duration": 51,
    "start_time": "2023-10-09T06:53:11.516Z"
   },
   {
    "duration": 218,
    "start_time": "2023-10-09T06:53:11.568Z"
   },
   {
    "duration": 206,
    "start_time": "2023-10-09T06:53:11.788Z"
   },
   {
    "duration": 29,
    "start_time": "2023-10-09T06:53:11.996Z"
   },
   {
    "duration": 34,
    "start_time": "2023-10-09T06:53:12.026Z"
   },
   {
    "duration": 40,
    "start_time": "2023-10-09T06:53:12.062Z"
   },
   {
    "duration": 3,
    "start_time": "2023-10-09T06:53:15.413Z"
   },
   {
    "duration": 5,
    "start_time": "2023-10-09T06:53:27.970Z"
   },
   {
    "duration": 5,
    "start_time": "2023-10-09T06:54:52.233Z"
   },
   {
    "duration": 4,
    "start_time": "2023-10-09T06:56:32.897Z"
   },
   {
    "duration": 5,
    "start_time": "2023-10-09T06:56:39.266Z"
   },
   {
    "duration": 34,
    "start_time": "2023-10-09T07:01:52.770Z"
   },
   {
    "duration": 383,
    "start_time": "2023-10-09T07:02:00.861Z"
   },
   {
    "duration": 5,
    "start_time": "2023-10-09T07:02:08.006Z"
   },
   {
    "duration": 4,
    "start_time": "2023-10-09T07:03:56.188Z"
   },
   {
    "duration": 6,
    "start_time": "2023-10-09T07:07:18.096Z"
   },
   {
    "duration": 8,
    "start_time": "2023-10-09T07:08:55.424Z"
   },
   {
    "duration": 4,
    "start_time": "2023-10-09T07:11:41.991Z"
   },
   {
    "duration": 7,
    "start_time": "2023-10-09T07:11:50.769Z"
   },
   {
    "duration": 6,
    "start_time": "2023-10-09T07:13:26.160Z"
   },
   {
    "duration": 5,
    "start_time": "2023-10-09T07:15:45.882Z"
   },
   {
    "duration": 5,
    "start_time": "2023-10-09T07:17:28.412Z"
   },
   {
    "duration": 4,
    "start_time": "2023-10-09T07:17:44.313Z"
   },
   {
    "duration": 6,
    "start_time": "2023-10-09T07:22:16.259Z"
   },
   {
    "duration": 4,
    "start_time": "2023-10-09T07:22:31.001Z"
   },
   {
    "duration": 13,
    "start_time": "2023-10-09T07:23:13.185Z"
   },
   {
    "duration": 16,
    "start_time": "2023-10-09T07:23:28.363Z"
   },
   {
    "duration": 9,
    "start_time": "2023-10-09T07:27:08.762Z"
   },
   {
    "duration": 6,
    "start_time": "2023-10-09T07:27:11.063Z"
   },
   {
    "duration": 8,
    "start_time": "2023-10-09T07:38:43.261Z"
   },
   {
    "duration": 7,
    "start_time": "2023-10-09T07:38:43.863Z"
   },
   {
    "duration": 5,
    "start_time": "2023-10-09T07:55:57.699Z"
   },
   {
    "duration": 948,
    "start_time": "2023-10-09T08:17:52.817Z"
   },
   {
    "duration": 66,
    "start_time": "2023-10-09T08:17:53.768Z"
   },
   {
    "duration": 48,
    "start_time": "2023-10-09T08:17:53.835Z"
   },
   {
    "duration": 12,
    "start_time": "2023-10-09T08:17:53.885Z"
   },
   {
    "duration": 14,
    "start_time": "2023-10-09T08:17:53.898Z"
   },
   {
    "duration": 24,
    "start_time": "2023-10-09T08:17:53.914Z"
   },
   {
    "duration": 17,
    "start_time": "2023-10-09T08:17:53.944Z"
   },
   {
    "duration": 27,
    "start_time": "2023-10-09T08:17:53.962Z"
   },
   {
    "duration": 29,
    "start_time": "2023-10-09T08:17:53.990Z"
   },
   {
    "duration": 207,
    "start_time": "2023-10-09T08:17:54.022Z"
   },
   {
    "duration": 147,
    "start_time": "2023-10-09T08:17:54.230Z"
   },
   {
    "duration": 247,
    "start_time": "2023-10-09T08:17:54.378Z"
   },
   {
    "duration": 1552,
    "start_time": "2023-10-09T08:17:54.626Z"
   },
   {
    "duration": 1647,
    "start_time": "2023-10-09T08:17:56.180Z"
   },
   {
    "duration": 33,
    "start_time": "2023-10-09T08:17:57.828Z"
   },
   {
    "duration": 11,
    "start_time": "2023-10-09T08:17:57.863Z"
   },
   {
    "duration": 24,
    "start_time": "2023-10-09T08:17:57.875Z"
   },
   {
    "duration": 13,
    "start_time": "2023-10-09T08:17:57.900Z"
   },
   {
    "duration": 211,
    "start_time": "2023-10-09T08:17:57.914Z"
   },
   {
    "duration": 234,
    "start_time": "2023-10-09T08:17:58.126Z"
   },
   {
    "duration": 30,
    "start_time": "2023-10-09T08:17:58.362Z"
   },
   {
    "duration": 5,
    "start_time": "2023-10-09T08:17:58.393Z"
   },
   {
    "duration": 31,
    "start_time": "2023-10-09T08:17:58.399Z"
   },
   {
    "duration": 16,
    "start_time": "2023-10-09T08:17:58.432Z"
   },
   {
    "duration": 52,
    "start_time": "2023-10-09T08:17:58.457Z"
   },
   {
    "duration": 9,
    "start_time": "2023-10-09T08:18:02.462Z"
   },
   {
    "duration": 7,
    "start_time": "2023-10-09T08:19:23.514Z"
   },
   {
    "duration": 53,
    "start_time": "2023-10-09T08:36:04.923Z"
   },
   {
    "duration": 53,
    "start_time": "2023-10-09T08:36:28.337Z"
   },
   {
    "duration": 15,
    "start_time": "2023-10-09T08:41:17.761Z"
   },
   {
    "duration": 14,
    "start_time": "2023-10-09T08:42:10.854Z"
   },
   {
    "duration": 10,
    "start_time": "2023-10-09T08:43:35.904Z"
   },
   {
    "duration": 10,
    "start_time": "2023-10-09T08:43:43.821Z"
   },
   {
    "duration": 10,
    "start_time": "2023-10-09T08:46:25.881Z"
   },
   {
    "duration": 131,
    "start_time": "2023-10-09T08:54:32.606Z"
   },
   {
    "duration": 10,
    "start_time": "2023-10-09T09:00:03.379Z"
   },
   {
    "duration": 66,
    "start_time": "2023-10-09T09:00:45.825Z"
   },
   {
    "duration": 46,
    "start_time": "2023-10-09T09:01:02.935Z"
   },
   {
    "duration": 23,
    "start_time": "2023-10-09T09:01:51.282Z"
   },
   {
    "duration": 30,
    "start_time": "2023-10-09T09:01:58.173Z"
   },
   {
    "duration": 19,
    "start_time": "2023-10-09T09:02:19.145Z"
   },
   {
    "duration": 28,
    "start_time": "2023-10-09T09:03:14.761Z"
   },
   {
    "duration": 13,
    "start_time": "2023-10-09T09:03:40.682Z"
   },
   {
    "duration": 43,
    "start_time": "2023-10-09T09:04:15.924Z"
   },
   {
    "duration": 12,
    "start_time": "2023-10-09T09:04:39.081Z"
   },
   {
    "duration": 45,
    "start_time": "2023-10-09T09:05:38.630Z"
   },
   {
    "duration": 244,
    "start_time": "2023-10-09T09:49:47.763Z"
   },
   {
    "duration": 267,
    "start_time": "2023-10-09T10:39:25.747Z"
   },
   {
    "duration": 98,
    "start_time": "2023-10-09T10:53:05.252Z"
   },
   {
    "duration": 9,
    "start_time": "2023-10-09T10:53:51.576Z"
   },
   {
    "duration": 4,
    "start_time": "2023-10-09T11:02:12.158Z"
   },
   {
    "duration": 3,
    "start_time": "2023-10-09T11:02:18.704Z"
   },
   {
    "duration": 4,
    "start_time": "2023-10-09T11:03:15.416Z"
   },
   {
    "duration": 35,
    "start_time": "2023-10-09T12:34:41.740Z"
   },
   {
    "duration": 25,
    "start_time": "2023-10-09T12:36:14.379Z"
   },
   {
    "duration": 23,
    "start_time": "2023-10-09T12:36:23.779Z"
   },
   {
    "duration": 26,
    "start_time": "2023-10-09T12:36:32.839Z"
   },
   {
    "duration": 11,
    "start_time": "2023-10-09T12:38:31.464Z"
   },
   {
    "duration": 12,
    "start_time": "2023-10-09T12:44:38.480Z"
   },
   {
    "duration": 834,
    "start_time": "2023-10-09T14:00:38.343Z"
   },
   {
    "duration": 860,
    "start_time": "2023-10-09T14:13:35.195Z"
   },
   {
    "duration": 828,
    "start_time": "2023-10-09T14:14:55.434Z"
   },
   {
    "duration": 842,
    "start_time": "2023-10-09T14:39:28.172Z"
   },
   {
    "duration": 850,
    "start_time": "2023-10-09T14:39:42.575Z"
   },
   {
    "duration": 822,
    "start_time": "2023-10-09T14:40:10.158Z"
   },
   {
    "duration": 7,
    "start_time": "2023-10-09T15:09:34.265Z"
   },
   {
    "duration": 5,
    "start_time": "2023-10-09T15:10:07.854Z"
   },
   {
    "duration": 116,
    "start_time": "2023-10-09T15:14:28.216Z"
   },
   {
    "duration": 117,
    "start_time": "2023-10-09T15:15:28.467Z"
   },
   {
    "duration": 152,
    "start_time": "2023-10-09T15:15:44.343Z"
   },
   {
    "duration": 4,
    "start_time": "2023-10-09T15:17:01.499Z"
   },
   {
    "duration": 119,
    "start_time": "2023-10-09T15:17:21.833Z"
   },
   {
    "duration": 114,
    "start_time": "2023-10-09T15:17:33.497Z"
   },
   {
    "duration": 921,
    "start_time": "2023-10-09T15:19:07.686Z"
   },
   {
    "duration": 115,
    "start_time": "2023-10-09T15:19:09.500Z"
   },
   {
    "duration": 121,
    "start_time": "2023-10-09T15:25:16.521Z"
   },
   {
    "duration": 1022,
    "start_time": "2023-10-09T15:41:33.639Z"
   },
   {
    "duration": 66,
    "start_time": "2023-10-09T15:41:34.662Z"
   },
   {
    "duration": 40,
    "start_time": "2023-10-09T15:41:34.730Z"
   },
   {
    "duration": 11,
    "start_time": "2023-10-09T15:41:34.771Z"
   },
   {
    "duration": 3,
    "start_time": "2023-10-09T15:41:34.785Z"
   },
   {
    "duration": 8,
    "start_time": "2023-10-09T15:41:34.789Z"
   },
   {
    "duration": 9,
    "start_time": "2023-10-09T15:41:34.798Z"
   },
   {
    "duration": 38,
    "start_time": "2023-10-09T15:41:34.808Z"
   },
   {
    "duration": 7,
    "start_time": "2023-10-09T15:41:34.847Z"
   },
   {
    "duration": 188,
    "start_time": "2023-10-09T15:41:34.856Z"
   },
   {
    "duration": 148,
    "start_time": "2023-10-09T15:41:35.045Z"
   },
   {
    "duration": 251,
    "start_time": "2023-10-09T15:41:35.194Z"
   },
   {
    "duration": 1467,
    "start_time": "2023-10-09T15:41:35.446Z"
   },
   {
    "duration": 1519,
    "start_time": "2023-10-09T15:41:36.916Z"
   },
   {
    "duration": 13,
    "start_time": "2023-10-09T15:41:38.440Z"
   },
   {
    "duration": 11,
    "start_time": "2023-10-09T15:41:38.454Z"
   },
   {
    "duration": 17,
    "start_time": "2023-10-09T15:41:38.467Z"
   },
   {
    "duration": 14,
    "start_time": "2023-10-09T15:41:38.485Z"
   },
   {
    "duration": 227,
    "start_time": "2023-10-09T15:41:38.500Z"
   },
   {
    "duration": 197,
    "start_time": "2023-10-09T15:41:38.729Z"
   },
   {
    "duration": 34,
    "start_time": "2023-10-09T15:41:38.927Z"
   },
   {
    "duration": 3,
    "start_time": "2023-10-09T15:41:38.963Z"
   },
   {
    "duration": 36,
    "start_time": "2023-10-09T15:41:38.968Z"
   },
   {
    "duration": 10,
    "start_time": "2023-10-09T15:41:39.006Z"
   },
   {
    "duration": 22,
    "start_time": "2023-10-09T15:41:39.017Z"
   },
   {
    "duration": 12,
    "start_time": "2023-10-09T15:41:39.040Z"
   },
   {
    "duration": 818,
    "start_time": "2023-10-09T15:41:39.053Z"
   },
   {
    "duration": 116,
    "start_time": "2023-10-09T15:41:39.873Z"
   },
   {
    "duration": 3,
    "start_time": "2023-10-09T15:44:38.937Z"
   },
   {
    "duration": 69,
    "start_time": "2023-10-09T15:45:06.262Z"
   },
   {
    "duration": 3,
    "start_time": "2023-10-09T15:45:14.546Z"
   },
   {
    "duration": 65,
    "start_time": "2023-10-09T15:45:15.877Z"
   },
   {
    "duration": 38,
    "start_time": "2023-10-09T15:45:51.145Z"
   },
   {
    "duration": 35,
    "start_time": "2023-10-09T15:46:30.628Z"
   },
   {
    "duration": 3,
    "start_time": "2023-10-09T15:48:12.757Z"
   },
   {
    "duration": 73,
    "start_time": "2023-10-09T15:48:12.762Z"
   },
   {
    "duration": 37,
    "start_time": "2023-10-09T15:48:12.836Z"
   },
   {
    "duration": 11,
    "start_time": "2023-10-09T15:48:12.875Z"
   },
   {
    "duration": 10,
    "start_time": "2023-10-09T15:48:12.888Z"
   },
   {
    "duration": 9,
    "start_time": "2023-10-09T15:48:12.899Z"
   },
   {
    "duration": 31,
    "start_time": "2023-10-09T15:48:12.909Z"
   },
   {
    "duration": 8,
    "start_time": "2023-10-09T15:48:20.110Z"
   },
   {
    "duration": 9,
    "start_time": "2023-10-09T15:48:22.308Z"
   },
   {
    "duration": 7,
    "start_time": "2023-10-09T15:48:29.396Z"
   },
   {
    "duration": 166,
    "start_time": "2023-10-09T15:48:57.510Z"
   },
   {
    "duration": 137,
    "start_time": "2023-10-09T15:49:18.705Z"
   },
   {
    "duration": 122,
    "start_time": "2023-10-09T15:55:19.814Z"
   },
   {
    "duration": 127,
    "start_time": "2023-10-09T15:55:31.724Z"
   },
   {
    "duration": 126,
    "start_time": "2023-10-09T15:55:41.863Z"
   },
   {
    "duration": 814,
    "start_time": "2023-10-09T15:56:30.090Z"
   },
   {
    "duration": 3,
    "start_time": "2023-10-09T16:06:39.768Z"
   },
   {
    "duration": 83,
    "start_time": "2023-10-09T16:06:39.773Z"
   },
   {
    "duration": 39,
    "start_time": "2023-10-09T16:06:39.858Z"
   },
   {
    "duration": 13,
    "start_time": "2023-10-09T16:06:39.941Z"
   },
   {
    "duration": 5,
    "start_time": "2023-10-09T16:06:39.956Z"
   },
   {
    "duration": 11,
    "start_time": "2023-10-09T16:06:39.962Z"
   },
   {
    "duration": 11,
    "start_time": "2023-10-09T16:06:39.975Z"
   },
   {
    "duration": 11,
    "start_time": "2023-10-09T16:06:39.989Z"
   },
   {
    "duration": 37,
    "start_time": "2023-10-09T16:06:40.002Z"
   },
   {
    "duration": 176,
    "start_time": "2023-10-09T16:06:40.041Z"
   },
   {
    "duration": 152,
    "start_time": "2023-10-09T16:06:40.219Z"
   },
   {
    "duration": 251,
    "start_time": "2023-10-09T16:06:40.373Z"
   },
   {
    "duration": 1624,
    "start_time": "2023-10-09T16:06:40.626Z"
   },
   {
    "duration": 1603,
    "start_time": "2023-10-09T16:06:42.252Z"
   },
   {
    "duration": 14,
    "start_time": "2023-10-09T16:06:43.856Z"
   },
   {
    "duration": 10,
    "start_time": "2023-10-09T16:06:43.871Z"
   },
   {
    "duration": 35,
    "start_time": "2023-10-09T16:06:43.883Z"
   },
   {
    "duration": 13,
    "start_time": "2023-10-09T16:06:43.919Z"
   },
   {
    "duration": 215,
    "start_time": "2023-10-09T16:06:43.939Z"
   },
   {
    "duration": 216,
    "start_time": "2023-10-09T16:06:44.155Z"
   },
   {
    "duration": 28,
    "start_time": "2023-10-09T16:08:58.119Z"
   },
   {
    "duration": 12,
    "start_time": "2023-10-09T16:09:09.592Z"
   },
   {
    "duration": 4,
    "start_time": "2023-10-09T16:10:16.125Z"
   },
   {
    "duration": 5,
    "start_time": "2023-10-09T16:11:23.269Z"
   },
   {
    "duration": 31,
    "start_time": "2023-10-09T16:11:24.056Z"
   },
   {
    "duration": 12,
    "start_time": "2023-10-09T16:12:22.789Z"
   },
   {
    "duration": 1146,
    "start_time": "2023-10-09T16:21:41.722Z"
   },
   {
    "duration": 67,
    "start_time": "2023-10-09T16:21:42.870Z"
   },
   {
    "duration": 43,
    "start_time": "2023-10-09T16:21:42.938Z"
   },
   {
    "duration": 29,
    "start_time": "2023-10-09T16:21:42.982Z"
   },
   {
    "duration": 54,
    "start_time": "2023-10-09T16:21:43.013Z"
   },
   {
    "duration": 74,
    "start_time": "2023-10-09T16:21:43.068Z"
   },
   {
    "duration": 53,
    "start_time": "2023-10-09T16:21:43.143Z"
   },
   {
    "duration": 40,
    "start_time": "2023-10-09T16:21:43.197Z"
   },
   {
    "duration": 64,
    "start_time": "2023-10-09T16:21:43.239Z"
   },
   {
    "duration": 202,
    "start_time": "2023-10-09T16:21:43.305Z"
   },
   {
    "duration": 153,
    "start_time": "2023-10-09T16:21:43.508Z"
   },
   {
    "duration": 283,
    "start_time": "2023-10-09T16:21:43.663Z"
   },
   {
    "duration": 1482,
    "start_time": "2023-10-09T16:21:43.948Z"
   },
   {
    "duration": 1578,
    "start_time": "2023-10-09T16:21:45.432Z"
   },
   {
    "duration": 14,
    "start_time": "2023-10-09T16:21:47.012Z"
   },
   {
    "duration": 20,
    "start_time": "2023-10-09T16:21:47.027Z"
   },
   {
    "duration": 18,
    "start_time": "2023-10-09T16:21:47.049Z"
   },
   {
    "duration": 13,
    "start_time": "2023-10-09T16:21:47.068Z"
   },
   {
    "duration": 226,
    "start_time": "2023-10-09T16:21:47.082Z"
   },
   {
    "duration": 203,
    "start_time": "2023-10-09T16:21:47.309Z"
   },
   {
    "duration": 35,
    "start_time": "2023-10-09T16:21:47.513Z"
   },
   {
    "duration": 9,
    "start_time": "2023-10-09T16:21:47.550Z"
   },
   {
    "duration": 21,
    "start_time": "2023-10-09T16:21:47.561Z"
   },
   {
    "duration": 32,
    "start_time": "2023-10-09T16:21:47.583Z"
   },
   {
    "duration": 11,
    "start_time": "2023-10-09T16:21:47.617Z"
   },
   {
    "duration": 19,
    "start_time": "2023-10-09T16:21:47.630Z"
   },
   {
    "duration": 17,
    "start_time": "2023-10-09T16:21:47.651Z"
   },
   {
    "duration": 834,
    "start_time": "2023-10-09T16:21:47.671Z"
   },
   {
    "duration": 143,
    "start_time": "2023-10-09T16:21:48.507Z"
   },
   {
    "duration": 1441,
    "start_time": "2023-10-09T17:19:40.324Z"
   },
   {
    "duration": 1046,
    "start_time": "2023-10-09T18:16:27.366Z"
   },
   {
    "duration": 1179,
    "start_time": "2023-10-09T18:18:51.080Z"
   },
   {
    "duration": 66,
    "start_time": "2023-10-09T18:18:52.260Z"
   },
   {
    "duration": 43,
    "start_time": "2023-10-09T18:18:52.327Z"
   },
   {
    "duration": 14,
    "start_time": "2023-10-09T18:18:52.372Z"
   },
   {
    "duration": 5,
    "start_time": "2023-10-09T18:18:52.387Z"
   },
   {
    "duration": 11,
    "start_time": "2023-10-09T18:18:52.394Z"
   },
   {
    "duration": 42,
    "start_time": "2023-10-09T18:18:52.407Z"
   },
   {
    "duration": 12,
    "start_time": "2023-10-09T18:18:52.451Z"
   },
   {
    "duration": 8,
    "start_time": "2023-10-09T18:18:52.465Z"
   },
   {
    "duration": 218,
    "start_time": "2023-10-09T18:18:52.476Z"
   },
   {
    "duration": 146,
    "start_time": "2023-10-09T18:18:52.695Z"
   },
   {
    "duration": 239,
    "start_time": "2023-10-09T18:18:52.842Z"
   },
   {
    "duration": 1419,
    "start_time": "2023-10-09T18:18:53.083Z"
   },
   {
    "duration": 1496,
    "start_time": "2023-10-09T18:18:54.503Z"
   },
   {
    "duration": 14,
    "start_time": "2023-10-09T18:18:56.000Z"
   },
   {
    "duration": 10,
    "start_time": "2023-10-09T18:18:56.015Z"
   },
   {
    "duration": 35,
    "start_time": "2023-10-09T18:18:56.040Z"
   },
   {
    "duration": 13,
    "start_time": "2023-10-09T18:18:56.076Z"
   },
   {
    "duration": 201,
    "start_time": "2023-10-09T18:18:56.090Z"
   },
   {
    "duration": 206,
    "start_time": "2023-10-09T18:18:56.293Z"
   },
   {
    "duration": 28,
    "start_time": "2023-10-09T18:18:56.500Z"
   },
   {
    "duration": 10,
    "start_time": "2023-10-09T18:18:56.539Z"
   },
   {
    "duration": 11,
    "start_time": "2023-10-09T18:18:56.550Z"
   },
   {
    "duration": 30,
    "start_time": "2023-10-09T18:18:56.562Z"
   },
   {
    "duration": 10,
    "start_time": "2023-10-09T18:18:56.594Z"
   },
   {
    "duration": 19,
    "start_time": "2023-10-09T18:18:56.605Z"
   },
   {
    "duration": 17,
    "start_time": "2023-10-09T18:18:56.625Z"
   },
   {
    "duration": 805,
    "start_time": "2023-10-09T18:18:56.644Z"
   },
   {
    "duration": 123,
    "start_time": "2023-10-09T18:18:57.450Z"
   },
   {
    "duration": 1093,
    "start_time": "2023-10-09T19:05:30.361Z"
   },
   {
    "duration": 187,
    "start_time": "2023-10-09T19:05:31.455Z"
   },
   {
    "duration": 45,
    "start_time": "2023-10-09T19:05:31.644Z"
   },
   {
    "duration": 25,
    "start_time": "2023-10-09T19:05:31.690Z"
   },
   {
    "duration": 58,
    "start_time": "2023-10-09T19:05:31.717Z"
   },
   {
    "duration": 59,
    "start_time": "2023-10-09T19:05:31.777Z"
   },
   {
    "duration": 31,
    "start_time": "2023-10-09T19:05:31.838Z"
   },
   {
    "duration": 46,
    "start_time": "2023-10-09T19:05:31.871Z"
   },
   {
    "duration": 52,
    "start_time": "2023-10-09T19:05:31.918Z"
   },
   {
    "duration": 234,
    "start_time": "2023-10-09T19:05:31.973Z"
   },
   {
    "duration": 171,
    "start_time": "2023-10-09T19:05:32.209Z"
   },
   {
    "duration": 299,
    "start_time": "2023-10-09T19:05:32.381Z"
   },
   {
    "duration": 1695,
    "start_time": "2023-10-09T19:05:32.681Z"
   },
   {
    "duration": 1811,
    "start_time": "2023-10-09T19:05:34.378Z"
   },
   {
    "duration": 14,
    "start_time": "2023-10-09T19:05:36.191Z"
   },
   {
    "duration": 23,
    "start_time": "2023-10-09T19:05:36.206Z"
   },
   {
    "duration": 41,
    "start_time": "2023-10-09T19:05:36.231Z"
   },
   {
    "duration": 24,
    "start_time": "2023-10-09T19:05:36.274Z"
   },
   {
    "duration": 254,
    "start_time": "2023-10-09T19:05:36.300Z"
   },
   {
    "duration": 198,
    "start_time": "2023-10-09T19:05:36.555Z"
   },
   {
    "duration": 29,
    "start_time": "2023-10-09T19:05:36.755Z"
   },
   {
    "duration": 10,
    "start_time": "2023-10-09T19:05:36.785Z"
   },
   {
    "duration": 35,
    "start_time": "2023-10-09T19:05:36.797Z"
   },
   {
    "duration": 38,
    "start_time": "2023-10-09T19:05:36.833Z"
   },
   {
    "duration": 11,
    "start_time": "2023-10-09T19:05:36.873Z"
   },
   {
    "duration": 30,
    "start_time": "2023-10-09T19:05:36.886Z"
   },
   {
    "duration": 17,
    "start_time": "2023-10-09T19:05:36.918Z"
   },
   {
    "duration": 981,
    "start_time": "2023-10-09T19:05:36.937Z"
   },
   {
    "duration": 144,
    "start_time": "2023-10-09T19:05:37.920Z"
   },
   {
    "duration": 1067,
    "start_time": "2023-10-09T19:06:26.366Z"
   },
   {
    "duration": 66,
    "start_time": "2023-10-09T19:06:27.435Z"
   },
   {
    "duration": 43,
    "start_time": "2023-10-09T19:06:27.503Z"
   },
   {
    "duration": 11,
    "start_time": "2023-10-09T19:06:27.548Z"
   },
   {
    "duration": 7,
    "start_time": "2023-10-09T19:06:27.561Z"
   },
   {
    "duration": 8,
    "start_time": "2023-10-09T19:06:27.570Z"
   },
   {
    "duration": 27,
    "start_time": "2023-10-09T19:06:27.580Z"
   },
   {
    "duration": 17,
    "start_time": "2023-10-09T19:06:27.609Z"
   },
   {
    "duration": 24,
    "start_time": "2023-10-09T19:06:27.628Z"
   },
   {
    "duration": 198,
    "start_time": "2023-10-09T19:06:27.655Z"
   },
   {
    "duration": 180,
    "start_time": "2023-10-09T19:06:27.855Z"
   },
   {
    "duration": 302,
    "start_time": "2023-10-09T19:06:28.036Z"
   },
   {
    "duration": 1714,
    "start_time": "2023-10-09T19:06:28.343Z"
   },
   {
    "duration": 1796,
    "start_time": "2023-10-09T19:06:30.060Z"
   },
   {
    "duration": 14,
    "start_time": "2023-10-09T19:06:31.858Z"
   },
   {
    "duration": 54,
    "start_time": "2023-10-09T19:06:31.873Z"
   },
   {
    "duration": 65,
    "start_time": "2023-10-09T19:06:31.928Z"
   },
   {
    "duration": 48,
    "start_time": "2023-10-09T19:06:31.995Z"
   },
   {
    "duration": 254,
    "start_time": "2023-10-09T19:06:32.045Z"
   },
   {
    "duration": 244,
    "start_time": "2023-10-09T19:06:32.302Z"
   },
   {
    "duration": 33,
    "start_time": "2023-10-09T19:06:32.548Z"
   },
   {
    "duration": 40,
    "start_time": "2023-10-09T19:06:32.582Z"
   },
   {
    "duration": 39,
    "start_time": "2023-10-09T19:06:32.624Z"
   },
   {
    "duration": 64,
    "start_time": "2023-10-09T19:06:32.665Z"
   },
   {
    "duration": 39,
    "start_time": "2023-10-09T19:06:32.731Z"
   },
   {
    "duration": 32,
    "start_time": "2023-10-09T19:06:32.772Z"
   },
   {
    "duration": 24,
    "start_time": "2023-10-09T19:06:32.807Z"
   },
   {
    "duration": 1042,
    "start_time": "2023-10-09T19:06:32.832Z"
   },
   {
    "duration": 155,
    "start_time": "2023-10-09T19:06:33.876Z"
   },
   {
    "duration": 12,
    "start_time": "2023-10-09T19:15:12.776Z"
   },
   {
    "duration": 13,
    "start_time": "2023-10-09T19:15:14.198Z"
   },
   {
    "duration": 11,
    "start_time": "2023-10-09T19:15:32.588Z"
   },
   {
    "duration": 12,
    "start_time": "2023-10-09T19:15:33.722Z"
   },
   {
    "duration": 45,
    "start_time": "2023-10-10T07:27:31.443Z"
   },
   {
    "duration": 1280,
    "start_time": "2023-10-10T07:27:37.067Z"
   },
   {
    "duration": 191,
    "start_time": "2023-10-10T07:27:39.169Z"
   },
   {
    "duration": 62,
    "start_time": "2023-10-10T07:27:43.734Z"
   },
   {
    "duration": 39,
    "start_time": "2023-10-10T07:29:52.910Z"
   },
   {
    "duration": 11,
    "start_time": "2023-10-10T07:39:11.297Z"
   },
   {
    "duration": 62,
    "start_time": "2023-10-10T07:39:50.047Z"
   },
   {
    "duration": 8,
    "start_time": "2023-10-10T07:40:19.524Z"
   },
   {
    "duration": 10,
    "start_time": "2023-10-10T07:43:16.351Z"
   },
   {
    "duration": 5,
    "start_time": "2023-10-10T07:43:28.740Z"
   },
   {
    "duration": 11,
    "start_time": "2023-10-10T07:43:45.157Z"
   },
   {
    "duration": 11,
    "start_time": "2023-10-10T07:43:50.859Z"
   },
   {
    "duration": 10,
    "start_time": "2023-10-10T07:44:56.147Z"
   },
   {
    "duration": 10,
    "start_time": "2023-10-10T07:45:25.347Z"
   },
   {
    "duration": 16,
    "start_time": "2023-10-10T07:45:50.755Z"
   },
   {
    "duration": 7,
    "start_time": "2023-10-10T07:45:58.648Z"
   },
   {
    "duration": 7,
    "start_time": "2023-10-10T07:46:12.427Z"
   },
   {
    "duration": 6,
    "start_time": "2023-10-10T07:46:30.926Z"
   },
   {
    "duration": 6,
    "start_time": "2023-10-10T07:46:48.782Z"
   },
   {
    "duration": 5,
    "start_time": "2023-10-10T07:53:48.761Z"
   },
   {
    "duration": 5,
    "start_time": "2023-10-10T08:28:55.059Z"
   },
   {
    "duration": 115,
    "start_time": "2023-10-10T08:28:55.068Z"
   },
   {
    "duration": 40,
    "start_time": "2023-10-10T08:28:55.184Z"
   },
   {
    "duration": 22,
    "start_time": "2023-10-10T08:28:55.226Z"
   },
   {
    "duration": 19,
    "start_time": "2023-10-10T08:28:55.251Z"
   },
   {
    "duration": 61,
    "start_time": "2023-10-10T08:28:55.272Z"
   },
   {
    "duration": 64,
    "start_time": "2023-10-10T08:28:55.334Z"
   },
   {
    "duration": 40,
    "start_time": "2023-10-10T08:28:55.400Z"
   },
   {
    "duration": 38,
    "start_time": "2023-10-10T08:28:55.442Z"
   },
   {
    "duration": 226,
    "start_time": "2023-10-10T08:28:55.482Z"
   },
   {
    "duration": 175,
    "start_time": "2023-10-10T08:29:01.515Z"
   },
   {
    "duration": 99,
    "start_time": "2023-10-10T08:29:05.174Z"
   },
   {
    "duration": 92,
    "start_time": "2023-10-10T08:30:01.607Z"
   },
   {
    "duration": 109,
    "start_time": "2023-10-10T08:30:12.750Z"
   },
   {
    "duration": 131,
    "start_time": "2023-10-10T08:31:34.754Z"
   },
   {
    "duration": 114,
    "start_time": "2023-10-10T08:31:39.870Z"
   },
   {
    "duration": 119,
    "start_time": "2023-10-10T08:33:14.575Z"
   },
   {
    "duration": 16,
    "start_time": "2023-10-10T08:39:40.925Z"
   },
   {
    "duration": 272,
    "start_time": "2023-10-10T08:39:49.703Z"
   },
   {
    "duration": 221,
    "start_time": "2023-10-10T08:40:21.479Z"
   },
   {
    "duration": 267,
    "start_time": "2023-10-10T08:40:27.400Z"
   },
   {
    "duration": 299,
    "start_time": "2023-10-10T08:41:29.633Z"
   },
   {
    "duration": 122,
    "start_time": "2023-10-10T09:03:19.536Z"
   },
   {
    "duration": 118,
    "start_time": "2023-10-10T09:03:57.999Z"
   },
   {
    "duration": 11,
    "start_time": "2023-10-10T09:04:43.968Z"
   },
   {
    "duration": 235,
    "start_time": "2023-10-10T09:04:56.262Z"
   },
   {
    "duration": 145,
    "start_time": "2023-10-10T09:05:14.687Z"
   },
   {
    "duration": 150,
    "start_time": "2023-10-10T09:05:29.167Z"
   },
   {
    "duration": 5,
    "start_time": "2023-10-10T09:07:49.475Z"
   },
   {
    "duration": 159,
    "start_time": "2023-10-10T09:07:54.478Z"
   },
   {
    "duration": 156,
    "start_time": "2023-10-10T09:08:34.936Z"
   },
   {
    "duration": 265,
    "start_time": "2023-10-10T09:11:37.019Z"
   },
   {
    "duration": 135,
    "start_time": "2023-10-10T09:13:12.501Z"
   },
   {
    "duration": 3,
    "start_time": "2023-10-10T09:28:12.864Z"
   },
   {
    "duration": 82,
    "start_time": "2023-10-10T09:28:12.870Z"
   },
   {
    "duration": 48,
    "start_time": "2023-10-10T09:28:12.955Z"
   },
   {
    "duration": 38,
    "start_time": "2023-10-10T09:28:13.006Z"
   },
   {
    "duration": 14,
    "start_time": "2023-10-10T09:28:13.047Z"
   },
   {
    "duration": 20,
    "start_time": "2023-10-10T09:28:13.063Z"
   },
   {
    "duration": 18,
    "start_time": "2023-10-10T09:28:13.084Z"
   },
   {
    "duration": 38,
    "start_time": "2023-10-10T09:28:13.104Z"
   },
   {
    "duration": 29,
    "start_time": "2023-10-10T09:28:13.144Z"
   },
   {
    "duration": 206,
    "start_time": "2023-10-10T09:28:13.175Z"
   },
   {
    "duration": 113,
    "start_time": "2023-10-10T09:28:13.382Z"
   },
   {
    "duration": 355,
    "start_time": "2023-10-10T09:28:13.497Z"
   },
   {
    "duration": 147,
    "start_time": "2023-10-10T09:28:13.855Z"
   },
   {
    "duration": 2085,
    "start_time": "2023-10-10T09:28:14.004Z"
   },
   {
    "duration": 158,
    "start_time": "2023-10-10T09:28:16.091Z"
   },
   {
    "duration": 2051,
    "start_time": "2023-10-10T09:28:16.255Z"
   },
   {
    "duration": 157,
    "start_time": "2023-10-10T09:28:18.307Z"
   },
   {
    "duration": 4,
    "start_time": "2023-10-10T09:32:00.970Z"
   },
   {
    "duration": 129,
    "start_time": "2023-10-10T09:32:00.976Z"
   },
   {
    "duration": 51,
    "start_time": "2023-10-10T09:32:01.106Z"
   },
   {
    "duration": 88,
    "start_time": "2023-10-10T09:32:01.159Z"
   },
   {
    "duration": 73,
    "start_time": "2023-10-10T09:32:01.251Z"
   },
   {
    "duration": 74,
    "start_time": "2023-10-10T09:32:01.325Z"
   },
   {
    "duration": 34,
    "start_time": "2023-10-10T09:32:01.401Z"
   },
   {
    "duration": 49,
    "start_time": "2023-10-10T09:32:01.437Z"
   },
   {
    "duration": 48,
    "start_time": "2023-10-10T09:32:01.487Z"
   },
   {
    "duration": 236,
    "start_time": "2023-10-10T09:32:01.537Z"
   },
   {
    "duration": 106,
    "start_time": "2023-10-10T09:32:01.776Z"
   },
   {
    "duration": 328,
    "start_time": "2023-10-10T09:32:01.883Z"
   },
   {
    "duration": 141,
    "start_time": "2023-10-10T09:32:02.213Z"
   },
   {
    "duration": 2504,
    "start_time": "2023-10-10T09:32:02.357Z"
   },
   {
    "duration": 187,
    "start_time": "2023-10-10T09:32:04.864Z"
   },
   {
    "duration": 2024,
    "start_time": "2023-10-10T09:32:05.054Z"
   },
   {
    "duration": 151,
    "start_time": "2023-10-10T09:32:07.080Z"
   },
   {
    "duration": 345,
    "start_time": "2023-10-10T09:32:42.367Z"
   },
   {
    "duration": 119,
    "start_time": "2023-10-10T09:32:53.216Z"
   },
   {
    "duration": 4,
    "start_time": "2023-10-10T09:33:00.871Z"
   },
   {
    "duration": 4,
    "start_time": "2023-10-10T09:34:32.395Z"
   },
   {
    "duration": 4,
    "start_time": "2023-10-10T09:34:49.898Z"
   },
   {
    "duration": 5,
    "start_time": "2023-10-10T09:35:43.423Z"
   },
   {
    "duration": 7,
    "start_time": "2023-10-10T09:38:03.771Z"
   },
   {
    "duration": 5,
    "start_time": "2023-10-10T09:38:28.008Z"
   },
   {
    "duration": 4,
    "start_time": "2023-10-10T09:38:36.914Z"
   },
   {
    "duration": 6,
    "start_time": "2023-10-10T09:40:31.890Z"
   },
   {
    "duration": 9,
    "start_time": "2023-10-10T09:40:45.203Z"
   },
   {
    "duration": 24,
    "start_time": "2023-10-10T09:41:36.939Z"
   },
   {
    "duration": 11,
    "start_time": "2023-10-10T09:41:39.883Z"
   },
   {
    "duration": 11,
    "start_time": "2023-10-10T09:41:47.770Z"
   },
   {
    "duration": 12,
    "start_time": "2023-10-10T09:41:54.233Z"
   },
   {
    "duration": 13,
    "start_time": "2023-10-10T09:43:10.570Z"
   },
   {
    "duration": 8,
    "start_time": "2023-10-10T09:43:16.126Z"
   },
   {
    "duration": 18,
    "start_time": "2023-10-10T09:43:27.965Z"
   },
   {
    "duration": 12,
    "start_time": "2023-10-10T09:43:28.570Z"
   },
   {
    "duration": 4,
    "start_time": "2023-10-10T09:43:29.421Z"
   },
   {
    "duration": 147,
    "start_time": "2023-10-10T09:44:36.902Z"
   },
   {
    "duration": 21,
    "start_time": "2023-10-10T09:44:49.328Z"
   },
   {
    "duration": 7,
    "start_time": "2023-10-10T09:45:09.241Z"
   },
   {
    "duration": 12,
    "start_time": "2023-10-10T09:45:37.030Z"
   },
   {
    "duration": 3,
    "start_time": "2023-10-10T09:50:54.510Z"
   },
   {
    "duration": 22,
    "start_time": "2023-10-10T09:51:19.705Z"
   },
   {
    "duration": 14,
    "start_time": "2023-10-10T09:51:27.371Z"
   },
   {
    "duration": 26,
    "start_time": "2023-10-10T09:51:40.012Z"
   },
   {
    "duration": 19,
    "start_time": "2023-10-10T09:51:46.664Z"
   },
   {
    "duration": 3,
    "start_time": "2023-10-10T09:55:44.671Z"
   },
   {
    "duration": 80,
    "start_time": "2023-10-10T09:55:44.676Z"
   },
   {
    "duration": 42,
    "start_time": "2023-10-10T09:55:44.758Z"
   },
   {
    "duration": 16,
    "start_time": "2023-10-10T09:55:44.802Z"
   },
   {
    "duration": 24,
    "start_time": "2023-10-10T09:55:44.820Z"
   },
   {
    "duration": 31,
    "start_time": "2023-10-10T09:55:44.846Z"
   },
   {
    "duration": 18,
    "start_time": "2023-10-10T09:55:44.880Z"
   },
   {
    "duration": 38,
    "start_time": "2023-10-10T09:55:44.899Z"
   },
   {
    "duration": 13,
    "start_time": "2023-10-10T09:55:44.939Z"
   },
   {
    "duration": 221,
    "start_time": "2023-10-10T09:55:44.953Z"
   },
   {
    "duration": 109,
    "start_time": "2023-10-10T09:55:45.176Z"
   },
   {
    "duration": 295,
    "start_time": "2023-10-10T09:55:45.287Z"
   },
   {
    "duration": 124,
    "start_time": "2023-10-10T09:55:45.584Z"
   },
   {
    "duration": 1932,
    "start_time": "2023-10-10T09:55:45.710Z"
   },
   {
    "duration": 141,
    "start_time": "2023-10-10T09:55:47.644Z"
   },
   {
    "duration": 1946,
    "start_time": "2023-10-10T09:55:47.786Z"
   },
   {
    "duration": 137,
    "start_time": "2023-10-10T09:55:49.734Z"
   },
   {
    "duration": 10,
    "start_time": "2023-10-10T09:55:49.873Z"
   },
   {
    "duration": 29,
    "start_time": "2023-10-10T09:55:49.885Z"
   },
   {
    "duration": 25,
    "start_time": "2023-10-10T09:55:49.916Z"
   },
   {
    "duration": 27,
    "start_time": "2023-10-10T09:55:49.943Z"
   },
   {
    "duration": 29,
    "start_time": "2023-10-10T09:55:49.972Z"
   },
   {
    "duration": 50,
    "start_time": "2023-10-10T09:55:50.003Z"
   },
   {
    "duration": 20,
    "start_time": "2023-10-10T09:55:50.055Z"
   },
   {
    "duration": 300,
    "start_time": "2023-10-10T09:55:50.076Z"
   },
   {
    "duration": 225,
    "start_time": "2023-10-10T09:55:50.379Z"
   },
   {
    "duration": 32,
    "start_time": "2023-10-10T09:55:57.719Z"
   },
   {
    "duration": 13,
    "start_time": "2023-10-10T09:56:04.204Z"
   },
   {
    "duration": 21,
    "start_time": "2023-10-10T09:56:58.771Z"
   },
   {
    "duration": 46,
    "start_time": "2023-10-10T09:57:47.756Z"
   },
   {
    "duration": 36,
    "start_time": "2023-10-10T10:00:15.524Z"
   },
   {
    "duration": 17,
    "start_time": "2023-10-10T10:00:19.282Z"
   },
   {
    "duration": 32,
    "start_time": "2023-10-10T10:00:41.623Z"
   },
   {
    "duration": 12,
    "start_time": "2023-10-10T10:12:01.676Z"
   },
   {
    "duration": 15,
    "start_time": "2023-10-10T10:24:00.822Z"
   },
   {
    "duration": 21,
    "start_time": "2023-10-10T10:24:11.849Z"
   },
   {
    "duration": 101,
    "start_time": "2023-10-10T10:24:20.721Z"
   },
   {
    "duration": 16,
    "start_time": "2023-10-10T10:24:24.965Z"
   },
   {
    "duration": 19,
    "start_time": "2023-10-10T10:28:52.570Z"
   },
   {
    "duration": 4,
    "start_time": "2023-10-10T10:29:03.417Z"
   },
   {
    "duration": 105,
    "start_time": "2023-10-10T10:29:03.423Z"
   },
   {
    "duration": 61,
    "start_time": "2023-10-10T10:29:03.529Z"
   },
   {
    "duration": 24,
    "start_time": "2023-10-10T10:29:03.591Z"
   },
   {
    "duration": 44,
    "start_time": "2023-10-10T10:29:03.618Z"
   },
   {
    "duration": 46,
    "start_time": "2023-10-10T10:29:03.663Z"
   },
   {
    "duration": 84,
    "start_time": "2023-10-10T10:29:03.712Z"
   },
   {
    "duration": 86,
    "start_time": "2023-10-10T10:29:03.798Z"
   },
   {
    "duration": 15,
    "start_time": "2023-10-10T10:29:03.887Z"
   },
   {
    "duration": 248,
    "start_time": "2023-10-10T10:29:03.904Z"
   },
   {
    "duration": 115,
    "start_time": "2023-10-10T10:29:04.157Z"
   },
   {
    "duration": 607,
    "start_time": "2023-10-10T10:29:04.275Z"
   },
   {
    "duration": 146,
    "start_time": "2023-10-10T10:29:04.885Z"
   },
   {
    "duration": 1991,
    "start_time": "2023-10-10T10:29:05.034Z"
   },
   {
    "duration": 176,
    "start_time": "2023-10-10T10:29:07.027Z"
   },
   {
    "duration": 2146,
    "start_time": "2023-10-10T10:29:07.204Z"
   },
   {
    "duration": 220,
    "start_time": "2023-10-10T10:29:09.352Z"
   },
   {
    "duration": 10,
    "start_time": "2023-10-10T10:29:09.575Z"
   },
   {
    "duration": 56,
    "start_time": "2023-10-10T10:29:09.586Z"
   },
   {
    "duration": 41,
    "start_time": "2023-10-10T10:29:09.646Z"
   },
   {
    "duration": 11,
    "start_time": "2023-10-10T10:29:09.690Z"
   },
   {
    "duration": 52,
    "start_time": "2023-10-10T10:29:09.703Z"
   },
   {
    "duration": 22,
    "start_time": "2023-10-10T10:29:09.759Z"
   },
   {
    "duration": 32,
    "start_time": "2023-10-10T10:29:09.783Z"
   },
   {
    "duration": 301,
    "start_time": "2023-10-10T10:29:09.818Z"
   },
   {
    "duration": 394,
    "start_time": "2023-10-10T10:29:10.121Z"
   },
   {
    "duration": 59,
    "start_time": "2023-10-10T10:29:10.517Z"
   },
   {
    "duration": 12,
    "start_time": "2023-10-10T10:29:10.578Z"
   },
   {
    "duration": 28,
    "start_time": "2023-10-10T10:29:10.595Z"
   },
   {
    "duration": 69,
    "start_time": "2023-10-10T10:29:10.625Z"
   },
   {
    "duration": 13,
    "start_time": "2023-10-10T10:29:10.696Z"
   },
   {
    "duration": 48,
    "start_time": "2023-10-10T10:29:10.711Z"
   },
   {
    "duration": 45,
    "start_time": "2023-10-10T10:29:10.766Z"
   },
   {
    "duration": 1209,
    "start_time": "2023-10-10T10:29:10.813Z"
   },
   {
    "duration": 166,
    "start_time": "2023-10-10T10:29:12.023Z"
   },
   {
    "duration": 30,
    "start_time": "2023-10-10T10:29:16.527Z"
   },
   {
    "duration": 14,
    "start_time": "2023-10-10T10:30:34.611Z"
   },
   {
    "duration": 10,
    "start_time": "2023-10-10T10:30:38.209Z"
   },
   {
    "duration": 243,
    "start_time": "2023-10-10T10:44:18.088Z"
   },
   {
    "duration": 334,
    "start_time": "2023-10-10T10:44:34.770Z"
   },
   {
    "duration": 1412,
    "start_time": "2023-10-10T10:45:03.921Z"
   },
   {
    "duration": 281,
    "start_time": "2023-10-10T10:47:49.325Z"
   },
   {
    "duration": 437,
    "start_time": "2023-10-10T10:48:15.673Z"
   },
   {
    "duration": 239,
    "start_time": "2023-10-10T10:51:21.962Z"
   },
   {
    "duration": 2204,
    "start_time": "2023-10-10T10:53:04.085Z"
   },
   {
    "duration": 376,
    "start_time": "2023-10-10T10:53:20.636Z"
   },
   {
    "duration": 342,
    "start_time": "2023-10-10T10:54:33.022Z"
   },
   {
    "duration": 360,
    "start_time": "2023-10-10T10:55:09.309Z"
   },
   {
    "duration": 313,
    "start_time": "2023-10-10T10:55:17.098Z"
   },
   {
    "duration": 509,
    "start_time": "2023-10-10T10:55:24.571Z"
   },
   {
    "duration": 686,
    "start_time": "2023-10-10T10:55:44.271Z"
   },
   {
    "duration": 408,
    "start_time": "2023-10-10T10:55:51.373Z"
   },
   {
    "duration": 428,
    "start_time": "2023-10-10T10:56:43.008Z"
   },
   {
    "duration": 392,
    "start_time": "2023-10-10T10:56:58.607Z"
   },
   {
    "duration": 1000,
    "start_time": "2023-10-10T10:57:27.602Z"
   },
   {
    "duration": 312,
    "start_time": "2023-10-10T10:57:33.725Z"
   },
   {
    "duration": 313,
    "start_time": "2023-10-10T10:57:39.983Z"
   },
   {
    "duration": 331,
    "start_time": "2023-10-10T10:57:45.480Z"
   },
   {
    "duration": 405,
    "start_time": "2023-10-10T10:57:54.591Z"
   },
   {
    "duration": 320,
    "start_time": "2023-10-10T10:58:06.608Z"
   },
   {
    "duration": 310,
    "start_time": "2023-10-10T11:00:11.977Z"
   },
   {
    "duration": 24,
    "start_time": "2023-10-10T11:01:25.442Z"
   },
   {
    "duration": 286,
    "start_time": "2023-10-10T11:02:34.861Z"
   },
   {
    "duration": 304,
    "start_time": "2023-10-10T11:03:29.656Z"
   },
   {
    "duration": 21,
    "start_time": "2023-10-10T11:04:12.652Z"
   },
   {
    "duration": 20,
    "start_time": "2023-10-10T11:05:42.602Z"
   },
   {
    "duration": 514,
    "start_time": "2023-10-10T11:06:26.622Z"
   },
   {
    "duration": 284,
    "start_time": "2023-10-10T11:06:58.306Z"
   },
   {
    "duration": 107,
    "start_time": "2023-10-10T11:07:18.703Z"
   },
   {
    "duration": 326,
    "start_time": "2023-10-10T11:07:23.903Z"
   },
   {
    "duration": 338,
    "start_time": "2023-10-10T11:08:24.311Z"
   },
   {
    "duration": 298,
    "start_time": "2023-10-10T11:08:27.909Z"
   },
   {
    "duration": 315,
    "start_time": "2023-10-10T11:08:37.762Z"
   },
   {
    "duration": 311,
    "start_time": "2023-10-10T11:08:42.415Z"
   },
   {
    "duration": 20,
    "start_time": "2023-10-10T11:09:14.180Z"
   },
   {
    "duration": 20,
    "start_time": "2023-10-10T11:09:20.176Z"
   },
   {
    "duration": 19,
    "start_time": "2023-10-10T11:10:53.978Z"
   },
   {
    "duration": 298,
    "start_time": "2023-10-10T11:11:51.003Z"
   },
   {
    "duration": 538,
    "start_time": "2023-10-10T11:12:04.342Z"
   },
   {
    "duration": 4425,
    "start_time": "2023-10-10T11:12:31.971Z"
   },
   {
    "duration": 312,
    "start_time": "2023-10-10T11:12:46.012Z"
   },
   {
    "duration": 277,
    "start_time": "2023-10-10T11:12:58.810Z"
   },
   {
    "duration": 310,
    "start_time": "2023-10-10T11:13:03.677Z"
   },
   {
    "duration": 133,
    "start_time": "2023-10-10T11:15:42.299Z"
   },
   {
    "duration": 292,
    "start_time": "2023-10-10T11:15:50.567Z"
   },
   {
    "duration": 317,
    "start_time": "2023-10-10T11:15:55.522Z"
   },
   {
    "duration": 744,
    "start_time": "2023-10-10T11:16:03.870Z"
   },
   {
    "duration": 310,
    "start_time": "2023-10-10T11:16:35.861Z"
   },
   {
    "duration": 315,
    "start_time": "2023-10-10T11:16:58.327Z"
   },
   {
    "duration": 610,
    "start_time": "2023-10-10T11:17:58.728Z"
   },
   {
    "duration": 611,
    "start_time": "2023-10-10T11:26:19.600Z"
   },
   {
    "duration": 834,
    "start_time": "2023-10-10T11:26:30.773Z"
   },
   {
    "duration": 620,
    "start_time": "2023-10-10T11:26:49.902Z"
   },
   {
    "duration": 610,
    "start_time": "2023-10-10T11:30:25.025Z"
   },
   {
    "duration": 616,
    "start_time": "2023-10-10T11:31:37.719Z"
   },
   {
    "duration": 1170,
    "start_time": "2023-10-10T11:53:35.632Z"
   },
   {
    "duration": 82,
    "start_time": "2023-10-10T11:53:36.805Z"
   },
   {
    "duration": 47,
    "start_time": "2023-10-10T11:53:36.889Z"
   },
   {
    "duration": 32,
    "start_time": "2023-10-10T11:53:36.938Z"
   },
   {
    "duration": 19,
    "start_time": "2023-10-10T11:53:36.972Z"
   },
   {
    "duration": 18,
    "start_time": "2023-10-10T11:53:36.993Z"
   },
   {
    "duration": 51,
    "start_time": "2023-10-10T11:53:37.013Z"
   },
   {
    "duration": 12,
    "start_time": "2023-10-10T11:53:37.065Z"
   },
   {
    "duration": 35,
    "start_time": "2023-10-10T11:53:37.079Z"
   },
   {
    "duration": 243,
    "start_time": "2023-10-10T11:53:37.117Z"
   },
   {
    "duration": 100,
    "start_time": "2023-10-10T11:53:37.361Z"
   },
   {
    "duration": 297,
    "start_time": "2023-10-10T11:53:37.463Z"
   },
   {
    "duration": 142,
    "start_time": "2023-10-10T11:53:37.762Z"
   },
   {
    "duration": 1832,
    "start_time": "2023-10-10T11:53:37.906Z"
   },
   {
    "duration": 146,
    "start_time": "2023-10-10T11:53:39.740Z"
   },
   {
    "duration": 1946,
    "start_time": "2023-10-10T11:53:39.888Z"
   },
   {
    "duration": 181,
    "start_time": "2023-10-10T11:53:41.836Z"
   },
   {
    "duration": 11,
    "start_time": "2023-10-10T11:53:42.019Z"
   },
   {
    "duration": 40,
    "start_time": "2023-10-10T11:53:42.032Z"
   },
   {
    "duration": 35,
    "start_time": "2023-10-10T11:53:42.074Z"
   },
   {
    "duration": 16,
    "start_time": "2023-10-10T11:53:42.111Z"
   },
   {
    "duration": 42,
    "start_time": "2023-10-10T11:53:42.128Z"
   },
   {
    "duration": 19,
    "start_time": "2023-10-10T11:53:42.172Z"
   },
   {
    "duration": 16,
    "start_time": "2023-10-10T11:53:42.193Z"
   },
   {
    "duration": 616,
    "start_time": "2023-10-10T11:53:42.211Z"
   },
   {
    "duration": 650,
    "start_time": "2023-10-10T11:53:42.830Z"
   },
   {
    "duration": 34,
    "start_time": "2023-10-10T11:53:43.481Z"
   },
   {
    "duration": 11,
    "start_time": "2023-10-10T11:53:43.519Z"
   },
   {
    "duration": 12,
    "start_time": "2023-10-10T11:53:43.544Z"
   },
   {
    "duration": 99,
    "start_time": "2023-10-10T11:53:43.561Z"
   },
   {
    "duration": 228,
    "start_time": "2023-10-10T11:53:43.661Z"
   },
   {
    "duration": 8,
    "start_time": "2023-10-10T11:53:43.891Z"
   },
   {
    "duration": 52,
    "start_time": "2023-10-10T11:53:43.901Z"
   },
   {
    "duration": 1096,
    "start_time": "2023-10-10T11:53:43.959Z"
   },
   {
    "duration": 156,
    "start_time": "2023-10-10T11:53:45.057Z"
   },
   {
    "duration": 14,
    "start_time": "2023-10-10T11:59:57.687Z"
   },
   {
    "duration": 9,
    "start_time": "2023-10-10T12:00:05.562Z"
   },
   {
    "duration": 114,
    "start_time": "2023-10-10T13:06:41.755Z"
   },
   {
    "duration": 101,
    "start_time": "2023-10-10T13:08:32.722Z"
   },
   {
    "duration": 3,
    "start_time": "2023-10-10T13:10:51.654Z"
   },
   {
    "duration": 114,
    "start_time": "2023-10-10T13:10:51.660Z"
   },
   {
    "duration": 47,
    "start_time": "2023-10-10T13:10:51.775Z"
   },
   {
    "duration": 59,
    "start_time": "2023-10-10T13:10:51.823Z"
   },
   {
    "duration": 83,
    "start_time": "2023-10-10T13:10:51.885Z"
   },
   {
    "duration": 61,
    "start_time": "2023-10-10T13:10:51.971Z"
   },
   {
    "duration": 99,
    "start_time": "2023-10-10T13:10:52.035Z"
   },
   {
    "duration": 97,
    "start_time": "2023-10-10T13:10:52.136Z"
   },
   {
    "duration": 86,
    "start_time": "2023-10-10T13:10:52.234Z"
   },
   {
    "duration": 59,
    "start_time": "2023-10-10T13:10:52.322Z"
   },
   {
    "duration": 209,
    "start_time": "2023-10-10T13:10:52.383Z"
   },
   {
    "duration": 132,
    "start_time": "2023-10-10T13:10:52.594Z"
   },
   {
    "duration": 375,
    "start_time": "2023-10-10T13:10:52.729Z"
   },
   {
    "duration": 131,
    "start_time": "2023-10-10T13:10:53.107Z"
   },
   {
    "duration": 2085,
    "start_time": "2023-10-10T13:10:53.243Z"
   },
   {
    "duration": 153,
    "start_time": "2023-10-10T13:10:55.330Z"
   },
   {
    "duration": 1904,
    "start_time": "2023-10-10T13:10:55.484Z"
   },
   {
    "duration": 153,
    "start_time": "2023-10-10T13:10:57.391Z"
   },
   {
    "duration": 9,
    "start_time": "2023-10-10T13:10:57.547Z"
   },
   {
    "duration": 40,
    "start_time": "2023-10-10T13:10:57.559Z"
   },
   {
    "duration": 17,
    "start_time": "2023-10-10T13:10:57.601Z"
   },
   {
    "duration": 105,
    "start_time": "2023-10-10T13:10:57.621Z"
   },
   {
    "duration": 113,
    "start_time": "2023-10-10T13:10:57.728Z"
   },
   {
    "duration": 44,
    "start_time": "2023-10-10T13:10:57.843Z"
   },
   {
    "duration": 15,
    "start_time": "2023-10-10T13:10:57.889Z"
   },
   {
    "duration": 668,
    "start_time": "2023-10-10T13:10:57.906Z"
   },
   {
    "duration": 758,
    "start_time": "2023-10-10T13:10:58.576Z"
   },
   {
    "duration": 36,
    "start_time": "2023-10-10T13:10:59.337Z"
   },
   {
    "duration": 50,
    "start_time": "2023-10-10T13:10:59.374Z"
   },
   {
    "duration": 38,
    "start_time": "2023-10-10T13:10:59.425Z"
   },
   {
    "duration": 112,
    "start_time": "2023-10-10T13:10:59.465Z"
   },
   {
    "duration": 17,
    "start_time": "2023-10-10T13:10:59.578Z"
   },
   {
    "duration": 55,
    "start_time": "2023-10-10T13:10:59.597Z"
   },
   {
    "duration": 102,
    "start_time": "2023-10-10T13:10:59.653Z"
   },
   {
    "duration": 1147,
    "start_time": "2023-10-10T13:10:59.757Z"
   },
   {
    "duration": 171,
    "start_time": "2023-10-10T13:11:00.905Z"
   },
   {
    "duration": 245,
    "start_time": "2023-10-10T13:11:40.563Z"
   },
   {
    "duration": 82,
    "start_time": "2023-10-10T13:12:46.060Z"
   },
   {
    "duration": 80,
    "start_time": "2023-10-10T13:13:39.211Z"
   },
   {
    "duration": 1188,
    "start_time": "2023-10-10T13:18:03.382Z"
   },
   {
    "duration": 78,
    "start_time": "2023-10-10T13:18:04.573Z"
   },
   {
    "duration": 90,
    "start_time": "2023-10-10T13:18:04.654Z"
   },
   {
    "duration": 17,
    "start_time": "2023-10-10T13:18:04.747Z"
   },
   {
    "duration": 29,
    "start_time": "2023-10-10T13:18:04.766Z"
   },
   {
    "duration": 29,
    "start_time": "2023-10-10T13:18:04.796Z"
   },
   {
    "duration": 26,
    "start_time": "2023-10-10T13:18:04.827Z"
   },
   {
    "duration": 13,
    "start_time": "2023-10-10T13:18:04.856Z"
   },
   {
    "duration": 40,
    "start_time": "2023-10-10T13:18:04.871Z"
   },
   {
    "duration": 22,
    "start_time": "2023-10-10T13:18:04.914Z"
   },
   {
    "duration": 216,
    "start_time": "2023-10-10T13:18:04.938Z"
   },
   {
    "duration": 111,
    "start_time": "2023-10-10T13:18:05.156Z"
   },
   {
    "duration": 351,
    "start_time": "2023-10-10T13:18:05.269Z"
   },
   {
    "duration": 147,
    "start_time": "2023-10-10T13:18:05.622Z"
   },
   {
    "duration": 2000,
    "start_time": "2023-10-10T13:18:05.772Z"
   },
   {
    "duration": 144,
    "start_time": "2023-10-10T13:18:07.774Z"
   },
   {
    "duration": 2021,
    "start_time": "2023-10-10T13:18:07.920Z"
   },
   {
    "duration": 145,
    "start_time": "2023-10-10T13:18:09.943Z"
   },
   {
    "duration": 9,
    "start_time": "2023-10-10T13:18:10.090Z"
   },
   {
    "duration": 68,
    "start_time": "2023-10-10T13:18:10.100Z"
   },
   {
    "duration": 20,
    "start_time": "2023-10-10T13:18:10.170Z"
   },
   {
    "duration": 39,
    "start_time": "2023-10-10T13:18:10.192Z"
   },
   {
    "duration": 48,
    "start_time": "2023-10-10T13:18:10.233Z"
   },
   {
    "duration": 38,
    "start_time": "2023-10-10T13:18:10.283Z"
   },
   {
    "duration": 54,
    "start_time": "2023-10-10T13:18:10.323Z"
   },
   {
    "duration": 548,
    "start_time": "2023-10-10T13:18:10.380Z"
   },
   {
    "duration": 581,
    "start_time": "2023-10-10T13:18:10.931Z"
   },
   {
    "duration": 48,
    "start_time": "2023-10-10T13:18:11.517Z"
   },
   {
    "duration": 13,
    "start_time": "2023-10-10T13:18:11.567Z"
   },
   {
    "duration": 27,
    "start_time": "2023-10-10T13:18:11.582Z"
   },
   {
    "duration": 218,
    "start_time": "2023-10-10T13:18:11.611Z"
   },
   {
    "duration": 15,
    "start_time": "2023-10-10T13:18:11.831Z"
   },
   {
    "duration": 8,
    "start_time": "2023-10-10T13:18:11.848Z"
   },
   {
    "duration": 20,
    "start_time": "2023-10-10T13:18:11.858Z"
   },
   {
    "duration": 1069,
    "start_time": "2023-10-10T13:18:11.879Z"
   },
   {
    "duration": 205,
    "start_time": "2023-10-10T13:18:12.950Z"
   },
   {
    "duration": 1144,
    "start_time": "2023-10-10T17:07:56.159Z"
   },
   {
    "duration": 193,
    "start_time": "2023-10-10T17:07:57.305Z"
   },
   {
    "duration": 53,
    "start_time": "2023-10-10T17:07:57.500Z"
   },
   {
    "duration": 16,
    "start_time": "2023-10-10T17:07:57.554Z"
   },
   {
    "duration": 36,
    "start_time": "2023-10-10T17:07:57.572Z"
   },
   {
    "duration": 12,
    "start_time": "2023-10-10T17:07:57.610Z"
   },
   {
    "duration": 19,
    "start_time": "2023-10-10T17:07:57.623Z"
   },
   {
    "duration": 14,
    "start_time": "2023-10-10T17:07:57.645Z"
   },
   {
    "duration": 31,
    "start_time": "2023-10-10T17:07:57.661Z"
   },
   {
    "duration": 17,
    "start_time": "2023-10-10T17:07:57.695Z"
   },
   {
    "duration": 207,
    "start_time": "2023-10-10T17:07:57.714Z"
   },
   {
    "duration": 105,
    "start_time": "2023-10-10T17:07:57.923Z"
   },
   {
    "duration": 304,
    "start_time": "2023-10-10T17:07:58.029Z"
   },
   {
    "duration": 130,
    "start_time": "2023-10-10T17:07:58.336Z"
   },
   {
    "duration": 1861,
    "start_time": "2023-10-10T17:07:58.467Z"
   },
   {
    "duration": 155,
    "start_time": "2023-10-10T17:08:00.330Z"
   },
   {
    "duration": 2045,
    "start_time": "2023-10-10T17:08:00.487Z"
   },
   {
    "duration": 167,
    "start_time": "2023-10-10T17:08:02.534Z"
   },
   {
    "duration": 10,
    "start_time": "2023-10-10T17:08:02.703Z"
   },
   {
    "duration": 32,
    "start_time": "2023-10-10T17:08:02.715Z"
   },
   {
    "duration": 17,
    "start_time": "2023-10-10T17:08:02.749Z"
   },
   {
    "duration": 27,
    "start_time": "2023-10-10T17:08:02.768Z"
   },
   {
    "duration": 23,
    "start_time": "2023-10-10T17:08:02.802Z"
   },
   {
    "duration": 22,
    "start_time": "2023-10-10T17:08:02.827Z"
   },
   {
    "duration": 22,
    "start_time": "2023-10-10T17:08:02.851Z"
   },
   {
    "duration": 613,
    "start_time": "2023-10-10T17:08:02.875Z"
   },
   {
    "duration": 590,
    "start_time": "2023-10-10T17:08:03.490Z"
   },
   {
    "duration": 42,
    "start_time": "2023-10-10T17:08:04.081Z"
   },
   {
    "duration": 50,
    "start_time": "2023-10-10T17:08:04.125Z"
   },
   {
    "duration": 29,
    "start_time": "2023-10-10T17:08:04.178Z"
   },
   {
    "duration": 226,
    "start_time": "2023-10-10T17:08:04.209Z"
   },
   {
    "duration": 13,
    "start_time": "2023-10-10T17:08:04.436Z"
   },
   {
    "duration": 18,
    "start_time": "2023-10-10T17:08:04.451Z"
   },
   {
    "duration": 32,
    "start_time": "2023-10-10T17:08:04.471Z"
   },
   {
    "duration": 1112,
    "start_time": "2023-10-10T17:08:04.505Z"
   },
   {
    "duration": 155,
    "start_time": "2023-10-10T17:08:05.618Z"
   },
   {
    "duration": 1451,
    "start_time": "2023-10-11T08:17:53.228Z"
   },
   {
    "duration": 390,
    "start_time": "2023-10-11T08:17:54.682Z"
   },
   {
    "duration": 69,
    "start_time": "2023-10-11T08:17:55.075Z"
   },
   {
    "duration": 34,
    "start_time": "2023-10-11T08:17:55.146Z"
   },
   {
    "duration": 6,
    "start_time": "2023-10-11T08:17:55.182Z"
   },
   {
    "duration": 16,
    "start_time": "2023-10-11T08:17:55.189Z"
   },
   {
    "duration": 18,
    "start_time": "2023-10-11T08:17:55.207Z"
   },
   {
    "duration": 15,
    "start_time": "2023-10-11T08:17:55.226Z"
   },
   {
    "duration": 33,
    "start_time": "2023-10-11T08:17:55.243Z"
   },
   {
    "duration": 13,
    "start_time": "2023-10-11T08:17:55.282Z"
   },
   {
    "duration": 218,
    "start_time": "2023-10-11T08:17:55.297Z"
   },
   {
    "duration": 129,
    "start_time": "2023-10-11T08:17:55.518Z"
   },
   {
    "duration": 326,
    "start_time": "2023-10-11T08:17:55.658Z"
   },
   {
    "duration": 144,
    "start_time": "2023-10-11T08:17:55.986Z"
   },
   {
    "duration": 2044,
    "start_time": "2023-10-11T08:17:56.131Z"
   },
   {
    "duration": 162,
    "start_time": "2023-10-11T08:17:58.177Z"
   },
   {
    "duration": 2235,
    "start_time": "2023-10-11T08:17:58.341Z"
   },
   {
    "duration": 168,
    "start_time": "2023-10-11T08:18:00.579Z"
   },
   {
    "duration": 14,
    "start_time": "2023-10-11T08:18:00.756Z"
   },
   {
    "duration": 82,
    "start_time": "2023-10-11T08:18:00.772Z"
   },
   {
    "duration": 65,
    "start_time": "2023-10-11T08:18:00.856Z"
   },
   {
    "duration": 50,
    "start_time": "2023-10-11T08:18:00.923Z"
   },
   {
    "duration": 65,
    "start_time": "2023-10-11T08:18:00.976Z"
   },
   {
    "duration": 72,
    "start_time": "2023-10-11T08:18:01.043Z"
   },
   {
    "duration": 41,
    "start_time": "2023-10-11T08:18:01.117Z"
   },
   {
    "duration": 622,
    "start_time": "2023-10-11T08:18:01.160Z"
   },
   {
    "duration": 632,
    "start_time": "2023-10-11T08:18:01.784Z"
   },
   {
    "duration": 49,
    "start_time": "2023-10-11T08:18:02.420Z"
   },
   {
    "duration": 110,
    "start_time": "2023-10-11T08:18:02.471Z"
   },
   {
    "duration": 40,
    "start_time": "2023-10-11T08:18:02.582Z"
   },
   {
    "duration": 384,
    "start_time": "2023-10-11T08:18:02.624Z"
   },
   {
    "duration": 14,
    "start_time": "2023-10-11T08:18:03.010Z"
   },
   {
    "duration": 102,
    "start_time": "2023-10-11T08:18:03.026Z"
   },
   {
    "duration": 53,
    "start_time": "2023-10-11T08:18:03.130Z"
   },
   {
    "duration": 1160,
    "start_time": "2023-10-11T08:18:03.186Z"
   },
   {
    "duration": 170,
    "start_time": "2023-10-11T08:18:04.355Z"
   },
   {
    "duration": 32,
    "start_time": "2023-10-11T08:18:27.414Z"
   },
   {
    "duration": 21,
    "start_time": "2023-10-11T08:18:42.929Z"
   },
   {
    "duration": 111,
    "start_time": "2023-10-11T08:19:35.215Z"
   },
   {
    "duration": 22,
    "start_time": "2023-10-11T08:19:41.210Z"
   },
   {
    "duration": 33,
    "start_time": "2023-10-11T08:20:59.408Z"
   },
   {
    "duration": 3,
    "start_time": "2023-10-11T08:21:51.209Z"
   },
   {
    "duration": 101,
    "start_time": "2023-10-11T08:21:51.215Z"
   },
   {
    "duration": 54,
    "start_time": "2023-10-11T08:21:51.319Z"
   },
   {
    "duration": 16,
    "start_time": "2023-10-11T08:21:51.375Z"
   },
   {
    "duration": 104,
    "start_time": "2023-10-11T08:21:51.393Z"
   },
   {
    "duration": 146,
    "start_time": "2023-10-11T08:21:51.499Z"
   },
   {
    "duration": 26,
    "start_time": "2023-10-11T08:21:51.646Z"
   },
   {
    "duration": 18,
    "start_time": "2023-10-11T08:21:51.674Z"
   },
   {
    "duration": 51,
    "start_time": "2023-10-11T08:21:51.694Z"
   },
   {
    "duration": 32,
    "start_time": "2023-10-11T08:21:51.747Z"
   },
   {
    "duration": 211,
    "start_time": "2023-10-11T08:21:51.782Z"
   },
   {
    "duration": 134,
    "start_time": "2023-10-11T08:21:51.996Z"
   },
   {
    "duration": 328,
    "start_time": "2023-10-11T08:21:52.132Z"
   },
   {
    "duration": 158,
    "start_time": "2023-10-11T08:21:52.462Z"
   },
   {
    "duration": 2177,
    "start_time": "2023-10-11T08:21:52.623Z"
   },
   {
    "duration": 176,
    "start_time": "2023-10-11T08:21:54.803Z"
   },
   {
    "duration": 2103,
    "start_time": "2023-10-11T08:21:54.981Z"
   },
   {
    "duration": 156,
    "start_time": "2023-10-11T08:21:57.086Z"
   },
   {
    "duration": 31,
    "start_time": "2023-10-11T08:21:57.244Z"
   },
   {
    "duration": 17,
    "start_time": "2023-10-11T08:21:57.276Z"
   },
   {
    "duration": 27,
    "start_time": "2023-10-11T08:21:57.295Z"
   },
   {
    "duration": 20,
    "start_time": "2023-10-11T08:21:57.324Z"
   },
   {
    "duration": 27,
    "start_time": "2023-10-11T08:21:57.346Z"
   },
   {
    "duration": 20,
    "start_time": "2023-10-11T08:21:57.376Z"
   },
   {
    "duration": 23,
    "start_time": "2023-10-11T08:21:57.399Z"
   },
   {
    "duration": 718,
    "start_time": "2023-10-11T08:21:57.425Z"
   },
   {
    "duration": 873,
    "start_time": "2023-10-11T08:21:58.145Z"
   },
   {
    "duration": 22,
    "start_time": "2023-10-11T08:22:06.827Z"
   },
   {
    "duration": 23,
    "start_time": "2023-10-11T08:22:24.570Z"
   },
   {
    "duration": 1364,
    "start_time": "2023-10-11T08:23:14.240Z"
   },
   {
    "duration": 82,
    "start_time": "2023-10-11T08:23:15.606Z"
   },
   {
    "duration": 81,
    "start_time": "2023-10-11T08:23:15.691Z"
   },
   {
    "duration": 26,
    "start_time": "2023-10-11T08:23:15.776Z"
   },
   {
    "duration": 7,
    "start_time": "2023-10-11T08:23:15.804Z"
   },
   {
    "duration": 21,
    "start_time": "2023-10-11T08:23:15.812Z"
   },
   {
    "duration": 38,
    "start_time": "2023-10-11T08:23:15.834Z"
   },
   {
    "duration": 13,
    "start_time": "2023-10-11T08:23:15.875Z"
   },
   {
    "duration": 27,
    "start_time": "2023-10-11T08:23:15.890Z"
   },
   {
    "duration": 24,
    "start_time": "2023-10-11T08:23:15.920Z"
   },
   {
    "duration": 240,
    "start_time": "2023-10-11T08:23:15.946Z"
   },
   {
    "duration": 122,
    "start_time": "2023-10-11T08:23:16.188Z"
   },
   {
    "duration": 362,
    "start_time": "2023-10-11T08:23:16.313Z"
   },
   {
    "duration": 139,
    "start_time": "2023-10-11T08:23:16.677Z"
   },
   {
    "duration": 2213,
    "start_time": "2023-10-11T08:23:16.818Z"
   },
   {
    "duration": 250,
    "start_time": "2023-10-11T08:23:19.034Z"
   },
   {
    "duration": 2175,
    "start_time": "2023-10-11T08:23:19.286Z"
   },
   {
    "duration": 155,
    "start_time": "2023-10-11T08:23:21.463Z"
   },
   {
    "duration": 10,
    "start_time": "2023-10-11T08:23:21.620Z"
   },
   {
    "duration": 85,
    "start_time": "2023-10-11T08:23:21.633Z"
   },
   {
    "duration": 19,
    "start_time": "2023-10-11T08:23:21.721Z"
   },
   {
    "duration": 36,
    "start_time": "2023-10-11T08:23:21.742Z"
   },
   {
    "duration": 24,
    "start_time": "2023-10-11T08:23:21.780Z"
   },
   {
    "duration": 15,
    "start_time": "2023-10-11T08:25:02.736Z"
   },
   {
    "duration": 7,
    "start_time": "2023-10-11T08:25:44.660Z"
   },
   {
    "duration": 14,
    "start_time": "2023-10-11T08:25:54.831Z"
   },
   {
    "duration": 98,
    "start_time": "2023-10-11T08:26:12.119Z"
   },
   {
    "duration": 6,
    "start_time": "2023-10-11T08:28:12.569Z"
   },
   {
    "duration": 40,
    "start_time": "2023-10-11T08:28:17.191Z"
   },
   {
    "duration": 13,
    "start_time": "2023-10-11T08:28:22.005Z"
   },
   {
    "duration": 1288,
    "start_time": "2023-10-11T08:28:42.457Z"
   },
   {
    "duration": 75,
    "start_time": "2023-10-11T08:28:43.748Z"
   },
   {
    "duration": 52,
    "start_time": "2023-10-11T08:28:43.825Z"
   },
   {
    "duration": 16,
    "start_time": "2023-10-11T08:28:43.879Z"
   },
   {
    "duration": 7,
    "start_time": "2023-10-11T08:28:43.897Z"
   },
   {
    "duration": 9,
    "start_time": "2023-10-11T08:28:43.906Z"
   },
   {
    "duration": 42,
    "start_time": "2023-10-11T08:28:43.917Z"
   },
   {
    "duration": 16,
    "start_time": "2023-10-11T08:28:43.962Z"
   },
   {
    "duration": 18,
    "start_time": "2023-10-11T08:28:43.980Z"
   },
   {
    "duration": 14,
    "start_time": "2023-10-11T08:28:44.000Z"
   },
   {
    "duration": 255,
    "start_time": "2023-10-11T08:28:44.016Z"
   },
   {
    "duration": 113,
    "start_time": "2023-10-11T08:28:44.273Z"
   },
   {
    "duration": 310,
    "start_time": "2023-10-11T08:28:44.388Z"
   },
   {
    "duration": 149,
    "start_time": "2023-10-11T08:28:44.700Z"
   },
   {
    "duration": 1926,
    "start_time": "2023-10-11T08:28:44.851Z"
   },
   {
    "duration": 158,
    "start_time": "2023-10-11T08:28:46.779Z"
   },
   {
    "duration": 2119,
    "start_time": "2023-10-11T08:28:46.940Z"
   },
   {
    "duration": 171,
    "start_time": "2023-10-11T08:28:49.061Z"
   },
   {
    "duration": 10,
    "start_time": "2023-10-11T08:28:49.234Z"
   },
   {
    "duration": 32,
    "start_time": "2023-10-11T08:28:49.257Z"
   },
   {
    "duration": 41,
    "start_time": "2023-10-11T08:28:49.292Z"
   },
   {
    "duration": 29,
    "start_time": "2023-10-11T08:28:49.335Z"
   },
   {
    "duration": 24,
    "start_time": "2023-10-11T08:28:49.366Z"
   },
   {
    "duration": 25,
    "start_time": "2023-10-11T08:28:49.392Z"
   },
   {
    "duration": 17,
    "start_time": "2023-10-11T08:28:49.419Z"
   },
   {
    "duration": 612,
    "start_time": "2023-10-11T08:28:49.437Z"
   },
   {
    "duration": 592,
    "start_time": "2023-10-11T08:28:50.051Z"
   },
   {
    "duration": 5,
    "start_time": "2023-10-11T08:28:50.656Z"
   },
   {
    "duration": 45,
    "start_time": "2023-10-11T08:28:55.624Z"
   },
   {
    "duration": 15,
    "start_time": "2023-10-11T08:28:58.428Z"
   },
   {
    "duration": 1271,
    "start_time": "2023-10-11T08:29:53.297Z"
   },
   {
    "duration": 74,
    "start_time": "2023-10-11T08:29:54.570Z"
   },
   {
    "duration": 54,
    "start_time": "2023-10-11T08:29:54.646Z"
   },
   {
    "duration": 17,
    "start_time": "2023-10-11T08:29:54.703Z"
   },
   {
    "duration": 40,
    "start_time": "2023-10-11T08:29:54.723Z"
   },
   {
    "duration": 17,
    "start_time": "2023-10-11T08:29:54.765Z"
   },
   {
    "duration": 35,
    "start_time": "2023-10-11T08:29:54.784Z"
   },
   {
    "duration": 23,
    "start_time": "2023-10-11T08:29:54.822Z"
   },
   {
    "duration": 59,
    "start_time": "2023-10-11T08:29:54.847Z"
   },
   {
    "duration": 24,
    "start_time": "2023-10-11T08:29:54.910Z"
   },
   {
    "duration": 294,
    "start_time": "2023-10-11T08:29:54.937Z"
   },
   {
    "duration": 126,
    "start_time": "2023-10-11T08:29:55.233Z"
   },
   {
    "duration": 341,
    "start_time": "2023-10-11T08:29:55.361Z"
   },
   {
    "duration": 129,
    "start_time": "2023-10-11T08:29:55.704Z"
   },
   {
    "duration": 2004,
    "start_time": "2023-10-11T08:29:55.835Z"
   },
   {
    "duration": 181,
    "start_time": "2023-10-11T08:29:57.841Z"
   },
   {
    "duration": 2238,
    "start_time": "2023-10-11T08:29:58.024Z"
   },
   {
    "duration": 161,
    "start_time": "2023-10-11T08:30:00.264Z"
   },
   {
    "duration": 12,
    "start_time": "2023-10-11T08:30:00.427Z"
   },
   {
    "duration": 52,
    "start_time": "2023-10-11T08:30:00.458Z"
   },
   {
    "duration": 24,
    "start_time": "2023-10-11T08:30:00.513Z"
   },
   {
    "duration": 82,
    "start_time": "2023-10-11T08:30:00.539Z"
   },
   {
    "duration": 108,
    "start_time": "2023-10-11T08:30:00.623Z"
   },
   {
    "duration": 60,
    "start_time": "2023-10-11T08:30:00.733Z"
   },
   {
    "duration": 41,
    "start_time": "2023-10-11T08:30:00.795Z"
   },
   {
    "duration": 688,
    "start_time": "2023-10-11T08:30:00.839Z"
   },
   {
    "duration": 632,
    "start_time": "2023-10-11T08:30:01.529Z"
   },
   {
    "duration": 7,
    "start_time": "2023-10-11T08:30:02.166Z"
   },
   {
    "duration": 115,
    "start_time": "2023-10-11T08:30:02.175Z"
   },
   {
    "duration": 33,
    "start_time": "2023-10-11T08:30:02.293Z"
   },
   {
    "duration": 33,
    "start_time": "2023-10-11T08:30:02.328Z"
   },
   {
    "duration": 374,
    "start_time": "2023-10-11T08:30:02.363Z"
   },
   {
    "duration": 25,
    "start_time": "2023-10-11T08:30:02.739Z"
   },
   {
    "duration": 87,
    "start_time": "2023-10-11T08:30:02.766Z"
   },
   {
    "duration": 159,
    "start_time": "2023-10-11T08:30:02.856Z"
   },
   {
    "duration": 1144,
    "start_time": "2023-10-11T08:30:03.018Z"
   },
   {
    "duration": 178,
    "start_time": "2023-10-11T08:30:04.164Z"
   }
  ],
  "kernelspec": {
   "display_name": "Python 3 (ipykernel)",
   "language": "python",
   "name": "python3"
  },
  "language_info": {
   "codemirror_mode": {
    "name": "ipython",
    "version": 3
   },
   "file_extension": ".py",
   "mimetype": "text/x-python",
   "name": "python",
   "nbconvert_exporter": "python",
   "pygments_lexer": "ipython3",
   "version": "3.9.5"
  },
  "toc": {
   "base_numbering": 1,
   "nav_menu": {},
   "number_sections": true,
   "sideBar": true,
   "skip_h1_title": true,
   "title_cell": "Содержание",
   "title_sidebar": "Contents",
   "toc_cell": true,
   "toc_position": {
    "height": "calc(100% - 180px)",
    "left": "10px",
    "top": "150px",
    "width": "358px"
   },
   "toc_section_display": true,
   "toc_window_display": false
  }
 },
 "nbformat": 4,
 "nbformat_minor": 5
}
