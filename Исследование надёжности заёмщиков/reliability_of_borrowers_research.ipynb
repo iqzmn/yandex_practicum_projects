{
 "cells": [
  {
   "cell_type": "markdown",
   "id": "4f11de00",
   "metadata": {
    "deletable": false,
    "editable": false,
    "id": "4f11de00"
   },
   "source": [
    "# Исследование надежности заемщиков"
   ]
  },
  {
   "cell_type": "markdown",
   "id": "516620ee",
   "metadata": {
    "deletable": false,
    "editable": false,
    "id": "516620ee"
   },
   "source": [
    "## Ⅰ. Изучим общую информацию о данных."
   ]
  },
  {
   "cell_type": "code",
   "execution_count": 1,
   "id": "fab207d0",
   "metadata": {
    "id": "fab207d0"
   },
   "outputs": [],
   "source": [
    "# импортируем библиотеку pandas и прочитаем csv-файл\n",
    "import pandas as pd\n",
    "\n",
    "try:\n",
    "    data = pd.read_csv('/datasets/data.csv')\n",
    "except:\n",
    "    print('Ошибка чтения данных')"
   ]
  },
  {
   "cell_type": "code",
   "execution_count": 2,
   "id": "4ff33b36",
   "metadata": {
    "id": "4ff33b36"
   },
   "outputs": [
    {
     "data": {
      "text/html": [
       "<div>\n",
       "<style scoped>\n",
       "    .dataframe tbody tr th:only-of-type {\n",
       "        vertical-align: middle;\n",
       "    }\n",
       "\n",
       "    .dataframe tbody tr th {\n",
       "        vertical-align: top;\n",
       "    }\n",
       "\n",
       "    .dataframe thead th {\n",
       "        text-align: right;\n",
       "    }\n",
       "</style>\n",
       "<table border=\"1\" class=\"dataframe\">\n",
       "  <thead>\n",
       "    <tr style=\"text-align: right;\">\n",
       "      <th></th>\n",
       "      <th>children</th>\n",
       "      <th>days_employed</th>\n",
       "      <th>dob_years</th>\n",
       "      <th>education</th>\n",
       "      <th>education_id</th>\n",
       "      <th>family_status</th>\n",
       "      <th>family_status_id</th>\n",
       "      <th>gender</th>\n",
       "      <th>income_type</th>\n",
       "      <th>debt</th>\n",
       "      <th>total_income</th>\n",
       "      <th>purpose</th>\n",
       "    </tr>\n",
       "  </thead>\n",
       "  <tbody>\n",
       "    <tr>\n",
       "      <th>0</th>\n",
       "      <td>1</td>\n",
       "      <td>-8437.673028</td>\n",
       "      <td>42</td>\n",
       "      <td>высшее</td>\n",
       "      <td>0</td>\n",
       "      <td>женат / замужем</td>\n",
       "      <td>0</td>\n",
       "      <td>F</td>\n",
       "      <td>сотрудник</td>\n",
       "      <td>0</td>\n",
       "      <td>253875.639453</td>\n",
       "      <td>покупка жилья</td>\n",
       "    </tr>\n",
       "    <tr>\n",
       "      <th>1</th>\n",
       "      <td>1</td>\n",
       "      <td>-4024.803754</td>\n",
       "      <td>36</td>\n",
       "      <td>среднее</td>\n",
       "      <td>1</td>\n",
       "      <td>женат / замужем</td>\n",
       "      <td>0</td>\n",
       "      <td>F</td>\n",
       "      <td>сотрудник</td>\n",
       "      <td>0</td>\n",
       "      <td>112080.014102</td>\n",
       "      <td>приобретение автомобиля</td>\n",
       "    </tr>\n",
       "    <tr>\n",
       "      <th>2</th>\n",
       "      <td>0</td>\n",
       "      <td>-5623.422610</td>\n",
       "      <td>33</td>\n",
       "      <td>Среднее</td>\n",
       "      <td>1</td>\n",
       "      <td>женат / замужем</td>\n",
       "      <td>0</td>\n",
       "      <td>M</td>\n",
       "      <td>сотрудник</td>\n",
       "      <td>0</td>\n",
       "      <td>145885.952297</td>\n",
       "      <td>покупка жилья</td>\n",
       "    </tr>\n",
       "    <tr>\n",
       "      <th>3</th>\n",
       "      <td>3</td>\n",
       "      <td>-4124.747207</td>\n",
       "      <td>32</td>\n",
       "      <td>среднее</td>\n",
       "      <td>1</td>\n",
       "      <td>женат / замужем</td>\n",
       "      <td>0</td>\n",
       "      <td>M</td>\n",
       "      <td>сотрудник</td>\n",
       "      <td>0</td>\n",
       "      <td>267628.550329</td>\n",
       "      <td>дополнительное образование</td>\n",
       "    </tr>\n",
       "    <tr>\n",
       "      <th>4</th>\n",
       "      <td>0</td>\n",
       "      <td>340266.072047</td>\n",
       "      <td>53</td>\n",
       "      <td>среднее</td>\n",
       "      <td>1</td>\n",
       "      <td>гражданский брак</td>\n",
       "      <td>1</td>\n",
       "      <td>F</td>\n",
       "      <td>пенсионер</td>\n",
       "      <td>0</td>\n",
       "      <td>158616.077870</td>\n",
       "      <td>сыграть свадьбу</td>\n",
       "    </tr>\n",
       "    <tr>\n",
       "      <th>5</th>\n",
       "      <td>0</td>\n",
       "      <td>-926.185831</td>\n",
       "      <td>27</td>\n",
       "      <td>высшее</td>\n",
       "      <td>0</td>\n",
       "      <td>гражданский брак</td>\n",
       "      <td>1</td>\n",
       "      <td>M</td>\n",
       "      <td>компаньон</td>\n",
       "      <td>0</td>\n",
       "      <td>255763.565419</td>\n",
       "      <td>покупка жилья</td>\n",
       "    </tr>\n",
       "    <tr>\n",
       "      <th>6</th>\n",
       "      <td>0</td>\n",
       "      <td>-2879.202052</td>\n",
       "      <td>43</td>\n",
       "      <td>высшее</td>\n",
       "      <td>0</td>\n",
       "      <td>женат / замужем</td>\n",
       "      <td>0</td>\n",
       "      <td>F</td>\n",
       "      <td>компаньон</td>\n",
       "      <td>0</td>\n",
       "      <td>240525.971920</td>\n",
       "      <td>операции с жильем</td>\n",
       "    </tr>\n",
       "    <tr>\n",
       "      <th>7</th>\n",
       "      <td>0</td>\n",
       "      <td>-152.779569</td>\n",
       "      <td>50</td>\n",
       "      <td>СРЕДНЕЕ</td>\n",
       "      <td>1</td>\n",
       "      <td>женат / замужем</td>\n",
       "      <td>0</td>\n",
       "      <td>M</td>\n",
       "      <td>сотрудник</td>\n",
       "      <td>0</td>\n",
       "      <td>135823.934197</td>\n",
       "      <td>образование</td>\n",
       "    </tr>\n",
       "    <tr>\n",
       "      <th>8</th>\n",
       "      <td>2</td>\n",
       "      <td>-6929.865299</td>\n",
       "      <td>35</td>\n",
       "      <td>ВЫСШЕЕ</td>\n",
       "      <td>0</td>\n",
       "      <td>гражданский брак</td>\n",
       "      <td>1</td>\n",
       "      <td>F</td>\n",
       "      <td>сотрудник</td>\n",
       "      <td>0</td>\n",
       "      <td>95856.832424</td>\n",
       "      <td>на проведение свадьбы</td>\n",
       "    </tr>\n",
       "    <tr>\n",
       "      <th>9</th>\n",
       "      <td>0</td>\n",
       "      <td>-2188.756445</td>\n",
       "      <td>41</td>\n",
       "      <td>среднее</td>\n",
       "      <td>1</td>\n",
       "      <td>женат / замужем</td>\n",
       "      <td>0</td>\n",
       "      <td>M</td>\n",
       "      <td>сотрудник</td>\n",
       "      <td>0</td>\n",
       "      <td>144425.938277</td>\n",
       "      <td>покупка жилья для семьи</td>\n",
       "    </tr>\n",
       "    <tr>\n",
       "      <th>10</th>\n",
       "      <td>2</td>\n",
       "      <td>-4171.483647</td>\n",
       "      <td>36</td>\n",
       "      <td>высшее</td>\n",
       "      <td>0</td>\n",
       "      <td>женат / замужем</td>\n",
       "      <td>0</td>\n",
       "      <td>M</td>\n",
       "      <td>компаньон</td>\n",
       "      <td>0</td>\n",
       "      <td>113943.491460</td>\n",
       "      <td>покупка недвижимости</td>\n",
       "    </tr>\n",
       "    <tr>\n",
       "      <th>11</th>\n",
       "      <td>0</td>\n",
       "      <td>-792.701887</td>\n",
       "      <td>40</td>\n",
       "      <td>среднее</td>\n",
       "      <td>1</td>\n",
       "      <td>женат / замужем</td>\n",
       "      <td>0</td>\n",
       "      <td>F</td>\n",
       "      <td>сотрудник</td>\n",
       "      <td>0</td>\n",
       "      <td>77069.234271</td>\n",
       "      <td>покупка коммерческой недвижимости</td>\n",
       "    </tr>\n",
       "    <tr>\n",
       "      <th>12</th>\n",
       "      <td>0</td>\n",
       "      <td>NaN</td>\n",
       "      <td>65</td>\n",
       "      <td>среднее</td>\n",
       "      <td>1</td>\n",
       "      <td>гражданский брак</td>\n",
       "      <td>1</td>\n",
       "      <td>M</td>\n",
       "      <td>пенсионер</td>\n",
       "      <td>0</td>\n",
       "      <td>NaN</td>\n",
       "      <td>сыграть свадьбу</td>\n",
       "    </tr>\n",
       "    <tr>\n",
       "      <th>13</th>\n",
       "      <td>0</td>\n",
       "      <td>-1846.641941</td>\n",
       "      <td>54</td>\n",
       "      <td>неоконченное высшее</td>\n",
       "      <td>2</td>\n",
       "      <td>женат / замужем</td>\n",
       "      <td>0</td>\n",
       "      <td>F</td>\n",
       "      <td>сотрудник</td>\n",
       "      <td>0</td>\n",
       "      <td>130458.228857</td>\n",
       "      <td>приобретение автомобиля</td>\n",
       "    </tr>\n",
       "    <tr>\n",
       "      <th>14</th>\n",
       "      <td>0</td>\n",
       "      <td>-1844.956182</td>\n",
       "      <td>56</td>\n",
       "      <td>высшее</td>\n",
       "      <td>0</td>\n",
       "      <td>гражданский брак</td>\n",
       "      <td>1</td>\n",
       "      <td>F</td>\n",
       "      <td>компаньон</td>\n",
       "      <td>1</td>\n",
       "      <td>165127.911772</td>\n",
       "      <td>покупка жилой недвижимости</td>\n",
       "    </tr>\n",
       "    <tr>\n",
       "      <th>15</th>\n",
       "      <td>1</td>\n",
       "      <td>-972.364419</td>\n",
       "      <td>26</td>\n",
       "      <td>среднее</td>\n",
       "      <td>1</td>\n",
       "      <td>женат / замужем</td>\n",
       "      <td>0</td>\n",
       "      <td>F</td>\n",
       "      <td>сотрудник</td>\n",
       "      <td>0</td>\n",
       "      <td>116820.904450</td>\n",
       "      <td>строительство собственной недвижимости</td>\n",
       "    </tr>\n",
       "    <tr>\n",
       "      <th>16</th>\n",
       "      <td>0</td>\n",
       "      <td>-1719.934226</td>\n",
       "      <td>35</td>\n",
       "      <td>среднее</td>\n",
       "      <td>1</td>\n",
       "      <td>женат / замужем</td>\n",
       "      <td>0</td>\n",
       "      <td>F</td>\n",
       "      <td>сотрудник</td>\n",
       "      <td>0</td>\n",
       "      <td>289202.704229</td>\n",
       "      <td>недвижимость</td>\n",
       "    </tr>\n",
       "    <tr>\n",
       "      <th>17</th>\n",
       "      <td>0</td>\n",
       "      <td>-2369.999720</td>\n",
       "      <td>33</td>\n",
       "      <td>высшее</td>\n",
       "      <td>0</td>\n",
       "      <td>гражданский брак</td>\n",
       "      <td>1</td>\n",
       "      <td>M</td>\n",
       "      <td>сотрудник</td>\n",
       "      <td>0</td>\n",
       "      <td>90410.586745</td>\n",
       "      <td>строительство недвижимости</td>\n",
       "    </tr>\n",
       "    <tr>\n",
       "      <th>18</th>\n",
       "      <td>0</td>\n",
       "      <td>400281.136913</td>\n",
       "      <td>53</td>\n",
       "      <td>среднее</td>\n",
       "      <td>1</td>\n",
       "      <td>вдовец / вдова</td>\n",
       "      <td>2</td>\n",
       "      <td>F</td>\n",
       "      <td>пенсионер</td>\n",
       "      <td>0</td>\n",
       "      <td>56823.777243</td>\n",
       "      <td>на покупку подержанного автомобиля</td>\n",
       "    </tr>\n",
       "    <tr>\n",
       "      <th>19</th>\n",
       "      <td>0</td>\n",
       "      <td>-10038.818549</td>\n",
       "      <td>48</td>\n",
       "      <td>СРЕДНЕЕ</td>\n",
       "      <td>1</td>\n",
       "      <td>в разводе</td>\n",
       "      <td>3</td>\n",
       "      <td>F</td>\n",
       "      <td>сотрудник</td>\n",
       "      <td>0</td>\n",
       "      <td>242831.107982</td>\n",
       "      <td>на покупку своего автомобиля</td>\n",
       "    </tr>\n",
       "  </tbody>\n",
       "</table>\n",
       "</div>"
      ],
      "text/plain": [
       "    children  days_employed  dob_years            education  education_id  \\\n",
       "0          1   -8437.673028         42               высшее             0   \n",
       "1          1   -4024.803754         36              среднее             1   \n",
       "2          0   -5623.422610         33              Среднее             1   \n",
       "3          3   -4124.747207         32              среднее             1   \n",
       "4          0  340266.072047         53              среднее             1   \n",
       "5          0    -926.185831         27               высшее             0   \n",
       "6          0   -2879.202052         43               высшее             0   \n",
       "7          0    -152.779569         50              СРЕДНЕЕ             1   \n",
       "8          2   -6929.865299         35               ВЫСШЕЕ             0   \n",
       "9          0   -2188.756445         41              среднее             1   \n",
       "10         2   -4171.483647         36               высшее             0   \n",
       "11         0    -792.701887         40              среднее             1   \n",
       "12         0            NaN         65              среднее             1   \n",
       "13         0   -1846.641941         54  неоконченное высшее             2   \n",
       "14         0   -1844.956182         56               высшее             0   \n",
       "15         1    -972.364419         26              среднее             1   \n",
       "16         0   -1719.934226         35              среднее             1   \n",
       "17         0   -2369.999720         33               высшее             0   \n",
       "18         0  400281.136913         53              среднее             1   \n",
       "19         0  -10038.818549         48              СРЕДНЕЕ             1   \n",
       "\n",
       "       family_status  family_status_id gender income_type  debt  \\\n",
       "0    женат / замужем                 0      F   сотрудник     0   \n",
       "1    женат / замужем                 0      F   сотрудник     0   \n",
       "2    женат / замужем                 0      M   сотрудник     0   \n",
       "3    женат / замужем                 0      M   сотрудник     0   \n",
       "4   гражданский брак                 1      F   пенсионер     0   \n",
       "5   гражданский брак                 1      M   компаньон     0   \n",
       "6    женат / замужем                 0      F   компаньон     0   \n",
       "7    женат / замужем                 0      M   сотрудник     0   \n",
       "8   гражданский брак                 1      F   сотрудник     0   \n",
       "9    женат / замужем                 0      M   сотрудник     0   \n",
       "10   женат / замужем                 0      M   компаньон     0   \n",
       "11   женат / замужем                 0      F   сотрудник     0   \n",
       "12  гражданский брак                 1      M   пенсионер     0   \n",
       "13   женат / замужем                 0      F   сотрудник     0   \n",
       "14  гражданский брак                 1      F   компаньон     1   \n",
       "15   женат / замужем                 0      F   сотрудник     0   \n",
       "16   женат / замужем                 0      F   сотрудник     0   \n",
       "17  гражданский брак                 1      M   сотрудник     0   \n",
       "18    вдовец / вдова                 2      F   пенсионер     0   \n",
       "19         в разводе                 3      F   сотрудник     0   \n",
       "\n",
       "     total_income                                 purpose  \n",
       "0   253875.639453                           покупка жилья  \n",
       "1   112080.014102                 приобретение автомобиля  \n",
       "2   145885.952297                           покупка жилья  \n",
       "3   267628.550329              дополнительное образование  \n",
       "4   158616.077870                         сыграть свадьбу  \n",
       "5   255763.565419                           покупка жилья  \n",
       "6   240525.971920                       операции с жильем  \n",
       "7   135823.934197                             образование  \n",
       "8    95856.832424                   на проведение свадьбы  \n",
       "9   144425.938277                 покупка жилья для семьи  \n",
       "10  113943.491460                    покупка недвижимости  \n",
       "11   77069.234271       покупка коммерческой недвижимости  \n",
       "12            NaN                         сыграть свадьбу  \n",
       "13  130458.228857                 приобретение автомобиля  \n",
       "14  165127.911772              покупка жилой недвижимости  \n",
       "15  116820.904450  строительство собственной недвижимости  \n",
       "16  289202.704229                            недвижимость  \n",
       "17   90410.586745              строительство недвижимости  \n",
       "18   56823.777243      на покупку подержанного автомобиля  \n",
       "19  242831.107982            на покупку своего автомобиля  "
      ]
     },
     "execution_count": 2,
     "metadata": {},
     "output_type": "execute_result"
    }
   ],
   "source": [
    "#  выведем первые 20 строк датафрейма\n",
    "data.head(20)"
   ]
  },
  {
   "cell_type": "code",
   "execution_count": 3,
   "id": "e1ed9908",
   "metadata": {
    "id": "e1ed9908"
   },
   "outputs": [
    {
     "name": "stdout",
     "output_type": "stream",
     "text": [
      "<class 'pandas.core.frame.DataFrame'>\n",
      "RangeIndex: 21525 entries, 0 to 21524\n",
      "Data columns (total 12 columns):\n",
      " #   Column            Non-Null Count  Dtype  \n",
      "---  ------            --------------  -----  \n",
      " 0   children          21525 non-null  int64  \n",
      " 1   days_employed     19351 non-null  float64\n",
      " 2   dob_years         21525 non-null  int64  \n",
      " 3   education         21525 non-null  object \n",
      " 4   education_id      21525 non-null  int64  \n",
      " 5   family_status     21525 non-null  object \n",
      " 6   family_status_id  21525 non-null  int64  \n",
      " 7   gender            21525 non-null  object \n",
      " 8   income_type       21525 non-null  object \n",
      " 9   debt              21525 non-null  int64  \n",
      " 10  total_income      19351 non-null  float64\n",
      " 11  purpose           21525 non-null  object \n",
      "dtypes: float64(2), int64(5), object(5)\n",
      "memory usage: 2.0+ MB\n"
     ]
    }
   ],
   "source": [
    "# выведем основную информацию о датафрейме\n",
    "data.info()"
   ]
  },
  {
   "cell_type": "markdown",
   "id": "f969a1cd",
   "metadata": {
    "deletable": false,
    "editable": false,
    "id": "f969a1cd"
   },
   "source": [
    "## Ⅱ. Предобработка данных."
   ]
  },
  {
   "cell_type": "markdown",
   "id": "7283e864",
   "metadata": {
    "deletable": false,
    "editable": false,
    "id": "7283e864"
   },
   "source": [
    "### Удаление пропусков"
   ]
  },
  {
   "cell_type": "code",
   "execution_count": 4,
   "id": "b7a096e1",
   "metadata": {
    "id": "b7a096e1"
   },
   "outputs": [
    {
     "data": {
      "text/plain": [
       "children               0\n",
       "days_employed       2174\n",
       "dob_years              0\n",
       "education              0\n",
       "education_id           0\n",
       "family_status          0\n",
       "family_status_id       0\n",
       "gender                 0\n",
       "income_type            0\n",
       "debt                   0\n",
       "total_income        2174\n",
       "purpose                0\n",
       "dtype: int64"
      ]
     },
     "execution_count": 4,
     "metadata": {},
     "output_type": "execute_result"
    }
   ],
   "source": [
    "# выведем пропущенные значения для каждого стлбца\n",
    "data.isna().sum()"
   ]
  },
  {
   "cell_type": "markdown",
   "id": "c2578616",
   "metadata": {
    "deletable": false,
    "editable": false,
    "id": "c2578616",
    "tags": [
     "start_task"
    ]
   },
   "source": [
    "В двух столбцах есть пропущенные значения. Один из них — `days_employed`. Другой столбец с пропущенными значениями — `total_income` — хранит данные о доходах.   \n",
    "Сначала разберёмся с `total_income`. На сумму дохода сильнее всего влияет тип занятости, поэтому заполнить пропуски в этом столбце нужно медианным значением по каждому типу из столбца `income_type`."
   ]
  },
  {
   "cell_type": "code",
   "execution_count": 5,
   "id": "e8afc4bc",
   "metadata": {
    "id": "e8afc4bc",
    "scrolled": false
   },
   "outputs": [],
   "source": [
    "for job in data['income_type'].unique():\n",
    "    job_median = data.loc[data['income_type']==job]['total_income'].median()\n",
    "    data.loc[(data['income_type']==job)&(data['total_income'].isna()==True),'total_income'] = job_median"
   ]
  },
  {
   "cell_type": "markdown",
   "id": "ae986d46",
   "metadata": {
    "deletable": false,
    "editable": false,
    "id": "ae986d46"
   },
   "source": [
    "### Обработка аномальных значений"
   ]
  },
  {
   "cell_type": "markdown",
   "id": "b049cbae",
   "metadata": {
    "deletable": false,
    "editable": false,
    "id": "b049cbae",
    "tags": [
     "start_task"
    ]
   },
   "source": [
    "В столбце `days_employed` присутствуют артефакты, в данном случае это отрицательное количество дней трудового стажа. Заменим все отрицательные значения положительными с помощью метода `abs()`."
   ]
  },
  {
   "cell_type": "code",
   "execution_count": 6,
   "id": "187779b0",
   "metadata": {
    "id": "187779b0"
   },
   "outputs": [],
   "source": [
    "data['days_employed'] = abs(data['days_employed'])"
   ]
  },
  {
   "cell_type": "markdown",
   "id": "a13054c2",
   "metadata": {
    "deletable": false,
    "editable": false,
    "id": "a13054c2",
    "tags": [
     "start_task"
    ]
   },
   "source": [
    "Для каждого типа занятости выведем медианное значение трудового стажа `days_employed` в днях."
   ]
  },
  {
   "cell_type": "code",
   "execution_count": 7,
   "id": "f3f5810c",
   "metadata": {
    "id": "f3f5810c"
   },
   "outputs": [
    {
     "data": {
      "text/plain": [
       "income_type\n",
       "безработный        366413.652744\n",
       "в декрете            3296.759962\n",
       "госслужащий          2689.368353\n",
       "компаньон            1547.382223\n",
       "пенсионер          365213.306266\n",
       "предприниматель       520.848083\n",
       "сотрудник            1574.202821\n",
       "студент               578.751554\n",
       "Name: days_employed, dtype: float64"
      ]
     },
     "execution_count": 7,
     "metadata": {},
     "output_type": "execute_result"
    }
   ],
   "source": [
    "data.groupby('income_type')['days_employed'].median()"
   ]
  },
  {
   "cell_type": "markdown",
   "id": "dbc3168c",
   "metadata": {
    "deletable": false,
    "editable": false,
    "id": "dbc3168c"
   },
   "source": [
    "У двух типов (безработные и пенсионеры) получаются аномально большие значения. Исправить такие цифры сложно, поэтому оставим их как есть."
   ]
  },
  {
   "cell_type": "markdown",
   "id": "ff4378c2",
   "metadata": {
    "deletable": false,
    "editable": false,
    "id": "ff4378c2",
    "tags": [
     "start_task"
    ]
   },
   "source": [
    "Выведем перечень уникальных значений столбца `children`."
   ]
  },
  {
   "cell_type": "code",
   "execution_count": 8,
   "id": "9bd0c232",
   "metadata": {
    "id": "9bd0c232"
   },
   "outputs": [
    {
     "data": {
      "text/plain": [
       "array([ 1,  0,  3,  2, -1,  4, 20,  5])"
      ]
     },
     "execution_count": 8,
     "metadata": {},
     "output_type": "execute_result"
    }
   ],
   "source": [
    "data['children'].unique()"
   ]
  },
  {
   "cell_type": "markdown",
   "id": "8e911990",
   "metadata": {
    "deletable": false,
    "editable": false,
    "id": "8e911990",
    "tags": [
     "start_task"
    ]
   },
   "source": [
    "В столбце `children` есть два аномальных значения. Удалим строки, в которых встречаются такие аномальные значения из датафрейма `data`."
   ]
  },
  {
   "cell_type": "code",
   "execution_count": 9,
   "id": "6d5ba289",
   "metadata": {
    "id": "6d5ba289"
   },
   "outputs": [],
   "source": [
    "data = data[(data['children'] != -1) & (data['children'] != 20)]"
   ]
  },
  {
   "cell_type": "markdown",
   "id": "18d77455",
   "metadata": {
    "deletable": false,
    "editable": false,
    "id": "18d77455",
    "tags": [
     "start_task"
    ]
   },
   "source": [
    "Ещё раз выведем перечень уникальных значений столбца `children`, чтобы убедиться, что артефакты удалены."
   ]
  },
  {
   "cell_type": "code",
   "execution_count": 10,
   "id": "2c5fa92c",
   "metadata": {
    "id": "2c5fa92c"
   },
   "outputs": [
    {
     "data": {
      "text/plain": [
       "array([1, 0, 3, 2, 4, 5])"
      ]
     },
     "execution_count": 10,
     "metadata": {},
     "output_type": "execute_result"
    }
   ],
   "source": [
    "data['children'].unique()"
   ]
  },
  {
   "cell_type": "markdown",
   "id": "0ec07dee",
   "metadata": {
    "deletable": false,
    "editable": false,
    "id": "0ec07dee"
   },
   "source": [
    "### Удаление пропусков (продолжение)"
   ]
  },
  {
   "cell_type": "markdown",
   "id": "0fc3ae3f",
   "metadata": {
    "deletable": false,
    "editable": false,
    "id": "0fc3ae3f",
    "tags": [
     "start_task"
    ]
   },
   "source": [
    "Заполним пропуски в столбце `days_employed` медианными значениями по каждому типу занятости `income_type`."
   ]
  },
  {
   "cell_type": "code",
   "execution_count": 11,
   "id": "e2aea7ac",
   "metadata": {
    "id": "e2aea7ac"
   },
   "outputs": [],
   "source": [
    "for job in data['income_type'].unique():\n",
    "    days_median = data.loc[data['income_type']==job]['days_employed'].median()\n",
    "    data.loc[(data['income_type'] == job) & (data['days_employed'].isna()),'days_employed'] = days_median"
   ]
  },
  {
   "cell_type": "code",
   "execution_count": 12,
   "id": "79632a21",
   "metadata": {
    "id": "79632a21"
   },
   "outputs": [
    {
     "data": {
      "text/plain": [
       "0"
      ]
     },
     "execution_count": 12,
     "metadata": {},
     "output_type": "execute_result"
    }
   ],
   "source": [
    "# убедимся, что все пропуски заполнены\n",
    "data['days_employed'].isna().sum()"
   ]
  },
  {
   "cell_type": "markdown",
   "id": "bd4aeb20",
   "metadata": {
    "deletable": false,
    "editable": false,
    "id": "bd4aeb20"
   },
   "source": [
    "### Изменение типов данных"
   ]
  },
  {
   "cell_type": "markdown",
   "id": "963bfa58",
   "metadata": {
    "deletable": false,
    "editable": false,
    "id": "963bfa58",
    "tags": [
     "start_task"
    ]
   },
   "source": [
    "Заменим вещественный тип данных в столбце `total_income` на целочисленный с помощью метода `astype()`."
   ]
  },
  {
   "cell_type": "code",
   "execution_count": 13,
   "id": "73da6ea0",
   "metadata": {
    "id": "73da6ea0"
   },
   "outputs": [],
   "source": [
    "data['total_income'] = data['total_income'].astype('int')"
   ]
  },
  {
   "cell_type": "markdown",
   "id": "d290239e",
   "metadata": {
    "deletable": false,
    "editable": false,
    "id": "d290239e"
   },
   "source": [
    "### Обработка дубликатов"
   ]
  },
  {
   "cell_type": "markdown",
   "id": "1b5844fd",
   "metadata": {
    "deletable": false,
    "editable": false,
    "id": "1b5844fd",
    "tags": [
     "start_task"
    ]
   },
   "source": [
    "Обработаем неявные дубликаты в столбце `education`. В этом столбце есть одни и те же значения, но записанные по-разному: с использованием заглавных и строчных букв. Приведём их к нижнему регистру."
   ]
  },
  {
   "cell_type": "code",
   "execution_count": 14,
   "id": "3f2504b3",
   "metadata": {
    "id": "3f2504b3"
   },
   "outputs": [],
   "source": [
    "data['education'] = data['education'].str.lower()"
   ]
  },
  {
   "cell_type": "code",
   "execution_count": 15,
   "id": "d34a4325",
   "metadata": {
    "id": "d34a4325"
   },
   "outputs": [
    {
     "data": {
      "text/plain": [
       "71"
      ]
     },
     "execution_count": 15,
     "metadata": {},
     "output_type": "execute_result"
    }
   ],
   "source": [
    "# выведем на экран количество строк-дубликатов в данных.\n",
    "data.duplicated().sum()"
   ]
  },
  {
   "cell_type": "code",
   "execution_count": 16,
   "id": "6e1a6499",
   "metadata": {
    "id": "6e1a6499"
   },
   "outputs": [
    {
     "data": {
      "text/plain": [
       "0"
      ]
     },
     "execution_count": 16,
     "metadata": {},
     "output_type": "execute_result"
    }
   ],
   "source": [
    "# удалим дубликаты\n",
    "data = data.drop_duplicates()\n",
    "data.duplicated().sum()"
   ]
  },
  {
   "cell_type": "markdown",
   "id": "e5686ccc",
   "metadata": {
    "deletable": false,
    "editable": false,
    "id": "e5686ccc"
   },
   "source": [
    "### Категоризация данных"
   ]
  },
  {
   "cell_type": "markdown",
   "id": "636e9acd",
   "metadata": {
    "deletable": false,
    "editable": false,
    "id": "636e9acd",
    "tags": [
     "start_task"
    ]
   },
   "source": [
    "На основании диапазонов, указанных ниже, создадим в датафрейме `data` столбец `total_income_category` с категориями:\n",
    "\n",
    "- 0–30000 — `'E'`;\n",
    "- 30001–50000 — `'D'`;\n",
    "- 50001–200000 — `'C'`;\n",
    "- 200001–1000000 — `'B'`;\n",
    "- 1000001 и выше — `'A'`."
   ]
  },
  {
   "cell_type": "code",
   "execution_count": 17,
   "id": "880a77e5",
   "metadata": {
    "id": "880a77e5"
   },
   "outputs": [],
   "source": [
    "# создадим функцию categorize_income()\n",
    "def categorize_income(income):\n",
    "    if income > 1000000:\n",
    "        return 'A'\n",
    "    elif income > 200000:\n",
    "        return 'B'\n",
    "    elif income > 50000:\n",
    "        return 'C'\n",
    "    elif income > 30000:\n",
    "        return 'D'\n",
    "    else:\n",
    "        return 'E'"
   ]
  },
  {
   "cell_type": "code",
   "execution_count": 18,
   "id": "6f25f161",
   "metadata": {
    "id": "6f25f161",
    "scrolled": true
   },
   "outputs": [],
   "source": [
    "# применим функцию методом apply()\n",
    "data['total_income_category'] = data['total_income'].apply(categorize_income)"
   ]
  },
  {
   "cell_type": "markdown",
   "id": "3363b685",
   "metadata": {
    "deletable": false,
    "editable": false,
    "id": "3363b685",
    "tags": [
     "start_task"
    ]
   },
   "source": [
    "Выведем на экран перечень уникальных целей взятия кредита из столбца `purpose`."
   ]
  },
  {
   "cell_type": "code",
   "execution_count": 19,
   "id": "e59f2c15",
   "metadata": {
    "id": "e59f2c15"
   },
   "outputs": [
    {
     "data": {
      "text/plain": [
       "array(['покупка жилья', 'приобретение автомобиля',\n",
       "       'дополнительное образование', 'сыграть свадьбу',\n",
       "       'операции с жильем', 'образование', 'на проведение свадьбы',\n",
       "       'покупка жилья для семьи', 'покупка недвижимости',\n",
       "       'покупка коммерческой недвижимости', 'покупка жилой недвижимости',\n",
       "       'строительство собственной недвижимости', 'недвижимость',\n",
       "       'строительство недвижимости', 'на покупку подержанного автомобиля',\n",
       "       'на покупку своего автомобиля',\n",
       "       'операции с коммерческой недвижимостью',\n",
       "       'строительство жилой недвижимости', 'жилье',\n",
       "       'операции со своей недвижимостью', 'автомобили',\n",
       "       'заняться образованием', 'сделка с подержанным автомобилем',\n",
       "       'получение образования', 'автомобиль', 'свадьба',\n",
       "       'получение дополнительного образования', 'покупка своего жилья',\n",
       "       'операции с недвижимостью', 'получение высшего образования',\n",
       "       'свой автомобиль', 'сделка с автомобилем',\n",
       "       'профильное образование', 'высшее образование',\n",
       "       'покупка жилья для сдачи', 'на покупку автомобиля', 'ремонт жилью',\n",
       "       'заняться высшим образованием'], dtype=object)"
      ]
     },
     "execution_count": 19,
     "metadata": {},
     "output_type": "execute_result"
    }
   ],
   "source": [
    "data['purpose'].unique()"
   ]
  },
  {
   "cell_type": "markdown",
   "id": "bb33e847",
   "metadata": {
    "deletable": false,
    "editable": false,
    "id": "bb33e847",
    "tags": [
     "start_task"
    ]
   },
   "source": [
    "Создайте функцию, которая на основании данных из столбца `purpose` сформирует новый столбец `purpose_category`, в который войдут следующие категории:\n",
    "\n",
    "- `'операции с автомобилем'`,\n",
    "- `'операции с недвижимостью'`,\n",
    "- `'проведение свадьбы'`,\n",
    "- `'получение образования'`."
   ]
  },
  {
   "cell_type": "code",
   "execution_count": 20,
   "id": "63909b83",
   "metadata": {
    "id": "63909b83"
   },
   "outputs": [],
   "source": [
    "# создадим функцию categorize_purpose()\n",
    "def categorize_purpose(deal):\n",
    "    if deal.find('автомобил')>=0:\n",
    "        return 'операции с автомобилем'\n",
    "    elif deal.find('жиль')>=0:\n",
    "        return 'операции с недвижимостью'\n",
    "    elif deal.find('недвижимост')>=0:\n",
    "        return 'операции с недвижимостью'\n",
    "    elif deal.find('свадьб')>=0:\n",
    "        return 'проведение свадьбы'\n",
    "    elif deal.find('образовани')>=0:\n",
    "        return 'получение образования'"
   ]
  },
  {
   "cell_type": "code",
   "execution_count": 21,
   "id": "7cb4a81d",
   "metadata": {
    "id": "7cb4a81d"
   },
   "outputs": [],
   "source": [
    "# применим функцию методом apply()\n",
    "data['purpose_category'] = data['purpose'].apply(categorize_purpose)"
   ]
  },
  {
   "cell_type": "code",
   "execution_count": 28,
   "id": "fce74432",
   "metadata": {},
   "outputs": [
    {
     "data": {
      "text/html": [
       "<div>\n",
       "<style scoped>\n",
       "    .dataframe tbody tr th:only-of-type {\n",
       "        vertical-align: middle;\n",
       "    }\n",
       "\n",
       "    .dataframe tbody tr th {\n",
       "        vertical-align: top;\n",
       "    }\n",
       "\n",
       "    .dataframe thead th {\n",
       "        text-align: right;\n",
       "    }\n",
       "</style>\n",
       "<table border=\"1\" class=\"dataframe\">\n",
       "  <thead>\n",
       "    <tr style=\"text-align: right;\">\n",
       "      <th></th>\n",
       "      <th>children</th>\n",
       "      <th>days_employed</th>\n",
       "      <th>dob_years</th>\n",
       "      <th>education</th>\n",
       "      <th>education_id</th>\n",
       "      <th>family_status</th>\n",
       "      <th>family_status_id</th>\n",
       "      <th>gender</th>\n",
       "      <th>income_type</th>\n",
       "      <th>debt</th>\n",
       "      <th>total_income</th>\n",
       "      <th>purpose</th>\n",
       "      <th>total_income_category</th>\n",
       "      <th>purpose_category</th>\n",
       "    </tr>\n",
       "  </thead>\n",
       "  <tbody>\n",
       "    <tr>\n",
       "      <th>0</th>\n",
       "      <td>1</td>\n",
       "      <td>8437.673028</td>\n",
       "      <td>42</td>\n",
       "      <td>высшее</td>\n",
       "      <td>0</td>\n",
       "      <td>женат / замужем</td>\n",
       "      <td>0</td>\n",
       "      <td>F</td>\n",
       "      <td>сотрудник</td>\n",
       "      <td>0</td>\n",
       "      <td>253875</td>\n",
       "      <td>покупка жилья</td>\n",
       "      <td>B</td>\n",
       "      <td>операции с недвижимостью</td>\n",
       "    </tr>\n",
       "    <tr>\n",
       "      <th>1</th>\n",
       "      <td>1</td>\n",
       "      <td>4024.803754</td>\n",
       "      <td>36</td>\n",
       "      <td>среднее</td>\n",
       "      <td>1</td>\n",
       "      <td>женат / замужем</td>\n",
       "      <td>0</td>\n",
       "      <td>F</td>\n",
       "      <td>сотрудник</td>\n",
       "      <td>0</td>\n",
       "      <td>112080</td>\n",
       "      <td>приобретение автомобиля</td>\n",
       "      <td>C</td>\n",
       "      <td>операции с автомобилем</td>\n",
       "    </tr>\n",
       "    <tr>\n",
       "      <th>2</th>\n",
       "      <td>0</td>\n",
       "      <td>5623.422610</td>\n",
       "      <td>33</td>\n",
       "      <td>среднее</td>\n",
       "      <td>1</td>\n",
       "      <td>женат / замужем</td>\n",
       "      <td>0</td>\n",
       "      <td>M</td>\n",
       "      <td>сотрудник</td>\n",
       "      <td>0</td>\n",
       "      <td>145885</td>\n",
       "      <td>покупка жилья</td>\n",
       "      <td>C</td>\n",
       "      <td>операции с недвижимостью</td>\n",
       "    </tr>\n",
       "    <tr>\n",
       "      <th>3</th>\n",
       "      <td>3</td>\n",
       "      <td>4124.747207</td>\n",
       "      <td>32</td>\n",
       "      <td>среднее</td>\n",
       "      <td>1</td>\n",
       "      <td>женат / замужем</td>\n",
       "      <td>0</td>\n",
       "      <td>M</td>\n",
       "      <td>сотрудник</td>\n",
       "      <td>0</td>\n",
       "      <td>267628</td>\n",
       "      <td>дополнительное образование</td>\n",
       "      <td>B</td>\n",
       "      <td>получение образования</td>\n",
       "    </tr>\n",
       "    <tr>\n",
       "      <th>4</th>\n",
       "      <td>0</td>\n",
       "      <td>340266.072047</td>\n",
       "      <td>53</td>\n",
       "      <td>среднее</td>\n",
       "      <td>1</td>\n",
       "      <td>гражданский брак</td>\n",
       "      <td>1</td>\n",
       "      <td>F</td>\n",
       "      <td>пенсионер</td>\n",
       "      <td>0</td>\n",
       "      <td>158616</td>\n",
       "      <td>сыграть свадьбу</td>\n",
       "      <td>C</td>\n",
       "      <td>проведение свадьбы</td>\n",
       "    </tr>\n",
       "    <tr>\n",
       "      <th>5</th>\n",
       "      <td>0</td>\n",
       "      <td>926.185831</td>\n",
       "      <td>27</td>\n",
       "      <td>высшее</td>\n",
       "      <td>0</td>\n",
       "      <td>гражданский брак</td>\n",
       "      <td>1</td>\n",
       "      <td>M</td>\n",
       "      <td>компаньон</td>\n",
       "      <td>0</td>\n",
       "      <td>255763</td>\n",
       "      <td>покупка жилья</td>\n",
       "      <td>B</td>\n",
       "      <td>операции с недвижимостью</td>\n",
       "    </tr>\n",
       "    <tr>\n",
       "      <th>6</th>\n",
       "      <td>0</td>\n",
       "      <td>2879.202052</td>\n",
       "      <td>43</td>\n",
       "      <td>высшее</td>\n",
       "      <td>0</td>\n",
       "      <td>женат / замужем</td>\n",
       "      <td>0</td>\n",
       "      <td>F</td>\n",
       "      <td>компаньон</td>\n",
       "      <td>0</td>\n",
       "      <td>240525</td>\n",
       "      <td>операции с жильем</td>\n",
       "      <td>B</td>\n",
       "      <td>операции с недвижимостью</td>\n",
       "    </tr>\n",
       "    <tr>\n",
       "      <th>7</th>\n",
       "      <td>0</td>\n",
       "      <td>152.779569</td>\n",
       "      <td>50</td>\n",
       "      <td>среднее</td>\n",
       "      <td>1</td>\n",
       "      <td>женат / замужем</td>\n",
       "      <td>0</td>\n",
       "      <td>M</td>\n",
       "      <td>сотрудник</td>\n",
       "      <td>0</td>\n",
       "      <td>135823</td>\n",
       "      <td>образование</td>\n",
       "      <td>C</td>\n",
       "      <td>получение образования</td>\n",
       "    </tr>\n",
       "    <tr>\n",
       "      <th>8</th>\n",
       "      <td>2</td>\n",
       "      <td>6929.865299</td>\n",
       "      <td>35</td>\n",
       "      <td>высшее</td>\n",
       "      <td>0</td>\n",
       "      <td>гражданский брак</td>\n",
       "      <td>1</td>\n",
       "      <td>F</td>\n",
       "      <td>сотрудник</td>\n",
       "      <td>0</td>\n",
       "      <td>95856</td>\n",
       "      <td>на проведение свадьбы</td>\n",
       "      <td>C</td>\n",
       "      <td>проведение свадьбы</td>\n",
       "    </tr>\n",
       "    <tr>\n",
       "      <th>9</th>\n",
       "      <td>0</td>\n",
       "      <td>2188.756445</td>\n",
       "      <td>41</td>\n",
       "      <td>среднее</td>\n",
       "      <td>1</td>\n",
       "      <td>женат / замужем</td>\n",
       "      <td>0</td>\n",
       "      <td>M</td>\n",
       "      <td>сотрудник</td>\n",
       "      <td>0</td>\n",
       "      <td>144425</td>\n",
       "      <td>покупка жилья для семьи</td>\n",
       "      <td>C</td>\n",
       "      <td>операции с недвижимостью</td>\n",
       "    </tr>\n",
       "  </tbody>\n",
       "</table>\n",
       "</div>"
      ],
      "text/plain": [
       "   children  days_employed  dob_years education  education_id  \\\n",
       "0         1    8437.673028         42    высшее             0   \n",
       "1         1    4024.803754         36   среднее             1   \n",
       "2         0    5623.422610         33   среднее             1   \n",
       "3         3    4124.747207         32   среднее             1   \n",
       "4         0  340266.072047         53   среднее             1   \n",
       "5         0     926.185831         27    высшее             0   \n",
       "6         0    2879.202052         43    высшее             0   \n",
       "7         0     152.779569         50   среднее             1   \n",
       "8         2    6929.865299         35    высшее             0   \n",
       "9         0    2188.756445         41   среднее             1   \n",
       "\n",
       "      family_status  family_status_id gender income_type  debt  total_income  \\\n",
       "0   женат / замужем                 0      F   сотрудник     0        253875   \n",
       "1   женат / замужем                 0      F   сотрудник     0        112080   \n",
       "2   женат / замужем                 0      M   сотрудник     0        145885   \n",
       "3   женат / замужем                 0      M   сотрудник     0        267628   \n",
       "4  гражданский брак                 1      F   пенсионер     0        158616   \n",
       "5  гражданский брак                 1      M   компаньон     0        255763   \n",
       "6   женат / замужем                 0      F   компаньон     0        240525   \n",
       "7   женат / замужем                 0      M   сотрудник     0        135823   \n",
       "8  гражданский брак                 1      F   сотрудник     0         95856   \n",
       "9   женат / замужем                 0      M   сотрудник     0        144425   \n",
       "\n",
       "                      purpose total_income_category          purpose_category  \n",
       "0               покупка жилья                     B  операции с недвижимостью  \n",
       "1     приобретение автомобиля                     C    операции с автомобилем  \n",
       "2               покупка жилья                     C  операции с недвижимостью  \n",
       "3  дополнительное образование                     B     получение образования  \n",
       "4             сыграть свадьбу                     C        проведение свадьбы  \n",
       "5               покупка жилья                     B  операции с недвижимостью  \n",
       "6           операции с жильем                     B  операции с недвижимостью  \n",
       "7                 образование                     C     получение образования  \n",
       "8       на проведение свадьбы                     C        проведение свадьбы  \n",
       "9     покупка жилья для семьи                     C  операции с недвижимостью  "
      ]
     },
     "execution_count": 28,
     "metadata": {},
     "output_type": "execute_result"
    }
   ],
   "source": [
    "# выведем первые 10 строк изменённого датафрейма\n",
    "data.head(10)"
   ]
  },
  {
   "cell_type": "markdown",
   "id": "0811c0d2",
   "metadata": {},
   "source": [
    "## Ⅲ. Исследуем данные и ответим на вопросы."
   ]
  },
  {
   "cell_type": "markdown",
   "id": "801232a9",
   "metadata": {},
   "source": [
    "#### Есть ли зависимость между количеством детей и возвратом кредита в срок?"
   ]
  },
  {
   "cell_type": "markdown",
   "id": "f8c6f453",
   "metadata": {},
   "source": [
    "Чтобы найти зависимость между количеством детей у заёмщика и возвратом кредита в срок необходимо найти среднее по долгу с учётом группировки по количеству имеющихся детей. Далее, на основании этих данных построим сводную таблицу."
   ]
  },
  {
   "cell_type": "code",
   "execution_count": 23,
   "id": "ca4eae0a",
   "metadata": {},
   "outputs": [
    {
     "data": {
      "text/html": [
       "<div>\n",
       "<style scoped>\n",
       "    .dataframe tbody tr th:only-of-type {\n",
       "        vertical-align: middle;\n",
       "    }\n",
       "\n",
       "    .dataframe tbody tr th {\n",
       "        vertical-align: top;\n",
       "    }\n",
       "\n",
       "    .dataframe thead th {\n",
       "        text-align: right;\n",
       "    }\n",
       "</style>\n",
       "<table border=\"1\" class=\"dataframe\">\n",
       "  <thead>\n",
       "    <tr style=\"text-align: right;\">\n",
       "      <th></th>\n",
       "      <th>sum</th>\n",
       "      <th>count</th>\n",
       "      <th>mean</th>\n",
       "    </tr>\n",
       "    <tr>\n",
       "      <th>children</th>\n",
       "      <th></th>\n",
       "      <th></th>\n",
       "      <th></th>\n",
       "    </tr>\n",
       "  </thead>\n",
       "  <tbody>\n",
       "    <tr>\n",
       "      <th>5</th>\n",
       "      <td>0</td>\n",
       "      <td>9</td>\n",
       "      <td>0.000000</td>\n",
       "    </tr>\n",
       "    <tr>\n",
       "      <th>0</th>\n",
       "      <td>1063</td>\n",
       "      <td>14091</td>\n",
       "      <td>7.543822</td>\n",
       "    </tr>\n",
       "    <tr>\n",
       "      <th>3</th>\n",
       "      <td>27</td>\n",
       "      <td>330</td>\n",
       "      <td>8.181818</td>\n",
       "    </tr>\n",
       "    <tr>\n",
       "      <th>1</th>\n",
       "      <td>444</td>\n",
       "      <td>4808</td>\n",
       "      <td>9.234609</td>\n",
       "    </tr>\n",
       "    <tr>\n",
       "      <th>2</th>\n",
       "      <td>194</td>\n",
       "      <td>2052</td>\n",
       "      <td>9.454191</td>\n",
       "    </tr>\n",
       "    <tr>\n",
       "      <th>4</th>\n",
       "      <td>4</td>\n",
       "      <td>41</td>\n",
       "      <td>9.756098</td>\n",
       "    </tr>\n",
       "  </tbody>\n",
       "</table>\n",
       "</div>"
      ],
      "text/plain": [
       "           sum  count      mean\n",
       "children                       \n",
       "5            0      9  0.000000\n",
       "0         1063  14091  7.543822\n",
       "3           27    330  8.181818\n",
       "1          444   4808  9.234609\n",
       "2          194   2052  9.454191\n",
       "4            4     41  9.756098"
      ]
     },
     "execution_count": 23,
     "metadata": {},
     "output_type": "execute_result"
    }
   ],
   "source": [
    "table1 = (data.groupby('children')['debt'].agg(['sum','count','mean'])).sort_values('mean')\n",
    "table1['mean'] = table1['mean']*100\n",
    "table1"
   ]
  },
  {
   "cell_type": "markdown",
   "id": "a3233c9c",
   "metadata": {},
   "source": [
    "Колонка `children` показывает количество детей у заёмщика,  \n",
    "`debt` - количество заёмщиков невозвративших кредит в срок,  \n",
    "`debt_count` - количество заёмщиков в каждой группе по кол-ву детей,  \n",
    "`debt_ratio` - отношение `debt` к `debt_count`.  \n",
    "\n",
    "Сразу обращает на себя внимание отсутствие невозвратного кредита у заёмщиков с количеством детей 5 человек. У категории бездетных самый низкий уровень задолженностей."
   ]
  },
  {
   "cell_type": "markdown",
   "id": "60a59c60",
   "metadata": {},
   "source": [
    "Также, отличительной особенностью является уменьшение количества займов `debt_count` с ростом числа детей."
   ]
  },
  {
   "cell_type": "code",
   "execution_count": 24,
   "id": "03b05508",
   "metadata": {},
   "outputs": [
    {
     "data": {
      "text/html": [
       "<div>\n",
       "<style scoped>\n",
       "    .dataframe tbody tr th:only-of-type {\n",
       "        vertical-align: middle;\n",
       "    }\n",
       "\n",
       "    .dataframe tbody tr th {\n",
       "        vertical-align: top;\n",
       "    }\n",
       "\n",
       "    .dataframe thead th {\n",
       "        text-align: right;\n",
       "    }\n",
       "</style>\n",
       "<table border=\"1\" class=\"dataframe\">\n",
       "  <thead>\n",
       "    <tr style=\"text-align: right;\">\n",
       "      <th></th>\n",
       "      <th>sum</th>\n",
       "      <th>count</th>\n",
       "      <th>mean</th>\n",
       "    </tr>\n",
       "    <tr>\n",
       "      <th>children</th>\n",
       "      <th></th>\n",
       "      <th></th>\n",
       "      <th></th>\n",
       "    </tr>\n",
       "  </thead>\n",
       "  <tbody>\n",
       "    <tr>\n",
       "      <th>0</th>\n",
       "      <td>1063</td>\n",
       "      <td>14091</td>\n",
       "      <td>7.543822</td>\n",
       "    </tr>\n",
       "    <tr>\n",
       "      <th>1</th>\n",
       "      <td>444</td>\n",
       "      <td>4808</td>\n",
       "      <td>9.234609</td>\n",
       "    </tr>\n",
       "    <tr>\n",
       "      <th>2</th>\n",
       "      <td>194</td>\n",
       "      <td>2052</td>\n",
       "      <td>9.454191</td>\n",
       "    </tr>\n",
       "    <tr>\n",
       "      <th>3</th>\n",
       "      <td>27</td>\n",
       "      <td>330</td>\n",
       "      <td>8.181818</td>\n",
       "    </tr>\n",
       "    <tr>\n",
       "      <th>4</th>\n",
       "      <td>4</td>\n",
       "      <td>41</td>\n",
       "      <td>9.756098</td>\n",
       "    </tr>\n",
       "    <tr>\n",
       "      <th>5</th>\n",
       "      <td>0</td>\n",
       "      <td>9</td>\n",
       "      <td>0.000000</td>\n",
       "    </tr>\n",
       "  </tbody>\n",
       "</table>\n",
       "</div>"
      ],
      "text/plain": [
       "           sum  count      mean\n",
       "children                       \n",
       "0         1063  14091  7.543822\n",
       "1          444   4808  9.234609\n",
       "2          194   2052  9.454191\n",
       "3           27    330  8.181818\n",
       "4            4     41  9.756098\n",
       "5            0      9  0.000000"
      ]
     },
     "execution_count": 24,
     "metadata": {},
     "output_type": "execute_result"
    }
   ],
   "source": [
    "table1.sort_values('count', ascending=False)"
   ]
  },
  {
   "cell_type": "markdown",
   "id": "5036777f",
   "metadata": {},
   "source": [
    ">**Вывод:**  \n",
    ">Показательно, что заёмщиков с пятью детьми всего девять и это не может являться достаточным основанием чтобы делать обоснованные выводы для этой категории. Несмотря на этот факт, наблюдается линейная зависимость между задолженностью и количеством детей."
   ]
  },
  {
   "cell_type": "markdown",
   "id": "a510ea10",
   "metadata": {},
   "source": [
    "#### Есть ли зависимость между семейным положением и возвратом кредита в срок?"
   ]
  },
  {
   "cell_type": "markdown",
   "id": "a552fb1d",
   "metadata": {},
   "source": [
    "Найдём отношение невозвративших вовремя кредит заёмщиков к общему числу заёмщиков с учётом семейного положения и оформим результат в виде сводной таблицы."
   ]
  },
  {
   "cell_type": "code",
   "execution_count": 25,
   "id": "7344d9b1",
   "metadata": {},
   "outputs": [
    {
     "data": {
      "text/html": [
       "<div>\n",
       "<style scoped>\n",
       "    .dataframe tbody tr th:only-of-type {\n",
       "        vertical-align: middle;\n",
       "    }\n",
       "\n",
       "    .dataframe tbody tr th {\n",
       "        vertical-align: top;\n",
       "    }\n",
       "\n",
       "    .dataframe thead th {\n",
       "        text-align: right;\n",
       "    }\n",
       "</style>\n",
       "<table border=\"1\" class=\"dataframe\">\n",
       "  <thead>\n",
       "    <tr style=\"text-align: right;\">\n",
       "      <th></th>\n",
       "      <th>sum</th>\n",
       "      <th>count</th>\n",
       "      <th>mean</th>\n",
       "      <th>age</th>\n",
       "    </tr>\n",
       "    <tr>\n",
       "      <th>family_status</th>\n",
       "      <th></th>\n",
       "      <th></th>\n",
       "      <th></th>\n",
       "      <th></th>\n",
       "    </tr>\n",
       "  </thead>\n",
       "  <tbody>\n",
       "    <tr>\n",
       "      <th>вдовец / вдова</th>\n",
       "      <td>63</td>\n",
       "      <td>951</td>\n",
       "      <td>6.624606</td>\n",
       "      <td>58</td>\n",
       "    </tr>\n",
       "    <tr>\n",
       "      <th>в разводе</th>\n",
       "      <td>84</td>\n",
       "      <td>1189</td>\n",
       "      <td>7.064760</td>\n",
       "      <td>46</td>\n",
       "    </tr>\n",
       "    <tr>\n",
       "      <th>женат / замужем</th>\n",
       "      <td>927</td>\n",
       "      <td>12261</td>\n",
       "      <td>7.560558</td>\n",
       "      <td>43</td>\n",
       "    </tr>\n",
       "    <tr>\n",
       "      <th>гражданский брак</th>\n",
       "      <td>385</td>\n",
       "      <td>4134</td>\n",
       "      <td>9.313014</td>\n",
       "      <td>41</td>\n",
       "    </tr>\n",
       "    <tr>\n",
       "      <th>Не женат / не замужем</th>\n",
       "      <td>273</td>\n",
       "      <td>2796</td>\n",
       "      <td>9.763948</td>\n",
       "      <td>36</td>\n",
       "    </tr>\n",
       "  </tbody>\n",
       "</table>\n",
       "</div>"
      ],
      "text/plain": [
       "                       sum  count      mean  age\n",
       "family_status                                   \n",
       "вдовец / вдова          63    951  6.624606   58\n",
       "в разводе               84   1189  7.064760   46\n",
       "женат / замужем        927  12261  7.560558   43\n",
       "гражданский брак       385   4134  9.313014   41\n",
       "Не женат / не замужем  273   2796  9.763948   36"
      ]
     },
     "execution_count": 25,
     "metadata": {},
     "output_type": "execute_result"
    }
   ],
   "source": [
    "table2 = (data.groupby('family_status')['debt'].agg(['sum','count','mean'])).sort_values('mean')\n",
    "table2['mean'] = table2['mean']*100\n",
    "table2['age']=data.groupby('family_status')['dob_years'].median()\n",
    "table2"
   ]
  },
  {
   "cell_type": "markdown",
   "id": "f895f844",
   "metadata": {},
   "source": [
    ">**Вывод:**  \n",
    ">Индивиды из категорий вдовцы/вдовы и в разводе представляет незначительную долю в совкупности, хотя и имеют самый низкий процент невозвратов. Больше всего невозврата у неженатых/незамужних и находящихся в гражданском браке. Можно предположить, что это является следствие возраста заёмщиков, потому что такие категории как гражданский брак и Не женат / не замужем образуют самые молодые заёмщики среди остальных, склонных пероценивать свои возможности."
   ]
  },
  {
   "cell_type": "markdown",
   "id": "623ca856",
   "metadata": {},
   "source": [
    "#### Есть ли зависимость между уровнем дохода и возвратом кредита в срок?"
   ]
  },
  {
   "cell_type": "markdown",
   "id": "14e231f8",
   "metadata": {},
   "source": [
    "Построим сводную таблицу показывающую зависимость между уровнем дохода и возвратом кредита в срок в соответствии со следующими категориями.\n",
    "\n",
    "- 0–30000 — `'E'`;\n",
    "- 30001–50000 — `'D'`;\n",
    "- 50001–200000 — `'C'`;\n",
    "- 200001–1000000 — `'B'`;\n",
    "- 1000001 и выше — `'A'`."
   ]
  },
  {
   "cell_type": "code",
   "execution_count": 26,
   "id": "a35b7a90",
   "metadata": {},
   "outputs": [
    {
     "data": {
      "text/html": [
       "<div>\n",
       "<style scoped>\n",
       "    .dataframe tbody tr th:only-of-type {\n",
       "        vertical-align: middle;\n",
       "    }\n",
       "\n",
       "    .dataframe tbody tr th {\n",
       "        vertical-align: top;\n",
       "    }\n",
       "\n",
       "    .dataframe thead th {\n",
       "        text-align: right;\n",
       "    }\n",
       "</style>\n",
       "<table border=\"1\" class=\"dataframe\">\n",
       "  <thead>\n",
       "    <tr style=\"text-align: right;\">\n",
       "      <th></th>\n",
       "      <th>sum</th>\n",
       "      <th>count</th>\n",
       "      <th>mean</th>\n",
       "    </tr>\n",
       "    <tr>\n",
       "      <th>total_income_category</th>\n",
       "      <th></th>\n",
       "      <th></th>\n",
       "      <th></th>\n",
       "    </tr>\n",
       "  </thead>\n",
       "  <tbody>\n",
       "    <tr>\n",
       "      <th>D</th>\n",
       "      <td>21</td>\n",
       "      <td>349</td>\n",
       "      <td>6.017192</td>\n",
       "    </tr>\n",
       "    <tr>\n",
       "      <th>B</th>\n",
       "      <td>354</td>\n",
       "      <td>5014</td>\n",
       "      <td>7.060231</td>\n",
       "    </tr>\n",
       "    <tr>\n",
       "      <th>A</th>\n",
       "      <td>2</td>\n",
       "      <td>25</td>\n",
       "      <td>8.000000</td>\n",
       "    </tr>\n",
       "    <tr>\n",
       "      <th>C</th>\n",
       "      <td>1353</td>\n",
       "      <td>15921</td>\n",
       "      <td>8.498210</td>\n",
       "    </tr>\n",
       "    <tr>\n",
       "      <th>E</th>\n",
       "      <td>2</td>\n",
       "      <td>22</td>\n",
       "      <td>9.090909</td>\n",
       "    </tr>\n",
       "  </tbody>\n",
       "</table>\n",
       "</div>"
      ],
      "text/plain": [
       "                        sum  count      mean\n",
       "total_income_category                       \n",
       "D                        21    349  6.017192\n",
       "B                       354   5014  7.060231\n",
       "A                         2     25  8.000000\n",
       "C                      1353  15921  8.498210\n",
       "E                         2     22  9.090909"
      ]
     },
     "execution_count": 26,
     "metadata": {},
     "output_type": "execute_result"
    }
   ],
   "source": [
    "table3 = (data.groupby('total_income_category')['debt'].agg(['sum','count','mean'])).sort_values('mean')\n",
    "table3['mean'] = table3['mean']*100\n",
    "table3"
   ]
  },
  {
   "cell_type": "markdown",
   "id": "646d5691",
   "metadata": {},
   "source": [
    "По количеству представителей выделяются две категории заёмщиков `B` и `C`, причём последняя в три раза больше, это индивиды со средним уровнем дохода. Самая высокая доля невозвратов среди людей с низким доходом, но их и представлено меньше остальных. "
   ]
  },
  {
   "cell_type": "markdown",
   "id": "47555216",
   "metadata": {},
   "source": [
    ">**Вывод:**  \n",
    ">если не учитывать фактор количества, то видна незначительная тенденция роста невозврата кредитов с уменьшением уровня доходов."
   ]
  },
  {
   "cell_type": "markdown",
   "id": "ca18bbf2",
   "metadata": {},
   "source": [
    "#### Как разные цели кредита влияют на его возврат в срок?"
   ]
  },
  {
   "cell_type": "markdown",
   "id": "19a2824b",
   "metadata": {},
   "source": [
    "Построим сводную таблицу показывающую зависимость между целью кредита и возвратом кредита в срок в соответствии со следующими категориями:\n",
    "\n",
    "- `операции с автомобилем`,\n",
    "- `операции с недвижимостью`,\n",
    "- `проведение свадьбы`,\n",
    "- `получение образования`."
   ]
  },
  {
   "cell_type": "code",
   "execution_count": 27,
   "id": "7cc16675",
   "metadata": {},
   "outputs": [
    {
     "data": {
      "text/html": [
       "<div>\n",
       "<style scoped>\n",
       "    .dataframe tbody tr th:only-of-type {\n",
       "        vertical-align: middle;\n",
       "    }\n",
       "\n",
       "    .dataframe tbody tr th {\n",
       "        vertical-align: top;\n",
       "    }\n",
       "\n",
       "    .dataframe thead th {\n",
       "        text-align: right;\n",
       "    }\n",
       "</style>\n",
       "<table border=\"1\" class=\"dataframe\">\n",
       "  <thead>\n",
       "    <tr style=\"text-align: right;\">\n",
       "      <th></th>\n",
       "      <th>sum</th>\n",
       "      <th>count</th>\n",
       "      <th>mean</th>\n",
       "      <th>age</th>\n",
       "    </tr>\n",
       "    <tr>\n",
       "      <th>purpose_category</th>\n",
       "      <th></th>\n",
       "      <th></th>\n",
       "      <th></th>\n",
       "      <th></th>\n",
       "    </tr>\n",
       "  </thead>\n",
       "  <tbody>\n",
       "    <tr>\n",
       "      <th>операции с недвижимостью</th>\n",
       "      <td>780</td>\n",
       "      <td>10751</td>\n",
       "      <td>7.255139</td>\n",
       "      <td>43</td>\n",
       "    </tr>\n",
       "    <tr>\n",
       "      <th>проведение свадьбы</th>\n",
       "      <td>183</td>\n",
       "      <td>2313</td>\n",
       "      <td>7.911803</td>\n",
       "      <td>43</td>\n",
       "    </tr>\n",
       "    <tr>\n",
       "      <th>получение образования</th>\n",
       "      <td>369</td>\n",
       "      <td>3988</td>\n",
       "      <td>9.252758</td>\n",
       "      <td>43</td>\n",
       "    </tr>\n",
       "    <tr>\n",
       "      <th>операции с автомобилем</th>\n",
       "      <td>400</td>\n",
       "      <td>4279</td>\n",
       "      <td>9.347978</td>\n",
       "      <td>43</td>\n",
       "    </tr>\n",
       "  </tbody>\n",
       "</table>\n",
       "</div>"
      ],
      "text/plain": [
       "                          sum  count      mean  age\n",
       "purpose_category                                   \n",
       "операции с недвижимостью  780  10751  7.255139   43\n",
       "проведение свадьбы        183   2313  7.911803   43\n",
       "получение образования     369   3988  9.252758   43\n",
       "операции с автомобилем    400   4279  9.347978   43"
      ]
     },
     "execution_count": 27,
     "metadata": {},
     "output_type": "execute_result"
    }
   ],
   "source": [
    "table4 = (data.groupby('purpose_category')['debt'].agg(['sum','count','mean'])).sort_values('mean')\n",
    "table4['mean'] = table4['mean']*100\n",
    "table4['age']=data.groupby('purpose_category')['dob_years'].mean().astype('int')\n",
    "table4"
   ]
  },
  {
   "cell_type": "markdown",
   "id": "ab2de20b",
   "metadata": {},
   "source": [
    ">**Вывод:**  \n",
    ">`операции с недвижимостью` является категорией с самым низким уровнем невозврата кредита в срок. Это может быть обусловленно значительными суммами сделок с недвижимостью и, соответственно, более ответственным подходом к операциям. Самая высокая доля невозвратов у категорий `получение образования` и `операции с автомобилем`. Можно утверждать, что сделки с автомобилями являются самыми рискованными видом кредита. Ещё одная замечательная особенность, что средний возраст всех заёмщиков по данным категориям составляет 43 года."
   ]
  },
  {
   "cell_type": "markdown",
   "id": "c5a30383",
   "metadata": {},
   "source": [
    "## Ⅳ. Общий вывод."
   ]
  },
  {
   "cell_type": "markdown",
   "id": "c5f215bc",
   "metadata": {},
   "source": [
    "Предоставленные данные были получены в текстовом формате и требовали предварительной обработки для дальнейшего анализа. В процессе предобработки было обнаружено, что некоторые значения в данных о трудовом стаже и ежемесячном доходе отсутствуют. Для заполнения этих пропусков были использованы медианные значения соответствующих категорий. Также было обнаружено, что в данных о ежемесячных доходах имеются артефакты в виде отрицательных значений, которые были исправлены. Для обеспечения точности и надежности данных, были удалены записи о количестве детей с отрицательными и аномально высокими значениями. Кроме того, в данных были обнаружены дубликаты, которые были удалены, чтобы избежать искажения результатов анализа. Для удобства представления информации и более эффективного анализа, мы провели категоризацию двух показателей: уровень дохода и цель кредита. Это позволило нам группировать данные по определенным критериям и проводить сравнительный анализ между различными группами.\n",
    "\n",
    "На этапе анализа данных выявлены следующие закономерности:\n",
    "\n",
    "- при увеличении количества детей кредитоспособность заёмщика падает;\n",
    "- одинокие молодые люди моложе 43 лет и находящиеся в гражданском браке показали высокие доли невозврата кредита, в то время как овдовевшие супруги и лица в разводе самые низкие;\n",
    "- невысокий уровень дохода является причиной задержек выплат;\n",
    "- такие целевые категории как 'получение образования' и 'операции с автомобилем' составляют наиболее рискованные области кредитования, 'операции с недвижимостью' показали самый низкий риск для кредитования"
   ]
  },
  {
   "cell_type": "markdown",
   "id": "b6a24786",
   "metadata": {},
   "source": [
    "## Ⅴ. Замечания и рекомендации."
   ]
  },
  {
   "cell_type": "markdown",
   "id": "208c8f57",
   "metadata": {},
   "source": [
    "Количество заёмщиков по каждой из категорий, довольно сильно различаются. Например, в категории `количество детей`, лиц имеющих 5 детей всего 9 человек и судить по этим данным о достоверности полученных результатов сложно. А в категории `общий доход` заёмщики с самым высоким и самым низким доходами составляют 25 и 22 человека соответственно. Также в этой категории оказалось значительное количество пропусков. Помимо пропусков в колонке `общий трудовой стаж` обнаружились аномально высокие значения, исправить которые без дополнительной информации не представляется возможным. Такие низкие количественные характеристики искажают общий вывод исследования. В дополнении к существующим данным важную информацию могли бы предоставить сведения по размеру кредита, выданного заёмщику."
   ]
  }
 ],
 "metadata": {
  "ExecuteTimeLog": [
   {
    "duration": 442,
    "start_time": "2023-09-07T08:30:58.880Z"
   },
   {
    "duration": 2,
    "start_time": "2023-09-07T08:31:07.313Z"
   },
   {
    "duration": 307,
    "start_time": "2023-09-07T08:31:08.663Z"
   },
   {
    "duration": 23,
    "start_time": "2023-09-07T08:31:49.694Z"
   },
   {
    "duration": 20,
    "start_time": "2023-09-07T08:33:51.765Z"
   },
   {
    "duration": 11,
    "start_time": "2023-09-07T08:38:11.562Z"
   },
   {
    "duration": 77,
    "start_time": "2023-09-07T08:54:10.120Z"
   },
   {
    "duration": 13,
    "start_time": "2023-09-07T08:55:14.949Z"
   },
   {
    "duration": 5,
    "start_time": "2023-09-07T08:56:14.159Z"
   },
   {
    "duration": 5,
    "start_time": "2023-09-07T09:02:49.515Z"
   },
   {
    "duration": 5,
    "start_time": "2023-09-07T09:03:20.033Z"
   },
   {
    "duration": 4,
    "start_time": "2023-09-07T09:09:29.711Z"
   },
   {
    "duration": 7,
    "start_time": "2023-09-07T09:09:36.982Z"
   },
   {
    "duration": 3,
    "start_time": "2023-09-07T09:11:23.935Z"
   },
   {
    "duration": 5,
    "start_time": "2023-09-07T09:11:31.335Z"
   },
   {
    "duration": 6,
    "start_time": "2023-09-07T09:12:33.263Z"
   },
   {
    "duration": 5,
    "start_time": "2023-09-07T09:13:02.494Z"
   },
   {
    "duration": 5,
    "start_time": "2023-09-07T09:13:18.696Z"
   },
   {
    "duration": 5,
    "start_time": "2023-09-07T09:13:34.197Z"
   },
   {
    "duration": 5,
    "start_time": "2023-09-07T09:14:15.148Z"
   },
   {
    "duration": 205,
    "start_time": "2023-09-07T09:14:26.236Z"
   },
   {
    "duration": 12,
    "start_time": "2023-09-07T09:15:32.047Z"
   },
   {
    "duration": 9,
    "start_time": "2023-09-07T09:24:09.568Z"
   },
   {
    "duration": 4,
    "start_time": "2023-09-07T09:24:21.508Z"
   },
   {
    "duration": 12,
    "start_time": "2023-09-07T09:25:41.374Z"
   },
   {
    "duration": 7,
    "start_time": "2023-09-07T09:26:12.564Z"
   },
   {
    "duration": 10,
    "start_time": "2023-09-07T09:26:58.277Z"
   },
   {
    "duration": 8,
    "start_time": "2023-09-07T09:27:29.664Z"
   },
   {
    "duration": 7,
    "start_time": "2023-09-07T09:27:52.324Z"
   },
   {
    "duration": 6,
    "start_time": "2023-09-07T09:28:51.536Z"
   },
   {
    "duration": 26,
    "start_time": "2023-09-07T09:29:26.718Z"
   },
   {
    "duration": 33,
    "start_time": "2023-09-07T09:29:34.743Z"
   },
   {
    "duration": 10,
    "start_time": "2023-09-07T09:32:31.915Z"
   },
   {
    "duration": 13,
    "start_time": "2023-09-07T09:53:11.443Z"
   },
   {
    "duration": 10,
    "start_time": "2023-09-07T09:53:45.021Z"
   },
   {
    "duration": 11,
    "start_time": "2023-09-07T09:53:59.448Z"
   },
   {
    "duration": 17,
    "start_time": "2023-09-07T09:54:14.415Z"
   },
   {
    "duration": 5,
    "start_time": "2023-09-07T09:56:44.487Z"
   },
   {
    "duration": 11,
    "start_time": "2023-09-07T09:56:53.634Z"
   },
   {
    "duration": 10,
    "start_time": "2023-09-07T09:57:55.650Z"
   },
   {
    "duration": 11,
    "start_time": "2023-09-07T09:58:14.115Z"
   },
   {
    "duration": 12,
    "start_time": "2023-09-07T09:59:53.171Z"
   },
   {
    "duration": 9,
    "start_time": "2023-09-07T10:02:19.350Z"
   },
   {
    "duration": 10,
    "start_time": "2023-09-07T10:03:29.845Z"
   },
   {
    "duration": 218,
    "start_time": "2023-09-07T10:04:18.075Z"
   },
   {
    "duration": 177,
    "start_time": "2023-09-07T10:04:24.238Z"
   },
   {
    "duration": 9,
    "start_time": "2023-09-07T10:04:42.835Z"
   },
   {
    "duration": 12,
    "start_time": "2023-09-07T10:08:05.691Z"
   },
   {
    "duration": 5,
    "start_time": "2023-09-07T10:33:08.922Z"
   },
   {
    "duration": 12,
    "start_time": "2023-09-07T10:33:16.355Z"
   },
   {
    "duration": 4,
    "start_time": "2023-09-07T10:37:33.374Z"
   },
   {
    "duration": 103,
    "start_time": "2023-09-07T10:37:46.695Z"
   },
   {
    "duration": 791,
    "start_time": "2023-09-07T10:40:02.973Z"
   },
   {
    "duration": 504,
    "start_time": "2023-09-07T10:41:03.755Z"
   },
   {
    "duration": 13,
    "start_time": "2023-09-07T10:41:36.982Z"
   },
   {
    "duration": 402,
    "start_time": "2023-09-07T10:42:26.190Z"
   },
   {
    "duration": 347,
    "start_time": "2023-09-07T10:42:36.141Z"
   },
   {
    "duration": 382,
    "start_time": "2023-09-07T10:43:08.940Z"
   },
   {
    "duration": 443,
    "start_time": "2023-09-07T10:44:46.470Z"
   },
   {
    "duration": 413,
    "start_time": "2023-09-07T10:45:04.885Z"
   },
   {
    "duration": 11,
    "start_time": "2023-09-07T10:45:10.570Z"
   },
   {
    "duration": 463,
    "start_time": "2023-09-07T10:45:19.000Z"
   },
   {
    "duration": 528,
    "start_time": "2023-09-07T10:50:21.217Z"
   },
   {
    "duration": 10,
    "start_time": "2023-09-07T10:50:29.730Z"
   },
   {
    "duration": 446,
    "start_time": "2023-09-07T10:50:39.444Z"
   },
   {
    "duration": 1014,
    "start_time": "2023-09-07T10:59:11.235Z"
   },
   {
    "duration": 1297,
    "start_time": "2023-09-07T10:59:24.352Z"
   },
   {
    "duration": 580,
    "start_time": "2023-09-07T11:02:25.692Z"
   },
   {
    "duration": 1116,
    "start_time": "2023-09-07T11:02:48.006Z"
   },
   {
    "duration": 6,
    "start_time": "2023-09-07T11:03:25.247Z"
   },
   {
    "duration": 22,
    "start_time": "2023-09-07T11:11:02.628Z"
   },
   {
    "duration": 11,
    "start_time": "2023-09-07T11:11:19.197Z"
   },
   {
    "duration": 7,
    "start_time": "2023-09-07T11:11:50.300Z"
   },
   {
    "duration": 5,
    "start_time": "2023-09-07T11:12:02.035Z"
   },
   {
    "duration": 20,
    "start_time": "2023-09-07T11:15:45.885Z"
   },
   {
    "duration": 17,
    "start_time": "2023-09-07T11:17:01.591Z"
   },
   {
    "duration": 16,
    "start_time": "2023-09-07T11:17:49.562Z"
   },
   {
    "duration": 639,
    "start_time": "2023-09-07T11:18:10.134Z"
   },
   {
    "duration": 15,
    "start_time": "2023-09-07T11:18:48.229Z"
   },
   {
    "duration": 117,
    "start_time": "2023-09-07T11:19:54.850Z"
   },
   {
    "duration": 277,
    "start_time": "2023-09-07T11:20:01.720Z"
   },
   {
    "duration": 25,
    "start_time": "2023-09-07T11:20:19.102Z"
   },
   {
    "duration": 81,
    "start_time": "2023-09-07T11:20:55.199Z"
   },
   {
    "duration": 18,
    "start_time": "2023-09-07T11:21:04.514Z"
   },
   {
    "duration": 14,
    "start_time": "2023-09-07T11:24:27.733Z"
   },
   {
    "duration": 20,
    "start_time": "2023-09-07T11:24:45.057Z"
   },
   {
    "duration": 7,
    "start_time": "2023-09-07T11:24:56.228Z"
   },
   {
    "duration": 6,
    "start_time": "2023-09-07T11:27:28.807Z"
   },
   {
    "duration": 15,
    "start_time": "2023-09-07T11:27:47.583Z"
   },
   {
    "duration": 14,
    "start_time": "2023-09-07T11:28:16.950Z"
   },
   {
    "duration": 974,
    "start_time": "2023-09-07T11:31:10.066Z"
   },
   {
    "duration": 9,
    "start_time": "2023-09-07T11:31:55.960Z"
   },
   {
    "duration": 43,
    "start_time": "2023-09-07T11:35:02.162Z"
   },
   {
    "duration": 55,
    "start_time": "2023-09-07T11:35:12.498Z"
   },
   {
    "duration": 10,
    "start_time": "2023-09-07T11:36:25.765Z"
   },
   {
    "duration": 2,
    "start_time": "2023-09-07T11:36:43.689Z"
   },
   {
    "duration": 88,
    "start_time": "2023-09-07T11:36:45.212Z"
   },
   {
    "duration": 16,
    "start_time": "2023-09-07T11:36:47.866Z"
   },
   {
    "duration": 16,
    "start_time": "2023-09-07T11:36:52.184Z"
   },
   {
    "duration": 11,
    "start_time": "2023-09-07T11:36:57.380Z"
   },
   {
    "duration": 40,
    "start_time": "2023-09-07T11:37:31.568Z"
   },
   {
    "duration": 12,
    "start_time": "2023-09-07T11:37:35.442Z"
   },
   {
    "duration": 48,
    "start_time": "2023-09-07T11:40:58.790Z"
   },
   {
    "duration": 55,
    "start_time": "2023-09-07T11:44:37.271Z"
   },
   {
    "duration": 49,
    "start_time": "2023-09-07T11:45:18.462Z"
   },
   {
    "duration": 12,
    "start_time": "2023-09-07T11:46:13.792Z"
   },
   {
    "duration": 42,
    "start_time": "2023-09-07T11:46:20.787Z"
   },
   {
    "duration": 922,
    "start_time": "2023-09-07T11:46:48.787Z"
   },
   {
    "duration": 1163,
    "start_time": "2023-09-07T11:47:08.281Z"
   },
   {
    "duration": 42,
    "start_time": "2023-09-07T11:48:25.799Z"
   },
   {
    "duration": 51,
    "start_time": "2023-09-07T11:48:51.745Z"
   },
   {
    "duration": 13,
    "start_time": "2023-09-07T11:50:05.981Z"
   },
   {
    "duration": 45,
    "start_time": "2023-09-07T11:50:11.780Z"
   },
   {
    "duration": 44,
    "start_time": "2023-09-07T11:51:18.894Z"
   },
   {
    "duration": 56,
    "start_time": "2023-09-07T11:52:17.780Z"
   },
   {
    "duration": 44,
    "start_time": "2023-09-07T11:54:39.624Z"
   },
   {
    "duration": 53,
    "start_time": "2023-09-07T11:55:00.503Z"
   },
   {
    "duration": 48,
    "start_time": "2023-09-07T11:55:20.708Z"
   },
   {
    "duration": 47,
    "start_time": "2023-09-07T11:55:27.822Z"
   },
   {
    "duration": 12,
    "start_time": "2023-09-07T11:55:50.017Z"
   },
   {
    "duration": 5,
    "start_time": "2023-09-07T11:57:52.333Z"
   },
   {
    "duration": 98,
    "start_time": "2023-09-07T11:59:35.876Z"
   },
   {
    "duration": 5,
    "start_time": "2023-09-07T11:59:50.054Z"
   },
   {
    "duration": 51,
    "start_time": "2023-09-07T12:01:00.251Z"
   },
   {
    "duration": 12,
    "start_time": "2023-09-07T12:01:04.351Z"
   },
   {
    "duration": 69,
    "start_time": "2023-09-07T12:02:15.677Z"
   },
   {
    "duration": 1500,
    "start_time": "2023-09-07T12:03:45.396Z"
   },
   {
    "duration": 5,
    "start_time": "2023-09-07T12:03:55.180Z"
   },
   {
    "duration": 3,
    "start_time": "2023-09-07T12:04:23.496Z"
   },
   {
    "duration": 102,
    "start_time": "2023-09-07T12:04:23.502Z"
   },
   {
    "duration": 18,
    "start_time": "2023-09-07T12:04:23.606Z"
   },
   {
    "duration": 22,
    "start_time": "2023-09-07T12:04:23.625Z"
   },
   {
    "duration": 13,
    "start_time": "2023-09-07T12:04:23.649Z"
   },
   {
    "duration": 13,
    "start_time": "2023-09-07T12:04:30.015Z"
   },
   {
    "duration": 20,
    "start_time": "2023-09-07T12:05:57.001Z"
   },
   {
    "duration": 9,
    "start_time": "2023-09-07T12:06:11.660Z"
   },
   {
    "duration": 11,
    "start_time": "2023-09-07T12:10:52.386Z"
   },
   {
    "duration": 13,
    "start_time": "2023-09-07T12:11:05.027Z"
   },
   {
    "duration": 17,
    "start_time": "2023-09-07T12:11:20.384Z"
   },
   {
    "duration": 59,
    "start_time": "2023-09-07T12:13:06.714Z"
   },
   {
    "duration": 12,
    "start_time": "2023-09-07T12:13:11.965Z"
   },
   {
    "duration": 16,
    "start_time": "2023-09-07T12:17:44.222Z"
   },
   {
    "duration": 6,
    "start_time": "2023-09-07T12:18:28.791Z"
   },
   {
    "duration": 4,
    "start_time": "2023-09-07T12:20:36.041Z"
   },
   {
    "duration": 6,
    "start_time": "2023-09-07T12:20:51.185Z"
   },
   {
    "duration": 13,
    "start_time": "2023-09-07T12:24:41.848Z"
   },
   {
    "duration": 7,
    "start_time": "2023-09-07T12:24:48.699Z"
   },
   {
    "duration": 5,
    "start_time": "2023-09-07T12:26:53.331Z"
   },
   {
    "duration": 6,
    "start_time": "2023-09-07T12:41:24.212Z"
   },
   {
    "duration": 7,
    "start_time": "2023-09-07T12:41:41.162Z"
   },
   {
    "duration": 6,
    "start_time": "2023-09-07T12:42:02.394Z"
   },
   {
    "duration": 3,
    "start_time": "2023-09-07T12:43:15.999Z"
   },
   {
    "duration": 118,
    "start_time": "2023-09-07T12:43:16.005Z"
   },
   {
    "duration": 20,
    "start_time": "2023-09-07T12:43:16.125Z"
   },
   {
    "duration": 81,
    "start_time": "2023-09-07T12:43:16.147Z"
   },
   {
    "duration": 45,
    "start_time": "2023-09-07T12:43:16.232Z"
   },
   {
    "duration": 153,
    "start_time": "2023-09-07T12:43:16.278Z"
   },
   {
    "duration": 4,
    "start_time": "2023-09-07T12:43:16.433Z"
   },
   {
    "duration": 16,
    "start_time": "2023-09-07T12:43:16.439Z"
   },
   {
    "duration": 5,
    "start_time": "2023-09-07T12:43:22.093Z"
   },
   {
    "duration": 148,
    "start_time": "2023-09-07T12:43:53.147Z"
   },
   {
    "duration": 6,
    "start_time": "2023-09-07T12:43:59.536Z"
   },
   {
    "duration": 5,
    "start_time": "2023-09-07T12:44:44.145Z"
   },
   {
    "duration": 43,
    "start_time": "2023-09-07T13:42:54.990Z"
   },
   {
    "duration": 7,
    "start_time": "2023-09-07T13:43:43.544Z"
   },
   {
    "duration": 6,
    "start_time": "2023-09-07T13:43:52.535Z"
   },
   {
    "duration": 8,
    "start_time": "2023-09-07T13:44:25.019Z"
   },
   {
    "duration": 4,
    "start_time": "2023-09-07T13:46:14.429Z"
   },
   {
    "duration": 14,
    "start_time": "2023-09-07T13:46:29.270Z"
   },
   {
    "duration": 4,
    "start_time": "2023-09-07T13:46:36.348Z"
   },
   {
    "duration": 12,
    "start_time": "2023-09-07T13:48:15.212Z"
   },
   {
    "duration": 22,
    "start_time": "2023-09-07T13:49:28.134Z"
   },
   {
    "duration": 22,
    "start_time": "2023-09-07T13:51:37.737Z"
   },
   {
    "duration": 3,
    "start_time": "2023-09-07T13:51:56.614Z"
   },
   {
    "duration": 107,
    "start_time": "2023-09-07T13:51:56.619Z"
   },
   {
    "duration": 19,
    "start_time": "2023-09-07T13:51:56.729Z"
   },
   {
    "duration": 34,
    "start_time": "2023-09-07T13:51:56.750Z"
   },
   {
    "duration": 23,
    "start_time": "2023-09-07T13:51:56.786Z"
   },
   {
    "duration": 66,
    "start_time": "2023-09-07T13:51:56.811Z"
   },
   {
    "duration": 5,
    "start_time": "2023-09-07T13:51:56.880Z"
   },
   {
    "duration": 37,
    "start_time": "2023-09-07T13:51:56.887Z"
   },
   {
    "duration": 12,
    "start_time": "2023-09-07T13:51:56.927Z"
   },
   {
    "duration": 18,
    "start_time": "2023-09-07T13:51:56.942Z"
   },
   {
    "duration": 21,
    "start_time": "2023-09-07T13:51:56.964Z"
   },
   {
    "duration": 67,
    "start_time": "2023-09-07T13:51:56.988Z"
   },
   {
    "duration": 9,
    "start_time": "2023-09-07T13:51:57.058Z"
   },
   {
    "duration": 20,
    "start_time": "2023-09-07T13:51:57.069Z"
   },
   {
    "duration": 11,
    "start_time": "2023-09-07T13:52:50.536Z"
   },
   {
    "duration": 6,
    "start_time": "2023-09-07T13:53:42.391Z"
   },
   {
    "duration": 4,
    "start_time": "2023-09-07T13:53:54.429Z"
   },
   {
    "duration": 11,
    "start_time": "2023-09-07T13:54:50.426Z"
   },
   {
    "duration": 31,
    "start_time": "2023-09-07T13:55:42.799Z"
   },
   {
    "duration": 21,
    "start_time": "2023-09-07T13:55:54.300Z"
   },
   {
    "duration": 22,
    "start_time": "2023-09-07T13:55:57.300Z"
   },
   {
    "duration": 13,
    "start_time": "2023-09-07T13:55:59.999Z"
   },
   {
    "duration": 23,
    "start_time": "2023-09-07T13:56:02.893Z"
   },
   {
    "duration": 22,
    "start_time": "2023-09-07T13:56:05.531Z"
   },
   {
    "duration": 44,
    "start_time": "2023-09-07T13:56:29.743Z"
   },
   {
    "duration": 5,
    "start_time": "2023-09-07T13:56:29.789Z"
   },
   {
    "duration": 5,
    "start_time": "2023-09-07T13:56:29.796Z"
   },
   {
    "duration": 13,
    "start_time": "2023-09-07T13:56:29.803Z"
   },
   {
    "duration": 22,
    "start_time": "2023-09-07T13:56:29.818Z"
   },
   {
    "duration": 42,
    "start_time": "2023-09-07T13:56:29.842Z"
   },
   {
    "duration": 3,
    "start_time": "2023-09-07T13:56:29.886Z"
   },
   {
    "duration": 4,
    "start_time": "2023-09-07T13:56:29.891Z"
   },
   {
    "duration": 5,
    "start_time": "2023-09-07T13:56:29.897Z"
   },
   {
    "duration": 7,
    "start_time": "2023-09-07T13:56:29.904Z"
   },
   {
    "duration": 5,
    "start_time": "2023-09-07T13:56:29.913Z"
   },
   {
    "duration": 33,
    "start_time": "2023-09-07T13:57:07.207Z"
   },
   {
    "duration": 2,
    "start_time": "2023-09-07T13:57:33.401Z"
   },
   {
    "duration": 103,
    "start_time": "2023-09-07T13:57:33.405Z"
   },
   {
    "duration": 19,
    "start_time": "2023-09-07T13:57:33.511Z"
   },
   {
    "duration": 23,
    "start_time": "2023-09-07T13:57:33.533Z"
   },
   {
    "duration": 30,
    "start_time": "2023-09-07T13:57:33.558Z"
   },
   {
    "duration": 45,
    "start_time": "2023-09-07T13:57:33.590Z"
   },
   {
    "duration": 5,
    "start_time": "2023-09-07T13:57:33.637Z"
   },
   {
    "duration": 18,
    "start_time": "2023-09-07T13:57:33.644Z"
   },
   {
    "duration": 6,
    "start_time": "2023-09-07T13:57:33.680Z"
   },
   {
    "duration": 12,
    "start_time": "2023-09-07T13:57:33.688Z"
   },
   {
    "duration": 16,
    "start_time": "2023-09-07T13:57:33.702Z"
   },
   {
    "duration": 49,
    "start_time": "2023-09-07T13:57:33.720Z"
   },
   {
    "duration": 14,
    "start_time": "2023-09-07T13:57:33.772Z"
   },
   {
    "duration": 4,
    "start_time": "2023-09-07T13:57:48.940Z"
   },
   {
    "duration": 32,
    "start_time": "2023-09-07T13:57:52.122Z"
   },
   {
    "duration": 20,
    "start_time": "2023-09-07T13:57:59.094Z"
   },
   {
    "duration": 15,
    "start_time": "2023-09-07T13:58:23.693Z"
   },
   {
    "duration": 4,
    "start_time": "2023-09-07T14:09:54.203Z"
   },
   {
    "duration": 379,
    "start_time": "2023-09-07T14:10:17.095Z"
   },
   {
    "duration": 33,
    "start_time": "2023-09-07T14:11:11.132Z"
   },
   {
    "duration": 21,
    "start_time": "2023-09-07T14:11:37.236Z"
   },
   {
    "duration": 26,
    "start_time": "2023-09-07T14:11:56.307Z"
   },
   {
    "duration": 5,
    "start_time": "2023-09-07T14:12:35.568Z"
   },
   {
    "duration": 4,
    "start_time": "2023-09-07T14:14:33.008Z"
   },
   {
    "duration": 472,
    "start_time": "2023-09-07T14:14:36.980Z"
   },
   {
    "duration": 3,
    "start_time": "2023-09-07T14:14:55.628Z"
   },
   {
    "duration": 497,
    "start_time": "2023-09-07T14:14:59.034Z"
   },
   {
    "duration": 4,
    "start_time": "2023-09-07T14:15:10.049Z"
   },
   {
    "duration": 14,
    "start_time": "2023-09-07T14:15:13.695Z"
   },
   {
    "duration": 40,
    "start_time": "2023-09-07T14:15:44.021Z"
   },
   {
    "duration": 6,
    "start_time": "2023-09-07T14:25:22.738Z"
   },
   {
    "duration": 16,
    "start_time": "2023-09-07T14:27:32.259Z"
   },
   {
    "duration": 10,
    "start_time": "2023-09-07T14:30:23.010Z"
   },
   {
    "duration": 6,
    "start_time": "2023-09-07T14:30:39.605Z"
   },
   {
    "duration": 136,
    "start_time": "2023-09-07T14:38:18.721Z"
   },
   {
    "duration": 6,
    "start_time": "2023-09-07T14:38:31.703Z"
   },
   {
    "duration": 5,
    "start_time": "2023-09-07T14:50:56.346Z"
   },
   {
    "duration": 27,
    "start_time": "2023-09-07T14:50:59.641Z"
   },
   {
    "duration": 386,
    "start_time": "2023-09-10T18:07:17.349Z"
   },
   {
    "duration": 333,
    "start_time": "2023-09-10T18:07:18.924Z"
   },
   {
    "duration": 24,
    "start_time": "2023-09-10T18:07:21.057Z"
   },
   {
    "duration": 17,
    "start_time": "2023-09-10T18:07:26.512Z"
   },
   {
    "duration": 12,
    "start_time": "2023-09-10T18:07:32.060Z"
   },
   {
    "duration": 761,
    "start_time": "2023-09-13T10:08:14.804Z"
   },
   {
    "duration": 26,
    "start_time": "2023-09-13T10:08:15.567Z"
   },
   {
    "duration": 25,
    "start_time": "2023-09-13T10:08:15.594Z"
   },
   {
    "duration": 11,
    "start_time": "2023-09-13T10:08:15.621Z"
   },
   {
    "duration": 43,
    "start_time": "2023-09-13T10:08:15.634Z"
   },
   {
    "duration": 31,
    "start_time": "2023-09-13T10:08:15.679Z"
   },
   {
    "duration": 10,
    "start_time": "2023-09-13T10:08:15.712Z"
   },
   {
    "duration": 5,
    "start_time": "2023-09-13T10:08:15.723Z"
   },
   {
    "duration": 12,
    "start_time": "2023-09-13T10:08:15.729Z"
   },
   {
    "duration": 5,
    "start_time": "2023-09-13T10:08:15.744Z"
   },
   {
    "duration": 72,
    "start_time": "2023-09-13T10:08:15.751Z"
   },
   {
    "duration": 4,
    "start_time": "2023-09-13T10:08:15.825Z"
   },
   {
    "duration": 6,
    "start_time": "2023-09-13T10:08:15.831Z"
   },
   {
    "duration": 12,
    "start_time": "2023-09-13T10:08:15.839Z"
   },
   {
    "duration": 21,
    "start_time": "2023-09-13T10:08:15.853Z"
   },
   {
    "duration": 46,
    "start_time": "2023-09-13T10:08:15.876Z"
   },
   {
    "duration": 4,
    "start_time": "2023-09-13T10:08:15.923Z"
   },
   {
    "duration": 16,
    "start_time": "2023-09-13T10:08:15.928Z"
   },
   {
    "duration": 11,
    "start_time": "2023-09-13T10:08:15.946Z"
   },
   {
    "duration": 4,
    "start_time": "2023-09-13T10:08:15.958Z"
   },
   {
    "duration": 19,
    "start_time": "2023-09-13T10:08:15.964Z"
   },
   {
    "duration": 29,
    "start_time": "2023-09-13T10:08:15.985Z"
   },
   {
    "duration": 9,
    "start_time": "2023-09-13T10:08:16.015Z"
   },
   {
    "duration": 21,
    "start_time": "2023-09-13T10:08:16.026Z"
   },
   {
    "duration": 13,
    "start_time": "2023-09-13T10:08:16.048Z"
   },
   {
    "duration": 52,
    "start_time": "2023-09-13T10:08:16.063Z"
   },
   {
    "duration": 456,
    "start_time": "2023-09-13T10:23:51.159Z"
   },
   {
    "duration": 22,
    "start_time": "2023-09-13T10:23:51.617Z"
   },
   {
    "duration": 60,
    "start_time": "2023-09-13T10:23:51.641Z"
   },
   {
    "duration": 30,
    "start_time": "2023-09-13T10:23:51.704Z"
   },
   {
    "duration": 93,
    "start_time": "2023-09-13T10:23:51.736Z"
   },
   {
    "duration": 20,
    "start_time": "2023-09-13T10:23:51.831Z"
   },
   {
    "duration": 75,
    "start_time": "2023-09-13T10:23:51.853Z"
   },
   {
    "duration": 54,
    "start_time": "2023-09-13T10:23:51.930Z"
   },
   {
    "duration": 64,
    "start_time": "2023-09-13T10:23:51.986Z"
   },
   {
    "duration": 55,
    "start_time": "2023-09-13T10:23:52.054Z"
   },
   {
    "duration": 70,
    "start_time": "2023-09-13T10:23:52.111Z"
   },
   {
    "duration": 22,
    "start_time": "2023-09-13T10:23:52.183Z"
   },
   {
    "duration": 35,
    "start_time": "2023-09-13T10:23:52.207Z"
   },
   {
    "duration": 65,
    "start_time": "2023-09-13T10:23:52.244Z"
   },
   {
    "duration": 67,
    "start_time": "2023-09-13T10:23:52.311Z"
   },
   {
    "duration": 52,
    "start_time": "2023-09-13T10:23:52.380Z"
   },
   {
    "duration": 18,
    "start_time": "2023-09-13T10:23:52.435Z"
   },
   {
    "duration": 31,
    "start_time": "2023-09-13T10:23:52.455Z"
   },
   {
    "duration": 81,
    "start_time": "2023-09-13T10:23:52.489Z"
   },
   {
    "duration": 45,
    "start_time": "2023-09-13T10:23:52.572Z"
   },
   {
    "duration": 75,
    "start_time": "2023-09-13T10:23:52.618Z"
   },
   {
    "duration": 52,
    "start_time": "2023-09-13T10:23:52.695Z"
   },
   {
    "duration": 36,
    "start_time": "2023-09-13T10:23:52.750Z"
   },
   {
    "duration": 56,
    "start_time": "2023-09-13T10:23:52.788Z"
   },
   {
    "duration": 36,
    "start_time": "2023-09-13T10:23:52.846Z"
   },
   {
    "duration": 37,
    "start_time": "2023-09-13T10:23:52.884Z"
   },
   {
    "duration": 549,
    "start_time": "2023-09-13T10:29:51.314Z"
   },
   {
    "duration": 24,
    "start_time": "2023-09-13T10:29:51.865Z"
   },
   {
    "duration": 29,
    "start_time": "2023-09-13T10:29:51.892Z"
   },
   {
    "duration": 32,
    "start_time": "2023-09-13T10:29:51.925Z"
   },
   {
    "duration": 58,
    "start_time": "2023-09-13T10:29:51.959Z"
   },
   {
    "duration": 4,
    "start_time": "2023-09-13T10:29:52.019Z"
   },
   {
    "duration": 20,
    "start_time": "2023-09-13T10:29:52.024Z"
   },
   {
    "duration": 9,
    "start_time": "2023-09-13T10:29:52.046Z"
   },
   {
    "duration": 14,
    "start_time": "2023-09-13T10:29:52.056Z"
   },
   {
    "duration": 18,
    "start_time": "2023-09-13T10:29:52.074Z"
   },
   {
    "duration": 65,
    "start_time": "2023-09-13T10:29:52.094Z"
   },
   {
    "duration": 4,
    "start_time": "2023-09-13T10:29:52.161Z"
   },
   {
    "duration": 20,
    "start_time": "2023-09-13T10:29:52.167Z"
   },
   {
    "duration": 35,
    "start_time": "2023-09-13T10:29:52.189Z"
   },
   {
    "duration": 52,
    "start_time": "2023-09-13T10:29:52.226Z"
   },
   {
    "duration": 35,
    "start_time": "2023-09-13T10:29:52.280Z"
   },
   {
    "duration": 4,
    "start_time": "2023-09-13T10:29:52.317Z"
   },
   {
    "duration": 17,
    "start_time": "2023-09-13T10:29:52.323Z"
   },
   {
    "duration": 65,
    "start_time": "2023-09-13T10:29:52.342Z"
   },
   {
    "duration": 14,
    "start_time": "2023-09-13T10:29:52.409Z"
   },
   {
    "duration": 35,
    "start_time": "2023-09-13T10:29:52.426Z"
   },
   {
    "duration": 18,
    "start_time": "2023-09-13T10:29:52.463Z"
   },
   {
    "duration": 13,
    "start_time": "2023-09-13T10:29:52.483Z"
   },
   {
    "duration": 34,
    "start_time": "2023-09-13T10:29:52.498Z"
   },
   {
    "duration": 17,
    "start_time": "2023-09-13T10:29:52.534Z"
   },
   {
    "duration": 30,
    "start_time": "2023-09-13T10:29:52.553Z"
   },
   {
    "duration": 770,
    "start_time": "2023-09-13T14:02:57.397Z"
   },
   {
    "duration": 23,
    "start_time": "2023-09-13T14:02:58.169Z"
   },
   {
    "duration": 24,
    "start_time": "2023-09-13T14:02:58.195Z"
   },
   {
    "duration": 22,
    "start_time": "2023-09-13T14:02:58.222Z"
   },
   {
    "duration": 45,
    "start_time": "2023-09-13T14:02:58.245Z"
   },
   {
    "duration": 3,
    "start_time": "2023-09-13T14:02:58.292Z"
   },
   {
    "duration": 28,
    "start_time": "2023-09-13T14:02:58.296Z"
   },
   {
    "duration": 4,
    "start_time": "2023-09-13T14:02:58.326Z"
   },
   {
    "duration": 16,
    "start_time": "2023-09-13T14:02:58.331Z"
   },
   {
    "duration": 5,
    "start_time": "2023-09-13T14:02:58.350Z"
   },
   {
    "duration": 51,
    "start_time": "2023-09-13T14:02:58.357Z"
   },
   {
    "duration": 5,
    "start_time": "2023-09-13T14:02:58.410Z"
   },
   {
    "duration": 4,
    "start_time": "2023-09-13T14:02:58.417Z"
   },
   {
    "duration": 36,
    "start_time": "2023-09-13T14:02:58.423Z"
   },
   {
    "duration": 39,
    "start_time": "2023-09-13T14:02:58.461Z"
   },
   {
    "duration": 31,
    "start_time": "2023-09-13T14:02:58.502Z"
   },
   {
    "duration": 8,
    "start_time": "2023-09-13T14:02:58.535Z"
   },
   {
    "duration": 10,
    "start_time": "2023-09-13T14:02:58.545Z"
   },
   {
    "duration": 28,
    "start_time": "2023-09-13T14:02:58.556Z"
   },
   {
    "duration": 13,
    "start_time": "2023-09-13T14:02:58.585Z"
   },
   {
    "duration": 21,
    "start_time": "2023-09-13T14:02:58.600Z"
   },
   {
    "duration": 21,
    "start_time": "2023-09-13T14:02:58.623Z"
   },
   {
    "duration": 15,
    "start_time": "2023-09-13T14:02:58.645Z"
   },
   {
    "duration": 8,
    "start_time": "2023-09-13T14:02:58.662Z"
   },
   {
    "duration": 27,
    "start_time": "2023-09-13T14:02:58.672Z"
   },
   {
    "duration": 12,
    "start_time": "2023-09-13T14:02:58.701Z"
   },
   {
    "duration": 17,
    "start_time": "2023-09-13T14:02:58.744Z"
   },
   {
    "duration": 13,
    "start_time": "2023-09-13T14:03:27.668Z"
   }
  ],
  "colab": {
   "provenance": []
  },
  "kernelspec": {
   "display_name": "Python 3 (ipykernel)",
   "language": "python",
   "name": "python3"
  },
  "language_info": {
   "codemirror_mode": {
    "name": "ipython",
    "version": 3
   },
   "file_extension": ".py",
   "mimetype": "text/x-python",
   "name": "python",
   "nbconvert_exporter": "python",
   "pygments_lexer": "ipython3",
   "version": "3.9.5"
  },
  "toc": {
   "base_numbering": 1,
   "nav_menu": {},
   "number_sections": true,
   "sideBar": true,
   "skip_h1_title": true,
   "title_cell": "Содержание",
   "title_sidebar": "Содержание",
   "toc_cell": false,
   "toc_position": {
    "height": "calc(100% - 180px)",
    "left": "10px",
    "top": "150px",
    "width": "356.391px"
   },
   "toc_section_display": true,
   "toc_window_display": false
  }
 },
 "nbformat": 4,
 "nbformat_minor": 5
}
